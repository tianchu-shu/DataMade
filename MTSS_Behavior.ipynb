{
  "nbformat": 4,
  "nbformat_minor": 0,
  "metadata": {
    "colab": {
      "name": "MTSS Behavior.ipynb",
      "provenance": [],
      "collapsed_sections": []
    },
    "kernelspec": {
      "name": "python3",
      "display_name": "Python 3"
    },
    "accelerator": "GPU"
  },
  "cells": [
    {
      "cell_type": "code",
      "metadata": {
        "id": "pIOhTIsLjXV8",
        "colab": {
          "base_uri": "https://localhost:8080/",
          "height": 34
        },
        "outputId": "7b9589fb-e225-4bd2-86f2-ba9c6c6a9eed"
      },
      "source": [
        "from google.colab import auth\n",
        "auth.authenticate_user()\n",
        "print('Authenticated')"
      ],
      "execution_count": null,
      "outputs": [
        {
          "output_type": "stream",
          "text": [
            "Authenticated\n"
          ],
          "name": "stdout"
        }
      ]
    },
    {
      "cell_type": "code",
      "metadata": {
        "id": "NiNUMYIrjk5D"
      },
      "source": [
        "# Save output in a variable `df`\n",
        "\n",
        "%%bigquery --project ds-student-data df\n",
        "SELECT \n",
        "LastName,\n",
        "FirstName,\n",
        "Grade,\n",
        "InitiatedBy,\n",
        "DateIssued,\n",
        "IncidentType, \n",
        "Location, \n",
        "Consequence,\n",
        "ReviewedBy,\n",
        "UnexcusedAbsence,\n",
        "StudentID\n",
        "FROM `ds-student-data.DistinctiveMTSS.DeansListIncidents`"
      ],
      "execution_count": null,
      "outputs": []
    },
    {
      "cell_type": "code",
      "metadata": {
        "id": "Avg6zBuuJQFY",
        "colab": {
          "base_uri": "https://localhost:8080/",
          "height": 589
        },
        "outputId": "75a981e9-f567-4255-fea9-4c3920149644"
      },
      "source": [
        "df.head(100)"
      ],
      "execution_count": null,
      "outputs": [
        {
          "output_type": "execute_result",
          "data": {
            "text/html": [
              "<div>\n",
              "<style scoped>\n",
              "    .dataframe tbody tr th:only-of-type {\n",
              "        vertical-align: middle;\n",
              "    }\n",
              "\n",
              "    .dataframe tbody tr th {\n",
              "        vertical-align: top;\n",
              "    }\n",
              "\n",
              "    .dataframe thead th {\n",
              "        text-align: right;\n",
              "    }\n",
              "</style>\n",
              "<table border=\"1\" class=\"dataframe\">\n",
              "  <thead>\n",
              "    <tr style=\"text-align: right;\">\n",
              "      <th></th>\n",
              "      <th>LastName</th>\n",
              "      <th>FirstName</th>\n",
              "      <th>Grade</th>\n",
              "      <th>InitiatedBy</th>\n",
              "      <th>DateIssued</th>\n",
              "      <th>IncidentType</th>\n",
              "      <th>Location</th>\n",
              "      <th>Consequence</th>\n",
              "      <th>ReviewedBy</th>\n",
              "      <th>UnexcusedAbsence</th>\n",
              "      <th>StudentID</th>\n",
              "    </tr>\n",
              "  </thead>\n",
              "  <tbody>\n",
              "    <tr>\n",
              "      <th>0</th>\n",
              "      <td>Rudd</td>\n",
              "      <td>Trinity</td>\n",
              "      <td>7th</td>\n",
              "      <td>Ms. Kahn</td>\n",
              "      <td>9/24/2019 12:47</td>\n",
              "      <td>Cat 2 - Failing to comply with school imposed ...</td>\n",
              "      <td>Classroom</td>\n",
              "      <td>None</td>\n",
              "      <td>None</td>\n",
              "      <td>10</td>\n",
              "      <td>50515081</td>\n",
              "    </tr>\n",
              "    <tr>\n",
              "      <th>1</th>\n",
              "      <td>Rudd</td>\n",
              "      <td>Trene</td>\n",
              "      <td>6th</td>\n",
              "      <td>Ms. Krier</td>\n",
              "      <td>10/3/2019 8:00</td>\n",
              "      <td>None</td>\n",
              "      <td>None</td>\n",
              "      <td>None</td>\n",
              "      <td>None</td>\n",
              "      <td>10</td>\n",
              "      <td>50515079</td>\n",
              "    </tr>\n",
              "    <tr>\n",
              "      <th>2</th>\n",
              "      <td>Rudd</td>\n",
              "      <td>Trene</td>\n",
              "      <td>6th</td>\n",
              "      <td>Mrs. Feder</td>\n",
              "      <td>10/1/2019 12:30</td>\n",
              "      <td>None</td>\n",
              "      <td>Recess</td>\n",
              "      <td>None</td>\n",
              "      <td>None</td>\n",
              "      <td>10</td>\n",
              "      <td>50515079</td>\n",
              "    </tr>\n",
              "    <tr>\n",
              "      <th>3</th>\n",
              "      <td>Lara</td>\n",
              "      <td>Breanna</td>\n",
              "      <td>2nd</td>\n",
              "      <td>Ms. Barrera</td>\n",
              "      <td>10/1/2019 11:30</td>\n",
              "      <td>Cat 3 - Other</td>\n",
              "      <td>Other</td>\n",
              "      <td>None</td>\n",
              "      <td>None</td>\n",
              "      <td>None</td>\n",
              "      <td>60024765</td>\n",
              "    </tr>\n",
              "    <tr>\n",
              "      <th>4</th>\n",
              "      <td>Rudd</td>\n",
              "      <td>Trene</td>\n",
              "      <td>6th</td>\n",
              "      <td>Ms. Barrera</td>\n",
              "      <td>9/23/2019 14:00</td>\n",
              "      <td>Cat 2 - Bullying: threatening and or intimidat...</td>\n",
              "      <td>Other</td>\n",
              "      <td>None</td>\n",
              "      <td>None</td>\n",
              "      <td>10</td>\n",
              "      <td>50515079</td>\n",
              "    </tr>\n",
              "    <tr>\n",
              "      <th>...</th>\n",
              "      <td>...</td>\n",
              "      <td>...</td>\n",
              "      <td>...</td>\n",
              "      <td>...</td>\n",
              "      <td>...</td>\n",
              "      <td>...</td>\n",
              "      <td>...</td>\n",
              "      <td>...</td>\n",
              "      <td>...</td>\n",
              "      <td>...</td>\n",
              "      <td>...</td>\n",
              "    </tr>\n",
              "    <tr>\n",
              "      <th>95</th>\n",
              "      <td>Cruz</td>\n",
              "      <td>Eyin David</td>\n",
              "      <td>K</td>\n",
              "      <td>Ms. Aviles</td>\n",
              "      <td>10/28/2019 17:30</td>\n",
              "      <td>Cat 2 - Leaving the classroom without permission</td>\n",
              "      <td>Classroom - Enrichment</td>\n",
              "      <td>None</td>\n",
              "      <td>None</td>\n",
              "      <td>1</td>\n",
              "      <td>50557413</td>\n",
              "    </tr>\n",
              "    <tr>\n",
              "      <th>96</th>\n",
              "      <td>Cruz</td>\n",
              "      <td>Eyin David</td>\n",
              "      <td>K</td>\n",
              "      <td>Mr. Kliebert</td>\n",
              "      <td>10/22/2019 10:02</td>\n",
              "      <td>Cat 2 - Other</td>\n",
              "      <td>None</td>\n",
              "      <td>None</td>\n",
              "      <td>None</td>\n",
              "      <td>1</td>\n",
              "      <td>50557413</td>\n",
              "    </tr>\n",
              "    <tr>\n",
              "      <th>97</th>\n",
              "      <td>Cruz</td>\n",
              "      <td>Eyin David</td>\n",
              "      <td>K</td>\n",
              "      <td>Ms. Aviles</td>\n",
              "      <td>10/18/2019 11:25</td>\n",
              "      <td>Cat 2 - Disregard for stated school rules, ins...</td>\n",
              "      <td>Classroom - Enrichment</td>\n",
              "      <td>None</td>\n",
              "      <td>None</td>\n",
              "      <td>1</td>\n",
              "      <td>50557413</td>\n",
              "    </tr>\n",
              "    <tr>\n",
              "      <th>98</th>\n",
              "      <td>Ofray</td>\n",
              "      <td>Nalani Neveah</td>\n",
              "      <td>K</td>\n",
              "      <td>Ms. Balla</td>\n",
              "      <td>10/7/2019 13:20</td>\n",
              "      <td>Cat 2 - Acts that obstruct/interrupt the instr...</td>\n",
              "      <td>Classroom</td>\n",
              "      <td>None</td>\n",
              "      <td>Mr. Weems</td>\n",
              "      <td>3</td>\n",
              "      <td>60023593</td>\n",
              "    </tr>\n",
              "    <tr>\n",
              "      <th>99</th>\n",
              "      <td>Brown</td>\n",
              "      <td>A'mariyah</td>\n",
              "      <td>K</td>\n",
              "      <td>Ms. Dajani</td>\n",
              "      <td>9/11/2019 12:18</td>\n",
              "      <td>None</td>\n",
              "      <td>Classroom</td>\n",
              "      <td>None</td>\n",
              "      <td>Mr. Weems</td>\n",
              "      <td>5</td>\n",
              "      <td>50596651</td>\n",
              "    </tr>\n",
              "  </tbody>\n",
              "</table>\n",
              "<p>100 rows × 11 columns</p>\n",
              "</div>"
            ],
            "text/plain": [
              "   LastName      FirstName Grade  ... ReviewedBy UnexcusedAbsence StudentID\n",
              "0      Rudd        Trinity   7th  ...       None               10  50515081\n",
              "1      Rudd          Trene   6th  ...       None               10  50515079\n",
              "2      Rudd          Trene   6th  ...       None               10  50515079\n",
              "3      Lara        Breanna   2nd  ...       None             None  60024765\n",
              "4      Rudd          Trene   6th  ...       None               10  50515079\n",
              "..      ...            ...   ...  ...        ...              ...       ...\n",
              "95     Cruz     Eyin David     K  ...       None                1  50557413\n",
              "96     Cruz     Eyin David     K  ...       None                1  50557413\n",
              "97     Cruz     Eyin David     K  ...       None                1  50557413\n",
              "98    Ofray  Nalani Neveah     K  ...  Mr. Weems                3  60023593\n",
              "99    Brown      A'mariyah     K  ...  Mr. Weems                5  50596651\n",
              "\n",
              "[100 rows x 11 columns]"
            ]
          },
          "metadata": {
            "tags": []
          },
          "execution_count": 6
        }
      ]
    },
    {
      "cell_type": "code",
      "metadata": {
        "id": "CG2eMnfQUdav"
      },
      "source": [
        "import pandas as pd\n",
        "import matplotlib.pyplot as plt\n",
        "import graphviz\n",
        "import seaborn as sns; sns.set()"
      ],
      "execution_count": null,
      "outputs": []
    },
    {
      "cell_type": "code",
      "metadata": {
        "id": "yr6szMMnBtSJ"
      },
      "source": [
        "#Convert Pandas Column to DateTime\n",
        "df['DateIssued'] =  pd.to_datetime(df['DateIssued'], infer_datetime_format=True)"
      ],
      "execution_count": null,
      "outputs": []
    },
    {
      "cell_type": "code",
      "metadata": {
        "id": "BTUg0sl_j4pF",
        "colab": {
          "base_uri": "https://localhost:8080/",
          "height": 221
        },
        "outputId": "511abdea-e983-4b76-869f-b903bef04a0e"
      },
      "source": [
        " df.DateIssued.astype"
      ],
      "execution_count": null,
      "outputs": [
        {
          "output_type": "execute_result",
          "data": {
            "text/plain": [
              "<bound method NDFrame.astype of 0      2019-09-24 12:47:00\n",
              "1      2019-10-03 08:00:00\n",
              "2      2019-10-01 12:30:00\n",
              "3      2019-10-01 11:30:00\n",
              "4      2019-09-23 14:00:00\n",
              "               ...        \n",
              "5689   2019-10-07 08:54:00\n",
              "5690   2019-10-23 07:24:00\n",
              "5691   2019-10-16 17:57:00\n",
              "5692   2019-10-28 10:48:00\n",
              "5693   2019-09-23 11:53:00\n",
              "Name: DateIssued, Length: 5694, dtype: datetime64[ns]>"
            ]
          },
          "metadata": {
            "tags": []
          },
          "execution_count": 9
        }
      ]
    },
    {
      "cell_type": "code",
      "metadata": {
        "id": "3_l_XEahUcKs",
        "colab": {
          "base_uri": "https://localhost:8080/",
          "height": 34
        },
        "outputId": "a834689b-d7fd-4d5c-b9f1-3b21e83f23b7"
      },
      "source": [
        "df['StudentID'].nunique()"
      ],
      "execution_count": null,
      "outputs": [
        {
          "output_type": "execute_result",
          "data": {
            "text/plain": [
              "1091"
            ]
          },
          "metadata": {
            "tags": []
          },
          "execution_count": 10
        }
      ]
    },
    {
      "cell_type": "code",
      "metadata": {
        "id": "AyJQCC5OUpe2"
      },
      "source": [
        "def plot_df(df, columns, save=False):\n",
        "    for col in columns:\n",
        "        count_column = df[col].value_counts()[:10]\n",
        "        plt.figure(figsize=(len(count_column), 5))\n",
        "        column_figure = sns.barplot(count_column.index, count_column.values, alpha=0.8)\n",
        "        plt.title('{} values'.format(col))\n",
        "        plt.ylabel('Number of Counts', fontsize=12)\n",
        "        plt.xlabel(col, fontsize=12) \n",
        "\n",
        "        if save: \n",
        "            column_figure.figure.savefig('{}.png'.format(col))\n",
        "            print('figure is saved as a file ~.png')\n",
        "        else:\n",
        "            plt.show()\n",
        "    return None"
      ],
      "execution_count": null,
      "outputs": []
    },
    {
      "cell_type": "code",
      "metadata": {
        "id": "punIybyiWC94"
      },
      "source": [
        "col = ['Grade', 'InitiatedBy',  'Location', 'Consequence','UnexcusedAbsence']"
      ],
      "execution_count": null,
      "outputs": []
    },
    {
      "cell_type": "code",
      "metadata": {
        "id": "pQ9F28B7V_sH",
        "colab": {
          "base_uri": "https://localhost:8080/",
          "height": 1000
        },
        "outputId": "0f11803a-083f-4712-8347-1ccfb489b831"
      },
      "source": [
        "plot_df(df, col)"
      ],
      "execution_count": null,
      "outputs": [
        {
          "output_type": "display_data",
          "data": {
            "image/png": "[encoded data removed]",
            "text/plain": [
              "<Figure size 648x360 with 1 Axes>"
            ]
          },
          "metadata": {
            "tags": []
          }
        },
        {
          "output_type": "display_data",
          "data": {
            "image/png": "[encoded data removed]",
            "text/plain": [
              "<Figure size 720x360 with 1 Axes>"
            ]
          },
          "metadata": {
            "tags": []
          }
        },
        {
          "output_type": "display_data",
          "data": {
            "image/png": "[encoded data removed]",
            "text/plain": [
              "<Figure size 720x360 with 1 Axes>"
            ]
          },
          "metadata": {
            "tags": []
          }
        },
        {
          "output_type": "display_data",
          "data": {
            "image/png": "[encoded data removed]",
            "text/plain": [
              "<Figure size 720x360 with 1 Axes>"
            ]
          },
          "metadata": {
            "tags": []
          }
        },
        {
          "output_type": "display_data",
          "data": {
            "image/png": "[encoded data removed]",
            "text/plain": [
              "<Figure size 720x360 with 1 Axes>"
            ]
          },
          "metadata": {
            "tags": []
          }
        }
      ]
    },
    {
      "cell_type": "code",
      "metadata": {
        "id": "FIxRWgM3WH8C",
        "colab": {
          "base_uri": "https://localhost:8080/",
          "height": 1000
        },
        "outputId": "77a2b992-d181-4691-a11e-f09df84a519b"
      },
      "source": [
        "df.tail(20)"
      ],
      "execution_count": null,
      "outputs": [
        {
          "output_type": "execute_result",
          "data": {
            "text/html": [
              "<div>\n",
              "<style scoped>\n",
              "    .dataframe tbody tr th:only-of-type {\n",
              "        vertical-align: middle;\n",
              "    }\n",
              "\n",
              "    .dataframe tbody tr th {\n",
              "        vertical-align: top;\n",
              "    }\n",
              "\n",
              "    .dataframe thead th {\n",
              "        text-align: right;\n",
              "    }\n",
              "</style>\n",
              "<table border=\"1\" class=\"dataframe\">\n",
              "  <thead>\n",
              "    <tr style=\"text-align: right;\">\n",
              "      <th></th>\n",
              "      <th>LastName</th>\n",
              "      <th>FirstName</th>\n",
              "      <th>Grade</th>\n",
              "      <th>InitiatedBy</th>\n",
              "      <th>DateIssued</th>\n",
              "      <th>IncidentType</th>\n",
              "      <th>Location</th>\n",
              "      <th>Consequence</th>\n",
              "      <th>ReviewedBy</th>\n",
              "      <th>UnexcusedAbsence</th>\n",
              "      <th>StudentID</th>\n",
              "    </tr>\n",
              "  </thead>\n",
              "  <tbody>\n",
              "    <tr>\n",
              "      <th>5674</th>\n",
              "      <td>Jones</td>\n",
              "      <td>Elijah</td>\n",
              "      <td>7th</td>\n",
              "      <td>Mr. Brinkman</td>\n",
              "      <td>2019-10-29 11:47:00</td>\n",
              "      <td>Cat 2 - Persistent tardiness to class or cutti...</td>\n",
              "      <td>Hallway</td>\n",
              "      <td>None</td>\n",
              "      <td>Mr. Avery Jr.</td>\n",
              "      <td>None</td>\n",
              "      <td>50208023</td>\n",
              "    </tr>\n",
              "    <tr>\n",
              "      <th>5675</th>\n",
              "      <td>Jones</td>\n",
              "      <td>Elijah</td>\n",
              "      <td>7th</td>\n",
              "      <td>Mr. Acevedo</td>\n",
              "      <td>2019-10-24 10:00:00</td>\n",
              "      <td>Cat 3 - Acts that endanger the safety of other...</td>\n",
              "      <td>Hallway</td>\n",
              "      <td>None</td>\n",
              "      <td>Mr. Avery Jr.</td>\n",
              "      <td>None</td>\n",
              "      <td>50208023</td>\n",
              "    </tr>\n",
              "    <tr>\n",
              "      <th>5676</th>\n",
              "      <td>Jones</td>\n",
              "      <td>Elijah</td>\n",
              "      <td>7th</td>\n",
              "      <td>Mr. Reyna</td>\n",
              "      <td>2019-10-01 18:01:00</td>\n",
              "      <td>Cat 2 - Leaving the classroom without permission</td>\n",
              "      <td>Lunchroom</td>\n",
              "      <td>None</td>\n",
              "      <td>Mr. Avery Jr.</td>\n",
              "      <td>None</td>\n",
              "      <td>50208023</td>\n",
              "    </tr>\n",
              "    <tr>\n",
              "      <th>5677</th>\n",
              "      <td>Jones</td>\n",
              "      <td>Elijah</td>\n",
              "      <td>7th</td>\n",
              "      <td>Miss Leitsch</td>\n",
              "      <td>2019-09-25 08:30:00</td>\n",
              "      <td>Cat 2 - Play fighting</td>\n",
              "      <td>Hallway</td>\n",
              "      <td>None</td>\n",
              "      <td>Mr. Avery Jr.</td>\n",
              "      <td>None</td>\n",
              "      <td>50208023</td>\n",
              "    </tr>\n",
              "    <tr>\n",
              "      <th>5678</th>\n",
              "      <td>Jones</td>\n",
              "      <td>Elijah</td>\n",
              "      <td>7th</td>\n",
              "      <td>Mr. Bryant</td>\n",
              "      <td>2019-09-24 09:02:00</td>\n",
              "      <td>Cat 2: - Repeated failure to follow stated sch...</td>\n",
              "      <td>Hallway</td>\n",
              "      <td>None</td>\n",
              "      <td>Mr. Avery Jr.</td>\n",
              "      <td>None</td>\n",
              "      <td>50208023</td>\n",
              "    </tr>\n",
              "    <tr>\n",
              "      <th>5679</th>\n",
              "      <td>Jones</td>\n",
              "      <td>Elijah</td>\n",
              "      <td>7th</td>\n",
              "      <td>Mr. Bryant</td>\n",
              "      <td>2019-09-23 11:20:00</td>\n",
              "      <td>Cat 2 - Repeated refusal to participate in aca...</td>\n",
              "      <td>Classroom</td>\n",
              "      <td>None</td>\n",
              "      <td>Mr. Avery Jr.</td>\n",
              "      <td>None</td>\n",
              "      <td>50208023</td>\n",
              "    </tr>\n",
              "    <tr>\n",
              "      <th>5680</th>\n",
              "      <td>Jones</td>\n",
              "      <td>Elijah</td>\n",
              "      <td>7th</td>\n",
              "      <td>Mr. Bryant</td>\n",
              "      <td>2019-09-23 11:18:00</td>\n",
              "      <td>Cat 2 - Repeated refusal to participate in aca...</td>\n",
              "      <td>Classroom</td>\n",
              "      <td>None</td>\n",
              "      <td>Mr. Avery Jr.</td>\n",
              "      <td>None</td>\n",
              "      <td>50208023</td>\n",
              "    </tr>\n",
              "    <tr>\n",
              "      <th>5681</th>\n",
              "      <td>Bowman</td>\n",
              "      <td>Christian</td>\n",
              "      <td>7th</td>\n",
              "      <td>Mrs. Peralta Martinez</td>\n",
              "      <td>2019-10-28 10:48:00</td>\n",
              "      <td>Cat 2 - Acts that obstruct/interrupt the instr...</td>\n",
              "      <td>Classroom</td>\n",
              "      <td>None</td>\n",
              "      <td>Mr. Avery Jr.</td>\n",
              "      <td>None</td>\n",
              "      <td>50360128</td>\n",
              "    </tr>\n",
              "    <tr>\n",
              "      <th>5682</th>\n",
              "      <td>Bowman</td>\n",
              "      <td>Christian</td>\n",
              "      <td>7th</td>\n",
              "      <td>Mr. Brinkman</td>\n",
              "      <td>2019-10-24 12:18:00</td>\n",
              "      <td>Cat 2 - Fighting</td>\n",
              "      <td>Classroom</td>\n",
              "      <td>None</td>\n",
              "      <td>Mr. Avery Jr.</td>\n",
              "      <td>None</td>\n",
              "      <td>50360128</td>\n",
              "    </tr>\n",
              "    <tr>\n",
              "      <th>5683</th>\n",
              "      <td>Bowman</td>\n",
              "      <td>Christian</td>\n",
              "      <td>7th</td>\n",
              "      <td>Mr. Bryant</td>\n",
              "      <td>2019-10-24 11:55:00</td>\n",
              "      <td>Cat 2 - Fighting</td>\n",
              "      <td>Classroom</td>\n",
              "      <td>None</td>\n",
              "      <td>Mr. Avery Jr.</td>\n",
              "      <td>None</td>\n",
              "      <td>50360128</td>\n",
              "    </tr>\n",
              "    <tr>\n",
              "      <th>5684</th>\n",
              "      <td>Bowman</td>\n",
              "      <td>Christian</td>\n",
              "      <td>7th</td>\n",
              "      <td>Mrs. Peralta Martinez</td>\n",
              "      <td>2019-10-07 08:54:00</td>\n",
              "      <td>Cat 2 - Other</td>\n",
              "      <td>Classroom</td>\n",
              "      <td>None</td>\n",
              "      <td>Mr. Avery Jr.</td>\n",
              "      <td>None</td>\n",
              "      <td>50360128</td>\n",
              "    </tr>\n",
              "    <tr>\n",
              "      <th>5685</th>\n",
              "      <td>Bowman</td>\n",
              "      <td>Christian</td>\n",
              "      <td>7th</td>\n",
              "      <td>Mr. Bryant</td>\n",
              "      <td>2019-10-01 11:22:00</td>\n",
              "      <td>Cat 2 - Acts that obstruct/interrupt the instr...</td>\n",
              "      <td>Classroom</td>\n",
              "      <td>None</td>\n",
              "      <td>Mr. Avery Jr.</td>\n",
              "      <td>None</td>\n",
              "      <td>50360128</td>\n",
              "    </tr>\n",
              "    <tr>\n",
              "      <th>5686</th>\n",
              "      <td>Bowman</td>\n",
              "      <td>Christian</td>\n",
              "      <td>7th</td>\n",
              "      <td>Mrs. Peralta Martinez</td>\n",
              "      <td>2019-10-01 10:52:00</td>\n",
              "      <td>Cat 2 - Acts that obstruct/interrupt the instr...</td>\n",
              "      <td>Classroom</td>\n",
              "      <td>None</td>\n",
              "      <td>Mr. Avery Jr.</td>\n",
              "      <td>None</td>\n",
              "      <td>50360128</td>\n",
              "    </tr>\n",
              "    <tr>\n",
              "      <th>5687</th>\n",
              "      <td>Smith</td>\n",
              "      <td>Jalyn P</td>\n",
              "      <td>7th</td>\n",
              "      <td>Teach Hicks</td>\n",
              "      <td>2019-10-29 11:57:00</td>\n",
              "      <td>Cat 3 - Repeated Cat 1 &amp; 2</td>\n",
              "      <td>Classroom</td>\n",
              "      <td>None</td>\n",
              "      <td>Mr. Avery Jr.</td>\n",
              "      <td>None</td>\n",
              "      <td>50251714</td>\n",
              "    </tr>\n",
              "    <tr>\n",
              "      <th>5688</th>\n",
              "      <td>Smith</td>\n",
              "      <td>Jalyn P</td>\n",
              "      <td>7th</td>\n",
              "      <td>Teach Hicks</td>\n",
              "      <td>2019-10-24 11:48:00</td>\n",
              "      <td>Cat 2 - Leaving the classroom without permission</td>\n",
              "      <td>Classroom</td>\n",
              "      <td>None</td>\n",
              "      <td>Mr. Avery Jr.</td>\n",
              "      <td>None</td>\n",
              "      <td>50251714</td>\n",
              "    </tr>\n",
              "    <tr>\n",
              "      <th>5689</th>\n",
              "      <td>Smith</td>\n",
              "      <td>Jalyn P</td>\n",
              "      <td>7th</td>\n",
              "      <td>Mrs. Peralta Martinez</td>\n",
              "      <td>2019-10-07 08:54:00</td>\n",
              "      <td>Cat 2 - Acts that obstruct/interrupt the instr...</td>\n",
              "      <td>Classroom</td>\n",
              "      <td>None</td>\n",
              "      <td>Mr. Avery Jr.</td>\n",
              "      <td>None</td>\n",
              "      <td>50251714</td>\n",
              "    </tr>\n",
              "    <tr>\n",
              "      <th>5690</th>\n",
              "      <td>Johnson</td>\n",
              "      <td>Serenity</td>\n",
              "      <td>7th</td>\n",
              "      <td>Mr. Reyna</td>\n",
              "      <td>2019-10-23 07:24:00</td>\n",
              "      <td>Cat 3 - Other</td>\n",
              "      <td>Hallway</td>\n",
              "      <td>None</td>\n",
              "      <td>Mr. Avery Jr.</td>\n",
              "      <td>None</td>\n",
              "      <td>50244824</td>\n",
              "    </tr>\n",
              "    <tr>\n",
              "      <th>5691</th>\n",
              "      <td>Johnson</td>\n",
              "      <td>Serenity</td>\n",
              "      <td>7th</td>\n",
              "      <td>Mr. Reyna</td>\n",
              "      <td>2019-10-16 17:57:00</td>\n",
              "      <td>Cat 2 - Leaving the classroom without permission</td>\n",
              "      <td>Lunchroom</td>\n",
              "      <td>None</td>\n",
              "      <td>Mr. Avery Jr.</td>\n",
              "      <td>None</td>\n",
              "      <td>50244824</td>\n",
              "    </tr>\n",
              "    <tr>\n",
              "      <th>5692</th>\n",
              "      <td>Horton</td>\n",
              "      <td>Lyric</td>\n",
              "      <td>7th</td>\n",
              "      <td>Mrs. Peralta Martinez</td>\n",
              "      <td>2019-10-28 10:48:00</td>\n",
              "      <td>Cat 2 - Acts that obstruct/interrupt the instr...</td>\n",
              "      <td>Classroom</td>\n",
              "      <td>None</td>\n",
              "      <td>Mr. Avery Jr.</td>\n",
              "      <td>None</td>\n",
              "      <td>50068460</td>\n",
              "    </tr>\n",
              "    <tr>\n",
              "      <th>5693</th>\n",
              "      <td>Horton</td>\n",
              "      <td>Lyric</td>\n",
              "      <td>7th</td>\n",
              "      <td>Mrs. Peralta Martinez</td>\n",
              "      <td>2019-09-23 11:53:00</td>\n",
              "      <td>Cat 2 - Other</td>\n",
              "      <td>Hallway</td>\n",
              "      <td>None</td>\n",
              "      <td>Mr. Avery Jr.</td>\n",
              "      <td>None</td>\n",
              "      <td>50068460</td>\n",
              "    </tr>\n",
              "  </tbody>\n",
              "</table>\n",
              "</div>"
            ],
            "text/plain": [
              "     LastName  FirstName Grade  ...     ReviewedBy UnexcusedAbsence StudentID\n",
              "5674    Jones     Elijah   7th  ...  Mr. Avery Jr.             None  50208023\n",
              "5675    Jones     Elijah   7th  ...  Mr. Avery Jr.             None  50208023\n",
              "5676    Jones     Elijah   7th  ...  Mr. Avery Jr.             None  50208023\n",
              "5677    Jones     Elijah   7th  ...  Mr. Avery Jr.             None  50208023\n",
              "5678    Jones     Elijah   7th  ...  Mr. Avery Jr.             None  50208023\n",
              "5679    Jones     Elijah   7th  ...  Mr. Avery Jr.             None  50208023\n",
              "5680    Jones     Elijah   7th  ...  Mr. Avery Jr.             None  50208023\n",
              "5681   Bowman  Christian   7th  ...  Mr. Avery Jr.             None  50360128\n",
              "5682   Bowman  Christian   7th  ...  Mr. Avery Jr.             None  50360128\n",
              "5683   Bowman  Christian   7th  ...  Mr. Avery Jr.             None  50360128\n",
              "5684   Bowman  Christian   7th  ...  Mr. Avery Jr.             None  50360128\n",
              "5685   Bowman  Christian   7th  ...  Mr. Avery Jr.             None  50360128\n",
              "5686   Bowman  Christian   7th  ...  Mr. Avery Jr.             None  50360128\n",
              "5687    Smith    Jalyn P   7th  ...  Mr. Avery Jr.             None  50251714\n",
              "5688    Smith    Jalyn P   7th  ...  Mr. Avery Jr.             None  50251714\n",
              "5689    Smith    Jalyn P   7th  ...  Mr. Avery Jr.             None  50251714\n",
              "5690  Johnson   Serenity   7th  ...  Mr. Avery Jr.             None  50244824\n",
              "5691  Johnson   Serenity   7th  ...  Mr. Avery Jr.             None  50244824\n",
              "5692   Horton      Lyric   7th  ...  Mr. Avery Jr.             None  50068460\n",
              "5693   Horton      Lyric   7th  ...  Mr. Avery Jr.             None  50068460\n",
              "\n",
              "[20 rows x 11 columns]"
            ]
          },
          "metadata": {
            "tags": []
          },
          "execution_count": 14
        }
      ]
    },
    {
      "cell_type": "code",
      "metadata": {
        "id": "sqUtQ3XRmSo0"
      },
      "source": [
        "# Save output in a variable `df`\n",
        "\n",
        "%%bigquery --project ds-student-data eny\n",
        "SELECT *\n",
        "FROM `ds-student-data.DistinctiveENY.DSEnyLong2`"
      ],
      "execution_count": null,
      "outputs": []
    },
    {
      "cell_type": "code",
      "metadata": {
        "id": "HIhKyThcpZr2",
        "colab": {
          "base_uri": "https://localhost:8080/",
          "height": 34
        },
        "outputId": "c9d334ae-680e-42e6-84a1-cc18f6e24b0e"
      },
      "source": [
        "eny.shape"
      ],
      "execution_count": null,
      "outputs": [
        {
          "output_type": "execute_result",
          "data": {
            "text/plain": [
              "(30100, 11)"
            ]
          },
          "metadata": {
            "tags": []
          },
          "execution_count": 16
        }
      ]
    },
    {
      "cell_type": "code",
      "metadata": {
        "id": "jvtxrLg5nqQp",
        "colab": {
          "base_uri": "https://localhost:8080/",
          "height": 221
        },
        "outputId": "81a41d8d-65f4-46aa-cb96-2de6b2d18a5c"
      },
      "source": [
        "eny.ModuleNumber"
      ],
      "execution_count": null,
      "outputs": [
        {
          "output_type": "execute_result",
          "data": {
            "text/plain": [
              "0        Module 1\n",
              "1        Module 1\n",
              "2        Module 1\n",
              "3        Module 1\n",
              "4        Module 1\n",
              "           ...   \n",
              "30095    Module 2\n",
              "30096    Module 2\n",
              "30097    Module 2\n",
              "30098    Module 2\n",
              "30099    Module 2\n",
              "Name: ModuleNumber, Length: 30100, dtype: object"
            ]
          },
          "metadata": {
            "tags": []
          },
          "execution_count": 17
        }
      ]
    },
    {
      "cell_type": "code",
      "metadata": {
        "id": "vvxtDm9SnrrG"
      },
      "source": [
        "dy = eny[eny['ModuleNumber'] == 'Module 1']"
      ],
      "execution_count": null,
      "outputs": []
    },
    {
      "cell_type": "code",
      "metadata": {
        "id": "9_zjzEorpVRI",
        "colab": {
          "base_uri": "https://localhost:8080/",
          "height": 34
        },
        "outputId": "a10baf22-e972-4edf-9c94-f7ee72424e89"
      },
      "source": [
        "dy.shape"
      ],
      "execution_count": null,
      "outputs": [
        {
          "output_type": "execute_result",
          "data": {
            "text/plain": [
              "(15386, 11)"
            ]
          },
          "metadata": {
            "tags": []
          },
          "execution_count": 19
        }
      ]
    },
    {
      "cell_type": "code",
      "metadata": {
        "id": "_VkfkP58pYbW"
      },
      "source": [
        "dy =dy[['StudentNumber', 'AverageScore']]"
      ],
      "execution_count": null,
      "outputs": []
    },
    {
      "cell_type": "code",
      "metadata": {
        "id": "ag4QVwtsqgaG"
      },
      "source": [
        "dy =dy.drop_duplicates()"
      ],
      "execution_count": null,
      "outputs": []
    },
    {
      "cell_type": "code",
      "metadata": {
        "id": "GdutXUu0q7JN",
        "colab": {
          "base_uri": "https://localhost:8080/",
          "height": 204
        },
        "outputId": "530a622a-8687-405f-c903-10873a4e5ab1"
      },
      "source": [
        "dy.head()"
      ],
      "execution_count": null,
      "outputs": [
        {
          "output_type": "execute_result",
          "data": {
            "text/html": [
              "<div>\n",
              "<style scoped>\n",
              "    .dataframe tbody tr th:only-of-type {\n",
              "        vertical-align: middle;\n",
              "    }\n",
              "\n",
              "    .dataframe tbody tr th {\n",
              "        vertical-align: top;\n",
              "    }\n",
              "\n",
              "    .dataframe thead th {\n",
              "        text-align: right;\n",
              "    }\n",
              "</style>\n",
              "<table border=\"1\" class=\"dataframe\">\n",
              "  <thead>\n",
              "    <tr style=\"text-align: right;\">\n",
              "      <th></th>\n",
              "      <th>StudentNumber</th>\n",
              "      <th>AverageScore</th>\n",
              "    </tr>\n",
              "  </thead>\n",
              "  <tbody>\n",
              "    <tr>\n",
              "      <th>0</th>\n",
              "      <td>2019006</td>\n",
              "      <td>3.50</td>\n",
              "    </tr>\n",
              "    <tr>\n",
              "      <th>7</th>\n",
              "      <td>2019009</td>\n",
              "      <td>2.50</td>\n",
              "    </tr>\n",
              "    <tr>\n",
              "      <th>14</th>\n",
              "      <td>2019017</td>\n",
              "      <td>2.25</td>\n",
              "    </tr>\n",
              "    <tr>\n",
              "      <th>21</th>\n",
              "      <td>2019026</td>\n",
              "      <td>3.50</td>\n",
              "    </tr>\n",
              "    <tr>\n",
              "      <th>28</th>\n",
              "      <td>2019028</td>\n",
              "      <td>2.50</td>\n",
              "    </tr>\n",
              "  </tbody>\n",
              "</table>\n",
              "</div>"
            ],
            "text/plain": [
              "   StudentNumber  AverageScore\n",
              "0        2019006          3.50\n",
              "7        2019009          2.50\n",
              "14       2019017          2.25\n",
              "21       2019026          3.50\n",
              "28       2019028          2.50"
            ]
          },
          "metadata": {
            "tags": []
          },
          "execution_count": 22
        }
      ]
    },
    {
      "cell_type": "code",
      "metadata": {
        "id": "vZp49cdQU6dM"
      },
      "source": [
        "#Make the key column the same name for later join\n",
        "dy.rename(columns={'StudentNumber':'StudentID'}, inplace=True)"
      ],
      "execution_count": null,
      "outputs": []
    },
    {
      "cell_type": "code",
      "metadata": {
        "id": "M73tnLNITfbp"
      },
      "source": [
        "counts = df.groupby(\"StudentID\")[\"DateIssued\"].count()"
      ],
      "execution_count": null,
      "outputs": []
    },
    {
      "cell_type": "code",
      "metadata": {
        "id": "L6m1i6UBVp-t",
        "colab": {
          "base_uri": "https://localhost:8080/",
          "height": 68
        },
        "outputId": "c1bc4a78-0886-42e7-846d-f62000cfb7ab"
      },
      "source": [
        "dy.dtypes"
      ],
      "execution_count": null,
      "outputs": [
        {
          "output_type": "execute_result",
          "data": {
            "text/plain": [
              "StudentID        object\n",
              "AverageScore    float64\n",
              "dtype: object"
            ]
          },
          "metadata": {
            "tags": []
          },
          "execution_count": 25
        }
      ]
    },
    {
      "cell_type": "code",
      "metadata": {
        "id": "QrZAgxazca0A",
        "colab": {
          "base_uri": "https://localhost:8080/",
          "height": 419
        },
        "outputId": "2328a883-eb7f-48d1-8aa2-50d947972fbd"
      },
      "source": [
        "dy.dropna(subset=['StudentID'])"
      ],
      "execution_count": null,
      "outputs": [
        {
          "output_type": "execute_result",
          "data": {
            "text/html": [
              "<div>\n",
              "<style scoped>\n",
              "    .dataframe tbody tr th:only-of-type {\n",
              "        vertical-align: middle;\n",
              "    }\n",
              "\n",
              "    .dataframe tbody tr th {\n",
              "        vertical-align: top;\n",
              "    }\n",
              "\n",
              "    .dataframe thead th {\n",
              "        text-align: right;\n",
              "    }\n",
              "</style>\n",
              "<table border=\"1\" class=\"dataframe\">\n",
              "  <thead>\n",
              "    <tr style=\"text-align: right;\">\n",
              "      <th></th>\n",
              "      <th>StudentID</th>\n",
              "      <th>AverageScore</th>\n",
              "    </tr>\n",
              "  </thead>\n",
              "  <tbody>\n",
              "    <tr>\n",
              "      <th>0</th>\n",
              "      <td>2019006</td>\n",
              "      <td>3.50</td>\n",
              "    </tr>\n",
              "    <tr>\n",
              "      <th>7</th>\n",
              "      <td>2019009</td>\n",
              "      <td>2.50</td>\n",
              "    </tr>\n",
              "    <tr>\n",
              "      <th>14</th>\n",
              "      <td>2019017</td>\n",
              "      <td>2.25</td>\n",
              "    </tr>\n",
              "    <tr>\n",
              "      <th>21</th>\n",
              "      <td>2019026</td>\n",
              "      <td>3.50</td>\n",
              "    </tr>\n",
              "    <tr>\n",
              "      <th>28</th>\n",
              "      <td>2019028</td>\n",
              "      <td>2.50</td>\n",
              "    </tr>\n",
              "    <tr>\n",
              "      <th>...</th>\n",
              "      <td>...</td>\n",
              "      <td>...</td>\n",
              "    </tr>\n",
              "    <tr>\n",
              "      <th>30030</th>\n",
              "      <td>50516409</td>\n",
              "      <td>3.50</td>\n",
              "    </tr>\n",
              "    <tr>\n",
              "      <th>30044</th>\n",
              "      <td>50516545</td>\n",
              "      <td>1.50</td>\n",
              "    </tr>\n",
              "    <tr>\n",
              "      <th>30058</th>\n",
              "      <td>50519024</td>\n",
              "      <td>2.50</td>\n",
              "    </tr>\n",
              "    <tr>\n",
              "      <th>30072</th>\n",
              "      <td>50531723</td>\n",
              "      <td>2.75</td>\n",
              "    </tr>\n",
              "    <tr>\n",
              "      <th>30086</th>\n",
              "      <td>50657775</td>\n",
              "      <td>1.50</td>\n",
              "    </tr>\n",
              "  </tbody>\n",
              "</table>\n",
              "<p>2134 rows × 2 columns</p>\n",
              "</div>"
            ],
            "text/plain": [
              "      StudentID  AverageScore\n",
              "0       2019006          3.50\n",
              "7       2019009          2.50\n",
              "14      2019017          2.25\n",
              "21      2019026          3.50\n",
              "28      2019028          2.50\n",
              "...         ...           ...\n",
              "30030  50516409          3.50\n",
              "30044  50516545          1.50\n",
              "30058  50519024          2.50\n",
              "30072  50531723          2.75\n",
              "30086  50657775          1.50\n",
              "\n",
              "[2134 rows x 2 columns]"
            ]
          },
          "metadata": {
            "tags": []
          },
          "execution_count": 26
        }
      ]
    },
    {
      "cell_type": "code",
      "metadata": {
        "id": "DrjLQMc6UeFs",
        "colab": {
          "base_uri": "https://localhost:8080/",
          "height": 34
        },
        "outputId": "1572022a-6ecb-43ac-c8b2-91451fb3bc21"
      },
      "source": [
        "dy.shape"
      ],
      "execution_count": null,
      "outputs": [
        {
          "output_type": "execute_result",
          "data": {
            "text/plain": [
              "(2134, 2)"
            ]
          },
          "metadata": {
            "tags": []
          },
          "execution_count": 27
        }
      ]
    },
    {
      "cell_type": "code",
      "metadata": {
        "id": "Y_Sj3Yb_cFDu"
      },
      "source": [
        "counts=counts.to_frame()"
      ],
      "execution_count": null,
      "outputs": []
    },
    {
      "cell_type": "code",
      "metadata": {
        "id": "B0DH9qgrZLo9"
      },
      "source": [
        "counts.reset_index(level=0, inplace=True)"
      ],
      "execution_count": null,
      "outputs": []
    },
    {
      "cell_type": "code",
      "metadata": {
        "id": "7HZdwW4QUZ8l",
        "colab": {
          "base_uri": "https://localhost:8080/",
          "height": 34
        },
        "outputId": "e1b5f54c-e86a-4fc0-9eb7-86df6f0115cd"
      },
      "source": [
        "counts.columns"
      ],
      "execution_count": null,
      "outputs": [
        {
          "output_type": "execute_result",
          "data": {
            "text/plain": [
              "Index(['StudentID', 'DateIssued'], dtype='object')"
            ]
          },
          "metadata": {
            "tags": []
          },
          "execution_count": 30
        }
      ]
    },
    {
      "cell_type": "code",
      "metadata": {
        "id": "x4IGp-ATWDcO",
        "colab": {
          "base_uri": "https://localhost:8080/",
          "height": 34
        },
        "outputId": "6caf4644-9e28-4d87-bb8d-9726441367c1"
      },
      "source": [
        "dy.shape"
      ],
      "execution_count": null,
      "outputs": [
        {
          "output_type": "execute_result",
          "data": {
            "text/plain": [
              "(2134, 2)"
            ]
          },
          "metadata": {
            "tags": []
          },
          "execution_count": 31
        }
      ]
    },
    {
      "cell_type": "code",
      "metadata": {
        "id": "k_ynjjTFWE6-",
        "colab": {
          "base_uri": "https://localhost:8080/",
          "height": 68
        },
        "outputId": "2383fe29-cad3-4d21-ddc0-aec26b5e51c7"
      },
      "source": [
        "counts.astype('object').dtypes"
      ],
      "execution_count": null,
      "outputs": [
        {
          "output_type": "execute_result",
          "data": {
            "text/plain": [
              "StudentID     object\n",
              "DateIssued    object\n",
              "dtype: object"
            ]
          },
          "metadata": {
            "tags": []
          },
          "execution_count": 32
        }
      ]
    },
    {
      "cell_type": "code",
      "metadata": {
        "id": "0ZROs5mGbv33",
        "colab": {
          "base_uri": "https://localhost:8080/",
          "height": 68
        },
        "outputId": "eb1a2681-f4a1-4431-8160-bdcc9c60c6ad"
      },
      "source": [
        "dy.dtypes"
      ],
      "execution_count": null,
      "outputs": [
        {
          "output_type": "execute_result",
          "data": {
            "text/plain": [
              "StudentID        object\n",
              "AverageScore    float64\n",
              "dtype: object"
            ]
          },
          "metadata": {
            "tags": []
          },
          "execution_count": 33
        }
      ]
    },
    {
      "cell_type": "code",
      "metadata": {
        "id": "O6-1029cdhoF"
      },
      "source": [
        "dy[\"StudentID\"] = pd.to_numeric(dy[\"StudentID\"])"
      ],
      "execution_count": null,
      "outputs": []
    },
    {
      "cell_type": "code",
      "metadata": {
        "id": "IbsYs-yiU5bw"
      },
      "source": [
        "#Left join on studentID\n",
        "results= dy.merge(counts, left_on='StudentID', right_on='StudentID', how='left')"
      ],
      "execution_count": null,
      "outputs": []
    },
    {
      "cell_type": "code",
      "metadata": {
        "id": "vX8TMeJ2dCX6"
      },
      "source": [
        "#Since some students didnt misbehave, we have to fill there counts column by 0\n",
        "results['DateIssued']=results['DateIssued'].fillna(0)"
      ],
      "execution_count": null,
      "outputs": []
    },
    {
      "cell_type": "code",
      "metadata": {
        "id": "7W3vIHOtf15k"
      },
      "source": [
        "results['AverageScore']=results['AverageScore'].fillna(results['AverageScore'].mean())"
      ],
      "execution_count": null,
      "outputs": []
    },
    {
      "cell_type": "code",
      "metadata": {
        "id": "5NA55Xi6dvFf",
        "colab": {
          "base_uri": "https://localhost:8080/",
          "height": 297
        },
        "outputId": "ae739f1d-b869-47d7-8936-bc7093243c4c"
      },
      "source": [
        "results.describe()"
      ],
      "execution_count": null,
      "outputs": [
        {
          "output_type": "execute_result",
          "data": {
            "text/html": [
              "<div>\n",
              "<style scoped>\n",
              "    .dataframe tbody tr th:only-of-type {\n",
              "        vertical-align: middle;\n",
              "    }\n",
              "\n",
              "    .dataframe tbody tr th {\n",
              "        vertical-align: top;\n",
              "    }\n",
              "\n",
              "    .dataframe thead th {\n",
              "        text-align: right;\n",
              "    }\n",
              "</style>\n",
              "<table border=\"1\" class=\"dataframe\">\n",
              "  <thead>\n",
              "    <tr style=\"text-align: right;\">\n",
              "      <th></th>\n",
              "      <th>StudentID</th>\n",
              "      <th>AverageScore</th>\n",
              "      <th>DateIssued</th>\n",
              "    </tr>\n",
              "  </thead>\n",
              "  <tbody>\n",
              "    <tr>\n",
              "      <th>count</th>\n",
              "      <td>2.134000e+03</td>\n",
              "      <td>2134.000000</td>\n",
              "      <td>2134.000000</td>\n",
              "    </tr>\n",
              "    <tr>\n",
              "      <th>mean</th>\n",
              "      <td>4.976783e+07</td>\n",
              "      <td>2.689074</td>\n",
              "      <td>1.530928</td>\n",
              "    </tr>\n",
              "    <tr>\n",
              "      <th>std</th>\n",
              "      <td>1.087871e+08</td>\n",
              "      <td>0.885964</td>\n",
              "      <td>5.962669</td>\n",
              "    </tr>\n",
              "    <tr>\n",
              "      <th>min</th>\n",
              "      <td>1.001600e+04</td>\n",
              "      <td>0.250000</td>\n",
              "      <td>0.000000</td>\n",
              "    </tr>\n",
              "    <tr>\n",
              "      <th>25%</th>\n",
              "      <td>5.000078e+07</td>\n",
              "      <td>2.000000</td>\n",
              "      <td>0.000000</td>\n",
              "    </tr>\n",
              "    <tr>\n",
              "      <th>50%</th>\n",
              "      <td>5.044084e+07</td>\n",
              "      <td>2.750000</td>\n",
              "      <td>0.000000</td>\n",
              "    </tr>\n",
              "    <tr>\n",
              "      <th>75%</th>\n",
              "      <td>5.057850e+07</td>\n",
              "      <td>3.500000</td>\n",
              "      <td>1.000000</td>\n",
              "    </tr>\n",
              "    <tr>\n",
              "      <th>max</th>\n",
              "      <td>5.036729e+09</td>\n",
              "      <td>4.000000</td>\n",
              "      <td>138.000000</td>\n",
              "    </tr>\n",
              "  </tbody>\n",
              "</table>\n",
              "</div>"
            ],
            "text/plain": [
              "          StudentID  AverageScore   DateIssued\n",
              "count  2.134000e+03   2134.000000  2134.000000\n",
              "mean   4.976783e+07      2.689074     1.530928\n",
              "std    1.087871e+08      0.885964     5.962669\n",
              "min    1.001600e+04      0.250000     0.000000\n",
              "25%    5.000078e+07      2.000000     0.000000\n",
              "50%    5.044084e+07      2.750000     0.000000\n",
              "75%    5.057850e+07      3.500000     1.000000\n",
              "max    5.036729e+09      4.000000   138.000000"
            ]
          },
          "metadata": {
            "tags": []
          },
          "execution_count": 38
        }
      ]
    },
    {
      "cell_type": "code",
      "metadata": {
        "id": "SFu9iPbGezZR"
      },
      "source": [
        "import numpy as np\n",
        "import matplotlib.pyplot as plt  # To visualize\n",
        "import pandas as pd  # To read data\n",
        "from sklearn.linear_model import LinearRegression\n",
        "\n",
        "X = results.iloc[:, 2].values.reshape(-1, 1)  # values converts it into a numpy array\n",
        "Y = results.iloc[:, 1].values.reshape(-1, 1)  # -1 means that calculate the dimension of rows, but have 1 column\n",
        "linear_regressor = LinearRegression()  # create object for the class\n",
        "linear_regressor.fit(X, Y)  # perform linear regression\n",
        "Y_pred = linear_regressor.predict(X)  # make predictions"
      ],
      "execution_count": null,
      "outputs": []
    },
    {
      "cell_type": "code",
      "metadata": {
        "id": "NcHx7-a-fqvj",
        "colab": {
          "base_uri": "https://localhost:8080/",
          "height": 268
        },
        "outputId": "5569cedd-44d4-4123-d372-79201cb20e27"
      },
      "source": [
        "plt.scatter(X, Y)\n",
        "plt.plot(X, Y_pred, color='red')\n",
        "plt.show()"
      ],
      "execution_count": null,
      "outputs": [
        {
          "output_type": "display_data",
          "data": {
            "image/png": "[encoded data removed]",
            "text/plain": [
              "<Figure size 432x288 with 1 Axes>"
            ]
          },
          "metadata": {
            "tags": []
          }
        }
      ]
    },
    {
      "cell_type": "code",
      "metadata": {
        "id": "f_y29izdgGuc",
        "colab": {
          "base_uri": "https://localhost:8080/",
          "height": 382
        },
        "outputId": "0c6c95ca-2bb0-4f24-cebe-082905e53b51"
      },
      "source": [
        "sns.lmplot(x=\"AverageScore\", y=\"DateIssued\", data=results)"
      ],
      "execution_count": null,
      "outputs": [
        {
          "output_type": "execute_result",
          "data": {
            "text/plain": [
              "<seaborn.axisgrid.FacetGrid at 0x7fd2cc274ef0>"
            ]
          },
          "metadata": {
            "tags": []
          },
          "execution_count": 41
        },
        {
          "output_type": "display_data",
          "data": {
            "image/png": "[encoded data removed]",
            "text/plain": [
              "<Figure size 360x360 with 1 Axes>"
            ]
          },
          "metadata": {
            "tags": []
          }
        }
      ]
    },
    {
      "cell_type": "code",
      "metadata": {
        "id": "WDWDYSfnkaEG"
      },
      "source": [
        ""
      ],
      "execution_count": null,
      "outputs": []
    }
  ]
}