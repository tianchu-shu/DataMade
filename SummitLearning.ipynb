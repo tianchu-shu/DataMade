{
  "nbformat": 4,
  "nbformat_minor": 0,
  "metadata": {
    "colab": {
      "name": "SummitLearning.ipynb",
      "provenance": [],
      "collapsed_sections": []
    },
    "kernelspec": {
      "name": "python3",
      "display_name": "Python 3"
    }
  },
  "cells": [
    {
      "cell_type": "code",
      "metadata": {
        "id": "_Gt5a5qYbolQ"
      },
      "source": [
        "from google.colab import drive\n",
        "import matplotlib.pyplot as plt"
      ],
      "execution_count": null,
      "outputs": []
    },
    {
      "cell_type": "markdown",
      "metadata": {
        "id": "m2f5qWO1GFkV"
      },
      "source": [
        "## Mount your Google Drive"
      ]
    },
    {
      "cell_type": "code",
      "metadata": {
        "id": "cHSYzfS9CoKF",
        "colab": {
          "base_uri": "https://localhost:8080/",
          "height": 34
        },
        "outputId": "fd4d915a-4174-428a-a153-923ccf94d35e"
      },
      "source": [
        "drive.mount('/content/gdrive')"
      ],
      "execution_count": null,
      "outputs": [
        {
          "output_type": "stream",
          "text": [
            "Drive already mounted at /content/gdrive; to attempt to forcibly remount, call drive.mount(\"/content/gdrive\", force_remount=True).\n"
          ],
          "name": "stdout"
        }
      ]
    },
    {
      "cell_type": "markdown",
      "metadata": {
        "id": "wVTnEqIhFfFU"
      },
      "source": [
        "# Load the student Data"
      ]
    },
    {
      "cell_type": "code",
      "metadata": {
        "id": "q6Nqw2cvgDnO",
        "colab": {
          "base_uri": "https://localhost:8080/",
          "height": 255
        },
        "outputId": "eff32b0e-9356-4b36-f39d-226be1ac542b"
      },
      "source": [
        "import pandas as pd\n",
        "import glob, os\n",
        "\n",
        "data_dir= '/content/gdrive/My Drive/AIM Test File for Import/'\n",
        "filename = 'AIM Summit Export.csv'\n",
        "os.chdir(data_dir)\n",
        "\n",
        "df=pd.read_csv(filename)\n",
        "\n",
        "print(\"Column headings:\")\n",
        "print(df.columns)\n"
      ],
      "execution_count": null,
      "outputs": [
        {
          "output_type": "stream",
          "text": [
            "Column headings:\n",
            "Index(['School Id', 'Student First', 'Student Last', 'Student Email',\n",
            "       'Student Current Grade Level', 'Student Last Access Time', 'Mentors',\n",
            "       'Sections', 'Course Name', 'Course Academic Year', 'Course Subject',\n",
            "       'Letter Grade', 'Overall Score', 'Ungraded Projects',\n",
            "       'Overdue Projects', 'Graded Projects', 'Exempted Projects',\n",
            "       'Total Projects', 'Power FAs Mastered', 'Power FAs Behind',\n",
            "       'Total Power FAs', 'Power FA %', 'Additional FAs Mastered',\n",
            "       'Additional FAs Total', 'Additional FA %',\n",
            "       'Date of Last Content Assessment Attempted',\n",
            "       'Date of Last Content Assessment Passed', 'Cog Skill %',\n",
            "       'Cog Skill Avg', 'Concept %', 'Concept Skill Avg', 'Incomplete?',\n",
            "       'Date of Last Grade Change'],\n",
            "      dtype='object')\n"
          ],
          "name": "stdout"
        }
      ]
    },
    {
      "cell_type": "code",
      "metadata": {
        "id": "63EAGOYVgSET",
        "colab": {
          "base_uri": "https://localhost:8080/",
          "height": 51
        },
        "outputId": "c9d2bb8d-ba05-4c67-b800-d98fa7985238"
      },
      "source": [
        "!ls"
      ],
      "execution_count": null,
      "outputs": [
        {
          "output_type": "stream",
          "text": [
            "'AIM Summit Export.csv'       output.xlsx\t  SummitLearning.ipynb\n",
            "'Class List on Synergy.CSV'   StudentGrades.xls\n"
          ],
          "name": "stdout"
        }
      ]
    },
    {
      "cell_type": "code",
      "metadata": {
        "id": "Nt0iS9B4d1KB"
      },
      "source": [
        "template = pd.read_excel('StudentGrades.xls')"
      ],
      "execution_count": null,
      "outputs": []
    },
    {
      "cell_type": "code",
      "metadata": {
        "id": "VRU0MLsGd7eu",
        "colab": {
          "base_uri": "https://localhost:8080/",
          "height": 119
        },
        "outputId": "ea7432ea-d702-4c23-8002-70204a4d4a56"
      },
      "source": [
        "template.columns"
      ],
      "execution_count": null,
      "outputs": [
        {
          "output_type": "execute_result",
          "data": {
            "text/plain": [
              "Index(['SIS_NUMBER', 'SCHOOL_CODE', 'SCHOOL_YEAR', 'GRADING_TERM', 'MARK_NAME',\n",
              "       'SECTION_ID', 'ABS1', 'ABS2', 'ABS3', 'ABS4', 'ABS5', 'ABS6', 'CONDUCT',\n",
              "       'CITIZENSHIP', 'WORKHABITS', 'GRADE_MARK', 'COMMENT_1', 'COMMENT_2',\n",
              "       'COMMENT_3', 'COMMENT_4', 'COMMENT_5', 'COMMENT_6', 'COMMENT_7',\n",
              "       'COMMENT_8', 'COMMENT_9', 'TEACHER_AD_HOC_COMMENT'],\n",
              "      dtype='object')"
            ]
          },
          "metadata": {
            "tags": []
          },
          "execution_count": 6
        }
      ]
    },
    {
      "cell_type": "code",
      "metadata": {
        "id": "8CKYNFfrRlWt"
      },
      "source": [
        "classs = pd.read_csv('Class List on Synergy.CSV')"
      ],
      "execution_count": null,
      "outputs": []
    },
    {
      "cell_type": "code",
      "metadata": {
        "id": "esSWcozOSsxO"
      },
      "source": [
        "classs.rename(columns={\"Local ID\": \"SIS_NUMBER\",'Section ID':'SECTION_ID' }, inplace=True)"
      ],
      "execution_count": null,
      "outputs": []
    },
    {
      "cell_type": "code",
      "metadata": {
        "id": "Nk2gcFU7X06M",
        "colab": {
          "base_uri": "https://localhost:8080/",
          "height": 513
        },
        "outputId": "63c97903-9e65-4770-8245-0fd89074e252"
      },
      "source": [
        "classs.head()"
      ],
      "execution_count": null,
      "outputs": [
        {
          "output_type": "execute_result",
          "data": {
            "text/html": [
              "<div>\n",
              "<style scoped>\n",
              "    .dataframe tbody tr th:only-of-type {\n",
              "        vertical-align: middle;\n",
              "    }\n",
              "\n",
              "    .dataframe tbody tr th {\n",
              "        vertical-align: top;\n",
              "    }\n",
              "\n",
              "    .dataframe thead th {\n",
              "        text-align: right;\n",
              "    }\n",
              "</style>\n",
              "<table border=\"1\" class=\"dataframe\">\n",
              "  <thead>\n",
              "    <tr style=\"text-align: right;\">\n",
              "      <th></th>\n",
              "      <th>Period</th>\n",
              "      <th>SECTION_ID</th>\n",
              "      <th>Grd</th>\n",
              "      <th>Enter Date</th>\n",
              "      <th>Student Name</th>\n",
              "      <th>Ethnic Code</th>\n",
              "      <th>SIS_NUMBER</th>\n",
              "      <th>Birth Date</th>\n",
              "      <th>Home Language</th>\n",
              "      <th>Phone</th>\n",
              "      <th>IL State ID</th>\n",
              "      <th>Ed-Fi ID</th>\n",
              "      <th>Trk</th>\n",
              "      <th>House</th>\n",
              "      <th>Team</th>\n",
              "      <th>Pathways House</th>\n",
              "      <th>Pathways Team</th>\n",
              "      <th>Counselor</th>\n",
              "      <th>Course ID</th>\n",
              "      <th>Course Title</th>\n",
              "      <th>Staff Name</th>\n",
              "      <th>Room Name</th>\n",
              "      <th>Student School Year GU</th>\n",
              "      <th>Student GU</th>\n",
              "      <th>Gen</th>\n",
              "      <th>Female</th>\n",
              "      <th>Track</th>\n",
              "      <th>Male</th>\n",
              "      <th>Audit Class</th>\n",
              "      <th>Meeting Days</th>\n",
              "    </tr>\n",
              "  </thead>\n",
              "  <tbody>\n",
              "    <tr>\n",
              "      <th>0</th>\n",
              "      <td>3</td>\n",
              "      <td>400181MATH08-3-002</td>\n",
              "      <td>8</td>\n",
              "      <td>9/3/2019</td>\n",
              "      <td>Dunlap, Jurnee</td>\n",
              "      <td>African American</td>\n",
              "      <td>44480522</td>\n",
              "      <td>10/11/2005</td>\n",
              "      <td>NaN</td>\n",
              "      <td>312-824-9109</td>\n",
              "      <td>114089966</td>\n",
              "      <td>NaN</td>\n",
              "      <td>NaN</td>\n",
              "      <td>NaN</td>\n",
              "      <td>NaN</td>\n",
              "      <td>NaN</td>\n",
              "      <td>NaN</td>\n",
              "      <td>NaN</td>\n",
              "      <td>400181MATH08</td>\n",
              "      <td>Math 8</td>\n",
              "      <td>Arevalo, Mary</td>\n",
              "      <td>117</td>\n",
              "      <td>50C1E3FB-AE1A-4E96-B5A8-8414632B6B25</td>\n",
              "      <td>5E2D6A27-25CF-46B1-9F80-5DAB136C75F2</td>\n",
              "      <td>Female</td>\n",
              "      <td>1</td>\n",
              "      <td>NaN</td>\n",
              "      <td>0</td>\n",
              "      <td>N</td>\n",
              "      <td>MTTHF</td>\n",
              "    </tr>\n",
              "    <tr>\n",
              "      <th>1</th>\n",
              "      <td>3</td>\n",
              "      <td>400181MATH08-3-002</td>\n",
              "      <td>8</td>\n",
              "      <td>9/3/2019</td>\n",
              "      <td>(Gibson, I'Aira)</td>\n",
              "      <td>African American</td>\n",
              "      <td>50093848</td>\n",
              "      <td>5/23/2006</td>\n",
              "      <td>NaN</td>\n",
              "      <td>773-892-9987</td>\n",
              "      <td>421377868</td>\n",
              "      <td>NaN</td>\n",
              "      <td>NaN</td>\n",
              "      <td>NaN</td>\n",
              "      <td>NaN</td>\n",
              "      <td>NaN</td>\n",
              "      <td>NaN</td>\n",
              "      <td>NaN</td>\n",
              "      <td>400181MATH08</td>\n",
              "      <td>Math 8</td>\n",
              "      <td>Arevalo, Mary</td>\n",
              "      <td>117</td>\n",
              "      <td>1C2F7E76-4AF5-4DC7-99E7-0122DD09F7D7</td>\n",
              "      <td>5A3CEB23-7005-45BC-8385-4E3E8AEB80DC</td>\n",
              "      <td>Female</td>\n",
              "      <td>1</td>\n",
              "      <td>NaN</td>\n",
              "      <td>0</td>\n",
              "      <td>N</td>\n",
              "      <td>MTTHF</td>\n",
              "    </tr>\n",
              "    <tr>\n",
              "      <th>2</th>\n",
              "      <td>3</td>\n",
              "      <td>400181MATH08-3-002</td>\n",
              "      <td>8</td>\n",
              "      <td>9/3/2019</td>\n",
              "      <td>King, Delmar</td>\n",
              "      <td>African American</td>\n",
              "      <td>50065652</td>\n",
              "      <td>12/13/2005</td>\n",
              "      <td>NaN</td>\n",
              "      <td>773-588-6274</td>\n",
              "      <td>614851452</td>\n",
              "      <td>NaN</td>\n",
              "      <td>NaN</td>\n",
              "      <td>NaN</td>\n",
              "      <td>NaN</td>\n",
              "      <td>NaN</td>\n",
              "      <td>NaN</td>\n",
              "      <td>NaN</td>\n",
              "      <td>400181MATH08</td>\n",
              "      <td>Math 8</td>\n",
              "      <td>Arevalo, Mary</td>\n",
              "      <td>117</td>\n",
              "      <td>8669B4DC-E79B-407B-87B6-B07AB2B47F29</td>\n",
              "      <td>4446CDE5-47F7-4097-9801-72F3538C532D</td>\n",
              "      <td>Male</td>\n",
              "      <td>0</td>\n",
              "      <td>NaN</td>\n",
              "      <td>1</td>\n",
              "      <td>N</td>\n",
              "      <td>MTTHF</td>\n",
              "    </tr>\n",
              "    <tr>\n",
              "      <th>3</th>\n",
              "      <td>4</td>\n",
              "      <td>400181ENGL08-4-002</td>\n",
              "      <td>8</td>\n",
              "      <td>9/3/2019</td>\n",
              "      <td>Dunlap, Jurnee</td>\n",
              "      <td>African American</td>\n",
              "      <td>44480522</td>\n",
              "      <td>10/11/2005</td>\n",
              "      <td>NaN</td>\n",
              "      <td>312-824-9109</td>\n",
              "      <td>114089966</td>\n",
              "      <td>NaN</td>\n",
              "      <td>NaN</td>\n",
              "      <td>NaN</td>\n",
              "      <td>NaN</td>\n",
              "      <td>NaN</td>\n",
              "      <td>NaN</td>\n",
              "      <td>NaN</td>\n",
              "      <td>400181ENGL08</td>\n",
              "      <td>English 8</td>\n",
              "      <td>Arevalo, Mary</td>\n",
              "      <td>117</td>\n",
              "      <td>50C1E3FB-AE1A-4E96-B5A8-8414632B6B25</td>\n",
              "      <td>5E2D6A27-25CF-46B1-9F80-5DAB136C75F2</td>\n",
              "      <td>Female</td>\n",
              "      <td>1</td>\n",
              "      <td>NaN</td>\n",
              "      <td>0</td>\n",
              "      <td>N</td>\n",
              "      <td>MTTHF</td>\n",
              "    </tr>\n",
              "    <tr>\n",
              "      <th>4</th>\n",
              "      <td>4</td>\n",
              "      <td>400181ENGL08-4-002</td>\n",
              "      <td>8</td>\n",
              "      <td>9/3/2019</td>\n",
              "      <td>(Gibson, I'Aira)</td>\n",
              "      <td>African American</td>\n",
              "      <td>50093848</td>\n",
              "      <td>5/23/2006</td>\n",
              "      <td>NaN</td>\n",
              "      <td>773-892-9987</td>\n",
              "      <td>421377868</td>\n",
              "      <td>NaN</td>\n",
              "      <td>NaN</td>\n",
              "      <td>NaN</td>\n",
              "      <td>NaN</td>\n",
              "      <td>NaN</td>\n",
              "      <td>NaN</td>\n",
              "      <td>NaN</td>\n",
              "      <td>400181ENGL08</td>\n",
              "      <td>English 8</td>\n",
              "      <td>Arevalo, Mary</td>\n",
              "      <td>117</td>\n",
              "      <td>1C2F7E76-4AF5-4DC7-99E7-0122DD09F7D7</td>\n",
              "      <td>5A3CEB23-7005-45BC-8385-4E3E8AEB80DC</td>\n",
              "      <td>Female</td>\n",
              "      <td>1</td>\n",
              "      <td>NaN</td>\n",
              "      <td>0</td>\n",
              "      <td>N</td>\n",
              "      <td>MTTHF</td>\n",
              "    </tr>\n",
              "  </tbody>\n",
              "</table>\n",
              "</div>"
            ],
            "text/plain": [
              "   Period          SECTION_ID  Grd  ... Male Audit Class Meeting Days\n",
              "0       3  400181MATH08-3-002    8  ...    0           N        MTTHF\n",
              "1       3  400181MATH08-3-002    8  ...    0           N        MTTHF\n",
              "2       3  400181MATH08-3-002    8  ...    1           N        MTTHF\n",
              "3       4  400181ENGL08-4-002    8  ...    0           N        MTTHF\n",
              "4       4  400181ENGL08-4-002    8  ...    0           N        MTTHF\n",
              "\n",
              "[5 rows x 30 columns]"
            ]
          },
          "metadata": {
            "tags": []
          },
          "execution_count": 9
        }
      ]
    },
    {
      "cell_type": "code",
      "metadata": {
        "id": "qOzYJf7ORu8k"
      },
      "source": [
        "df.rename(columns={\"School Id\": \"SIS_NUMBER\", 'Letter Grade':'GRADE_MARK'}, inplace=True)"
      ],
      "execution_count": null,
      "outputs": []
    },
    {
      "cell_type": "code",
      "metadata": {
        "id": "Sl1cS1rQKeo2",
        "colab": {
          "base_uri": "https://localhost:8080/",
          "height": 462
        },
        "outputId": "1a5a8c8c-4c95-4d26-f37d-7c7b7ad2f296"
      },
      "source": [
        "df.head()"
      ],
      "execution_count": null,
      "outputs": [
        {
          "output_type": "execute_result",
          "data": {
            "text/html": [
              "<div>\n",
              "<style scoped>\n",
              "    .dataframe tbody tr th:only-of-type {\n",
              "        vertical-align: middle;\n",
              "    }\n",
              "\n",
              "    .dataframe tbody tr th {\n",
              "        vertical-align: top;\n",
              "    }\n",
              "\n",
              "    .dataframe thead th {\n",
              "        text-align: right;\n",
              "    }\n",
              "</style>\n",
              "<table border=\"1\" class=\"dataframe\">\n",
              "  <thead>\n",
              "    <tr style=\"text-align: right;\">\n",
              "      <th></th>\n",
              "      <th>SIS_NUMBER</th>\n",
              "      <th>Student First</th>\n",
              "      <th>Student Last</th>\n",
              "      <th>Student Email</th>\n",
              "      <th>Student Current Grade Level</th>\n",
              "      <th>Student Last Access Time</th>\n",
              "      <th>Mentors</th>\n",
              "      <th>Sections</th>\n",
              "      <th>Course Name</th>\n",
              "      <th>Course Academic Year</th>\n",
              "      <th>Course Subject</th>\n",
              "      <th>GRADE_MARK</th>\n",
              "      <th>Overall Score</th>\n",
              "      <th>Ungraded Projects</th>\n",
              "      <th>Overdue Projects</th>\n",
              "      <th>Graded Projects</th>\n",
              "      <th>Exempted Projects</th>\n",
              "      <th>Total Projects</th>\n",
              "      <th>Power FAs Mastered</th>\n",
              "      <th>Power FAs Behind</th>\n",
              "      <th>Total Power FAs</th>\n",
              "      <th>Power FA %</th>\n",
              "      <th>Additional FAs Mastered</th>\n",
              "      <th>Additional FAs Total</th>\n",
              "      <th>Additional FA %</th>\n",
              "      <th>Date of Last Content Assessment Attempted</th>\n",
              "      <th>Date of Last Content Assessment Passed</th>\n",
              "      <th>Cog Skill %</th>\n",
              "      <th>Cog Skill Avg</th>\n",
              "      <th>Concept %</th>\n",
              "      <th>Concept Skill Avg</th>\n",
              "      <th>Incomplete?</th>\n",
              "      <th>Date of Last Grade Change</th>\n",
              "    </tr>\n",
              "  </thead>\n",
              "  <tbody>\n",
              "    <tr>\n",
              "      <th>0</th>\n",
              "      <td>60039674</td>\n",
              "      <td>Kaleb</td>\n",
              "      <td>Abney</td>\n",
              "      <td>60039674@distinctiveschools.org</td>\n",
              "      <td>7</td>\n",
              "      <td>3/19/2020 10:13</td>\n",
              "      <td>Judith Carthan</td>\n",
              "      <td>English 7 - Drumgoole - 2</td>\n",
              "      <td>English 7</td>\n",
              "      <td>2020</td>\n",
              "      <td>English</td>\n",
              "      <td>I</td>\n",
              "      <td>74.0</td>\n",
              "      <td>0</td>\n",
              "      <td>2</td>\n",
              "      <td>0</td>\n",
              "      <td>0</td>\n",
              "      <td>2</td>\n",
              "      <td>3</td>\n",
              "      <td>4</td>\n",
              "      <td>10</td>\n",
              "      <td>42</td>\n",
              "      <td>0</td>\n",
              "      <td>4</td>\n",
              "      <td>0</td>\n",
              "      <td>03/12/20 09:18:46 CDT</td>\n",
              "      <td>02/10/20 15:35:05 CST</td>\n",
              "      <td>85</td>\n",
              "      <td>3.50</td>\n",
              "      <td>0</td>\n",
              "      <td>3.50</td>\n",
              "      <td>Incomplete</td>\n",
              "      <td>3/18/2020 11:06</td>\n",
              "    </tr>\n",
              "    <tr>\n",
              "      <th>1</th>\n",
              "      <td>60039674</td>\n",
              "      <td>Kaleb</td>\n",
              "      <td>Abney</td>\n",
              "      <td>60039674@distinctiveschools.org</td>\n",
              "      <td>7</td>\n",
              "      <td>3/19/2020 10:13</td>\n",
              "      <td>Judith Carthan</td>\n",
              "      <td>Science 7 - Milton - 9</td>\n",
              "      <td>Integrated Science 7</td>\n",
              "      <td>2020</td>\n",
              "      <td>Science</td>\n",
              "      <td>I</td>\n",
              "      <td>66.0</td>\n",
              "      <td>0</td>\n",
              "      <td>1</td>\n",
              "      <td>2</td>\n",
              "      <td>0</td>\n",
              "      <td>3</td>\n",
              "      <td>1</td>\n",
              "      <td>5</td>\n",
              "      <td>9</td>\n",
              "      <td>16</td>\n",
              "      <td>0</td>\n",
              "      <td>5</td>\n",
              "      <td>0</td>\n",
              "      <td>03/12/20 14:55:21 CDT</td>\n",
              "      <td>03/12/20 14:55:21 CDT</td>\n",
              "      <td>80</td>\n",
              "      <td>3.17</td>\n",
              "      <td>0</td>\n",
              "      <td>3.17</td>\n",
              "      <td>Incomplete</td>\n",
              "      <td>3/12/2020 14:55</td>\n",
              "    </tr>\n",
              "    <tr>\n",
              "      <th>2</th>\n",
              "      <td>60039674</td>\n",
              "      <td>Kaleb</td>\n",
              "      <td>Abney</td>\n",
              "      <td>60039674@distinctiveschools.org</td>\n",
              "      <td>7</td>\n",
              "      <td>3/19/2020 10:13</td>\n",
              "      <td>Judith Carthan</td>\n",
              "      <td>Math 7 - Hicks - 4</td>\n",
              "      <td>Math 7</td>\n",
              "      <td>2020</td>\n",
              "      <td>Math</td>\n",
              "      <td>I</td>\n",
              "      <td>76.0</td>\n",
              "      <td>0</td>\n",
              "      <td>0</td>\n",
              "      <td>5</td>\n",
              "      <td>0</td>\n",
              "      <td>5</td>\n",
              "      <td>4</td>\n",
              "      <td>1</td>\n",
              "      <td>7</td>\n",
              "      <td>80</td>\n",
              "      <td>0</td>\n",
              "      <td>5</td>\n",
              "      <td>0</td>\n",
              "      <td>02/13/20 13:03:21 CST</td>\n",
              "      <td>02/13/20 13:03:21 CST</td>\n",
              "      <td>0</td>\n",
              "      <td>0.00</td>\n",
              "      <td>81</td>\n",
              "      <td>0.00</td>\n",
              "      <td>Incomplete</td>\n",
              "      <td>3/18/2020 14:46</td>\n",
              "    </tr>\n",
              "    <tr>\n",
              "      <th>3</th>\n",
              "      <td>60039674</td>\n",
              "      <td>Kaleb</td>\n",
              "      <td>Abney</td>\n",
              "      <td>60039674@distinctiveschools.org</td>\n",
              "      <td>7</td>\n",
              "      <td>3/19/2020 10:13</td>\n",
              "      <td>Judith Carthan</td>\n",
              "      <td>History 7 - Bryant - 8</td>\n",
              "      <td>Medieval History</td>\n",
              "      <td>2020</td>\n",
              "      <td>History</td>\n",
              "      <td>I</td>\n",
              "      <td>82.0</td>\n",
              "      <td>0</td>\n",
              "      <td>2</td>\n",
              "      <td>2</td>\n",
              "      <td>0</td>\n",
              "      <td>4</td>\n",
              "      <td>6</td>\n",
              "      <td>0</td>\n",
              "      <td>9</td>\n",
              "      <td>100</td>\n",
              "      <td>0</td>\n",
              "      <td>7</td>\n",
              "      <td>0</td>\n",
              "      <td>03/10/20 13:52:24 CDT</td>\n",
              "      <td>03/10/20 13:52:24 CDT</td>\n",
              "      <td>85</td>\n",
              "      <td>3.50</td>\n",
              "      <td>0</td>\n",
              "      <td>3.50</td>\n",
              "      <td>Incomplete</td>\n",
              "      <td>1/30/2020 15:35</td>\n",
              "    </tr>\n",
              "    <tr>\n",
              "      <th>4</th>\n",
              "      <td>60039864</td>\n",
              "      <td>Kalynn</td>\n",
              "      <td>Abney</td>\n",
              "      <td>60039864@distinctiveschools.org</td>\n",
              "      <td>7</td>\n",
              "      <td>3/19/2020 8:46</td>\n",
              "      <td>Dionne Milton</td>\n",
              "      <td>English 7 - Drumgoole - 4</td>\n",
              "      <td>English 7</td>\n",
              "      <td>2020</td>\n",
              "      <td>English</td>\n",
              "      <td>I</td>\n",
              "      <td>71.0</td>\n",
              "      <td>2</td>\n",
              "      <td>0</td>\n",
              "      <td>0</td>\n",
              "      <td>0</td>\n",
              "      <td>2</td>\n",
              "      <td>5</td>\n",
              "      <td>2</td>\n",
              "      <td>10</td>\n",
              "      <td>71</td>\n",
              "      <td>1</td>\n",
              "      <td>4</td>\n",
              "      <td>50</td>\n",
              "      <td>03/10/20 11:20:04 CDT</td>\n",
              "      <td>02/11/20 10:44:55 CST</td>\n",
              "      <td>73</td>\n",
              "      <td>2.71</td>\n",
              "      <td>0</td>\n",
              "      <td>2.71</td>\n",
              "      <td>Incomplete</td>\n",
              "      <td>3/18/2020 11:06</td>\n",
              "    </tr>\n",
              "  </tbody>\n",
              "</table>\n",
              "</div>"
            ],
            "text/plain": [
              "   SIS_NUMBER Student First  ... Incomplete? Date of Last Grade Change\n",
              "0    60039674         Kaleb  ...  Incomplete           3/18/2020 11:06\n",
              "1    60039674         Kaleb  ...  Incomplete           3/12/2020 14:55\n",
              "2    60039674         Kaleb  ...  Incomplete           3/18/2020 14:46\n",
              "3    60039674         Kaleb  ...  Incomplete           1/30/2020 15:35\n",
              "4    60039864        Kalynn  ...  Incomplete           3/18/2020 11:06\n",
              "\n",
              "[5 rows x 33 columns]"
            ]
          },
          "metadata": {
            "tags": []
          },
          "execution_count": 11
        }
      ]
    },
    {
      "cell_type": "code",
      "metadata": {
        "id": "UG2OuLUXSqsw",
        "colab": {
          "base_uri": "https://localhost:8080/",
          "height": 136
        },
        "outputId": "aa200b19-dada-485b-8d79-20f770f9d074"
      },
      "source": [
        "classs.columns"
      ],
      "execution_count": null,
      "outputs": [
        {
          "output_type": "execute_result",
          "data": {
            "text/plain": [
              "Index(['Period', 'SECTION_ID', 'Grd', 'Enter Date', 'Student Name',\n",
              "       'Ethnic Code', 'SIS_NUMBER', 'Birth Date', 'Home Language', 'Phone',\n",
              "       'IL State ID', 'Ed-Fi ID', 'Trk', 'House', 'Team', 'Pathways House',\n",
              "       'Pathways Team', 'Counselor', 'Course ID', 'Course Title', 'Staff Name',\n",
              "       'Room Name', 'Student School Year GU', 'Student GU', 'Gen', 'Female',\n",
              "       'Track', 'Male', 'Audit Class', 'Meeting Days'],\n",
              "      dtype='object')"
            ]
          },
          "metadata": {
            "tags": []
          },
          "execution_count": 12
        }
      ]
    },
    {
      "cell_type": "code",
      "metadata": {
        "id": "yRp9FSSnRr-j"
      },
      "source": [
        "ck=['SECTION_ID', 'SIS_NUMBER','Course Title']"
      ],
      "execution_count": null,
      "outputs": []
    },
    {
      "cell_type": "code",
      "metadata": {
        "id": "cgAThmB0YRbX"
      },
      "source": [
        "cc= classs[ck]"
      ],
      "execution_count": null,
      "outputs": []
    },
    {
      "cell_type": "code",
      "metadata": {
        "id": "9qospQ-TKtSU",
        "colab": {
          "base_uri": "https://localhost:8080/",
          "height": 204
        },
        "outputId": "f1d3dbe4-c217-4fe5-e500-7cba18fde1c3"
      },
      "source": [
        "cc.head()"
      ],
      "execution_count": null,
      "outputs": [
        {
          "output_type": "execute_result",
          "data": {
            "text/html": [
              "<div>\n",
              "<style scoped>\n",
              "    .dataframe tbody tr th:only-of-type {\n",
              "        vertical-align: middle;\n",
              "    }\n",
              "\n",
              "    .dataframe tbody tr th {\n",
              "        vertical-align: top;\n",
              "    }\n",
              "\n",
              "    .dataframe thead th {\n",
              "        text-align: right;\n",
              "    }\n",
              "</style>\n",
              "<table border=\"1\" class=\"dataframe\">\n",
              "  <thead>\n",
              "    <tr style=\"text-align: right;\">\n",
              "      <th></th>\n",
              "      <th>SECTION_ID</th>\n",
              "      <th>SIS_NUMBER</th>\n",
              "      <th>Course Title</th>\n",
              "    </tr>\n",
              "  </thead>\n",
              "  <tbody>\n",
              "    <tr>\n",
              "      <th>0</th>\n",
              "      <td>400181MATH08-3-002</td>\n",
              "      <td>44480522</td>\n",
              "      <td>Math 8</td>\n",
              "    </tr>\n",
              "    <tr>\n",
              "      <th>1</th>\n",
              "      <td>400181MATH08-3-002</td>\n",
              "      <td>50093848</td>\n",
              "      <td>Math 8</td>\n",
              "    </tr>\n",
              "    <tr>\n",
              "      <th>2</th>\n",
              "      <td>400181MATH08-3-002</td>\n",
              "      <td>50065652</td>\n",
              "      <td>Math 8</td>\n",
              "    </tr>\n",
              "    <tr>\n",
              "      <th>3</th>\n",
              "      <td>400181ENGL08-4-002</td>\n",
              "      <td>44480522</td>\n",
              "      <td>English 8</td>\n",
              "    </tr>\n",
              "    <tr>\n",
              "      <th>4</th>\n",
              "      <td>400181ENGL08-4-002</td>\n",
              "      <td>50093848</td>\n",
              "      <td>English 8</td>\n",
              "    </tr>\n",
              "  </tbody>\n",
              "</table>\n",
              "</div>"
            ],
            "text/plain": [
              "           SECTION_ID  SIS_NUMBER Course Title\n",
              "0  400181MATH08-3-002    44480522       Math 8\n",
              "1  400181MATH08-3-002    50093848       Math 8\n",
              "2  400181MATH08-3-002    50065652       Math 8\n",
              "3  400181ENGL08-4-002    44480522    English 8\n",
              "4  400181ENGL08-4-002    50093848    English 8"
            ]
          },
          "metadata": {
            "tags": []
          },
          "execution_count": 15
        }
      ]
    },
    {
      "cell_type": "code",
      "metadata": {
        "id": "3JXMYU2MZuDv",
        "colab": {
          "base_uri": "https://localhost:8080/",
          "height": 51
        },
        "outputId": "f0efff41-8e0c-46d7-c56c-0376e88b8d1d"
      },
      "source": [
        "cc['Course Title'].unique()"
      ],
      "execution_count": null,
      "outputs": [
        {
          "output_type": "execute_result",
          "data": {
            "text/plain": [
              "array(['Math 8', 'English 8', 'English 7', 'History 7', 'Math 7',\n",
              "       'Science 7', 'Science 8', 'History 8'], dtype=object)"
            ]
          },
          "metadata": {
            "tags": []
          },
          "execution_count": 16
        }
      ]
    },
    {
      "cell_type": "code",
      "metadata": {
        "id": "L0Cdp7l8aqIh"
      },
      "source": [
        "df[['Course Title','pahun_2']]=df['Sections'].str.split(' - ', expand=True,n=1)"
      ],
      "execution_count": null,
      "outputs": []
    },
    {
      "cell_type": "code",
      "metadata": {
        "id": "fBYdWm07YwI-",
        "colab": {
          "base_uri": "https://localhost:8080/",
          "height": 462
        },
        "outputId": "277477bb-da9e-45b1-d145-91205fc5f7bd"
      },
      "source": [
        "df.head()"
      ],
      "execution_count": null,
      "outputs": [
        {
          "output_type": "execute_result",
          "data": {
            "text/html": [
              "<div>\n",
              "<style scoped>\n",
              "    .dataframe tbody tr th:only-of-type {\n",
              "        vertical-align: middle;\n",
              "    }\n",
              "\n",
              "    .dataframe tbody tr th {\n",
              "        vertical-align: top;\n",
              "    }\n",
              "\n",
              "    .dataframe thead th {\n",
              "        text-align: right;\n",
              "    }\n",
              "</style>\n",
              "<table border=\"1\" class=\"dataframe\">\n",
              "  <thead>\n",
              "    <tr style=\"text-align: right;\">\n",
              "      <th></th>\n",
              "      <th>SIS_NUMBER</th>\n",
              "      <th>Student First</th>\n",
              "      <th>Student Last</th>\n",
              "      <th>Student Email</th>\n",
              "      <th>Student Current Grade Level</th>\n",
              "      <th>Student Last Access Time</th>\n",
              "      <th>Mentors</th>\n",
              "      <th>Sections</th>\n",
              "      <th>Course Name</th>\n",
              "      <th>Course Academic Year</th>\n",
              "      <th>Course Subject</th>\n",
              "      <th>GRADE_MARK</th>\n",
              "      <th>Overall Score</th>\n",
              "      <th>Ungraded Projects</th>\n",
              "      <th>Overdue Projects</th>\n",
              "      <th>Graded Projects</th>\n",
              "      <th>Exempted Projects</th>\n",
              "      <th>Total Projects</th>\n",
              "      <th>Power FAs Mastered</th>\n",
              "      <th>Power FAs Behind</th>\n",
              "      <th>Total Power FAs</th>\n",
              "      <th>Power FA %</th>\n",
              "      <th>Additional FAs Mastered</th>\n",
              "      <th>Additional FAs Total</th>\n",
              "      <th>Additional FA %</th>\n",
              "      <th>Date of Last Content Assessment Attempted</th>\n",
              "      <th>Date of Last Content Assessment Passed</th>\n",
              "      <th>Cog Skill %</th>\n",
              "      <th>Cog Skill Avg</th>\n",
              "      <th>Concept %</th>\n",
              "      <th>Concept Skill Avg</th>\n",
              "      <th>Incomplete?</th>\n",
              "      <th>Date of Last Grade Change</th>\n",
              "      <th>Course Title</th>\n",
              "      <th>pahun_2</th>\n",
              "    </tr>\n",
              "  </thead>\n",
              "  <tbody>\n",
              "    <tr>\n",
              "      <th>0</th>\n",
              "      <td>60039674</td>\n",
              "      <td>Kaleb</td>\n",
              "      <td>Abney</td>\n",
              "      <td>60039674@distinctiveschools.org</td>\n",
              "      <td>7</td>\n",
              "      <td>3/19/2020 10:13</td>\n",
              "      <td>Judith Carthan</td>\n",
              "      <td>English 7 - Drumgoole - 2</td>\n",
              "      <td>English 7</td>\n",
              "      <td>2020</td>\n",
              "      <td>English</td>\n",
              "      <td>I</td>\n",
              "      <td>74.0</td>\n",
              "      <td>0</td>\n",
              "      <td>2</td>\n",
              "      <td>0</td>\n",
              "      <td>0</td>\n",
              "      <td>2</td>\n",
              "      <td>3</td>\n",
              "      <td>4</td>\n",
              "      <td>10</td>\n",
              "      <td>42</td>\n",
              "      <td>0</td>\n",
              "      <td>4</td>\n",
              "      <td>0</td>\n",
              "      <td>03/12/20 09:18:46 CDT</td>\n",
              "      <td>02/10/20 15:35:05 CST</td>\n",
              "      <td>85</td>\n",
              "      <td>3.50</td>\n",
              "      <td>0</td>\n",
              "      <td>3.50</td>\n",
              "      <td>Incomplete</td>\n",
              "      <td>3/18/2020 11:06</td>\n",
              "      <td>English 7</td>\n",
              "      <td>Drumgoole - 2</td>\n",
              "    </tr>\n",
              "    <tr>\n",
              "      <th>1</th>\n",
              "      <td>60039674</td>\n",
              "      <td>Kaleb</td>\n",
              "      <td>Abney</td>\n",
              "      <td>60039674@distinctiveschools.org</td>\n",
              "      <td>7</td>\n",
              "      <td>3/19/2020 10:13</td>\n",
              "      <td>Judith Carthan</td>\n",
              "      <td>Science 7 - Milton - 9</td>\n",
              "      <td>Integrated Science 7</td>\n",
              "      <td>2020</td>\n",
              "      <td>Science</td>\n",
              "      <td>I</td>\n",
              "      <td>66.0</td>\n",
              "      <td>0</td>\n",
              "      <td>1</td>\n",
              "      <td>2</td>\n",
              "      <td>0</td>\n",
              "      <td>3</td>\n",
              "      <td>1</td>\n",
              "      <td>5</td>\n",
              "      <td>9</td>\n",
              "      <td>16</td>\n",
              "      <td>0</td>\n",
              "      <td>5</td>\n",
              "      <td>0</td>\n",
              "      <td>03/12/20 14:55:21 CDT</td>\n",
              "      <td>03/12/20 14:55:21 CDT</td>\n",
              "      <td>80</td>\n",
              "      <td>3.17</td>\n",
              "      <td>0</td>\n",
              "      <td>3.17</td>\n",
              "      <td>Incomplete</td>\n",
              "      <td>3/12/2020 14:55</td>\n",
              "      <td>Science 7</td>\n",
              "      <td>Milton - 9</td>\n",
              "    </tr>\n",
              "    <tr>\n",
              "      <th>2</th>\n",
              "      <td>60039674</td>\n",
              "      <td>Kaleb</td>\n",
              "      <td>Abney</td>\n",
              "      <td>60039674@distinctiveschools.org</td>\n",
              "      <td>7</td>\n",
              "      <td>3/19/2020 10:13</td>\n",
              "      <td>Judith Carthan</td>\n",
              "      <td>Math 7 - Hicks - 4</td>\n",
              "      <td>Math 7</td>\n",
              "      <td>2020</td>\n",
              "      <td>Math</td>\n",
              "      <td>I</td>\n",
              "      <td>76.0</td>\n",
              "      <td>0</td>\n",
              "      <td>0</td>\n",
              "      <td>5</td>\n",
              "      <td>0</td>\n",
              "      <td>5</td>\n",
              "      <td>4</td>\n",
              "      <td>1</td>\n",
              "      <td>7</td>\n",
              "      <td>80</td>\n",
              "      <td>0</td>\n",
              "      <td>5</td>\n",
              "      <td>0</td>\n",
              "      <td>02/13/20 13:03:21 CST</td>\n",
              "      <td>02/13/20 13:03:21 CST</td>\n",
              "      <td>0</td>\n",
              "      <td>0.00</td>\n",
              "      <td>81</td>\n",
              "      <td>0.00</td>\n",
              "      <td>Incomplete</td>\n",
              "      <td>3/18/2020 14:46</td>\n",
              "      <td>Math 7</td>\n",
              "      <td>Hicks - 4</td>\n",
              "    </tr>\n",
              "    <tr>\n",
              "      <th>3</th>\n",
              "      <td>60039674</td>\n",
              "      <td>Kaleb</td>\n",
              "      <td>Abney</td>\n",
              "      <td>60039674@distinctiveschools.org</td>\n",
              "      <td>7</td>\n",
              "      <td>3/19/2020 10:13</td>\n",
              "      <td>Judith Carthan</td>\n",
              "      <td>History 7 - Bryant - 8</td>\n",
              "      <td>Medieval History</td>\n",
              "      <td>2020</td>\n",
              "      <td>History</td>\n",
              "      <td>I</td>\n",
              "      <td>82.0</td>\n",
              "      <td>0</td>\n",
              "      <td>2</td>\n",
              "      <td>2</td>\n",
              "      <td>0</td>\n",
              "      <td>4</td>\n",
              "      <td>6</td>\n",
              "      <td>0</td>\n",
              "      <td>9</td>\n",
              "      <td>100</td>\n",
              "      <td>0</td>\n",
              "      <td>7</td>\n",
              "      <td>0</td>\n",
              "      <td>03/10/20 13:52:24 CDT</td>\n",
              "      <td>03/10/20 13:52:24 CDT</td>\n",
              "      <td>85</td>\n",
              "      <td>3.50</td>\n",
              "      <td>0</td>\n",
              "      <td>3.50</td>\n",
              "      <td>Incomplete</td>\n",
              "      <td>1/30/2020 15:35</td>\n",
              "      <td>History 7</td>\n",
              "      <td>Bryant - 8</td>\n",
              "    </tr>\n",
              "    <tr>\n",
              "      <th>4</th>\n",
              "      <td>60039864</td>\n",
              "      <td>Kalynn</td>\n",
              "      <td>Abney</td>\n",
              "      <td>60039864@distinctiveschools.org</td>\n",
              "      <td>7</td>\n",
              "      <td>3/19/2020 8:46</td>\n",
              "      <td>Dionne Milton</td>\n",
              "      <td>English 7 - Drumgoole - 4</td>\n",
              "      <td>English 7</td>\n",
              "      <td>2020</td>\n",
              "      <td>English</td>\n",
              "      <td>I</td>\n",
              "      <td>71.0</td>\n",
              "      <td>2</td>\n",
              "      <td>0</td>\n",
              "      <td>0</td>\n",
              "      <td>0</td>\n",
              "      <td>2</td>\n",
              "      <td>5</td>\n",
              "      <td>2</td>\n",
              "      <td>10</td>\n",
              "      <td>71</td>\n",
              "      <td>1</td>\n",
              "      <td>4</td>\n",
              "      <td>50</td>\n",
              "      <td>03/10/20 11:20:04 CDT</td>\n",
              "      <td>02/11/20 10:44:55 CST</td>\n",
              "      <td>73</td>\n",
              "      <td>2.71</td>\n",
              "      <td>0</td>\n",
              "      <td>2.71</td>\n",
              "      <td>Incomplete</td>\n",
              "      <td>3/18/2020 11:06</td>\n",
              "      <td>English 7</td>\n",
              "      <td>Drumgoole - 4</td>\n",
              "    </tr>\n",
              "  </tbody>\n",
              "</table>\n",
              "</div>"
            ],
            "text/plain": [
              "   SIS_NUMBER Student First  ... Course Title        pahun_2\n",
              "0    60039674         Kaleb  ...    English 7  Drumgoole - 2\n",
              "1    60039674         Kaleb  ...    Science 7     Milton - 9\n",
              "2    60039674         Kaleb  ...       Math 7      Hicks - 4\n",
              "3    60039674         Kaleb  ...    History 7     Bryant - 8\n",
              "4    60039864        Kalynn  ...    English 7  Drumgoole - 4\n",
              "\n",
              "[5 rows x 35 columns]"
            ]
          },
          "metadata": {
            "tags": []
          },
          "execution_count": 18
        }
      ]
    },
    {
      "cell_type": "code",
      "metadata": {
        "id": "_qvlmMI6e8oS",
        "colab": {
          "base_uri": "https://localhost:8080/",
          "height": 100
        },
        "outputId": "52d12083-e860-40d7-b679-554a20af94c7"
      },
      "source": [
        "template.head()"
      ],
      "execution_count": null,
      "outputs": [
        {
          "output_type": "execute_result",
          "data": {
            "text/html": [
              "<div>\n",
              "<style scoped>\n",
              "    .dataframe tbody tr th:only-of-type {\n",
              "        vertical-align: middle;\n",
              "    }\n",
              "\n",
              "    .dataframe tbody tr th {\n",
              "        vertical-align: top;\n",
              "    }\n",
              "\n",
              "    .dataframe thead th {\n",
              "        text-align: right;\n",
              "    }\n",
              "</style>\n",
              "<table border=\"1\" class=\"dataframe\">\n",
              "  <thead>\n",
              "    <tr style=\"text-align: right;\">\n",
              "      <th></th>\n",
              "      <th>SIS_NUMBER</th>\n",
              "      <th>SCHOOL_CODE</th>\n",
              "      <th>SCHOOL_YEAR</th>\n",
              "      <th>GRADING_TERM</th>\n",
              "      <th>MARK_NAME</th>\n",
              "      <th>SECTION_ID</th>\n",
              "      <th>ABS1</th>\n",
              "      <th>ABS2</th>\n",
              "      <th>ABS3</th>\n",
              "      <th>ABS4</th>\n",
              "      <th>ABS5</th>\n",
              "      <th>ABS6</th>\n",
              "      <th>CONDUCT</th>\n",
              "      <th>CITIZENSHIP</th>\n",
              "      <th>WORKHABITS</th>\n",
              "      <th>GRADE_MARK</th>\n",
              "      <th>COMMENT_1</th>\n",
              "      <th>COMMENT_2</th>\n",
              "      <th>COMMENT_3</th>\n",
              "      <th>COMMENT_4</th>\n",
              "      <th>COMMENT_5</th>\n",
              "      <th>COMMENT_6</th>\n",
              "      <th>COMMENT_7</th>\n",
              "      <th>COMMENT_8</th>\n",
              "      <th>COMMENT_9</th>\n",
              "      <th>TEACHER_AD_HOC_COMMENT</th>\n",
              "    </tr>\n",
              "  </thead>\n",
              "  <tbody>\n",
              "    <tr>\n",
              "      <th>0</th>\n",
              "      <td>NaN</td>\n",
              "      <td>400181</td>\n",
              "      <td>2019</td>\n",
              "      <td>skip for now</td>\n",
              "      <td>NaN</td>\n",
              "      <td>NaN</td>\n",
              "      <td>NaN</td>\n",
              "      <td>NaN</td>\n",
              "      <td>NaN</td>\n",
              "      <td>NaN</td>\n",
              "      <td>NaN</td>\n",
              "      <td>NaN</td>\n",
              "      <td>NaN</td>\n",
              "      <td>NaN</td>\n",
              "      <td>NaN</td>\n",
              "      <td>NaN</td>\n",
              "      <td>NaN</td>\n",
              "      <td>NaN</td>\n",
              "      <td>NaN</td>\n",
              "      <td>NaN</td>\n",
              "      <td>NaN</td>\n",
              "      <td>NaN</td>\n",
              "      <td>NaN</td>\n",
              "      <td>NaN</td>\n",
              "      <td>NaN</td>\n",
              "      <td>NaN</td>\n",
              "    </tr>\n",
              "  </tbody>\n",
              "</table>\n",
              "</div>"
            ],
            "text/plain": [
              "   SIS_NUMBER  SCHOOL_CODE  ...  COMMENT_9 TEACHER_AD_HOC_COMMENT\n",
              "0         NaN       400181  ...        NaN                    NaN\n",
              "\n",
              "[1 rows x 26 columns]"
            ]
          },
          "metadata": {
            "tags": []
          },
          "execution_count": 19
        }
      ]
    },
    {
      "cell_type": "code",
      "metadata": {
        "id": "HmmMFAa3S6R_"
      },
      "source": [
        "keep =['SIS_NUMBER', 'Course Title',  \n",
        "       'GRADE_MARK']"
      ],
      "execution_count": null,
      "outputs": []
    },
    {
      "cell_type": "code",
      "metadata": {
        "id": "Lrn1Yi6BbH2C"
      },
      "source": [
        "df=df[keep]"
      ],
      "execution_count": null,
      "outputs": []
    },
    {
      "cell_type": "code",
      "metadata": {
        "id": "yBT78f4VbmzP",
        "colab": {
          "base_uri": "https://localhost:8080/",
          "height": 34
        },
        "outputId": "73e5fc6e-955b-4d47-eb1c-b673033e0e72"
      },
      "source": [
        "df.shape"
      ],
      "execution_count": null,
      "outputs": [
        {
          "output_type": "execute_result",
          "data": {
            "text/plain": [
              "(776, 3)"
            ]
          },
          "metadata": {
            "tags": []
          },
          "execution_count": 22
        }
      ]
    },
    {
      "cell_type": "code",
      "metadata": {
        "id": "j1abGJC0bohg",
        "colab": {
          "base_uri": "https://localhost:8080/",
          "height": 34
        },
        "outputId": "22e9e5ac-c0d9-4ad4-bb8b-d68c7dcca1e3"
      },
      "source": [
        "cc.shape"
      ],
      "execution_count": null,
      "outputs": [
        {
          "output_type": "execute_result",
          "data": {
            "text/plain": [
              "(803, 3)"
            ]
          },
          "metadata": {
            "tags": []
          },
          "execution_count": 23
        }
      ]
    },
    {
      "cell_type": "code",
      "metadata": {
        "id": "Sx2UAV-nTVLr"
      },
      "source": [
        "rv = pd.merge(df, cc, on=['SIS_NUMBER','Course Title'])"
      ],
      "execution_count": null,
      "outputs": []
    },
    {
      "cell_type": "code",
      "metadata": {
        "id": "wVK2ZOFpEF-y",
        "colab": {
          "base_uri": "https://localhost:8080/",
          "height": 34
        },
        "outputId": "4d9dd5da-264a-4cd2-e9ce-099ee8944157"
      },
      "source": [
        "print(\"Loaded data has shape {}\".format(rv.shape))"
      ],
      "execution_count": null,
      "outputs": [
        {
          "output_type": "stream",
          "text": [
            "Loaded data has shape (776, 4)\n"
          ],
          "name": "stdout"
        }
      ]
    },
    {
      "cell_type": "code",
      "metadata": {
        "id": "rZ9tcM5Sbjsk",
        "colab": {
          "base_uri": "https://localhost:8080/",
          "height": 204
        },
        "outputId": "37871bf6-de99-46de-a003-82773523e0c4"
      },
      "source": [
        "rv.head()"
      ],
      "execution_count": null,
      "outputs": [
        {
          "output_type": "execute_result",
          "data": {
            "text/html": [
              "<div>\n",
              "<style scoped>\n",
              "    .dataframe tbody tr th:only-of-type {\n",
              "        vertical-align: middle;\n",
              "    }\n",
              "\n",
              "    .dataframe tbody tr th {\n",
              "        vertical-align: top;\n",
              "    }\n",
              "\n",
              "    .dataframe thead th {\n",
              "        text-align: right;\n",
              "    }\n",
              "</style>\n",
              "<table border=\"1\" class=\"dataframe\">\n",
              "  <thead>\n",
              "    <tr style=\"text-align: right;\">\n",
              "      <th></th>\n",
              "      <th>SIS_NUMBER</th>\n",
              "      <th>Course Title</th>\n",
              "      <th>GRADE_MARK</th>\n",
              "      <th>SECTION_ID</th>\n",
              "    </tr>\n",
              "  </thead>\n",
              "  <tbody>\n",
              "    <tr>\n",
              "      <th>0</th>\n",
              "      <td>60039674</td>\n",
              "      <td>English 7</td>\n",
              "      <td>I</td>\n",
              "      <td>400181ENGL07-1-001</td>\n",
              "    </tr>\n",
              "    <tr>\n",
              "      <th>1</th>\n",
              "      <td>60039674</td>\n",
              "      <td>Science 7</td>\n",
              "      <td>I</td>\n",
              "      <td>400181SCIE07-10-01</td>\n",
              "    </tr>\n",
              "    <tr>\n",
              "      <th>2</th>\n",
              "      <td>60039674</td>\n",
              "      <td>Math 7</td>\n",
              "      <td>I</td>\n",
              "      <td>400181MATH07-4-001</td>\n",
              "    </tr>\n",
              "    <tr>\n",
              "      <th>3</th>\n",
              "      <td>60039674</td>\n",
              "      <td>History 7</td>\n",
              "      <td>I</td>\n",
              "      <td>400181HIST07-8-001</td>\n",
              "    </tr>\n",
              "    <tr>\n",
              "      <th>4</th>\n",
              "      <td>60039864</td>\n",
              "      <td>English 7</td>\n",
              "      <td>I</td>\n",
              "      <td>400181ENGL07-1-003</td>\n",
              "    </tr>\n",
              "  </tbody>\n",
              "</table>\n",
              "</div>"
            ],
            "text/plain": [
              "   SIS_NUMBER Course Title GRADE_MARK          SECTION_ID\n",
              "0    60039674    English 7          I  400181ENGL07-1-001\n",
              "1    60039674    Science 7          I  400181SCIE07-10-01\n",
              "2    60039674       Math 7          I  400181MATH07-4-001\n",
              "3    60039674    History 7          I  400181HIST07-8-001\n",
              "4    60039864    English 7          I  400181ENGL07-1-003"
            ]
          },
          "metadata": {
            "tags": []
          },
          "execution_count": 26
        }
      ]
    },
    {
      "cell_type": "code",
      "metadata": {
        "id": "JSzqXwmHc-DP"
      },
      "source": [
        "rv = template.append(rv, sort=False)"
      ],
      "execution_count": null,
      "outputs": []
    },
    {
      "cell_type": "code",
      "metadata": {
        "id": "PxdGiME2hRUd"
      },
      "source": [
        "rv = rv.drop(rv.index[0])"
      ],
      "execution_count": null,
      "outputs": []
    },
    {
      "cell_type": "code",
      "metadata": {
        "id": "5zvTSVnRcq2H"
      },
      "source": [
        "rv['SCHOOL_CODE'] = 400181"
      ],
      "execution_count": null,
      "outputs": []
    },
    {
      "cell_type": "code",
      "metadata": {
        "id": "7m1K4wJUieoR"
      },
      "source": [
        "rv['SCHOOL_YEAR'] = 2009"
      ],
      "execution_count": null,
      "outputs": []
    },
    {
      "cell_type": "code",
      "metadata": {
        "id": "r88-9Uxgf_l1",
        "colab": {
          "base_uri": "https://localhost:8080/",
          "height": 309
        },
        "outputId": "49a66cbf-ff19-46d6-a89f-060c92033122"
      },
      "source": [
        "rv.head()"
      ],
      "execution_count": null,
      "outputs": [
        {
          "output_type": "execute_result",
          "data": {
            "text/html": [
              "<div>\n",
              "<style scoped>\n",
              "    .dataframe tbody tr th:only-of-type {\n",
              "        vertical-align: middle;\n",
              "    }\n",
              "\n",
              "    .dataframe tbody tr th {\n",
              "        vertical-align: top;\n",
              "    }\n",
              "\n",
              "    .dataframe thead th {\n",
              "        text-align: right;\n",
              "    }\n",
              "</style>\n",
              "<table border=\"1\" class=\"dataframe\">\n",
              "  <thead>\n",
              "    <tr style=\"text-align: right;\">\n",
              "      <th></th>\n",
              "      <th>SIS_NUMBER</th>\n",
              "      <th>SCHOOL_CODE</th>\n",
              "      <th>SCHOOL_YEAR</th>\n",
              "      <th>GRADING_TERM</th>\n",
              "      <th>MARK_NAME</th>\n",
              "      <th>SECTION_ID</th>\n",
              "      <th>ABS1</th>\n",
              "      <th>ABS2</th>\n",
              "      <th>ABS3</th>\n",
              "      <th>ABS4</th>\n",
              "      <th>ABS5</th>\n",
              "      <th>ABS6</th>\n",
              "      <th>CONDUCT</th>\n",
              "      <th>CITIZENSHIP</th>\n",
              "      <th>WORKHABITS</th>\n",
              "      <th>GRADE_MARK</th>\n",
              "      <th>COMMENT_1</th>\n",
              "      <th>COMMENT_2</th>\n",
              "      <th>COMMENT_3</th>\n",
              "      <th>COMMENT_4</th>\n",
              "      <th>COMMENT_5</th>\n",
              "      <th>COMMENT_6</th>\n",
              "      <th>COMMENT_7</th>\n",
              "      <th>COMMENT_8</th>\n",
              "      <th>COMMENT_9</th>\n",
              "      <th>TEACHER_AD_HOC_COMMENT</th>\n",
              "    </tr>\n",
              "  </thead>\n",
              "  <tbody>\n",
              "    <tr>\n",
              "      <th>1</th>\n",
              "      <td>60039674.0</td>\n",
              "      <td>400181</td>\n",
              "      <td>2009</td>\n",
              "      <td>NaN</td>\n",
              "      <td>NaN</td>\n",
              "      <td>400181SCIE07-10-01</td>\n",
              "      <td>NaN</td>\n",
              "      <td>NaN</td>\n",
              "      <td>NaN</td>\n",
              "      <td>NaN</td>\n",
              "      <td>NaN</td>\n",
              "      <td>NaN</td>\n",
              "      <td>NaN</td>\n",
              "      <td>NaN</td>\n",
              "      <td>NaN</td>\n",
              "      <td>I</td>\n",
              "      <td>NaN</td>\n",
              "      <td>NaN</td>\n",
              "      <td>NaN</td>\n",
              "      <td>NaN</td>\n",
              "      <td>NaN</td>\n",
              "      <td>NaN</td>\n",
              "      <td>NaN</td>\n",
              "      <td>NaN</td>\n",
              "      <td>NaN</td>\n",
              "      <td>NaN</td>\n",
              "    </tr>\n",
              "    <tr>\n",
              "      <th>2</th>\n",
              "      <td>60039674.0</td>\n",
              "      <td>400181</td>\n",
              "      <td>2009</td>\n",
              "      <td>NaN</td>\n",
              "      <td>NaN</td>\n",
              "      <td>400181MATH07-4-001</td>\n",
              "      <td>NaN</td>\n",
              "      <td>NaN</td>\n",
              "      <td>NaN</td>\n",
              "      <td>NaN</td>\n",
              "      <td>NaN</td>\n",
              "      <td>NaN</td>\n",
              "      <td>NaN</td>\n",
              "      <td>NaN</td>\n",
              "      <td>NaN</td>\n",
              "      <td>I</td>\n",
              "      <td>NaN</td>\n",
              "      <td>NaN</td>\n",
              "      <td>NaN</td>\n",
              "      <td>NaN</td>\n",
              "      <td>NaN</td>\n",
              "      <td>NaN</td>\n",
              "      <td>NaN</td>\n",
              "      <td>NaN</td>\n",
              "      <td>NaN</td>\n",
              "      <td>NaN</td>\n",
              "    </tr>\n",
              "    <tr>\n",
              "      <th>3</th>\n",
              "      <td>60039674.0</td>\n",
              "      <td>400181</td>\n",
              "      <td>2009</td>\n",
              "      <td>NaN</td>\n",
              "      <td>NaN</td>\n",
              "      <td>400181HIST07-8-001</td>\n",
              "      <td>NaN</td>\n",
              "      <td>NaN</td>\n",
              "      <td>NaN</td>\n",
              "      <td>NaN</td>\n",
              "      <td>NaN</td>\n",
              "      <td>NaN</td>\n",
              "      <td>NaN</td>\n",
              "      <td>NaN</td>\n",
              "      <td>NaN</td>\n",
              "      <td>I</td>\n",
              "      <td>NaN</td>\n",
              "      <td>NaN</td>\n",
              "      <td>NaN</td>\n",
              "      <td>NaN</td>\n",
              "      <td>NaN</td>\n",
              "      <td>NaN</td>\n",
              "      <td>NaN</td>\n",
              "      <td>NaN</td>\n",
              "      <td>NaN</td>\n",
              "      <td>NaN</td>\n",
              "    </tr>\n",
              "    <tr>\n",
              "      <th>4</th>\n",
              "      <td>60039864.0</td>\n",
              "      <td>400181</td>\n",
              "      <td>2009</td>\n",
              "      <td>NaN</td>\n",
              "      <td>NaN</td>\n",
              "      <td>400181ENGL07-1-003</td>\n",
              "      <td>NaN</td>\n",
              "      <td>NaN</td>\n",
              "      <td>NaN</td>\n",
              "      <td>NaN</td>\n",
              "      <td>NaN</td>\n",
              "      <td>NaN</td>\n",
              "      <td>NaN</td>\n",
              "      <td>NaN</td>\n",
              "      <td>NaN</td>\n",
              "      <td>I</td>\n",
              "      <td>NaN</td>\n",
              "      <td>NaN</td>\n",
              "      <td>NaN</td>\n",
              "      <td>NaN</td>\n",
              "      <td>NaN</td>\n",
              "      <td>NaN</td>\n",
              "      <td>NaN</td>\n",
              "      <td>NaN</td>\n",
              "      <td>NaN</td>\n",
              "      <td>NaN</td>\n",
              "    </tr>\n",
              "    <tr>\n",
              "      <th>5</th>\n",
              "      <td>60039864.0</td>\n",
              "      <td>400181</td>\n",
              "      <td>2009</td>\n",
              "      <td>NaN</td>\n",
              "      <td>NaN</td>\n",
              "      <td>400181SCIE07-8-001</td>\n",
              "      <td>NaN</td>\n",
              "      <td>NaN</td>\n",
              "      <td>NaN</td>\n",
              "      <td>NaN</td>\n",
              "      <td>NaN</td>\n",
              "      <td>NaN</td>\n",
              "      <td>NaN</td>\n",
              "      <td>NaN</td>\n",
              "      <td>NaN</td>\n",
              "      <td>I</td>\n",
              "      <td>NaN</td>\n",
              "      <td>NaN</td>\n",
              "      <td>NaN</td>\n",
              "      <td>NaN</td>\n",
              "      <td>NaN</td>\n",
              "      <td>NaN</td>\n",
              "      <td>NaN</td>\n",
              "      <td>NaN</td>\n",
              "      <td>NaN</td>\n",
              "      <td>NaN</td>\n",
              "    </tr>\n",
              "  </tbody>\n",
              "</table>\n",
              "</div>"
            ],
            "text/plain": [
              "   SIS_NUMBER  SCHOOL_CODE  ...  COMMENT_9 TEACHER_AD_HOC_COMMENT\n",
              "1  60039674.0       400181  ...        NaN                    NaN\n",
              "2  60039674.0       400181  ...        NaN                    NaN\n",
              "3  60039674.0       400181  ...        NaN                    NaN\n",
              "4  60039864.0       400181  ...        NaN                    NaN\n",
              "5  60039864.0       400181  ...        NaN                    NaN\n",
              "\n",
              "[5 rows x 26 columns]"
            ]
          },
          "metadata": {
            "tags": []
          },
          "execution_count": 35
        }
      ]
    },
    {
      "cell_type": "code",
      "metadata": {
        "id": "g1rDaVg3gAw6"
      },
      "source": [
        "rv =rv.drop('Course Title', axis=1)"
      ],
      "execution_count": null,
      "outputs": []
    },
    {
      "cell_type": "code",
      "metadata": {
        "id": "L0qDv7_ViJTu"
      },
      "source": [
        "rv.to_excel(\"output.xlsx\")  "
      ],
      "execution_count": null,
      "outputs": []
    }
  ]
}