{
  "nbformat": 4,
  "nbformat_minor": 0,
  "metadata": {
    "colab": {
      "name": "Chronic_Absenteeism.ipynb",
      "provenance": [],
      "collapsed_sections": [
        "wVTnEqIhFfFU",
        "MCL_1RcUk-RZ",
        "Qrn8hpkhrkP9"
      ]
    },
    "kernelspec": {
      "name": "python3",
      "display_name": "Python 3"
    }
  },
  "cells": [
    {
      "cell_type": "code",
      "metadata": {
        "id": "bYvRxmh5_1IA",
        "colab_type": "code",
        "colab": {}
      },
      "source": [
        "from google.colab import drive\n",
        "import matplotlib.pyplot as plt"
      ],
      "execution_count": 0,
      "outputs": []
    },
    {
      "cell_type": "code",
      "metadata": {
        "id": "KaXLzxzp_3yq",
        "colab_type": "code",
        "outputId": "1ac06812-a439-4b0b-983b-3ad7528a80fa",
        "colab": {
          "base_uri": "https://localhost:8080/",
          "height": 54
        }
      },
      "source": [
        "drive.mount('/content/gdrive')"
      ],
      "execution_count": 36,
      "outputs": [
        {
          "output_type": "stream",
          "text": [
            "Drive already mounted at /content/gdrive; to attempt to forcibly remount, call drive.mount(\"/content/gdrive\", force_remount=True).\n"
          ],
          "name": "stdout"
        }
      ]
    },
    {
      "cell_type": "markdown",
      "metadata": {
        "id": "TBCWB_KFk6bK",
        "colab_type": "text"
      },
      "source": [
        "# Bigquery\n",
        "## Load the Data for 4 CICS data from Bigquery"
      ]
    },
    {
      "cell_type": "code",
      "metadata": {
        "id": "n9TQPjk4rBEB",
        "colab_type": "code",
        "outputId": "53e75f12-3369-4a9f-d6f9-1bb3c7bb9c51",
        "colab": {
          "base_uri": "https://localhost:8080/",
          "height": 34
        }
      },
      "source": [
        "from google.colab import auth\n",
        "auth.authenticate_user()\n",
        "print('Authenticated')"
      ],
      "execution_count": 0,
      "outputs": [
        {
          "output_type": "stream",
          "text": [
            "Authenticated\n"
          ],
          "name": "stdout"
        }
      ]
    },
    {
      "cell_type": "code",
      "metadata": {
        "id": "ZQ687UrtwP2-",
        "colab_type": "code",
        "colab": {}
      },
      "source": [
        "'''\n",
        "%%bigquery --project ds-student-data df\n",
        "SELECT *\n",
        "FROM `ds-student-data.Distinctive.ChronicAbsence` \n",
        "'''"
      ],
      "execution_count": 0,
      "outputs": []
    },
    {
      "cell_type": "code",
      "metadata": {
        "id": "Ih-HCI4hlRHQ",
        "colab_type": "code",
        "colab": {}
      },
      "source": [
        "#Getting the ChronicAbsence data\n",
        "#Change the last where clause by condition\n",
        "\n",
        "%%bigquery --project ds-student-data df\n",
        "\n",
        "SELECT a.NameOfInstitution,a.StudentUniqueId, sde.GradeLevel, a.LastSurname, a.FirstName, a.NumberOfTotalAbsences, b.AverageAbsence\n",
        "FROM `ds-student-data.StarterPack.StudentAttendance` as a\n",
        "INNER JOIN\n",
        "(SELECT ROUND(AVG(NumberOfTotalAbsences),1) AverageAbsence, NameOfInstitution\n",
        "FROM `ds-student-data.StarterPack.StudentAttendance`\n",
        "GROUP BY NameOfInstitution ) as b\n",
        "ON a.NameOfInstitution = b.NameOfInstitution\n",
        "LEFT JOIN `ds-student-data.StarterPack.StudentDemographicsAndEnrollment` as sde\n",
        "ON a.StudentUniqueID=sde.StudentUniqueID\n",
        "WHERE a.NumberOfTotalAbsences >=10"
      ],
      "execution_count": 0,
      "outputs": []
    },
    {
      "cell_type": "code",
      "metadata": {
        "id": "lxCsE0a6xNiv",
        "colab_type": "code",
        "outputId": "86480444-7f3d-40c1-9451-ca440f3d2514",
        "colab": {
          "base_uri": "https://localhost:8080/",
          "height": 34
        }
      },
      "source": [
        "#df.shape"
      ],
      "execution_count": 0,
      "outputs": [
        {
          "output_type": "execute_result",
          "data": {
            "text/plain": [
              "(551, 7)"
            ]
          },
          "metadata": {
            "tags": []
          },
          "execution_count": 52
        }
      ]
    },
    {
      "cell_type": "code",
      "metadata": {
        "id": "63EAGOYVgSET",
        "colab_type": "code",
        "outputId": "90e9f80d-73bf-49ab-f7d4-c6898c9bbb0c",
        "colab": {
          "base_uri": "https://localhost:8080/",
          "height": 68
        }
      },
      "source": [
        "!ls /content/gdrive/My\\ Drive/Chronic_absenteeism_letter/"
      ],
      "execution_count": 0,
      "outputs": [
        {
          "output_type": "stream",
          "text": [
            " 2020-01-23\t\t\t\t       'Chronic Absence.xlsx'\n",
            "'Chronic Absence - Absence List Import.csv'     Chronic_Absenteeism.ipynb\n",
            "'Chronic Absence Letter #1 - Jan '\\''20.gdoc'   test\n"
          ],
          "name": "stdout"
        }
      ]
    },
    {
      "cell_type": "code",
      "metadata": {
        "id": "6WpoRhXav7Nz",
        "colab_type": "code",
        "colab": {}
      },
      "source": [
        "schoolname = {'Prairie':'CICS Prairie', 'Bucktown':'CICS Bucktown', 'Distinctive College Prep Harper Woods':'DCP Harper Woods',\n",
        "       'Distinctive College Prep Redford':'DCP Redford', 'West Belden':'CICS West Belden', 'Irving Park':'CICS Irving Park'}"
      ],
      "execution_count": 0,
      "outputs": []
    },
    {
      "cell_type": "code",
      "metadata": {
        "id": "s8RKNXZv3boa",
        "colab_type": "code",
        "colab": {}
      },
      "source": [
        "df['NameOfInstitution'] = df['NameOfInstitution'].map(schoolname)"
      ],
      "execution_count": 0,
      "outputs": []
    },
    {
      "cell_type": "markdown",
      "metadata": {
        "colab_type": "text",
        "id": "wVTnEqIhFfFU"
      },
      "source": [
        "# Load from CSV\n",
        "\n",
        "##use this code to load data is not on bigquery, AIM & PEC"
      ]
    },
    {
      "cell_type": "code",
      "metadata": {
        "id": "_KDV9FuAA3Wn",
        "colab_type": "code",
        "outputId": "a6f39eb6-f82d-44b4-e4ea-f07839fdb232",
        "colab": {
          "base_uri": "https://localhost:8080/",
          "height": 85
        }
      },
      "source": [
        "#Data saved in csv/excel\n",
        "import pandas as pd\n",
        "import glob, os\n",
        "\n",
        "data_dir= '/content/gdrive/My Drive/Chronic_absenteeism_letter/'\n",
        "filen = '2.13ChronicAbsence.csv'\n",
        "\n",
        "os.chdir(data_dir)\n",
        "\n",
        "df=pd.read_csv(filen)\n",
        "\n",
        "print(\"Column headings:\")\n",
        "print(df.columns)\n"
      ],
      "execution_count": 0,
      "outputs": [
        {
          "output_type": "stream",
          "text": [
            "Column headings:\n",
            "Index(['NameOfInstitution', 'StudentUniqueId', 'GradeLevel', 'LastSurname',\n",
            "       'FirstName', 'NumberOfTotalAbsences', 'AverageAbsence'],\n",
            "      dtype='object')\n"
          ],
          "name": "stdout"
        }
      ]
    },
    {
      "cell_type": "code",
      "metadata": {
        "id": "9727X9HXlfdq",
        "colab_type": "code",
        "outputId": "d009ef9d-63b1-4f8f-e46a-8e7596a47995",
        "colab": {
          "base_uri": "https://localhost:8080/",
          "height": 34
        }
      },
      "source": [
        "df.shape"
      ],
      "execution_count": 0,
      "outputs": [
        {
          "output_type": "execute_result",
          "data": {
            "text/plain": [
              "(174, 7)"
            ]
          },
          "metadata": {
            "tags": []
          },
          "execution_count": 4
        }
      ]
    },
    {
      "cell_type": "code",
      "metadata": {
        "id": "mWXKzRlbQuc_",
        "colab_type": "code",
        "outputId": "acd42c39-fea0-4f39-9fed-cad2a29a2ebc",
        "colab": {
          "base_uri": "https://localhost:8080/",
          "height": 204
        }
      },
      "source": [
        "df.tail()"
      ],
      "execution_count": 0,
      "outputs": [
        {
          "output_type": "execute_result",
          "data": {
            "text/html": [
              "<div>\n",
              "<style scoped>\n",
              "    .dataframe tbody tr th:only-of-type {\n",
              "        vertical-align: middle;\n",
              "    }\n",
              "\n",
              "    .dataframe tbody tr th {\n",
              "        vertical-align: top;\n",
              "    }\n",
              "\n",
              "    .dataframe thead th {\n",
              "        text-align: right;\n",
              "    }\n",
              "</style>\n",
              "<table border=\"1\" class=\"dataframe\">\n",
              "  <thead>\n",
              "    <tr style=\"text-align: right;\">\n",
              "      <th></th>\n",
              "      <th>NameOfInstitution</th>\n",
              "      <th>StudentUniqueId</th>\n",
              "      <th>GradeLevel</th>\n",
              "      <th>LastSurname</th>\n",
              "      <th>FirstName</th>\n",
              "      <th>NumberOfTotalAbsences</th>\n",
              "      <th>AverageAbsence</th>\n",
              "    </tr>\n",
              "  </thead>\n",
              "  <tbody>\n",
              "    <tr>\n",
              "      <th>169</th>\n",
              "      <td>Art in Motion</td>\n",
              "      <td>50235763</td>\n",
              "      <td>8</td>\n",
              "      <td>Noel</td>\n",
              "      <td>Rashaud</td>\n",
              "      <td>14</td>\n",
              "      <td>4</td>\n",
              "    </tr>\n",
              "    <tr>\n",
              "      <th>170</th>\n",
              "      <td>Art in Motion</td>\n",
              "      <td>50189119</td>\n",
              "      <td>7</td>\n",
              "      <td>Prince</td>\n",
              "      <td>Toney</td>\n",
              "      <td>19</td>\n",
              "      <td>4</td>\n",
              "    </tr>\n",
              "    <tr>\n",
              "      <th>171</th>\n",
              "      <td>Art in Motion</td>\n",
              "      <td>50300256</td>\n",
              "      <td>7</td>\n",
              "      <td>Riley</td>\n",
              "      <td>Dinai</td>\n",
              "      <td>10</td>\n",
              "      <td>4</td>\n",
              "    </tr>\n",
              "    <tr>\n",
              "      <th>172</th>\n",
              "      <td>Art in Motion</td>\n",
              "      <td>50251714</td>\n",
              "      <td>7</td>\n",
              "      <td>Smith</td>\n",
              "      <td>Jalyn</td>\n",
              "      <td>15</td>\n",
              "      <td>4</td>\n",
              "    </tr>\n",
              "    <tr>\n",
              "      <th>173</th>\n",
              "      <td>Art in Motion</td>\n",
              "      <td>50158879</td>\n",
              "      <td>8</td>\n",
              "      <td>Smith</td>\n",
              "      <td>Tajah</td>\n",
              "      <td>10</td>\n",
              "      <td>4</td>\n",
              "    </tr>\n",
              "  </tbody>\n",
              "</table>\n",
              "</div>"
            ],
            "text/plain": [
              "    NameOfInstitution  StudentUniqueId  ... NumberOfTotalAbsences AverageAbsence\n",
              "169     Art in Motion         50235763  ...                    14              4\n",
              "170     Art in Motion         50189119  ...                    19              4\n",
              "171     Art in Motion         50300256  ...                    10              4\n",
              "172     Art in Motion         50251714  ...                    15              4\n",
              "173     Art in Motion         50158879  ...                    10              4\n",
              "\n",
              "[5 rows x 7 columns]"
            ]
          },
          "metadata": {
            "tags": []
          },
          "execution_count": 5
        }
      ]
    },
    {
      "cell_type": "markdown",
      "metadata": {
        "id": "dWZ87vP3A_WO",
        "colab_type": "text"
      },
      "source": [
        "#Getting the Images  & Principal info"
      ]
    },
    {
      "cell_type": "code",
      "metadata": {
        "id": "q6Nqw2cvgDnO",
        "colab_type": "code",
        "colab": {}
      },
      "source": [
        "import pandas as pd\n",
        "import glob, os\n",
        "\n",
        "data_dir= '/content/gdrive/My Drive/Chronic_absenteeism_letter/'\n",
        "filename = 'Chronic Absence.xlsx'\n",
        "\n",
        "os.chdir(data_dir)\n"
      ],
      "execution_count": 0,
      "outputs": []
    },
    {
      "cell_type": "code",
      "metadata": {
        "id": "lGtQDwbChVYv",
        "colab_type": "code",
        "colab": {}
      },
      "source": [
        "dname=pd.read_excel(filename, sheet_name='Images  & PrincipalTable')"
      ],
      "execution_count": 0,
      "outputs": []
    },
    {
      "cell_type": "code",
      "metadata": {
        "id": "K6RTBVLzyUYG",
        "colab_type": "code",
        "outputId": "c641d661-261c-4bb2-aa25-5ca99c34b077",
        "colab": {
          "base_uri": "https://localhost:8080/",
          "height": 34
        }
      },
      "source": [
        "df.NameOfInstitution.unique()"
      ],
      "execution_count": 0,
      "outputs": [
        {
          "output_type": "execute_result",
          "data": {
            "text/plain": [
              "array(['Plymouth Educational Center', 'Art in Motion'], dtype=object)"
            ]
          },
          "metadata": {
            "tags": []
          },
          "execution_count": 8
        }
      ]
    },
    {
      "cell_type": "code",
      "metadata": {
        "id": "ikOIQiISC_-_",
        "colab_type": "code",
        "colab": {}
      },
      "source": [
        "dc=df.groupby(\"NameOfInstitution\")['AverageAbsence'].mean().round(1).to_dict()"
      ],
      "execution_count": 0,
      "outputs": []
    },
    {
      "cell_type": "code",
      "metadata": {
        "id": "YNqT0JzAOjmo",
        "colab_type": "code",
        "outputId": "a89e5509-242d-4ac4-de80-ce1e1f6b8d2f",
        "colab": {
          "base_uri": "https://localhost:8080/",
          "height": 34
        }
      },
      "source": [
        "dc"
      ],
      "execution_count": 0,
      "outputs": [
        {
          "output_type": "execute_result",
          "data": {
            "text/plain": [
              "{'Art in Motion': 4, 'Plymouth Educational Center': 8}"
            ]
          },
          "metadata": {
            "tags": []
          },
          "execution_count": 10
        }
      ]
    },
    {
      "cell_type": "code",
      "metadata": {
        "id": "CH3-U55MPWle",
        "colab_type": "code",
        "colab": {}
      },
      "source": [
        "#Using whole DS average for PEC\n",
        "dc['Plymouth Educational Center']= 6.1"
      ],
      "execution_count": 0,
      "outputs": []
    },
    {
      "cell_type": "code",
      "metadata": {
        "id": "Ytp3sNGumtyL",
        "colab_type": "code",
        "colab": {}
      },
      "source": [
        "#Getting the total number of absence for all schools\n",
        "%%bigquery --project ds-student-data mni\n",
        "\n",
        "SELECT AVG(NumberOfTotalAbsences) as avgDS\n",
        "FROM `ds-student-data.StarterPack.StudentAttendance`"
      ],
      "execution_count": 0,
      "outputs": []
    },
    {
      "cell_type": "code",
      "metadata": {
        "id": "6p-05eOwxUMw",
        "colab_type": "code",
        "colab": {}
      },
      "source": [
        "#Using whole DS average for DCP \n",
        "dc['DCP Harper Woods']=mni.avgDS.loc[0].round(1)\n",
        "dc['DCP Redford']=mni.avgDS.loc[0].round(1)"
      ],
      "execution_count": 0,
      "outputs": []
    },
    {
      "cell_type": "code",
      "metadata": {
        "id": "SBp6EBBAnj4R",
        "colab_type": "code",
        "outputId": "c6a7eda9-9ee7-49f1-cee6-2cde989da787",
        "colab": {
          "base_uri": "https://localhost:8080/",
          "height": 34
        }
      },
      "source": [
        "mni.avgDS.loc[0].round(1)"
      ],
      "execution_count": 0,
      "outputs": [
        {
          "output_type": "execute_result",
          "data": {
            "text/plain": [
              "6.1"
            ]
          },
          "metadata": {
            "tags": []
          },
          "execution_count": 36
        }
      ]
    },
    {
      "cell_type": "code",
      "metadata": {
        "id": "w95AG6xlDNXD",
        "colab_type": "code",
        "outputId": "abb6a7b6-4b81-47e4-9a96-1fd8e0d46ccb",
        "colab": {
          "base_uri": "https://localhost:8080/",
          "height": 34
        }
      },
      "source": [
        "dc"
      ],
      "execution_count": 0,
      "outputs": [
        {
          "output_type": "execute_result",
          "data": {
            "text/plain": [
              "{'Art in Motion': 4, 'Plymouth Educational Center': 6.1}"
            ]
          },
          "metadata": {
            "tags": []
          },
          "execution_count": 15
        }
      ]
    },
    {
      "cell_type": "code",
      "metadata": {
        "id": "ZwEnmZXqJOlS",
        "colab_type": "code",
        "colab": {}
      },
      "source": [
        "df['AverageAbsence'] = df['NameOfInstitution'].map(dc)"
      ],
      "execution_count": 0,
      "outputs": []
    },
    {
      "cell_type": "code",
      "metadata": {
        "id": "GvyS-_8KHg0W",
        "colab_type": "code",
        "outputId": "84745175-17bf-4b5f-80e4-f7f56d311295",
        "colab": {
          "base_uri": "https://localhost:8080/",
          "height": 204
        }
      },
      "source": [
        "df.head()"
      ],
      "execution_count": 0,
      "outputs": [
        {
          "output_type": "execute_result",
          "data": {
            "text/html": [
              "<div>\n",
              "<style scoped>\n",
              "    .dataframe tbody tr th:only-of-type {\n",
              "        vertical-align: middle;\n",
              "    }\n",
              "\n",
              "    .dataframe tbody tr th {\n",
              "        vertical-align: top;\n",
              "    }\n",
              "\n",
              "    .dataframe thead th {\n",
              "        text-align: right;\n",
              "    }\n",
              "</style>\n",
              "<table border=\"1\" class=\"dataframe\">\n",
              "  <thead>\n",
              "    <tr style=\"text-align: right;\">\n",
              "      <th></th>\n",
              "      <th>NameOfInstitution</th>\n",
              "      <th>StudentUniqueId</th>\n",
              "      <th>GradeLevel</th>\n",
              "      <th>LastSurname</th>\n",
              "      <th>FirstName</th>\n",
              "      <th>NumberOfTotalAbsences</th>\n",
              "      <th>AverageAbsence</th>\n",
              "    </tr>\n",
              "  </thead>\n",
              "  <tbody>\n",
              "    <tr>\n",
              "      <th>0</th>\n",
              "      <td>Plymouth Educational Center</td>\n",
              "      <td>20007123</td>\n",
              "      <td>K</td>\n",
              "      <td>Bridges</td>\n",
              "      <td>Walter</td>\n",
              "      <td>20</td>\n",
              "      <td>6.1</td>\n",
              "    </tr>\n",
              "    <tr>\n",
              "      <th>1</th>\n",
              "      <td>Plymouth Educational Center</td>\n",
              "      <td>20007170</td>\n",
              "      <td>K</td>\n",
              "      <td>Brown</td>\n",
              "      <td>AlayJia</td>\n",
              "      <td>63</td>\n",
              "      <td>6.1</td>\n",
              "    </tr>\n",
              "    <tr>\n",
              "      <th>2</th>\n",
              "      <td>Plymouth Educational Center</td>\n",
              "      <td>20007124</td>\n",
              "      <td>K</td>\n",
              "      <td>Cabbil</td>\n",
              "      <td>Heaven</td>\n",
              "      <td>13</td>\n",
              "      <td>6.1</td>\n",
              "    </tr>\n",
              "    <tr>\n",
              "      <th>3</th>\n",
              "      <td>Plymouth Educational Center</td>\n",
              "      <td>20007279</td>\n",
              "      <td>K</td>\n",
              "      <td>Caldwell</td>\n",
              "      <td>Liam</td>\n",
              "      <td>10</td>\n",
              "      <td>6.1</td>\n",
              "    </tr>\n",
              "    <tr>\n",
              "      <th>4</th>\n",
              "      <td>Plymouth Educational Center</td>\n",
              "      <td>20007197</td>\n",
              "      <td>K</td>\n",
              "      <td>Clark</td>\n",
              "      <td>Chiron</td>\n",
              "      <td>18</td>\n",
              "      <td>6.1</td>\n",
              "    </tr>\n",
              "  </tbody>\n",
              "</table>\n",
              "</div>"
            ],
            "text/plain": [
              "             NameOfInstitution  ...  AverageAbsence\n",
              "0  Plymouth Educational Center  ...             6.1\n",
              "1  Plymouth Educational Center  ...             6.1\n",
              "2  Plymouth Educational Center  ...             6.1\n",
              "3  Plymouth Educational Center  ...             6.1\n",
              "4  Plymouth Educational Center  ...             6.1\n",
              "\n",
              "[5 rows x 7 columns]"
            ]
          },
          "metadata": {
            "tags": []
          },
          "execution_count": 13
        }
      ]
    },
    {
      "cell_type": "code",
      "metadata": {
        "id": "Mx4nubANyLXf",
        "colab_type": "code",
        "colab": {}
      },
      "source": [
        "links = dict(zip(dname.Campus, dname.Link))"
      ],
      "execution_count": 0,
      "outputs": []
    },
    {
      "cell_type": "code",
      "metadata": {
        "id": "_NqbVOoCaCHE",
        "colab_type": "code",
        "colab": {}
      },
      "source": [
        "links['Art in Motion']='https://www.distinctiveschools.org/uploads/8/4/9/1/84911918/published/aim-circle-logo-color-withwhite.png?1581611169'"
      ],
      "execution_count": 0,
      "outputs": []
    },
    {
      "cell_type": "code",
      "metadata": {
        "id": "w7fCIve3h4HW",
        "colab_type": "code",
        "outputId": "b79cd4d4-ac60-49cf-ad46-6ea77799668c",
        "colab": {
          "base_uri": "https://localhost:8080/",
          "height": 173
        }
      },
      "source": [
        "links"
      ],
      "execution_count": 0,
      "outputs": [
        {
          "output_type": "execute_result",
          "data": {
            "text/plain": [
              "{'Art in Motion': 'https://www.distinctiveschools.org/uploads/8/4/9/1/84911918/published/aim-circle-logo-color-withwhite.png?1581611169',\n",
              " 'CICS Bucktown': 'https://www.cicsbucktown.org/uploads/8/4/9/1/84911918/published/cics-bucktown-horz.png?1531843975',\n",
              " 'CICS Irving Park': 'https://www.cicsirvingpark.org/uploads/8/4/9/1/84911918/published/cics-irving-park-horz.png?1531844890',\n",
              " 'CICS Prairie': 'https://www.cicsprairie.org/uploads/8/4/9/1/84911918/published/cics-prairie-horz.png?1531844962',\n",
              " 'CICS West Belden': 'https://www.cicswestbelden.org/uploads/8/4/9/1/84911918/published/cics-west-belden-horz.png?1531845057',\n",
              " 'DCP Harper Woods': 'https://www.dcpharperwoods.org/uploads/8/4/9/1/84911918/dscp-stacked-horizontal.png',\n",
              " 'DCP Redford': 'https://www.dcpharperwoods.org/uploads/8/4/9/1/84911918/dscp-stacked-horizontal.png',\n",
              " 'Plymouth Educational Center': 'https://www.plymouthed.org/uploads/8/4/9/1/84911918/published/pec-navylogo_1.png?1561052576'}"
            ]
          },
          "metadata": {
            "tags": []
          },
          "execution_count": 18
        }
      ]
    },
    {
      "cell_type": "code",
      "metadata": {
        "id": "jYJO89V2xySo",
        "colab_type": "code",
        "colab": {}
      },
      "source": [
        "#Make a dictionary matching the campus to Director names\n",
        "dnames = dict(zip(dname.Campus, dname.Director))"
      ],
      "execution_count": 0,
      "outputs": []
    },
    {
      "cell_type": "code",
      "metadata": {
        "id": "QNmQc8BJ3_1w",
        "colab_type": "code",
        "outputId": "e70f32e4-8bf0-4f8a-b1fd-a8188905590b",
        "colab": {
          "base_uri": "https://localhost:8080/",
          "height": 153
        }
      },
      "source": [
        "dnames"
      ],
      "execution_count": 0,
      "outputs": [
        {
          "output_type": "execute_result",
          "data": {
            "text/plain": [
              "{'Art in Motion': 'Ms. Kara May',\n",
              " 'CICS Bucktown': \"Ms. Sarah O'Connell\",\n",
              " 'CICS Irving Park': 'Mr. JW Kuebler',\n",
              " 'CICS Prairie': 'Ms. Jennifer Harth',\n",
              " 'CICS West Belden': 'Ms. Colleen Collins',\n",
              " 'DCP Harper Woods': 'Ms. Cassie Williams',\n",
              " 'DCP Redford': 'Ms. Camille Hibbler',\n",
              " 'Plymouth Educational Center': 'Ms. Schranda Battle'}"
            ]
          },
          "metadata": {
            "tags": []
          },
          "execution_count": 21
        }
      ]
    },
    {
      "cell_type": "code",
      "metadata": {
        "id": "iv5z0Z_mFJHG",
        "colab_type": "code",
        "colab": {}
      },
      "source": [
        "mails = {'CICS Bucktown':'soconnell@distinctiveschools.org','CICS Irving Park': 'jkuebler@distinctiveschools.org',\n",
        " 'CICS Prairie': 'jharth@distinctiveschools.org',\n",
        " 'CICS West Belden': 'ccollins@distinctiveschools.org',\n",
        " 'DCP Harper Woods': 'cwilliams@distinctiveschools.org',\n",
        " 'DCP Redford': 'chibbler@distinctiveschools.org' ,\n",
        " 'Art in Motion': 'kmay@distinctiveschools.org',\n",
        " 'Plymouth Educational Center': 'sbattle@distinctiveschools.org' }"
      ],
      "execution_count": 0,
      "outputs": []
    },
    {
      "cell_type": "markdown",
      "metadata": {
        "id": "MCL_1RcUk-RZ",
        "colab_type": "text"
      },
      "source": [
        "# Create the letter"
      ]
    },
    {
      "cell_type": "code",
      "metadata": {
        "id": "LOSn831VBV5-",
        "colab_type": "code",
        "outputId": "2a2610a3-05c0-42d7-ecef-8cd13dff5e0a",
        "colab": {
          "base_uri": "https://localhost:8080/",
          "height": 51
        }
      },
      "source": [
        "!pip3 install reportlab"
      ],
      "execution_count": 37,
      "outputs": [
        {
          "output_type": "stream",
          "text": [
            "Requirement already satisfied: reportlab in /usr/local/lib/python3.6/dist-packages (3.5.34)\n",
            "Requirement already satisfied: pillow>=4.0.0 in /usr/local/lib/python3.6/dist-packages (from reportlab) (6.2.2)\n"
          ],
          "name": "stdout"
        }
      ]
    },
    {
      "cell_type": "code",
      "metadata": {
        "id": "IWfeWqviEKwG",
        "colab_type": "code",
        "colab": {}
      },
      "source": [
        "import os\n",
        "\n",
        "def createFolder(directory):\n",
        "\n",
        "    try:\n",
        "        if not os.path.exists(directory):\n",
        "            os.makedirs(directory)\n",
        "    except OSError:\n",
        "        print ('Error: Creating directory. ' +  directory)\n",
        "        \n",
        "\n"
      ],
      "execution_count": 0,
      "outputs": []
    },
    {
      "cell_type": "code",
      "metadata": {
        "id": "5s6bAaYlEOcE",
        "colab_type": "code",
        "outputId": "862c0aea-94de-49c1-d236-0f72b80e9f2d",
        "colab": {
          "base_uri": "https://localhost:8080/",
          "height": 34
        }
      },
      "source": [
        "maxnumber = df['NumberOfTotalAbsences'].max()\n",
        "maxnumber"
      ],
      "execution_count": 39,
      "outputs": [
        {
          "output_type": "execute_result",
          "data": {
            "text/plain": [
              "63"
            ]
          },
          "metadata": {
            "tags": []
          },
          "execution_count": 39
        }
      ]
    },
    {
      "cell_type": "code",
      "metadata": {
        "id": "pp2D4VxYGCL4",
        "colab_type": "code",
        "colab": {}
      },
      "source": [
        "from reportlab.lib import colors\n",
        "from reportlab.graphics.shapes import Drawing, String\n",
        "from reportlab.graphics.charts.barcharts import HorizontalBarChart\n",
        "\n",
        "\n",
        "def make_drawing(row):\n",
        "    drawing = Drawing()\n",
        "    data = [(row['NumberOfTotalAbsences'], row['AverageAbsence']),]\n",
        "    names = [row['FirstName'], 'Classmates\\n /Compañeros']\n",
        "    \n",
        "    bc = HorizontalBarChart()\n",
        "    bc.x = 20\n",
        "    bc.y = 50\n",
        "    bc.height = 150\n",
        "    bc.width = 400\n",
        "    bc.data = data\n",
        "    bc.strokeColor = colors.black\n",
        "    bc.valueAxis.valueMin = 0\n",
        "    bc.valueAxis.visibleGrid = True\n",
        "    bc.valueAxis.valueMax = maxnumber\n",
        "    bc.valueAxis.valueStep = 10\n",
        "\n",
        "    bc.barLabels.fontName = \"Helvetica\"\n",
        "    bc.barLabels.fontSize = 12\n",
        "    bc.barLabelFormat = '%d'\n",
        "    bc.barLabels.nudge = 7\n",
        "    \n",
        "    bc.categoryAxis.labels.boxAnchor = 'ne'\n",
        "    bc.categoryAxis.labels.dx = -10\n",
        "    bc.categoryAxis.labels.dy = 0 \n",
        "    bc.categoryAxis.labels.fontName = 'Helvetica'\n",
        "    bc.categoryAxis.categoryNames = names\n",
        "    \n",
        "    bc.valueAxis.visible = True\n",
        "    #Customize the color of the bars  \n",
        "    bc.bars[(0, 0)].fillColor = colors.steelblue \n",
        "    bc.bars[(0, 1)].fillColor = colors.lightsteelblue\n",
        "    drawing.add(bc)\n",
        "\n",
        "    return drawing"
      ],
      "execution_count": 0,
      "outputs": []
    },
    {
      "cell_type": "code",
      "metadata": {
        "id": "X9D4qZkF4H9n",
        "colab_type": "code",
        "colab": {}
      },
      "source": [
        "import datetime\n",
        "from reportlab.lib.enums import TA_JUSTIFY\n",
        "from reportlab.lib.pagesizes import letter\n",
        "from reportlab.platypus import SimpleDocTemplate, Paragraph, Spacer, Image\n",
        "from reportlab.lib.styles import getSampleStyleSheet, ParagraphStyle\n",
        "from reportlab.lib.units import inch\n",
        "from reportlab.platypus import PageBreak\n",
        "from reportlab.lib.utils import ImageReader\n",
        " \n",
        "def build_a_letter(row, test=True):\n",
        "    '''\n",
        "    Input: dataframe row\n",
        "    Output: pdf file named after studentID\n",
        "    '''\n",
        "    #I name the pdf name after the Initals and StudentID\n",
        "  \n",
        "    name = str(row['FirstName'][0])+ str(row['LastSurname'][0])+str(row['StudentUniqueId'])+'.pdf'\n",
        "    full_name = row['FirstName']+' ' + row['LastSurname']\n",
        "    school_name = row.NameOfInstitution\n",
        "    grade = str(row.GradeLevel)\n",
        "    formatted_time = datetime.date.today().isoformat()\n",
        "    \n",
        "    if test:\n",
        "      outfiledir = data_dir+ 'test'+'/'+str(school_name)+'/'+grade+'/'\n",
        "    else:\n",
        "      outfiledir = data_dir+ str(formatted_time)+'/'+str(school_name)+'/'+grade+'/'\n",
        "    createFolder(outfiledir)\n",
        "    outfilepath = os.path.join(outfiledir, name)\n",
        "    #print(outfilepath)\n",
        "\n",
        "    doc = SimpleDocTemplate(outfilepath, pagesize=letter,\n",
        "                        rightMargin=72,leftMargin=72,\n",
        "                        topMargin=72,bottomMargin=18)\n",
        "    Story=[]\n",
        "\n",
        "    if school_name == 'DCP Harper Woods' or school_name =='DCP Redford':\n",
        "      logo = Image(links[school_name], width=2*inch, height=0.42*inch, kind='proportional')\n",
        "    else:\n",
        "      logo = Image(links[school_name])\n",
        "\n",
        "    \n",
        "    NumberOfTotalAbsences = str(row.NumberOfTotalAbsences)\n",
        "    story = []\n",
        "    #Set the logo \n",
        "    Story.append(logo)\n",
        "     \n",
        "    styles=getSampleStyleSheet()\n",
        "    styles.add(ParagraphStyle(name='Justify', alignment=TA_JUSTIFY))\n",
        "    ptext = '<font size=11>%s</font>' % formatted_time\n",
        "     \n",
        "    Story.append(Paragraph(ptext, styles[\"Normal\"]))\n",
        "    Story.append(Spacer(1, 12))\n",
        "     \n",
        "    ptext = '<font size=11>Dear Family of %s: </font>' % (full_name)\n",
        "    Story.append(Paragraph(ptext, styles[\"Justify\"]))\n",
        "    Story.append(Spacer(1, 12))\n",
        "    \n",
        "    ptext = '<font size=11>We are writing to you because <u>our records show \\\n",
        "             that your child has missed more than 10 % of the school year\\\n",
        "              to date.</u> Please understand that all absences are considered \\\n",
        "              unexcused until proper documentation is presented in accordance \\\n",
        "              with the school handbook.  Regular attendance at school is critical\\\n",
        "               for a child’s educational growth and achievement, and we are \\\n",
        "               committed to your child’s success.  We look forward to partnering\\\n",
        "                with you to ensure that your child continues to have a great \\\n",
        "                year of learning and growth.</font>'\n",
        "    Story.append(Paragraph(ptext, styles[\"Justify\"]))\n",
        "    Story.append(Spacer(1, 12))\n",
        "\n",
        "    ptext = '<font size=11>If absences continue, we will schedule a time for you\\\n",
        "     to come to school for a meeting with our administration, with the goal being\\\n",
        "      to identify the factors contributing to your child’s absenteeism, discuss \\\n",
        "      ways we can improve your child’s attendance this year, and commit to a plan\\\n",
        "       of action together. These steps will be taken in accordance with the \\\n",
        "       attendance policy for Distinctive Schools.</font>'\n",
        "    Story.append(Paragraph(ptext, styles[\"Justify\"]))\n",
        "    Story.append(Spacer(1, 12))\n",
        "     \n",
        "    ptext = '<font size=11>Thank you for your attention to this matter, and \\\n",
        "    thank you in advance for your partnership and a dedication to ensuring that \\\n",
        "    your child is set up for success in school this year. I look forward to \\\n",
        "    working with you to support your child in having a positive and productive year. </font>'\n",
        "    Story.append(Paragraph(ptext, styles[\"Justify\"]))\n",
        "    Story.append(Spacer(1, 12))\n",
        "    ptext = '<font size=11>Sincerely,</font>'\n",
        "    Story.append(Paragraph(ptext, styles[\"Normal\"]))\n",
        "    Story.append(Spacer(1, 24))\n",
        "    ptext = '<font size=11>%s</font>'% (dnames[school_name])\n",
        "    Story.append(Paragraph(ptext, styles[\"Normal\"]))\n",
        "    ptext = '<font size=11>Director, %s</font>'% (school_name)\n",
        "    Story.append(Paragraph(ptext, styles[\"Normal\"]))\n",
        "    ptext = '<font size=11>%s</font>'% (mails[school_name])\n",
        "    Story.append(Paragraph(ptext, styles[\"Normal\"]))\n",
        "    Story.append(PageBreak()) \n",
        "    \n",
        "    #Second page spanish version\n",
        "    Story.append(logo)\n",
        "     \n",
        "    styles=getSampleStyleSheet()\n",
        "    styles.add(ParagraphStyle(name='Justify', alignment=TA_JUSTIFY))\n",
        "    ptext = '<font size=11>%s</font>' % formatted_time\n",
        "    Story.append(Paragraph(ptext, styles[\"Normal\"]))\n",
        "    Story.append(Spacer(1, 12))\n",
        "\n",
        "    ptext = '<font size=11><u><b>Primera notificación</b></u></font>' \n",
        "    Story.append(Paragraph(ptext, styles[\"Justify\"]))\n",
        "    Story.append(Spacer(1, 12))\n",
        "\n",
        "    ptext = '<font size=11>Estimada familia de %s: </font>' % (full_name)\n",
        "    Story.append(Paragraph(ptext, styles[\"Justify\"]))\n",
        "    Story.append(Spacer(1, 12))\n",
        "\n",
        "    ptext ='<font size=11>Le escribimos porque <u>nuestros registros muestran que \\\n",
        "    su hijo ha perdido más del 10 % del año escolar hasta la fecha.</u> Por favor, \\\n",
        "    comprenda que todas las ausencias se consideran injustificadas hasta que se \\\n",
        "    presente la documentación adecuada de acuerdo con el manual de la escuela. \\\n",
        "    La asistencia regular a la escuela es fundamental para el crecimiento y el \\\n",
        "    rendimiento educativo de un niño, y estamos comprometidos con el éxito de su\\\n",
        "     hijo. Esperamos asociarnos con usted este año para asegurar que su hijo \\\n",
        "     continúe teniendo un gran año de aprendizaje y crecimiento.</font>'\n",
        "    Story.append(Paragraph(ptext, styles[\"Justify\"]))\n",
        "    Story.append(Spacer(1, 12))\n",
        "\n",
        "    ptext = '<font size=11>Si las ausencias continúan, programaremos un horario \\\n",
        "    para que usted venga a la escuela a una reunión con nuestra administración \\\n",
        "    con el objetivo de identificar los factores que contribuyen al absentismo de\\\n",
        "     su hijo, discutir formas en que podemos mejorar la asistencia de su hijo \\\n",
        "     este año y comprometerse a un plan de acción juntos. Estos pasos se tomarán\\\n",
        "      de acuerdo con la política de asistencia de Distinctive Schools. </font>' \n",
        "    Story.append(Paragraph(ptext, styles[\"Justify\"]))\n",
        "    Story.append(Spacer(1, 12))\n",
        "     \n",
        "    ptext = '<font size=11>Gracias por su atención a este asunto y gracias de \\\n",
        "    antemano por su colaboración y dedicación para garantizar que su hijo esté \\\n",
        "    preparado para el éxito en la escuela este año. Espero con interés trabajar \\\n",
        "    con usted para asegurarnos de que su hijo tenga un año positivo y productivo.</font>'\n",
        "    Story.append(Paragraph(ptext, styles[\"Justify\"]))\n",
        "    Story.append(Spacer(1, 12))\n",
        "    ptext = '<font size=11>Atentamente,</font>'\n",
        "    Story.append(Paragraph(ptext, styles[\"Normal\"]))\n",
        "    Story.append(Spacer(1, 24))\n",
        "    ptext = '<font size=11>%s</font>'% (dnames[school_name])\n",
        "    Story.append(Paragraph(ptext, styles[\"Normal\"]))\n",
        "    ptext = '<font size=11>Director, %s</font>'% (school_name)\n",
        "    Story.append(Paragraph(ptext, styles[\"Normal\"]))\n",
        "    ptext = '<font size=11>%s</font>'% (mails[school_name])\n",
        "    Story.append(Paragraph(ptext, styles[\"Normal\"]))\n",
        "    Story.append(PageBreak()) \n",
        "\n",
        "    #Third page barchart\n",
        "    title_style = styles['Heading1']\n",
        "    title_style.alignment = 1\n",
        "    title = Paragraph(\"Absences Summary/Resumen de ausencias\", title_style)\n",
        "    Story.append(title)\n",
        "    Story.append(Spacer(1, 24))\n",
        "    pic = make_drawing(row)\n",
        "    Story.append(pic)\n",
        "\n",
        "    doc.build(Story)"
      ],
      "execution_count": 0,
      "outputs": []
    },
    {
      "cell_type": "code",
      "metadata": {
        "id": "5YLcyHNVmYEY",
        "colab_type": "code",
        "colab": {}
      },
      "source": [
        "def build_english_letter(row, test=True):\n",
        "    '''\n",
        "    Input: dataframe row\n",
        "    Output: pdf file named after studentID\n",
        "    '''\n",
        "    #I name the pdf name after the Initals and StudentID\n",
        "  \n",
        "    name = str(row['FirstName'][0])+ str(row['LastSurname'][0])+str(row['StudentUniqueId'])+'.pdf'\n",
        "    full_name = row['FirstName']+' ' + row['LastSurname']\n",
        "    school_name = row.NameOfInstitution\n",
        "    grade = str(row.GradeLevel)\n",
        "    formatted_time = datetime.date.today().isoformat()\n",
        "    \n",
        "    if test:\n",
        "      outfiledir = data_dir+ 'test'+'/'+str(school_name)+'/'+grade+'/'\n",
        "    else:\n",
        "      outfiledir = data_dir+ str(formatted_time)+'/'+str(school_name)+'/'+grade+'/'\n",
        "    createFolder(outfiledir)\n",
        "    outfilepath = os.path.join(outfiledir, name)\n",
        "    #print(outfilepath)\n",
        "\n",
        "    doc = SimpleDocTemplate(outfilepath, pagesize=letter,\n",
        "                        rightMargin=72,leftMargin=72,\n",
        "                        topMargin=72,bottomMargin=18)\n",
        "    Story=[]\n",
        "\n",
        "    if school_name == 'DCP Harper Woods' or school_name =='DCP Redford':\n",
        "      logo = Image(links[school_name], width=2*inch, height=0.42*inch, kind='proportional')\n",
        "    else:\n",
        "      logo = Image(links[school_name])\n",
        "\n",
        "    \n",
        "    NumberOfTotalAbsences = str(row.NumberOfTotalAbsences)\n",
        "    story = []\n",
        "    #Set the logo \n",
        "    Story.append(logo)\n",
        "     \n",
        "    styles=getSampleStyleSheet()\n",
        "    styles.add(ParagraphStyle(name='Justify', alignment=TA_JUSTIFY))\n",
        "    ptext = '<font size=11>%s</font>' % formatted_time\n",
        "     \n",
        "    Story.append(Paragraph(ptext, styles[\"Normal\"]))\n",
        "    Story.append(Spacer(1, 12))\n",
        "     \n",
        "    ptext = '<font size=11>Dear Family of %s: </font>' % (full_name)\n",
        "    Story.append(Paragraph(ptext, styles[\"Justify\"]))\n",
        "    Story.append(Spacer(1, 12))\n",
        "    \n",
        "    ptext = '<font size=11>We are writing to you because <u>our records show \\\n",
        "             that your child has missed more than 10 % of the school year\\\n",
        "              to date.</u> Please understand that all absences are considered \\\n",
        "              unexcused until proper documentation is presented in accordance \\\n",
        "              with the school handbook.  Regular attendance at school is critical\\\n",
        "               for a child’s educational growth and achievement, and we are \\\n",
        "               committed to your child’s success.  We look forward to partnering\\\n",
        "                with you to ensure that your child continues to have a great \\\n",
        "                year of learning and growth.</font>'\n",
        "    Story.append(Paragraph(ptext, styles[\"Justify\"]))\n",
        "    Story.append(Spacer(1, 12))\n",
        "\n",
        "    ptext = '<font size=11>If absences continue, we will schedule a time for you\\\n",
        "     to come to school for a meeting with our administration, with the goal being\\\n",
        "      to identify the factors contributing to your child’s absenteeism, discuss \\\n",
        "      ways we can improve your child’s attendance this year, and commit to a plan\\\n",
        "       of action together. These steps will be taken in accordance with the \\\n",
        "       attendance policy for Distinctive Schools.</font>'\n",
        "    Story.append(Paragraph(ptext, styles[\"Justify\"]))\n",
        "    Story.append(Spacer(1, 12))\n",
        "     \n",
        "    ptext = '<font size=11>Thank you for your attention to this matter, and \\\n",
        "    thank you in advance for your partnership and a dedication to ensuring that \\\n",
        "    your child is set up for success in school this year. I look forward to \\\n",
        "    working with you to support your child in having a positive and productive year. </font>'\n",
        "    Story.append(Paragraph(ptext, styles[\"Justify\"]))\n",
        "    Story.append(Spacer(1, 12))\n",
        "    ptext = '<font size=11>Sincerely,</font>'\n",
        "    Story.append(Paragraph(ptext, styles[\"Normal\"]))\n",
        "    Story.append(Spacer(1, 24))\n",
        "    ptext = '<font size=11>%s</font>'% (dnames[school_name])\n",
        "    Story.append(Paragraph(ptext, styles[\"Normal\"]))\n",
        "    ptext = '<font size=11>Director, %s</font>'% (school_name)\n",
        "    Story.append(Paragraph(ptext, styles[\"Normal\"]))\n",
        "    ptext = '<font size=11>%s</font>'% (mails[school_name])\n",
        "    Story.append(Paragraph(ptext, styles[\"Normal\"]))\n",
        "    Story.append(PageBreak()) \n",
        "\n",
        "\n",
        "    #Second page barchart\n",
        "    title_style = styles['Heading1']\n",
        "    title_style.alignment = 1\n",
        "    title = Paragraph(\"Absences Summary\", title_style)\n",
        "    Story.append(title)\n",
        "    Story.append(Spacer(1, 24))\n",
        "    pic = make_drawing(row)\n",
        "    Story.append(pic)\n",
        "\n",
        "    doc.build(Story)"
      ],
      "execution_count": 0,
      "outputs": []
    },
    {
      "cell_type": "code",
      "metadata": {
        "id": "AOuV4lzbSoJS",
        "colab_type": "code",
        "outputId": "a454568e-1191-4087-bb18-aed36c25a206",
        "colab": {
          "base_uri": "https://localhost:8080/",
          "height": 80
        }
      },
      "source": [
        "df[df.NumberOfTotalAbsences==df['NumberOfTotalAbsences'].max()]"
      ],
      "execution_count": 43,
      "outputs": [
        {
          "output_type": "execute_result",
          "data": {
            "text/html": [
              "<div>\n",
              "<style scoped>\n",
              "    .dataframe tbody tr th:only-of-type {\n",
              "        vertical-align: middle;\n",
              "    }\n",
              "\n",
              "    .dataframe tbody tr th {\n",
              "        vertical-align: top;\n",
              "    }\n",
              "\n",
              "    .dataframe thead th {\n",
              "        text-align: right;\n",
              "    }\n",
              "</style>\n",
              "<table border=\"1\" class=\"dataframe\">\n",
              "  <thead>\n",
              "    <tr style=\"text-align: right;\">\n",
              "      <th></th>\n",
              "      <th>NameOfInstitution</th>\n",
              "      <th>StudentUniqueId</th>\n",
              "      <th>GradeLevel</th>\n",
              "      <th>LastSurname</th>\n",
              "      <th>FirstName</th>\n",
              "      <th>NumberOfTotalAbsences</th>\n",
              "      <th>AverageAbsence</th>\n",
              "    </tr>\n",
              "  </thead>\n",
              "  <tbody>\n",
              "    <tr>\n",
              "      <th>1</th>\n",
              "      <td>Plymouth Educational Center</td>\n",
              "      <td>20007170</td>\n",
              "      <td>K</td>\n",
              "      <td>Brown</td>\n",
              "      <td>AlayJia</td>\n",
              "      <td>63</td>\n",
              "      <td>6.1</td>\n",
              "    </tr>\n",
              "  </tbody>\n",
              "</table>\n",
              "</div>"
            ],
            "text/plain": [
              "             NameOfInstitution  ...  AverageAbsence\n",
              "1  Plymouth Educational Center  ...             6.1\n",
              "\n",
              "[1 rows x 7 columns]"
            ]
          },
          "metadata": {
            "tags": []
          },
          "execution_count": 43
        }
      ]
    },
    {
      "cell_type": "code",
      "metadata": {
        "id": "8e0yMsb-pAOU",
        "colab_type": "code",
        "outputId": "01e23cca-5220-49bd-d4bf-18027d919d6d",
        "colab": {
          "base_uri": "https://localhost:8080/",
          "height": 34
        }
      },
      "source": [
        "df.shape"
      ],
      "execution_count": 44,
      "outputs": [
        {
          "output_type": "execute_result",
          "data": {
            "text/plain": [
              "(174, 7)"
            ]
          },
          "metadata": {
            "tags": []
          },
          "execution_count": 44
        }
      ]
    },
    {
      "cell_type": "markdown",
      "metadata": {
        "id": "oU5s8WztqvFu",
        "colab_type": "text"
      },
      "source": [
        "# Running the code to generate the letter"
      ]
    },
    {
      "cell_type": "code",
      "metadata": {
        "id": "E6P0baCroAKO",
        "colab_type": "code",
        "colab": {}
      },
      "source": [
        "#For English-Spanish letter\n",
        "import time\n",
        "start = time.clock() \n",
        "for i in range(df.shape[0]):\n",
        "  build_a_letter(df.loc[i], False)\n",
        "elapsed = time.clock()\n",
        "elapsed = elapsed - start\n",
        "print(\"Time spent in is: \", elapsed)"
      ],
      "execution_count": 0,
      "outputs": []
    },
    {
      "cell_type": "code",
      "metadata": {
        "id": "SH55mD9_oMfN",
        "colab_type": "code",
        "colab": {}
      },
      "source": [
        "dcp = df[df.NameOfInstitution == 'DCP Harper Woods'|df.NameOfInstitution == 'DCP Redford']\n",
        "for i in range(dcp.shape[0]):\n",
        "  build_english_letter(dcp.loc[i], False)\n",
        "elapsed = time.clock()\n",
        "elapsed = elapsed - start\n",
        "print(\"Time spent in is: \", elapsed)"
      ],
      "execution_count": 0,
      "outputs": []
    },
    {
      "cell_type": "code",
      "metadata": {
        "id": "krWkXc1BiSPO",
        "colab_type": "code",
        "colab": {
          "base_uri": "https://localhost:8080/",
          "height": 34
        },
        "outputId": "f39da5bd-81e1-4e0d-885e-9b5590dad5f7"
      },
      "source": [
        "#For English Letter only\n",
        "import time\n",
        "start = time.clock() \n",
        "for i in range(df.shape[0]):\n",
        "  build_english_letter(df.loc[i], False)\n",
        "elapsed = time.clock()\n",
        "elapsed = elapsed - start\n",
        "print(\"Time spent in is: \", elapsed)"
      ],
      "execution_count": 45,
      "outputs": [
        {
          "output_type": "stream",
          "text": [
            "Time spent in is:  4.887461\n"
          ],
          "name": "stdout"
        }
      ]
    },
    {
      "cell_type": "code",
      "metadata": {
        "id": "OxBt426xqUZh",
        "colab_type": "code",
        "outputId": "ce560632-be1b-433a-e091-81043cd47edc",
        "colab": {
          "base_uri": "https://localhost:8080/",
          "height": 85
        }
      },
      "source": [
        "#Sanity check\n",
        "!ls /content/gdrive/My\\ Drive/Chronic_absenteeism_letter/"
      ],
      "execution_count": 46,
      "outputs": [
        {
          "output_type": "stream",
          "text": [
            " 2020-01-23\t\t 'Chronic Absence - Absence List Import.csv'\n",
            " 2020-02-07\t\t 'Chronic Absence Letter #1 - Jan '\\''20.gdoc'\n",
            " 2020-02-13\t\t 'Chronic Absence.xlsx'\n",
            " 2.13ChronicAbsence.csv   Chronic_Absenteeism.ipynb\n"
          ],
          "name": "stdout"
        }
      ]
    },
    {
      "cell_type": "markdown",
      "metadata": {
        "colab_type": "text",
        "id": "Qrn8hpkhrkP9"
      },
      "source": [
        "# Checking which way generate the letter faster"
      ]
    },
    {
      "cell_type": "code",
      "metadata": {
        "id": "STBu-YOCQBv4",
        "colab_type": "code",
        "colab": {}
      },
      "source": [
        "mni = df[150:]"
      ],
      "execution_count": 0,
      "outputs": []
    },
    {
      "cell_type": "code",
      "metadata": {
        "id": "L4yTkb_lUFjb",
        "colab_type": "code",
        "outputId": "fe57eea3-3439-4b0f-ff41-c69cc3d6c6b7",
        "colab": {
          "base_uri": "https://localhost:8080/",
          "height": 793
        }
      },
      "source": [
        "import time\n",
        "start = time.clock() \n",
        "for i in range(mni.shape[0]):\n",
        "  build_a_letter(mni.loc[i], False)\n",
        "elapsed = time.clock()\n",
        "elapsed = elapsed - start\n",
        "print(\"Time spent in is: \", elapsed)"
      ],
      "execution_count": 0,
      "outputs": [
        {
          "output_type": "execute_result",
          "data": {
            "text/html": [
              "<div>\n",
              "<style scoped>\n",
              "    .dataframe tbody tr th:only-of-type {\n",
              "        vertical-align: middle;\n",
              "    }\n",
              "\n",
              "    .dataframe tbody tr th {\n",
              "        vertical-align: top;\n",
              "    }\n",
              "\n",
              "    .dataframe thead th {\n",
              "        text-align: right;\n",
              "    }\n",
              "</style>\n",
              "<table border=\"1\" class=\"dataframe\">\n",
              "  <thead>\n",
              "    <tr style=\"text-align: right;\">\n",
              "      <th></th>\n",
              "      <th>NameOfInstitution</th>\n",
              "      <th>StudentUniqueId</th>\n",
              "      <th>GradeLevel</th>\n",
              "      <th>LastSurname</th>\n",
              "      <th>FirstName</th>\n",
              "      <th>NumberOfTotalAbsences</th>\n",
              "      <th>AverageAbsence</th>\n",
              "    </tr>\n",
              "  </thead>\n",
              "  <tbody>\n",
              "    <tr>\n",
              "      <th>150</th>\n",
              "      <td>Art in Motion</td>\n",
              "      <td>50197615</td>\n",
              "      <td>8</td>\n",
              "      <td>Bardney</td>\n",
              "      <td>Jazmynn</td>\n",
              "      <td>11</td>\n",
              "      <td>4.0</td>\n",
              "    </tr>\n",
              "    <tr>\n",
              "      <th>151</th>\n",
              "      <td>Art in Motion</td>\n",
              "      <td>50404026</td>\n",
              "      <td>8</td>\n",
              "      <td>Beard</td>\n",
              "      <td>Solene</td>\n",
              "      <td>10</td>\n",
              "      <td>4.0</td>\n",
              "    </tr>\n",
              "    <tr>\n",
              "      <th>152</th>\n",
              "      <td>Art in Motion</td>\n",
              "      <td>50301891</td>\n",
              "      <td>8</td>\n",
              "      <td>Boyd IV</td>\n",
              "      <td>Walter</td>\n",
              "      <td>11</td>\n",
              "      <td>4.0</td>\n",
              "    </tr>\n",
              "    <tr>\n",
              "      <th>153</th>\n",
              "      <td>Art in Motion</td>\n",
              "      <td>50089602</td>\n",
              "      <td>8</td>\n",
              "      <td>Brent</td>\n",
              "      <td>Robionte</td>\n",
              "      <td>12</td>\n",
              "      <td>4.0</td>\n",
              "    </tr>\n",
              "    <tr>\n",
              "      <th>154</th>\n",
              "      <td>Art in Motion</td>\n",
              "      <td>50242045</td>\n",
              "      <td>8</td>\n",
              "      <td>BURGES</td>\n",
              "      <td>DEMETRIA</td>\n",
              "      <td>10</td>\n",
              "      <td>4.0</td>\n",
              "    </tr>\n",
              "    <tr>\n",
              "      <th>155</th>\n",
              "      <td>Art in Motion</td>\n",
              "      <td>50726547</td>\n",
              "      <td>8</td>\n",
              "      <td>Burr</td>\n",
              "      <td>Kaylyn</td>\n",
              "      <td>11</td>\n",
              "      <td>4.0</td>\n",
              "    </tr>\n",
              "    <tr>\n",
              "      <th>156</th>\n",
              "      <td>Art in Motion</td>\n",
              "      <td>50254680</td>\n",
              "      <td>7</td>\n",
              "      <td>Davis</td>\n",
              "      <td>Alexandria</td>\n",
              "      <td>14</td>\n",
              "      <td>4.0</td>\n",
              "    </tr>\n",
              "    <tr>\n",
              "      <th>157</th>\n",
              "      <td>Art in Motion</td>\n",
              "      <td>60040857</td>\n",
              "      <td>7</td>\n",
              "      <td>Doxy</td>\n",
              "      <td>Xa'Ria</td>\n",
              "      <td>25</td>\n",
              "      <td>4.0</td>\n",
              "    </tr>\n",
              "    <tr>\n",
              "      <th>158</th>\n",
              "      <td>Art in Motion</td>\n",
              "      <td>50227895</td>\n",
              "      <td>8</td>\n",
              "      <td>Ford</td>\n",
              "      <td>Sariya</td>\n",
              "      <td>11</td>\n",
              "      <td>4.0</td>\n",
              "    </tr>\n",
              "    <tr>\n",
              "      <th>159</th>\n",
              "      <td>Art in Motion</td>\n",
              "      <td>50185861</td>\n",
              "      <td>8</td>\n",
              "      <td>Franklin</td>\n",
              "      <td>Emareona</td>\n",
              "      <td>24</td>\n",
              "      <td>4.0</td>\n",
              "    </tr>\n",
              "    <tr>\n",
              "      <th>160</th>\n",
              "      <td>Art in Motion</td>\n",
              "      <td>50624464</td>\n",
              "      <td>7</td>\n",
              "      <td>Fulson</td>\n",
              "      <td>Tyler</td>\n",
              "      <td>12</td>\n",
              "      <td>4.0</td>\n",
              "    </tr>\n",
              "    <tr>\n",
              "      <th>161</th>\n",
              "      <td>Art in Motion</td>\n",
              "      <td>50290377</td>\n",
              "      <td>7</td>\n",
              "      <td>Gant</td>\n",
              "      <td>Armani</td>\n",
              "      <td>14</td>\n",
              "      <td>4.0</td>\n",
              "    </tr>\n",
              "    <tr>\n",
              "      <th>162</th>\n",
              "      <td>Art in Motion</td>\n",
              "      <td>50124389</td>\n",
              "      <td>7</td>\n",
              "      <td>Hall</td>\n",
              "      <td>Darien</td>\n",
              "      <td>19</td>\n",
              "      <td>4.0</td>\n",
              "    </tr>\n",
              "    <tr>\n",
              "      <th>163</th>\n",
              "      <td>Art in Motion</td>\n",
              "      <td>50251208</td>\n",
              "      <td>7</td>\n",
              "      <td>Hayes</td>\n",
              "      <td>James</td>\n",
              "      <td>16</td>\n",
              "      <td>4.0</td>\n",
              "    </tr>\n",
              "    <tr>\n",
              "      <th>164</th>\n",
              "      <td>Art in Motion</td>\n",
              "      <td>50225379</td>\n",
              "      <td>7</td>\n",
              "      <td>Jackson</td>\n",
              "      <td>Skylar</td>\n",
              "      <td>11</td>\n",
              "      <td>4.0</td>\n",
              "    </tr>\n",
              "    <tr>\n",
              "      <th>165</th>\n",
              "      <td>Art in Motion</td>\n",
              "      <td>50065652</td>\n",
              "      <td>8</td>\n",
              "      <td>King</td>\n",
              "      <td>Delmar</td>\n",
              "      <td>30</td>\n",
              "      <td>4.0</td>\n",
              "    </tr>\n",
              "    <tr>\n",
              "      <th>166</th>\n",
              "      <td>Art in Motion</td>\n",
              "      <td>50067751</td>\n",
              "      <td>7</td>\n",
              "      <td>Knazze</td>\n",
              "      <td>Madelyn</td>\n",
              "      <td>14</td>\n",
              "      <td>4.0</td>\n",
              "    </tr>\n",
              "    <tr>\n",
              "      <th>167</th>\n",
              "      <td>Art in Motion</td>\n",
              "      <td>50443325</td>\n",
              "      <td>7</td>\n",
              "      <td>Lewis</td>\n",
              "      <td>Jaliyah</td>\n",
              "      <td>10</td>\n",
              "      <td>4.0</td>\n",
              "    </tr>\n",
              "    <tr>\n",
              "      <th>168</th>\n",
              "      <td>Art in Motion</td>\n",
              "      <td>50124911</td>\n",
              "      <td>8</td>\n",
              "      <td>McGhee</td>\n",
              "      <td>Kennedy</td>\n",
              "      <td>10</td>\n",
              "      <td>4.0</td>\n",
              "    </tr>\n",
              "    <tr>\n",
              "      <th>169</th>\n",
              "      <td>Art in Motion</td>\n",
              "      <td>50235763</td>\n",
              "      <td>8</td>\n",
              "      <td>Noel</td>\n",
              "      <td>Rashaud</td>\n",
              "      <td>14</td>\n",
              "      <td>4.0</td>\n",
              "    </tr>\n",
              "    <tr>\n",
              "      <th>170</th>\n",
              "      <td>Art in Motion</td>\n",
              "      <td>50189119</td>\n",
              "      <td>7</td>\n",
              "      <td>Prince</td>\n",
              "      <td>Toney</td>\n",
              "      <td>19</td>\n",
              "      <td>4.0</td>\n",
              "    </tr>\n",
              "    <tr>\n",
              "      <th>171</th>\n",
              "      <td>Art in Motion</td>\n",
              "      <td>50300256</td>\n",
              "      <td>7</td>\n",
              "      <td>Riley</td>\n",
              "      <td>Dinai</td>\n",
              "      <td>10</td>\n",
              "      <td>4.0</td>\n",
              "    </tr>\n",
              "    <tr>\n",
              "      <th>172</th>\n",
              "      <td>Art in Motion</td>\n",
              "      <td>50251714</td>\n",
              "      <td>7</td>\n",
              "      <td>Smith</td>\n",
              "      <td>Jalyn</td>\n",
              "      <td>15</td>\n",
              "      <td>4.0</td>\n",
              "    </tr>\n",
              "    <tr>\n",
              "      <th>173</th>\n",
              "      <td>Art in Motion</td>\n",
              "      <td>50158879</td>\n",
              "      <td>8</td>\n",
              "      <td>Smith</td>\n",
              "      <td>Tajah</td>\n",
              "      <td>10</td>\n",
              "      <td>4.0</td>\n",
              "    </tr>\n",
              "  </tbody>\n",
              "</table>\n",
              "</div>"
            ],
            "text/plain": [
              "    NameOfInstitution  StudentUniqueId  ... NumberOfTotalAbsences AverageAbsence\n",
              "150     Art in Motion         50197615  ...                    11            4.0\n",
              "151     Art in Motion         50404026  ...                    10            4.0\n",
              "152     Art in Motion         50301891  ...                    11            4.0\n",
              "153     Art in Motion         50089602  ...                    12            4.0\n",
              "154     Art in Motion         50242045  ...                    10            4.0\n",
              "155     Art in Motion         50726547  ...                    11            4.0\n",
              "156     Art in Motion         50254680  ...                    14            4.0\n",
              "157     Art in Motion         60040857  ...                    25            4.0\n",
              "158     Art in Motion         50227895  ...                    11            4.0\n",
              "159     Art in Motion         50185861  ...                    24            4.0\n",
              "160     Art in Motion         50624464  ...                    12            4.0\n",
              "161     Art in Motion         50290377  ...                    14            4.0\n",
              "162     Art in Motion         50124389  ...                    19            4.0\n",
              "163     Art in Motion         50251208  ...                    16            4.0\n",
              "164     Art in Motion         50225379  ...                    11            4.0\n",
              "165     Art in Motion         50065652  ...                    30            4.0\n",
              "166     Art in Motion         50067751  ...                    14            4.0\n",
              "167     Art in Motion         50443325  ...                    10            4.0\n",
              "168     Art in Motion         50124911  ...                    10            4.0\n",
              "169     Art in Motion         50235763  ...                    14            4.0\n",
              "170     Art in Motion         50189119  ...                    19            4.0\n",
              "171     Art in Motion         50300256  ...                    10            4.0\n",
              "172     Art in Motion         50251714  ...                    15            4.0\n",
              "173     Art in Motion         50158879  ...                    10            4.0\n",
              "\n",
              "[24 rows x 7 columns]"
            ]
          },
          "metadata": {
            "tags": []
          },
          "execution_count": 32
        }
      ]
    },
    {
      "cell_type": "code",
      "metadata": {
        "id": "w3cceL6qP2mS",
        "colab_type": "code",
        "outputId": "16367fc1-e0cf-440e-a14f-94225c6863ec",
        "colab": {
          "base_uri": "https://localhost:8080/",
          "height": 34
        }
      },
      "source": [
        "import time\n",
        "start = time.clock() \n",
        "mni.apply(lambda x: build_a_letter(x), axis=1)\n",
        "elapsed = time.clock()\n",
        "elapsed = elapsed - start\n",
        "print(\"Time spent in is: \", elapsed)"
      ],
      "execution_count": 0,
      "outputs": [
        {
          "output_type": "stream",
          "text": [
            "Time spent in is:  0.8404169999999995\n"
          ],
          "name": "stdout"
        }
      ]
    }
  ]
}