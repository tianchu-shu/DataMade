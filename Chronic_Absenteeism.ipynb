{
  "nbformat": 4,
  "nbformat_minor": 0,
  "metadata": {
    "colab": {
      "name": "Chronic_Absenteeism.ipynb",
      "provenance": [],
      "collapsed_sections": [],
      "authorship_tag": "ABX9TyOVqYybbJhyYlV3JFmYiAyk",
      "include_colab_link": true
    },
    "kernelspec": {
      "name": "python3",
      "display_name": "Python 3"
    }
  },
  "cells": [
    {
      "cell_type": "markdown",
      "metadata": {
        "id": "view-in-github",
        "colab_type": "text"
      },
      "source": [
        "<a href=\"https://colab.research.google.com/github/tianchu-shu/DistinctiveSchools/blob/master/Chronic_Absenteeism.ipynb\" target=\"_parent\"><img src=\"https://colab.research.google.com/assets/colab-badge.svg\" alt=\"Open In Colab\"/></a>"
      ]
    },
    {
      "cell_type": "code",
      "metadata": {
        "id": "bYvRxmh5_1IA",
        "colab_type": "code",
        "colab": {}
      },
      "source": [
        "from google.colab import drive\n",
        "import matplotlib.pyplot as plt"
      ],
      "execution_count": 0,
      "outputs": []
    },
    {
      "cell_type": "code",
      "metadata": {
        "id": "KaXLzxzp_3yq",
        "colab_type": "code",
        "outputId": "48331556-cf19-4338-cfb6-fd3217158173",
        "colab": {
          "base_uri": "https://localhost:8080/",
          "height": 122
        }
      },
      "source": [
        "drive.mount('/content/gdrive')"
      ],
      "execution_count": 2,
      "outputs": [
        {
          "output_type": "stream",
          "text": [
            "Go to this URL in a browser: https://accounts.google.com/o/oauth2/auth?client_id=947318989803-6bn6qk8qdgf4n4g3pfee6491hc0brc4i.apps.googleusercontent.com&redirect_uri=urn%3aietf%3awg%3aoauth%3a2.0%3aoob&response_type=code&scope=email%20https%3a%2f%2fwww.googleapis.com%2fauth%2fdocs.test%20https%3a%2f%2fwww.googleapis.com%2fauth%2fdrive%20https%3a%2f%2fwww.googleapis.com%2fauth%2fdrive.photos.readonly%20https%3a%2f%2fwww.googleapis.com%2fauth%2fpeopleapi.readonly\n",
            "\n",
            "Enter your authorization code:\n",
            "··········\n",
            "Mounted at /content/gdrive\n"
          ],
          "name": "stdout"
        }
      ]
    },
    {
      "cell_type": "code",
      "metadata": {
        "id": "63EAGOYVgSET",
        "colab_type": "code",
        "outputId": "3fe8b8a3-2e88-4975-80cb-40be443e57d5",
        "colab": {
          "base_uri": "https://localhost:8080/",
          "height": 68
        }
      },
      "source": [
        "!ls /content/gdrive/My\\ Drive/Chronic_absenteeism_letter/"
      ],
      "execution_count": 3,
      "outputs": [
        {
          "output_type": "stream",
          "text": [
            "'Chronic Absence - Absence List Import.csv'     Chronic_Absenteeism.ipynb\n",
            "'Chronic Absence Letter #1 - Jan '\\''20.gdoc'  'CICS Prairie'\n",
            "'Chronic Absence.xlsx'\n"
          ],
          "name": "stdout"
        }
      ]
    },
    {
      "cell_type": "markdown",
      "metadata": {
        "colab_type": "text",
        "id": "wVTnEqIhFfFU"
      },
      "source": [
        "# Load the sample Data"
      ]
    },
    {
      "cell_type": "code",
      "metadata": {
        "id": "q6Nqw2cvgDnO",
        "colab_type": "code",
        "outputId": "23ef07cb-f450-426d-af61-1467595a87c3",
        "colab": {
          "base_uri": "https://localhost:8080/",
          "height": 102
        }
      },
      "source": [
        "import pandas as pd\n",
        "import glob, os\n",
        "\n",
        "data_dir= '/content/gdrive/My Drive/Chronic_absenteeism_letter/'\n",
        "filename = 'Chronic Absence.xlsx'\n",
        "os.chdir(data_dir)\n",
        "\n",
        "df=pd.read_excel(filename)\n",
        "\n",
        "print(\"Column headings:\")\n",
        "print(df.columns)\n"
      ],
      "execution_count": 5,
      "outputs": [
        {
          "output_type": "stream",
          "text": [
            "Column headings:\n",
            "Index(['NameOfInstitution', 'StudentUniqueID', 'LastSurname', 'FirstName',\n",
            "       'GradeLevel', 'NumberOfSchoolTardies', 'NumberOfTotalAbsences',\n",
            "       'Average Absence'],\n",
            "      dtype='object')\n"
          ],
          "name": "stdout"
        }
      ]
    },
    {
      "cell_type": "code",
      "metadata": {
        "id": "lGtQDwbChVYv",
        "colab_type": "code",
        "colab": {}
      },
      "source": [
        "dname=pd.read_excel(filename, sheet_name='Images  & PrincipalTable')"
      ],
      "execution_count": 0,
      "outputs": []
    },
    {
      "cell_type": "code",
      "metadata": {
        "id": "K6RTBVLzyUYG",
        "colab_type": "code",
        "outputId": "fa3d520e-10f2-41b4-d857-5c8a9132cf68",
        "colab": {
          "base_uri": "https://localhost:8080/",
          "height": 68
        }
      },
      "source": [
        "df.NameOfInstitution.unique()"
      ],
      "execution_count": 7,
      "outputs": [
        {
          "output_type": "execute_result",
          "data": {
            "text/plain": [
              "array(['Prairie', 'Bucktown', 'Distinctive College Prep Harper Woods',\n",
              "       'Distinctive College Prep Redford', 'West Belden', 'Irving Park'],\n",
              "      dtype=object)"
            ]
          },
          "metadata": {
            "tags": []
          },
          "execution_count": 7
        }
      ]
    },
    {
      "cell_type": "code",
      "metadata": {
        "id": "6WpoRhXav7Nz",
        "colab_type": "code",
        "colab": {}
      },
      "source": [
        "schoolname = {'Prairie':'CICS Prairie', 'Bucktown':'CICS Bucktown', 'Distinctive College Prep Harper Woods':'DCP Harper Woods',\n",
        "       'Distinctive College Prep Redford':'DCP Redford', 'West Belden':'CICS West Belden', 'Irving Park':'CICS Irving Park'}"
      ],
      "execution_count": 0,
      "outputs": []
    },
    {
      "cell_type": "code",
      "metadata": {
        "id": "s8RKNXZv3boa",
        "colab_type": "code",
        "colab": {}
      },
      "source": [
        "df['NameOfInstitution'] = df['NameOfInstitution'].map(schoolname)"
      ],
      "execution_count": 0,
      "outputs": []
    },
    {
      "cell_type": "code",
      "metadata": {
        "id": "GvyS-_8KHg0W",
        "colab_type": "code",
        "outputId": "17868301-ca8e-438b-a7d5-c7b1c50d322e",
        "colab": {
          "base_uri": "https://localhost:8080/",
          "height": 241
        }
      },
      "source": [
        "df.head()"
      ],
      "execution_count": 10,
      "outputs": [
        {
          "output_type": "execute_result",
          "data": {
            "text/html": [
              "<div>\n",
              "<style scoped>\n",
              "    .dataframe tbody tr th:only-of-type {\n",
              "        vertical-align: middle;\n",
              "    }\n",
              "\n",
              "    .dataframe tbody tr th {\n",
              "        vertical-align: top;\n",
              "    }\n",
              "\n",
              "    .dataframe thead th {\n",
              "        text-align: right;\n",
              "    }\n",
              "</style>\n",
              "<table border=\"1\" class=\"dataframe\">\n",
              "  <thead>\n",
              "    <tr style=\"text-align: right;\">\n",
              "      <th></th>\n",
              "      <th>NameOfInstitution</th>\n",
              "      <th>StudentUniqueID</th>\n",
              "      <th>LastSurname</th>\n",
              "      <th>FirstName</th>\n",
              "      <th>GradeLevel</th>\n",
              "      <th>NumberOfSchoolTardies</th>\n",
              "      <th>NumberOfTotalAbsences</th>\n",
              "      <th>Average Absence</th>\n",
              "    </tr>\n",
              "  </thead>\n",
              "  <tbody>\n",
              "    <tr>\n",
              "      <th>0</th>\n",
              "      <td>CICS Prairie</td>\n",
              "      <td>50252756</td>\n",
              "      <td>Huizar Perez</td>\n",
              "      <td>Anthony</td>\n",
              "      <td>6</td>\n",
              "      <td>0</td>\n",
              "      <td>66</td>\n",
              "      <td>5</td>\n",
              "    </tr>\n",
              "    <tr>\n",
              "      <th>1</th>\n",
              "      <td>CICS Bucktown</td>\n",
              "      <td>50353442</td>\n",
              "      <td>Turner</td>\n",
              "      <td>Aiden</td>\n",
              "      <td>4</td>\n",
              "      <td>0</td>\n",
              "      <td>51</td>\n",
              "      <td>5</td>\n",
              "    </tr>\n",
              "    <tr>\n",
              "      <th>2</th>\n",
              "      <td>DCP Harper Woods</td>\n",
              "      <td>50000275</td>\n",
              "      <td>Smith</td>\n",
              "      <td>Paris</td>\n",
              "      <td>3</td>\n",
              "      <td>15</td>\n",
              "      <td>44</td>\n",
              "      <td>5</td>\n",
              "    </tr>\n",
              "    <tr>\n",
              "      <th>3</th>\n",
              "      <td>DCP Harper Woods</td>\n",
              "      <td>50000072</td>\n",
              "      <td>Phillips</td>\n",
              "      <td>Brandon</td>\n",
              "      <td>4</td>\n",
              "      <td>14</td>\n",
              "      <td>43</td>\n",
              "      <td>5</td>\n",
              "    </tr>\n",
              "    <tr>\n",
              "      <th>4</th>\n",
              "      <td>DCP Redford</td>\n",
              "      <td>2018249</td>\n",
              "      <td>Goforth</td>\n",
              "      <td>Brian</td>\n",
              "      <td>2</td>\n",
              "      <td>4</td>\n",
              "      <td>41</td>\n",
              "      <td>5</td>\n",
              "    </tr>\n",
              "  </tbody>\n",
              "</table>\n",
              "</div>"
            ],
            "text/plain": [
              "  NameOfInstitution  StudentUniqueID  ... NumberOfTotalAbsences Average Absence\n",
              "0      CICS Prairie         50252756  ...                    66               5\n",
              "1     CICS Bucktown         50353442  ...                    51               5\n",
              "2  DCP Harper Woods         50000275  ...                    44               5\n",
              "3  DCP Harper Woods         50000072  ...                    43               5\n",
              "4       DCP Redford          2018249  ...                    41               5\n",
              "\n",
              "[5 rows x 8 columns]"
            ]
          },
          "metadata": {
            "tags": []
          },
          "execution_count": 10
        }
      ]
    },
    {
      "cell_type": "code",
      "metadata": {
        "id": "Mx4nubANyLXf",
        "colab_type": "code",
        "colab": {}
      },
      "source": [
        "links = dict(zip(dname.Campus, dname.Link))"
      ],
      "execution_count": 0,
      "outputs": []
    },
    {
      "cell_type": "code",
      "metadata": {
        "id": "w7fCIve3h4HW",
        "colab_type": "code",
        "outputId": "c9db4a0a-2242-4236-80df-bd5022e5e42e",
        "colab": {
          "base_uri": "https://localhost:8080/",
          "height": 139
        }
      },
      "source": [
        "links"
      ],
      "execution_count": 12,
      "outputs": [
        {
          "output_type": "execute_result",
          "data": {
            "text/plain": [
              "{'CICS Bucktown': 'https://www.cicsbucktown.org/uploads/8/4/9/1/84911918/published/cics-bucktown-horz.png?1531843975',\n",
              " 'CICS Irving Park': 'https://www.cicsirvingpark.org/uploads/8/4/9/1/84911918/published/cics-irving-park-horz.png?1531844890',\n",
              " 'CICS Prairie': 'https://www.cicsprairie.org/uploads/8/4/9/1/84911918/published/cics-prairie-horz.png?1531844962',\n",
              " 'CICS West Belden': 'https://www.cicswestbelden.org/uploads/8/4/9/1/84911918/published/cics-west-belden-horz.png?1531845057',\n",
              " 'DCP Harper Woods': 'https://www.dcpharperwoods.org/uploads/8/4/9/1/84911918/dscp-stacked-horizontal.png',\n",
              " 'DCP Redford': 'https://www.dcpharperwoods.org/uploads/8/4/9/1/84911918/dscp-stacked-horizontal.png'}"
            ]
          },
          "metadata": {
            "tags": []
          },
          "execution_count": 12
        }
      ]
    },
    {
      "cell_type": "code",
      "metadata": {
        "id": "jYJO89V2xySo",
        "colab_type": "code",
        "colab": {}
      },
      "source": [
        "#Make a dictionary matching the campus to Director names\n",
        "dnames = dict(zip(dname.Campus, dname.Director))"
      ],
      "execution_count": 0,
      "outputs": []
    },
    {
      "cell_type": "code",
      "metadata": {
        "id": "QNmQc8BJ3_1w",
        "colab_type": "code",
        "outputId": "c9ed9632-88f3-462d-878d-87303e3d1179",
        "colab": {
          "base_uri": "https://localhost:8080/",
          "height": 119
        }
      },
      "source": [
        "dnames"
      ],
      "execution_count": 14,
      "outputs": [
        {
          "output_type": "execute_result",
          "data": {
            "text/plain": [
              "{'CICS Bucktown': \"Ms. Sarah O'Connell\",\n",
              " 'CICS Irving Park': 'Mr. JW Kuebler',\n",
              " 'CICS Prairie': 'Ms. Jennifer Harth',\n",
              " 'CICS West Belden': 'Ms. Colleen Collins',\n",
              " 'DCP Harper Woods': 'Ms. Cassie Williams',\n",
              " 'DCP Redford': 'Ms. Camille Hibbler'}"
            ]
          },
          "metadata": {
            "tags": []
          },
          "execution_count": 14
        }
      ]
    },
    {
      "cell_type": "markdown",
      "metadata": {
        "id": "MCL_1RcUk-RZ",
        "colab_type": "text"
      },
      "source": [
        "# Create the letter"
      ]
    },
    {
      "cell_type": "code",
      "metadata": {
        "id": "LOSn831VBV5-",
        "colab_type": "code",
        "outputId": "682c771e-4c99-4af0-b081-cc7728f349f7",
        "colab": {
          "base_uri": "https://localhost:8080/",
          "height": 139
        }
      },
      "source": [
        "!pip3 install reportlab"
      ],
      "execution_count": 15,
      "outputs": [
        {
          "output_type": "stream",
          "text": [
            "Collecting reportlab\n",
            "\u001b[?25l  Downloading https://files.pythonhosted.org/packages/1d/d2/8bd0495ee4c337ce065f7ee3c8d99cf653ce8ca2b4b0368667d61d377a52/reportlab-3.5.34-cp36-cp36m-manylinux1_x86_64.whl (2.6MB)\n",
            "\u001b[K     |████████████████████████████████| 2.6MB 8.1MB/s \n",
            "\u001b[?25hRequirement already satisfied: pillow>=4.0.0 in /usr/local/lib/python3.6/dist-packages (from reportlab) (6.2.2)\n",
            "Installing collected packages: reportlab\n",
            "Successfully installed reportlab-3.5.34\n"
          ],
          "name": "stdout"
        }
      ]
    },
    {
      "cell_type": "code",
      "metadata": {
        "id": "IWfeWqviEKwG",
        "colab_type": "code",
        "colab": {}
      },
      "source": [
        "import os\n",
        "\n",
        "def createFolder(directory):\n",
        "\n",
        "    try:\n",
        "        if not os.path.exists(directory):\n",
        "            os.makedirs(directory)\n",
        "    except OSError:\n",
        "        print ('Error: Creating directory. ' +  directory)\n",
        "        \n",
        "\n"
      ],
      "execution_count": 0,
      "outputs": []
    },
    {
      "cell_type": "code",
      "metadata": {
        "id": "pp2D4VxYGCL4",
        "colab_type": "code",
        "colab": {}
      },
      "source": [
        "from reportlab.lib import colors\n",
        "from reportlab.graphics.shapes import Drawing, String\n",
        "from reportlab.graphics.charts.barcharts import HorizontalBarChart\n",
        "\n",
        "\n",
        "def make_drawing(row):\n",
        "    drawing = Drawing()\n",
        "    data = [(row['NumberOfTotalAbsences'], row['Average Absence']),]\n",
        "    names = [row['FirstName'], 'Classmates\\n /Compañero']\n",
        "    \n",
        "    bc = HorizontalBarChart()\n",
        "    bc.x = 20\n",
        "    bc.y = 50\n",
        "    bc.height = 150\n",
        "    bc.width = 400\n",
        "    bc.data = data\n",
        "    bc.strokeColor = colors.black\n",
        "    bc.valueAxis.valueMin = 0\n",
        "    bc.valueAxis.visibleGrid = True\n",
        "    bc.valueAxis.valueMax = 70\n",
        "    bc.valueAxis.valueStep = 10\n",
        "\n",
        "    bc.barLabels.fontName = \"Helvetica\"\n",
        "    bc.barLabels.fontSize = 12\n",
        "    bc.barLabelFormat = '%d'\n",
        "    bc.barLabels.nudge = 7\n",
        "    \n",
        "    bc.categoryAxis.labels.boxAnchor = 'ne'\n",
        "    bc.categoryAxis.labels.dx = -10\n",
        "    bc.categoryAxis.labels.dy = 0 \n",
        "    bc.categoryAxis.labels.fontName = 'Helvetica'\n",
        "    bc.categoryAxis.categoryNames = names\n",
        "    \n",
        "    bc.valueAxis.visible = True\n",
        "    #Customize the color of the bars  \n",
        "    bc.bars[(0, 0)].fillColor = colors.steelblue \n",
        "    bc.bars[(0, 1)].fillColor = colors.lightsteelblue\n",
        "    drawing.add(bc)\n",
        "\n",
        "    return drawing"
      ],
      "execution_count": 0,
      "outputs": []
    },
    {
      "cell_type": "code",
      "metadata": {
        "id": "X9D4qZkF4H9n",
        "colab_type": "code",
        "colab": {}
      },
      "source": [
        "import datetime\n",
        "from reportlab.lib.enums import TA_JUSTIFY\n",
        "from reportlab.lib.pagesizes import letter\n",
        "from reportlab.platypus import SimpleDocTemplate, Paragraph, Spacer, Image\n",
        "from reportlab.lib.styles import getSampleStyleSheet, ParagraphStyle\n",
        "from reportlab.lib.units import inch\n",
        "from reportlab.platypus import PageBreak\n",
        "from reportlab.lib.utils import ImageReader\n",
        " \n",
        "def build_a_letter(row):\n",
        "    '''\n",
        "    Input: dataframe row\n",
        "    Output: pdf file named after studentID\n",
        "    '''\n",
        "    #I name the pdf name after the StudentID\n",
        "    name = str(row['StudentUniqueID'])+'.pdf'\n",
        "    full_name = row['FirstName']+' ' + row['LastSurname']\n",
        "    school_name = row.NameOfInstitution\n",
        "    grade = str(row.GradeLevel)\n",
        "\n",
        "    outfiledir = data_dir+str(school_name)+'/'+grade+'/'\n",
        "    createFolder(outfiledir)\n",
        "    outfilepath = os.path.join(outfiledir, name)\n",
        "    #print(outfilepath)\n",
        "\n",
        "    doc = SimpleDocTemplate(outfilepath, pagesize=letter,\n",
        "                        rightMargin=72,leftMargin=72,\n",
        "                        topMargin=72,bottomMargin=18)\n",
        "    Story=[]\n",
        "\n",
        "    if school_name == 'DCP Harper Woods' or school_name =='DCP Redford':\n",
        "      logo = Image(links[school_name], width=2*inch, height=0.42*inch, kind='proportional')\n",
        "    else:\n",
        "      logo = Image(links[school_name])\n",
        "\n",
        "    formatted_time = datetime.date.today().strftime(\"%B %d, %Y\")\n",
        "    NumberOfTotalAbsences = str(row.NumberOfTotalAbsences)\n",
        "    story = []\n",
        "    #Set the logo \n",
        "    Story.append(logo)\n",
        "     \n",
        "    styles=getSampleStyleSheet()\n",
        "    styles.add(ParagraphStyle(name='Justify', alignment=TA_JUSTIFY))\n",
        "    ptext = '<font size=12>%s</font>' % formatted_time\n",
        "     \n",
        "    Story.append(Paragraph(ptext, styles[\"Normal\"]))\n",
        "    Story.append(Spacer(1, 24))\n",
        "     \n",
        "    ptext = '<font size=12>Dear Family of %s: </font>' % (full_name)\n",
        "    Story.append(Paragraph(ptext, styles[\"Justify\"]))\n",
        "    ptext = '<font size=12>We are writing to you because <u>our records show \\\n",
        "             that your child has missed more than 10 percent of the school year\\\n",
        "              to date.</u> Please understand that all absences are considered \\\n",
        "              unexcused until proper documentation is presented in accordance \\\n",
        "              with the school handbook.  Regular attendance at school is critical\\\n",
        "               for a child’s educational growth and achievement, and we are \\\n",
        "               committed to your child’s success.  We look forward to partnering\\\n",
        "                with you to ensure that your child continues to have a great \\\n",
        "                year of learning and growth.</font>'\n",
        "    Story.append(Paragraph(ptext, styles[\"Justify\"]))\n",
        "    Story.append(Spacer(1, 12))\n",
        "\n",
        "    ptext = '<font size=12>If absences continue, we will schedule a time for you\\\n",
        "     to come to school for a meeting with our administration, with the goal being\\\n",
        "      to identify the factors contributing to your child’s absenteeism, discuss \\\n",
        "      ways we can improve your child’s attendance this year, and commit to a plan\\\n",
        "       of action together. These steps will be taken in accordance with the \\\n",
        "       attendance policy for Distinctive Schools.</font>'\n",
        "    Story.append(Paragraph(ptext, styles[\"Justify\"]))\n",
        "    Story.append(Spacer(1, 12))\n",
        "     \n",
        "    ptext = '<font size=12>Thank you for your attention to this matter, and \\\n",
        "    thank you in advance for your partnership and a dedication to ensuring that \\\n",
        "    your child is set up for success in school this year. I look forward to \\\n",
        "    working with you to support your child in having a positive and productive year. </font>'\n",
        "    Story.append(Paragraph(ptext, styles[\"Justify\"]))\n",
        "    Story.append(Spacer(1, 12))\n",
        "    ptext = '<font size=12>Sincerely,</font>'\n",
        "    Story.append(Paragraph(ptext, styles[\"Normal\"]))\n",
        "    Story.append(Spacer(1, 24))\n",
        "    ptext = '<font size=12>%s</font>'% (dnames[school_name])\n",
        "    Story.append(Paragraph(ptext, styles[\"Normal\"]))\n",
        "    ptext = '<font size=12>Director, %s</font>'% (school_name)\n",
        "    Story.append(Paragraph(ptext, styles[\"Normal\"]))\n",
        "    Story.append(PageBreak()) \n",
        "    \n",
        "    #Second page spanish version\n",
        "    Story.append(logo)\n",
        "     \n",
        "    styles=getSampleStyleSheet()\n",
        "    styles.add(ParagraphStyle(name='Justify', alignment=TA_JUSTIFY))\n",
        "    ptext = '<font size=12>%s</font>' % formatted_time\n",
        "    Story.append(Paragraph(ptext, styles[\"Normal\"]))\n",
        "    Story.append(Spacer(1, 12))\n",
        "\n",
        "    ptext = '<font size=12><u><b>Primera notificación</b></u></font>' \n",
        "    Story.append(Paragraph(ptext, styles[\"Justify\"]))\n",
        "    Story.append(Spacer(1, 12))\n",
        "\n",
        "    ptext = '<font size=12>Dear Family of %s: </font>' % (full_name)\n",
        "    Story.append(Paragraph(ptext, styles[\"Justify\"]))\n",
        "    Story.append(Spacer(1, 12))\n",
        "\n",
        "    ptext ='<font size=12>Le escribimos porque <u>nuestros registros muestran que \\\n",
        "    su hijo ha perdido más del 10 por ciento del año escolar hasta la fecha.</u> Por favor, \\\n",
        "    comprenda que todas las ausencias se consideran injustificadas hasta que se \\\n",
        "    presente la documentación adecuada de acuerdo con el manual de la escuela. \\\n",
        "    La asistencia regular a la escuela es fundamental para el crecimiento y el \\\n",
        "    rendimiento educativo de un niño, y estamos comprometidos con el éxito de su\\\n",
        "     hijo. Esperamos asociarnos con usted este año para asegurar que su hijo \\\n",
        "     continúe teniendo un gran año de aprendizaje y crecimiento.</font>'\n",
        "    Story.append(Paragraph(ptext, styles[\"Justify\"]))\n",
        "    Story.append(Spacer(1, 12))\n",
        "\n",
        "    ptext = '<font size=12>Si las ausencias continúan, programaremos un horario \\\n",
        "    para que usted venga a la escuela a una reunión con nuestra administración \\\n",
        "    con el objetivo de identificar los factores que contribuyen al absentismo de\\\n",
        "     su hijo, discutir formas en que podemos mejorar la asistencia de su hijo \\\n",
        "     este año y comprometerse a un plan de acción juntos. Estos pasos se tomarán\\\n",
        "      de acuerdo con la política de asistencia de Distinctive Schools. </font>' \n",
        "    Story.append(Paragraph(ptext, styles[\"Justify\"]))\n",
        "    Story.append(Spacer(1, 12))\n",
        "     \n",
        "    ptext = '<font size=12>Gracias por su atención a este asunto y gracias de \\\n",
        "    antemano por su colaboración y dedicación para garantizar que su hijo esté \\\n",
        "    preparado para el éxito en la escuela este año. Espero con interés trabajar \\\n",
        "    con usted para asegurarnos de que su hijo tenga un año positivo y productivo.</font>'\n",
        "    Story.append(Paragraph(ptext, styles[\"Justify\"]))\n",
        "    Story.append(Spacer(1, 12))\n",
        "    ptext = '<font size=12>Atentamente,</font>'\n",
        "    Story.append(Paragraph(ptext, styles[\"Normal\"]))\n",
        "    Story.append(Spacer(1, 24))\n",
        "    ptext = '<font size=12>%s</font>'% (dnames[school_name])\n",
        "    Story.append(Paragraph(ptext, styles[\"Normal\"]))\n",
        "    ptext = '<font size=12>Director, %s</font>'% (school_name)\n",
        "    Story.append(Paragraph(ptext, styles[\"Normal\"]))\n",
        "    Story.append(PageBreak()) \n",
        "\n",
        "    #Third page barchart\n",
        "    title_style = styles['Heading1']\n",
        "    title_style.alignment = 1\n",
        "    title = Paragraph(\"Absences Summary/resumen de ausencias\", title_style)\n",
        "    Story.append(title)\n",
        "    Story.append(Spacer(1, 24))\n",
        "    pic = make_drawing(row)\n",
        "    Story.append(pic)\n",
        "\n",
        "    doc.build(Story)"
      ],
      "execution_count": 0,
      "outputs": []
    },
    {
      "cell_type": "code",
      "metadata": {
        "id": "krWkXc1BiSPO",
        "colab_type": "code",
        "colab": {}
      },
      "source": [
        "for i in range(2):\n",
        "  build_a_letter(df.loc[i])"
      ],
      "execution_count": 0,
      "outputs": []
    },
    {
      "cell_type": "markdown",
      "metadata": {
        "id": "TBCWB_KFk6bK",
        "colab_type": "text"
      },
      "source": [
        "# Bigquery"
      ]
    },
    {
      "cell_type": "code",
      "metadata": {
        "id": "-RWjasl0xGdw",
        "colab_type": "code",
        "colab": {}
      },
      "source": [
        "#"
      ],
      "execution_count": 0,
      "outputs": []
    },
    {
      "cell_type": "code",
      "metadata": {
        "id": "1HOs5Huq2d_C",
        "colab_type": "code",
        "colab": {}
      },
      "source": [
        ""
      ],
      "execution_count": 0,
      "outputs": []
    },
    {
      "cell_type": "code",
      "metadata": {
        "id": "n9TQPjk4rBEB",
        "colab_type": "code",
        "colab": {}
      },
      "source": [
        "from google.colab import auth\n",
        "auth.authenticate_user()\n",
        "print('Authenticated')"
      ],
      "execution_count": 0,
      "outputs": []
    },
    {
      "cell_type": "code",
      "metadata": {
        "id": "ZQ687UrtwP2-",
        "colab_type": "code",
        "colab": {}
      },
      "source": [
        "#Getting the original cohort's data\n",
        "\n",
        "%%bigquery --project ds-student-data bdf\n",
        "SELECT *\n",
        "FROM `ds-student-data.Distinctive.ChronicAbsence` \n"
      ],
      "execution_count": 0,
      "outputs": []
    },
    {
      "cell_type": "code",
      "metadata": {
        "id": "lxCsE0a6xNiv",
        "colab_type": "code",
        "colab": {}
      },
      "source": [
        "bdf.shape"
      ],
      "execution_count": 0,
      "outputs": []
    },
    {
      "cell_type": "code",
      "metadata": {
        "id": "VJgAm3U_vyP2",
        "colab_type": "code",
        "colab": {}
      },
      "source": [
        "bdf.head()"
      ],
      "execution_count": 0,
      "outputs": []
    },
    {
      "cell_type": "code",
      "metadata": {
        "id": "6p-05eOwxUMw",
        "colab_type": "code",
        "colab": {}
      },
      "source": [
        "bdf['NumberOfTotalAbsences'].mean()"
      ],
      "execution_count": 0,
      "outputs": []
    },
    {
      "cell_type": "code",
      "metadata": {
        "id": "ZgwGayc--z84",
        "colab_type": "code",
        "colab": {}
      },
      "source": [
        "#Use the total number of absences for all schools for schools whose average is above all average\n",
        "bdf['AverageAbsence'] = bdf['AverageAbsence'].apply(lambda x: 5.1 if x > 5.1 else x)"
      ],
      "execution_count": 0,
      "outputs": []
    },
    {
      "cell_type": "code",
      "metadata": {
        "id": "-sMMX_t0-ux-",
        "colab_type": "code",
        "colab": {}
      },
      "source": [
        "#Calculated the Peer Average Absences in the same school\n",
        "#bdf['AverageAbsencePerSchool']=bdf.groupby(['NameOfInstitution'])['NumberOfTotalAbsences'].transform('mean')"
      ],
      "execution_count": 0,
      "outputs": []
    },
    {
      "cell_type": "code",
      "metadata": {
        "id": "BJABmmc96grL",
        "colab_type": "code",
        "colab": {}
      },
      "source": [
        "x=bdf.loc[0,'NumberOfTotalAbsences':].plot.barh() \n"
      ],
      "execution_count": 0,
      "outputs": []
    }
  ]
}