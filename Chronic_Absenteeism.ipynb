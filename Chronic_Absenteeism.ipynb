{
  "nbformat": 4,
  "nbformat_minor": 0,
  "metadata": {
    "colab": {
      "name": "Chronic_Absenteeism.ipynb",
      "provenance": [],
      "collapsed_sections": [
        "Qrn8hpkhrkP9"
      ]
    },
    "kernelspec": {
      "display_name": "Python 3",
      "name": "python3"
    }
  },
  "cells": [
    {
      "cell_type": "code",
      "metadata": {
        "id": "bYvRxmh5_1IA"
      },
      "source": [
        "from google.colab import drive\n",
        "import matplotlib.pyplot as plt"
      ],
      "execution_count": null,
      "outputs": []
    },
    {
      "cell_type": "code",
      "metadata": {
        "colab": {
          "base_uri": "https://localhost:8080/"
        },
        "id": "KaXLzxzp_3yq",
        "outputId": "b2ffbaf7-4087-4666-918c-f1224ddd8384"
      },
      "source": [
        "drive.mount('/content/gdrive')"
      ],
      "execution_count": null,
      "outputs": [
        {
          "output_type": "stream",
          "text": [
            "Mounted at /content/gdrive\n"
          ],
          "name": "stdout"
        }
      ]
    },
    {
      "cell_type": "code",
      "metadata": {
        "colab": {
          "base_uri": "https://localhost:8080/"
        },
        "id": "n9TQPjk4rBEB",
        "outputId": "17a9c895-0034-4e31-a345-17bc36fe65b9"
      },
      "source": [
        "from google.colab import auth\n",
        "auth.authenticate_user()\n",
        "print('Authenticated')"
      ],
      "execution_count": null,
      "outputs": [
        {
          "output_type": "stream",
          "text": [
            "Authenticated\n"
          ],
          "name": "stdout"
        }
      ]
    },
    {
      "cell_type": "markdown",
      "metadata": {
        "id": "TBCWB_KFk6bK"
      },
      "source": [
        "# Bigquery\n",
        "## Load the Data for 8 schools' data from Bigquery"
      ]
    },
    {
      "cell_type": "code",
      "metadata": {
        "colab": {
          "base_uri": "https://localhost:8080/",
          "height": 35
        },
        "id": "ZQ687UrtwP2-",
        "outputId": "aabbf0fa-c5fd-4940-c3cb-c54cd1c554bd"
      },
      "source": [
        "'''\n",
        "%%bigquery --project ds-student-data df\n",
        "SELECT *\n",
        "FROM `ds-student-data.Distinctive.ChronicAbsence` \n",
        "'''"
      ],
      "execution_count": null,
      "outputs": [
        {
          "output_type": "execute_result",
          "data": {
            "application/vnd.google.colaboratory.intrinsic+json": {
              "type": "string"
            },
            "text/plain": [
              "'\\n%%bigquery --project ds-student-data df\\nSELECT *\\nFROM `ds-student-data.Distinctive.ChronicAbsence` \\n'"
            ]
          },
          "metadata": {
            "tags": []
          },
          "execution_count": 4
        }
      ]
    },
    {
      "cell_type": "code",
      "metadata": {
        "id": "Ih-HCI4hlRHQ"
      },
      "source": [
        "#Getting the ChronicAbsence data\n",
        "#Change the last where clause by condition based on the past days of the current acadmic year\n",
        "\n",
        "%%bigquery --project ds-student-data df\n",
        "\n",
        "SELECT a.NameOfInstitution,a.StudentUniqueId, sde.GradeLevel, a.LastSurname, a.FirstName, a.NumberOfTotalAbsences, b.AverageAbsence\n",
        "FROM `ds-student-data.StarterPack.StudentAttendance` as a\n",
        "INNER JOIN\n",
        "(SELECT ROUND(AVG(NumberOfTotalAbsences),1) AverageAbsence, NameOfInstitution\n",
        "FROM `ds-student-data.StarterPack.StudentAttendance`\n",
        "GROUP BY NameOfInstitution ) as b\n",
        "ON a.NameOfInstitution = b.NameOfInstitution\n",
        "LEFT JOIN `ds-student-data.StarterPack.StudentDemographicsAndEnrollment` as sde\n",
        "ON a.StudentUniqueID=sde.StudentUniqueID\n",
        "WHERE a.NumberOfTotalAbsences >=6"
      ],
      "execution_count": null,
      "outputs": []
    },
    {
      "cell_type": "code",
      "metadata": {
        "colab": {
          "base_uri": "https://localhost:8080/"
        },
        "id": "QPbuRryCLjHd",
        "outputId": "961361a2-d667-4d01-f18c-9f50ca9de969"
      },
      "source": [
        "df.shape"
      ],
      "execution_count": null,
      "outputs": [
        {
          "output_type": "execute_result",
          "data": {
            "text/plain": [
              "(1380, 7)"
            ]
          },
          "metadata": {
            "tags": []
          },
          "execution_count": 6
        }
      ]
    },
    {
      "cell_type": "code",
      "metadata": {
        "colab": {
          "base_uri": "https://localhost:8080/"
        },
        "id": "5bO5zA1cefCd",
        "outputId": "2c51d5f9-0a6c-464a-e194-21710a74a35a"
      },
      "source": [
        "df.groupby('NameOfInstitution')['StudentUniqueId'].count()"
      ],
      "execution_count": null,
      "outputs": [
        {
          "output_type": "execute_result",
          "data": {
            "text/plain": [
              "NameOfInstitution\n",
              "Bucktown                                 147\n",
              "Distinctive College Prep Harper Woods    316\n",
              "Distinctive College Prep Redford         136\n",
              "Irving Park                              107\n",
              "Plymouth Educational Center              378\n",
              "Prairie                                  150\n",
              "River Heights Academy                    104\n",
              "West Belden                               42\n",
              "Name: StudentUniqueId, dtype: int64"
            ]
          },
          "metadata": {
            "tags": []
          },
          "execution_count": 7
        }
      ]
    },
    {
      "cell_type": "code",
      "metadata": {
        "colab": {
          "base_uri": "https://localhost:8080/"
        },
        "id": "hkxkoyzlS-Iq",
        "outputId": "78904dfc-3120-4c37-ab37-066467ee31c7"
      },
      "source": [
        "df['NameOfInstitution'].unique()"
      ],
      "execution_count": null,
      "outputs": [
        {
          "output_type": "execute_result",
          "data": {
            "text/plain": [
              "array(['Distinctive College Prep Harper Woods',\n",
              "       'Distinctive College Prep Redford', 'Prairie', 'Bucktown',\n",
              "       'Irving Park', 'West Belden', 'Plymouth Educational Center',\n",
              "       'River Heights Academy'], dtype=object)"
            ]
          },
          "metadata": {
            "tags": []
          },
          "execution_count": 8
        }
      ]
    },
    {
      "cell_type": "code",
      "metadata": {
        "id": "lxCsE0a6xNiv"
      },
      "source": [
        "#df.shape"
      ],
      "execution_count": null,
      "outputs": []
    },
    {
      "cell_type": "code",
      "metadata": {
        "colab": {
          "base_uri": "https://localhost:8080/"
        },
        "id": "63EAGOYVgSET",
        "outputId": "83ca0a63-0746-4e7e-8f04-9e50523c7d14"
      },
      "source": [
        "!ls /content/gdrive/My\\ Drive/Chronic_absenteeism_letter/"
      ],
      "execution_count": null,
      "outputs": [
        {
          "output_type": "stream",
          "text": [
            " 2020-01-23\t\t  3.2ChronicAbsence.csv\n",
            " 2020-02-07\t\t 'AIM Attendance 12.10.csv'\n",
            " 2020-02-13\t\t 'CA 12-14-20.gdoc'\n",
            " 2020-02-25\t\t 'Chronic Absence - Absence List Import.csv'\n",
            " 2020-03-03\t\t 'Chronic Absence Letter #1 - Jan '\\''20.gdoc'\n",
            " 2020-12-16\t\t 'Chronic Absence.xlsx'\n",
            " 2.13ChronicAbsence.csv   Chronic_Absenteeism.ipynb\n"
          ],
          "name": "stdout"
        }
      ]
    },
    {
      "cell_type": "code",
      "metadata": {
        "id": "6WpoRhXav7Nz"
      },
      "source": [
        "schoolname = {'Prairie':'CICS Prairie', 'Bucktown':'CICS Bucktown', 'Distinctive College Prep Harper Woods':'DCP Harper Woods',\n",
        "       'Distinctive College Prep Redford':'DCP Redford', 'West Belden':'CICS West Belden', 'Irving Park':'CICS Irving Park', 'Plymouth Educational Center':'Plymouth Educational Center','River Heights Academy':'River Heights Academy'}"
      ],
      "execution_count": null,
      "outputs": []
    },
    {
      "cell_type": "code",
      "metadata": {
        "id": "s8RKNXZv3boa"
      },
      "source": [
        "df['NameOfInstitution'] = df['NameOfInstitution'].map(schoolname)"
      ],
      "execution_count": null,
      "outputs": []
    },
    {
      "cell_type": "markdown",
      "metadata": {
        "id": "wVTnEqIhFfFU"
      },
      "source": [
        "# Load from CSV\n",
        "\n",
        "##use this code to load data is not on bigquery: AIM"
      ]
    },
    {
      "cell_type": "code",
      "metadata": {
        "colab": {
          "base_uri": "https://localhost:8080/"
        },
        "id": "_KDV9FuAA3Wn",
        "outputId": "e64bab01-f6c6-4992-e133-a719cf978866"
      },
      "source": [
        "#Data saved in csv/excel\n",
        "import pandas as pd\n",
        "import glob, os\n",
        "\n",
        "data_dir= '/content/gdrive/My Drive/Chronic_absenteeism_letter/'\n",
        "filen = 'AIM Attendance 12.10.csv'\n",
        "\n",
        "os.chdir(data_dir)\n",
        "\n",
        "adf=pd.read_csv(filen)\n",
        "\n",
        "print(\"Column headings:\")\n",
        "print(adf.columns)\n"
      ],
      "execution_count": null,
      "outputs": [
        {
          "output_type": "stream",
          "text": [
            "Column headings:\n",
            "Index(['NameOfInstitution', 'Perm ID', 'Grade', 'LastSurname', 'FirstName',\n",
            "       'NumberOfTotalAbsences', 'Unnamed: 6'],\n",
            "      dtype='object')\n"
          ],
          "name": "stdout"
        }
      ]
    },
    {
      "cell_type": "code",
      "metadata": {
        "colab": {
          "base_uri": "https://localhost:8080/"
        },
        "id": "9727X9HXlfdq",
        "outputId": "838c10ef-8e7c-4e65-b534-8d006f482a98"
      },
      "source": [
        "adf.shape"
      ],
      "execution_count": null,
      "outputs": [
        {
          "output_type": "execute_result",
          "data": {
            "text/plain": [
              "(257, 7)"
            ]
          },
          "metadata": {
            "tags": []
          },
          "execution_count": 14
        }
      ]
    },
    {
      "cell_type": "code",
      "metadata": {
        "colab": {
          "base_uri": "https://localhost:8080/"
        },
        "id": "daRH1Cgl91oA",
        "outputId": "9bc49a9a-ea0f-4963-9bbe-f0ce9baac2c2"
      },
      "source": [
        "df.columns"
      ],
      "execution_count": null,
      "outputs": [
        {
          "output_type": "execute_result",
          "data": {
            "text/plain": [
              "Index(['NameOfInstitution', 'StudentUniqueId', 'GradeLevel', 'LastSurname',\n",
              "       'FirstName', 'NumberOfTotalAbsences', 'AverageAbsence'],\n",
              "      dtype='object')"
            ]
          },
          "metadata": {
            "tags": []
          },
          "execution_count": 15
        }
      ]
    },
    {
      "cell_type": "code",
      "metadata": {
        "id": "8WtThmuE9xEw"
      },
      "source": [
        "adf.columns =['NameOfInstitution', 'StudentUniqueId', 'GradeLevel', 'LastSurname',\n",
        "       'FirstName', 'NumberOfTotalAbsences', 'AverageAbsence']"
      ],
      "execution_count": null,
      "outputs": []
    },
    {
      "cell_type": "code",
      "metadata": {
        "colab": {
          "base_uri": "https://localhost:8080/"
        },
        "id": "mWXKzRlbQuc_",
        "outputId": "aacecabb-fecb-4b32-b019-79ad529798da"
      },
      "source": [
        "adf.groupby('NameOfInstitution')['NumberOfTotalAbsences'].mean().round(1)"
      ],
      "execution_count": null,
      "outputs": [
        {
          "output_type": "execute_result",
          "data": {
            "text/plain": [
              "NameOfInstitution\n",
              "Art in Motion    21.3\n",
              "Name: NumberOfTotalAbsences, dtype: float64"
            ]
          },
          "metadata": {
            "tags": []
          },
          "execution_count": 17
        }
      ]
    },
    {
      "cell_type": "code",
      "metadata": {
        "id": "bfLACLF6Chk4"
      },
      "source": [
        "#Combine the 9 schools \n",
        "frames = [df, adf]\n",
        "df = pd.concat(frames)"
      ],
      "execution_count": null,
      "outputs": []
    },
    {
      "cell_type": "code",
      "metadata": {
        "id": "hRo4JLrrCkSx"
      },
      "source": [
        ""
      ],
      "execution_count": null,
      "outputs": []
    },
    {
      "cell_type": "code",
      "metadata": {
        "colab": {
          "base_uri": "https://localhost:8080/",
          "height": 204
        },
        "id": "_ru69az7SwbT",
        "outputId": "f4527b58-66b8-453a-ca8a-44c61accd844"
      },
      "source": [
        "df.tail()"
      ],
      "execution_count": null,
      "outputs": [
        {
          "output_type": "execute_result",
          "data": {
            "text/html": [
              "<div>\n",
              "<style scoped>\n",
              "    .dataframe tbody tr th:only-of-type {\n",
              "        vertical-align: middle;\n",
              "    }\n",
              "\n",
              "    .dataframe tbody tr th {\n",
              "        vertical-align: top;\n",
              "    }\n",
              "\n",
              "    .dataframe thead th {\n",
              "        text-align: right;\n",
              "    }\n",
              "</style>\n",
              "<table border=\"1\" class=\"dataframe\">\n",
              "  <thead>\n",
              "    <tr style=\"text-align: right;\">\n",
              "      <th></th>\n",
              "      <th>NameOfInstitution</th>\n",
              "      <th>StudentUniqueId</th>\n",
              "      <th>GradeLevel</th>\n",
              "      <th>LastSurname</th>\n",
              "      <th>FirstName</th>\n",
              "      <th>NumberOfTotalAbsences</th>\n",
              "      <th>AverageAbsence</th>\n",
              "    </tr>\n",
              "  </thead>\n",
              "  <tbody>\n",
              "    <tr>\n",
              "      <th>252</th>\n",
              "      <td>Art in Motion</td>\n",
              "      <td>50199175</td>\n",
              "      <td>9</td>\n",
              "      <td>Williams</td>\n",
              "      <td>Jahzlynn</td>\n",
              "      <td>5.0</td>\n",
              "      <td>21.0</td>\n",
              "    </tr>\n",
              "    <tr>\n",
              "      <th>253</th>\n",
              "      <td>Art in Motion</td>\n",
              "      <td>50123596</td>\n",
              "      <td>9</td>\n",
              "      <td>Williams</td>\n",
              "      <td>Tamiyah</td>\n",
              "      <td>46.0</td>\n",
              "      <td>21.0</td>\n",
              "    </tr>\n",
              "    <tr>\n",
              "      <th>254</th>\n",
              "      <td>Art in Motion</td>\n",
              "      <td>50301647</td>\n",
              "      <td>9</td>\n",
              "      <td>Willis</td>\n",
              "      <td>Malaysia</td>\n",
              "      <td>44.0</td>\n",
              "      <td>21.0</td>\n",
              "    </tr>\n",
              "    <tr>\n",
              "      <th>255</th>\n",
              "      <td>Art in Motion</td>\n",
              "      <td>50263275</td>\n",
              "      <td>9</td>\n",
              "      <td>Woods</td>\n",
              "      <td>Collin</td>\n",
              "      <td>25.0</td>\n",
              "      <td>21.0</td>\n",
              "    </tr>\n",
              "    <tr>\n",
              "      <th>256</th>\n",
              "      <td>Art in Motion</td>\n",
              "      <td>45428796</td>\n",
              "      <td>9</td>\n",
              "      <td>Woods</td>\n",
              "      <td>Jordyn</td>\n",
              "      <td>40.0</td>\n",
              "      <td>21.0</td>\n",
              "    </tr>\n",
              "  </tbody>\n",
              "</table>\n",
              "</div>"
            ],
            "text/plain": [
              "    NameOfInstitution StudentUniqueId  ... NumberOfTotalAbsences AverageAbsence\n",
              "252     Art in Motion        50199175  ...                   5.0           21.0\n",
              "253     Art in Motion        50123596  ...                  46.0           21.0\n",
              "254     Art in Motion        50301647  ...                  44.0           21.0\n",
              "255     Art in Motion        50263275  ...                  25.0           21.0\n",
              "256     Art in Motion        45428796  ...                  40.0           21.0\n",
              "\n",
              "[5 rows x 7 columns]"
            ]
          },
          "metadata": {
            "tags": []
          },
          "execution_count": 19
        }
      ]
    },
    {
      "cell_type": "markdown",
      "metadata": {
        "id": "dWZ87vP3A_WO"
      },
      "source": [
        "#Getting the Images  & Principal info"
      ]
    },
    {
      "cell_type": "code",
      "metadata": {
        "id": "q6Nqw2cvgDnO"
      },
      "source": [
        "import pandas as pd\n",
        "import glob, os\n",
        "\n",
        "data_dir= '/content/gdrive/My Drive/Chronic_absenteeism_letter/'\n",
        "filename = 'Chronic Absence.xlsx'\n",
        "\n",
        "os.chdir(data_dir)\n"
      ],
      "execution_count": null,
      "outputs": []
    },
    {
      "cell_type": "code",
      "metadata": {
        "id": "lGtQDwbChVYv"
      },
      "source": [
        "dname=pd.read_excel(filename, sheet_name='Images  & PrincipalTable')"
      ],
      "execution_count": null,
      "outputs": []
    },
    {
      "cell_type": "code",
      "metadata": {
        "colab": {
          "base_uri": "https://localhost:8080/"
        },
        "id": "K6RTBVLzyUYG",
        "outputId": "b38dd5b8-a1b9-49c1-86d7-9413f5f3a131"
      },
      "source": [
        "df.NameOfInstitution.unique()"
      ],
      "execution_count": null,
      "outputs": [
        {
          "output_type": "execute_result",
          "data": {
            "text/plain": [
              "array(['DCP Harper Woods', 'DCP Redford', 'CICS Prairie', 'CICS Bucktown',\n",
              "       'CICS Irving Park', 'CICS West Belden',\n",
              "       'Plymouth Educational Center', 'River Heights Academy',\n",
              "       'Art in Motion'], dtype=object)"
            ]
          },
          "metadata": {
            "tags": []
          },
          "execution_count": 22
        }
      ]
    },
    {
      "cell_type": "code",
      "metadata": {
        "id": "ikOIQiISC_-_"
      },
      "source": [
        "dc=df.groupby(\"NameOfInstitution\")['AverageAbsence'].mean().round(1).to_dict()"
      ],
      "execution_count": null,
      "outputs": []
    },
    {
      "cell_type": "code",
      "metadata": {
        "colab": {
          "base_uri": "https://localhost:8080/"
        },
        "id": "YNqT0JzAOjmo",
        "outputId": "14044fa8-3543-4a42-f98c-42e291aea84a"
      },
      "source": [
        "dc"
      ],
      "execution_count": null,
      "outputs": [
        {
          "output_type": "execute_result",
          "data": {
            "text/plain": [
              "{'Art in Motion': 21.0,\n",
              " 'CICS Bucktown': 4.0,\n",
              " 'CICS Irving Park': 3.3,\n",
              " 'CICS Prairie': 6.4,\n",
              " 'CICS West Belden': 1.7,\n",
              " 'DCP Harper Woods': 12.5,\n",
              " 'DCP Redford': 12.9,\n",
              " 'Plymouth Educational Center': 17.9,\n",
              " 'River Heights Academy': 9.5}"
            ]
          },
          "metadata": {
            "tags": []
          },
          "execution_count": 24
        }
      ]
    },
    {
      "cell_type": "code",
      "metadata": {
        "id": "Ytp3sNGumtyL"
      },
      "source": [
        "#Getting the total number of absence for all schools\n",
        "%%bigquery --project ds-student-data mni\n",
        "\n",
        "SELECT AVG(NumberOfTotalAbsences) as avgDS\n",
        "FROM `ds-student-data.StarterPack.StudentAttendance`"
      ],
      "execution_count": null,
      "outputs": []
    },
    {
      "cell_type": "markdown",
      "metadata": {
        "id": "ON1Z7VTfqCD8"
      },
      "source": [
        "#If you need to add a fixed number write over mni.avgDS.loc[0]...."
      ]
    },
    {
      "cell_type": "code",
      "metadata": {
        "colab": {
          "base_uri": "https://localhost:8080/"
        },
        "id": "SBp6EBBAnj4R",
        "outputId": "d9df97b5-9810-4c62-d602-808523f17024"
      },
      "source": [
        "wholeavg = mni.avgDS.loc[0].round(1)\n",
        "wholeavg"
      ],
      "execution_count": null,
      "outputs": [
        {
          "output_type": "execute_result",
          "data": {
            "text/plain": [
              "7.7"
            ]
          },
          "metadata": {
            "tags": []
          },
          "execution_count": 26
        }
      ]
    },
    {
      "cell_type": "code",
      "metadata": {
        "id": "TduGlIMKnl46"
      },
      "source": [
        "for school in dc:\n",
        "  if dc[school] > wholeavg:\n",
        "    dc[school] = wholeavg"
      ],
      "execution_count": null,
      "outputs": []
    },
    {
      "cell_type": "code",
      "metadata": {
        "colab": {
          "base_uri": "https://localhost:8080/"
        },
        "id": "86WzDUPfn4aR",
        "outputId": "3f0b3018-5473-4dda-e590-50a6b6260c06"
      },
      "source": [
        "dc"
      ],
      "execution_count": null,
      "outputs": [
        {
          "output_type": "execute_result",
          "data": {
            "text/plain": [
              "{'Art in Motion': 7.7,\n",
              " 'CICS Bucktown': 4.0,\n",
              " 'CICS Irving Park': 3.3,\n",
              " 'CICS Prairie': 6.4,\n",
              " 'CICS West Belden': 1.7,\n",
              " 'DCP Harper Woods': 7.7,\n",
              " 'DCP Redford': 7.7,\n",
              " 'Plymouth Educational Center': 7.7,\n",
              " 'River Heights Academy': 7.7}"
            ]
          },
          "metadata": {
            "tags": []
          },
          "execution_count": 28
        }
      ]
    },
    {
      "cell_type": "code",
      "metadata": {
        "id": "ZwEnmZXqJOlS"
      },
      "source": [
        "df['AverageAbsence'] = df['NameOfInstitution'].map(dc)"
      ],
      "execution_count": null,
      "outputs": []
    },
    {
      "cell_type": "code",
      "metadata": {
        "colab": {
          "base_uri": "https://localhost:8080/",
          "height": 204
        },
        "id": "GvyS-_8KHg0W",
        "outputId": "aa6dca9d-7ef9-4499-ad6b-1ef5ded1ef9d"
      },
      "source": [
        "df.head()"
      ],
      "execution_count": null,
      "outputs": [
        {
          "output_type": "execute_result",
          "data": {
            "text/html": [
              "<div>\n",
              "<style scoped>\n",
              "    .dataframe tbody tr th:only-of-type {\n",
              "        vertical-align: middle;\n",
              "    }\n",
              "\n",
              "    .dataframe tbody tr th {\n",
              "        vertical-align: top;\n",
              "    }\n",
              "\n",
              "    .dataframe thead th {\n",
              "        text-align: right;\n",
              "    }\n",
              "</style>\n",
              "<table border=\"1\" class=\"dataframe\">\n",
              "  <thead>\n",
              "    <tr style=\"text-align: right;\">\n",
              "      <th></th>\n",
              "      <th>NameOfInstitution</th>\n",
              "      <th>StudentUniqueId</th>\n",
              "      <th>GradeLevel</th>\n",
              "      <th>LastSurname</th>\n",
              "      <th>FirstName</th>\n",
              "      <th>NumberOfTotalAbsences</th>\n",
              "      <th>AverageAbsence</th>\n",
              "    </tr>\n",
              "  </thead>\n",
              "  <tbody>\n",
              "    <tr>\n",
              "      <th>0</th>\n",
              "      <td>DCP Harper Woods</td>\n",
              "      <td>50000994</td>\n",
              "      <td>K</td>\n",
              "      <td>Summers</td>\n",
              "      <td>Kristian</td>\n",
              "      <td>14.0</td>\n",
              "      <td>7.7</td>\n",
              "    </tr>\n",
              "    <tr>\n",
              "      <th>1</th>\n",
              "      <td>DCP Harper Woods</td>\n",
              "      <td>60000006</td>\n",
              "      <td>K</td>\n",
              "      <td>Chambers</td>\n",
              "      <td>Royal</td>\n",
              "      <td>28.0</td>\n",
              "      <td>7.7</td>\n",
              "    </tr>\n",
              "    <tr>\n",
              "      <th>2</th>\n",
              "      <td>DCP Harper Woods</td>\n",
              "      <td>50000689</td>\n",
              "      <td>6</td>\n",
              "      <td>Webster</td>\n",
              "      <td>Khamiah</td>\n",
              "      <td>18.0</td>\n",
              "      <td>7.7</td>\n",
              "    </tr>\n",
              "    <tr>\n",
              "      <th>3</th>\n",
              "      <td>DCP Harper Woods</td>\n",
              "      <td>50000689</td>\n",
              "      <td>6</td>\n",
              "      <td>Webster</td>\n",
              "      <td>Khamiah</td>\n",
              "      <td>18.0</td>\n",
              "      <td>7.7</td>\n",
              "    </tr>\n",
              "    <tr>\n",
              "      <th>4</th>\n",
              "      <td>DCP Harper Woods</td>\n",
              "      <td>50000992</td>\n",
              "      <td>K</td>\n",
              "      <td>Brown</td>\n",
              "      <td>Skylar</td>\n",
              "      <td>11.0</td>\n",
              "      <td>7.7</td>\n",
              "    </tr>\n",
              "  </tbody>\n",
              "</table>\n",
              "</div>"
            ],
            "text/plain": [
              "  NameOfInstitution StudentUniqueId  ... NumberOfTotalAbsences AverageAbsence\n",
              "0  DCP Harper Woods        50000994  ...                  14.0            7.7\n",
              "1  DCP Harper Woods        60000006  ...                  28.0            7.7\n",
              "2  DCP Harper Woods        50000689  ...                  18.0            7.7\n",
              "3  DCP Harper Woods        50000689  ...                  18.0            7.7\n",
              "4  DCP Harper Woods        50000992  ...                  11.0            7.7\n",
              "\n",
              "[5 rows x 7 columns]"
            ]
          },
          "metadata": {
            "tags": []
          },
          "execution_count": 30
        }
      ]
    },
    {
      "cell_type": "code",
      "metadata": {
        "id": "Mx4nubANyLXf"
      },
      "source": [
        "links = dict(zip(dname.Campus, dname.Link))"
      ],
      "execution_count": null,
      "outputs": []
    },
    {
      "cell_type": "code",
      "metadata": {
        "colab": {
          "base_uri": "https://localhost:8080/"
        },
        "id": "w7fCIve3h4HW",
        "outputId": "99120f50-8462-490f-ed06-c1f504a3caef"
      },
      "source": [
        "links"
      ],
      "execution_count": null,
      "outputs": [
        {
          "output_type": "execute_result",
          "data": {
            "text/plain": [
              "{'Art in Motion': 'https://www.distinctiveschools.org/uploads/8/4/9/1/84911918/published/aim-circle-logo-color-withwhite.png?1581611169',\n",
              " 'CICS Bucktown': 'https://www.cicsbucktown.org/uploads/8/4/9/1/84911918/published/cics-bucktown-horz.png?1531843975',\n",
              " 'CICS Irving Park': 'https://www.cicsirvingpark.org/uploads/8/4/9/1/84911918/published/cics-irving-park-horz.png?1531844890',\n",
              " 'CICS Prairie': 'https://www.cicsprairie.org/uploads/8/4/9/1/84911918/published/cics-prairie-horz.png?1531844962',\n",
              " 'CICS West Belden': 'https://www.cicswestbelden.org/uploads/8/4/9/1/84911918/published/cics-west-belden-horz.png?1531845057',\n",
              " 'DCP Harper Woods': 'https://www.dcpharperwoods.org/uploads/8/4/9/1/84911918/dscp-stacked-horizontal.png',\n",
              " 'DCP Redford': 'https://www.dcpharperwoods.org/uploads/8/4/9/1/84911918/dscp-stacked-horizontal.png',\n",
              " 'Plymouth Educational Center': 'https://www.plymouthed.org/uploads/8/4/9/1/84911918/published/pec-navylogo_1.png?1561052576',\n",
              " 'River Heights Academy': 'https://www.riverheightsacademy.org/uploads/8/4/9/1/84911918/rha-stacked-horz-bluegreen2.png'}"
            ]
          },
          "metadata": {
            "tags": []
          },
          "execution_count": 32
        }
      ]
    },
    {
      "cell_type": "code",
      "metadata": {
        "id": "jYJO89V2xySo"
      },
      "source": [
        "#Make a dictionary matching the campus to Director names\n",
        "dnames = dict(zip(dname.Campus, dname.Director))"
      ],
      "execution_count": null,
      "outputs": []
    },
    {
      "cell_type": "code",
      "metadata": {
        "colab": {
          "base_uri": "https://localhost:8080/"
        },
        "id": "QNmQc8BJ3_1w",
        "outputId": "d95776ab-bfc1-4b16-dd8d-cba1ab6c3bd2"
      },
      "source": [
        "dnames"
      ],
      "execution_count": null,
      "outputs": [
        {
          "output_type": "execute_result",
          "data": {
            "text/plain": [
              "{'Art in Motion': 'Ms. Kara May',\n",
              " 'CICS Bucktown': \"Ms. Sarah O'Connell\",\n",
              " 'CICS Irving Park': 'Mr. JW Kuebler',\n",
              " 'CICS Prairie': 'Ms. Jennifer Harth',\n",
              " 'CICS West Belden': 'Ms. Colleen Collins',\n",
              " 'DCP Harper Woods': 'Ms. Cassie Williams',\n",
              " 'DCP Redford': 'Ms. Camille Hibbler',\n",
              " 'Plymouth Educational Center': 'Ms. Schranda Battle',\n",
              " 'River Heights Academy': 'Ms. Jessica Kull'}"
            ]
          },
          "metadata": {
            "tags": []
          },
          "execution_count": 34
        }
      ]
    },
    {
      "cell_type": "code",
      "metadata": {
        "id": "iv5z0Z_mFJHG"
      },
      "source": [
        "mails = {'CICS Bucktown':'soconnell@distinctiveschools.org','CICS Irving Park': 'jkuebler@distinctiveschools.org',\n",
        " 'CICS Prairie': 'jharth@distinctiveschools.org',\n",
        " 'CICS West Belden': 'ccollins@distinctiveschools.org',\n",
        " 'DCP Harper Woods': 'cwilliams@distinctiveschools.org',\n",
        " 'DCP Redford': 'chibbler@distinctiveschools.org' ,\n",
        " 'Art in Motion': 'kmay@distinctiveschools.org',\n",
        " 'Plymouth Educational Center': 'sbattle@distinctiveschools.org' ,\n",
        " 'River Heights Academy': 'jkull@distinctiveschools.org'}"
      ],
      "execution_count": null,
      "outputs": []
    },
    {
      "cell_type": "markdown",
      "metadata": {
        "id": "MCL_1RcUk-RZ"
      },
      "source": [
        "# Create the letter"
      ]
    },
    {
      "cell_type": "code",
      "metadata": {
        "colab": {
          "base_uri": "https://localhost:8080/"
        },
        "id": "LOSn831VBV5-",
        "outputId": "306385ff-90b0-47b3-b313-12dd5f28e371"
      },
      "source": [
        "!pip3 install reportlab"
      ],
      "execution_count": null,
      "outputs": [
        {
          "output_type": "stream",
          "text": [
            "Collecting reportlab\n",
            "\u001b[?25l  Downloading https://files.pythonhosted.org/packages/4e/ca/f109a94f816b08e1b2f90711c83bdd5596c4b31b3112fe3fa0051ec3c6e6/reportlab-3.5.56-cp36-cp36m-manylinux2010_x86_64.whl (2.6MB)\n",
            "\u001b[K     |████████████████████████████████| 2.6MB 9.6MB/s \n",
            "\u001b[?25hRequirement already satisfied: pillow>=4.0.0 in /usr/local/lib/python3.6/dist-packages (from reportlab) (7.0.0)\n",
            "Installing collected packages: reportlab\n",
            "Successfully installed reportlab-3.5.56\n"
          ],
          "name": "stdout"
        }
      ]
    },
    {
      "cell_type": "code",
      "metadata": {
        "id": "IWfeWqviEKwG"
      },
      "source": [
        "import os\n",
        "\n",
        "def createFolder(directory):\n",
        "\n",
        "    try:\n",
        "        if not os.path.exists(directory):\n",
        "            os.makedirs(directory)\n",
        "    except OSError:\n",
        "        print ('Error: Creating directory. ' +  directory)\n",
        "        \n",
        "\n"
      ],
      "execution_count": null,
      "outputs": []
    },
    {
      "cell_type": "code",
      "metadata": {
        "colab": {
          "base_uri": "https://localhost:8080/"
        },
        "id": "5s6bAaYlEOcE",
        "outputId": "6ea95e85-6cc5-4935-a9bc-0e78badef4e7"
      },
      "source": [
        "maxnumber = df['NumberOfTotalAbsences'].max()\n",
        "maxnumber"
      ],
      "execution_count": null,
      "outputs": [
        {
          "output_type": "execute_result",
          "data": {
            "text/plain": [
              "65.0"
            ]
          },
          "metadata": {
            "tags": []
          },
          "execution_count": 38
        }
      ]
    },
    {
      "cell_type": "code",
      "metadata": {
        "id": "pp2D4VxYGCL4"
      },
      "source": [
        "from reportlab.lib import colors\n",
        "from reportlab.graphics.shapes import Drawing, String\n",
        "from reportlab.graphics.charts.barcharts import HorizontalBarChart\n",
        "\n",
        "\n",
        "def make_drawing(row):\n",
        "    drawing = Drawing()\n",
        "    data = [(row['NumberOfTotalAbsences'], row['AverageAbsence']),]\n",
        "    names = [row['FirstName'], 'Classmates\\n /Compañeros']\n",
        "    \n",
        "    bc = HorizontalBarChart()\n",
        "    bc.x = 20\n",
        "    bc.y = 50\n",
        "    bc.height = 150\n",
        "    bc.width = 400\n",
        "    bc.data = data\n",
        "    bc.strokeColor = colors.black\n",
        "    bc.valueAxis.valueMin = 0\n",
        "    bc.valueAxis.visibleGrid = True\n",
        "    bc.valueAxis.valueMax = maxnumber\n",
        "    bc.valueAxis.valueStep = 10\n",
        "\n",
        "    bc.barLabels.fontName = \"Helvetica\"\n",
        "    bc.barLabels.fontSize = 12\n",
        "    bc.barLabelFormat = '%d'\n",
        "    bc.barLabels.nudge = 7\n",
        "    \n",
        "    bc.categoryAxis.labels.boxAnchor = 'ne'\n",
        "    bc.categoryAxis.labels.dx = -10\n",
        "    bc.categoryAxis.labels.dy = 0 \n",
        "    bc.categoryAxis.labels.fontName = 'Helvetica'\n",
        "    bc.categoryAxis.categoryNames = names\n",
        "    \n",
        "    bc.valueAxis.visible = True\n",
        "    #Customize the color of the bars  \n",
        "    bc.bars[(0, 0)].fillColor = colors.steelblue \n",
        "    bc.bars[(0, 1)].fillColor = colors.lightsteelblue\n",
        "    drawing.add(bc)\n",
        "\n",
        "    return drawing"
      ],
      "execution_count": null,
      "outputs": []
    },
    {
      "cell_type": "code",
      "metadata": {
        "id": "X9D4qZkF4H9n"
      },
      "source": [
        "import datetime\n",
        "from reportlab.lib.enums import TA_JUSTIFY\n",
        "from reportlab.lib.pagesizes import letter\n",
        "from reportlab.platypus import SimpleDocTemplate, Paragraph, Spacer, Image\n",
        "from reportlab.lib.styles import getSampleStyleSheet, ParagraphStyle\n",
        "from reportlab.lib.units import inch\n",
        "from reportlab.platypus import PageBreak\n",
        "from reportlab.lib.utils import ImageReader\n",
        " \n",
        "def build_a_letter(row, test=True):\n",
        "    '''\n",
        "    Input: dataframe row\n",
        "    Output: pdf file named after studentID\n",
        "    '''\n",
        "    #I name the pdf name after the Initals and StudentID\n",
        "  \n",
        "    name = str(row['FirstName'][0])+ str(row['LastSurname'][0])+str(row['StudentUniqueId'])+'.pdf'\n",
        "    full_name = row['FirstName']+' ' + row['LastSurname']\n",
        "    school_name = row.NameOfInstitution\n",
        "    grade = str(row.GradeLevel)\n",
        "    formatted_time = datetime.date.today().isoformat()\n",
        "    \n",
        "    if test:\n",
        "      outfiledir = data_dir+ 'test'+'/'+str(school_name)+'/'+grade+'/'\n",
        "    else:\n",
        "      outfiledir = data_dir+ str(formatted_time)+'/'+str(school_name)+'/'+grade+'/'\n",
        "    createFolder(outfiledir)\n",
        "    outfilepath = os.path.join(outfiledir, name)\n",
        "    #print(outfilepath)\n",
        "\n",
        "    doc = SimpleDocTemplate(outfilepath, pagesize=letter,\n",
        "                        rightMargin=72,leftMargin=72,\n",
        "                        topMargin=72,bottomMargin=18)\n",
        "    Story=[]\n",
        "\n",
        "    if school_name == 'DCP Harper Woods' or school_name =='DCP Redford':\n",
        "      logo = Image(links[school_name], width=2*inch, height=0.42*inch, kind='proportional')\n",
        "    else:\n",
        "      logo = Image(links[school_name])\n",
        "\n",
        "    \n",
        "    NumberOfTotalAbsences = str(row.NumberOfTotalAbsences)\n",
        "    story = []\n",
        "    #Set the logo \n",
        "    Story.append(logo)\n",
        "     \n",
        "    styles=getSampleStyleSheet()\n",
        "    styles.add(ParagraphStyle(name='Justify', alignment=TA_JUSTIFY))\n",
        "    ptext = '<font size=11>%s</font>' % formatted_time\n",
        "     \n",
        "    Story.append(Paragraph(ptext, styles[\"Normal\"]))\n",
        "    Story.append(Spacer(1, 12))\n",
        "     \n",
        "    ptext = '<font size=11>Dear Family of %s: </font>' % (full_name)\n",
        "    Story.append(Paragraph(ptext, styles[\"Justify\"]))\n",
        "    Story.append(Spacer(1, 12))\n",
        "    \n",
        "    ptext = '<font size=11>We are writing to you because <u>our records show that your child has missed more than 10 % of the school year to date.</u> During this challenging pandemic, we recognize the difficulties of transitioning to a very different school year in 2020. In light of the current COVID circumstances, class attendance and participation remains critical for a child’s educational growth and achievement, and we are committed to your child’s success.</font>'\n",
        "    Story.append(Paragraph(ptext, styles[\"Justify\"]))\n",
        "    Story.append(Spacer(1, 12))\n",
        "\n",
        "    ptext = '<font size=11>Our team will be following up this letter with a call to discuss reasons behind your student’s absence from remote learning. We recognize that the COVID pandemic has introduced a host of new challenges that our students and families have to navigat. Our goal is to work with you to identify the factors contributing to your child’s absenteeism and work together on a solution for improvement.  If absences continue, it will be necessary to schedule a meeting with school administration and commit to a further plan of action.</font>'\n",
        "    Story.append(Paragraph(ptext, styles[\"Justify\"]))\n",
        "    Story.append(Spacer(1, 12))\n",
        "     \n",
        "    ptext = '<font size=11>Thank you for your partnership in addressing this matter, and thank you in advance for your dedication to ensuring that your child is set up for success in school this year. We are #BetterTogether, and we look forward to partnering with you to ensure that your child has a great year of learning and growth. </font>'\n",
        "    Story.append(Paragraph(ptext, styles[\"Justify\"]))\n",
        "    Story.append(Spacer(1, 12))\n",
        "    ptext = '<font size=11>Sincerely,</font>'\n",
        "    Story.append(Paragraph(ptext, styles[\"Normal\"]))\n",
        "    Story.append(Spacer(1, 24))\n",
        "    ptext = '<font size=11>%s</font>'% (dnames[school_name])\n",
        "    Story.append(Paragraph(ptext, styles[\"Normal\"]))\n",
        "    ptext = '<font size=11>Director, %s</font>'% (school_name)\n",
        "    Story.append(Paragraph(ptext, styles[\"Normal\"]))\n",
        "    ptext = '<font size=11>%s</font>'% (mails[school_name])\n",
        "    Story.append(Paragraph(ptext, styles[\"Normal\"]))\n",
        "    Story.append(PageBreak()) \n",
        "    \n",
        "    #Second page spanish version\n",
        "    Story.append(logo)\n",
        "     \n",
        "    styles=getSampleStyleSheet()\n",
        "    styles.add(ParagraphStyle(name='Justify', alignment=TA_JUSTIFY))\n",
        "    ptext = '<font size=11>%s</font>' % formatted_time\n",
        "    Story.append(Paragraph(ptext, styles[\"Normal\"]))\n",
        "    Story.append(Spacer(1, 12))\n",
        "\n",
        "    ptext = '<font size=11><u><b>Primera notificación</b></u></font>' \n",
        "    Story.append(Paragraph(ptext, styles[\"Justify\"]))\n",
        "    Story.append(Spacer(1, 12))\n",
        "\n",
        "    ptext = '<font size=11>Estimada familia de %s: </font>' % (full_name)\n",
        "    Story.append(Paragraph(ptext, styles[\"Justify\"]))\n",
        "    Story.append(Spacer(1, 12))\n",
        "\n",
        "    ptext ='<font size=11>Le escribimos porque <u>nuestros registros muestran que \\\n",
        "    su hijo ha perdido más del 10 % del año escolar hasta la fecha.</u> Por favor, \\\n",
        "    comprenda que todas las ausencias se consideran injustificadas hasta que se \\\n",
        "    presente la documentación adecuada de acuerdo con el manual de la escuela. \\\n",
        "    La asistencia regular a la escuela es fundamental para el crecimiento y el \\\n",
        "    rendimiento educativo de un niño, y estamos comprometidos con el éxito de su\\\n",
        "     hijo. Esperamos asociarnos con usted este año para asegurar que su hijo \\\n",
        "     continúe teniendo un gran año de aprendizaje y crecimiento.</font>'\n",
        "    Story.append(Paragraph(ptext, styles[\"Justify\"]))\n",
        "    Story.append(Spacer(1, 12))\n",
        "\n",
        "    ptext = '<font size=11>Si las ausencias continúan, programaremos un horario \\\n",
        "    para que usted venga a la escuela a una reunión con nuestra administración \\\n",
        "    con el objetivo de identificar los factores que contribuyen al absentismo de\\\n",
        "     su hijo, discutir formas en que podemos mejorar la asistencia de su hijo \\\n",
        "     este año y comprometerse a un plan de acción juntos. Estos pasos se tomarán\\\n",
        "      de acuerdo con la política de asistencia de Distinctive Schools. </font>' \n",
        "    Story.append(Paragraph(ptext, styles[\"Justify\"]))\n",
        "    Story.append(Spacer(1, 12))\n",
        "     \n",
        "    ptext = '<font size=11>Gracias por su atención a este asunto y gracias de \\\n",
        "    antemano por su colaboración y dedicación para garantizar que su hijo esté \\\n",
        "    preparado para el éxito en la escuela este año. Espero con interés trabajar \\\n",
        "    con usted para asegurarnos de que su hijo tenga un año positivo y productivo.</font>'\n",
        "    Story.append(Paragraph(ptext, styles[\"Justify\"]))\n",
        "    Story.append(Spacer(1, 12))\n",
        "    ptext = '<font size=11>Atentamente,</font>'\n",
        "    Story.append(Paragraph(ptext, styles[\"Normal\"]))\n",
        "    Story.append(Spacer(1, 24))\n",
        "    ptext = '<font size=11>%s</font>'% (dnames[school_name])\n",
        "    Story.append(Paragraph(ptext, styles[\"Normal\"]))\n",
        "    ptext = '<font size=11>Director, %s</font>'% (school_name)\n",
        "    Story.append(Paragraph(ptext, styles[\"Normal\"]))\n",
        "    ptext = '<font size=11>%s</font>'% (mails[school_name])\n",
        "    Story.append(Paragraph(ptext, styles[\"Normal\"]))\n",
        "    Story.append(PageBreak()) \n",
        "\n",
        "    #Third page barchart\n",
        "    title_style = styles['Heading1']\n",
        "    title_style.alignment = 1\n",
        "    title = Paragraph(\"Absences Summary/Resumen de ausencias\", title_style)\n",
        "    Story.append(title)\n",
        "    Story.append(Spacer(1, 24))\n",
        "    pic = make_drawing(row)\n",
        "    Story.append(pic)\n",
        "\n",
        "    doc.build(Story)"
      ],
      "execution_count": null,
      "outputs": []
    },
    {
      "cell_type": "code",
      "metadata": {
        "id": "5YLcyHNVmYEY"
      },
      "source": [
        "def build_english_letter(row, test=True):\n",
        "    '''\n",
        "    Input: dataframe row\n",
        "    Output: pdf file named after studentID\n",
        "    '''\n",
        "    #I name the pdf name after the Initals and StudentID\n",
        "  \n",
        "    name = str(row['FirstName'][0])+ str(row['LastSurname'][0])+str(row['StudentUniqueId'])+'.pdf'\n",
        "    full_name = row['FirstName']+' ' + row['LastSurname']\n",
        "    school_name = row.NameOfInstitution\n",
        "    grade = str(row.GradeLevel)\n",
        "    formatted_time = datetime.date.today().isoformat()\n",
        "    \n",
        "    if test:\n",
        "      outfiledir = data_dir+ 'test'+'/'+str(school_name)+'/'+grade+'/'\n",
        "    else:\n",
        "      outfiledir = data_dir+ str(formatted_time)+'/'+str(school_name)+'/'+grade+'/'\n",
        "    createFolder(outfiledir)\n",
        "    outfilepath = os.path.join(outfiledir, name)\n",
        "    #print(outfilepath)\n",
        "\n",
        "    doc = SimpleDocTemplate(outfilepath, pagesize=letter,\n",
        "                        rightMargin=72,leftMargin=72,\n",
        "                        topMargin=72,bottomMargin=18)\n",
        "    Story=[]\n",
        "\n",
        "    if school_name == 'DCP Harper Woods' or school_name =='DCP Redford':\n",
        "      logo = Image(links[school_name], width=2*inch, height=0.42*inch, kind='proportional')\n",
        "    else:\n",
        "      logo = Image(links[school_name])\n",
        "\n",
        "    \n",
        "    NumberOfTotalAbsences = str(row.NumberOfTotalAbsences)\n",
        "    story = []\n",
        "    #Set the logo \n",
        "    Story.append(logo)\n",
        "     \n",
        "    styles=getSampleStyleSheet()\n",
        "    styles.add(ParagraphStyle(name='Justify', alignment=TA_JUSTIFY))\n",
        "    ptext = '<font size=11>%s</font>' % formatted_time\n",
        "     \n",
        "    Story.append(Paragraph(ptext, styles[\"Normal\"]))\n",
        "    Story.append(Spacer(1, 12))\n",
        "     \n",
        "    ptext = '<font size=11>Dear Family of %s: </font>' % (full_name)\n",
        "    Story.append(Paragraph(ptext, styles[\"Justify\"]))\n",
        "    Story.append(Spacer(1, 12))\n",
        "    \n",
        "    ptext = '<font size=11>We are writing to you because <u>our records show that your child has missed more than 10 % of the school year to date.</u> During this challenging pandemic, we recognize the difficulties of transitioning to a very different school year in 2020. In light of the current COVID circumstances, class attendance and participation remains critical for a child’s educational growth and achievement, and we are committed to your child’s success.</font>'\n",
        "    Story.append(Paragraph(ptext, styles[\"Justify\"]))\n",
        "    Story.append(Spacer(1, 12))\n",
        "\n",
        "    ptext = '<font size=11>Our team will be following up this letter with a call to discuss reasons behind your student’s absence from remote learning. We recognize that the COVID pandemic has introduced a host of new challenges that our students and families have to navigat. Our goal is to work with you to identify the factors contributing to your child’s absenteeism and work together on a solution for improvement.  If absences continue, it will be necessary to schedule a meeting with school administration and commit to a further plan of action.</font>'\n",
        "    Story.append(Paragraph(ptext, styles[\"Justify\"]))\n",
        "    Story.append(Spacer(1, 12))\n",
        "     \n",
        "    ptext = '<font size=11>Thank you for your partnership in addressing this matter, and thank you in advance for your dedication to ensuring that your child is set up for success in school this year. We are #BetterTogether, and we look forward to partnering with you to ensure that your child has a great year of learning and growth. </font>'\n",
        "    Story.append(Paragraph(ptext, styles[\"Justify\"]))\n",
        "    Story.append(Spacer(1, 12))\n",
        "    \n",
        "    ptext = '<font size=11>Sincerely,</font>'\n",
        "    Story.append(Paragraph(ptext, styles[\"Normal\"]))\n",
        "    Story.append(Spacer(1, 24))\n",
        "    ptext = '<font size=11>%s</font>'% (dnames[school_name])\n",
        "    Story.append(Paragraph(ptext, styles[\"Normal\"]))\n",
        "    ptext = '<font size=11>Director, %s</font>'% (school_name)\n",
        "    Story.append(Paragraph(ptext, styles[\"Normal\"]))\n",
        "    ptext = '<font size=11>%s</font>'% (mails[school_name])\n",
        "    Story.append(Paragraph(ptext, styles[\"Normal\"]))\n",
        "    Story.append(PageBreak()) \n",
        "\n",
        "\n",
        "    #Second page barchart\n",
        "    title_style = styles['Heading1']\n",
        "    title_style.alignment = 1\n",
        "    title = Paragraph(\"Absences Summary\", title_style)\n",
        "    Story.append(title)\n",
        "    Story.append(Spacer(1, 24))\n",
        "    pic = make_drawing(row)\n",
        "    Story.append(pic)\n",
        "\n",
        "    doc.build(Story)"
      ],
      "execution_count": null,
      "outputs": []
    },
    {
      "cell_type": "code",
      "metadata": {
        "colab": {
          "base_uri": "https://localhost:8080/",
          "height": 80
        },
        "id": "AOuV4lzbSoJS",
        "outputId": "55260a44-924e-4a7c-8647-77496d7db4a7"
      },
      "source": [
        "df[df.NumberOfTotalAbsences==df['NumberOfTotalAbsences'].max()]"
      ],
      "execution_count": null,
      "outputs": [
        {
          "output_type": "execute_result",
          "data": {
            "text/html": [
              "<div>\n",
              "<style scoped>\n",
              "    .dataframe tbody tr th:only-of-type {\n",
              "        vertical-align: middle;\n",
              "    }\n",
              "\n",
              "    .dataframe tbody tr th {\n",
              "        vertical-align: top;\n",
              "    }\n",
              "\n",
              "    .dataframe thead th {\n",
              "        text-align: right;\n",
              "    }\n",
              "</style>\n",
              "<table border=\"1\" class=\"dataframe\">\n",
              "  <thead>\n",
              "    <tr style=\"text-align: right;\">\n",
              "      <th></th>\n",
              "      <th>NameOfInstitution</th>\n",
              "      <th>StudentUniqueId</th>\n",
              "      <th>GradeLevel</th>\n",
              "      <th>LastSurname</th>\n",
              "      <th>FirstName</th>\n",
              "      <th>NumberOfTotalAbsences</th>\n",
              "      <th>AverageAbsence</th>\n",
              "    </tr>\n",
              "  </thead>\n",
              "  <tbody>\n",
              "    <tr>\n",
              "      <th>144</th>\n",
              "      <td>DCP Harper Woods</td>\n",
              "      <td>50000891</td>\n",
              "      <td>1</td>\n",
              "      <td>Jones</td>\n",
              "      <td>Nevaeh</td>\n",
              "      <td>65.0</td>\n",
              "      <td>7.7</td>\n",
              "    </tr>\n",
              "  </tbody>\n",
              "</table>\n",
              "</div>"
            ],
            "text/plain": [
              "    NameOfInstitution StudentUniqueId  ... NumberOfTotalAbsences AverageAbsence\n",
              "144  DCP Harper Woods        50000891  ...                  65.0            7.7\n",
              "\n",
              "[1 rows x 7 columns]"
            ]
          },
          "metadata": {
            "tags": []
          },
          "execution_count": 42
        }
      ]
    },
    {
      "cell_type": "code",
      "metadata": {
        "colab": {
          "base_uri": "https://localhost:8080/",
          "height": 450
        },
        "id": "8e0yMsb-pAOU",
        "outputId": "d18183b5-0933-4727-b2fb-9154fdd19758"
      },
      "source": [
        "df.groupby(['NameOfInstitution','GradeLevel'])[['StudentUniqueId']].count()"
      ],
      "execution_count": null,
      "outputs": [
        {
          "output_type": "execute_result",
          "data": {
            "text/html": [
              "<div>\n",
              "<style scoped>\n",
              "    .dataframe tbody tr th:only-of-type {\n",
              "        vertical-align: middle;\n",
              "    }\n",
              "\n",
              "    .dataframe tbody tr th {\n",
              "        vertical-align: top;\n",
              "    }\n",
              "\n",
              "    .dataframe thead th {\n",
              "        text-align: right;\n",
              "    }\n",
              "</style>\n",
              "<table border=\"1\" class=\"dataframe\">\n",
              "  <thead>\n",
              "    <tr style=\"text-align: right;\">\n",
              "      <th></th>\n",
              "      <th></th>\n",
              "      <th>StudentUniqueId</th>\n",
              "    </tr>\n",
              "    <tr>\n",
              "      <th>NameOfInstitution</th>\n",
              "      <th>GradeLevel</th>\n",
              "      <th></th>\n",
              "    </tr>\n",
              "  </thead>\n",
              "  <tbody>\n",
              "    <tr>\n",
              "      <th rowspan=\"3\" valign=\"top\">Art in Motion</th>\n",
              "      <th>7</th>\n",
              "      <td>22</td>\n",
              "    </tr>\n",
              "    <tr>\n",
              "      <th>8</th>\n",
              "      <td>108</td>\n",
              "    </tr>\n",
              "    <tr>\n",
              "      <th>9</th>\n",
              "      <td>127</td>\n",
              "    </tr>\n",
              "    <tr>\n",
              "      <th rowspan=\"2\" valign=\"top\">CICS Bucktown</th>\n",
              "      <th>1</th>\n",
              "      <td>24</td>\n",
              "    </tr>\n",
              "    <tr>\n",
              "      <th>2</th>\n",
              "      <td>14</td>\n",
              "    </tr>\n",
              "    <tr>\n",
              "      <th>...</th>\n",
              "      <th>...</th>\n",
              "      <td>...</td>\n",
              "    </tr>\n",
              "    <tr>\n",
              "      <th rowspan=\"5\" valign=\"top\">River Heights Academy</th>\n",
              "      <th>5</th>\n",
              "      <td>10</td>\n",
              "    </tr>\n",
              "    <tr>\n",
              "      <th>6</th>\n",
              "      <td>7</td>\n",
              "    </tr>\n",
              "    <tr>\n",
              "      <th>7</th>\n",
              "      <td>8</td>\n",
              "    </tr>\n",
              "    <tr>\n",
              "      <th>8</th>\n",
              "      <td>10</td>\n",
              "    </tr>\n",
              "    <tr>\n",
              "      <th>K</th>\n",
              "      <td>19</td>\n",
              "    </tr>\n",
              "  </tbody>\n",
              "</table>\n",
              "<p>70 rows × 1 columns</p>\n",
              "</div>"
            ],
            "text/plain": [
              "                                  StudentUniqueId\n",
              "NameOfInstitution     GradeLevel                 \n",
              "Art in Motion         7                        22\n",
              "                      8                       108\n",
              "                      9                       127\n",
              "CICS Bucktown         1                        24\n",
              "                      2                        14\n",
              "...                                           ...\n",
              "River Heights Academy 5                        10\n",
              "                      6                         7\n",
              "                      7                         8\n",
              "                      8                        10\n",
              "                      K                        19\n",
              "\n",
              "[70 rows x 1 columns]"
            ]
          },
          "metadata": {
            "tags": []
          },
          "execution_count": 43
        }
      ]
    },
    {
      "cell_type": "markdown",
      "metadata": {
        "id": "oU5s8WztqvFu"
      },
      "source": [
        "# Running the code to generate the letter"
      ]
    },
    {
      "cell_type": "code",
      "metadata": {
        "colab": {
          "base_uri": "https://localhost:8080/"
        },
        "id": "IXaNrBJ1IUXe",
        "outputId": "cb652924-6fe6-4115-b621-b62dd0d8a511"
      },
      "source": [
        "df.NameOfInstitution.unique()"
      ],
      "execution_count": null,
      "outputs": [
        {
          "output_type": "execute_result",
          "data": {
            "text/plain": [
              "array(['DCP Harper Woods', 'DCP Redford', 'CICS Prairie', 'CICS Bucktown',\n",
              "       'CICS Irving Park', 'CICS West Belden',\n",
              "       'Plymouth Educational Center', 'River Heights Academy',\n",
              "       'Art in Motion'], dtype=object)"
            ]
          },
          "metadata": {
            "tags": []
          },
          "execution_count": 44
        }
      ]
    },
    {
      "cell_type": "code",
      "metadata": {
        "id": "7dLNwScuji-w"
      },
      "source": [
        "#For English-Spanish letter, CICS schools\n",
        "bi = df[(df.NameOfInstitution =='CICS Bucktown')|(df.NameOfInstitution == 'CICS Prairie')|(df.NameOfInstitution =='CICS Irving Park')|(df.NameOfInstitution =='CICS West Belden')]\n",
        "dcp = df[(df.NameOfInstitution !='CICS Bucktown')|(df.NameOfInstitution != 'CICS Prairie')|(df.NameOfInstitution !='CICS Irving Park')|(df.NameOfInstitution !='CICS West Belden')]"
      ],
      "execution_count": null,
      "outputs": []
    },
    {
      "cell_type": "code",
      "metadata": {
        "id": "kIzJqsaOTPOk"
      },
      "source": [
        "bi =bi.reset_index(drop=True)\n",
        "dcp =dcp.reset_index(drop=True)"
      ],
      "execution_count": null,
      "outputs": []
    },
    {
      "cell_type": "code",
      "metadata": {
        "colab": {
          "base_uri": "https://localhost:8080/",
          "height": 204
        },
        "id": "unSLT8r6UBdu",
        "outputId": "52da6e71-fc1b-4aa1-e993-10f2532def4f"
      },
      "source": [
        "dcp.tail()"
      ],
      "execution_count": null,
      "outputs": [
        {
          "output_type": "execute_result",
          "data": {
            "text/html": [
              "<div>\n",
              "<style scoped>\n",
              "    .dataframe tbody tr th:only-of-type {\n",
              "        vertical-align: middle;\n",
              "    }\n",
              "\n",
              "    .dataframe tbody tr th {\n",
              "        vertical-align: top;\n",
              "    }\n",
              "\n",
              "    .dataframe thead th {\n",
              "        text-align: right;\n",
              "    }\n",
              "</style>\n",
              "<table border=\"1\" class=\"dataframe\">\n",
              "  <thead>\n",
              "    <tr style=\"text-align: right;\">\n",
              "      <th></th>\n",
              "      <th>NameOfInstitution</th>\n",
              "      <th>StudentUniqueId</th>\n",
              "      <th>GradeLevel</th>\n",
              "      <th>LastSurname</th>\n",
              "      <th>FirstName</th>\n",
              "      <th>NumberOfTotalAbsences</th>\n",
              "      <th>AverageAbsence</th>\n",
              "    </tr>\n",
              "  </thead>\n",
              "  <tbody>\n",
              "    <tr>\n",
              "      <th>1632</th>\n",
              "      <td>Art in Motion</td>\n",
              "      <td>50199175</td>\n",
              "      <td>9</td>\n",
              "      <td>Williams</td>\n",
              "      <td>Jahzlynn</td>\n",
              "      <td>5.0</td>\n",
              "      <td>7.7</td>\n",
              "    </tr>\n",
              "    <tr>\n",
              "      <th>1633</th>\n",
              "      <td>Art in Motion</td>\n",
              "      <td>50123596</td>\n",
              "      <td>9</td>\n",
              "      <td>Williams</td>\n",
              "      <td>Tamiyah</td>\n",
              "      <td>46.0</td>\n",
              "      <td>7.7</td>\n",
              "    </tr>\n",
              "    <tr>\n",
              "      <th>1634</th>\n",
              "      <td>Art in Motion</td>\n",
              "      <td>50301647</td>\n",
              "      <td>9</td>\n",
              "      <td>Willis</td>\n",
              "      <td>Malaysia</td>\n",
              "      <td>44.0</td>\n",
              "      <td>7.7</td>\n",
              "    </tr>\n",
              "    <tr>\n",
              "      <th>1635</th>\n",
              "      <td>Art in Motion</td>\n",
              "      <td>50263275</td>\n",
              "      <td>9</td>\n",
              "      <td>Woods</td>\n",
              "      <td>Collin</td>\n",
              "      <td>25.0</td>\n",
              "      <td>7.7</td>\n",
              "    </tr>\n",
              "    <tr>\n",
              "      <th>1636</th>\n",
              "      <td>Art in Motion</td>\n",
              "      <td>45428796</td>\n",
              "      <td>9</td>\n",
              "      <td>Woods</td>\n",
              "      <td>Jordyn</td>\n",
              "      <td>40.0</td>\n",
              "      <td>7.7</td>\n",
              "    </tr>\n",
              "  </tbody>\n",
              "</table>\n",
              "</div>"
            ],
            "text/plain": [
              "     NameOfInstitution StudentUniqueId  ... NumberOfTotalAbsences AverageAbsence\n",
              "1632     Art in Motion        50199175  ...                   5.0            7.7\n",
              "1633     Art in Motion        50123596  ...                  46.0            7.7\n",
              "1634     Art in Motion        50301647  ...                  44.0            7.7\n",
              "1635     Art in Motion        50263275  ...                  25.0            7.7\n",
              "1636     Art in Motion        45428796  ...                  40.0            7.7\n",
              "\n",
              "[5 rows x 7 columns]"
            ]
          },
          "metadata": {
            "tags": []
          },
          "execution_count": 47
        }
      ]
    },
    {
      "cell_type": "code",
      "metadata": {
        "id": "E6P0baCroAKO",
        "colab": {
          "base_uri": "https://localhost:8080/"
        },
        "outputId": "bc8e953c-b75b-4dc9-95d4-bc3ce78d45f4"
      },
      "source": [
        "import time\n",
        "start = time.clock() \n",
        "for i in range(bi.shape[0]):\n",
        "  build_a_letter(bi.iloc[i], False)\n",
        "elapsed = time.clock()\n",
        "elapsed = elapsed - start\n",
        "print(\"Time spent in is: \", elapsed)"
      ],
      "execution_count": null,
      "outputs": [
        {
          "output_type": "stream",
          "text": [
            "Time spent in is:  14.267616\n"
          ],
          "name": "stdout"
        }
      ]
    },
    {
      "cell_type": "code",
      "metadata": {
        "id": "SH55mD9_oMfN"
      },
      "source": [
        "#For English letter\n",
        "start = time.clock() \n",
        "for i in range(dcp.shape[0]):\n",
        "  build_english_letter(dcp.iloc[i], False)\n",
        "elapsed = time.clock()\n",
        "elapsed = elapsed - start\n",
        "print(\"Time spent in is: \", elapsed)"
      ],
      "execution_count": null,
      "outputs": []
    },
    {
      "cell_type": "code",
      "metadata": {
        "colab": {
          "base_uri": "https://localhost:8080/"
        },
        "id": "QiKnd9BEqXHs",
        "outputId": "675a9dfd-e205-41ee-f8e5-a83465a2ae4d"
      },
      "source": [
        "df.NameOfInstitution.unique()"
      ],
      "execution_count": null,
      "outputs": [
        {
          "output_type": "execute_result",
          "data": {
            "text/plain": [
              "array(['Art in Motion', 'Plymouth Educational Center'], dtype=object)"
            ]
          },
          "metadata": {
            "tags": []
          },
          "execution_count": 59
        }
      ]
    },
    {
      "cell_type": "code",
      "metadata": {
        "colab": {
          "base_uri": "https://localhost:8080/"
        },
        "id": "OxBt426xqUZh",
        "outputId": "dcc15930-683d-4e0f-9b7e-f6ea53606fd7"
      },
      "source": [
        "#Sanity check\n",
        "!ls /content/gdrive/My\\ Drive/Chronic_absenteeism_letter/2020-12-16"
      ],
      "execution_count": null,
      "outputs": [
        {
          "output_type": "stream",
          "text": [
            "'Art in Motion'     'CICS Prairie'\t'DCP Redford'\n",
            "'CICS Bucktown'     'CICS West Belden'\t'Plymouth Educational Center'\n",
            "'CICS Irving Park'  'DCP Harper Woods'\t'River Heights Academy'\n"
          ],
          "name": "stdout"
        }
      ]
    },
    {
      "cell_type": "markdown",
      "metadata": {
        "id": "Qrn8hpkhrkP9"
      },
      "source": [
        "# Checking which way generate the letter faster"
      ]
    },
    {
      "cell_type": "code",
      "metadata": {
        "colab": {
          "base_uri": "https://localhost:8080/",
          "height": 204
        },
        "id": "1kyDeChHiVCO",
        "outputId": "93b1422c-e598-4290-bc07-147a3ec12996"
      },
      "source": [
        "df.head()"
      ],
      "execution_count": null,
      "outputs": [
        {
          "output_type": "execute_result",
          "data": {
            "text/html": [
              "<div>\n",
              "<style scoped>\n",
              "    .dataframe tbody tr th:only-of-type {\n",
              "        vertical-align: middle;\n",
              "    }\n",
              "\n",
              "    .dataframe tbody tr th {\n",
              "        vertical-align: top;\n",
              "    }\n",
              "\n",
              "    .dataframe thead th {\n",
              "        text-align: right;\n",
              "    }\n",
              "</style>\n",
              "<table border=\"1\" class=\"dataframe\">\n",
              "  <thead>\n",
              "    <tr style=\"text-align: right;\">\n",
              "      <th></th>\n",
              "      <th>NameOfInstitution</th>\n",
              "      <th>StudentUniqueId</th>\n",
              "      <th>GradeLevel</th>\n",
              "      <th>LastSurname</th>\n",
              "      <th>FirstName</th>\n",
              "      <th>NumberOfTotalAbsences</th>\n",
              "      <th>AverageAbsence</th>\n",
              "    </tr>\n",
              "  </thead>\n",
              "  <tbody>\n",
              "    <tr>\n",
              "      <th>0</th>\n",
              "      <td>DCP Harper Woods</td>\n",
              "      <td>50000904</td>\n",
              "      <td>K</td>\n",
              "      <td>Collier</td>\n",
              "      <td>Megelle</td>\n",
              "      <td>39.0</td>\n",
              "      <td>7.0</td>\n",
              "    </tr>\n",
              "    <tr>\n",
              "      <th>1</th>\n",
              "      <td>DCP Harper Woods</td>\n",
              "      <td>50000911</td>\n",
              "      <td>K</td>\n",
              "      <td>Ware</td>\n",
              "      <td>Brian</td>\n",
              "      <td>42.0</td>\n",
              "      <td>7.0</td>\n",
              "    </tr>\n",
              "    <tr>\n",
              "      <th>2</th>\n",
              "      <td>DCP Harper Woods</td>\n",
              "      <td>50000789</td>\n",
              "      <td>K</td>\n",
              "      <td>Witherspoon</td>\n",
              "      <td>Ni'Lisa</td>\n",
              "      <td>42.0</td>\n",
              "      <td>7.0</td>\n",
              "    </tr>\n",
              "    <tr>\n",
              "      <th>3</th>\n",
              "      <td>DCP Harper Woods</td>\n",
              "      <td>50000272</td>\n",
              "      <td>5</td>\n",
              "      <td>Burton</td>\n",
              "      <td>Damijia</td>\n",
              "      <td>19.0</td>\n",
              "      <td>7.0</td>\n",
              "    </tr>\n",
              "    <tr>\n",
              "      <th>4</th>\n",
              "      <td>DCP Harper Woods</td>\n",
              "      <td>50000583</td>\n",
              "      <td>3</td>\n",
              "      <td>Campbell</td>\n",
              "      <td>Mackenzie</td>\n",
              "      <td>19.0</td>\n",
              "      <td>7.0</td>\n",
              "    </tr>\n",
              "  </tbody>\n",
              "</table>\n",
              "</div>"
            ],
            "text/plain": [
              "  NameOfInstitution StudentUniqueId  ... NumberOfTotalAbsences AverageAbsence\n",
              "0  DCP Harper Woods        50000904  ...                  39.0            7.0\n",
              "1  DCP Harper Woods        50000911  ...                  42.0            7.0\n",
              "2  DCP Harper Woods        50000789  ...                  42.0            7.0\n",
              "3  DCP Harper Woods        50000272  ...                  19.0            7.0\n",
              "4  DCP Harper Woods        50000583  ...                  19.0            7.0\n",
              "\n",
              "[5 rows x 7 columns]"
            ]
          },
          "metadata": {
            "tags": []
          },
          "execution_count": 43
        }
      ]
    },
    {
      "cell_type": "code",
      "metadata": {
        "id": "STBu-YOCQBv4"
      },
      "source": [
        "mni = df[150:]"
      ],
      "execution_count": null,
      "outputs": []
    },
    {
      "cell_type": "code",
      "metadata": {
        "colab": {
          "base_uri": "https://localhost:8080/",
          "height": 419
        },
        "id": "bIqYhOeajIEu",
        "outputId": "d77657c8-249c-41c7-9ef8-0724e4dd8573"
      },
      "source": [
        "dcp"
      ],
      "execution_count": null,
      "outputs": [
        {
          "output_type": "execute_result",
          "data": {
            "text/html": [
              "<div>\n",
              "<style scoped>\n",
              "    .dataframe tbody tr th:only-of-type {\n",
              "        vertical-align: middle;\n",
              "    }\n",
              "\n",
              "    .dataframe tbody tr th {\n",
              "        vertical-align: top;\n",
              "    }\n",
              "\n",
              "    .dataframe thead th {\n",
              "        text-align: right;\n",
              "    }\n",
              "</style>\n",
              "<table border=\"1\" class=\"dataframe\">\n",
              "  <thead>\n",
              "    <tr style=\"text-align: right;\">\n",
              "      <th></th>\n",
              "      <th>NameOfInstitution</th>\n",
              "      <th>StudentUniqueId</th>\n",
              "      <th>GradeLevel</th>\n",
              "      <th>LastSurname</th>\n",
              "      <th>FirstName</th>\n",
              "      <th>NumberOfTotalAbsences</th>\n",
              "      <th>AverageAbsence</th>\n",
              "    </tr>\n",
              "  </thead>\n",
              "  <tbody>\n",
              "    <tr>\n",
              "      <th>0</th>\n",
              "      <td>DCP Harper Woods</td>\n",
              "      <td>50000904</td>\n",
              "      <td>K</td>\n",
              "      <td>Collier</td>\n",
              "      <td>Megelle</td>\n",
              "      <td>39.0</td>\n",
              "      <td>7.0</td>\n",
              "    </tr>\n",
              "    <tr>\n",
              "      <th>1</th>\n",
              "      <td>DCP Harper Woods</td>\n",
              "      <td>50000911</td>\n",
              "      <td>K</td>\n",
              "      <td>Ware</td>\n",
              "      <td>Brian</td>\n",
              "      <td>42.0</td>\n",
              "      <td>7.0</td>\n",
              "    </tr>\n",
              "    <tr>\n",
              "      <th>2</th>\n",
              "      <td>DCP Harper Woods</td>\n",
              "      <td>50000789</td>\n",
              "      <td>K</td>\n",
              "      <td>Witherspoon</td>\n",
              "      <td>Ni'Lisa</td>\n",
              "      <td>42.0</td>\n",
              "      <td>7.0</td>\n",
              "    </tr>\n",
              "    <tr>\n",
              "      <th>3</th>\n",
              "      <td>DCP Harper Woods</td>\n",
              "      <td>50000272</td>\n",
              "      <td>5</td>\n",
              "      <td>Burton</td>\n",
              "      <td>Damijia</td>\n",
              "      <td>19.0</td>\n",
              "      <td>7.0</td>\n",
              "    </tr>\n",
              "    <tr>\n",
              "      <th>4</th>\n",
              "      <td>DCP Harper Woods</td>\n",
              "      <td>50000583</td>\n",
              "      <td>3</td>\n",
              "      <td>Campbell</td>\n",
              "      <td>Mackenzie</td>\n",
              "      <td>19.0</td>\n",
              "      <td>7.0</td>\n",
              "    </tr>\n",
              "    <tr>\n",
              "      <th>...</th>\n",
              "      <td>...</td>\n",
              "      <td>...</td>\n",
              "      <td>...</td>\n",
              "      <td>...</td>\n",
              "      <td>...</td>\n",
              "      <td>...</td>\n",
              "      <td>...</td>\n",
              "    </tr>\n",
              "    <tr>\n",
              "      <th>321</th>\n",
              "      <td>DCP Redford</td>\n",
              "      <td>2018302</td>\n",
              "      <td>3</td>\n",
              "      <td>Verrett</td>\n",
              "      <td>Aden</td>\n",
              "      <td>12.0</td>\n",
              "      <td>7.0</td>\n",
              "    </tr>\n",
              "    <tr>\n",
              "      <th>322</th>\n",
              "      <td>DCP Redford</td>\n",
              "      <td>2018298</td>\n",
              "      <td>2</td>\n",
              "      <td>Franklin</td>\n",
              "      <td>Kyla</td>\n",
              "      <td>31.0</td>\n",
              "      <td>7.0</td>\n",
              "    </tr>\n",
              "    <tr>\n",
              "      <th>323</th>\n",
              "      <td>DCP Redford</td>\n",
              "      <td>2019027</td>\n",
              "      <td>K</td>\n",
              "      <td>Mccall</td>\n",
              "      <td>Arielle</td>\n",
              "      <td>31.0</td>\n",
              "      <td>7.0</td>\n",
              "    </tr>\n",
              "    <tr>\n",
              "      <th>324</th>\n",
              "      <td>DCP Redford</td>\n",
              "      <td>2019096</td>\n",
              "      <td>K</td>\n",
              "      <td>Scott</td>\n",
              "      <td>Chase</td>\n",
              "      <td>11.0</td>\n",
              "      <td>7.0</td>\n",
              "    </tr>\n",
              "    <tr>\n",
              "      <th>325</th>\n",
              "      <td>DCP Redford</td>\n",
              "      <td>2019006</td>\n",
              "      <td>K</td>\n",
              "      <td>Westbrooks Jr</td>\n",
              "      <td>Jacquard</td>\n",
              "      <td>23.0</td>\n",
              "      <td>7.0</td>\n",
              "    </tr>\n",
              "  </tbody>\n",
              "</table>\n",
              "<p>326 rows × 7 columns</p>\n",
              "</div>"
            ],
            "text/plain": [
              "    NameOfInstitution StudentUniqueId  ... NumberOfTotalAbsences AverageAbsence\n",
              "0    DCP Harper Woods        50000904  ...                  39.0            7.0\n",
              "1    DCP Harper Woods        50000911  ...                  42.0            7.0\n",
              "2    DCP Harper Woods        50000789  ...                  42.0            7.0\n",
              "3    DCP Harper Woods        50000272  ...                  19.0            7.0\n",
              "4    DCP Harper Woods        50000583  ...                  19.0            7.0\n",
              "..                ...             ...  ...                   ...            ...\n",
              "321       DCP Redford         2018302  ...                  12.0            7.0\n",
              "322       DCP Redford         2018298  ...                  31.0            7.0\n",
              "323       DCP Redford         2019027  ...                  31.0            7.0\n",
              "324       DCP Redford         2019096  ...                  11.0            7.0\n",
              "325       DCP Redford         2019006  ...                  23.0            7.0\n",
              "\n",
              "[326 rows x 7 columns]"
            ]
          },
          "metadata": {
            "tags": []
          },
          "execution_count": 49
        }
      ]
    },
    {
      "cell_type": "code",
      "metadata": {
        "id": "krWkXc1BiSPO"
      },
      "source": [
        "#For English Letter only\n",
        "import time\n",
        "start = time.clock() \n",
        "for i in range(df.shape[0]):\n",
        "  build_english_letter(df.loc[i], False)\n",
        "elapsed = time.clock()\n",
        "elapsed = elapsed - start\n",
        "print(\"Time spent in is: \", elapsed)"
      ],
      "execution_count": null,
      "outputs": []
    },
    {
      "cell_type": "code",
      "metadata": {
        "id": "L4yTkb_lUFjb"
      },
      "source": [
        "import time\n",
        "start = time.clock() \n",
        "for i in range(mni.shape[0]):\n",
        "  build_a_letter(mni.loc[i], False)\n",
        "elapsed = time.clock()\n",
        "elapsed = elapsed - start\n",
        "print(\"Time spent in is: \", elapsed)"
      ],
      "execution_count": null,
      "outputs": []
    }
  ]
}