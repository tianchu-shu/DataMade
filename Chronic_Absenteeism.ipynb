{
  "nbformat": 4,
  "nbformat_minor": 0,
  "metadata": {
    "colab": {
      "name": "Chronic_Absenteeism.ipynb",
      "provenance": [],
      "collapsed_sections": [],
      "include_colab_link": true
    },
    "kernelspec": {
      "name": "python3",
      "display_name": "Python 3"
    }
  },
  "cells": [
    {
      "cell_type": "markdown",
      "metadata": {
        "id": "view-in-github",
        "colab_type": "text"
      },
      "source": [
        "<a href=\"https://colab.research.google.com/github/tianchu-shu/DistinctiveSchools/blob/master/Chronic_Absenteeism.ipynb\" target=\"_parent\"><img src=\"https://colab.research.google.com/assets/colab-badge.svg\" alt=\"Open In Colab\"/></a>"
      ]
    },
    {
      "cell_type": "code",
      "metadata": {
        "id": "bYvRxmh5_1IA",
        "colab_type": "code",
        "colab": {}
      },
      "source": [
        "from google.colab import drive\n",
        "import matplotlib.pyplot as plt"
      ],
      "execution_count": 0,
      "outputs": []
    },
    {
      "cell_type": "code",
      "metadata": {
        "id": "KaXLzxzp_3yq",
        "colab_type": "code",
        "outputId": "b70cd593-9634-41e3-e4b7-60c97b2d9323",
        "colab": {
          "base_uri": "https://localhost:8080/",
          "height": 122
        }
      },
      "source": [
        "drive.mount('/content/gdrive')"
      ],
      "execution_count": 7,
      "outputs": [
        {
          "output_type": "stream",
          "text": [
            "Go to this URL in a browser: https://accounts.google.com/o/oauth2/auth?client_id=947318989803-6bn6qk8qdgf4n4g3pfee6491hc0brc4i.apps.googleusercontent.com&redirect_uri=urn%3aietf%3awg%3aoauth%3a2.0%3aoob&response_type=code&scope=email%20https%3a%2f%2fwww.googleapis.com%2fauth%2fdocs.test%20https%3a%2f%2fwww.googleapis.com%2fauth%2fdrive%20https%3a%2f%2fwww.googleapis.com%2fauth%2fdrive.photos.readonly%20https%3a%2f%2fwww.googleapis.com%2fauth%2fpeopleapi.readonly\n",
            "\n",
            "Enter your authorization code:\n",
            "··········\n",
            "Mounted at /content/gdrive\n"
          ],
          "name": "stdout"
        }
      ]
    },
    {
      "cell_type": "markdown",
      "metadata": {
        "id": "TBCWB_KFk6bK",
        "colab_type": "text"
      },
      "source": [
        "# Bigquery"
      ]
    },
    {
      "cell_type": "code",
      "metadata": {
        "id": "n9TQPjk4rBEB",
        "colab_type": "code",
        "outputId": "e983fc50-af28-415f-c1d3-efce204cd8cf",
        "colab": {
          "base_uri": "https://localhost:8080/",
          "height": 34
        }
      },
      "source": [
        "from google.colab import auth\n",
        "auth.authenticate_user()\n",
        "print('Authenticated')"
      ],
      "execution_count": 16,
      "outputs": [
        {
          "output_type": "stream",
          "text": [
            "Authenticated\n"
          ],
          "name": "stdout"
        }
      ]
    },
    {
      "cell_type": "code",
      "metadata": {
        "id": "ZQ687UrtwP2-",
        "colab_type": "code",
        "colab": {}
      },
      "source": [
        "#Getting the original cohort's data\n",
        "\n",
        "%%bigquery --project ds-student-data df\n",
        "SELECT *\n",
        "FROM `ds-student-data.Distinctive.ChronicAbsence` \n"
      ],
      "execution_count": 0,
      "outputs": []
    },
    {
      "cell_type": "code",
      "metadata": {
        "id": "lxCsE0a6xNiv",
        "colab_type": "code",
        "outputId": "be729039-57a9-493b-ee79-c3fd2ef0425c",
        "colab": {
          "base_uri": "https://localhost:8080/",
          "height": 34
        }
      },
      "source": [
        "df.shape"
      ],
      "execution_count": 18,
      "outputs": [
        {
          "output_type": "execute_result",
          "data": {
            "text/plain": [
              "(551, 7)"
            ]
          },
          "metadata": {
            "tags": []
          },
          "execution_count": 18
        }
      ]
    },
    {
      "cell_type": "code",
      "metadata": {
        "id": "6p-05eOwxUMw",
        "colab_type": "code",
        "outputId": "1778bf8e-d819-4665-9e4d-81d731cf9408",
        "colab": {
          "base_uri": "https://localhost:8080/",
          "height": 204
        }
      },
      "source": [
        "df.head()"
      ],
      "execution_count": 19,
      "outputs": [
        {
          "output_type": "execute_result",
          "data": {
            "text/html": [
              "<div>\n",
              "<style scoped>\n",
              "    .dataframe tbody tr th:only-of-type {\n",
              "        vertical-align: middle;\n",
              "    }\n",
              "\n",
              "    .dataframe tbody tr th {\n",
              "        vertical-align: top;\n",
              "    }\n",
              "\n",
              "    .dataframe thead th {\n",
              "        text-align: right;\n",
              "    }\n",
              "</style>\n",
              "<table border=\"1\" class=\"dataframe\">\n",
              "  <thead>\n",
              "    <tr style=\"text-align: right;\">\n",
              "      <th></th>\n",
              "      <th>NameOfInstitution</th>\n",
              "      <th>StudentUniqueId</th>\n",
              "      <th>GradeLevel</th>\n",
              "      <th>LastSurname</th>\n",
              "      <th>FirstName</th>\n",
              "      <th>NumberOfTotalAbsences</th>\n",
              "      <th>AverageAbsence</th>\n",
              "    </tr>\n",
              "  </thead>\n",
              "  <tbody>\n",
              "    <tr>\n",
              "      <th>0</th>\n",
              "      <td>Distinctive College Prep Harper Woods</td>\n",
              "      <td>50000793</td>\n",
              "      <td>K</td>\n",
              "      <td>Abdel Wali</td>\n",
              "      <td>Izra</td>\n",
              "      <td>21.0</td>\n",
              "      <td>9.2</td>\n",
              "    </tr>\n",
              "    <tr>\n",
              "      <th>1</th>\n",
              "      <td>Distinctive College Prep Harper Woods</td>\n",
              "      <td>50000594</td>\n",
              "      <td>1</td>\n",
              "      <td>Allen</td>\n",
              "      <td>Faith</td>\n",
              "      <td>21.0</td>\n",
              "      <td>9.2</td>\n",
              "    </tr>\n",
              "    <tr>\n",
              "      <th>2</th>\n",
              "      <td>Distinctive College Prep Harper Woods</td>\n",
              "      <td>50000282</td>\n",
              "      <td>3</td>\n",
              "      <td>Deal</td>\n",
              "      <td>Calvin</td>\n",
              "      <td>21.0</td>\n",
              "      <td>9.2</td>\n",
              "    </tr>\n",
              "    <tr>\n",
              "      <th>3</th>\n",
              "      <td>Distinctive College Prep Harper Woods</td>\n",
              "      <td>50000891</td>\n",
              "      <td>K</td>\n",
              "      <td>Jones</td>\n",
              "      <td>Nevaeh</td>\n",
              "      <td>21.0</td>\n",
              "      <td>9.2</td>\n",
              "    </tr>\n",
              "    <tr>\n",
              "      <th>4</th>\n",
              "      <td>Distinctive College Prep Harper Woods</td>\n",
              "      <td>50000804</td>\n",
              "      <td>2</td>\n",
              "      <td>Lindsey</td>\n",
              "      <td>De'Are</td>\n",
              "      <td>21.0</td>\n",
              "      <td>9.2</td>\n",
              "    </tr>\n",
              "  </tbody>\n",
              "</table>\n",
              "</div>"
            ],
            "text/plain": [
              "                       NameOfInstitution  ... AverageAbsence\n",
              "0  Distinctive College Prep Harper Woods  ...            9.2\n",
              "1  Distinctive College Prep Harper Woods  ...            9.2\n",
              "2  Distinctive College Prep Harper Woods  ...            9.2\n",
              "3  Distinctive College Prep Harper Woods  ...            9.2\n",
              "4  Distinctive College Prep Harper Woods  ...            9.2\n",
              "\n",
              "[5 rows x 7 columns]"
            ]
          },
          "metadata": {
            "tags": []
          },
          "execution_count": 19
        }
      ]
    },
    {
      "cell_type": "code",
      "metadata": {
        "id": "63EAGOYVgSET",
        "colab_type": "code",
        "outputId": "2c264443-8019-40d8-dc0a-144ddece2e17",
        "colab": {
          "base_uri": "https://localhost:8080/",
          "height": 85
        }
      },
      "source": [
        "!ls /content/gdrive/My\\ Drive/Chronic_absenteeism_letter/"
      ],
      "execution_count": 8,
      "outputs": [
        {
          "output_type": "stream",
          "text": [
            "'Chronic Absence - Absence List Import.csv'    'CICS Bucktown'\n",
            "'Chronic Absence Letter #1 - Jan '\\''20.gdoc'  'CICS Prairie'\n",
            "'Chronic Absence.xlsx'\t\t\t       'DCP Harper Woods'\n",
            " Chronic_Absenteeism.ipynb\t\t       'DCP Redford'\n"
          ],
          "name": "stdout"
        }
      ]
    },
    {
      "cell_type": "markdown",
      "metadata": {
        "colab_type": "text",
        "id": "wVTnEqIhFfFU"
      },
      "source": [
        "# Load the sample Data"
      ]
    },
    {
      "cell_type": "code",
      "metadata": {
        "id": "q6Nqw2cvgDnO",
        "colab_type": "code",
        "outputId": "8753431b-c393-4e99-c8e6-dd68cfae77c2",
        "colab": {
          "base_uri": "https://localhost:8080/",
          "height": 102
        }
      },
      "source": [
        "import pandas as pd\n",
        "import glob, os\n",
        "'''\n",
        "data_dir= '/content/gdrive/My Drive/Chronic_absenteeism_letter/'\n",
        "filename = 'Chronic Absence.xlsx'\n",
        "\n",
        "os.chdir(data_dir)\n",
        "\n",
        "df=pd.read_excel(filename)\n",
        "\n",
        "print(\"Column headings:\")\n",
        "print(df.columns)\n",
        "'''"
      ],
      "execution_count": 9,
      "outputs": [
        {
          "output_type": "stream",
          "text": [
            "Column headings:\n",
            "Index(['NameOfInstitution', 'StudentUniqueID', 'LastSurname', 'FirstName',\n",
            "       'GradeLevel', 'NumberOfSchoolTardies', 'NumberOfTotalAbsences',\n",
            "       'Average Absence'],\n",
            "      dtype='object')\n"
          ],
          "name": "stdout"
        }
      ]
    },
    {
      "cell_type": "code",
      "metadata": {
        "id": "lGtQDwbChVYv",
        "colab_type": "code",
        "colab": {}
      },
      "source": [
        "dname=pd.read_excel(filename, sheet_name='Images  & PrincipalTable')"
      ],
      "execution_count": 0,
      "outputs": []
    },
    {
      "cell_type": "code",
      "metadata": {
        "id": "K6RTBVLzyUYG",
        "colab_type": "code",
        "outputId": "a9d6abae-22c7-4c0b-8325-dae8ae4fb2a8",
        "colab": {
          "base_uri": "https://localhost:8080/",
          "height": 68
        }
      },
      "source": [
        "df.NameOfInstitution.unique()"
      ],
      "execution_count": 21,
      "outputs": [
        {
          "output_type": "execute_result",
          "data": {
            "text/plain": [
              "array(['Distinctive College Prep Harper Woods',\n",
              "       'Distinctive College Prep Redford', 'Prairie', 'Bucktown',\n",
              "       'Irving Park', 'West Belden'], dtype=object)"
            ]
          },
          "metadata": {
            "tags": []
          },
          "execution_count": 21
        }
      ]
    },
    {
      "cell_type": "code",
      "metadata": {
        "id": "6WpoRhXav7Nz",
        "colab_type": "code",
        "colab": {}
      },
      "source": [
        "schoolname = {'Prairie':'CICS Prairie', 'Bucktown':'CICS Bucktown', 'Distinctive College Prep Harper Woods':'DCP Harper Woods',\n",
        "       'Distinctive College Prep Redford':'DCP Redford', 'West Belden':'CICS West Belden', 'Irving Park':'CICS Irving Park'}"
      ],
      "execution_count": 0,
      "outputs": []
    },
    {
      "cell_type": "code",
      "metadata": {
        "id": "s8RKNXZv3boa",
        "colab_type": "code",
        "colab": {}
      },
      "source": [
        "df['NameOfInstitution'] = df['NameOfInstitution'].map(schoolname)"
      ],
      "execution_count": 0,
      "outputs": []
    },
    {
      "cell_type": "code",
      "metadata": {
        "id": "-5YoP-RrB5Xk",
        "colab_type": "code",
        "colab": {}
      },
      "source": [
        "dc = {'CICS Bucktown': 4.0,\n",
        " 'CICS Irving Park': 4.0,\n",
        " 'CICS Prairie': 4.3,\n",
        " 'CICS West Belden': 3.3,\n",
        " 'DCP Harper Woods': 5.2,\n",
        " 'DCP Redford': 5.2}"
      ],
      "execution_count": 0,
      "outputs": []
    },
    {
      "cell_type": "code",
      "metadata": {
        "id": "ZwEnmZXqJOlS",
        "colab_type": "code",
        "colab": {}
      },
      "source": [
        "df['AverageAbsence'] = df['NameOfInstitution'].map(dc)"
      ],
      "execution_count": 0,
      "outputs": []
    },
    {
      "cell_type": "code",
      "metadata": {
        "id": "GvyS-_8KHg0W",
        "colab_type": "code",
        "outputId": "81fec97e-5343-4310-d4a7-6c95637d747c",
        "colab": {
          "base_uri": "https://localhost:8080/",
          "height": 204
        }
      },
      "source": [
        "df.head()"
      ],
      "execution_count": 31,
      "outputs": [
        {
          "output_type": "execute_result",
          "data": {
            "text/html": [
              "<div>\n",
              "<style scoped>\n",
              "    .dataframe tbody tr th:only-of-type {\n",
              "        vertical-align: middle;\n",
              "    }\n",
              "\n",
              "    .dataframe tbody tr th {\n",
              "        vertical-align: top;\n",
              "    }\n",
              "\n",
              "    .dataframe thead th {\n",
              "        text-align: right;\n",
              "    }\n",
              "</style>\n",
              "<table border=\"1\" class=\"dataframe\">\n",
              "  <thead>\n",
              "    <tr style=\"text-align: right;\">\n",
              "      <th></th>\n",
              "      <th>NameOfInstitution</th>\n",
              "      <th>StudentUniqueId</th>\n",
              "      <th>GradeLevel</th>\n",
              "      <th>LastSurname</th>\n",
              "      <th>FirstName</th>\n",
              "      <th>NumberOfTotalAbsences</th>\n",
              "      <th>AverageAbsence</th>\n",
              "    </tr>\n",
              "  </thead>\n",
              "  <tbody>\n",
              "    <tr>\n",
              "      <th>0</th>\n",
              "      <td>DCP Harper Woods</td>\n",
              "      <td>50000793</td>\n",
              "      <td>K</td>\n",
              "      <td>Abdel Wali</td>\n",
              "      <td>Izra</td>\n",
              "      <td>21.0</td>\n",
              "      <td>5.2</td>\n",
              "    </tr>\n",
              "    <tr>\n",
              "      <th>1</th>\n",
              "      <td>DCP Harper Woods</td>\n",
              "      <td>50000594</td>\n",
              "      <td>1</td>\n",
              "      <td>Allen</td>\n",
              "      <td>Faith</td>\n",
              "      <td>21.0</td>\n",
              "      <td>5.2</td>\n",
              "    </tr>\n",
              "    <tr>\n",
              "      <th>2</th>\n",
              "      <td>DCP Harper Woods</td>\n",
              "      <td>50000282</td>\n",
              "      <td>3</td>\n",
              "      <td>Deal</td>\n",
              "      <td>Calvin</td>\n",
              "      <td>21.0</td>\n",
              "      <td>5.2</td>\n",
              "    </tr>\n",
              "    <tr>\n",
              "      <th>3</th>\n",
              "      <td>DCP Harper Woods</td>\n",
              "      <td>50000891</td>\n",
              "      <td>K</td>\n",
              "      <td>Jones</td>\n",
              "      <td>Nevaeh</td>\n",
              "      <td>21.0</td>\n",
              "      <td>5.2</td>\n",
              "    </tr>\n",
              "    <tr>\n",
              "      <th>4</th>\n",
              "      <td>DCP Harper Woods</td>\n",
              "      <td>50000804</td>\n",
              "      <td>2</td>\n",
              "      <td>Lindsey</td>\n",
              "      <td>De'Are</td>\n",
              "      <td>21.0</td>\n",
              "      <td>5.2</td>\n",
              "    </tr>\n",
              "  </tbody>\n",
              "</table>\n",
              "</div>"
            ],
            "text/plain": [
              "  NameOfInstitution StudentUniqueId  ... NumberOfTotalAbsences AverageAbsence\n",
              "0  DCP Harper Woods        50000793  ...                  21.0            5.2\n",
              "1  DCP Harper Woods        50000594  ...                  21.0            5.2\n",
              "2  DCP Harper Woods        50000282  ...                  21.0            5.2\n",
              "3  DCP Harper Woods        50000891  ...                  21.0            5.2\n",
              "4  DCP Harper Woods        50000804  ...                  21.0            5.2\n",
              "\n",
              "[5 rows x 7 columns]"
            ]
          },
          "metadata": {
            "tags": []
          },
          "execution_count": 31
        }
      ]
    },
    {
      "cell_type": "code",
      "metadata": {
        "id": "Mx4nubANyLXf",
        "colab_type": "code",
        "colab": {}
      },
      "source": [
        "links = dict(zip(dname.Campus, dname.Link))"
      ],
      "execution_count": 0,
      "outputs": []
    },
    {
      "cell_type": "code",
      "metadata": {
        "id": "w7fCIve3h4HW",
        "colab_type": "code",
        "outputId": "3b36f63b-2280-494d-89dc-f3e873772a8c",
        "colab": {
          "base_uri": "https://localhost:8080/",
          "height": 119
        }
      },
      "source": [
        "links"
      ],
      "execution_count": 33,
      "outputs": [
        {
          "output_type": "execute_result",
          "data": {
            "text/plain": [
              "{'CICS Bucktown': 'https://www.cicsbucktown.org/uploads/8/4/9/1/84911918/published/cics-bucktown-horz.png?1531843975',\n",
              " 'CICS Irving Park': 'https://www.cicsirvingpark.org/uploads/8/4/9/1/84911918/published/cics-irving-park-horz.png?1531844890',\n",
              " 'CICS Prairie': 'https://www.cicsprairie.org/uploads/8/4/9/1/84911918/published/cics-prairie-horz.png?1531844962',\n",
              " 'CICS West Belden': 'https://www.cicswestbelden.org/uploads/8/4/9/1/84911918/published/cics-west-belden-horz.png?1531845057',\n",
              " 'DCP Harper Woods': 'https://www.dcpharperwoods.org/uploads/8/4/9/1/84911918/dscp-stacked-horizontal.png',\n",
              " 'DCP Redford': 'https://www.dcpharperwoods.org/uploads/8/4/9/1/84911918/dscp-stacked-horizontal.png'}"
            ]
          },
          "metadata": {
            "tags": []
          },
          "execution_count": 33
        }
      ]
    },
    {
      "cell_type": "code",
      "metadata": {
        "id": "jYJO89V2xySo",
        "colab_type": "code",
        "colab": {}
      },
      "source": [
        "#Make a dictionary matching the campus to Director names\n",
        "dnames = dict(zip(dname.Campus, dname.Director))"
      ],
      "execution_count": 0,
      "outputs": []
    },
    {
      "cell_type": "code",
      "metadata": {
        "id": "QNmQc8BJ3_1w",
        "colab_type": "code",
        "outputId": "34fc9912-cd03-4ad7-e867-2c613d751ccd",
        "colab": {
          "base_uri": "https://localhost:8080/",
          "height": 119
        }
      },
      "source": [
        "dnames"
      ],
      "execution_count": 35,
      "outputs": [
        {
          "output_type": "execute_result",
          "data": {
            "text/plain": [
              "{'CICS Bucktown': \"Ms. Sarah O'Connell\",\n",
              " 'CICS Irving Park': 'Mr. JW Kuebler',\n",
              " 'CICS Prairie': 'Ms. Jennifer Harth',\n",
              " 'CICS West Belden': 'Ms. Colleen Collins',\n",
              " 'DCP Harper Woods': 'Ms. Cassie Williams',\n",
              " 'DCP Redford': 'Ms. Camille Hibbler'}"
            ]
          },
          "metadata": {
            "tags": []
          },
          "execution_count": 35
        }
      ]
    },
    {
      "cell_type": "code",
      "metadata": {
        "id": "iv5z0Z_mFJHG",
        "colab_type": "code",
        "colab": {}
      },
      "source": [
        "mails = {'CICS Bucktown':'soconnell@distinctiveschools.org','CICS Irving Park': 'jkuebler@distinctiveschools.org',\n",
        " 'CICS Prairie': 'jharth@distinctiveschools.org',\n",
        " 'CICS West Belden': 'ccollins@distinctiveschools.org',\n",
        " 'DCP Harper Woods': 'cwilliams@distinctiveschools.org',\n",
        " 'DCP Redford': 'chibbler@distinctiveschools.org' }"
      ],
      "execution_count": 0,
      "outputs": []
    },
    {
      "cell_type": "markdown",
      "metadata": {
        "id": "F2pMOAP65-DW",
        "colab_type": "text"
      },
      "source": [
        "\n",
        "\n",
        "jharth@distinctiveschools.org\n",
        "ccollins@distinctiveschools.org\n",
        "cwilliams@distinctiveschools.org\n",
        "chibbler@distinctiveschools.org"
      ]
    },
    {
      "cell_type": "markdown",
      "metadata": {
        "id": "MCL_1RcUk-RZ",
        "colab_type": "text"
      },
      "source": [
        "# Create the letter"
      ]
    },
    {
      "cell_type": "code",
      "metadata": {
        "id": "LOSn831VBV5-",
        "colab_type": "code",
        "outputId": "ece00e73-3ede-4fce-d9bf-c8eda2467fc3",
        "colab": {
          "base_uri": "https://localhost:8080/",
          "height": 139
        }
      },
      "source": [
        "!pip3 install reportlab"
      ],
      "execution_count": 37,
      "outputs": [
        {
          "output_type": "stream",
          "text": [
            "Collecting reportlab\n",
            "\u001b[?25l  Downloading https://files.pythonhosted.org/packages/1d/d2/8bd0495ee4c337ce065f7ee3c8d99cf653ce8ca2b4b0368667d61d377a52/reportlab-3.5.34-cp36-cp36m-manylinux1_x86_64.whl (2.6MB)\n",
            "\u001b[K     |████████████████████████████████| 2.6MB 3.4MB/s \n",
            "\u001b[?25hRequirement already satisfied: pillow>=4.0.0 in /usr/local/lib/python3.6/dist-packages (from reportlab) (6.2.2)\n",
            "Installing collected packages: reportlab\n",
            "Successfully installed reportlab-3.5.34\n"
          ],
          "name": "stdout"
        }
      ]
    },
    {
      "cell_type": "code",
      "metadata": {
        "id": "IWfeWqviEKwG",
        "colab_type": "code",
        "colab": {}
      },
      "source": [
        "import os\n",
        "\n",
        "def createFolder(directory):\n",
        "\n",
        "    try:\n",
        "        if not os.path.exists(directory):\n",
        "            os.makedirs(directory)\n",
        "    except OSError:\n",
        "        print ('Error: Creating directory. ' +  directory)\n",
        "        \n",
        "\n"
      ],
      "execution_count": 0,
      "outputs": []
    },
    {
      "cell_type": "code",
      "metadata": {
        "id": "pp2D4VxYGCL4",
        "colab_type": "code",
        "colab": {}
      },
      "source": [
        "from reportlab.lib import colors\n",
        "from reportlab.graphics.shapes import Drawing, String\n",
        "from reportlab.graphics.charts.barcharts import HorizontalBarChart\n",
        "\n",
        "\n",
        "def make_drawing(row):\n",
        "    drawing = Drawing()\n",
        "    data = [(row['NumberOfTotalAbsences'], row['AverageAbsence']),]\n",
        "    names = [row['FirstName'], 'Classmates\\n /Compañeros']\n",
        "    \n",
        "    bc = HorizontalBarChart()\n",
        "    bc.x = 20\n",
        "    bc.y = 50\n",
        "    bc.height = 150\n",
        "    bc.width = 400\n",
        "    bc.data = data\n",
        "    bc.strokeColor = colors.black\n",
        "    bc.valueAxis.valueMin = 0\n",
        "    bc.valueAxis.visibleGrid = True\n",
        "    bc.valueAxis.valueMax = 70\n",
        "    bc.valueAxis.valueStep = 10\n",
        "\n",
        "    bc.barLabels.fontName = \"Helvetica\"\n",
        "    bc.barLabels.fontSize = 12\n",
        "    bc.barLabelFormat = '%d'\n",
        "    bc.barLabels.nudge = 7\n",
        "    \n",
        "    bc.categoryAxis.labels.boxAnchor = 'ne'\n",
        "    bc.categoryAxis.labels.dx = -10\n",
        "    bc.categoryAxis.labels.dy = 0 \n",
        "    bc.categoryAxis.labels.fontName = 'Helvetica'\n",
        "    bc.categoryAxis.categoryNames = names\n",
        "    \n",
        "    bc.valueAxis.visible = True\n",
        "    #Customize the color of the bars  \n",
        "    bc.bars[(0, 0)].fillColor = colors.steelblue \n",
        "    bc.bars[(0, 1)].fillColor = colors.lightsteelblue\n",
        "    drawing.add(bc)\n",
        "\n",
        "    return drawing"
      ],
      "execution_count": 0,
      "outputs": []
    },
    {
      "cell_type": "code",
      "metadata": {
        "id": "X9D4qZkF4H9n",
        "colab_type": "code",
        "colab": {}
      },
      "source": [
        "import datetime\n",
        "from reportlab.lib.enums import TA_JUSTIFY\n",
        "from reportlab.lib.pagesizes import letter\n",
        "from reportlab.platypus import SimpleDocTemplate, Paragraph, Spacer, Image\n",
        "from reportlab.lib.styles import getSampleStyleSheet, ParagraphStyle\n",
        "from reportlab.lib.units import inch\n",
        "from reportlab.platypus import PageBreak\n",
        "from reportlab.lib.utils import ImageReader\n",
        " \n",
        "def build_a_letter(row):\n",
        "    '''\n",
        "    Input: dataframe row\n",
        "    Output: pdf file named after studentID\n",
        "    '''\n",
        "    #I name the pdf name after the Initals and StudentID\n",
        "  \n",
        "    name = str(row['FirstName'][0])+ str(row['LastSurname'][0])+str(row['StudentUniqueId'])+'.pdf'\n",
        "    full_name = row['FirstName']+' ' + row['LastSurname']\n",
        "    school_name = row.NameOfInstitution\n",
        "    grade = str(row.GradeLevel)\n",
        "    formatted_time = datetime.date.today().isoformat()\n",
        "\n",
        "    outfiledir = data_dir+str(formatted_time)+'/'+str(school_name)+'/'+grade+'/'\n",
        "    createFolder(outfiledir)\n",
        "    outfilepath = os.path.join(outfiledir, name)\n",
        "    #print(outfilepath)\n",
        "\n",
        "    doc = SimpleDocTemplate(outfilepath, pagesize=letter,\n",
        "                        rightMargin=72,leftMargin=72,\n",
        "                        topMargin=72,bottomMargin=18)\n",
        "    Story=[]\n",
        "\n",
        "    if school_name == 'DCP Harper Woods' or school_name =='DCP Redford':\n",
        "      logo = Image(links[school_name], width=2*inch, height=0.42*inch, kind='proportional')\n",
        "    else:\n",
        "      logo = Image(links[school_name])\n",
        "\n",
        "    \n",
        "    NumberOfTotalAbsences = str(row.NumberOfTotalAbsences)\n",
        "    story = []\n",
        "    #Set the logo \n",
        "    Story.append(logo)\n",
        "     \n",
        "    styles=getSampleStyleSheet()\n",
        "    styles.add(ParagraphStyle(name='Justify', alignment=TA_JUSTIFY))\n",
        "    ptext = '<font size=11>%s</font>' % formatted_time\n",
        "     \n",
        "    Story.append(Paragraph(ptext, styles[\"Normal\"]))\n",
        "    Story.append(Spacer(1, 12))\n",
        "     \n",
        "    ptext = '<font size=11>Dear Family of %s: </font>' % (full_name)\n",
        "    Story.append(Paragraph(ptext, styles[\"Justify\"]))\n",
        "    Story.append(Spacer(1, 12))\n",
        "    \n",
        "    ptext = '<font size=11>We are writing to you because <u>our records show \\\n",
        "             that your child has missed more than 10 % of the school year\\\n",
        "              to date.</u> Please understand that all absences are considered \\\n",
        "              unexcused until proper documentation is presented in accordance \\\n",
        "              with the school handbook.  Regular attendance at school is critical\\\n",
        "               for a child’s educational growth and achievement, and we are \\\n",
        "               committed to your child’s success.  We look forward to partnering\\\n",
        "                with you to ensure that your child continues to have a great \\\n",
        "                year of learning and growth.</font>'\n",
        "    Story.append(Paragraph(ptext, styles[\"Justify\"]))\n",
        "    Story.append(Spacer(1, 12))\n",
        "\n",
        "    ptext = '<font size=11>If absences continue, we will schedule a time for you\\\n",
        "     to come to school for a meeting with our administration, with the goal being\\\n",
        "      to identify the factors contributing to your child’s absenteeism, discuss \\\n",
        "      ways we can improve your child’s attendance this year, and commit to a plan\\\n",
        "       of action together. These steps will be taken in accordance with the \\\n",
        "       attendance policy for Distinctive Schools.</font>'\n",
        "    Story.append(Paragraph(ptext, styles[\"Justify\"]))\n",
        "    Story.append(Spacer(1, 12))\n",
        "     \n",
        "    ptext = '<font size=11>Thank you for your attention to this matter, and \\\n",
        "    thank you in advance for your partnership and a dedication to ensuring that \\\n",
        "    your child is set up for success in school this year. I look forward to \\\n",
        "    working with you to support your child in having a positive and productive year. </font>'\n",
        "    Story.append(Paragraph(ptext, styles[\"Justify\"]))\n",
        "    Story.append(Spacer(1, 12))\n",
        "    ptext = '<font size=11>Sincerely,</font>'\n",
        "    Story.append(Paragraph(ptext, styles[\"Normal\"]))\n",
        "    Story.append(Spacer(1, 24))\n",
        "    ptext = '<font size=11>%s</font>'% (dnames[school_name])\n",
        "    Story.append(Paragraph(ptext, styles[\"Normal\"]))\n",
        "    ptext = '<font size=11>Director, %s</font>'% (school_name)\n",
        "    Story.append(Paragraph(ptext, styles[\"Normal\"]))\n",
        "    ptext = '<font size=11>%s</font>'% (mails[school_name])\n",
        "    Story.append(Paragraph(ptext, styles[\"Normal\"]))\n",
        "    Story.append(PageBreak()) \n",
        "    \n",
        "    #Second page spanish version\n",
        "    Story.append(logo)\n",
        "     \n",
        "    styles=getSampleStyleSheet()\n",
        "    styles.add(ParagraphStyle(name='Justify', alignment=TA_JUSTIFY))\n",
        "    ptext = '<font size=11>%s</font>' % formatted_time\n",
        "    Story.append(Paragraph(ptext, styles[\"Normal\"]))\n",
        "    Story.append(Spacer(1, 12))\n",
        "\n",
        "    ptext = '<font size=11><u><b>Primera notificación</b></u></font>' \n",
        "    Story.append(Paragraph(ptext, styles[\"Justify\"]))\n",
        "    Story.append(Spacer(1, 12))\n",
        "\n",
        "    ptext = '<font size=11>Estimada familia de %s: </font>' % (full_name)\n",
        "    Story.append(Paragraph(ptext, styles[\"Justify\"]))\n",
        "    Story.append(Spacer(1, 12))\n",
        "\n",
        "    ptext ='<font size=11>Le escribimos porque <u>nuestros registros muestran que \\\n",
        "    su hijo ha perdido más del 10 % del año escolar hasta la fecha.</u> Por favor, \\\n",
        "    comprenda que todas las ausencias se consideran injustificadas hasta que se \\\n",
        "    presente la documentación adecuada de acuerdo con el manual de la escuela. \\\n",
        "    La asistencia regular a la escuela es fundamental para el crecimiento y el \\\n",
        "    rendimiento educativo de un niño, y estamos comprometidos con el éxito de su\\\n",
        "     hijo. Esperamos asociarnos con usted este año para asegurar que su hijo \\\n",
        "     continúe teniendo un gran año de aprendizaje y crecimiento.</font>'\n",
        "    Story.append(Paragraph(ptext, styles[\"Justify\"]))\n",
        "    Story.append(Spacer(1, 12))\n",
        "\n",
        "    ptext = '<font size=11>Si las ausencias continúan, programaremos un horario \\\n",
        "    para que usted venga a la escuela a una reunión con nuestra administración \\\n",
        "    con el objetivo de identificar los factores que contribuyen al absentismo de\\\n",
        "     su hijo, discutir formas en que podemos mejorar la asistencia de su hijo \\\n",
        "     este año y comprometerse a un plan de acción juntos. Estos pasos se tomarán\\\n",
        "      de acuerdo con la política de asistencia de Distinctive Schools. </font>' \n",
        "    Story.append(Paragraph(ptext, styles[\"Justify\"]))\n",
        "    Story.append(Spacer(1, 12))\n",
        "     \n",
        "    ptext = '<font size=11>Gracias por su atención a este asunto y gracias de \\\n",
        "    antemano por su colaboración y dedicación para garantizar que su hijo esté \\\n",
        "    preparado para el éxito en la escuela este año. Espero con interés trabajar \\\n",
        "    con usted para asegurarnos de que su hijo tenga un año positivo y productivo.</font>'\n",
        "    Story.append(Paragraph(ptext, styles[\"Justify\"]))\n",
        "    Story.append(Spacer(1, 12))\n",
        "    ptext = '<font size=11>Atentamente,</font>'\n",
        "    Story.append(Paragraph(ptext, styles[\"Normal\"]))\n",
        "    Story.append(Spacer(1, 24))\n",
        "    ptext = '<font size=11>%s</font>'% (dnames[school_name])\n",
        "    Story.append(Paragraph(ptext, styles[\"Normal\"]))\n",
        "    ptext = '<font size=11>Director, %s</font>'% (school_name)\n",
        "    Story.append(Paragraph(ptext, styles[\"Normal\"]))\n",
        "    ptext = '<font size=11>%s</font>'% (mails[school_name])\n",
        "    Story.append(Paragraph(ptext, styles[\"Normal\"]))\n",
        "    Story.append(PageBreak()) \n",
        "\n",
        "    #Third page barchart\n",
        "    title_style = styles['Heading1']\n",
        "    title_style.alignment = 1\n",
        "    title = Paragraph(\"Absences Summary/Resumen de ausencias\", title_style)\n",
        "    Story.append(title)\n",
        "    Story.append(Spacer(1, 24))\n",
        "    pic = make_drawing(row)\n",
        "    Story.append(pic)\n",
        "\n",
        "    doc.build(Story)"
      ],
      "execution_count": 0,
      "outputs": []
    },
    {
      "cell_type": "code",
      "metadata": {
        "id": "krWkXc1BiSPO",
        "colab_type": "code",
        "outputId": "80fa87e7-ac8d-49b9-b139-3ccea1ab7137",
        "colab": {
          "base_uri": "https://localhost:8080/",
          "height": 34
        }
      },
      "source": [
        "import time\n",
        "t = time.process_time()\n",
        "for i in range(100):\n",
        "  build_a_letter(df.loc[i])\n",
        "time.process_time() - t"
      ],
      "execution_count": 62,
      "outputs": [
        {
          "output_type": "execute_result",
          "data": {
            "text/plain": [
              "3.498836899999999"
            ]
          },
          "metadata": {
            "tags": []
          },
          "execution_count": 62
        }
      ]
    },
    {
      "cell_type": "code",
      "metadata": {
        "colab_type": "code",
        "id": "IN5inpOGKzvx",
        "colab": {}
      },
      "source": [
        ""
      ],
      "execution_count": 0,
      "outputs": []
    },
    {
      "cell_type": "code",
      "metadata": {
        "id": "z3aC14MJJ-7J",
        "colab_type": "code",
        "colab": {
          "base_uri": "https://localhost:8080/",
          "height": 119
        },
        "outputId": "500085e4-8508-4f6b-a59e-98577734eac0"
      },
      "source": [
        ""
      ],
      "execution_count": 63,
      "outputs": [
        {
          "output_type": "stream",
          "text": [
            " 01\n",
            " 2020-01-22\n",
            "'Chronic Absence - Absence List Import.csv'\n",
            "'Chronic Absence Letter #1 - Jan '\\''20.gdoc'\n",
            "'Chronic Absence.xlsx'\n",
            " Chronic_Absenteeism.ipynb\n"
          ],
          "name": "stdout"
        }
      ]
    },
    {
      "cell_type": "code",
      "metadata": {
        "id": "L5V4982GKFdl",
        "colab_type": "code",
        "colab": {}
      },
      "source": [
        ""
      ],
      "execution_count": 0,
      "outputs": []
    }
  ]
}