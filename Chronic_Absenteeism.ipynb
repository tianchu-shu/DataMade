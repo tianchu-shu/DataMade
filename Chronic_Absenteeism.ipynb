{
  "nbformat": 4,
  "nbformat_minor": 0,
  "metadata": {
    "colab": {
      "name": "Chronic_Absenteeism.ipynb",
      "provenance": [],
      "collapsed_sections": [],
      "authorship_tag": "ABX9TyOWUxRE8H2UpyXYvcjuKqA/"
    },
    "kernelspec": {
      "name": "python3",
      "display_name": "Python 3"
    }
  },
  "cells": [
    {
      "cell_type": "code",
      "metadata": {
        "id": "bYvRxmh5_1IA",
        "colab_type": "code",
        "colab": {}
      },
      "source": [
        "from google.colab import drive\n",
        "import matplotlib.pyplot as plt"
      ],
      "execution_count": 0,
      "outputs": []
    },
    {
      "cell_type": "code",
      "metadata": {
        "id": "71SNetsXR9Lu",
        "colab_type": "code",
        "colab": {}
      },
      "source": [
        "#needs to fix the jpg doesnt work"
      ],
      "execution_count": 0,
      "outputs": []
    },
    {
      "cell_type": "code",
      "metadata": {
        "id": "KaXLzxzp_3yq",
        "colab_type": "code",
        "outputId": "01d75321-3610-43ce-e4bb-b898be561072",
        "colab": {
          "base_uri": "https://localhost:8080/",
          "height": 54
        }
      },
      "source": [
        "drive.mount('/content/gdrive')"
      ],
      "execution_count": 5,
      "outputs": [
        {
          "output_type": "stream",
          "text": [
            "Drive already mounted at /content/gdrive; to attempt to forcibly remount, call drive.mount(\"/content/gdrive\", force_remount=True).\n"
          ],
          "name": "stdout"
        }
      ]
    },
    {
      "cell_type": "code",
      "metadata": {
        "id": "63EAGOYVgSET",
        "colab_type": "code",
        "outputId": "5eecc01e-f70b-4a39-d87b-1036b383905c",
        "colab": {
          "base_uri": "https://localhost:8080/",
          "height": 68
        }
      },
      "source": [
        "!ls /content/gdrive/My\\ Drive/Chronic_absenteeism_letter/"
      ],
      "execution_count": 6,
      "outputs": [
        {
          "output_type": "stream",
          "text": [
            " 50252756.pdf\t\t\t\t     'Chronic Absence.xlsx'\n",
            " 50353442.pdf\t\t\t\t      Chronic_Absenteeism.ipynb\n",
            "'Chronic Absence - Absence List Import.csv'\n"
          ],
          "name": "stdout"
        }
      ]
    },
    {
      "cell_type": "markdown",
      "metadata": {
        "colab_type": "text",
        "id": "wVTnEqIhFfFU"
      },
      "source": [
        "# Load the sample Data"
      ]
    },
    {
      "cell_type": "code",
      "metadata": {
        "id": "q6Nqw2cvgDnO",
        "colab_type": "code",
        "outputId": "cb8c500a-ce2d-479d-f2ea-0543f8153936",
        "colab": {
          "base_uri": "https://localhost:8080/",
          "height": 102
        }
      },
      "source": [
        "import pandas as pd\n",
        "import glob, os\n",
        "\n",
        "data_dir= '/content/gdrive/My Drive/Chronic_absenteeism_letter/'\n",
        "filename = 'Chronic Absence.xlsx'\n",
        "os.chdir(data_dir)\n",
        "\n",
        "df=pd.read_excel(filename)\n",
        "\n",
        "print(\"Column headings:\")\n",
        "print(df.columns)\n"
      ],
      "execution_count": 7,
      "outputs": [
        {
          "output_type": "stream",
          "text": [
            "Column headings:\n",
            "Index(['NameOfInstitution', 'StudentUniqueID', 'LastSurname', 'FirstName',\n",
            "       'GradeLevel', 'NumberOfSchoolTardies', 'NumberOfTotalAbsences',\n",
            "       'Average Absence'],\n",
            "      dtype='object')\n"
          ],
          "name": "stdout"
        }
      ]
    },
    {
      "cell_type": "code",
      "metadata": {
        "id": "lGtQDwbChVYv",
        "colab_type": "code",
        "colab": {}
      },
      "source": [
        "dname=pd.read_excel(filename, sheet_name='Images  & PrincipalTable')"
      ],
      "execution_count": 0,
      "outputs": []
    },
    {
      "cell_type": "code",
      "metadata": {
        "id": "K6RTBVLzyUYG",
        "colab_type": "code",
        "outputId": "e5043a93-a33c-4621-bf0f-1399c89f24f6",
        "colab": {
          "base_uri": "https://localhost:8080/",
          "height": 68
        }
      },
      "source": [
        "df.NameOfInstitution.unique()"
      ],
      "execution_count": 9,
      "outputs": [
        {
          "output_type": "execute_result",
          "data": {
            "text/plain": [
              "array(['Prairie', 'Bucktown', 'Distinctive College Prep Harper Woods',\n",
              "       'Distinctive College Prep Redford', 'West Belden', 'Irving Park'],\n",
              "      dtype=object)"
            ]
          },
          "metadata": {
            "tags": []
          },
          "execution_count": 9
        }
      ]
    },
    {
      "cell_type": "code",
      "metadata": {
        "id": "6WpoRhXav7Nz",
        "colab_type": "code",
        "colab": {}
      },
      "source": [
        "schoolname = {'Prairie':'CICS Prairie', 'Bucktown':'CICS Bucktown', 'Distinctive College Prep Harper Woods':'DCP Harper Woods',\n",
        "       'Distinctive College Prep Redford':'DCP Redford', 'West Belden':'CICS West Belden', 'Irving Park':'CICS Irving Park'}"
      ],
      "execution_count": 0,
      "outputs": []
    },
    {
      "cell_type": "code",
      "metadata": {
        "id": "s8RKNXZv3boa",
        "colab_type": "code",
        "colab": {}
      },
      "source": [
        "df['NameOfInstitution'] = df['NameOfInstitution'].map(schoolname)"
      ],
      "execution_count": 0,
      "outputs": []
    },
    {
      "cell_type": "code",
      "metadata": {
        "id": "Mx4nubANyLXf",
        "colab_type": "code",
        "colab": {}
      },
      "source": [
        "links = dict(zip(dname.Campus, dname.Link))"
      ],
      "execution_count": 0,
      "outputs": []
    },
    {
      "cell_type": "code",
      "metadata": {
        "id": "w7fCIve3h4HW",
        "colab_type": "code",
        "outputId": "041bb409-b1ed-4cc1-da16-b2ab6b6f1994",
        "colab": {
          "base_uri": "https://localhost:8080/",
          "height": 119
        }
      },
      "source": [
        "links"
      ],
      "execution_count": 13,
      "outputs": [
        {
          "output_type": "execute_result",
          "data": {
            "text/plain": [
              "{'CICS Bucktown': 'https://www.cicsbucktown.org/uploads/8/4/9/1/84911918/published/cics-bucktown-horz.png?1531843975',\n",
              " 'CICS Irving Park': 'https://www.cicsirvingpark.org/uploads/8/4/9/1/84911918/published/cics-irving-park-horz.png?1531844890',\n",
              " 'CICS Prairie': 'https://www.cicsprairie.org/uploads/8/4/9/1/84911918/published/cics-prairie-horz.png?1531844962',\n",
              " 'CICS West Belden': 'https://www.cicswestbelden.org/uploads/8/4/9/1/84911918/published/cics-west-belden-horz.png?1531845057',\n",
              " 'DCP Harper Woods': 'https://drive.google.com/file/d/1rOVmjNbgIf3sWT8lXGa8fvDBsgjSShfr/view?usp=sharing',\n",
              " 'DCP Redford': 'https://drive.google.com/file/d/1rOVmjNbgIf3sWT8lXGa8fvDBsgjSShfr/view?usp=sharing'}"
            ]
          },
          "metadata": {
            "tags": []
          },
          "execution_count": 13
        }
      ]
    },
    {
      "cell_type": "code",
      "metadata": {
        "id": "jYJO89V2xySo",
        "colab_type": "code",
        "colab": {}
      },
      "source": [
        "#Make a dictionary matching the campus to Director names\n",
        "dnames = dict(zip(dname.Campus, dname.Director))"
      ],
      "execution_count": 0,
      "outputs": []
    },
    {
      "cell_type": "code",
      "metadata": {
        "id": "QNmQc8BJ3_1w",
        "colab_type": "code",
        "outputId": "12b3e674-b5cc-4a64-b0db-5f82ca93630a",
        "colab": {
          "base_uri": "https://localhost:8080/",
          "height": 119
        }
      },
      "source": [
        "dnames"
      ],
      "execution_count": 15,
      "outputs": [
        {
          "output_type": "execute_result",
          "data": {
            "text/plain": [
              "{'CICS Bucktown': \"Ms. Sarah O'Connell\",\n",
              " 'CICS Irving Park': 'Mr. JW Kuebler',\n",
              " 'CICS Prairie': 'Ms. Jennifer Harth',\n",
              " 'CICS West Belden': 'Ms. Colleen Collins',\n",
              " 'DCP Harper Woods': 'Ms. Cassie Williams',\n",
              " 'DCP Redford': 'Ms. Camille Hibbler'}"
            ]
          },
          "metadata": {
            "tags": []
          },
          "execution_count": 15
        }
      ]
    },
    {
      "cell_type": "code",
      "metadata": {
        "id": "oej_ejdgzGST",
        "colab_type": "code",
        "outputId": "8859063f-a6cf-4dac-bf6f-8a5689c01add",
        "colab": {
          "base_uri": "https://localhost:8080/",
          "height": 51
        }
      },
      "source": [
        "!pip3 install urllib"
      ],
      "execution_count": 16,
      "outputs": [
        {
          "output_type": "stream",
          "text": [
            "\u001b[31mERROR: Could not find a version that satisfies the requirement urllib (from versions: none)\u001b[0m\n",
            "\u001b[31mERROR: No matching distribution found for urllib\u001b[0m\n"
          ],
          "name": "stdout"
        }
      ]
    },
    {
      "cell_type": "code",
      "metadata": {
        "id": "n9TQPjk4rBEB",
        "colab_type": "code",
        "outputId": "30841727-cccc-4cba-de38-f42d91947feb",
        "colab": {
          "base_uri": "https://localhost:8080/",
          "height": 34
        }
      },
      "source": [
        "from google.colab import auth\n",
        "auth.authenticate_user()\n",
        "print('Authenticated')"
      ],
      "execution_count": 142,
      "outputs": [
        {
          "output_type": "stream",
          "text": [
            "Authenticated\n"
          ],
          "name": "stdout"
        }
      ]
    },
    {
      "cell_type": "code",
      "metadata": {
        "id": "ZQ687UrtwP2-",
        "colab_type": "code",
        "colab": {}
      },
      "source": [
        "#Getting the original cohort's data\n",
        "\n",
        "%%bigquery --project ds-student-data bdf\n",
        "SELECT *\n",
        "FROM `ds-student-data.Distinctive.ChronicAbsence` \n"
      ],
      "execution_count": 0,
      "outputs": []
    },
    {
      "cell_type": "code",
      "metadata": {
        "id": "lxCsE0a6xNiv",
        "colab_type": "code",
        "colab": {
          "base_uri": "https://localhost:8080/",
          "height": 34
        },
        "outputId": "6e8ed843-adfd-47ab-a945-73ffa266d3ee"
      },
      "source": [
        "bdf.shape"
      ],
      "execution_count": 168,
      "outputs": [
        {
          "output_type": "execute_result",
          "data": {
            "text/plain": [
              "(2899, 7)"
            ]
          },
          "metadata": {
            "tags": []
          },
          "execution_count": 168
        }
      ]
    },
    {
      "cell_type": "code",
      "metadata": {
        "id": "VJgAm3U_vyP2",
        "colab_type": "code",
        "colab": {
          "base_uri": "https://localhost:8080/",
          "height": 204
        },
        "outputId": "f7ebdd7c-562b-4de7-8aea-c6e5a0c0ee2e"
      },
      "source": [
        "bdf.head()"
      ],
      "execution_count": 184,
      "outputs": [
        {
          "output_type": "execute_result",
          "data": {
            "text/html": [
              "<div>\n",
              "<style scoped>\n",
              "    .dataframe tbody tr th:only-of-type {\n",
              "        vertical-align: middle;\n",
              "    }\n",
              "\n",
              "    .dataframe tbody tr th {\n",
              "        vertical-align: top;\n",
              "    }\n",
              "\n",
              "    .dataframe thead th {\n",
              "        text-align: right;\n",
              "    }\n",
              "</style>\n",
              "<table border=\"1\" class=\"dataframe\">\n",
              "  <thead>\n",
              "    <tr style=\"text-align: right;\">\n",
              "      <th></th>\n",
              "      <th>NameOfInstitution</th>\n",
              "      <th>StudentUniqueId</th>\n",
              "      <th>GradeLevel</th>\n",
              "      <th>LastSurname</th>\n",
              "      <th>FirstName</th>\n",
              "      <th>NumberOfTotalAbsences</th>\n",
              "      <th>AverageAbsence</th>\n",
              "    </tr>\n",
              "  </thead>\n",
              "  <tbody>\n",
              "    <tr>\n",
              "      <th>0</th>\n",
              "      <td>Distinctive College Prep Harper Woods</td>\n",
              "      <td>50000607</td>\n",
              "      <td>1</td>\n",
              "      <td>Richardson</td>\n",
              "      <td>Karson</td>\n",
              "      <td>2.0</td>\n",
              "      <td>5.1</td>\n",
              "    </tr>\n",
              "    <tr>\n",
              "      <th>1</th>\n",
              "      <td>Distinctive College Prep Harper Woods</td>\n",
              "      <td>50000606</td>\n",
              "      <td>1</td>\n",
              "      <td>Richardson</td>\n",
              "      <td>Karter</td>\n",
              "      <td>2.0</td>\n",
              "      <td>5.1</td>\n",
              "    </tr>\n",
              "    <tr>\n",
              "      <th>2</th>\n",
              "      <td>Distinctive College Prep Harper Woods</td>\n",
              "      <td>50000865</td>\n",
              "      <td>2</td>\n",
              "      <td>Chatman</td>\n",
              "      <td>Andre</td>\n",
              "      <td>4.0</td>\n",
              "      <td>5.1</td>\n",
              "    </tr>\n",
              "    <tr>\n",
              "      <th>3</th>\n",
              "      <td>Distinctive College Prep Harper Woods</td>\n",
              "      <td>50000063</td>\n",
              "      <td>4</td>\n",
              "      <td>Butler</td>\n",
              "      <td>Londyn</td>\n",
              "      <td>0.0</td>\n",
              "      <td>5.1</td>\n",
              "    </tr>\n",
              "    <tr>\n",
              "      <th>4</th>\n",
              "      <td>Distinctive College Prep Harper Woods</td>\n",
              "      <td>50000002</td>\n",
              "      <td>3</td>\n",
              "      <td>Carter</td>\n",
              "      <td>London</td>\n",
              "      <td>0.0</td>\n",
              "      <td>5.1</td>\n",
              "    </tr>\n",
              "  </tbody>\n",
              "</table>\n",
              "</div>"
            ],
            "text/plain": [
              "                       NameOfInstitution  ... AverageAbsence\n",
              "0  Distinctive College Prep Harper Woods  ...            5.1\n",
              "1  Distinctive College Prep Harper Woods  ...            5.1\n",
              "2  Distinctive College Prep Harper Woods  ...            5.1\n",
              "3  Distinctive College Prep Harper Woods  ...            5.1\n",
              "4  Distinctive College Prep Harper Woods  ...            5.1\n",
              "\n",
              "[5 rows x 7 columns]"
            ]
          },
          "metadata": {
            "tags": []
          },
          "execution_count": 184
        }
      ]
    },
    {
      "cell_type": "code",
      "metadata": {
        "id": "6p-05eOwxUMw",
        "colab_type": "code",
        "colab": {
          "base_uri": "https://localhost:8080/",
          "height": 34
        },
        "outputId": "f821ffb3-bca4-4bbc-9e16-5c3ea59565d3"
      },
      "source": [
        "bdf['NumberOfTotalAbsences'].mean()"
      ],
      "execution_count": 170,
      "outputs": [
        {
          "output_type": "execute_result",
          "data": {
            "text/plain": [
              "5.108658157985512"
            ]
          },
          "metadata": {
            "tags": []
          },
          "execution_count": 170
        }
      ]
    },
    {
      "cell_type": "code",
      "metadata": {
        "id": "ZgwGayc--z84",
        "colab_type": "code",
        "colab": {}
      },
      "source": [
        "#Use the total number of absences for all schools for schools whose average is above all average\n",
        "bdf['AverageAbsence'] = bdf['AverageAbsence'].apply(lambda x: 5.1 if x > 5.1 else x)"
      ],
      "execution_count": 0,
      "outputs": []
    },
    {
      "cell_type": "code",
      "metadata": {
        "id": "-RWjasl0xGdw",
        "colab_type": "code",
        "colab": {
          "base_uri": "https://localhost:8080/",
          "height": 204
        },
        "outputId": "fe7c7773-fa7f-40d4-e504-3b6d61ce3526"
      },
      "source": [
        "bdf.tail()"
      ],
      "execution_count": 183,
      "outputs": [
        {
          "output_type": "execute_result",
          "data": {
            "text/html": [
              "<div>\n",
              "<style scoped>\n",
              "    .dataframe tbody tr th:only-of-type {\n",
              "        vertical-align: middle;\n",
              "    }\n",
              "\n",
              "    .dataframe tbody tr th {\n",
              "        vertical-align: top;\n",
              "    }\n",
              "\n",
              "    .dataframe thead th {\n",
              "        text-align: right;\n",
              "    }\n",
              "</style>\n",
              "<table border=\"1\" class=\"dataframe\">\n",
              "  <thead>\n",
              "    <tr style=\"text-align: right;\">\n",
              "      <th></th>\n",
              "      <th>NameOfInstitution</th>\n",
              "      <th>StudentUniqueId</th>\n",
              "      <th>GradeLevel</th>\n",
              "      <th>LastSurname</th>\n",
              "      <th>FirstName</th>\n",
              "      <th>NumberOfTotalAbsences</th>\n",
              "      <th>AverageAbsence</th>\n",
              "    </tr>\n",
              "  </thead>\n",
              "  <tbody>\n",
              "    <tr>\n",
              "      <th>2894</th>\n",
              "      <td>West Belden</td>\n",
              "      <td>50569118</td>\n",
              "      <td>2</td>\n",
              "      <td>Martinez-Lopez</td>\n",
              "      <td>Alexander</td>\n",
              "      <td>8.0</td>\n",
              "      <td>3.2</td>\n",
              "    </tr>\n",
              "    <tr>\n",
              "      <th>2895</th>\n",
              "      <td>West Belden</td>\n",
              "      <td>50335956</td>\n",
              "      <td>4</td>\n",
              "      <td>Munoz</td>\n",
              "      <td>Dylan</td>\n",
              "      <td>8.0</td>\n",
              "      <td>3.2</td>\n",
              "    </tr>\n",
              "    <tr>\n",
              "      <th>2896</th>\n",
              "      <td>West Belden</td>\n",
              "      <td>50609712</td>\n",
              "      <td>1</td>\n",
              "      <td>Ramirez Garcia</td>\n",
              "      <td>Amalia</td>\n",
              "      <td>8.0</td>\n",
              "      <td>3.2</td>\n",
              "    </tr>\n",
              "    <tr>\n",
              "      <th>2897</th>\n",
              "      <td>West Belden</td>\n",
              "      <td>50515938</td>\n",
              "      <td>3</td>\n",
              "      <td>Sevilla-Morales</td>\n",
              "      <td>Miguel</td>\n",
              "      <td>8.0</td>\n",
              "      <td>3.2</td>\n",
              "    </tr>\n",
              "    <tr>\n",
              "      <th>2898</th>\n",
              "      <td>West Belden</td>\n",
              "      <td>50449566</td>\n",
              "      <td>2</td>\n",
              "      <td>Zuniga</td>\n",
              "      <td>Alejandro</td>\n",
              "      <td>8.0</td>\n",
              "      <td>3.2</td>\n",
              "    </tr>\n",
              "  </tbody>\n",
              "</table>\n",
              "</div>"
            ],
            "text/plain": [
              "     NameOfInstitution StudentUniqueId  ... NumberOfTotalAbsences AverageAbsence\n",
              "2894       West Belden        50569118  ...                   8.0            3.2\n",
              "2895       West Belden        50335956  ...                   8.0            3.2\n",
              "2896       West Belden        50609712  ...                   8.0            3.2\n",
              "2897       West Belden        50515938  ...                   8.0            3.2\n",
              "2898       West Belden        50449566  ...                   8.0            3.2\n",
              "\n",
              "[5 rows x 7 columns]"
            ]
          },
          "metadata": {
            "tags": []
          },
          "execution_count": 183
        }
      ]
    },
    {
      "cell_type": "code",
      "metadata": {
        "id": "-sMMX_t0-ux-",
        "colab_type": "code",
        "colab": {}
      },
      "source": [
        "#Calculated the Peer Average Absences in the same school\n",
        "#bdf['AverageAbsencePerSchool']=bdf.groupby(['NameOfInstitution'])['NumberOfTotalAbsences'].transform('mean')"
      ],
      "execution_count": 0,
      "outputs": []
    },
    {
      "cell_type": "code",
      "metadata": {
        "id": "BJABmmc96grL",
        "colab_type": "code",
        "outputId": "2c6e17ca-60ea-4257-eda2-e1e487828955",
        "colab": {
          "base_uri": "https://localhost:8080/",
          "height": 282
        }
      },
      "source": [
        "x=bdf.loc[0,'NumberOfTotalAbsences':].plot.barh() \n"
      ],
      "execution_count": 185,
      "outputs": [
        {
          "output_type": "execute_result",
          "data": {
            "text/plain": [
              "<matplotlib.axes._subplots.AxesSubplot at 0x7fb5c211e668>"
            ]
          },
          "metadata": {
            "tags": []
          },
          "execution_count": 185
        },
        {
          "output_type": "display_data",
          "data": {
            "image/png": "[encoded data removed]",
            "text/plain": [
              "<Figure size 432x288 with 1 Axes>"
            ]
          },
          "metadata": {
            "tags": []
          }
        }
      ]
    },
    {
      "cell_type": "code",
      "metadata": {
        "id": "LOSn831VBV5-",
        "colab_type": "code",
        "outputId": "6a8b0c16-c446-4327-ba8c-672752290f13",
        "colab": {
          "base_uri": "https://localhost:8080/",
          "height": 139
        }
      },
      "source": [
        "!pip3 install reportlab"
      ],
      "execution_count": 23,
      "outputs": [
        {
          "output_type": "stream",
          "text": [
            "Collecting reportlab\n",
            "\u001b[?25l  Downloading https://files.pythonhosted.org/packages/1d/d2/8bd0495ee4c337ce065f7ee3c8d99cf653ce8ca2b4b0368667d61d377a52/reportlab-3.5.34-cp36-cp36m-manylinux1_x86_64.whl (2.6MB)\n",
            "\u001b[K     |████████████████████████████████| 2.6MB 9.0MB/s \n",
            "\u001b[?25hRequirement already satisfied: pillow>=4.0.0 in /usr/local/lib/python3.6/dist-packages (from reportlab) (6.2.2)\n",
            "Installing collected packages: reportlab\n",
            "Successfully installed reportlab-3.5.34\n"
          ],
          "name": "stdout"
        }
      ]
    },
    {
      "cell_type": "code",
      "metadata": {
        "id": "y0xTtbsRCgFS",
        "colab_type": "code",
        "colab": {}
      },
      "source": [
        ""
      ],
      "execution_count": 0,
      "outputs": []
    },
    {
      "cell_type": "code",
      "metadata": {
        "id": "pp2D4VxYGCL4",
        "colab_type": "code",
        "colab": {}
      },
      "source": [
        "from reportlab.lib import colors\n",
        "from reportlab.graphics.shapes import Drawing, String\n",
        "from reportlab.graphics.charts.barcharts import HorizontalBarChart\n",
        "\n",
        "\n",
        "def make_drawing(row):\n",
        "    drawing = Drawing()\n",
        "    data = [(row['NumberOfTotalAbsences'], row['Average Absence']),]\n",
        "    names = [row['FirstName'], 'Classmates']\n",
        "    \n",
        "    bc = HorizontalBarChart()\n",
        "    bc.x = 20\n",
        "    bc.y = 50\n",
        "    bc.height = 150\n",
        "    bc.width = 400\n",
        "    bc.data = data\n",
        "    bc.strokeColor = colors.black\n",
        "    bc.valueAxis.valueMin = 0\n",
        "    bc.valueAxis.visibleGrid = True\n",
        "    bc.valueAxis.valueMax = 70\n",
        "    bc.valueAxis.valueStep = 10\n",
        "    \n",
        "    bc.valueAxis.labels.fontName = 'Times-Roman'\n",
        "    #bc.valueAxis.labels = [row['NumberOfTotalAbsences'], row['Average Absence']]\n",
        "    bc.categoryAxis.labels.boxAnchor = 'ne'\n",
        "    bc.categoryAxis.labels.dx = -10\n",
        "    bc.categoryAxis.labels.dy = 0 \n",
        "    bc.categoryAxis.labels.fontName = 'Helvetica'\n",
        "    bc.categoryAxis.categoryNames = names\n",
        "    \n",
        "\n",
        "    #Customize the color of the bars  \n",
        "    bc.bars[(0, 0)].fillColor = colors.steelblue \n",
        "    bc.bars[(0, 1)].fillColor = colors.lightsteelblue\n",
        "    drawing.add(bc)\n",
        "\n",
        "    return drawing"
      ],
      "execution_count": 0,
      "outputs": []
    },
    {
      "cell_type": "code",
      "metadata": {
        "id": "b10UwH2GPJVE",
        "colab_type": "code",
        "colab": {
          "base_uri": "https://localhost:8080/",
          "height": 446
        },
        "outputId": "4f2f53ed-4bc7-4c7a-8214-5eb265eb7332"
      },
      "source": [
        "for i in range(2):\n",
        "    build_a_letter(df.loc[i])"
      ],
      "execution_count": 210,
      "outputs": [
        {
          "output_type": "error",
          "ename": "AttributeError",
          "evalue": "ignored",
          "traceback": [
            "\u001b[0;31m---------------------------------------------------------------------------\u001b[0m",
            "\u001b[0;31mKeyError\u001b[0m                                  Traceback (most recent call last)",
            "\u001b[0;32m/usr/local/lib/python3.6/dist-packages/reportlab/lib/attrmap.py\u001b[0m in \u001b[0;36mvalidateSetattr\u001b[0;34m(obj, name, value)\u001b[0m\n\u001b[1;32m    110\u001b[0m                 \u001b[0;32mtry\u001b[0m\u001b[0;34m:\u001b[0m\u001b[0;34m\u001b[0m\u001b[0;34m\u001b[0m\u001b[0m\n\u001b[0;32m--> 111\u001b[0;31m                     \u001b[0mvalidate\u001b[0m \u001b[0;34m=\u001b[0m \u001b[0mmap\u001b[0m\u001b[0;34m[\u001b[0m\u001b[0mname\u001b[0m\u001b[0;34m]\u001b[0m\u001b[0;34m.\u001b[0m\u001b[0mvalidate\u001b[0m\u001b[0;34m\u001b[0m\u001b[0;34m\u001b[0m\u001b[0m\n\u001b[0m\u001b[1;32m    112\u001b[0m                     \u001b[0;32mif\u001b[0m \u001b[0;32mnot\u001b[0m \u001b[0mvalidate\u001b[0m\u001b[0;34m(\u001b[0m\u001b[0mvalue\u001b[0m\u001b[0;34m)\u001b[0m\u001b[0;34m:\u001b[0m\u001b[0;34m\u001b[0m\u001b[0;34m\u001b[0m\u001b[0m\n",
            "\u001b[0;31mKeyError\u001b[0m: 'labels'",
            "\nDuring handling of the above exception, another exception occurred:\n",
            "\u001b[0;31mAttributeError\u001b[0m                            Traceback (most recent call last)",
            "\u001b[0;32m<ipython-input-210-5cd75d307690>\u001b[0m in \u001b[0;36m<module>\u001b[0;34m()\u001b[0m\n\u001b[1;32m      1\u001b[0m \u001b[0;32mfor\u001b[0m \u001b[0mi\u001b[0m \u001b[0;32min\u001b[0m \u001b[0mrange\u001b[0m\u001b[0;34m(\u001b[0m\u001b[0;36m2\u001b[0m\u001b[0;34m)\u001b[0m\u001b[0;34m:\u001b[0m\u001b[0;34m\u001b[0m\u001b[0;34m\u001b[0m\u001b[0m\n\u001b[0;32m----> 2\u001b[0;31m     \u001b[0mbuild_a_letter\u001b[0m\u001b[0;34m(\u001b[0m\u001b[0mdf\u001b[0m\u001b[0;34m.\u001b[0m\u001b[0mloc\u001b[0m\u001b[0;34m[\u001b[0m\u001b[0mi\u001b[0m\u001b[0;34m]\u001b[0m\u001b[0;34m)\u001b[0m\u001b[0;34m\u001b[0m\u001b[0;34m\u001b[0m\u001b[0m\n\u001b[0m",
            "\u001b[0;32m<ipython-input-195-3e5287d910dd>\u001b[0m in \u001b[0;36mbuild_a_letter\u001b[0;34m(row)\u001b[0m\n\u001b[1;32m    109\u001b[0m     \u001b[0mStory\u001b[0m\u001b[0;34m.\u001b[0m\u001b[0mappend\u001b[0m\u001b[0;34m(\u001b[0m\u001b[0mtitle\u001b[0m\u001b[0;34m)\u001b[0m\u001b[0;34m\u001b[0m\u001b[0;34m\u001b[0m\u001b[0m\n\u001b[1;32m    110\u001b[0m     \u001b[0mStory\u001b[0m\u001b[0;34m.\u001b[0m\u001b[0mappend\u001b[0m\u001b[0;34m(\u001b[0m\u001b[0mSpacer\u001b[0m\u001b[0;34m(\u001b[0m\u001b[0;36m1\u001b[0m\u001b[0;34m,\u001b[0m \u001b[0;36m24\u001b[0m\u001b[0;34m)\u001b[0m\u001b[0;34m)\u001b[0m\u001b[0;34m\u001b[0m\u001b[0;34m\u001b[0m\u001b[0m\n\u001b[0;32m--> 111\u001b[0;31m     \u001b[0mpic\u001b[0m \u001b[0;34m=\u001b[0m \u001b[0mmake_drawing\u001b[0m\u001b[0;34m(\u001b[0m\u001b[0mrow\u001b[0m\u001b[0;34m)\u001b[0m\u001b[0;34m\u001b[0m\u001b[0;34m\u001b[0m\u001b[0m\n\u001b[0m\u001b[1;32m    112\u001b[0m     \u001b[0mStory\u001b[0m\u001b[0;34m.\u001b[0m\u001b[0mappend\u001b[0m\u001b[0;34m(\u001b[0m\u001b[0mpic\u001b[0m\u001b[0;34m)\u001b[0m\u001b[0;34m\u001b[0m\u001b[0;34m\u001b[0m\u001b[0m\n\u001b[1;32m    113\u001b[0m \u001b[0;34m\u001b[0m\u001b[0m\n",
            "\u001b[0;32m<ipython-input-209-fe3cd1552025>\u001b[0m in \u001b[0;36mmake_drawing\u001b[0;34m(row)\u001b[0m\n\u001b[1;32m     20\u001b[0m     \u001b[0mbc\u001b[0m\u001b[0;34m.\u001b[0m\u001b[0mvalueAxis\u001b[0m\u001b[0;34m.\u001b[0m\u001b[0mvalueMax\u001b[0m \u001b[0;34m=\u001b[0m \u001b[0;36m70\u001b[0m\u001b[0;34m\u001b[0m\u001b[0;34m\u001b[0m\u001b[0m\n\u001b[1;32m     21\u001b[0m     \u001b[0mbc\u001b[0m\u001b[0;34m.\u001b[0m\u001b[0mvalueAxis\u001b[0m\u001b[0;34m.\u001b[0m\u001b[0mvalueStep\u001b[0m \u001b[0;34m=\u001b[0m \u001b[0;36m10\u001b[0m\u001b[0;34m\u001b[0m\u001b[0;34m\u001b[0m\u001b[0m\n\u001b[0;32m---> 22\u001b[0;31m     \u001b[0mbc\u001b[0m\u001b[0;34m.\u001b[0m\u001b[0mlabels\u001b[0m \u001b[0;34m=\u001b[0m \u001b[0;32mTrue\u001b[0m\u001b[0;34m\u001b[0m\u001b[0;34m\u001b[0m\u001b[0m\n\u001b[0m\u001b[1;32m     23\u001b[0m \u001b[0;34m\u001b[0m\u001b[0m\n\u001b[1;32m     24\u001b[0m     \u001b[0mbc\u001b[0m\u001b[0;34m.\u001b[0m\u001b[0mvalueAxis\u001b[0m\u001b[0;34m.\u001b[0m\u001b[0mlabels\u001b[0m\u001b[0;34m.\u001b[0m\u001b[0mfontName\u001b[0m \u001b[0;34m=\u001b[0m \u001b[0;34m'Times-Roman'\u001b[0m\u001b[0;34m\u001b[0m\u001b[0;34m\u001b[0m\u001b[0m\n",
            "\u001b[0;32m/usr/local/lib/python3.6/dist-packages/reportlab/graphics/widgetbase.py\u001b[0m in \u001b[0;36m__setattr__\u001b[0;34m(self, name, value)\u001b[0m\n\u001b[1;32m     47\u001b[0m             \"\"\"By default we verify.  This could be off\n\u001b[1;32m     48\u001b[0m             in some parallel base classes.\"\"\"\n\u001b[0;32m---> 49\u001b[0;31m             \u001b[0mvalidateSetattr\u001b[0m\u001b[0;34m(\u001b[0m\u001b[0mself\u001b[0m\u001b[0;34m,\u001b[0m\u001b[0mname\u001b[0m\u001b[0;34m,\u001b[0m\u001b[0mvalue\u001b[0m\u001b[0;34m)\u001b[0m\u001b[0;34m\u001b[0m\u001b[0;34m\u001b[0m\u001b[0m\n\u001b[0m\u001b[1;32m     50\u001b[0m \u001b[0;34m\u001b[0m\u001b[0m\n\u001b[1;32m     51\u001b[0m \u001b[0;34m\u001b[0m\u001b[0m\n",
            "\u001b[0;32m/usr/local/lib/python3.6/dist-packages/reportlab/lib/attrmap.py\u001b[0m in \u001b[0;36mvalidateSetattr\u001b[0;34m(obj, name, value)\u001b[0m\n\u001b[1;32m    113\u001b[0m                         \u001b[0;32mraise\u001b[0m \u001b[0mAttributeError\u001b[0m\u001b[0;34m(\u001b[0m\u001b[0;34m\"Illegal assignment of '%s' to '%s' in class %s\"\u001b[0m \u001b[0;34m%\u001b[0m \u001b[0;34m(\u001b[0m\u001b[0mvalue\u001b[0m\u001b[0;34m,\u001b[0m \u001b[0mname\u001b[0m\u001b[0;34m,\u001b[0m \u001b[0mobj\u001b[0m\u001b[0;34m.\u001b[0m\u001b[0m__class__\u001b[0m\u001b[0;34m.\u001b[0m\u001b[0m__name__\u001b[0m\u001b[0;34m)\u001b[0m\u001b[0;34m)\u001b[0m\u001b[0;34m\u001b[0m\u001b[0;34m\u001b[0m\u001b[0m\n\u001b[1;32m    114\u001b[0m                 \u001b[0;32mexcept\u001b[0m \u001b[0mKeyError\u001b[0m\u001b[0;34m:\u001b[0m\u001b[0;34m\u001b[0m\u001b[0;34m\u001b[0m\u001b[0m\n\u001b[0;32m--> 115\u001b[0;31m                     \u001b[0;32mraise\u001b[0m \u001b[0mAttributeError\u001b[0m\u001b[0;34m(\u001b[0m\u001b[0;34m\"Illegal attribute '%s' in class %s\"\u001b[0m \u001b[0;34m%\u001b[0m \u001b[0;34m(\u001b[0m\u001b[0mname\u001b[0m\u001b[0;34m,\u001b[0m \u001b[0mobj\u001b[0m\u001b[0;34m.\u001b[0m\u001b[0m__class__\u001b[0m\u001b[0;34m.\u001b[0m\u001b[0m__name__\u001b[0m\u001b[0;34m)\u001b[0m\u001b[0;34m)\u001b[0m\u001b[0;34m\u001b[0m\u001b[0;34m\u001b[0m\u001b[0m\n\u001b[0m\u001b[1;32m    116\u001b[0m     \u001b[0mobj\u001b[0m\u001b[0;34m.\u001b[0m\u001b[0m__dict__\u001b[0m\u001b[0;34m[\u001b[0m\u001b[0mname\u001b[0m\u001b[0;34m]\u001b[0m \u001b[0;34m=\u001b[0m \u001b[0mvalue\u001b[0m\u001b[0;34m\u001b[0m\u001b[0;34m\u001b[0m\u001b[0m\n\u001b[1;32m    117\u001b[0m \u001b[0;34m\u001b[0m\u001b[0m\n",
            "\u001b[0;31mAttributeError\u001b[0m: Illegal attribute 'labels' in class HorizontalBarChart"
          ]
        }
      ]
    },
    {
      "cell_type": "code",
      "metadata": {
        "id": "2u-EYe7mCnfo",
        "colab_type": "code",
        "colab": {}
      },
      "source": [
        "a=[(df.loc[3]['NumberOfTotalAbsences'], df.loc[3]['Average Absence']),]"
      ],
      "execution_count": 0,
      "outputs": []
    },
    {
      "cell_type": "code",
      "metadata": {
        "id": "KjsQp3pzC0Xm",
        "colab_type": "code",
        "colab": {
          "base_uri": "https://localhost:8080/",
          "height": 34
        },
        "outputId": "8a809a22-d751-4aba-d56e-cdea3cf34af2"
      },
      "source": [
        "a[0]"
      ],
      "execution_count": 200,
      "outputs": [
        {
          "output_type": "execute_result",
          "data": {
            "text/plain": [
              "(43, 14.8)"
            ]
          },
          "metadata": {
            "tags": []
          },
          "execution_count": 200
        }
      ]
    },
    {
      "cell_type": "code",
      "metadata": {
        "id": "X9D4qZkF4H9n",
        "colab_type": "code",
        "colab": {}
      },
      "source": [
        "import datetime\n",
        "from reportlab.lib.enums import TA_JUSTIFY\n",
        "from reportlab.lib.pagesizes import letter\n",
        "from reportlab.platypus import SimpleDocTemplate, Paragraph, Spacer, Image\n",
        "from reportlab.lib.styles import getSampleStyleSheet, ParagraphStyle\n",
        "from reportlab.lib.units import inch\n",
        "from reportlab.platypus import PageBreak\n",
        "from reportlab.lib.utils import ImageReader\n",
        " \n",
        "def build_a_letter(row):\n",
        "    '''\n",
        "    Input: dataframe row\n",
        "    Output: pdf file named after studentID\n",
        "    '''\n",
        "\n",
        "    #I name the pdf name after the StudentID\n",
        "    name = str(row['StudentUniqueID'])+'.pdf'\n",
        "\n",
        "    doc = SimpleDocTemplate(name, pagesize=letter,\n",
        "                        rightMargin=72,leftMargin=72,\n",
        "                        topMargin=72,bottomMargin=18)\n",
        "    Story=[]\n",
        "\n",
        "    #change later for different school\n",
        "    \n",
        "    full_name = row['FirstName']+' ' + row['LastSurname']\n",
        "    school_name = row.NameOfInstitution\n",
        "    logo = Image(links[school_name])\n",
        "    formatted_time = datetime.date.today().strftime(\"%B %d, %Y\")\n",
        "    NumberOfTotalAbsences = str(row.NumberOfTotalAbsences)\n",
        "    story = []\n",
        "    #Set the logo \n",
        "    Story.append(logo)\n",
        "     \n",
        "    styles=getSampleStyleSheet()\n",
        "    styles.add(ParagraphStyle(name='Justify', alignment=TA_JUSTIFY))\n",
        "    ptext = '<font size=12>%s</font>' % formatted_time\n",
        "     \n",
        "    Story.append(Paragraph(ptext, styles[\"Normal\"]))\n",
        "    Story.append(Spacer(1, 24))\n",
        "     \n",
        "    ptext = '<font size=12>Dear Family of %s: </font>' % (full_name)\n",
        "    Story.append(Paragraph(ptext, styles[\"Justify\"]))\n",
        "    ptext = '<font size=12>We are writing to you because <b>our records show \\\n",
        "             that your child has missed more than 10 percent of the school year\\\n",
        "              to date.</b> Please understand that all absences are seen as \\\n",
        "              unexcused until proper documentation is presented in accordance \\\n",
        "              with the school handbook .</font>'\n",
        "    Story.append(Paragraph(ptext, styles[\"Justify\"]))\n",
        "    Story.append(Spacer(1, 12))\n",
        "\n",
        "    ptext = '<font size=12>At %s, <u>we expect all students to attend school on time,\\\n",
        "     every day.</u>  Daily attendance is the first and most important step in ensuring\\\n",
        "      academic success. Our goal is to teach a sense of responsibility among students\\\n",
        "       by holding them accountable for <u>being at school regularly</u>, on time, and for the\\\n",
        "        <u>entire</u> school day. Below, you will see a comparison of how often your child \\\n",
        "        has been absent vs. average days absent for someone in the same grade.</font>' % (school_name)\n",
        "    Story.append(Paragraph(ptext, styles[\"Justify\"]))\n",
        "    Story.append(Spacer(1, 12))\n",
        "     \n",
        "     \n",
        "    ptext = '<font size=12>Because we care about your child’s success and well being, \\\n",
        "    we will follow up with you soon by phone.  We will also schedule a time for you to \\\n",
        "    come to school for a meeting, with the goal being to identify the factors contributing\\\n",
        "     to your child’s absenteeism, discuss ways we can improve your child’s attendance this \\\n",
        "     year, and commit to a plan of action together. We value home-school partnerships, and \\\n",
        "     we are eager to work with you to improve your student’s attendance.</font>'\n",
        "    Story.append(Paragraph(ptext, styles[\"Justify\"]))\n",
        "    Story.append(Spacer(1, 12))\n",
        "    ptext = '<font size=12>Please take some time to review our network attendance policy, \\\n",
        "    and reach out if you have questions or require support.  Thank you for your attention \\\n",
        "    to this matter, and thank you in advance for your partnership and a dedication to \\\n",
        "    ensuring that your child is set up for success in school.</font>'\n",
        "    Story.append(Paragraph(ptext, styles[\"Justify\"]))\n",
        "    Story.append(Spacer(1, 12))\n",
        "    ptext = '<font size=12>Sincerely,</font>'\n",
        "    Story.append(Paragraph(ptext, styles[\"Normal\"]))\n",
        "    Story.append(Spacer(1, 24))\n",
        "    ptext = '<font size=12>%s</font>'% (dnames[school_name])\n",
        "    Story.append(Paragraph(ptext, styles[\"Normal\"]))\n",
        "    ptext = '<font size=12>Director, %s</font>'% (school_name)\n",
        "    Story.append(Paragraph(ptext, styles[\"Normal\"]))\n",
        "    Story.append(PageBreak()) \n",
        "    \n",
        "    #Second page spanish version\n",
        "    Story.append(logo)\n",
        "     \n",
        "    styles=getSampleStyleSheet()\n",
        "    styles.add(ParagraphStyle(name='Justify', alignment=TA_JUSTIFY))\n",
        "    ptext = '<font size=12>%s</font>' % formatted_time\n",
        "     \n",
        "    Story.append(Paragraph(ptext, styles[\"Normal\"]))\n",
        "    Story.append(Spacer(1, 12))\n",
        "     \n",
        "\n",
        "    ptext = '<font size=12>Dear Family of %s: </font>' % (full_name)\n",
        "    Story.append(Paragraph(ptext, styles[\"Justify\"]))\n",
        "    ptext = '<font size=12>We are writing to you because <b>our records show \\\n",
        "             that your child has missed more than 10 percent of the school year\\\n",
        "              to date.</b> Please understand that all absences are seen as \\\n",
        "              unexcused until proper documentation is presented in accordance \\\n",
        "              with the school handbook .</font>'\n",
        "    Story.append(Paragraph(ptext, styles[\"Justify\"]))\n",
        "    Story.append(Spacer(1, 12))\n",
        "\n",
        "    ptext = '<font size=12>At %s, <u>we expect all students to attend school on time,\\\n",
        "     every day.</u>  Daily attendance is the first and most important step in ensuring\\\n",
        "      academic success. Our goal is to teach a sense of responsibility among students\\\n",
        "       by holding them accountable for <u>being at school regularly</u>, on time, and for the\\\n",
        "        <u>entire</u> school day. Below, you will see a comparison of how often your child \\\n",
        "        has been absent vs. average days absent for someone in the same grade.</font>' % (school_name)\n",
        "    Story.append(Paragraph(ptext, styles[\"Justify\"]))\n",
        "    Story.append(Spacer(1, 12))\n",
        "     \n",
        "     \n",
        "    ptext = '<font size=12>Because we care about your child’s success and well being, \\\n",
        "    we will follow up with you soon by phone.  We will also schedule a time for you to \\\n",
        "    come to school for a meeting, with the goal being to identify the factors contributing\\\n",
        "     to your child’s absenteeism, discuss ways we can improve your child’s attendance this \\\n",
        "     year, and commit to a plan of action together. We value home-school partnerships, and \\\n",
        "     we are eager to work with you to improve your student’s attendance.</font>'\n",
        "    Story.append(Paragraph(ptext, styles[\"Justify\"]))\n",
        "    Story.append(Spacer(1, 12))\n",
        "    ptext = '<font size=12>Please take some time to review our network attendance policy, \\\n",
        "    and reach out if you have questions or require support.  Thank you for your attention \\\n",
        "    to this matter, and thank you in advance for your partnership and a dedication to \\\n",
        "    ensuring that your child is set up for success in school.</font>'\n",
        "    Story.append(Paragraph(ptext, styles[\"Justify\"]))\n",
        "    Story.append(Spacer(1, 12))\n",
        "    ptext = '<font size=12>Sincerely,</font>'\n",
        "    Story.append(Paragraph(ptext, styles[\"Normal\"]))\n",
        "    Story.append(Spacer(1, 24))\n",
        "    ptext = '<font size=12>%s</font>'% (dnames[school_name])\n",
        "    Story.append(Paragraph(ptext, styles[\"Normal\"]))\n",
        "    ptext = '<font size=12>Director, %s</font>'% (school_name)\n",
        "    Story.append(Paragraph(ptext, styles[\"Normal\"]))\n",
        "    Story.append(PageBreak()) \n",
        "\n",
        "    #Third page barchart\n",
        "    title_style = styles['Heading1']\n",
        "    title_style.alignment = 1\n",
        "    title = Paragraph(\"Attendance Summary\", title_style)\n",
        "    Story.append(title)\n",
        "    Story.append(Spacer(1, 24))\n",
        "    pic = make_drawing(row)\n",
        "    Story.append(pic)\n",
        "\n",
        "    doc.build(Story)"
      ],
      "execution_count": 0,
      "outputs": []
    },
    {
      "cell_type": "code",
      "metadata": {
        "id": "cLxyRcU79L-a",
        "colab_type": "code",
        "outputId": "b8d550c7-34d9-4510-842f-326b98214a12",
        "colab": {
          "base_uri": "https://localhost:8080/",
          "height": 241
        }
      },
      "source": [
        "df.head()"
      ],
      "execution_count": 28,
      "outputs": [
        {
          "output_type": "execute_result",
          "data": {
            "text/html": [
              "<div>\n",
              "<style scoped>\n",
              "    .dataframe tbody tr th:only-of-type {\n",
              "        vertical-align: middle;\n",
              "    }\n",
              "\n",
              "    .dataframe tbody tr th {\n",
              "        vertical-align: top;\n",
              "    }\n",
              "\n",
              "    .dataframe thead th {\n",
              "        text-align: right;\n",
              "    }\n",
              "</style>\n",
              "<table border=\"1\" class=\"dataframe\">\n",
              "  <thead>\n",
              "    <tr style=\"text-align: right;\">\n",
              "      <th></th>\n",
              "      <th>NameOfInstitution</th>\n",
              "      <th>StudentUniqueID</th>\n",
              "      <th>LastSurname</th>\n",
              "      <th>FirstName</th>\n",
              "      <th>GradeLevel</th>\n",
              "      <th>NumberOfSchoolTardies</th>\n",
              "      <th>NumberOfTotalAbsences</th>\n",
              "      <th>Average Absence</th>\n",
              "    </tr>\n",
              "  </thead>\n",
              "  <tbody>\n",
              "    <tr>\n",
              "      <th>0</th>\n",
              "      <td>CICS Prairie</td>\n",
              "      <td>50252756</td>\n",
              "      <td>Huizar Perez</td>\n",
              "      <td>Anthony</td>\n",
              "      <td>6</td>\n",
              "      <td>0</td>\n",
              "      <td>66</td>\n",
              "      <td>14.5</td>\n",
              "    </tr>\n",
              "    <tr>\n",
              "      <th>1</th>\n",
              "      <td>CICS Bucktown</td>\n",
              "      <td>50353442</td>\n",
              "      <td>Turner</td>\n",
              "      <td>Aiden</td>\n",
              "      <td>4</td>\n",
              "      <td>0</td>\n",
              "      <td>51</td>\n",
              "      <td>12.3</td>\n",
              "    </tr>\n",
              "    <tr>\n",
              "      <th>2</th>\n",
              "      <td>DCP Harper Woods</td>\n",
              "      <td>50000275</td>\n",
              "      <td>Smith</td>\n",
              "      <td>Paris</td>\n",
              "      <td>3</td>\n",
              "      <td>15</td>\n",
              "      <td>44</td>\n",
              "      <td>14.8</td>\n",
              "    </tr>\n",
              "    <tr>\n",
              "      <th>3</th>\n",
              "      <td>DCP Harper Woods</td>\n",
              "      <td>50000072</td>\n",
              "      <td>Phillips</td>\n",
              "      <td>Brandon</td>\n",
              "      <td>4</td>\n",
              "      <td>14</td>\n",
              "      <td>43</td>\n",
              "      <td>14.8</td>\n",
              "    </tr>\n",
              "    <tr>\n",
              "      <th>4</th>\n",
              "      <td>DCP Redford</td>\n",
              "      <td>2018249</td>\n",
              "      <td>Goforth</td>\n",
              "      <td>Brian</td>\n",
              "      <td>2</td>\n",
              "      <td>4</td>\n",
              "      <td>41</td>\n",
              "      <td>16.2</td>\n",
              "    </tr>\n",
              "  </tbody>\n",
              "</table>\n",
              "</div>"
            ],
            "text/plain": [
              "  NameOfInstitution  StudentUniqueID  ... NumberOfTotalAbsences Average Absence\n",
              "0      CICS Prairie         50252756  ...                    66            14.5\n",
              "1     CICS Bucktown         50353442  ...                    51            12.3\n",
              "2  DCP Harper Woods         50000275  ...                    44            14.8\n",
              "3  DCP Harper Woods         50000072  ...                    43            14.8\n",
              "4       DCP Redford          2018249  ...                    41            16.2\n",
              "\n",
              "[5 rows x 8 columns]"
            ]
          },
          "metadata": {
            "tags": []
          },
          "execution_count": 28
        }
      ]
    }
  ]
}