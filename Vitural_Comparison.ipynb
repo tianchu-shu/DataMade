{
  "nbformat": 4,
  "nbformat_minor": 0,
  "metadata": {
    "colab": {
      "name": "Vitural_Comparison.ipynb",
      "provenance": [],
      "collapsed_sections": []
    },
    "kernelspec": {
      "name": "python3",
      "display_name": "Python 3"
    }
  },
  "cells": [
    {
      "cell_type": "code",
      "metadata": {
        "id": "_Gt5a5qYbolQ"
      },
      "source": [
        "from google.colab import drive\n",
        "import matplotlib.pyplot as plt"
      ],
      "execution_count": null,
      "outputs": []
    },
    {
      "cell_type": "markdown",
      "metadata": {
        "id": "m2f5qWO1GFkV"
      },
      "source": [
        "## Mount your Google Drive"
      ]
    },
    {
      "cell_type": "code",
      "metadata": {
        "id": "cHSYzfS9CoKF"
      },
      "source": [
        "drive.mount('/content/gdrive')"
      ],
      "execution_count": null,
      "outputs": []
    },
    {
      "cell_type": "code",
      "metadata": {
        "id": "63EAGOYVgSET",
        "colab": {
          "base_uri": "https://localhost:8080/",
          "height": 34
        },
        "outputId": "3846470f-f33a-459a-def1-2e2282d8001b"
      },
      "source": [
        "!ls /content/gdrive/My\\ Drive/"
      ],
      "execution_count": null,
      "outputs": [
        {
          "output_type": "stream",
          "text": [
            "ls: cannot access '/content/gdrive/My Drive/': No such file or directory\n"
          ],
          "name": "stdout"
        }
      ]
    },
    {
      "cell_type": "markdown",
      "metadata": {
        "id": "wVTnEqIhFfFU"
      },
      "source": [
        "# Load the Attainment Data"
      ]
    },
    {
      "cell_type": "code",
      "metadata": {
        "id": "q6Nqw2cvgDnO",
        "colab": {
          "base_uri": "https://localhost:8080/",
          "height": 323
        },
        "outputId": "9c60bf16-4973-42f7-af7f-81bbf2a389e2"
      },
      "source": [
        "import pandas as pd\n",
        "import glob, os\n",
        "\n",
        "data_dir= '/content/gdrive/My Drive/SY2020 Winter Break ADF Projects/'\n",
        "filename = 'Assessment_NWEA_SchoolLevel_2019.xlsx'\n",
        "os.chdir(data_dir)\n",
        "\n",
        "df=pd.read_excel(filename, sheet_name='Attainment', skiprows=1)\n",
        "\n",
        "print(\"Column headings:\")\n",
        "print(df.columns)\n"
      ],
      "execution_count": null,
      "outputs": [
        {
          "output_type": "stream",
          "text": [
            "Column headings:\n",
            "Index(['School ID', 'School Name', 'Network', 'Subject', 'Grade',\n",
            "       ' # Students', 'Average RIT Score',\n",
            "       ' % At/Above National Average Performance',\n",
            "       'National School Attainment Percentile', ' # Students.1',\n",
            "       'Average RIT Score.1', ' % At/Above National Average Performance.1',\n",
            "       'National School Attainment Percentile.1', ' # Students.2',\n",
            "       'Average RIT Score.2', ' % At/Above National Average Performance.2',\n",
            "       'National School Attainment Percentile.2', ' # Students.3',\n",
            "       'Average RIT Score.3', ' % At/Above National Average Performance.3',\n",
            "       'National School Attainment Percentile.3', ' # Students.4',\n",
            "       'Average RIT Score.4', ' % At/Above National Average Performance.4',\n",
            "       'National School Attainment Percentile.4', ' # Students.5',\n",
            "       'Average RIT Score.5', ' % At/Above National Average Performance.5',\n",
            "       'National School Attainment Percentile.5', ' # Students.6',\n",
            "       'Average RIT Score.6', ' % At/Above National Average Performance.6',\n",
            "       'National School Attainment Percentile.6'],\n",
            "      dtype='object')\n"
          ],
          "name": "stdout"
        }
      ]
    },
    {
      "cell_type": "code",
      "metadata": {
        "id": "wVK2ZOFpEF-y",
        "colab": {
          "base_uri": "https://localhost:8080/",
          "height": 34
        },
        "outputId": "efa3279c-2b11-4259-a54f-0e1374c02880"
      },
      "source": [
        "print(\"Loaded data has shape {}\".format(df.shape))"
      ],
      "execution_count": null,
      "outputs": [
        {
          "output_type": "stream",
          "text": [
            "Loaded data has shape (8653, 33)\n"
          ],
          "name": "stdout"
        }
      ]
    },
    {
      "cell_type": "code",
      "metadata": {
        "id": "amO7-oTPunM6",
        "colab": {
          "base_uri": "https://localhost:8080/",
          "height": 360
        },
        "outputId": "00b08436-f4da-48b2-8433-4d32ad462159"
      },
      "source": [
        "df.head()"
      ],
      "execution_count": null,
      "outputs": [
        {
          "output_type": "execute_result",
          "data": {
            "text/html": [
              "<div>\n",
              "<style scoped>\n",
              "    .dataframe tbody tr th:only-of-type {\n",
              "        vertical-align: middle;\n",
              "    }\n",
              "\n",
              "    .dataframe tbody tr th {\n",
              "        vertical-align: top;\n",
              "    }\n",
              "\n",
              "    .dataframe thead th {\n",
              "        text-align: right;\n",
              "    }\n",
              "</style>\n",
              "<table border=\"1\" class=\"dataframe\">\n",
              "  <thead>\n",
              "    <tr style=\"text-align: right;\">\n",
              "      <th></th>\n",
              "      <th>School ID</th>\n",
              "      <th>School Name</th>\n",
              "      <th>Network</th>\n",
              "      <th>Subject</th>\n",
              "      <th>Grade</th>\n",
              "      <th># Students</th>\n",
              "      <th>Average RIT Score</th>\n",
              "      <th>% At/Above National Average Performance</th>\n",
              "      <th>National School Attainment Percentile</th>\n",
              "      <th># Students.1</th>\n",
              "      <th>Average RIT Score.1</th>\n",
              "      <th>% At/Above National Average Performance.1</th>\n",
              "      <th>National School Attainment Percentile.1</th>\n",
              "      <th># Students.2</th>\n",
              "      <th>Average RIT Score.2</th>\n",
              "      <th>% At/Above National Average Performance.2</th>\n",
              "      <th>National School Attainment Percentile.2</th>\n",
              "      <th># Students.3</th>\n",
              "      <th>Average RIT Score.3</th>\n",
              "      <th>% At/Above National Average Performance.3</th>\n",
              "      <th>National School Attainment Percentile.3</th>\n",
              "      <th># Students.4</th>\n",
              "      <th>Average RIT Score.4</th>\n",
              "      <th>% At/Above National Average Performance.4</th>\n",
              "      <th>National School Attainment Percentile.4</th>\n",
              "      <th># Students.5</th>\n",
              "      <th>Average RIT Score.5</th>\n",
              "      <th>% At/Above National Average Performance.5</th>\n",
              "      <th>National School Attainment Percentile.5</th>\n",
              "      <th># Students.6</th>\n",
              "      <th>Average RIT Score.6</th>\n",
              "      <th>% At/Above National Average Performance.6</th>\n",
              "      <th>National School Attainment Percentile.6</th>\n",
              "    </tr>\n",
              "  </thead>\n",
              "  <tbody>\n",
              "    <tr>\n",
              "      <th>0</th>\n",
              "      <td>400009</td>\n",
              "      <td>GLOBAL CITIZENSHIP</td>\n",
              "      <td>Charter</td>\n",
              "      <td>READING</td>\n",
              "      <td>Grade 2</td>\n",
              "      <td>NaN</td>\n",
              "      <td>NaN</td>\n",
              "      <td>NaN</td>\n",
              "      <td>NaN</td>\n",
              "      <td>NaN</td>\n",
              "      <td>NaN</td>\n",
              "      <td>NaN</td>\n",
              "      <td>NaN</td>\n",
              "      <td>33.0</td>\n",
              "      <td>194.1</td>\n",
              "      <td>72.7</td>\n",
              "      <td>90.0</td>\n",
              "      <td>40.0</td>\n",
              "      <td>190.0</td>\n",
              "      <td>62.5</td>\n",
              "      <td>58.0</td>\n",
              "      <td>34.0</td>\n",
              "      <td>180.3</td>\n",
              "      <td>32.4</td>\n",
              "      <td>11.0</td>\n",
              "      <td>29.0</td>\n",
              "      <td>186.2</td>\n",
              "      <td>48.3</td>\n",
              "      <td>36.0</td>\n",
              "      <td>41.0</td>\n",
              "      <td>181.5</td>\n",
              "      <td>24.4</td>\n",
              "      <td>14.0</td>\n",
              "    </tr>\n",
              "    <tr>\n",
              "      <th>1</th>\n",
              "      <td>400009</td>\n",
              "      <td>GLOBAL CITIZENSHIP</td>\n",
              "      <td>Charter</td>\n",
              "      <td>READING</td>\n",
              "      <td>Grade 3</td>\n",
              "      <td>NaN</td>\n",
              "      <td>NaN</td>\n",
              "      <td>NaN</td>\n",
              "      <td>NaN</td>\n",
              "      <td>45.0</td>\n",
              "      <td>195.7</td>\n",
              "      <td>44.4</td>\n",
              "      <td>35.0</td>\n",
              "      <td>44.0</td>\n",
              "      <td>198.0</td>\n",
              "      <td>50.0</td>\n",
              "      <td>51.0</td>\n",
              "      <td>43.0</td>\n",
              "      <td>195.3</td>\n",
              "      <td>34.9</td>\n",
              "      <td>31.0</td>\n",
              "      <td>40.0</td>\n",
              "      <td>206.3</td>\n",
              "      <td>82.5</td>\n",
              "      <td>88.0</td>\n",
              "      <td>40.0</td>\n",
              "      <td>197.8</td>\n",
              "      <td>55.0</td>\n",
              "      <td>45.0</td>\n",
              "      <td>34.0</td>\n",
              "      <td>201.9</td>\n",
              "      <td>67.6</td>\n",
              "      <td>69.0</td>\n",
              "    </tr>\n",
              "    <tr>\n",
              "      <th>2</th>\n",
              "      <td>400009</td>\n",
              "      <td>GLOBAL CITIZENSHIP</td>\n",
              "      <td>Charter</td>\n",
              "      <td>READING</td>\n",
              "      <td>Grade 4</td>\n",
              "      <td>NaN</td>\n",
              "      <td>NaN</td>\n",
              "      <td>NaN</td>\n",
              "      <td>NaN</td>\n",
              "      <td>48.0</td>\n",
              "      <td>201.0</td>\n",
              "      <td>37.5</td>\n",
              "      <td>25.0</td>\n",
              "      <td>46.0</td>\n",
              "      <td>206.5</td>\n",
              "      <td>45.7</td>\n",
              "      <td>64.0</td>\n",
              "      <td>47.0</td>\n",
              "      <td>203.2</td>\n",
              "      <td>44.7</td>\n",
              "      <td>34.0</td>\n",
              "      <td>49.0</td>\n",
              "      <td>207.3</td>\n",
              "      <td>55.1</td>\n",
              "      <td>59.0</td>\n",
              "      <td>42.0</td>\n",
              "      <td>208.4</td>\n",
              "      <td>54.8</td>\n",
              "      <td>65.0</td>\n",
              "      <td>49.0</td>\n",
              "      <td>199.6</td>\n",
              "      <td>38.8</td>\n",
              "      <td>17.0</td>\n",
              "    </tr>\n",
              "    <tr>\n",
              "      <th>3</th>\n",
              "      <td>400009</td>\n",
              "      <td>GLOBAL CITIZENSHIP</td>\n",
              "      <td>Charter</td>\n",
              "      <td>READING</td>\n",
              "      <td>Grade 5</td>\n",
              "      <td>NaN</td>\n",
              "      <td>NaN</td>\n",
              "      <td>NaN</td>\n",
              "      <td>NaN</td>\n",
              "      <td>48.0</td>\n",
              "      <td>201.3</td>\n",
              "      <td>27.1</td>\n",
              "      <td>5.0</td>\n",
              "      <td>47.0</td>\n",
              "      <td>211.0</td>\n",
              "      <td>44.7</td>\n",
              "      <td>49.0</td>\n",
              "      <td>46.0</td>\n",
              "      <td>210.7</td>\n",
              "      <td>47.8</td>\n",
              "      <td>43.0</td>\n",
              "      <td>47.0</td>\n",
              "      <td>212.1</td>\n",
              "      <td>48.9</td>\n",
              "      <td>52.0</td>\n",
              "      <td>46.0</td>\n",
              "      <td>212.7</td>\n",
              "      <td>56.5</td>\n",
              "      <td>56.0</td>\n",
              "      <td>46.0</td>\n",
              "      <td>211.4</td>\n",
              "      <td>47.8</td>\n",
              "      <td>47.0</td>\n",
              "    </tr>\n",
              "    <tr>\n",
              "      <th>4</th>\n",
              "      <td>400009</td>\n",
              "      <td>GLOBAL CITIZENSHIP</td>\n",
              "      <td>Charter</td>\n",
              "      <td>READING</td>\n",
              "      <td>Grade 6</td>\n",
              "      <td>NaN</td>\n",
              "      <td>NaN</td>\n",
              "      <td>NaN</td>\n",
              "      <td>NaN</td>\n",
              "      <td>49.0</td>\n",
              "      <td>212.9</td>\n",
              "      <td>42.9</td>\n",
              "      <td>31.0</td>\n",
              "      <td>48.0</td>\n",
              "      <td>216.0</td>\n",
              "      <td>54.2</td>\n",
              "      <td>53.0</td>\n",
              "      <td>49.0</td>\n",
              "      <td>218.0</td>\n",
              "      <td>59.2</td>\n",
              "      <td>63.0</td>\n",
              "      <td>43.0</td>\n",
              "      <td>219.0</td>\n",
              "      <td>55.8</td>\n",
              "      <td>69.0</td>\n",
              "      <td>46.0</td>\n",
              "      <td>219.5</td>\n",
              "      <td>65.2</td>\n",
              "      <td>72.0</td>\n",
              "      <td>45.0</td>\n",
              "      <td>218.8</td>\n",
              "      <td>66.7</td>\n",
              "      <td>68.0</td>\n",
              "    </tr>\n",
              "  </tbody>\n",
              "</table>\n",
              "</div>"
            ],
            "text/plain": [
              "   School ID  ... National School Attainment Percentile.6\n",
              "0     400009  ...                                    14.0\n",
              "1     400009  ...                                    69.0\n",
              "2     400009  ...                                    17.0\n",
              "3     400009  ...                                    47.0\n",
              "4     400009  ...                                    68.0\n",
              "\n",
              "[5 rows x 33 columns]"
            ]
          },
          "metadata": {
            "tags": []
          },
          "execution_count": 8
        }
      ]
    },
    {
      "cell_type": "code",
      "metadata": {
        "id": "1ZZ227noAlMf"
      },
      "source": [
        "#Filter the grade level with only aggregated rows\n",
        "df = df[(df.Grade == 'Grades 2-8 Combined') | (df.Grade == 'Grades 3-8 Combined')]"
      ],
      "execution_count": null,
      "outputs": []
    },
    {
      "cell_type": "code",
      "metadata": {
        "id": "g5HPk3lUBQ5P",
        "colab": {
          "base_uri": "https://localhost:8080/",
          "height": 34
        },
        "outputId": "c41d31e4-551a-42f6-e6a4-fc88e649d7bb"
      },
      "source": [
        "print(\"Loaded data has shape {}\".format(df.shape))"
      ],
      "execution_count": null,
      "outputs": [
        {
          "output_type": "stream",
          "text": [
            "Loaded data has shape (2056, 33)\n"
          ],
          "name": "stdout"
        }
      ]
    },
    {
      "cell_type": "markdown",
      "metadata": {
        "id": "vZIeItsymV8q"
      },
      "source": [
        "# Slice & Concate"
      ]
    },
    {
      "cell_type": "code",
      "metadata": {
        "id": "HPJ7HLpZW3Se"
      },
      "source": [
        "import numpy as np\n",
        "import pandas as pd\n",
        "import matplotlib.pyplot as plt\n",
        "import seaborn as sns"
      ],
      "execution_count": null,
      "outputs": []
    },
    {
      "cell_type": "code",
      "metadata": {
        "id": "-uZ0holf9r6h"
      },
      "source": [
        "Years = ['SY2013','SY2014','SY2015','SY2016','SY2017','SY2018','SY2019']"
      ],
      "execution_count": null,
      "outputs": []
    },
    {
      "cell_type": "code",
      "metadata": {
        "id": "40rYh5mU81W5"
      },
      "source": [
        "dfs = []\n",
        "for i in range(len(Years)):\n",
        "    x = i*4 + 5 \n",
        "    new = df.iloc[:, np.r_[0:5, x:x+4]]\n",
        "    new = new.dropna(thresh=9)\n",
        "    \n",
        "    new.head()\n",
        "    # After renaming the columns \n",
        "    new.columns =['ZonedID', 'SchoolName', 'Network', 'Subject', 'Grade','Students','AverageRIT', 'PercentAchieving', 'AchievementPercentile']\n",
        "    new['AcademicYear'] = Years[i]\n",
        "    dfs.append(new)\n",
        "\n",
        "# Concatenate all data into one DataFrame\n",
        "attainment = pd.concat(dfs, ignore_index=True)"
      ],
      "execution_count": null,
      "outputs": []
    },
    {
      "cell_type": "code",
      "metadata": {
        "id": "0kJcmZjSP-hJ"
      },
      "source": [
        "#Divide by 100  so that it shows as a decimal\n",
        "attainment.PercentAchieving = attainment.PercentAchieving/100"
      ],
      "execution_count": null,
      "outputs": []
    },
    {
      "cell_type": "code",
      "metadata": {
        "id": "UEBL5azumDLs",
        "colab": {
          "base_uri": "https://localhost:8080/",
          "height": 394
        },
        "outputId": "35942534-c2a5-4d62-bb5e-c173c7708148"
      },
      "source": [
        "attainment.tail()"
      ],
      "execution_count": null,
      "outputs": [
        {
          "output_type": "execute_result",
          "data": {
            "text/html": [
              "<div>\n",
              "<style scoped>\n",
              "    .dataframe tbody tr th:only-of-type {\n",
              "        vertical-align: middle;\n",
              "    }\n",
              "\n",
              "    .dataframe tbody tr th {\n",
              "        vertical-align: top;\n",
              "    }\n",
              "\n",
              "    .dataframe thead th {\n",
              "        text-align: right;\n",
              "    }\n",
              "</style>\n",
              "<table border=\"1\" class=\"dataframe\">\n",
              "  <thead>\n",
              "    <tr style=\"text-align: right;\">\n",
              "      <th></th>\n",
              "      <th>ZonedID</th>\n",
              "      <th>SchoolName</th>\n",
              "      <th>Network</th>\n",
              "      <th>Subject</th>\n",
              "      <th>Grade</th>\n",
              "      <th>Students</th>\n",
              "      <th>AverageRIT</th>\n",
              "      <th>PercentAchieving</th>\n",
              "      <th>AchievementPercentile</th>\n",
              "      <th>AcademicYear</th>\n",
              "    </tr>\n",
              "  </thead>\n",
              "  <tbody>\n",
              "    <tr>\n",
              "      <th>9798</th>\n",
              "      <td>610588</td>\n",
              "      <td>RICHARDSON</td>\n",
              "      <td>Network 10</td>\n",
              "      <td>MATH</td>\n",
              "      <td>Grades 2-8 Combined</td>\n",
              "      <td>964.0</td>\n",
              "      <td>227.5</td>\n",
              "      <td>0.531</td>\n",
              "      <td>55.0</td>\n",
              "      <td>SY2019</td>\n",
              "    </tr>\n",
              "    <tr>\n",
              "      <th>9799</th>\n",
              "      <td>610589</td>\n",
              "      <td>SOR JUANA</td>\n",
              "      <td>Network 8</td>\n",
              "      <td>READING</td>\n",
              "      <td>Grades 2-8 Combined</td>\n",
              "      <td>29.0</td>\n",
              "      <td>194.7</td>\n",
              "      <td>0.724</td>\n",
              "      <td>81.0</td>\n",
              "      <td>SY2019</td>\n",
              "    </tr>\n",
              "    <tr>\n",
              "      <th>9800</th>\n",
              "      <td>610589</td>\n",
              "      <td>SOR JUANA</td>\n",
              "      <td>Network 8</td>\n",
              "      <td>MATH</td>\n",
              "      <td>Grades 2-8 Combined</td>\n",
              "      <td>29.0</td>\n",
              "      <td>200.7</td>\n",
              "      <td>0.793</td>\n",
              "      <td>91.0</td>\n",
              "      <td>SY2019</td>\n",
              "    </tr>\n",
              "    <tr>\n",
              "      <th>9801</th>\n",
              "      <td>610590</td>\n",
              "      <td>BRONZEVILLE CLASSICAL</td>\n",
              "      <td>Network 9</td>\n",
              "      <td>READING</td>\n",
              "      <td>Grades 2-8 Combined</td>\n",
              "      <td>37.0</td>\n",
              "      <td>206.7</td>\n",
              "      <td>0.973</td>\n",
              "      <td>99.0</td>\n",
              "      <td>SY2019</td>\n",
              "    </tr>\n",
              "    <tr>\n",
              "      <th>9802</th>\n",
              "      <td>610590</td>\n",
              "      <td>BRONZEVILLE CLASSICAL</td>\n",
              "      <td>Network 9</td>\n",
              "      <td>MATH</td>\n",
              "      <td>Grades 2-8 Combined</td>\n",
              "      <td>37.0</td>\n",
              "      <td>211.3</td>\n",
              "      <td>0.973</td>\n",
              "      <td>99.0</td>\n",
              "      <td>SY2019</td>\n",
              "    </tr>\n",
              "  </tbody>\n",
              "</table>\n",
              "</div>"
            ],
            "text/plain": [
              "      ZonedID             SchoolName  ... AchievementPercentile AcademicYear\n",
              "9798   610588             RICHARDSON  ...                  55.0       SY2019\n",
              "9799   610589              SOR JUANA  ...                  81.0       SY2019\n",
              "9800   610589              SOR JUANA  ...                  91.0       SY2019\n",
              "9801   610590  BRONZEVILLE CLASSICAL  ...                  99.0       SY2019\n",
              "9802   610590  BRONZEVILLE CLASSICAL  ...                  99.0       SY2019\n",
              "\n",
              "[5 rows x 10 columns]"
            ]
          },
          "metadata": {
            "tags": []
          },
          "execution_count": 15
        }
      ]
    },
    {
      "cell_type": "code",
      "metadata": {
        "id": "yA7F0MZpE3TL",
        "colab": {
          "base_uri": "https://localhost:8080/",
          "height": 453
        },
        "outputId": "31ef4f48-a10b-45db-fc83-0bef135001b7"
      },
      "source": [
        "# Lets look at some stats shall we?\n",
        "display(attainment.describe())\n",
        "display(attainment.describe(include=['O']))"
      ],
      "execution_count": null,
      "outputs": [
        {
          "output_type": "display_data",
          "data": {
            "text/html": [
              "<div>\n",
              "<style scoped>\n",
              "    .dataframe tbody tr th:only-of-type {\n",
              "        vertical-align: middle;\n",
              "    }\n",
              "\n",
              "    .dataframe tbody tr th {\n",
              "        vertical-align: top;\n",
              "    }\n",
              "\n",
              "    .dataframe thead th {\n",
              "        text-align: right;\n",
              "    }\n",
              "</style>\n",
              "<table border=\"1\" class=\"dataframe\">\n",
              "  <thead>\n",
              "    <tr style=\"text-align: right;\">\n",
              "      <th></th>\n",
              "      <th>ZonedID</th>\n",
              "      <th>Students</th>\n",
              "      <th>AverageRIT</th>\n",
              "      <th>PercentAchieving</th>\n",
              "      <th>AchievementPercentile</th>\n",
              "    </tr>\n",
              "  </thead>\n",
              "  <tbody>\n",
              "    <tr>\n",
              "      <th>count</th>\n",
              "      <td>9803.000000</td>\n",
              "      <td>9803.000000</td>\n",
              "      <td>9803.000000</td>\n",
              "      <td>9803.000000</td>\n",
              "      <td>9803.000000</td>\n",
              "    </tr>\n",
              "    <tr>\n",
              "      <th>mean</th>\n",
              "      <td>583266.517801</td>\n",
              "      <td>336.077425</td>\n",
              "      <td>213.559849</td>\n",
              "      <td>0.518562</td>\n",
              "      <td>48.949199</td>\n",
              "    </tr>\n",
              "    <tr>\n",
              "      <th>std</th>\n",
              "      <td>70068.975144</td>\n",
              "      <td>177.934671</td>\n",
              "      <td>9.378332</td>\n",
              "      <td>0.185900</td>\n",
              "      <td>30.164817</td>\n",
              "    </tr>\n",
              "    <tr>\n",
              "      <th>min</th>\n",
              "      <td>400009.000000</td>\n",
              "      <td>14.000000</td>\n",
              "      <td>173.200000</td>\n",
              "      <td>0.000000</td>\n",
              "      <td>1.000000</td>\n",
              "    </tr>\n",
              "    <tr>\n",
              "      <th>25%</th>\n",
              "      <td>609845.000000</td>\n",
              "      <td>209.000000</td>\n",
              "      <td>207.400000</td>\n",
              "      <td>0.384000</td>\n",
              "      <td>23.000000</td>\n",
              "    </tr>\n",
              "    <tr>\n",
              "      <th>50%</th>\n",
              "      <td>610012.000000</td>\n",
              "      <td>298.000000</td>\n",
              "      <td>213.000000</td>\n",
              "      <td>0.507000</td>\n",
              "      <td>48.000000</td>\n",
              "    </tr>\n",
              "    <tr>\n",
              "      <th>75%</th>\n",
              "      <td>610176.000000</td>\n",
              "      <td>420.000000</td>\n",
              "      <td>219.000000</td>\n",
              "      <td>0.643000</td>\n",
              "      <td>75.000000</td>\n",
              "    </tr>\n",
              "    <tr>\n",
              "      <th>max</th>\n",
              "      <td>610590.000000</td>\n",
              "      <td>1228.000000</td>\n",
              "      <td>273.900000</td>\n",
              "      <td>1.000000</td>\n",
              "      <td>99.000000</td>\n",
              "    </tr>\n",
              "  </tbody>\n",
              "</table>\n",
              "</div>"
            ],
            "text/plain": [
              "             ZonedID     Students  ...  PercentAchieving  AchievementPercentile\n",
              "count    9803.000000  9803.000000  ...       9803.000000            9803.000000\n",
              "mean   583266.517801   336.077425  ...          0.518562              48.949199\n",
              "std     70068.975144   177.934671  ...          0.185900              30.164817\n",
              "min    400009.000000    14.000000  ...          0.000000               1.000000\n",
              "25%    609845.000000   209.000000  ...          0.384000              23.000000\n",
              "50%    610012.000000   298.000000  ...          0.507000              48.000000\n",
              "75%    610176.000000   420.000000  ...          0.643000              75.000000\n",
              "max    610590.000000  1228.000000  ...          1.000000              99.000000\n",
              "\n",
              "[8 rows x 5 columns]"
            ]
          },
          "metadata": {
            "tags": []
          }
        },
        {
          "output_type": "display_data",
          "data": {
            "text/html": [
              "<div>\n",
              "<style scoped>\n",
              "    .dataframe tbody tr th:only-of-type {\n",
              "        vertical-align: middle;\n",
              "    }\n",
              "\n",
              "    .dataframe tbody tr th {\n",
              "        vertical-align: top;\n",
              "    }\n",
              "\n",
              "    .dataframe thead th {\n",
              "        text-align: right;\n",
              "    }\n",
              "</style>\n",
              "<table border=\"1\" class=\"dataframe\">\n",
              "  <thead>\n",
              "    <tr style=\"text-align: right;\">\n",
              "      <th></th>\n",
              "      <th>SchoolName</th>\n",
              "      <th>Network</th>\n",
              "      <th>Subject</th>\n",
              "      <th>Grade</th>\n",
              "      <th>AcademicYear</th>\n",
              "    </tr>\n",
              "  </thead>\n",
              "  <tbody>\n",
              "    <tr>\n",
              "      <th>count</th>\n",
              "      <td>9803</td>\n",
              "      <td>9803</td>\n",
              "      <td>9803</td>\n",
              "      <td>9803</td>\n",
              "      <td>9803</td>\n",
              "    </tr>\n",
              "    <tr>\n",
              "      <th>unique</th>\n",
              "      <td>514</td>\n",
              "      <td>21</td>\n",
              "      <td>2</td>\n",
              "      <td>2</td>\n",
              "      <td>7</td>\n",
              "    </tr>\n",
              "    <tr>\n",
              "      <th>top</th>\n",
              "      <td>DISNEY II ES</td>\n",
              "      <td>ISP</td>\n",
              "      <td>READING</td>\n",
              "      <td>Grades 2-8 Combined</td>\n",
              "      <td>SY2015</td>\n",
              "    </tr>\n",
              "    <tr>\n",
              "      <th>freq</th>\n",
              "      <td>40</td>\n",
              "      <td>1438</td>\n",
              "      <td>4902</td>\n",
              "      <td>6894</td>\n",
              "      <td>2002</td>\n",
              "    </tr>\n",
              "  </tbody>\n",
              "</table>\n",
              "</div>"
            ],
            "text/plain": [
              "          SchoolName Network  Subject                Grade AcademicYear\n",
              "count           9803    9803     9803                 9803         9803\n",
              "unique           514      21        2                    2            7\n",
              "top     DISNEY II ES     ISP  READING  Grades 2-8 Combined       SY2015\n",
              "freq              40    1438     4902                 6894         2002"
            ]
          },
          "metadata": {
            "tags": []
          }
        }
      ]
    },
    {
      "cell_type": "code",
      "metadata": {
        "id": "tv_LxvuiSAPn"
      },
      "source": [
        "#export to csv\n",
        "attainment.to_csv( \"/content/gdrive/My Drive/SY2020 Winter Break ADF Projects/attainment.csv\", index=False, encoding='utf-8-sig')"
      ],
      "execution_count": null,
      "outputs": []
    },
    {
      "cell_type": "markdown",
      "metadata": {
        "id": "nw95HCJLGJKi"
      },
      "source": [
        "# Load the Growth Data\n"
      ]
    },
    {
      "cell_type": "code",
      "metadata": {
        "id": "GwZsZZ2wGN-5",
        "colab": {
          "base_uri": "https://localhost:8080/",
          "height": 374
        },
        "outputId": "9622af9c-0754-443c-aaa0-23e828923fd4"
      },
      "source": [
        "df=pd.read_excel(filename, sheet_name='Growth', skiprows=1)\n",
        "\n",
        "print(\"Column headings:\")\n",
        "print(df.columns)\n"
      ],
      "execution_count": null,
      "outputs": [
        {
          "output_type": "stream",
          "text": [
            "Column headings:\n",
            "Index(['School ID', 'School Name', 'Network', 'Subject', 'Grade', '# Tested',\n",
            "       'Average Pretest RIT Score', 'Average Posttest RIT Score ',\n",
            "       'Average RIT Growth', '% Students Making National Average Growth',\n",
            "       'National School Growth Percentile', '# Tested.1',\n",
            "       'Average Pretest RIT Score.1', 'Average Posttest RIT Score .1',\n",
            "       'Average RIT Growth.1', '% Students Making National Average Growth.1',\n",
            "       'National School Growth Percentile.1', '# Tested.2',\n",
            "       'Average Pretest RIT Score.2', 'Average Posttest RIT Score .2',\n",
            "       'Average RIT Growth.2', '% Students Making National Average Growth.2',\n",
            "       'National School Growth Percentile.2', '# Tested.3',\n",
            "       'Average Pretest RIT Score.3', 'Average Posttest RIT Score .3',\n",
            "       'Average RIT Growth.3', '% Students Making National Average Growth.3',\n",
            "       'National School Growth Percentile.3', '# Tested.4',\n",
            "       'Average Pretest RIT Score.4', 'Average Posttest RIT Score .4',\n",
            "       'Average RIT Growth.4', '% Students Making National Average Growth.4',\n",
            "       'National School Growth Percentile.4', '# Tested.5',\n",
            "       'Average Pretest RIT Score.5', 'Average Posttest RIT Score .5',\n",
            "       'Average RIT Growth.5', '% Students Making National Average Growth.5',\n",
            "       'National School Growth Percentile.5'],\n",
            "      dtype='object')\n"
          ],
          "name": "stdout"
        }
      ]
    },
    {
      "cell_type": "code",
      "metadata": {
        "id": "V_jImVUwCBZ4",
        "colab": {
          "base_uri": "https://localhost:8080/",
          "height": 51
        },
        "outputId": "54a399b1-7e13-4e4d-fb7f-efef30c6de43"
      },
      "source": [
        "df.Grade.unique()"
      ],
      "execution_count": null,
      "outputs": [
        {
          "output_type": "execute_result",
          "data": {
            "text/plain": [
              "array(['Grade 3', 'Grade 4', 'Grade 5', 'Grade 6', 'Grade 7', 'Grade 8',\n",
              "       'Grades 3-8 Combined'], dtype=object)"
            ]
          },
          "metadata": {
            "tags": []
          },
          "execution_count": 19
        }
      ]
    },
    {
      "cell_type": "code",
      "metadata": {
        "id": "A0bQtPNfGUes",
        "colab": {
          "base_uri": "https://localhost:8080/",
          "height": 34
        },
        "outputId": "4bba5315-11d6-47f6-a314-f3496f33deb0"
      },
      "source": [
        "print(\"Loaded data has shape {}\".format(df.shape))"
      ],
      "execution_count": null,
      "outputs": [
        {
          "output_type": "stream",
          "text": [
            "Loaded data has shape (6681, 41)\n"
          ],
          "name": "stdout"
        }
      ]
    },
    {
      "cell_type": "code",
      "metadata": {
        "id": "XN2JhliEH-7V",
        "colab": {
          "base_uri": "https://localhost:8080/",
          "height": 394
        },
        "outputId": "c4059dc0-73f2-47e6-cd40-15d4ab7c26e1"
      },
      "source": [
        "df.head()"
      ],
      "execution_count": null,
      "outputs": [
        {
          "output_type": "execute_result",
          "data": {
            "text/html": [
              "<div>\n",
              "<style scoped>\n",
              "    .dataframe tbody tr th:only-of-type {\n",
              "        vertical-align: middle;\n",
              "    }\n",
              "\n",
              "    .dataframe tbody tr th {\n",
              "        vertical-align: top;\n",
              "    }\n",
              "\n",
              "    .dataframe thead th {\n",
              "        text-align: right;\n",
              "    }\n",
              "</style>\n",
              "<table border=\"1\" class=\"dataframe\">\n",
              "  <thead>\n",
              "    <tr style=\"text-align: right;\">\n",
              "      <th></th>\n",
              "      <th>School ID</th>\n",
              "      <th>School Name</th>\n",
              "      <th>Network</th>\n",
              "      <th>Subject</th>\n",
              "      <th>Grade</th>\n",
              "      <th># Tested</th>\n",
              "      <th>Average Pretest RIT Score</th>\n",
              "      <th>Average Posttest RIT Score</th>\n",
              "      <th>Average RIT Growth</th>\n",
              "      <th>% Students Making National Average Growth</th>\n",
              "      <th>National School Growth Percentile</th>\n",
              "      <th># Tested.1</th>\n",
              "      <th>Average Pretest RIT Score.1</th>\n",
              "      <th>Average Posttest RIT Score .1</th>\n",
              "      <th>Average RIT Growth.1</th>\n",
              "      <th>% Students Making National Average Growth.1</th>\n",
              "      <th>National School Growth Percentile.1</th>\n",
              "      <th># Tested.2</th>\n",
              "      <th>Average Pretest RIT Score.2</th>\n",
              "      <th>Average Posttest RIT Score .2</th>\n",
              "      <th>Average RIT Growth.2</th>\n",
              "      <th>% Students Making National Average Growth.2</th>\n",
              "      <th>National School Growth Percentile.2</th>\n",
              "      <th># Tested.3</th>\n",
              "      <th>Average Pretest RIT Score.3</th>\n",
              "      <th>Average Posttest RIT Score .3</th>\n",
              "      <th>Average RIT Growth.3</th>\n",
              "      <th>% Students Making National Average Growth.3</th>\n",
              "      <th>National School Growth Percentile.3</th>\n",
              "      <th># Tested.4</th>\n",
              "      <th>Average Pretest RIT Score.4</th>\n",
              "      <th>Average Posttest RIT Score .4</th>\n",
              "      <th>Average RIT Growth.4</th>\n",
              "      <th>% Students Making National Average Growth.4</th>\n",
              "      <th>National School Growth Percentile.4</th>\n",
              "      <th># Tested.5</th>\n",
              "      <th>Average Pretest RIT Score.5</th>\n",
              "      <th>Average Posttest RIT Score .5</th>\n",
              "      <th>Average RIT Growth.5</th>\n",
              "      <th>% Students Making National Average Growth.5</th>\n",
              "      <th>National School Growth Percentile.5</th>\n",
              "    </tr>\n",
              "  </thead>\n",
              "  <tbody>\n",
              "    <tr>\n",
              "      <th>0</th>\n",
              "      <td>400009</td>\n",
              "      <td>GLOBAL CITIZENSHIP</td>\n",
              "      <td>Charter</td>\n",
              "      <td>READING</td>\n",
              "      <td>Grade 3</td>\n",
              "      <td>25.0</td>\n",
              "      <td>193.7</td>\n",
              "      <td>199.5</td>\n",
              "      <td>5.8</td>\n",
              "      <td>36.0</td>\n",
              "      <td>2.0</td>\n",
              "      <td>42.0</td>\n",
              "      <td>190.8</td>\n",
              "      <td>198.3</td>\n",
              "      <td>7.5</td>\n",
              "      <td>38.1</td>\n",
              "      <td>7.0</td>\n",
              "      <td>35.0</td>\n",
              "      <td>193.4</td>\n",
              "      <td>196.4</td>\n",
              "      <td>3.0</td>\n",
              "      <td>17.1</td>\n",
              "      <td>1.0</td>\n",
              "      <td>36.0</td>\n",
              "      <td>190.7</td>\n",
              "      <td>207.4</td>\n",
              "      <td>16.7</td>\n",
              "      <td>80.6</td>\n",
              "      <td>99.0</td>\n",
              "      <td>31.0</td>\n",
              "      <td>180.0</td>\n",
              "      <td>198.3</td>\n",
              "      <td>18.3</td>\n",
              "      <td>74.2</td>\n",
              "      <td>99.0</td>\n",
              "      <td>30.0</td>\n",
              "      <td>184.9</td>\n",
              "      <td>202.7</td>\n",
              "      <td>17.8</td>\n",
              "      <td>83.3</td>\n",
              "      <td>99.0</td>\n",
              "    </tr>\n",
              "    <tr>\n",
              "      <th>1</th>\n",
              "      <td>400009</td>\n",
              "      <td>GLOBAL CITIZENSHIP</td>\n",
              "      <td>Charter</td>\n",
              "      <td>READING</td>\n",
              "      <td>Grade 4</td>\n",
              "      <td>40.0</td>\n",
              "      <td>198.1</td>\n",
              "      <td>203.1</td>\n",
              "      <td>5.0</td>\n",
              "      <td>37.5</td>\n",
              "      <td>5.0</td>\n",
              "      <td>45.0</td>\n",
              "      <td>196.0</td>\n",
              "      <td>206.5</td>\n",
              "      <td>10.5</td>\n",
              "      <td>57.8</td>\n",
              "      <td>82.0</td>\n",
              "      <td>43.0</td>\n",
              "      <td>199.0</td>\n",
              "      <td>204.7</td>\n",
              "      <td>5.7</td>\n",
              "      <td>46.5</td>\n",
              "      <td>14.0</td>\n",
              "      <td>39.0</td>\n",
              "      <td>195.6</td>\n",
              "      <td>208.8</td>\n",
              "      <td>13.2</td>\n",
              "      <td>76.9</td>\n",
              "      <td>99.0</td>\n",
              "      <td>39.0</td>\n",
              "      <td>205.1</td>\n",
              "      <td>209.7</td>\n",
              "      <td>4.6</td>\n",
              "      <td>43.6</td>\n",
              "      <td>7.0</td>\n",
              "      <td>43.0</td>\n",
              "      <td>197.1</td>\n",
              "      <td>200.5</td>\n",
              "      <td>3.4</td>\n",
              "      <td>30.2</td>\n",
              "      <td>1.0</td>\n",
              "    </tr>\n",
              "    <tr>\n",
              "      <th>2</th>\n",
              "      <td>400009</td>\n",
              "      <td>GLOBAL CITIZENSHIP</td>\n",
              "      <td>Charter</td>\n",
              "      <td>READING</td>\n",
              "      <td>Grade 5</td>\n",
              "      <td>45.0</td>\n",
              "      <td>202.4</td>\n",
              "      <td>202.7</td>\n",
              "      <td>0.3</td>\n",
              "      <td>33.3</td>\n",
              "      <td>1.0</td>\n",
              "      <td>46.0</td>\n",
              "      <td>201.4</td>\n",
              "      <td>211.2</td>\n",
              "      <td>9.8</td>\n",
              "      <td>56.5</td>\n",
              "      <td>85.0</td>\n",
              "      <td>44.0</td>\n",
              "      <td>207.4</td>\n",
              "      <td>212.5</td>\n",
              "      <td>5.1</td>\n",
              "      <td>56.8</td>\n",
              "      <td>32.0</td>\n",
              "      <td>45.0</td>\n",
              "      <td>204.2</td>\n",
              "      <td>212.7</td>\n",
              "      <td>8.5</td>\n",
              "      <td>62.2</td>\n",
              "      <td>92.0</td>\n",
              "      <td>45.0</td>\n",
              "      <td>207.9</td>\n",
              "      <td>213.0</td>\n",
              "      <td>5.1</td>\n",
              "      <td>51.1</td>\n",
              "      <td>34.0</td>\n",
              "      <td>42.0</td>\n",
              "      <td>207.5</td>\n",
              "      <td>212.8</td>\n",
              "      <td>5.3</td>\n",
              "      <td>50.0</td>\n",
              "      <td>38.0</td>\n",
              "    </tr>\n",
              "    <tr>\n",
              "      <th>3</th>\n",
              "      <td>400009</td>\n",
              "      <td>GLOBAL CITIZENSHIP</td>\n",
              "      <td>Charter</td>\n",
              "      <td>READING</td>\n",
              "      <td>Grade 6</td>\n",
              "      <td>48.0</td>\n",
              "      <td>208.8</td>\n",
              "      <td>213.9</td>\n",
              "      <td>5.1</td>\n",
              "      <td>68.8</td>\n",
              "      <td>48.0</td>\n",
              "      <td>47.0</td>\n",
              "      <td>202.8</td>\n",
              "      <td>215.9</td>\n",
              "      <td>13.1</td>\n",
              "      <td>80.9</td>\n",
              "      <td>99.0</td>\n",
              "      <td>48.0</td>\n",
              "      <td>212.0</td>\n",
              "      <td>218.2</td>\n",
              "      <td>6.2</td>\n",
              "      <td>72.9</td>\n",
              "      <td>83.0</td>\n",
              "      <td>42.0</td>\n",
              "      <td>213.2</td>\n",
              "      <td>219.1</td>\n",
              "      <td>5.9</td>\n",
              "      <td>71.4</td>\n",
              "      <td>81.0</td>\n",
              "      <td>44.0</td>\n",
              "      <td>213.4</td>\n",
              "      <td>219.5</td>\n",
              "      <td>6.1</td>\n",
              "      <td>63.6</td>\n",
              "      <td>84.0</td>\n",
              "      <td>44.0</td>\n",
              "      <td>214.4</td>\n",
              "      <td>218.8</td>\n",
              "      <td>4.4</td>\n",
              "      <td>47.7</td>\n",
              "      <td>59.0</td>\n",
              "    </tr>\n",
              "    <tr>\n",
              "      <th>4</th>\n",
              "      <td>400009</td>\n",
              "      <td>GLOBAL CITIZENSHIP</td>\n",
              "      <td>Charter</td>\n",
              "      <td>READING</td>\n",
              "      <td>Grade 7</td>\n",
              "      <td>NaN</td>\n",
              "      <td>NaN</td>\n",
              "      <td>NaN</td>\n",
              "      <td>NaN</td>\n",
              "      <td>NaN</td>\n",
              "      <td>NaN</td>\n",
              "      <td>43.0</td>\n",
              "      <td>213.2</td>\n",
              "      <td>216.1</td>\n",
              "      <td>2.9</td>\n",
              "      <td>46.5</td>\n",
              "      <td>22.0</td>\n",
              "      <td>44.0</td>\n",
              "      <td>214.3</td>\n",
              "      <td>220.4</td>\n",
              "      <td>6.1</td>\n",
              "      <td>56.8</td>\n",
              "      <td>87.0</td>\n",
              "      <td>41.0</td>\n",
              "      <td>217.3</td>\n",
              "      <td>224.1</td>\n",
              "      <td>6.8</td>\n",
              "      <td>73.2</td>\n",
              "      <td>96.0</td>\n",
              "      <td>39.0</td>\n",
              "      <td>217.6</td>\n",
              "      <td>224.7</td>\n",
              "      <td>7.1</td>\n",
              "      <td>69.2</td>\n",
              "      <td>97.0</td>\n",
              "      <td>41.0</td>\n",
              "      <td>218.9</td>\n",
              "      <td>223.8</td>\n",
              "      <td>4.9</td>\n",
              "      <td>73.2</td>\n",
              "      <td>78.0</td>\n",
              "    </tr>\n",
              "  </tbody>\n",
              "</table>\n",
              "</div>"
            ],
            "text/plain": [
              "   School ID  ... National School Growth Percentile.5\n",
              "0     400009  ...                                99.0\n",
              "1     400009  ...                                 1.0\n",
              "2     400009  ...                                38.0\n",
              "3     400009  ...                                59.0\n",
              "4     400009  ...                                78.0\n",
              "\n",
              "[5 rows x 41 columns]"
            ]
          },
          "metadata": {
            "tags": []
          },
          "execution_count": 21
        }
      ]
    },
    {
      "cell_type": "code",
      "metadata": {
        "id": "45wp-7jdItuq"
      },
      "source": [
        "#Filter the grade level with only aggregated rows\n",
        "df = df[df.Grade == 'Grades 3-8 Combined']"
      ],
      "execution_count": null,
      "outputs": []
    },
    {
      "cell_type": "code",
      "metadata": {
        "id": "6OEik47QB0Xa",
        "colab": {
          "base_uri": "https://localhost:8080/",
          "height": 34
        },
        "outputId": "a065cafe-ea60-499e-bfd0-407bf4a8226d"
      },
      "source": [
        "df.shape"
      ],
      "execution_count": null,
      "outputs": [
        {
          "output_type": "execute_result",
          "data": {
            "text/plain": [
              "(1024, 41)"
            ]
          },
          "metadata": {
            "tags": []
          },
          "execution_count": 23
        }
      ]
    },
    {
      "cell_type": "markdown",
      "metadata": {
        "id": "QJrK-86RGscw"
      },
      "source": [
        "# Slice & Concate"
      ]
    },
    {
      "cell_type": "code",
      "metadata": {
        "id": "prUYkuqRGYTB"
      },
      "source": [
        "dfs = []\n",
        "for i in range(len(Years)-1):\n",
        "    x = i*6 + 5 \n",
        "    new = df.iloc[:, np.r_[0:5, x:x+6]]\n",
        "    new = new.dropna(thresh=10)\n",
        "    \n",
        "    new.head()\n",
        "    # After renaming the columns \n",
        "    new.columns =['ZonedID', 'SchoolName', 'Network', 'Subject', 'Grade','Students','PretestRIT', 'PosttestRIT','RITGrowth','PercentGrowing', 'GrowthPercentile']\n",
        "    new['AcademicYear'] = Years[i+1]\n",
        "    dfs.append(new)\n",
        "\n",
        "# Concatenate all data into one DataFrame\n",
        "growth = pd.concat(dfs, ignore_index=True)"
      ],
      "execution_count": null,
      "outputs": []
    },
    {
      "cell_type": "code",
      "metadata": {
        "id": "gVBMLCLJPfnp"
      },
      "source": [
        "#Divide by 100  so that it shows as a decimal\n",
        "growth.PercentGrowing = growth.PercentGrowing/100"
      ],
      "execution_count": null,
      "outputs": []
    },
    {
      "cell_type": "code",
      "metadata": {
        "id": "uZYF9X10IV6l",
        "colab": {
          "base_uri": "https://localhost:8080/",
          "height": 394
        },
        "outputId": "9681cb6f-980c-44e0-f2f1-829308e9e8c8"
      },
      "source": [
        "growth.head()"
      ],
      "execution_count": null,
      "outputs": [
        {
          "output_type": "execute_result",
          "data": {
            "text/html": [
              "<div>\n",
              "<style scoped>\n",
              "    .dataframe tbody tr th:only-of-type {\n",
              "        vertical-align: middle;\n",
              "    }\n",
              "\n",
              "    .dataframe tbody tr th {\n",
              "        vertical-align: top;\n",
              "    }\n",
              "\n",
              "    .dataframe thead th {\n",
              "        text-align: right;\n",
              "    }\n",
              "</style>\n",
              "<table border=\"1\" class=\"dataframe\">\n",
              "  <thead>\n",
              "    <tr style=\"text-align: right;\">\n",
              "      <th></th>\n",
              "      <th>ZonedID</th>\n",
              "      <th>SchoolName</th>\n",
              "      <th>Network</th>\n",
              "      <th>Subject</th>\n",
              "      <th>Grade</th>\n",
              "      <th>Students</th>\n",
              "      <th>PretestRIT</th>\n",
              "      <th>PosttestRIT</th>\n",
              "      <th>RITGrowth</th>\n",
              "      <th>PercentGrowing</th>\n",
              "      <th>GrowthPercentile</th>\n",
              "      <th>AcademicYear</th>\n",
              "    </tr>\n",
              "  </thead>\n",
              "  <tbody>\n",
              "    <tr>\n",
              "      <th>0</th>\n",
              "      <td>400009</td>\n",
              "      <td>GLOBAL CITIZENSHIP</td>\n",
              "      <td>Charter</td>\n",
              "      <td>READING</td>\n",
              "      <td>Grades 3-8 Combined</td>\n",
              "      <td>158.0</td>\n",
              "      <td>201.9</td>\n",
              "      <td>205.7</td>\n",
              "      <td>3.8</td>\n",
              "      <td>0.456</td>\n",
              "      <td>2.0</td>\n",
              "      <td>SY2014</td>\n",
              "    </tr>\n",
              "    <tr>\n",
              "      <th>1</th>\n",
              "      <td>400009</td>\n",
              "      <td>GLOBAL CITIZENSHIP</td>\n",
              "      <td>Charter</td>\n",
              "      <td>MATH</td>\n",
              "      <td>Grades 3-8 Combined</td>\n",
              "      <td>158.0</td>\n",
              "      <td>205.7</td>\n",
              "      <td>213.1</td>\n",
              "      <td>7.4</td>\n",
              "      <td>0.582</td>\n",
              "      <td>20.0</td>\n",
              "      <td>SY2014</td>\n",
              "    </tr>\n",
              "    <tr>\n",
              "      <th>2</th>\n",
              "      <td>400012</td>\n",
              "      <td>AMANDLA</td>\n",
              "      <td>Charter</td>\n",
              "      <td>READING</td>\n",
              "      <td>Grades 3-8 Combined</td>\n",
              "      <td>190.0</td>\n",
              "      <td>207.9</td>\n",
              "      <td>212.9</td>\n",
              "      <td>5.0</td>\n",
              "      <td>0.611</td>\n",
              "      <td>29.0</td>\n",
              "      <td>SY2014</td>\n",
              "    </tr>\n",
              "    <tr>\n",
              "      <th>3</th>\n",
              "      <td>400012</td>\n",
              "      <td>AMANDLA</td>\n",
              "      <td>Charter</td>\n",
              "      <td>MATH</td>\n",
              "      <td>Grades 3-8 Combined</td>\n",
              "      <td>183.0</td>\n",
              "      <td>216.7</td>\n",
              "      <td>222.2</td>\n",
              "      <td>5.5</td>\n",
              "      <td>0.607</td>\n",
              "      <td>27.0</td>\n",
              "      <td>SY2014</td>\n",
              "    </tr>\n",
              "    <tr>\n",
              "      <th>4</th>\n",
              "      <td>400017</td>\n",
              "      <td>ASPIRA - HAUGAN</td>\n",
              "      <td>Charter</td>\n",
              "      <td>READING</td>\n",
              "      <td>Grades 3-8 Combined</td>\n",
              "      <td>462.0</td>\n",
              "      <td>214.2</td>\n",
              "      <td>218.7</td>\n",
              "      <td>4.5</td>\n",
              "      <td>0.606</td>\n",
              "      <td>50.0</td>\n",
              "      <td>SY2014</td>\n",
              "    </tr>\n",
              "  </tbody>\n",
              "</table>\n",
              "</div>"
            ],
            "text/plain": [
              "   ZonedID          SchoolName  ... GrowthPercentile AcademicYear\n",
              "0   400009  GLOBAL CITIZENSHIP  ...              2.0       SY2014\n",
              "1   400009  GLOBAL CITIZENSHIP  ...             20.0       SY2014\n",
              "2   400012             AMANDLA  ...             29.0       SY2014\n",
              "3   400012             AMANDLA  ...             27.0       SY2014\n",
              "4   400017     ASPIRA - HAUGAN  ...             50.0       SY2014\n",
              "\n",
              "[5 rows x 12 columns]"
            ]
          },
          "metadata": {
            "tags": []
          },
          "execution_count": 26
        }
      ]
    },
    {
      "cell_type": "code",
      "metadata": {
        "id": "bNPULTM3JS83",
        "colab": {
          "base_uri": "https://localhost:8080/",
          "height": 453
        },
        "outputId": "10fe4790-6fca-4227-93e0-af1157429a06"
      },
      "source": [
        "# Lets look at some stats shall we?\n",
        "display(growth.describe())\n",
        "display(growth.describe(include=['O']))"
      ],
      "execution_count": null,
      "outputs": [
        {
          "output_type": "display_data",
          "data": {
            "text/html": [
              "<div>\n",
              "<style scoped>\n",
              "    .dataframe tbody tr th:only-of-type {\n",
              "        vertical-align: middle;\n",
              "    }\n",
              "\n",
              "    .dataframe tbody tr th {\n",
              "        vertical-align: top;\n",
              "    }\n",
              "\n",
              "    .dataframe thead th {\n",
              "        text-align: right;\n",
              "    }\n",
              "</style>\n",
              "<table border=\"1\" class=\"dataframe\">\n",
              "  <thead>\n",
              "    <tr style=\"text-align: right;\">\n",
              "      <th></th>\n",
              "      <th>ZonedID</th>\n",
              "      <th>Students</th>\n",
              "      <th>PretestRIT</th>\n",
              "      <th>PosttestRIT</th>\n",
              "      <th>RITGrowth</th>\n",
              "      <th>PercentGrowing</th>\n",
              "      <th>GrowthPercentile</th>\n",
              "    </tr>\n",
              "  </thead>\n",
              "  <tbody>\n",
              "    <tr>\n",
              "      <th>count</th>\n",
              "      <td>5927.000000</td>\n",
              "      <td>5927.000000</td>\n",
              "      <td>5927.000000</td>\n",
              "      <td>5927.000000</td>\n",
              "      <td>5927.000000</td>\n",
              "      <td>5927.000000</td>\n",
              "      <td>5927.000000</td>\n",
              "    </tr>\n",
              "    <tr>\n",
              "      <th>mean</th>\n",
              "      <td>581083.610596</td>\n",
              "      <td>288.088746</td>\n",
              "      <td>209.856302</td>\n",
              "      <td>217.510916</td>\n",
              "      <td>7.654513</td>\n",
              "      <td>0.571385</td>\n",
              "      <td>61.018897</td>\n",
              "    </tr>\n",
              "    <tr>\n",
              "      <th>std</th>\n",
              "      <td>72433.313163</td>\n",
              "      <td>152.443263</td>\n",
              "      <td>9.106335</td>\n",
              "      <td>8.932853</td>\n",
              "      <td>2.329641</td>\n",
              "      <td>0.097330</td>\n",
              "      <td>25.421841</td>\n",
              "    </tr>\n",
              "    <tr>\n",
              "      <th>min</th>\n",
              "      <td>400009.000000</td>\n",
              "      <td>14.000000</td>\n",
              "      <td>171.600000</td>\n",
              "      <td>179.900000</td>\n",
              "      <td>-2.000000</td>\n",
              "      <td>0.118000</td>\n",
              "      <td>1.000000</td>\n",
              "    </tr>\n",
              "    <tr>\n",
              "      <th>25%</th>\n",
              "      <td>609836.000000</td>\n",
              "      <td>179.500000</td>\n",
              "      <td>204.000000</td>\n",
              "      <td>211.600000</td>\n",
              "      <td>6.300000</td>\n",
              "      <td>0.511000</td>\n",
              "      <td>43.000000</td>\n",
              "    </tr>\n",
              "    <tr>\n",
              "      <th>50%</th>\n",
              "      <td>610009.000000</td>\n",
              "      <td>256.000000</td>\n",
              "      <td>209.300000</td>\n",
              "      <td>216.700000</td>\n",
              "      <td>7.500000</td>\n",
              "      <td>0.579000</td>\n",
              "      <td>66.000000</td>\n",
              "    </tr>\n",
              "    <tr>\n",
              "      <th>75%</th>\n",
              "      <td>610174.500000</td>\n",
              "      <td>357.000000</td>\n",
              "      <td>215.000000</td>\n",
              "      <td>222.700000</td>\n",
              "      <td>8.900000</td>\n",
              "      <td>0.636000</td>\n",
              "      <td>82.000000</td>\n",
              "    </tr>\n",
              "    <tr>\n",
              "      <th>max</th>\n",
              "      <td>610588.000000</td>\n",
              "      <td>1008.000000</td>\n",
              "      <td>267.700000</td>\n",
              "      <td>274.200000</td>\n",
              "      <td>36.300000</td>\n",
              "      <td>0.957000</td>\n",
              "      <td>99.000000</td>\n",
              "    </tr>\n",
              "  </tbody>\n",
              "</table>\n",
              "</div>"
            ],
            "text/plain": [
              "             ZonedID     Students  ...  PercentGrowing  GrowthPercentile\n",
              "count    5927.000000  5927.000000  ...     5927.000000       5927.000000\n",
              "mean   581083.610596   288.088746  ...        0.571385         61.018897\n",
              "std     72433.313163   152.443263  ...        0.097330         25.421841\n",
              "min    400009.000000    14.000000  ...        0.118000          1.000000\n",
              "25%    609836.000000   179.500000  ...        0.511000         43.000000\n",
              "50%    610009.000000   256.000000  ...        0.579000         66.000000\n",
              "75%    610174.500000   357.000000  ...        0.636000         82.000000\n",
              "max    610588.000000  1008.000000  ...        0.957000         99.000000\n",
              "\n",
              "[8 rows x 7 columns]"
            ]
          },
          "metadata": {
            "tags": []
          }
        },
        {
          "output_type": "display_data",
          "data": {
            "text/html": [
              "<div>\n",
              "<style scoped>\n",
              "    .dataframe tbody tr th:only-of-type {\n",
              "        vertical-align: middle;\n",
              "    }\n",
              "\n",
              "    .dataframe tbody tr th {\n",
              "        vertical-align: top;\n",
              "    }\n",
              "\n",
              "    .dataframe thead th {\n",
              "        text-align: right;\n",
              "    }\n",
              "</style>\n",
              "<table border=\"1\" class=\"dataframe\">\n",
              "  <thead>\n",
              "    <tr style=\"text-align: right;\">\n",
              "      <th></th>\n",
              "      <th>SchoolName</th>\n",
              "      <th>Network</th>\n",
              "      <th>Subject</th>\n",
              "      <th>Grade</th>\n",
              "      <th>AcademicYear</th>\n",
              "    </tr>\n",
              "  </thead>\n",
              "  <tbody>\n",
              "    <tr>\n",
              "      <th>count</th>\n",
              "      <td>5927</td>\n",
              "      <td>5927</td>\n",
              "      <td>5927</td>\n",
              "      <td>5927</td>\n",
              "      <td>5927</td>\n",
              "    </tr>\n",
              "    <tr>\n",
              "      <th>unique</th>\n",
              "      <td>509</td>\n",
              "      <td>21</td>\n",
              "      <td>2</td>\n",
              "      <td>1</td>\n",
              "      <td>6</td>\n",
              "    </tr>\n",
              "    <tr>\n",
              "      <th>top</th>\n",
              "      <td>DISNEY II ES</td>\n",
              "      <td>ISP</td>\n",
              "      <td>READING</td>\n",
              "      <td>Grades 3-8 Combined</td>\n",
              "      <td>SY2015</td>\n",
              "    </tr>\n",
              "    <tr>\n",
              "      <th>freq</th>\n",
              "      <td>24</td>\n",
              "      <td>862</td>\n",
              "      <td>2964</td>\n",
              "      <td>5927</td>\n",
              "      <td>998</td>\n",
              "    </tr>\n",
              "  </tbody>\n",
              "</table>\n",
              "</div>"
            ],
            "text/plain": [
              "          SchoolName Network  Subject                Grade AcademicYear\n",
              "count           5927    5927     5927                 5927         5927\n",
              "unique           509      21        2                    1            6\n",
              "top     DISNEY II ES     ISP  READING  Grades 3-8 Combined       SY2015\n",
              "freq              24     862     2964                 5927          998"
            ]
          },
          "metadata": {
            "tags": []
          }
        }
      ]
    },
    {
      "cell_type": "code",
      "metadata": {
        "id": "v9_9earhJZph"
      },
      "source": [
        "#export to csv\n",
        "growth.to_csv( \"/content/gdrive/My Drive/SY2020 Winter Break ADF Projects/growth.csv\", index=False, encoding='utf-8-sig')"
      ],
      "execution_count": null,
      "outputs": []
    },
    {
      "cell_type": "markdown",
      "metadata": {
        "id": "RzppLBkYTQAR"
      },
      "source": [
        "# Join VCG Weights to \"Accountability_SQRP Ratings...\" with the yellow fields matching on SchoolID and create field for Weighted Average * Score\n",
        "\n",
        "\n"
      ]
    },
    {
      "cell_type": "code",
      "metadata": {
        "id": "L_muZv3wTWnD",
        "colab": {
          "base_uri": "https://localhost:8080/",
          "height": 646
        },
        "outputId": "4dad6967-0978-44a4-f61d-ab843d3c8ec6"
      },
      "source": [
        "import pandas as pd\n",
        "import glob, os\n",
        "\n",
        "data_dir= '/content/gdrive/My Drive/SY2020 Winter Break ADF Projects/'\n",
        "filename = 'Accountability_SQRPratings_2019-2020_SchoolLevel.xls'\n",
        "os.chdir(data_dir)\n",
        "\n",
        "df=pd.read_excel(filename, sheet_name='Elem Schools (grds PreK-8 only)', skiprows=1) #, header=[0,1])\n",
        "\n",
        "print(\"Column headings:\")\n",
        "print(df.columns)"
      ],
      "execution_count": null,
      "outputs": [
        {
          "output_type": "stream",
          "text": [
            "Column headings:\n",
            "Index(['School ID', 'School Name', 'Network ', 'SQRP Points',\n",
            "       'SY 2019-2020 SQRP Rating', 'SY 2019-2020 Accountability Status',\n",
            "       'National School Growth Percentile - Reading', 'Unnamed: 7',\n",
            "       'Unnamed: 8', 'Unnamed: 9', 'National School Growth Percentile - Math',\n",
            "       'Unnamed: 11', 'Unnamed: 12', 'Unnamed: 13',\n",
            "       'Percent of Students Meeting/Exceeding National Average Growth Norms',\n",
            "       'Unnamed: 15', 'Unnamed: 16', 'Unnamed: 17',\n",
            "       'African-American Growth Percentile - Reading', 'Unnamed: 19',\n",
            "       'Unnamed: 20', 'Unnamed: 21', 'Hispanic Growth Percentile - Reading',\n",
            "       'Unnamed: 23', 'Unnamed: 24', 'Unnamed: 25',\n",
            "       'English Learner Growth Percentile - Reading', 'Unnamed: 27',\n",
            "       'Unnamed: 28', 'Unnamed: 29',\n",
            "       'Diverse Learner Growth Percentile - Reading', 'Unnamed: 31',\n",
            "       'Unnamed: 32', 'Unnamed: 33',\n",
            "       'African-American Growth Percentile - Math', 'Unnamed: 35',\n",
            "       'Unnamed: 36', 'Unnamed: 37', 'Hispanic Growth Percentile - Math',\n",
            "       'Unnamed: 39', 'Unnamed: 40', 'Unnamed: 41',\n",
            "       'English Learner Growth Percentile - Math', 'Unnamed: 43',\n",
            "       'Unnamed: 44', 'Unnamed: 45',\n",
            "       'Diverse Learner Growth Percentile - Math', 'Unnamed: 47',\n",
            "       'Unnamed: 48', 'Unnamed: 49',\n",
            "       'National School Attainment %ile - Reading (Grades 3-8)', 'Unnamed: 51',\n",
            "       'Unnamed: 52', 'Unnamed: 53',\n",
            "       'National School Attainment %ile - Math (Grades 3-8)', 'Unnamed: 55',\n",
            "       'Unnamed: 56', 'Unnamed: 57',\n",
            "       'National School Attainment %ile - Reading (Grade 2)', 'Unnamed: 59',\n",
            "       'Unnamed: 60', 'Unnamed: 61',\n",
            "       'National School Attainment %ile - Math (Grade 2)', 'Unnamed: 63',\n",
            "       'Unnamed: 64', 'Unnamed: 65',\n",
            "       'Pct of Students Making Sufficent \\nAnnual Progress', 'Unnamed: 67',\n",
            "       'Unnamed: 68', 'Unnamed: 69',\n",
            "       'Average Daily Attendance Rate (Grades K-8)', 'Unnamed: 71',\n",
            "       'Unnamed: 72', 'My Voice, My School 5 Essentials Survey', 'Unnamed: 74',\n",
            "       'Unnamed: 75', 'Data Quality Index Score', 'Unnamed: 77',\n",
            "       'Unnamed: 78'],\n",
            "      dtype='object')\n"
          ],
          "name": "stdout"
        }
      ]
    },
    {
      "cell_type": "code",
      "metadata": {
        "id": "kXBF1kqqGCiK"
      },
      "source": [
        "new = df[df.columns.drop(list(df.filter(regex='Unnamed')))]"
      ],
      "execution_count": null,
      "outputs": []
    },
    {
      "cell_type": "code",
      "metadata": {
        "id": "vaC7YPK4Ittl",
        "colab": {
          "base_uri": "https://localhost:8080/",
          "height": 122
        },
        "outputId": "054ef24c-532b-4af1-c468-b9d10bd29192"
      },
      "source": [
        "#Drop the last two columns since they were not asked to keep\n",
        "new.drop(new.iloc[:, -2:], inplace = True, axis = 1)"
      ],
      "execution_count": null,
      "outputs": [
        {
          "output_type": "stream",
          "text": [
            "/usr/local/lib/python3.6/dist-packages/pandas/core/frame.py:4117: SettingWithCopyWarning: \n",
            "A value is trying to be set on a copy of a slice from a DataFrame\n",
            "\n",
            "See the caveats in the documentation: http://pandas.pydata.org/pandas-docs/stable/user_guide/indexing.html#returning-a-view-versus-a-copy\n",
            "  errors=errors,\n"
          ],
          "name": "stderr"
        }
      ]
    },
    {
      "cell_type": "code",
      "metadata": {
        "id": "JEBGC_PUNAEF",
        "colab": {
          "base_uri": "https://localhost:8080/",
          "height": 122
        },
        "outputId": "5c9238cf-92b9-4cf9-a83f-1cff09dec1ff"
      },
      "source": [
        "#Drop the first two columns since they were not asked to keep\n",
        "new.drop(new.iloc[:, 1:3], inplace = True, axis = 1)"
      ],
      "execution_count": null,
      "outputs": [
        {
          "output_type": "stream",
          "text": [
            "/usr/local/lib/python3.6/dist-packages/pandas/core/frame.py:4117: SettingWithCopyWarning: \n",
            "A value is trying to be set on a copy of a slice from a DataFrame\n",
            "\n",
            "See the caveats in the documentation: http://pandas.pydata.org/pandas-docs/stable/user_guide/indexing.html#returning-a-view-versus-a-copy\n",
            "  errors=errors,\n"
          ],
          "name": "stderr"
        }
      ]
    },
    {
      "cell_type": "code",
      "metadata": {
        "id": "zJIOzzvGNcVO",
        "colab": {
          "base_uri": "https://localhost:8080/",
          "height": 122
        },
        "outputId": "9e637bde-5535-4409-c175-113e98c83628"
      },
      "source": [
        "#Drop the two columns since they were not asked to keep\n",
        "new.drop(new.iloc[:, 2:4], inplace = True, axis = 1)"
      ],
      "execution_count": null,
      "outputs": [
        {
          "output_type": "stream",
          "text": [
            "/usr/local/lib/python3.6/dist-packages/pandas/core/frame.py:4117: SettingWithCopyWarning: \n",
            "A value is trying to be set on a copy of a slice from a DataFrame\n",
            "\n",
            "See the caveats in the documentation: http://pandas.pydata.org/pandas-docs/stable/user_guide/indexing.html#returning-a-view-versus-a-copy\n",
            "  errors=errors,\n"
          ],
          "name": "stderr"
        }
      ]
    },
    {
      "cell_type": "code",
      "metadata": {
        "id": "IxWwllW-I_qQ",
        "colab": {
          "base_uri": "https://localhost:8080/",
          "height": 326
        },
        "outputId": "25a5ee01-00c5-43fb-c3bb-df8ead964669"
      },
      "source": [
        "new.head()"
      ],
      "execution_count": null,
      "outputs": [
        {
          "output_type": "execute_result",
          "data": {
            "text/html": [
              "<div>\n",
              "<style scoped>\n",
              "    .dataframe tbody tr th:only-of-type {\n",
              "        vertical-align: middle;\n",
              "    }\n",
              "\n",
              "    .dataframe tbody tr th {\n",
              "        vertical-align: top;\n",
              "    }\n",
              "\n",
              "    .dataframe thead th {\n",
              "        text-align: right;\n",
              "    }\n",
              "</style>\n",
              "<table border=\"1\" class=\"dataframe\">\n",
              "  <thead>\n",
              "    <tr style=\"text-align: right;\">\n",
              "      <th></th>\n",
              "      <th>School ID</th>\n",
              "      <th>SQRP Points</th>\n",
              "      <th>National School Growth Percentile - Reading</th>\n",
              "      <th>National School Growth Percentile - Math</th>\n",
              "      <th>Percent of Students Meeting/Exceeding National Average Growth Norms</th>\n",
              "      <th>African-American Growth Percentile - Reading</th>\n",
              "      <th>Hispanic Growth Percentile - Reading</th>\n",
              "      <th>English Learner Growth Percentile - Reading</th>\n",
              "      <th>Diverse Learner Growth Percentile - Reading</th>\n",
              "      <th>African-American Growth Percentile - Math</th>\n",
              "      <th>Hispanic Growth Percentile - Math</th>\n",
              "      <th>English Learner Growth Percentile - Math</th>\n",
              "      <th>Diverse Learner Growth Percentile - Math</th>\n",
              "      <th>National School Attainment %ile - Reading (Grades 3-8)</th>\n",
              "      <th>National School Attainment %ile - Math (Grades 3-8)</th>\n",
              "      <th>National School Attainment %ile - Reading (Grade 2)</th>\n",
              "      <th>National School Attainment %ile - Math (Grade 2)</th>\n",
              "      <th>Pct of Students Making Sufficent \\nAnnual Progress</th>\n",
              "      <th>Average Daily Attendance Rate (Grades K-8)</th>\n",
              "    </tr>\n",
              "  </thead>\n",
              "  <tbody>\n",
              "    <tr>\n",
              "      <th>0</th>\n",
              "      <td>NaN</td>\n",
              "      <td>NaN</td>\n",
              "      <td>NSGPRead</td>\n",
              "      <td>NSGPMath</td>\n",
              "      <td>PercentGrowing</td>\n",
              "      <td>AAGPRead</td>\n",
              "      <td>HGPRead</td>\n",
              "      <td>ELGPRead</td>\n",
              "      <td>DLGPRead</td>\n",
              "      <td>AAGPMath</td>\n",
              "      <td>HGPMath</td>\n",
              "      <td>ELGPMath</td>\n",
              "      <td>DLGPMath</td>\n",
              "      <td>NSAPRead</td>\n",
              "      <td>NSAPMath</td>\n",
              "      <td>NSAP2Read</td>\n",
              "      <td>NSAP2Math</td>\n",
              "      <td>ACCESS</td>\n",
              "      <td>ADA</td>\n",
              "    </tr>\n",
              "    <tr>\n",
              "      <th>1</th>\n",
              "      <td>400009.0</td>\n",
              "      <td>3.3</td>\n",
              "      <td>56</td>\n",
              "      <td>42</td>\n",
              "      <td>51.6</td>\n",
              "      <td>NaN</td>\n",
              "      <td>54</td>\n",
              "      <td>36</td>\n",
              "      <td>NaN</td>\n",
              "      <td>NaN</td>\n",
              "      <td>40</td>\n",
              "      <td>10</td>\n",
              "      <td>NaN</td>\n",
              "      <td>61</td>\n",
              "      <td>39</td>\n",
              "      <td>14</td>\n",
              "      <td>9</td>\n",
              "      <td>20.4</td>\n",
              "      <td>95.1</td>\n",
              "    </tr>\n",
              "    <tr>\n",
              "      <th>2</th>\n",
              "      <td>400011.0</td>\n",
              "      <td>3.2</td>\n",
              "      <td>64</td>\n",
              "      <td>65</td>\n",
              "      <td>55.3</td>\n",
              "      <td>64</td>\n",
              "      <td>NaN</td>\n",
              "      <td>NaN</td>\n",
              "      <td>NaN</td>\n",
              "      <td>65</td>\n",
              "      <td>NaN</td>\n",
              "      <td>NaN</td>\n",
              "      <td>NaN</td>\n",
              "      <td>72</td>\n",
              "      <td>65</td>\n",
              "      <td>61</td>\n",
              "      <td>62</td>\n",
              "      <td>NaN</td>\n",
              "      <td>94.6</td>\n",
              "    </tr>\n",
              "    <tr>\n",
              "      <th>3</th>\n",
              "      <td>400017.0</td>\n",
              "      <td>3.7</td>\n",
              "      <td>50</td>\n",
              "      <td>47</td>\n",
              "      <td>52</td>\n",
              "      <td>NaN</td>\n",
              "      <td>48</td>\n",
              "      <td>36</td>\n",
              "      <td>NaN</td>\n",
              "      <td>NaN</td>\n",
              "      <td>47</td>\n",
              "      <td>25</td>\n",
              "      <td>NaN</td>\n",
              "      <td>51</td>\n",
              "      <td>34</td>\n",
              "      <td>NaN</td>\n",
              "      <td>NaN</td>\n",
              "      <td>47.2</td>\n",
              "      <td>96.4</td>\n",
              "    </tr>\n",
              "    <tr>\n",
              "      <th>4</th>\n",
              "      <td>400021.0</td>\n",
              "      <td>3.4</td>\n",
              "      <td>50</td>\n",
              "      <td>58</td>\n",
              "      <td>52.9</td>\n",
              "      <td>46</td>\n",
              "      <td>NaN</td>\n",
              "      <td>NaN</td>\n",
              "      <td>79</td>\n",
              "      <td>58</td>\n",
              "      <td>NaN</td>\n",
              "      <td>NaN</td>\n",
              "      <td>73</td>\n",
              "      <td>50</td>\n",
              "      <td>35</td>\n",
              "      <td>39</td>\n",
              "      <td>46</td>\n",
              "      <td>NaN</td>\n",
              "      <td>95.6</td>\n",
              "    </tr>\n",
              "  </tbody>\n",
              "</table>\n",
              "</div>"
            ],
            "text/plain": [
              "   School ID  ...  Average Daily Attendance Rate (Grades K-8)\n",
              "0        NaN  ...                                         ADA\n",
              "1   400009.0  ...                                        95.1\n",
              "2   400011.0  ...                                        94.6\n",
              "3   400017.0  ...                                        96.4\n",
              "4   400021.0  ...                                        95.6\n",
              "\n",
              "[5 rows x 19 columns]"
            ]
          },
          "metadata": {
            "tags": []
          },
          "execution_count": 34
        }
      ]
    },
    {
      "cell_type": "code",
      "metadata": {
        "id": "wb4tVX57GyUI"
      },
      "source": [
        "single = pd.DataFrame(df['Unnamed: 74'])"
      ],
      "execution_count": null,
      "outputs": []
    },
    {
      "cell_type": "code",
      "metadata": {
        "id": "js_i4CzKHQkT",
        "colab": {
          "base_uri": "https://localhost:8080/",
          "height": 204
        },
        "outputId": "bfc74fea-f0ab-4416-cb99-9c86fc04bffa"
      },
      "source": [
        "single.head()"
      ],
      "execution_count": null,
      "outputs": [
        {
          "output_type": "execute_result",
          "data": {
            "text/html": [
              "<div>\n",
              "<style scoped>\n",
              "    .dataframe tbody tr th:only-of-type {\n",
              "        vertical-align: middle;\n",
              "    }\n",
              "\n",
              "    .dataframe tbody tr th {\n",
              "        vertical-align: top;\n",
              "    }\n",
              "\n",
              "    .dataframe thead th {\n",
              "        text-align: right;\n",
              "    }\n",
              "</style>\n",
              "<table border=\"1\" class=\"dataframe\">\n",
              "  <thead>\n",
              "    <tr style=\"text-align: right;\">\n",
              "      <th></th>\n",
              "      <th>Unnamed: 74</th>\n",
              "    </tr>\n",
              "  </thead>\n",
              "  <tbody>\n",
              "    <tr>\n",
              "      <th>0</th>\n",
              "      <td>5E</td>\n",
              "    </tr>\n",
              "    <tr>\n",
              "      <th>1</th>\n",
              "      <td>5</td>\n",
              "    </tr>\n",
              "    <tr>\n",
              "      <th>2</th>\n",
              "      <td>NaN</td>\n",
              "    </tr>\n",
              "    <tr>\n",
              "      <th>3</th>\n",
              "      <td>5</td>\n",
              "    </tr>\n",
              "    <tr>\n",
              "      <th>4</th>\n",
              "      <td>4</td>\n",
              "    </tr>\n",
              "  </tbody>\n",
              "</table>\n",
              "</div>"
            ],
            "text/plain": [
              "  Unnamed: 74\n",
              "0          5E\n",
              "1           5\n",
              "2         NaN\n",
              "3           5\n",
              "4           4"
            ]
          },
          "metadata": {
            "tags": []
          },
          "execution_count": 36
        }
      ]
    },
    {
      "cell_type": "code",
      "metadata": {
        "id": "B8RAmOStUGTZ"
      },
      "source": [
        "keep = pd.concat([new, single.reindex(new.index)], axis=1)"
      ],
      "execution_count": null,
      "outputs": []
    },
    {
      "cell_type": "code",
      "metadata": {
        "id": "NV0p6vqVIFkS"
      },
      "source": [
        "#Create the names for the columns to keep\n",
        "name = ['ZonedID', 'SQRP Points'] + list(keep.iloc[0,2:])"
      ],
      "execution_count": null,
      "outputs": []
    },
    {
      "cell_type": "code",
      "metadata": {
        "id": "mBLOP1LmJ3NA"
      },
      "source": [
        "keep.columns = name"
      ],
      "execution_count": null,
      "outputs": []
    },
    {
      "cell_type": "code",
      "metadata": {
        "id": "t-0Nx9d1RDni",
        "colab": {
          "base_uri": "https://localhost:8080/",
          "height": 34
        },
        "outputId": "211a0c6c-c31f-4595-c67f-b56fbd8670ec"
      },
      "source": [
        "keep.shape"
      ],
      "execution_count": null,
      "outputs": [
        {
          "output_type": "execute_result",
          "data": {
            "text/plain": [
              "(474, 20)"
            ]
          },
          "metadata": {
            "tags": []
          },
          "execution_count": 40
        }
      ]
    },
    {
      "cell_type": "code",
      "metadata": {
        "id": "L-UuajAxDNnc",
        "colab": {
          "base_uri": "https://localhost:8080/",
          "height": 241
        },
        "outputId": "011035b6-69f8-411b-8b8a-64178c83ecb8"
      },
      "source": [
        "keep.head()"
      ],
      "execution_count": null,
      "outputs": [
        {
          "output_type": "execute_result",
          "data": {
            "text/html": [
              "<div>\n",
              "<style scoped>\n",
              "    .dataframe tbody tr th:only-of-type {\n",
              "        vertical-align: middle;\n",
              "    }\n",
              "\n",
              "    .dataframe tbody tr th {\n",
              "        vertical-align: top;\n",
              "    }\n",
              "\n",
              "    .dataframe thead th {\n",
              "        text-align: right;\n",
              "    }\n",
              "</style>\n",
              "<table border=\"1\" class=\"dataframe\">\n",
              "  <thead>\n",
              "    <tr style=\"text-align: right;\">\n",
              "      <th></th>\n",
              "      <th>ZonedID</th>\n",
              "      <th>SQRP Points</th>\n",
              "      <th>NSGPRead</th>\n",
              "      <th>NSGPMath</th>\n",
              "      <th>PercentGrowing</th>\n",
              "      <th>AAGPRead</th>\n",
              "      <th>HGPRead</th>\n",
              "      <th>ELGPRead</th>\n",
              "      <th>DLGPRead</th>\n",
              "      <th>AAGPMath</th>\n",
              "      <th>HGPMath</th>\n",
              "      <th>ELGPMath</th>\n",
              "      <th>DLGPMath</th>\n",
              "      <th>NSAPRead</th>\n",
              "      <th>NSAPMath</th>\n",
              "      <th>NSAP2Read</th>\n",
              "      <th>NSAP2Math</th>\n",
              "      <th>ACCESS</th>\n",
              "      <th>ADA</th>\n",
              "      <th>5E</th>\n",
              "    </tr>\n",
              "  </thead>\n",
              "  <tbody>\n",
              "    <tr>\n",
              "      <th>0</th>\n",
              "      <td>NaN</td>\n",
              "      <td>NaN</td>\n",
              "      <td>NSGPRead</td>\n",
              "      <td>NSGPMath</td>\n",
              "      <td>PercentGrowing</td>\n",
              "      <td>AAGPRead</td>\n",
              "      <td>HGPRead</td>\n",
              "      <td>ELGPRead</td>\n",
              "      <td>DLGPRead</td>\n",
              "      <td>AAGPMath</td>\n",
              "      <td>HGPMath</td>\n",
              "      <td>ELGPMath</td>\n",
              "      <td>DLGPMath</td>\n",
              "      <td>NSAPRead</td>\n",
              "      <td>NSAPMath</td>\n",
              "      <td>NSAP2Read</td>\n",
              "      <td>NSAP2Math</td>\n",
              "      <td>ACCESS</td>\n",
              "      <td>ADA</td>\n",
              "      <td>5E</td>\n",
              "    </tr>\n",
              "    <tr>\n",
              "      <th>1</th>\n",
              "      <td>400009.0</td>\n",
              "      <td>3.3</td>\n",
              "      <td>56</td>\n",
              "      <td>42</td>\n",
              "      <td>51.6</td>\n",
              "      <td>NaN</td>\n",
              "      <td>54</td>\n",
              "      <td>36</td>\n",
              "      <td>NaN</td>\n",
              "      <td>NaN</td>\n",
              "      <td>40</td>\n",
              "      <td>10</td>\n",
              "      <td>NaN</td>\n",
              "      <td>61</td>\n",
              "      <td>39</td>\n",
              "      <td>14</td>\n",
              "      <td>9</td>\n",
              "      <td>20.4</td>\n",
              "      <td>95.1</td>\n",
              "      <td>5</td>\n",
              "    </tr>\n",
              "    <tr>\n",
              "      <th>2</th>\n",
              "      <td>400011.0</td>\n",
              "      <td>3.2</td>\n",
              "      <td>64</td>\n",
              "      <td>65</td>\n",
              "      <td>55.3</td>\n",
              "      <td>64</td>\n",
              "      <td>NaN</td>\n",
              "      <td>NaN</td>\n",
              "      <td>NaN</td>\n",
              "      <td>65</td>\n",
              "      <td>NaN</td>\n",
              "      <td>NaN</td>\n",
              "      <td>NaN</td>\n",
              "      <td>72</td>\n",
              "      <td>65</td>\n",
              "      <td>61</td>\n",
              "      <td>62</td>\n",
              "      <td>NaN</td>\n",
              "      <td>94.6</td>\n",
              "      <td>NaN</td>\n",
              "    </tr>\n",
              "    <tr>\n",
              "      <th>3</th>\n",
              "      <td>400017.0</td>\n",
              "      <td>3.7</td>\n",
              "      <td>50</td>\n",
              "      <td>47</td>\n",
              "      <td>52</td>\n",
              "      <td>NaN</td>\n",
              "      <td>48</td>\n",
              "      <td>36</td>\n",
              "      <td>NaN</td>\n",
              "      <td>NaN</td>\n",
              "      <td>47</td>\n",
              "      <td>25</td>\n",
              "      <td>NaN</td>\n",
              "      <td>51</td>\n",
              "      <td>34</td>\n",
              "      <td>NaN</td>\n",
              "      <td>NaN</td>\n",
              "      <td>47.2</td>\n",
              "      <td>96.4</td>\n",
              "      <td>5</td>\n",
              "    </tr>\n",
              "    <tr>\n",
              "      <th>4</th>\n",
              "      <td>400021.0</td>\n",
              "      <td>3.4</td>\n",
              "      <td>50</td>\n",
              "      <td>58</td>\n",
              "      <td>52.9</td>\n",
              "      <td>46</td>\n",
              "      <td>NaN</td>\n",
              "      <td>NaN</td>\n",
              "      <td>79</td>\n",
              "      <td>58</td>\n",
              "      <td>NaN</td>\n",
              "      <td>NaN</td>\n",
              "      <td>73</td>\n",
              "      <td>50</td>\n",
              "      <td>35</td>\n",
              "      <td>39</td>\n",
              "      <td>46</td>\n",
              "      <td>NaN</td>\n",
              "      <td>95.6</td>\n",
              "      <td>4</td>\n",
              "    </tr>\n",
              "  </tbody>\n",
              "</table>\n",
              "</div>"
            ],
            "text/plain": [
              "    ZonedID  SQRP Points  NSGPRead  NSGPMath  ...  NSAP2Math  ACCESS   ADA   5E\n",
              "0       NaN          NaN  NSGPRead  NSGPMath  ...  NSAP2Math  ACCESS   ADA   5E\n",
              "1  400009.0          3.3        56        42  ...          9    20.4  95.1    5\n",
              "2  400011.0          3.2        64        65  ...         62     NaN  94.6  NaN\n",
              "3  400017.0          3.7        50        47  ...        NaN    47.2  96.4    5\n",
              "4  400021.0          3.4        50        58  ...         46     NaN  95.6    4\n",
              "\n",
              "[5 rows x 20 columns]"
            ]
          },
          "metadata": {
            "tags": []
          },
          "execution_count": 41
        }
      ]
    },
    {
      "cell_type": "code",
      "metadata": {
        "id": "OlMfiztAOJ10"
      },
      "source": [
        "#Drop the first row\n",
        "keep = keep[1:]"
      ],
      "execution_count": null,
      "outputs": []
    },
    {
      "cell_type": "code",
      "metadata": {
        "id": "LXe0ZNC0_GQF"
      },
      "source": [
        "DS = [400025, 400027, 400028, 400030]"
      ],
      "execution_count": null,
      "outputs": []
    },
    {
      "cell_type": "markdown",
      "metadata": {
        "id": "QXSdTQXBQgqX"
      },
      "source": [
        "# Load VGG weights data"
      ]
    },
    {
      "cell_type": "code",
      "metadata": {
        "id": "mh6uJU63OUaG"
      },
      "source": [
        "filename = 'VCGWeightsSY2019.csv'\n",
        "os.chdir(data_dir)\n",
        "\n",
        "vgg=pd.read_csv(filename)"
      ],
      "execution_count": null,
      "outputs": []
    },
    {
      "cell_type": "code",
      "metadata": {
        "id": "tskla4HLPEiW",
        "colab": {
          "base_uri": "https://localhost:8080/",
          "height": 204
        },
        "outputId": "ca44b436-ab0b-4cba-d570-1e6f3f4589b9"
      },
      "source": [
        "vgg.head()"
      ],
      "execution_count": null,
      "outputs": [
        {
          "output_type": "execute_result",
          "data": {
            "text/html": [
              "<div>\n",
              "<style scoped>\n",
              "    .dataframe tbody tr th:only-of-type {\n",
              "        vertical-align: middle;\n",
              "    }\n",
              "\n",
              "    .dataframe tbody tr th {\n",
              "        vertical-align: top;\n",
              "    }\n",
              "\n",
              "    .dataframe thead th {\n",
              "        text-align: right;\n",
              "    }\n",
              "</style>\n",
              "<table border=\"1\" class=\"dataframe\">\n",
              "  <thead>\n",
              "    <tr style=\"text-align: right;\">\n",
              "      <th></th>\n",
              "      <th>SchoolID</th>\n",
              "      <th>Campus</th>\n",
              "      <th>ZonedID</th>\n",
              "      <th>Students</th>\n",
              "      <th>Weight</th>\n",
              "      <th>ZonedName</th>\n",
              "    </tr>\n",
              "  </thead>\n",
              "  <tbody>\n",
              "    <tr>\n",
              "      <th>0</th>\n",
              "      <td>400025</td>\n",
              "      <td>Bucktown</td>\n",
              "      <td>609716</td>\n",
              "      <td>8</td>\n",
              "      <td>0.017131</td>\n",
              "      <td>KELVYN PARK HS</td>\n",
              "    </tr>\n",
              "    <tr>\n",
              "      <th>1</th>\n",
              "      <td>400025</td>\n",
              "      <td>Bucktown</td>\n",
              "      <td>609789</td>\n",
              "      <td>13</td>\n",
              "      <td>0.027837</td>\n",
              "      <td>BARRY</td>\n",
              "    </tr>\n",
              "    <tr>\n",
              "      <th>2</th>\n",
              "      <td>400025</td>\n",
              "      <td>Bucktown</td>\n",
              "      <td>609792</td>\n",
              "      <td>5</td>\n",
              "      <td>0.010707</td>\n",
              "      <td>BATEMAN</td>\n",
              "    </tr>\n",
              "    <tr>\n",
              "      <th>3</th>\n",
              "      <td>400025</td>\n",
              "      <td>Bucktown</td>\n",
              "      <td>609798</td>\n",
              "      <td>1</td>\n",
              "      <td>0.002141</td>\n",
              "      <td>BELDING</td>\n",
              "    </tr>\n",
              "    <tr>\n",
              "      <th>4</th>\n",
              "      <td>400025</td>\n",
              "      <td>Bucktown</td>\n",
              "      <td>609799</td>\n",
              "      <td>1</td>\n",
              "      <td>0.002141</td>\n",
              "      <td>BELL</td>\n",
              "    </tr>\n",
              "  </tbody>\n",
              "</table>\n",
              "</div>"
            ],
            "text/plain": [
              "   SchoolID    Campus  ZonedID  Students    Weight       ZonedName\n",
              "0    400025  Bucktown   609716         8  0.017131  KELVYN PARK HS\n",
              "1    400025  Bucktown   609789        13  0.027837           BARRY\n",
              "2    400025  Bucktown   609792         5  0.010707         BATEMAN\n",
              "3    400025  Bucktown   609798         1  0.002141         BELDING\n",
              "4    400025  Bucktown   609799         1  0.002141            BELL"
            ]
          },
          "metadata": {
            "tags": []
          },
          "execution_count": 45
        }
      ]
    },
    {
      "cell_type": "code",
      "metadata": {
        "id": "oxQimH79PFLs"
      },
      "source": [
        "result = pd.merge(vgg, keep, on='ZonedID')"
      ],
      "execution_count": null,
      "outputs": []
    },
    {
      "cell_type": "code",
      "metadata": {
        "id": "3DsbaAj0sQbL",
        "colab": {
          "base_uri": "https://localhost:8080/",
          "height": 292
        },
        "outputId": "8a3a832a-0aa7-4373-cb68-d35251c149c1"
      },
      "source": [
        "result.head()"
      ],
      "execution_count": null,
      "outputs": [
        {
          "output_type": "execute_result",
          "data": {
            "text/html": [
              "<div>\n",
              "<style scoped>\n",
              "    .dataframe tbody tr th:only-of-type {\n",
              "        vertical-align: middle;\n",
              "    }\n",
              "\n",
              "    .dataframe tbody tr th {\n",
              "        vertical-align: top;\n",
              "    }\n",
              "\n",
              "    .dataframe thead th {\n",
              "        text-align: right;\n",
              "    }\n",
              "</style>\n",
              "<table border=\"1\" class=\"dataframe\">\n",
              "  <thead>\n",
              "    <tr style=\"text-align: right;\">\n",
              "      <th></th>\n",
              "      <th>SchoolID</th>\n",
              "      <th>Campus</th>\n",
              "      <th>ZonedID</th>\n",
              "      <th>Students</th>\n",
              "      <th>Weight</th>\n",
              "      <th>ZonedName</th>\n",
              "      <th>SQRP Points</th>\n",
              "      <th>NSGPRead</th>\n",
              "      <th>NSGPMath</th>\n",
              "      <th>PercentGrowing</th>\n",
              "      <th>AAGPRead</th>\n",
              "      <th>HGPRead</th>\n",
              "      <th>ELGPRead</th>\n",
              "      <th>DLGPRead</th>\n",
              "      <th>AAGPMath</th>\n",
              "      <th>HGPMath</th>\n",
              "      <th>ELGPMath</th>\n",
              "      <th>DLGPMath</th>\n",
              "      <th>NSAPRead</th>\n",
              "      <th>NSAPMath</th>\n",
              "      <th>NSAP2Read</th>\n",
              "      <th>NSAP2Math</th>\n",
              "      <th>ACCESS</th>\n",
              "      <th>ADA</th>\n",
              "      <th>5E</th>\n",
              "    </tr>\n",
              "  </thead>\n",
              "  <tbody>\n",
              "    <tr>\n",
              "      <th>0</th>\n",
              "      <td>400025</td>\n",
              "      <td>Bucktown</td>\n",
              "      <td>609789</td>\n",
              "      <td>13</td>\n",
              "      <td>0.027837</td>\n",
              "      <td>BARRY</td>\n",
              "      <td>3.3</td>\n",
              "      <td>48</td>\n",
              "      <td>43</td>\n",
              "      <td>50.4</td>\n",
              "      <td>NaN</td>\n",
              "      <td>50</td>\n",
              "      <td>54</td>\n",
              "      <td>5</td>\n",
              "      <td>NaN</td>\n",
              "      <td>42</td>\n",
              "      <td>24</td>\n",
              "      <td>80</td>\n",
              "      <td>40</td>\n",
              "      <td>42</td>\n",
              "      <td>51</td>\n",
              "      <td>61</td>\n",
              "      <td>34.8</td>\n",
              "      <td>94.4</td>\n",
              "      <td>5</td>\n",
              "    </tr>\n",
              "    <tr>\n",
              "      <th>1</th>\n",
              "      <td>400027</td>\n",
              "      <td>Irving Park</td>\n",
              "      <td>609789</td>\n",
              "      <td>4</td>\n",
              "      <td>0.011331</td>\n",
              "      <td>BARRY</td>\n",
              "      <td>3.3</td>\n",
              "      <td>48</td>\n",
              "      <td>43</td>\n",
              "      <td>50.4</td>\n",
              "      <td>NaN</td>\n",
              "      <td>50</td>\n",
              "      <td>54</td>\n",
              "      <td>5</td>\n",
              "      <td>NaN</td>\n",
              "      <td>42</td>\n",
              "      <td>24</td>\n",
              "      <td>80</td>\n",
              "      <td>40</td>\n",
              "      <td>42</td>\n",
              "      <td>51</td>\n",
              "      <td>61</td>\n",
              "      <td>34.8</td>\n",
              "      <td>94.4</td>\n",
              "      <td>5</td>\n",
              "    </tr>\n",
              "    <tr>\n",
              "      <th>2</th>\n",
              "      <td>400030</td>\n",
              "      <td>West Belden</td>\n",
              "      <td>609789</td>\n",
              "      <td>2</td>\n",
              "      <td>0.005650</td>\n",
              "      <td>BARRY</td>\n",
              "      <td>3.3</td>\n",
              "      <td>48</td>\n",
              "      <td>43</td>\n",
              "      <td>50.4</td>\n",
              "      <td>NaN</td>\n",
              "      <td>50</td>\n",
              "      <td>54</td>\n",
              "      <td>5</td>\n",
              "      <td>NaN</td>\n",
              "      <td>42</td>\n",
              "      <td>24</td>\n",
              "      <td>80</td>\n",
              "      <td>40</td>\n",
              "      <td>42</td>\n",
              "      <td>51</td>\n",
              "      <td>61</td>\n",
              "      <td>34.8</td>\n",
              "      <td>94.4</td>\n",
              "      <td>5</td>\n",
              "    </tr>\n",
              "    <tr>\n",
              "      <th>3</th>\n",
              "      <td>400025</td>\n",
              "      <td>Bucktown</td>\n",
              "      <td>609792</td>\n",
              "      <td>5</td>\n",
              "      <td>0.010707</td>\n",
              "      <td>BATEMAN</td>\n",
              "      <td>4.1</td>\n",
              "      <td>81</td>\n",
              "      <td>65</td>\n",
              "      <td>62.3</td>\n",
              "      <td>NaN</td>\n",
              "      <td>78</td>\n",
              "      <td>79</td>\n",
              "      <td>88</td>\n",
              "      <td>NaN</td>\n",
              "      <td>61</td>\n",
              "      <td>52</td>\n",
              "      <td>81</td>\n",
              "      <td>75</td>\n",
              "      <td>67</td>\n",
              "      <td>60</td>\n",
              "      <td>47</td>\n",
              "      <td>28.9</td>\n",
              "      <td>96.4</td>\n",
              "      <td>5</td>\n",
              "    </tr>\n",
              "    <tr>\n",
              "      <th>4</th>\n",
              "      <td>400027</td>\n",
              "      <td>Irving Park</td>\n",
              "      <td>609792</td>\n",
              "      <td>19</td>\n",
              "      <td>0.053824</td>\n",
              "      <td>BATEMAN</td>\n",
              "      <td>4.1</td>\n",
              "      <td>81</td>\n",
              "      <td>65</td>\n",
              "      <td>62.3</td>\n",
              "      <td>NaN</td>\n",
              "      <td>78</td>\n",
              "      <td>79</td>\n",
              "      <td>88</td>\n",
              "      <td>NaN</td>\n",
              "      <td>61</td>\n",
              "      <td>52</td>\n",
              "      <td>81</td>\n",
              "      <td>75</td>\n",
              "      <td>67</td>\n",
              "      <td>60</td>\n",
              "      <td>47</td>\n",
              "      <td>28.9</td>\n",
              "      <td>96.4</td>\n",
              "      <td>5</td>\n",
              "    </tr>\n",
              "  </tbody>\n",
              "</table>\n",
              "</div>"
            ],
            "text/plain": [
              "   SchoolID       Campus  ZonedID  Students  ...  NSAP2Math ACCESS   ADA 5E\n",
              "0    400025     Bucktown   609789        13  ...         61   34.8  94.4  5\n",
              "1    400027  Irving Park   609789         4  ...         61   34.8  94.4  5\n",
              "2    400030  West Belden   609789         2  ...         61   34.8  94.4  5\n",
              "3    400025     Bucktown   609792         5  ...         47   28.9  96.4  5\n",
              "4    400027  Irving Park   609792        19  ...         47   28.9  96.4  5\n",
              "\n",
              "[5 rows x 25 columns]"
            ]
          },
          "metadata": {
            "tags": []
          },
          "execution_count": 47
        }
      ]
    },
    {
      "cell_type": "code",
      "metadata": {
        "id": "U-ruBILvs7O6",
        "colab": {
          "base_uri": "https://localhost:8080/",
          "height": 204
        },
        "outputId": "8366651c-6667-44d1-d2ba-820990837369"
      },
      "source": [
        "whole= result.iloc[:,:7]\n",
        "whole.head()"
      ],
      "execution_count": null,
      "outputs": [
        {
          "output_type": "execute_result",
          "data": {
            "text/html": [
              "<div>\n",
              "<style scoped>\n",
              "    .dataframe tbody tr th:only-of-type {\n",
              "        vertical-align: middle;\n",
              "    }\n",
              "\n",
              "    .dataframe tbody tr th {\n",
              "        vertical-align: top;\n",
              "    }\n",
              "\n",
              "    .dataframe thead th {\n",
              "        text-align: right;\n",
              "    }\n",
              "</style>\n",
              "<table border=\"1\" class=\"dataframe\">\n",
              "  <thead>\n",
              "    <tr style=\"text-align: right;\">\n",
              "      <th></th>\n",
              "      <th>SchoolID</th>\n",
              "      <th>Campus</th>\n",
              "      <th>ZonedID</th>\n",
              "      <th>Students</th>\n",
              "      <th>Weight</th>\n",
              "      <th>ZonedName</th>\n",
              "      <th>SQRP Points</th>\n",
              "    </tr>\n",
              "  </thead>\n",
              "  <tbody>\n",
              "    <tr>\n",
              "      <th>0</th>\n",
              "      <td>400025</td>\n",
              "      <td>Bucktown</td>\n",
              "      <td>609789</td>\n",
              "      <td>13</td>\n",
              "      <td>0.027837</td>\n",
              "      <td>BARRY</td>\n",
              "      <td>3.3</td>\n",
              "    </tr>\n",
              "    <tr>\n",
              "      <th>1</th>\n",
              "      <td>400027</td>\n",
              "      <td>Irving Park</td>\n",
              "      <td>609789</td>\n",
              "      <td>4</td>\n",
              "      <td>0.011331</td>\n",
              "      <td>BARRY</td>\n",
              "      <td>3.3</td>\n",
              "    </tr>\n",
              "    <tr>\n",
              "      <th>2</th>\n",
              "      <td>400030</td>\n",
              "      <td>West Belden</td>\n",
              "      <td>609789</td>\n",
              "      <td>2</td>\n",
              "      <td>0.005650</td>\n",
              "      <td>BARRY</td>\n",
              "      <td>3.3</td>\n",
              "    </tr>\n",
              "    <tr>\n",
              "      <th>3</th>\n",
              "      <td>400025</td>\n",
              "      <td>Bucktown</td>\n",
              "      <td>609792</td>\n",
              "      <td>5</td>\n",
              "      <td>0.010707</td>\n",
              "      <td>BATEMAN</td>\n",
              "      <td>4.1</td>\n",
              "    </tr>\n",
              "    <tr>\n",
              "      <th>4</th>\n",
              "      <td>400027</td>\n",
              "      <td>Irving Park</td>\n",
              "      <td>609792</td>\n",
              "      <td>19</td>\n",
              "      <td>0.053824</td>\n",
              "      <td>BATEMAN</td>\n",
              "      <td>4.1</td>\n",
              "    </tr>\n",
              "  </tbody>\n",
              "</table>\n",
              "</div>"
            ],
            "text/plain": [
              "   SchoolID       Campus  ZonedID  Students    Weight ZonedName  SQRP Points\n",
              "0    400025     Bucktown   609789        13  0.027837     BARRY          3.3\n",
              "1    400027  Irving Park   609789         4  0.011331     BARRY          3.3\n",
              "2    400030  West Belden   609789         2  0.005650     BARRY          3.3\n",
              "3    400025     Bucktown   609792         5  0.010707   BATEMAN          4.1\n",
              "4    400027  Irving Park   609792        19  0.053824   BATEMAN          4.1"
            ]
          },
          "metadata": {
            "tags": []
          },
          "execution_count": 51
        }
      ]
    },
    {
      "cell_type": "code",
      "metadata": {
        "id": "cmX1LS6bHgcl",
        "colab": {
          "base_uri": "https://localhost:8080/",
          "height": 173
        },
        "outputId": "d0d92000-2ade-4aa5-9ef4-7d92f74950c8"
      },
      "source": [
        "#Get the SQRP Points for the four Distinctive schools\n",
        "comp = keep[keep['ZonedID'].isin(DS)][['ZonedID','SQRP Points']]"
      ],
      "execution_count": null,
      "outputs": [
        {
          "output_type": "execute_result",
          "data": {
            "text/html": [
              "<div>\n",
              "<style scoped>\n",
              "    .dataframe tbody tr th:only-of-type {\n",
              "        vertical-align: middle;\n",
              "    }\n",
              "\n",
              "    .dataframe tbody tr th {\n",
              "        vertical-align: top;\n",
              "    }\n",
              "\n",
              "    .dataframe thead th {\n",
              "        text-align: right;\n",
              "    }\n",
              "</style>\n",
              "<table border=\"1\" class=\"dataframe\">\n",
              "  <thead>\n",
              "    <tr style=\"text-align: right;\">\n",
              "      <th></th>\n",
              "      <th>ZonedID</th>\n",
              "      <th>SQRP Points</th>\n",
              "    </tr>\n",
              "  </thead>\n",
              "  <tbody>\n",
              "    <tr>\n",
              "      <th>7</th>\n",
              "      <td>400025.0</td>\n",
              "      <td>4.1</td>\n",
              "    </tr>\n",
              "    <tr>\n",
              "      <th>9</th>\n",
              "      <td>400027.0</td>\n",
              "      <td>4.4</td>\n",
              "    </tr>\n",
              "    <tr>\n",
              "      <th>10</th>\n",
              "      <td>400028.0</td>\n",
              "      <td>2.8</td>\n",
              "    </tr>\n",
              "    <tr>\n",
              "      <th>12</th>\n",
              "      <td>400030.0</td>\n",
              "      <td>4.1</td>\n",
              "    </tr>\n",
              "  </tbody>\n",
              "</table>\n",
              "</div>"
            ],
            "text/plain": [
              "     ZonedID  SQRP Points\n",
              "7   400025.0          4.1\n",
              "9   400027.0          4.4\n",
              "10  400028.0          2.8\n",
              "12  400030.0          4.1"
            ]
          },
          "metadata": {
            "tags": []
          },
          "execution_count": 49
        }
      ]
    },
    {
      "cell_type": "code",
      "metadata": {
        "id": "pOKHG8b3tVzH"
      },
      "source": [
        "comp.columns=['SchoolID', 'Baseline']"
      ],
      "execution_count": null,
      "outputs": []
    },
    {
      "cell_type": "code",
      "metadata": {
        "id": "qPSX2RMlti7K",
        "colab": {
          "base_uri": "https://localhost:8080/",
          "height": 173
        },
        "outputId": "5b7f3230-b49c-407d-bfe8-9bec5661f66b"
      },
      "source": [
        "comp"
      ],
      "execution_count": null,
      "outputs": [
        {
          "output_type": "execute_result",
          "data": {
            "text/html": [
              "<div>\n",
              "<style scoped>\n",
              "    .dataframe tbody tr th:only-of-type {\n",
              "        vertical-align: middle;\n",
              "    }\n",
              "\n",
              "    .dataframe tbody tr th {\n",
              "        vertical-align: top;\n",
              "    }\n",
              "\n",
              "    .dataframe thead th {\n",
              "        text-align: right;\n",
              "    }\n",
              "</style>\n",
              "<table border=\"1\" class=\"dataframe\">\n",
              "  <thead>\n",
              "    <tr style=\"text-align: right;\">\n",
              "      <th></th>\n",
              "      <th>SchoolID</th>\n",
              "      <th>Baseline</th>\n",
              "    </tr>\n",
              "  </thead>\n",
              "  <tbody>\n",
              "    <tr>\n",
              "      <th>7</th>\n",
              "      <td>400025.0</td>\n",
              "      <td>4.1</td>\n",
              "    </tr>\n",
              "    <tr>\n",
              "      <th>9</th>\n",
              "      <td>400027.0</td>\n",
              "      <td>4.4</td>\n",
              "    </tr>\n",
              "    <tr>\n",
              "      <th>10</th>\n",
              "      <td>400028.0</td>\n",
              "      <td>2.8</td>\n",
              "    </tr>\n",
              "    <tr>\n",
              "      <th>12</th>\n",
              "      <td>400030.0</td>\n",
              "      <td>4.1</td>\n",
              "    </tr>\n",
              "  </tbody>\n",
              "</table>\n",
              "</div>"
            ],
            "text/plain": [
              "    SchoolID  Baseline\n",
              "7   400025.0       4.1\n",
              "9   400027.0       4.4\n",
              "10  400028.0       2.8\n",
              "12  400030.0       4.1"
            ]
          },
          "metadata": {
            "tags": []
          },
          "execution_count": 53
        }
      ]
    },
    {
      "cell_type": "code",
      "metadata": {
        "id": "PpH3Kkfct22s"
      },
      "source": [
        ""
      ],
      "execution_count": null,
      "outputs": []
    },
    {
      "cell_type": "code",
      "metadata": {
        "id": "BwoyLgm0tMuJ"
      },
      "source": [
        "whole = pd.merge(whole, comp, on='SchoolID')"
      ],
      "execution_count": null,
      "outputs": []
    },
    {
      "cell_type": "code",
      "metadata": {
        "id": "7ZbU4SHAtoqt",
        "colab": {
          "base_uri": "https://localhost:8080/",
          "height": 204
        },
        "outputId": "3b02071e-80e0-4458-c9be-e49427ad5c00"
      },
      "source": [
        "whole.tail()"
      ],
      "execution_count": null,
      "outputs": [
        {
          "output_type": "execute_result",
          "data": {
            "text/html": [
              "<div>\n",
              "<style scoped>\n",
              "    .dataframe tbody tr th:only-of-type {\n",
              "        vertical-align: middle;\n",
              "    }\n",
              "\n",
              "    .dataframe tbody tr th {\n",
              "        vertical-align: top;\n",
              "    }\n",
              "\n",
              "    .dataframe thead th {\n",
              "        text-align: right;\n",
              "    }\n",
              "</style>\n",
              "<table border=\"1\" class=\"dataframe\">\n",
              "  <thead>\n",
              "    <tr style=\"text-align: right;\">\n",
              "      <th></th>\n",
              "      <th>SchoolID</th>\n",
              "      <th>Campus</th>\n",
              "      <th>ZonedID</th>\n",
              "      <th>Students</th>\n",
              "      <th>Weight</th>\n",
              "      <th>ZonedName</th>\n",
              "      <th>SQRP Points</th>\n",
              "      <th>Baseline</th>\n",
              "      <th>DS_outperform</th>\n",
              "    </tr>\n",
              "  </thead>\n",
              "  <tbody>\n",
              "    <tr>\n",
              "      <th>273</th>\n",
              "      <td>400028</td>\n",
              "      <td>Prairie</td>\n",
              "      <td>610345</td>\n",
              "      <td>1</td>\n",
              "      <td>0.003289</td>\n",
              "      <td>WOODSON</td>\n",
              "      <td>3.0</td>\n",
              "      <td>2.8</td>\n",
              "      <td>0</td>\n",
              "    </tr>\n",
              "    <tr>\n",
              "      <th>274</th>\n",
              "      <td>400028</td>\n",
              "      <td>Prairie</td>\n",
              "      <td>610353</td>\n",
              "      <td>1</td>\n",
              "      <td>0.003289</td>\n",
              "      <td>CALMECA</td>\n",
              "      <td>3.6</td>\n",
              "      <td>2.8</td>\n",
              "      <td>0</td>\n",
              "    </tr>\n",
              "    <tr>\n",
              "      <th>275</th>\n",
              "      <td>400028</td>\n",
              "      <td>Prairie</td>\n",
              "      <td>610364</td>\n",
              "      <td>2</td>\n",
              "      <td>0.006579</td>\n",
              "      <td>DUBOIS</td>\n",
              "      <td>3.6</td>\n",
              "      <td>2.8</td>\n",
              "      <td>0</td>\n",
              "    </tr>\n",
              "    <tr>\n",
              "      <th>276</th>\n",
              "      <td>400028</td>\n",
              "      <td>Prairie</td>\n",
              "      <td>610368</td>\n",
              "      <td>6</td>\n",
              "      <td>0.019737</td>\n",
              "      <td>HUGHES L</td>\n",
              "      <td>2.8</td>\n",
              "      <td>2.8</td>\n",
              "      <td>0</td>\n",
              "    </tr>\n",
              "    <tr>\n",
              "      <th>277</th>\n",
              "      <td>400028</td>\n",
              "      <td>Prairie</td>\n",
              "      <td>610369</td>\n",
              "      <td>1</td>\n",
              "      <td>0.003289</td>\n",
              "      <td>JACKSON M</td>\n",
              "      <td>2.4</td>\n",
              "      <td>2.8</td>\n",
              "      <td>1</td>\n",
              "    </tr>\n",
              "  </tbody>\n",
              "</table>\n",
              "</div>"
            ],
            "text/plain": [
              "     SchoolID   Campus  ZonedID  ...  SQRP Points  Baseline DS_outperform\n",
              "273    400028  Prairie   610345  ...          3.0       2.8             0\n",
              "274    400028  Prairie   610353  ...          3.6       2.8             0\n",
              "275    400028  Prairie   610364  ...          3.6       2.8             0\n",
              "276    400028  Prairie   610368  ...          2.8       2.8             0\n",
              "277    400028  Prairie   610369  ...          2.4       2.8             1\n",
              "\n",
              "[5 rows x 9 columns]"
            ]
          },
          "metadata": {
            "tags": []
          },
          "execution_count": 80
        }
      ]
    },
    {
      "cell_type": "code",
      "metadata": {
        "id": "3ZrnMfcuuzL-"
      },
      "source": [
        "whole['DS_outperform'] = whole['Baseline']-whole['SQRP Points']"
      ],
      "execution_count": null,
      "outputs": []
    },
    {
      "cell_type": "code",
      "metadata": {
        "id": "-XgGEya3vwOC"
      },
      "source": [
        "whole['DS_outperform'] = whole['DS_outperform'].apply(lambda x: 1 if x >=0 else 0)"
      ],
      "execution_count": null,
      "outputs": []
    },
    {
      "cell_type": "code",
      "metadata": {
        "id": "0hFqeFMlv8Rg"
      },
      "source": [
        "whole['DS_outperform'] = whole['DS_outperform'].multiply(whole[\"Students\"], axis=\"index\")"
      ],
      "execution_count": null,
      "outputs": []
    },
    {
      "cell_type": "markdown",
      "metadata": {
        "id": "YDCw3VUKothb"
      },
      "source": [
        "# Results"
      ]
    },
    {
      "cell_type": "code",
      "metadata": {
        "id": "M64L27o4wjTt",
        "colab": {
          "base_uri": "https://localhost:8080/",
          "height": 34
        },
        "outputId": "b128eab5-af6d-48ab-abc9-dea9085242a6"
      },
      "source": [
        "#Distinctive school performs better or equal than (>=) 88.36% of the zoned schools\n",
        "#Distinctive school outperform (>) 81.2% of the zoned schools\n",
        "\n",
        "100*whole['DS_outperform'].sum()/whole['Students'].sum()"
      ],
      "execution_count": null,
      "outputs": [
        {
          "output_type": "execute_result",
          "data": {
            "text/plain": [
              "81.1772758384668"
            ]
          },
          "metadata": {
            "tags": []
          },
          "execution_count": 82
        }
      ]
    },
    {
      "cell_type": "code",
      "metadata": {
        "id": "OMYUIKmoyCqm",
        "colab": {
          "base_uri": "https://localhost:8080/",
          "height": 34
        },
        "outputId": "fde9a30b-5a1b-402a-b74e-351b615a904e"
      },
      "source": [
        "whole['Students'].sum()"
      ],
      "execution_count": null,
      "outputs": [
        {
          "output_type": "execute_result",
          "data": {
            "text/plain": [
              "1461"
            ]
          },
          "metadata": {
            "tags": []
          },
          "execution_count": 77
        }
      ]
    },
    {
      "cell_type": "code",
      "metadata": {
        "id": "RKBiYoIrg6oa"
      },
      "source": [
        "score = ['SQRP Points', 'NSGPRead', 'NSGPMath', 'PercentGrowing', 'AAGPRead',\n",
        "       'HGPRead', 'ELGPRead', 'DLGPRead', 'AAGPMath', 'HGPMath', 'ELGPMath',\n",
        "       'DLGPMath', 'NSAPRead', 'NSAPMath', 'NSAP2Read', 'NSAP2Math', 'ACCESS',\n",
        "       'ADA', '5E']"
      ],
      "execution_count": null,
      "outputs": []
    },
    {
      "cell_type": "code",
      "metadata": {
        "id": "jcS_L56GgtID"
      },
      "source": [
        "result[score] = result[score].multiply(result[\"Weight\"], axis=\"index\")"
      ],
      "execution_count": null,
      "outputs": []
    },
    {
      "cell_type": "code",
      "metadata": {
        "id": "Ox5wSOW53_gq"
      },
      "source": [
        "ws = ['Weight']+score"
      ],
      "execution_count": null,
      "outputs": []
    },
    {
      "cell_type": "code",
      "metadata": {
        "id": "DCXFJH43bLzI",
        "colab": {
          "base_uri": "https://localhost:8080/",
          "height": 558
        },
        "outputId": "12659d94-fee6-4a39-9b70-cda693f3d9d6"
      },
      "source": [
        "result"
      ],
      "execution_count": null,
      "outputs": [
        {
          "output_type": "execute_result",
          "data": {
            "text/html": [
              "<div>\n",
              "<style scoped>\n",
              "    .dataframe tbody tr th:only-of-type {\n",
              "        vertical-align: middle;\n",
              "    }\n",
              "\n",
              "    .dataframe tbody tr th {\n",
              "        vertical-align: top;\n",
              "    }\n",
              "\n",
              "    .dataframe thead th {\n",
              "        text-align: right;\n",
              "    }\n",
              "</style>\n",
              "<table border=\"1\" class=\"dataframe\">\n",
              "  <thead>\n",
              "    <tr style=\"text-align: right;\">\n",
              "      <th></th>\n",
              "      <th>SchoolID</th>\n",
              "      <th>Campus</th>\n",
              "      <th>ZonedID</th>\n",
              "      <th>Students</th>\n",
              "      <th>Weight</th>\n",
              "      <th>ZonedName</th>\n",
              "      <th>SQRP Points</th>\n",
              "      <th>NSGPRead</th>\n",
              "      <th>NSGPMath</th>\n",
              "      <th>PercentGrowing</th>\n",
              "      <th>AAGPRead</th>\n",
              "      <th>HGPRead</th>\n",
              "      <th>ELGPRead</th>\n",
              "      <th>DLGPRead</th>\n",
              "      <th>AAGPMath</th>\n",
              "      <th>HGPMath</th>\n",
              "      <th>ELGPMath</th>\n",
              "      <th>DLGPMath</th>\n",
              "      <th>NSAPRead</th>\n",
              "      <th>NSAPMath</th>\n",
              "      <th>NSAP2Read</th>\n",
              "      <th>NSAP2Math</th>\n",
              "      <th>ACCESS</th>\n",
              "      <th>ADA</th>\n",
              "      <th>5E</th>\n",
              "    </tr>\n",
              "  </thead>\n",
              "  <tbody>\n",
              "    <tr>\n",
              "      <th>0</th>\n",
              "      <td>400025</td>\n",
              "      <td>Bucktown</td>\n",
              "      <td>609789</td>\n",
              "      <td>13</td>\n",
              "      <td>0.027837</td>\n",
              "      <td>BARRY</td>\n",
              "      <td>3.3</td>\n",
              "      <td>48</td>\n",
              "      <td>43</td>\n",
              "      <td>50.4</td>\n",
              "      <td>NaN</td>\n",
              "      <td>50</td>\n",
              "      <td>54</td>\n",
              "      <td>5</td>\n",
              "      <td>NaN</td>\n",
              "      <td>42</td>\n",
              "      <td>24</td>\n",
              "      <td>80</td>\n",
              "      <td>40</td>\n",
              "      <td>42</td>\n",
              "      <td>51</td>\n",
              "      <td>61</td>\n",
              "      <td>34.8</td>\n",
              "      <td>94.4</td>\n",
              "      <td>5</td>\n",
              "    </tr>\n",
              "    <tr>\n",
              "      <th>1</th>\n",
              "      <td>400027</td>\n",
              "      <td>Irving Park</td>\n",
              "      <td>609789</td>\n",
              "      <td>4</td>\n",
              "      <td>0.011331</td>\n",
              "      <td>BARRY</td>\n",
              "      <td>3.3</td>\n",
              "      <td>48</td>\n",
              "      <td>43</td>\n",
              "      <td>50.4</td>\n",
              "      <td>NaN</td>\n",
              "      <td>50</td>\n",
              "      <td>54</td>\n",
              "      <td>5</td>\n",
              "      <td>NaN</td>\n",
              "      <td>42</td>\n",
              "      <td>24</td>\n",
              "      <td>80</td>\n",
              "      <td>40</td>\n",
              "      <td>42</td>\n",
              "      <td>51</td>\n",
              "      <td>61</td>\n",
              "      <td>34.8</td>\n",
              "      <td>94.4</td>\n",
              "      <td>5</td>\n",
              "    </tr>\n",
              "    <tr>\n",
              "      <th>2</th>\n",
              "      <td>400030</td>\n",
              "      <td>West Belden</td>\n",
              "      <td>609789</td>\n",
              "      <td>2</td>\n",
              "      <td>0.005650</td>\n",
              "      <td>BARRY</td>\n",
              "      <td>3.3</td>\n",
              "      <td>48</td>\n",
              "      <td>43</td>\n",
              "      <td>50.4</td>\n",
              "      <td>NaN</td>\n",
              "      <td>50</td>\n",
              "      <td>54</td>\n",
              "      <td>5</td>\n",
              "      <td>NaN</td>\n",
              "      <td>42</td>\n",
              "      <td>24</td>\n",
              "      <td>80</td>\n",
              "      <td>40</td>\n",
              "      <td>42</td>\n",
              "      <td>51</td>\n",
              "      <td>61</td>\n",
              "      <td>34.8</td>\n",
              "      <td>94.4</td>\n",
              "      <td>5</td>\n",
              "    </tr>\n",
              "    <tr>\n",
              "      <th>3</th>\n",
              "      <td>400025</td>\n",
              "      <td>Bucktown</td>\n",
              "      <td>609792</td>\n",
              "      <td>5</td>\n",
              "      <td>0.010707</td>\n",
              "      <td>BATEMAN</td>\n",
              "      <td>4.1</td>\n",
              "      <td>81</td>\n",
              "      <td>65</td>\n",
              "      <td>62.3</td>\n",
              "      <td>NaN</td>\n",
              "      <td>78</td>\n",
              "      <td>79</td>\n",
              "      <td>88</td>\n",
              "      <td>NaN</td>\n",
              "      <td>61</td>\n",
              "      <td>52</td>\n",
              "      <td>81</td>\n",
              "      <td>75</td>\n",
              "      <td>67</td>\n",
              "      <td>60</td>\n",
              "      <td>47</td>\n",
              "      <td>28.9</td>\n",
              "      <td>96.4</td>\n",
              "      <td>5</td>\n",
              "    </tr>\n",
              "    <tr>\n",
              "      <th>4</th>\n",
              "      <td>400027</td>\n",
              "      <td>Irving Park</td>\n",
              "      <td>609792</td>\n",
              "      <td>19</td>\n",
              "      <td>0.053824</td>\n",
              "      <td>BATEMAN</td>\n",
              "      <td>4.1</td>\n",
              "      <td>81</td>\n",
              "      <td>65</td>\n",
              "      <td>62.3</td>\n",
              "      <td>NaN</td>\n",
              "      <td>78</td>\n",
              "      <td>79</td>\n",
              "      <td>88</td>\n",
              "      <td>NaN</td>\n",
              "      <td>61</td>\n",
              "      <td>52</td>\n",
              "      <td>81</td>\n",
              "      <td>75</td>\n",
              "      <td>67</td>\n",
              "      <td>60</td>\n",
              "      <td>47</td>\n",
              "      <td>28.9</td>\n",
              "      <td>96.4</td>\n",
              "      <td>5</td>\n",
              "    </tr>\n",
              "    <tr>\n",
              "      <th>...</th>\n",
              "      <td>...</td>\n",
              "      <td>...</td>\n",
              "      <td>...</td>\n",
              "      <td>...</td>\n",
              "      <td>...</td>\n",
              "      <td>...</td>\n",
              "      <td>...</td>\n",
              "      <td>...</td>\n",
              "      <td>...</td>\n",
              "      <td>...</td>\n",
              "      <td>...</td>\n",
              "      <td>...</td>\n",
              "      <td>...</td>\n",
              "      <td>...</td>\n",
              "      <td>...</td>\n",
              "      <td>...</td>\n",
              "      <td>...</td>\n",
              "      <td>...</td>\n",
              "      <td>...</td>\n",
              "      <td>...</td>\n",
              "      <td>...</td>\n",
              "      <td>...</td>\n",
              "      <td>...</td>\n",
              "      <td>...</td>\n",
              "      <td>...</td>\n",
              "    </tr>\n",
              "    <tr>\n",
              "      <th>273</th>\n",
              "      <td>400028</td>\n",
              "      <td>Prairie</td>\n",
              "      <td>610364</td>\n",
              "      <td>2</td>\n",
              "      <td>0.006579</td>\n",
              "      <td>DUBOIS</td>\n",
              "      <td>3.6</td>\n",
              "      <td>60</td>\n",
              "      <td>58</td>\n",
              "      <td>59</td>\n",
              "      <td>58</td>\n",
              "      <td>NaN</td>\n",
              "      <td>NaN</td>\n",
              "      <td>NaN</td>\n",
              "      <td>58</td>\n",
              "      <td>NaN</td>\n",
              "      <td>NaN</td>\n",
              "      <td>NaN</td>\n",
              "      <td>38</td>\n",
              "      <td>16</td>\n",
              "      <td>23</td>\n",
              "      <td>19</td>\n",
              "      <td>NaN</td>\n",
              "      <td>96</td>\n",
              "      <td>5</td>\n",
              "    </tr>\n",
              "    <tr>\n",
              "      <th>274</th>\n",
              "      <td>400028</td>\n",
              "      <td>Prairie</td>\n",
              "      <td>610368</td>\n",
              "      <td>6</td>\n",
              "      <td>0.019737</td>\n",
              "      <td>HUGHES L</td>\n",
              "      <td>2.8</td>\n",
              "      <td>56</td>\n",
              "      <td>73</td>\n",
              "      <td>55.5</td>\n",
              "      <td>56</td>\n",
              "      <td>NaN</td>\n",
              "      <td>NaN</td>\n",
              "      <td>14</td>\n",
              "      <td>72</td>\n",
              "      <td>NaN</td>\n",
              "      <td>NaN</td>\n",
              "      <td>96</td>\n",
              "      <td>22</td>\n",
              "      <td>22</td>\n",
              "      <td>4</td>\n",
              "      <td>1</td>\n",
              "      <td>NaN</td>\n",
              "      <td>93</td>\n",
              "      <td>2</td>\n",
              "    </tr>\n",
              "    <tr>\n",
              "      <th>275</th>\n",
              "      <td>400028</td>\n",
              "      <td>Prairie</td>\n",
              "      <td>610369</td>\n",
              "      <td>1</td>\n",
              "      <td>0.003289</td>\n",
              "      <td>JACKSON M</td>\n",
              "      <td>2.4</td>\n",
              "      <td>54</td>\n",
              "      <td>6</td>\n",
              "      <td>44.2</td>\n",
              "      <td>54</td>\n",
              "      <td>NaN</td>\n",
              "      <td>NaN</td>\n",
              "      <td>17</td>\n",
              "      <td>5</td>\n",
              "      <td>NaN</td>\n",
              "      <td>NaN</td>\n",
              "      <td>1</td>\n",
              "      <td>12</td>\n",
              "      <td>5</td>\n",
              "      <td>1</td>\n",
              "      <td>1</td>\n",
              "      <td>NaN</td>\n",
              "      <td>93.6</td>\n",
              "      <td>5</td>\n",
              "    </tr>\n",
              "    <tr>\n",
              "      <th>276</th>\n",
              "      <td>400030</td>\n",
              "      <td>West Belden</td>\n",
              "      <td>610183</td>\n",
              "      <td>1</td>\n",
              "      <td>0.002825</td>\n",
              "      <td>SPENCER</td>\n",
              "      <td>2.3</td>\n",
              "      <td>13</td>\n",
              "      <td>11</td>\n",
              "      <td>36.6</td>\n",
              "      <td>11</td>\n",
              "      <td>NaN</td>\n",
              "      <td>NaN</td>\n",
              "      <td>30</td>\n",
              "      <td>9</td>\n",
              "      <td>NaN</td>\n",
              "      <td>NaN</td>\n",
              "      <td>28</td>\n",
              "      <td>15</td>\n",
              "      <td>16</td>\n",
              "      <td>1</td>\n",
              "      <td>1</td>\n",
              "      <td>NaN</td>\n",
              "      <td>92.5</td>\n",
              "      <td>5</td>\n",
              "    </tr>\n",
              "    <tr>\n",
              "      <th>277</th>\n",
              "      <td>400030</td>\n",
              "      <td>West Belden</td>\n",
              "      <td>610206</td>\n",
              "      <td>1</td>\n",
              "      <td>0.002825</td>\n",
              "      <td>TWAIN</td>\n",
              "      <td>4.0</td>\n",
              "      <td>81</td>\n",
              "      <td>76</td>\n",
              "      <td>64.7</td>\n",
              "      <td>NaN</td>\n",
              "      <td>82</td>\n",
              "      <td>46</td>\n",
              "      <td>83</td>\n",
              "      <td>NaN</td>\n",
              "      <td>77</td>\n",
              "      <td>39</td>\n",
              "      <td>55</td>\n",
              "      <td>82</td>\n",
              "      <td>83</td>\n",
              "      <td>62</td>\n",
              "      <td>54</td>\n",
              "      <td>23.7</td>\n",
              "      <td>95.6</td>\n",
              "      <td>5</td>\n",
              "    </tr>\n",
              "  </tbody>\n",
              "</table>\n",
              "<p>278 rows × 25 columns</p>\n",
              "</div>"
            ],
            "text/plain": [
              "     SchoolID       Campus  ZonedID  Students  ...  NSAP2Math ACCESS   ADA 5E\n",
              "0      400025     Bucktown   609789        13  ...         61   34.8  94.4  5\n",
              "1      400027  Irving Park   609789         4  ...         61   34.8  94.4  5\n",
              "2      400030  West Belden   609789         2  ...         61   34.8  94.4  5\n",
              "3      400025     Bucktown   609792         5  ...         47   28.9  96.4  5\n",
              "4      400027  Irving Park   609792        19  ...         47   28.9  96.4  5\n",
              "..        ...          ...      ...       ...  ...        ...    ...   ... ..\n",
              "273    400028      Prairie   610364         2  ...         19    NaN    96  5\n",
              "274    400028      Prairie   610368         6  ...          1    NaN    93  2\n",
              "275    400028      Prairie   610369         1  ...          1    NaN  93.6  5\n",
              "276    400030  West Belden   610183         1  ...          1    NaN  92.5  5\n",
              "277    400030  West Belden   610206         1  ...         54   23.7  95.6  5\n",
              "\n",
              "[278 rows x 25 columns]"
            ]
          },
          "metadata": {
            "tags": []
          },
          "execution_count": 101
        }
      ]
    },
    {
      "cell_type": "code",
      "metadata": {
        "id": "dSCOG5Bcjnm-"
      },
      "source": [
        "sr = result.groupby('Campus')[ws].sum()"
      ],
      "execution_count": null,
      "outputs": []
    },
    {
      "cell_type": "code",
      "metadata": {
        "id": "gELGaSPEKFF9",
        "colab": {
          "base_uri": "https://localhost:8080/",
          "height": 204
        },
        "outputId": "596af783-00c3-4053-e0a0-8438a57cba9d"
      },
      "source": [
        "sr"
      ],
      "execution_count": null,
      "outputs": [
        {
          "output_type": "execute_result",
          "data": {
            "text/html": [
              "<div>\n",
              "<style scoped>\n",
              "    .dataframe tbody tr th:only-of-type {\n",
              "        vertical-align: middle;\n",
              "    }\n",
              "\n",
              "    .dataframe tbody tr th {\n",
              "        vertical-align: top;\n",
              "    }\n",
              "\n",
              "    .dataframe thead th {\n",
              "        text-align: right;\n",
              "    }\n",
              "</style>\n",
              "<table border=\"1\" class=\"dataframe\">\n",
              "  <thead>\n",
              "    <tr style=\"text-align: right;\">\n",
              "      <th></th>\n",
              "      <th>Weight</th>\n",
              "      <th>SQRP Points</th>\n",
              "    </tr>\n",
              "    <tr>\n",
              "      <th>Campus</th>\n",
              "      <th></th>\n",
              "      <th></th>\n",
              "    </tr>\n",
              "  </thead>\n",
              "  <tbody>\n",
              "    <tr>\n",
              "      <th>Bucktown</th>\n",
              "      <td>0.982869</td>\n",
              "      <td>3.310921</td>\n",
              "    </tr>\n",
              "    <tr>\n",
              "      <th>Irving Park</th>\n",
              "      <td>0.988669</td>\n",
              "      <td>3.662889</td>\n",
              "    </tr>\n",
              "    <tr>\n",
              "      <th>Prairie</th>\n",
              "      <td>1.000000</td>\n",
              "      <td>2.775000</td>\n",
              "    </tr>\n",
              "    <tr>\n",
              "      <th>West Belden</th>\n",
              "      <td>0.985876</td>\n",
              "      <td>3.462994</td>\n",
              "    </tr>\n",
              "  </tbody>\n",
              "</table>\n",
              "</div>"
            ],
            "text/plain": [
              "               Weight  SQRP Points\n",
              "Campus                            \n",
              "Bucktown     0.982869     3.310921\n",
              "Irving Park  0.988669     3.662889\n",
              "Prairie      1.000000     2.775000\n",
              "West Belden  0.985876     3.462994"
            ]
          },
          "metadata": {
            "tags": []
          },
          "execution_count": 50
        }
      ]
    },
    {
      "cell_type": "code",
      "metadata": {
        "id": "mxRFh1QwJuBd",
        "colab": {
          "base_uri": "https://localhost:8080/",
          "height": 119
        },
        "outputId": "5349e973-365e-4de4-ac63-63f62997d8e8"
      },
      "source": [
        "sr['SQRP Points']/sr['Weight']"
      ],
      "execution_count": null,
      "outputs": [
        {
          "output_type": "execute_result",
          "data": {
            "text/plain": [
              "Campus\n",
              "Bucktown       3.368627\n",
              "Irving Park    3.704871\n",
              "Prairie        2.775000\n",
              "West Belden    3.512607\n",
              "dtype: float64"
            ]
          },
          "metadata": {
            "tags": []
          },
          "execution_count": 51
        }
      ]
    },
    {
      "cell_type": "markdown",
      "metadata": {
        "id": "ntnfzAecSlug"
      },
      "source": [
        "# VCG Weighted Growth Table \n",
        "##(Weights with Left Join from Growth on VCGWeights.ZonedID = Growth.ZonedID for SY2019 and Grades 3-8 Combined only)\n"
      ]
    },
    {
      "cell_type": "code",
      "metadata": {
        "id": "z4Aq5Rbc5wIa"
      },
      "source": [
        "#Filter the grade level with only SY2019\n",
        "g0 = growth[growth.AcademicYear=='SY2019']"
      ],
      "execution_count": null,
      "outputs": []
    },
    {
      "cell_type": "code",
      "metadata": {
        "id": "pfy6g1F9TktB"
      },
      "source": [
        "g0 = g0[['ZonedID','GrowthPercentile', 'Subject']]"
      ],
      "execution_count": null,
      "outputs": []
    },
    {
      "cell_type": "code",
      "metadata": {
        "id": "kvWWKidP6Za2",
        "colab": {
          "base_uri": "https://localhost:8080/",
          "height": 204
        },
        "outputId": "ec3f516b-41b9-4fdd-9b22-737cc4cc15ea"
      },
      "source": [
        "g0.head()"
      ],
      "execution_count": null,
      "outputs": [
        {
          "output_type": "execute_result",
          "data": {
            "text/html": [
              "<div>\n",
              "<style scoped>\n",
              "    .dataframe tbody tr th:only-of-type {\n",
              "        vertical-align: middle;\n",
              "    }\n",
              "\n",
              "    .dataframe tbody tr th {\n",
              "        vertical-align: top;\n",
              "    }\n",
              "\n",
              "    .dataframe thead th {\n",
              "        text-align: right;\n",
              "    }\n",
              "</style>\n",
              "<table border=\"1\" class=\"dataframe\">\n",
              "  <thead>\n",
              "    <tr style=\"text-align: right;\">\n",
              "      <th></th>\n",
              "      <th>ZonedID</th>\n",
              "      <th>GrowthPercentile</th>\n",
              "      <th>Subject</th>\n",
              "    </tr>\n",
              "  </thead>\n",
              "  <tbody>\n",
              "    <tr>\n",
              "      <th>4943</th>\n",
              "      <td>400009</td>\n",
              "      <td>56.0</td>\n",
              "      <td>READING</td>\n",
              "    </tr>\n",
              "    <tr>\n",
              "      <th>4944</th>\n",
              "      <td>400009</td>\n",
              "      <td>42.0</td>\n",
              "      <td>MATH</td>\n",
              "    </tr>\n",
              "    <tr>\n",
              "      <th>4945</th>\n",
              "      <td>400011</td>\n",
              "      <td>64.0</td>\n",
              "      <td>READING</td>\n",
              "    </tr>\n",
              "    <tr>\n",
              "      <th>4946</th>\n",
              "      <td>400011</td>\n",
              "      <td>65.0</td>\n",
              "      <td>MATH</td>\n",
              "    </tr>\n",
              "    <tr>\n",
              "      <th>4947</th>\n",
              "      <td>400017</td>\n",
              "      <td>50.0</td>\n",
              "      <td>READING</td>\n",
              "    </tr>\n",
              "  </tbody>\n",
              "</table>\n",
              "</div>"
            ],
            "text/plain": [
              "      ZonedID  GrowthPercentile  Subject\n",
              "4943   400009              56.0  READING\n",
              "4944   400009              42.0     MATH\n",
              "4945   400011              64.0  READING\n",
              "4946   400011              65.0     MATH\n",
              "4947   400017              50.0  READING"
            ]
          },
          "metadata": {
            "tags": []
          },
          "execution_count": 55
        }
      ]
    },
    {
      "cell_type": "code",
      "metadata": {
        "id": "t9tOrxzVQ19D"
      },
      "source": [
        "VGG_Growth = pd.merge(vgg[['SchoolID','Campus','Weight','ZonedID']], g0, on='ZonedID')"
      ],
      "execution_count": null,
      "outputs": []
    },
    {
      "cell_type": "code",
      "metadata": {
        "id": "DDFSmJbPS7qD"
      },
      "source": [
        "VGG_Growth =VGG_Growth.drop_duplicates()"
      ],
      "execution_count": null,
      "outputs": []
    },
    {
      "cell_type": "code",
      "metadata": {
        "id": "zqMg4qF9BzcD",
        "colab": {
          "base_uri": "https://localhost:8080/",
          "height": 204
        },
        "outputId": "0c282fe8-41e7-4c7f-b4e7-e48859a3c691"
      },
      "source": [
        "VGG_Growth.head()"
      ],
      "execution_count": null,
      "outputs": [
        {
          "output_type": "execute_result",
          "data": {
            "text/html": [
              "<div>\n",
              "<style scoped>\n",
              "    .dataframe tbody tr th:only-of-type {\n",
              "        vertical-align: middle;\n",
              "    }\n",
              "\n",
              "    .dataframe tbody tr th {\n",
              "        vertical-align: top;\n",
              "    }\n",
              "\n",
              "    .dataframe thead th {\n",
              "        text-align: right;\n",
              "    }\n",
              "</style>\n",
              "<table border=\"1\" class=\"dataframe\">\n",
              "  <thead>\n",
              "    <tr style=\"text-align: right;\">\n",
              "      <th></th>\n",
              "      <th>SchoolID</th>\n",
              "      <th>Campus</th>\n",
              "      <th>Weight</th>\n",
              "      <th>ZonedID</th>\n",
              "      <th>GrowthPercentile</th>\n",
              "      <th>Subject</th>\n",
              "    </tr>\n",
              "  </thead>\n",
              "  <tbody>\n",
              "    <tr>\n",
              "      <th>0</th>\n",
              "      <td>400025</td>\n",
              "      <td>Bucktown</td>\n",
              "      <td>0.017131</td>\n",
              "      <td>609716</td>\n",
              "      <td>6.0</td>\n",
              "      <td>READING</td>\n",
              "    </tr>\n",
              "    <tr>\n",
              "      <th>1</th>\n",
              "      <td>400025</td>\n",
              "      <td>Bucktown</td>\n",
              "      <td>0.017131</td>\n",
              "      <td>609716</td>\n",
              "      <td>11.0</td>\n",
              "      <td>MATH</td>\n",
              "    </tr>\n",
              "    <tr>\n",
              "      <th>2</th>\n",
              "      <td>400027</td>\n",
              "      <td>Irving Park</td>\n",
              "      <td>0.011331</td>\n",
              "      <td>609716</td>\n",
              "      <td>6.0</td>\n",
              "      <td>READING</td>\n",
              "    </tr>\n",
              "    <tr>\n",
              "      <th>3</th>\n",
              "      <td>400027</td>\n",
              "      <td>Irving Park</td>\n",
              "      <td>0.011331</td>\n",
              "      <td>609716</td>\n",
              "      <td>11.0</td>\n",
              "      <td>MATH</td>\n",
              "    </tr>\n",
              "    <tr>\n",
              "      <th>4</th>\n",
              "      <td>400030</td>\n",
              "      <td>West Belden</td>\n",
              "      <td>0.011299</td>\n",
              "      <td>609716</td>\n",
              "      <td>6.0</td>\n",
              "      <td>READING</td>\n",
              "    </tr>\n",
              "  </tbody>\n",
              "</table>\n",
              "</div>"
            ],
            "text/plain": [
              "   SchoolID       Campus    Weight  ZonedID  GrowthPercentile  Subject\n",
              "0    400025     Bucktown  0.017131   609716               6.0  READING\n",
              "1    400025     Bucktown  0.017131   609716              11.0     MATH\n",
              "2    400027  Irving Park  0.011331   609716               6.0  READING\n",
              "3    400027  Irving Park  0.011331   609716              11.0     MATH\n",
              "4    400030  West Belden  0.011299   609716               6.0  READING"
            ]
          },
          "metadata": {
            "tags": []
          },
          "execution_count": 58
        }
      ]
    },
    {
      "cell_type": "markdown",
      "metadata": {
        "id": "ZiYSAuCQTDWu"
      },
      "source": [
        "# VCG Weighted Attainment Table \n",
        "##(Weights with Left Join from Attainment on VCGWeights.ZonedID = Attainment.ZonedID for SY2019 and Grades 2-8 Combined & Grades 3-8 Combined only)\n"
      ]
    },
    {
      "cell_type": "code",
      "metadata": {
        "id": "vxjpujnW6is7"
      },
      "source": [
        "#Filter the grade level with only SY2019\n",
        "a0 = attainment[attainment.AcademicYear=='SY2019']"
      ],
      "execution_count": null,
      "outputs": []
    },
    {
      "cell_type": "code",
      "metadata": {
        "id": "2aI24j0EUicB"
      },
      "source": [
        "a0 = a0[['ZonedID', 'AchievementPercentile', 'Subject']]"
      ],
      "execution_count": null,
      "outputs": []
    },
    {
      "cell_type": "code",
      "metadata": {
        "id": "4kleuh8fS_QD"
      },
      "source": [
        "VAG = pd.merge(VGG_Growth, a0, on=['ZonedID','Subject'])"
      ],
      "execution_count": null,
      "outputs": []
    },
    {
      "cell_type": "code",
      "metadata": {
        "id": "ykT4Emw_TRuw"
      },
      "source": [
        "join = [ 'SchoolID','Campus', 'ZonedID', 'Weight','Subject', 'GrowthPercentile', 'AchievementPercentile']"
      ],
      "execution_count": null,
      "outputs": []
    },
    {
      "cell_type": "code",
      "metadata": {
        "id": "P8Ga17w58nPM"
      },
      "source": [
        "VAG=VAG[join]"
      ],
      "execution_count": null,
      "outputs": []
    },
    {
      "cell_type": "code",
      "metadata": {
        "id": "yM0D0sksDBeH",
        "colab": {
          "base_uri": "https://localhost:8080/",
          "height": 204
        },
        "outputId": "1d546e9b-bbde-4076-e7d1-1c5e0a87c3a1"
      },
      "source": [
        "VAG.head()"
      ],
      "execution_count": null,
      "outputs": [
        {
          "output_type": "execute_result",
          "data": {
            "text/html": [
              "<div>\n",
              "<style scoped>\n",
              "    .dataframe tbody tr th:only-of-type {\n",
              "        vertical-align: middle;\n",
              "    }\n",
              "\n",
              "    .dataframe tbody tr th {\n",
              "        vertical-align: top;\n",
              "    }\n",
              "\n",
              "    .dataframe thead th {\n",
              "        text-align: right;\n",
              "    }\n",
              "</style>\n",
              "<table border=\"1\" class=\"dataframe\">\n",
              "  <thead>\n",
              "    <tr style=\"text-align: right;\">\n",
              "      <th></th>\n",
              "      <th>SchoolID</th>\n",
              "      <th>Campus</th>\n",
              "      <th>ZonedID</th>\n",
              "      <th>Weight</th>\n",
              "      <th>Subject</th>\n",
              "      <th>GrowthPercentile</th>\n",
              "      <th>AchievementPercentile</th>\n",
              "    </tr>\n",
              "  </thead>\n",
              "  <tbody>\n",
              "    <tr>\n",
              "      <th>0</th>\n",
              "      <td>400025</td>\n",
              "      <td>Bucktown</td>\n",
              "      <td>609716</td>\n",
              "      <td>0.017131</td>\n",
              "      <td>READING</td>\n",
              "      <td>6.0</td>\n",
              "      <td>21.0</td>\n",
              "    </tr>\n",
              "    <tr>\n",
              "      <th>1</th>\n",
              "      <td>400027</td>\n",
              "      <td>Irving Park</td>\n",
              "      <td>609716</td>\n",
              "      <td>0.011331</td>\n",
              "      <td>READING</td>\n",
              "      <td>6.0</td>\n",
              "      <td>21.0</td>\n",
              "    </tr>\n",
              "    <tr>\n",
              "      <th>2</th>\n",
              "      <td>400030</td>\n",
              "      <td>West Belden</td>\n",
              "      <td>609716</td>\n",
              "      <td>0.011299</td>\n",
              "      <td>READING</td>\n",
              "      <td>6.0</td>\n",
              "      <td>21.0</td>\n",
              "    </tr>\n",
              "    <tr>\n",
              "      <th>3</th>\n",
              "      <td>400025</td>\n",
              "      <td>Bucktown</td>\n",
              "      <td>609716</td>\n",
              "      <td>0.017131</td>\n",
              "      <td>MATH</td>\n",
              "      <td>11.0</td>\n",
              "      <td>12.0</td>\n",
              "    </tr>\n",
              "    <tr>\n",
              "      <th>4</th>\n",
              "      <td>400027</td>\n",
              "      <td>Irving Park</td>\n",
              "      <td>609716</td>\n",
              "      <td>0.011331</td>\n",
              "      <td>MATH</td>\n",
              "      <td>11.0</td>\n",
              "      <td>12.0</td>\n",
              "    </tr>\n",
              "  </tbody>\n",
              "</table>\n",
              "</div>"
            ],
            "text/plain": [
              "   SchoolID       Campus  ...  GrowthPercentile  AchievementPercentile\n",
              "0    400025     Bucktown  ...               6.0                   21.0\n",
              "1    400027  Irving Park  ...               6.0                   21.0\n",
              "2    400030  West Belden  ...               6.0                   21.0\n",
              "3    400025     Bucktown  ...              11.0                   12.0\n",
              "4    400027  Irving Park  ...              11.0                   12.0\n",
              "\n",
              "[5 rows x 7 columns]"
            ]
          },
          "metadata": {
            "tags": []
          },
          "execution_count": 64
        }
      ]
    },
    {
      "cell_type": "code",
      "metadata": {
        "id": "Fe1HumfpEsYv"
      },
      "source": [
        "#To select rows whose column value is in an iterable array, which we'll define as array, you can use isin:\n",
        "g =growth.loc[growth['ZonedID'].isin(DS) & (growth.AcademicYear == 'SY2019')][['SchoolName', 'ZonedID', 'Subject','GrowthPercentile']]"
      ],
      "execution_count": null,
      "outputs": []
    },
    {
      "cell_type": "code",
      "metadata": {
        "id": "Cg6yn7hwP5id"
      },
      "source": [
        "g['SchoolName'] = g['SchoolName'].map({'CICS - IRVING PARK': 'Irving Park', 'CICS - BUCKTOWN': 'Bucktown', 'CICS - PRAIRIE':'Prairie', 'CICS - WEST BELDEN':'West Belden'})"
      ],
      "execution_count": null,
      "outputs": []
    },
    {
      "cell_type": "code",
      "metadata": {
        "id": "im1clguO0BqW",
        "colab": {
          "base_uri": "https://localhost:8080/",
          "height": 297
        },
        "outputId": "e3741b15-f835-4b8d-b792-7ec6cd6d5a34"
      },
      "source": [
        "g"
      ],
      "execution_count": null,
      "outputs": [
        {
          "output_type": "execute_result",
          "data": {
            "text/html": [
              "<div>\n",
              "<style scoped>\n",
              "    .dataframe tbody tr th:only-of-type {\n",
              "        vertical-align: middle;\n",
              "    }\n",
              "\n",
              "    .dataframe tbody tr th {\n",
              "        vertical-align: top;\n",
              "    }\n",
              "\n",
              "    .dataframe thead th {\n",
              "        text-align: right;\n",
              "    }\n",
              "</style>\n",
              "<table border=\"1\" class=\"dataframe\">\n",
              "  <thead>\n",
              "    <tr style=\"text-align: right;\">\n",
              "      <th></th>\n",
              "      <th>SchoolName</th>\n",
              "      <th>ZonedID</th>\n",
              "      <th>Subject</th>\n",
              "      <th>GrowthPercentile</th>\n",
              "    </tr>\n",
              "  </thead>\n",
              "  <tbody>\n",
              "    <tr>\n",
              "      <th>4955</th>\n",
              "      <td>Bucktown</td>\n",
              "      <td>400025</td>\n",
              "      <td>READING</td>\n",
              "      <td>78.0</td>\n",
              "    </tr>\n",
              "    <tr>\n",
              "      <th>4956</th>\n",
              "      <td>Bucktown</td>\n",
              "      <td>400025</td>\n",
              "      <td>MATH</td>\n",
              "      <td>85.0</td>\n",
              "    </tr>\n",
              "    <tr>\n",
              "      <th>4957</th>\n",
              "      <td>Irving Park</td>\n",
              "      <td>400027</td>\n",
              "      <td>READING</td>\n",
              "      <td>93.0</td>\n",
              "    </tr>\n",
              "    <tr>\n",
              "      <th>4958</th>\n",
              "      <td>Irving Park</td>\n",
              "      <td>400027</td>\n",
              "      <td>MATH</td>\n",
              "      <td>83.0</td>\n",
              "    </tr>\n",
              "    <tr>\n",
              "      <th>4959</th>\n",
              "      <td>Prairie</td>\n",
              "      <td>400028</td>\n",
              "      <td>READING</td>\n",
              "      <td>60.0</td>\n",
              "    </tr>\n",
              "    <tr>\n",
              "      <th>4960</th>\n",
              "      <td>Prairie</td>\n",
              "      <td>400028</td>\n",
              "      <td>MATH</td>\n",
              "      <td>25.0</td>\n",
              "    </tr>\n",
              "    <tr>\n",
              "      <th>4963</th>\n",
              "      <td>West Belden</td>\n",
              "      <td>400030</td>\n",
              "      <td>READING</td>\n",
              "      <td>87.0</td>\n",
              "    </tr>\n",
              "    <tr>\n",
              "      <th>4964</th>\n",
              "      <td>West Belden</td>\n",
              "      <td>400030</td>\n",
              "      <td>MATH</td>\n",
              "      <td>50.0</td>\n",
              "    </tr>\n",
              "  </tbody>\n",
              "</table>\n",
              "</div>"
            ],
            "text/plain": [
              "       SchoolName  ZonedID  Subject  GrowthPercentile\n",
              "4955     Bucktown   400025  READING              78.0\n",
              "4956     Bucktown   400025     MATH              85.0\n",
              "4957  Irving Park   400027  READING              93.0\n",
              "4958  Irving Park   400027     MATH              83.0\n",
              "4959      Prairie   400028  READING              60.0\n",
              "4960      Prairie   400028     MATH              25.0\n",
              "4963  West Belden   400030  READING              87.0\n",
              "4964  West Belden   400030     MATH              50.0"
            ]
          },
          "metadata": {
            "tags": []
          },
          "execution_count": 67
        }
      ]
    },
    {
      "cell_type": "code",
      "metadata": {
        "id": "hYZEvpmIEmlp"
      },
      "source": [
        "#To select rows whose column value is in an iterable array, which we'll define as array, you can use isin:\n",
        "a = attainment.loc[attainment['ZonedID'].isin(DS) & (attainment.AcademicYear == 'SY2019')][['ZonedID', 'Subject','AchievementPercentile']]"
      ],
      "execution_count": null,
      "outputs": []
    },
    {
      "cell_type": "code",
      "metadata": {
        "id": "x_y0dkWoFazt"
      },
      "source": [
        "ds_ag = pd.merge( g,a, on=['ZonedID','Subject'])"
      ],
      "execution_count": null,
      "outputs": []
    },
    {
      "cell_type": "code",
      "metadata": {
        "id": "EEtgiNtHytkE",
        "colab": {
          "base_uri": "https://localhost:8080/",
          "height": 204
        },
        "outputId": "1143d68a-5c17-4821-d688-6ee18c2e8905"
      },
      "source": [
        "ds_ag.head()"
      ],
      "execution_count": null,
      "outputs": [
        {
          "output_type": "execute_result",
          "data": {
            "text/html": [
              "<div>\n",
              "<style scoped>\n",
              "    .dataframe tbody tr th:only-of-type {\n",
              "        vertical-align: middle;\n",
              "    }\n",
              "\n",
              "    .dataframe tbody tr th {\n",
              "        vertical-align: top;\n",
              "    }\n",
              "\n",
              "    .dataframe thead th {\n",
              "        text-align: right;\n",
              "    }\n",
              "</style>\n",
              "<table border=\"1\" class=\"dataframe\">\n",
              "  <thead>\n",
              "    <tr style=\"text-align: right;\">\n",
              "      <th></th>\n",
              "      <th>SchoolName</th>\n",
              "      <th>ZonedID</th>\n",
              "      <th>Subject</th>\n",
              "      <th>GrowthPercentile</th>\n",
              "      <th>AchievementPercentile</th>\n",
              "    </tr>\n",
              "  </thead>\n",
              "  <tbody>\n",
              "    <tr>\n",
              "      <th>0</th>\n",
              "      <td>Bucktown</td>\n",
              "      <td>400025</td>\n",
              "      <td>READING</td>\n",
              "      <td>78.0</td>\n",
              "      <td>86.0</td>\n",
              "    </tr>\n",
              "    <tr>\n",
              "      <th>1</th>\n",
              "      <td>Bucktown</td>\n",
              "      <td>400025</td>\n",
              "      <td>MATH</td>\n",
              "      <td>85.0</td>\n",
              "      <td>82.0</td>\n",
              "    </tr>\n",
              "    <tr>\n",
              "      <th>2</th>\n",
              "      <td>Irving Park</td>\n",
              "      <td>400027</td>\n",
              "      <td>READING</td>\n",
              "      <td>93.0</td>\n",
              "      <td>83.0</td>\n",
              "    </tr>\n",
              "    <tr>\n",
              "      <th>3</th>\n",
              "      <td>Irving Park</td>\n",
              "      <td>400027</td>\n",
              "      <td>MATH</td>\n",
              "      <td>83.0</td>\n",
              "      <td>74.0</td>\n",
              "    </tr>\n",
              "    <tr>\n",
              "      <th>4</th>\n",
              "      <td>Prairie</td>\n",
              "      <td>400028</td>\n",
              "      <td>READING</td>\n",
              "      <td>60.0</td>\n",
              "      <td>34.0</td>\n",
              "    </tr>\n",
              "  </tbody>\n",
              "</table>\n",
              "</div>"
            ],
            "text/plain": [
              "    SchoolName  ZonedID  Subject  GrowthPercentile  AchievementPercentile\n",
              "0     Bucktown   400025  READING              78.0                   86.0\n",
              "1     Bucktown   400025     MATH              85.0                   82.0\n",
              "2  Irving Park   400027  READING              93.0                   83.0\n",
              "3  Irving Park   400027     MATH              83.0                   74.0\n",
              "4      Prairie   400028  READING              60.0                   34.0"
            ]
          },
          "metadata": {
            "tags": []
          },
          "execution_count": 70
        }
      ]
    },
    {
      "cell_type": "code",
      "metadata": {
        "id": "ET_UleRjPn_A"
      },
      "source": [
        "ds_ag['Weight'] = 1\n"
      ],
      "execution_count": null,
      "outputs": []
    },
    {
      "cell_type": "code",
      "metadata": {
        "id": "A3HoxK_I9VBe"
      },
      "source": [
        "ds_ag['SchoolID'] = ds_ag['ZonedID']"
      ],
      "execution_count": null,
      "outputs": []
    },
    {
      "cell_type": "code",
      "metadata": {
        "id": "AUT722NevK1t",
        "colab": {
          "base_uri": "https://localhost:8080/",
          "height": 204
        },
        "outputId": "9720ccdd-a8b2-42a3-b28e-dc009109de78"
      },
      "source": [
        "ds_ag.head()"
      ],
      "execution_count": null,
      "outputs": [
        {
          "output_type": "execute_result",
          "data": {
            "text/html": [
              "<div>\n",
              "<style scoped>\n",
              "    .dataframe tbody tr th:only-of-type {\n",
              "        vertical-align: middle;\n",
              "    }\n",
              "\n",
              "    .dataframe tbody tr th {\n",
              "        vertical-align: top;\n",
              "    }\n",
              "\n",
              "    .dataframe thead th {\n",
              "        text-align: right;\n",
              "    }\n",
              "</style>\n",
              "<table border=\"1\" class=\"dataframe\">\n",
              "  <thead>\n",
              "    <tr style=\"text-align: right;\">\n",
              "      <th></th>\n",
              "      <th>SchoolName</th>\n",
              "      <th>ZonedID</th>\n",
              "      <th>Subject</th>\n",
              "      <th>GrowthPercentile</th>\n",
              "      <th>AchievementPercentile</th>\n",
              "      <th>Weight</th>\n",
              "      <th>SchoolID</th>\n",
              "    </tr>\n",
              "  </thead>\n",
              "  <tbody>\n",
              "    <tr>\n",
              "      <th>0</th>\n",
              "      <td>Bucktown</td>\n",
              "      <td>400025</td>\n",
              "      <td>READING</td>\n",
              "      <td>78.0</td>\n",
              "      <td>86.0</td>\n",
              "      <td>1</td>\n",
              "      <td>400025</td>\n",
              "    </tr>\n",
              "    <tr>\n",
              "      <th>1</th>\n",
              "      <td>Bucktown</td>\n",
              "      <td>400025</td>\n",
              "      <td>MATH</td>\n",
              "      <td>85.0</td>\n",
              "      <td>82.0</td>\n",
              "      <td>1</td>\n",
              "      <td>400025</td>\n",
              "    </tr>\n",
              "    <tr>\n",
              "      <th>2</th>\n",
              "      <td>Irving Park</td>\n",
              "      <td>400027</td>\n",
              "      <td>READING</td>\n",
              "      <td>93.0</td>\n",
              "      <td>83.0</td>\n",
              "      <td>1</td>\n",
              "      <td>400027</td>\n",
              "    </tr>\n",
              "    <tr>\n",
              "      <th>3</th>\n",
              "      <td>Irving Park</td>\n",
              "      <td>400027</td>\n",
              "      <td>MATH</td>\n",
              "      <td>83.0</td>\n",
              "      <td>74.0</td>\n",
              "      <td>1</td>\n",
              "      <td>400027</td>\n",
              "    </tr>\n",
              "    <tr>\n",
              "      <th>4</th>\n",
              "      <td>Prairie</td>\n",
              "      <td>400028</td>\n",
              "      <td>READING</td>\n",
              "      <td>60.0</td>\n",
              "      <td>34.0</td>\n",
              "      <td>1</td>\n",
              "      <td>400028</td>\n",
              "    </tr>\n",
              "  </tbody>\n",
              "</table>\n",
              "</div>"
            ],
            "text/plain": [
              "    SchoolName  ZonedID  Subject  ...  AchievementPercentile  Weight  SchoolID\n",
              "0     Bucktown   400025  READING  ...                   86.0       1    400025\n",
              "1     Bucktown   400025     MATH  ...                   82.0       1    400025\n",
              "2  Irving Park   400027  READING  ...                   83.0       1    400027\n",
              "3  Irving Park   400027     MATH  ...                   74.0       1    400027\n",
              "4      Prairie   400028  READING  ...                   34.0       1    400028\n",
              "\n",
              "[5 rows x 7 columns]"
            ]
          },
          "metadata": {
            "tags": []
          },
          "execution_count": 73
        }
      ]
    },
    {
      "cell_type": "code",
      "metadata": {
        "id": "KN_Y82G4Qvfv"
      },
      "source": [
        "ds_ag.columns = ['Campus', 'ZonedID', 'Subject', 'GrowthPercentile','AchievementPercentile','Weight', 'SchoolID']"
      ],
      "execution_count": null,
      "outputs": []
    },
    {
      "cell_type": "code",
      "metadata": {
        "id": "6dorVsxtPtw2"
      },
      "source": [
        "VAG = VAG.append(ds_ag,  sort=False)"
      ],
      "execution_count": null,
      "outputs": []
    },
    {
      "cell_type": "code",
      "metadata": {
        "id": "ll8ubL9nQJ-j",
        "colab": {
          "base_uri": "https://localhost:8080/",
          "height": 34
        },
        "outputId": "b0c4e0d6-6367-44f1-a9d4-3a38488aaf50"
      },
      "source": [
        "VAG.Campus.unique()"
      ],
      "execution_count": null,
      "outputs": [
        {
          "output_type": "execute_result",
          "data": {
            "text/plain": [
              "array(['Bucktown', 'Irving Park', 'West Belden', 'Prairie'], dtype=object)"
            ]
          },
          "metadata": {
            "tags": []
          },
          "execution_count": 76
        }
      ]
    },
    {
      "cell_type": "code",
      "metadata": {
        "id": "hIlVjsiLvTSQ",
        "colab": {
          "base_uri": "https://localhost:8080/",
          "height": 359
        },
        "outputId": "6dcadb6d-14a0-4a8f-bc8e-b1e7ef3ea9b3"
      },
      "source": [
        "VAG.tail(10)"
      ],
      "execution_count": null,
      "outputs": [
        {
          "output_type": "execute_result",
          "data": {
            "text/html": [
              "<div>\n",
              "<style scoped>\n",
              "    .dataframe tbody tr th:only-of-type {\n",
              "        vertical-align: middle;\n",
              "    }\n",
              "\n",
              "    .dataframe tbody tr th {\n",
              "        vertical-align: top;\n",
              "    }\n",
              "\n",
              "    .dataframe thead th {\n",
              "        text-align: right;\n",
              "    }\n",
              "</style>\n",
              "<table border=\"1\" class=\"dataframe\">\n",
              "  <thead>\n",
              "    <tr style=\"text-align: right;\">\n",
              "      <th></th>\n",
              "      <th>SchoolID</th>\n",
              "      <th>Campus</th>\n",
              "      <th>ZonedID</th>\n",
              "      <th>Weight</th>\n",
              "      <th>Subject</th>\n",
              "      <th>GrowthPercentile</th>\n",
              "      <th>AchievementPercentile</th>\n",
              "    </tr>\n",
              "  </thead>\n",
              "  <tbody>\n",
              "    <tr>\n",
              "      <th>560</th>\n",
              "      <td>400030</td>\n",
              "      <td>West Belden</td>\n",
              "      <td>610206</td>\n",
              "      <td>0.002825</td>\n",
              "      <td>READING</td>\n",
              "      <td>81.0</td>\n",
              "      <td>80.0</td>\n",
              "    </tr>\n",
              "    <tr>\n",
              "      <th>561</th>\n",
              "      <td>400030</td>\n",
              "      <td>West Belden</td>\n",
              "      <td>610206</td>\n",
              "      <td>0.002825</td>\n",
              "      <td>MATH</td>\n",
              "      <td>76.0</td>\n",
              "      <td>81.0</td>\n",
              "    </tr>\n",
              "    <tr>\n",
              "      <th>0</th>\n",
              "      <td>400025</td>\n",
              "      <td>Bucktown</td>\n",
              "      <td>400025</td>\n",
              "      <td>1.000000</td>\n",
              "      <td>READING</td>\n",
              "      <td>78.0</td>\n",
              "      <td>86.0</td>\n",
              "    </tr>\n",
              "    <tr>\n",
              "      <th>1</th>\n",
              "      <td>400025</td>\n",
              "      <td>Bucktown</td>\n",
              "      <td>400025</td>\n",
              "      <td>1.000000</td>\n",
              "      <td>MATH</td>\n",
              "      <td>85.0</td>\n",
              "      <td>82.0</td>\n",
              "    </tr>\n",
              "    <tr>\n",
              "      <th>2</th>\n",
              "      <td>400027</td>\n",
              "      <td>Irving Park</td>\n",
              "      <td>400027</td>\n",
              "      <td>1.000000</td>\n",
              "      <td>READING</td>\n",
              "      <td>93.0</td>\n",
              "      <td>83.0</td>\n",
              "    </tr>\n",
              "    <tr>\n",
              "      <th>3</th>\n",
              "      <td>400027</td>\n",
              "      <td>Irving Park</td>\n",
              "      <td>400027</td>\n",
              "      <td>1.000000</td>\n",
              "      <td>MATH</td>\n",
              "      <td>83.0</td>\n",
              "      <td>74.0</td>\n",
              "    </tr>\n",
              "    <tr>\n",
              "      <th>4</th>\n",
              "      <td>400028</td>\n",
              "      <td>Prairie</td>\n",
              "      <td>400028</td>\n",
              "      <td>1.000000</td>\n",
              "      <td>READING</td>\n",
              "      <td>60.0</td>\n",
              "      <td>34.0</td>\n",
              "    </tr>\n",
              "    <tr>\n",
              "      <th>5</th>\n",
              "      <td>400028</td>\n",
              "      <td>Prairie</td>\n",
              "      <td>400028</td>\n",
              "      <td>1.000000</td>\n",
              "      <td>MATH</td>\n",
              "      <td>25.0</td>\n",
              "      <td>42.0</td>\n",
              "    </tr>\n",
              "    <tr>\n",
              "      <th>6</th>\n",
              "      <td>400030</td>\n",
              "      <td>West Belden</td>\n",
              "      <td>400030</td>\n",
              "      <td>1.000000</td>\n",
              "      <td>READING</td>\n",
              "      <td>87.0</td>\n",
              "      <td>88.0</td>\n",
              "    </tr>\n",
              "    <tr>\n",
              "      <th>7</th>\n",
              "      <td>400030</td>\n",
              "      <td>West Belden</td>\n",
              "      <td>400030</td>\n",
              "      <td>1.000000</td>\n",
              "      <td>MATH</td>\n",
              "      <td>50.0</td>\n",
              "      <td>81.0</td>\n",
              "    </tr>\n",
              "  </tbody>\n",
              "</table>\n",
              "</div>"
            ],
            "text/plain": [
              "     SchoolID       Campus  ...  GrowthPercentile  AchievementPercentile\n",
              "560    400030  West Belden  ...              81.0                   80.0\n",
              "561    400030  West Belden  ...              76.0                   81.0\n",
              "0      400025     Bucktown  ...              78.0                   86.0\n",
              "1      400025     Bucktown  ...              85.0                   82.0\n",
              "2      400027  Irving Park  ...              93.0                   83.0\n",
              "3      400027  Irving Park  ...              83.0                   74.0\n",
              "4      400028      Prairie  ...              60.0                   34.0\n",
              "5      400028      Prairie  ...              25.0                   42.0\n",
              "6      400030  West Belden  ...              87.0                   88.0\n",
              "7      400030  West Belden  ...              50.0                   81.0\n",
              "\n",
              "[10 rows x 7 columns]"
            ]
          },
          "metadata": {
            "tags": []
          },
          "execution_count": 77
        }
      ]
    },
    {
      "cell_type": "code",
      "metadata": {
        "id": "dwuVwz5Pz2Wz"
      },
      "source": [
        "VAG['Weight'] =VAG['Weight']*1000"
      ],
      "execution_count": null,
      "outputs": []
    },
    {
      "cell_type": "code",
      "metadata": {
        "id": "TslNHEUdL3s6"
      },
      "source": [
        "read =VAG[VAG.Subject =='READING']"
      ],
      "execution_count": null,
      "outputs": []
    },
    {
      "cell_type": "code",
      "metadata": {
        "id": "o6DwXZBzWK49"
      },
      "source": [
        "math =VAG[VAG.Subject =='MATH']"
      ],
      "execution_count": null,
      "outputs": []
    },
    {
      "cell_type": "code",
      "metadata": {
        "id": "skOwNGbRMmWn",
        "colab": {
          "base_uri": "https://localhost:8080/",
          "height": 204
        },
        "outputId": "fa9cf587-0524-4f23-b400-2af9719ecc8a"
      },
      "source": [
        "math.tail()"
      ],
      "execution_count": null,
      "outputs": [
        {
          "output_type": "execute_result",
          "data": {
            "text/html": [
              "<div>\n",
              "<style scoped>\n",
              "    .dataframe tbody tr th:only-of-type {\n",
              "        vertical-align: middle;\n",
              "    }\n",
              "\n",
              "    .dataframe tbody tr th {\n",
              "        vertical-align: top;\n",
              "    }\n",
              "\n",
              "    .dataframe thead th {\n",
              "        text-align: right;\n",
              "    }\n",
              "</style>\n",
              "<table border=\"1\" class=\"dataframe\">\n",
              "  <thead>\n",
              "    <tr style=\"text-align: right;\">\n",
              "      <th></th>\n",
              "      <th>SchoolID</th>\n",
              "      <th>Campus</th>\n",
              "      <th>ZonedID</th>\n",
              "      <th>Weight</th>\n",
              "      <th>Subject</th>\n",
              "      <th>GrowthPercentile</th>\n",
              "      <th>AchievementPercentile</th>\n",
              "    </tr>\n",
              "  </thead>\n",
              "  <tbody>\n",
              "    <tr>\n",
              "      <th>561</th>\n",
              "      <td>400030</td>\n",
              "      <td>West Belden</td>\n",
              "      <td>610206</td>\n",
              "      <td>2.824859</td>\n",
              "      <td>MATH</td>\n",
              "      <td>76.0</td>\n",
              "      <td>81.0</td>\n",
              "    </tr>\n",
              "    <tr>\n",
              "      <th>1</th>\n",
              "      <td>400025</td>\n",
              "      <td>Bucktown</td>\n",
              "      <td>400025</td>\n",
              "      <td>1000.000000</td>\n",
              "      <td>MATH</td>\n",
              "      <td>85.0</td>\n",
              "      <td>82.0</td>\n",
              "    </tr>\n",
              "    <tr>\n",
              "      <th>3</th>\n",
              "      <td>400027</td>\n",
              "      <td>Irving Park</td>\n",
              "      <td>400027</td>\n",
              "      <td>1000.000000</td>\n",
              "      <td>MATH</td>\n",
              "      <td>83.0</td>\n",
              "      <td>74.0</td>\n",
              "    </tr>\n",
              "    <tr>\n",
              "      <th>5</th>\n",
              "      <td>400028</td>\n",
              "      <td>Prairie</td>\n",
              "      <td>400028</td>\n",
              "      <td>1000.000000</td>\n",
              "      <td>MATH</td>\n",
              "      <td>25.0</td>\n",
              "      <td>42.0</td>\n",
              "    </tr>\n",
              "    <tr>\n",
              "      <th>7</th>\n",
              "      <td>400030</td>\n",
              "      <td>West Belden</td>\n",
              "      <td>400030</td>\n",
              "      <td>1000.000000</td>\n",
              "      <td>MATH</td>\n",
              "      <td>50.0</td>\n",
              "      <td>81.0</td>\n",
              "    </tr>\n",
              "  </tbody>\n",
              "</table>\n",
              "</div>"
            ],
            "text/plain": [
              "     SchoolID       Campus  ...  GrowthPercentile  AchievementPercentile\n",
              "561    400030  West Belden  ...              76.0                   81.0\n",
              "1      400025     Bucktown  ...              85.0                   82.0\n",
              "3      400027  Irving Park  ...              83.0                   74.0\n",
              "5      400028      Prairie  ...              25.0                   42.0\n",
              "7      400030  West Belden  ...              50.0                   81.0\n",
              "\n",
              "[5 rows x 7 columns]"
            ]
          },
          "metadata": {
            "tags": []
          },
          "execution_count": 81
        }
      ]
    },
    {
      "cell_type": "markdown",
      "metadata": {
        "id": "OLQvBvByWUT0"
      },
      "source": [
        "# Visualization"
      ]
    },
    {
      "cell_type": "code",
      "metadata": {
        "id": "mmYxPNz5I3f6"
      },
      "source": [
        "# libraries\n",
        "import matplotlib.pyplot as plt\n",
        "import numpy as np\n",
        "import seaborn as sns\n",
        "%matplotlib inline"
      ],
      "execution_count": null,
      "outputs": []
    },
    {
      "cell_type": "code",
      "metadata": {
        "id": "b40gtAYW2Pgt",
        "colab": {
          "base_uri": "https://localhost:8080/",
          "height": 542
        },
        "outputId": "8fdaac27-77b6-4575-c9aa-cf6cbb34cf0a"
      },
      "source": [
        "# Load Dataset\n",
        "import plotly.graph_objects as go\n",
        "import plotly.express as px\n",
        "\n",
        "fig = px.scatter(math, y='GrowthPercentile', x='AchievementPercentile', color=\"Campus\",\n",
        "                 size='Weight', hover_data=['Weight','SchoolID','ZonedID'], title=\"A colored bubble plot for Maths\")\n",
        "fig.add_shape(\n",
        "        # Line Vertical\n",
        "        go.layout.Shape(\n",
        "            type=\"line\",\n",
        "            x0=50,\n",
        "            y0=0,\n",
        "            x1=50,\n",
        "            y1=100,\n",
        "            line=dict( color=\"Black\", width=2,),\n",
        "    ))\n",
        "fig.add_shape(\n",
        "        # Line Horizontal\n",
        "        go.layout.Shape(\n",
        "            type=\"line\",\n",
        "            x0=0,\n",
        "            y0=50,\n",
        "            x1=100,\n",
        "            y1=50,\n",
        "            line=dict(color=\"Black\", width=2, ),\n",
        "    ))\n",
        "fig.show()\n"
      ],
      "execution_count": null,
      "outputs": [
        {
          "output_type": "display_data",
          "data": {
            "text/html": [
              "<html>\n",
              "<head><meta charset=\"utf-8\" /></head>\n",
              "<body>\n",
              "    <div>\n",
              "            <script src=\"https://cdnjs.cloudflare.com/ajax/libs/mathjax/2.7.5/MathJax.js?config=TeX-AMS-MML_SVG\"></script><script type=\"text/javascript\">if (window.MathJax) {MathJax.Hub.Config({SVG: {font: \"STIX-Web\"}});}</script>\n",
              "                <script type=\"text/javascript\">window.PlotlyConfig = {MathJaxConfig: 'local'};</script>\n",
              "        <script src=\"https://cdn.plot.ly/plotly-latest.min.js\"></script>    \n",
              "            <div id=\"ee91d7ac-a0d9-4359-9f98-772438871ead\" class=\"plotly-graph-div\" style=\"height:525px; width:100%;\"></div>\n",
              "            <script type=\"text/javascript\">\n",
              "                \n",
              "                    window.PLOTLYENV=window.PLOTLYENV || {};\n",
              "                    \n",
              "                if (document.getElementById(\"ee91d7ac-a0d9-4359-9f98-772438871ead\")) {\n",
              "                    Plotly.newPlot(\n",
              "                        'ee91d7ac-a0d9-4359-9f98-772438871ead',\n",
              "                        [{\"customdata\": [[17.130621, 400025.0, 609716.0], [27.837259, 400025.0, 609789.0], [10.706638000000002, 400025.0, 609792.0], [2.141328, 400025.0, 609798.0], [2.141328, 400025.0, 609799.0], [2.141328, 400025.0, 609803.0], [2.141328, 400025.0, 609804.0], [4.282655, 400025.0, 609806.0], [19.271949, 400025.0, 609809.0], [2.141328, 400025.0, 609810.0], [2.141328, 400025.0, 609812.0], [17.130621, 400025.0, 609818.0], [2.141328, 400025.0, 609820.0], [4.282655, 400025.0, 609830.0], [10.706638000000002, 400025.0, 609835.0], [2.141328, 400025.0, 609850.0], [2.141328, 400025.0, 609853.0], [32.119914, 400025.0, 609854.0], [8.56531, 400025.0, 609857.0], [2.141328, 400025.0, 609859.0], [2.141328, 400025.0, 609865.0], [4.282655, 400025.0, 609870.0], [2.141328, 400025.0, 609872.0], [19.271949, 400025.0, 609875.0], [4.282655, 400025.0, 609884.0], [2.141328, 400025.0, 609894.0], [2.141328, 400025.0, 609903.0], [2.141328, 400025.0, 609904.0], [2.141328, 400025.0, 609909.0], [19.271949, 400025.0, 609910.0], [2.141328, 400025.0, 609918.0], [19.271949, 400025.0, 609930.0], [12.847966000000001, 400025.0, 609942.0], [4.282655, 400025.0, 609949.0], [17.130621, 400025.0, 609968.0], [2.141328, 400025.0, 609971.0], [2.141328, 400025.0, 609972.0], [8.56531, 400025.0, 609975.0], [2.141328, 400025.0, 609979.0], [2.141328, 400025.0, 609985.0], [6.423983000000001, 400025.0, 609988.0], [4.282655, 400025.0, 609991.0], [4.282655, 400025.0, 609994.0], [2.141328, 400025.0, 610000.0], [17.130621, 400025.0, 610010.0], [4.282655, 400025.0, 610011.0], [14.989293, 400025.0, 610021.0], [4.282655, 400025.0, 610029.0], [14.989293, 400025.0, 610036.0], [6.423983000000001, 400025.0, 610039.0], [17.130621, 400025.0, 610040.0], [6.423983000000001, 400025.0, 610041.0], [14.989293, 400025.0, 610043.0], [21.413276000000003, 400025.0, 610044.0], [8.56531, 400025.0, 610046.0], [10.706638000000002, 400025.0, 610048.0], [17.130621, 400025.0, 610051.0], [4.282655, 400025.0, 610053.0], [4.282655, 400025.0, 610055.0], [4.282655, 400025.0, 610056.0], [2.141328, 400025.0, 610059.0], [2.141328, 400025.0, 610063.0], [2.141328, 400025.0, 610067.0], [21.413276000000003, 400025.0, 610068.0], [23.554604, 400025.0, 610074.0], [8.56531, 400025.0, 610076.0], [4.282655, 400025.0, 610077.0], [42.82655200000001, 400025.0, 610088.0], [51.391862999999994, 400025.0, 610097.0], [17.130621, 400025.0, 610098.0], [12.847966000000001, 400025.0, 610100.0], [21.413276000000003, 400025.0, 610106.0], [4.282655, 400025.0, 610107.0], [2.141328, 400025.0, 610129.0], [2.141328, 400025.0, 610130.0], [2.141328, 400025.0, 610133.0], [4.282655, 400025.0, 610135.0], [2.141328, 400025.0, 610137.0], [23.554604, 400025.0, 610138.0], [8.56531, 400025.0, 610144.0], [10.706638000000002, 400025.0, 610145.0], [2.141328, 400025.0, 610152.0], [8.56531, 400025.0, 610158.0], [17.130621, 400025.0, 610159.0], [19.271949, 400025.0, 610165.0], [4.282655, 400025.0, 610174.0], [23.554604, 400025.0, 610192.0], [4.282655, 400025.0, 610197.0], [2.141328, 400025.0, 610209.0], [2.141328, 400025.0, 610229.0], [14.989293, 400025.0, 610234.0], [10.706638000000002, 400025.0, 610235.0], [2.141328, 400025.0, 610242.0], [4.282655, 400025.0, 610251.0], [2.141328, 400025.0, 610252.0], [12.847966000000001, 400025.0, 610257.0], [4.282655, 400025.0, 610269.0], [2.141328, 400025.0, 610281.0], [8.56531, 400025.0, 610282.0], [12.847966000000001, 400025.0, 610313.0], [21.413276000000003, 400025.0, 610325.0], [2.141328, 400025.0, 610329.0], [6.423983000000001, 400025.0, 610367.0], [8.56531, 400025.0, 610533.0], [14.989293, 400025.0, 610539.0], [19.271949, 400025.0, 610541.0], [4.282655, 400025.0, 610542.0], [1000.0, 400025.0, 400025.0]], \"hoverlabel\": {\"namelength\": 0}, \"hovertemplate\": \"Campus=Bucktown<br>AchievementPercentile=%{x}<br>GrowthPercentile=%{y}<br>Weight=%{customdata[0]}<br>SchoolID=%{customdata[1]}<br>ZonedID=%{customdata[2]}\", \"legendgroup\": \"Campus=Bucktown\", \"marker\": {\"color\": \"#636efa\", \"size\": [17.130621, 27.837259, 10.706638000000002, 2.141328, 2.141328, 2.141328, 2.141328, 4.282655, 19.271949, 2.141328, 2.141328, 17.130621, 2.141328, 4.282655, 10.706638000000002, 2.141328, 2.141328, 32.119914, 8.56531, 2.141328, 2.141328, 4.282655, 2.141328, 19.271949, 4.282655, 2.141328, 2.141328, 2.141328, 2.141328, 19.271949, 2.141328, 19.271949, 12.847966000000001, 4.282655, 17.130621, 2.141328, 2.141328, 8.56531, 2.141328, 2.141328, 6.423983000000001, 4.282655, 4.282655, 2.141328, 17.130621, 4.282655, 14.989293, 4.282655, 14.989293, 6.423983000000001, 17.130621, 6.423983000000001, 14.989293, 21.413276000000003, 8.56531, 10.706638000000002, 17.130621, 4.282655, 4.282655, 4.282655, 2.141328, 2.141328, 2.141328, 21.413276000000003, 23.554604, 8.56531, 4.282655, 42.82655200000001, 51.391862999999994, 17.130621, 12.847966000000001, 21.413276000000003, 4.282655, 2.141328, 2.141328, 2.141328, 4.282655, 2.141328, 23.554604, 8.56531, 10.706638000000002, 2.141328, 8.56531, 17.130621, 19.271949, 4.282655, 23.554604, 4.282655, 2.141328, 2.141328, 14.989293, 10.706638000000002, 2.141328, 4.282655, 2.141328, 12.847966000000001, 4.282655, 2.141328, 8.56531, 12.847966000000001, 21.413276000000003, 2.141328, 6.423983000000001, 8.56531, 14.989293, 19.271949, 4.282655, 1000.0], \"sizemode\": \"area\", \"sizeref\": 2.5, \"symbol\": \"circle\"}, \"mode\": \"markers\", \"name\": \"Campus=Bucktown\", \"showlegend\": true, \"type\": \"scatter\", \"x\": [12.0, 44.0, 65.0, 84.0, 98.0, 96.0, 69.0, 11.0, 69.0, 75.0, 11.0, 56.0, 94.0, 11.0, 46.0, 85.0, 77.0, 38.0, 56.0, 94.0, 61.0, 43.0, 78.0, 46.0, 71.0, 13.0, 59.0, 33.0, 70.0, 51.0, 21.0, 43.0, 83.0, 70.0, 24.0, 17.0, 44.0, 15.0, 99.0, 91.0, 67.0, 19.0, 62.0, 11.0, 42.0, 88.0, 75.0, 57.0, 26.0, 89.0, 50.0, 57.0, 39.0, 39.0, 92.0, 8.0, 46.0, 55.0, 45.0, 37.0, 93.0, 24.0, 15.0, 73.0, 31.0, 52.0, 26.0, 29.0, 27.0, 47.0, 20.0, 49.0, 32.0, 90.0, 24.0, 33.0, 56.0, 77.0, 85.0, 48.0, 64.0, 24.0, 46.0, 83.0, 29.0, 47.0, 43.0, 72.0, 56.0, 91.0, 13.0, 14.0, 67.0, 33.0, 8.0, 39.0, 61.0, 21.0, 43.0, 16.0, 48.0, 73.0, 11.0, 45.0, 52.0, 65.0, 93.0, 82.0], \"xaxis\": \"x\", \"y\": [11.0, 43.0, 65.0, 81.0, 84.0, 91.0, 69.0, 85.0, 76.0, 55.0, 42.0, 60.0, 68.0, 50.0, 32.0, 63.0, 87.0, 70.0, 69.0, 98.0, 84.0, 52.0, 65.0, 76.0, 50.0, 28.0, 68.0, 76.0, 89.0, 76.0, 30.0, 75.0, 76.0, 52.0, 27.0, 22.0, 57.0, 31.0, 90.0, 95.0, 70.0, 48.0, 78.0, 37.0, 68.0, 40.0, 55.0, 81.0, 39.0, 18.0, 91.0, 58.0, 24.0, 82.0, 86.0, 1.0, 66.0, 76.0, 65.0, 48.0, 91.0, 18.0, 52.0, 55.0, 43.0, 14.0, 80.0, 48.0, 30.0, 50.0, 28.0, 52.0, 48.0, 78.0, 27.0, 96.0, 68.0, 65.0, 69.0, 66.0, 50.0, 11.0, 72.0, 90.0, 8.0, 98.0, 84.0, 91.0, 48.0, 45.0, 37.0, 9.0, 63.0, 61.0, 81.0, 20.0, 61.0, 37.0, 24.0, 5.0, 42.0, 66.0, 35.0, 39.0, 50.0, 88.0, 96.0, 85.0], \"yaxis\": \"y\"}, {\"customdata\": [[11.331445, 400027.0, 609716.0], [11.331445, 400027.0, 609789.0], [53.824363, 400027.0, 609792.0], [50.99150099999999, 400027.0, 609798.0], [2.832861, 400027.0, 609809.0], [5.665722, 400027.0, 609810.0], [2.832861, 400027.0, 609818.0], [2.832861, 400027.0, 609835.0], [110.481586, 400027.0, 609857.0], [5.665722, 400027.0, 609875.0], [5.665722, 400027.0, 609884.0], [31.161472999999997, 400027.0, 609910.0], [2.832861, 400027.0, 609930.0], [65.155807, 400027.0, 609949.0], [11.331445, 400027.0, 609968.0], [53.824363, 400027.0, 609972.0], [36.827195, 400027.0, 609988.0], [8.498584, 400027.0, 609994.0], [2.832861, 400027.0, 610011.0], [2.832861, 400027.0, 610021.0], [5.665722, 400027.0, 610036.0], [16.997167, 400027.0, 610039.0], [16.997167, 400027.0, 610040.0], [16.997167, 400027.0, 610041.0], [8.498584, 400027.0, 610044.0], [5.665722, 400027.0, 610046.0], [33.994334, 400027.0, 610051.0], [8.498584, 400027.0, 610074.0], [2.832861, 400027.0, 610076.0], [14.164306000000002, 400027.0, 610088.0], [2.832861, 400027.0, 610098.0], [5.665722, 400027.0, 610100.0], [2.832861, 400027.0, 610106.0], [31.161472999999997, 400027.0, 610135.0], [8.498584, 400027.0, 610137.0], [39.660057, 400027.0, 610144.0], [5.665722, 400027.0, 610145.0], [5.665722, 400027.0, 610158.0], [42.492917999999996, 400027.0, 610159.0], [8.498584, 400027.0, 610165.0], [5.665722, 400027.0, 610192.0], [2.832861, 400027.0, 610197.0], [25.495751000000002, 400027.0, 610209.0], [2.832861, 400027.0, 610229.0], [2.832861, 400027.0, 610235.0], [5.665722, 400027.0, 610282.0], [16.997167, 400027.0, 610325.0], [14.164306000000002, 400027.0, 610533.0], [5.665722, 400027.0, 610541.0], [5.665722, 400027.0, 609796.0], [14.164306000000002, 400027.0, 609817.0], [2.832861, 400027.0, 609852.0], [2.832861, 400027.0, 609863.0], [2.832861, 400027.0, 609879.0], [11.331445, 400027.0, 609912.0], [5.665722, 400027.0, 609945.0], [2.832861, 400027.0, 609952.0], [2.832861, 400027.0, 609973.0], [2.832861, 400027.0, 609976.0], [2.832861, 400027.0, 610006.0], [5.665722, 400027.0, 610022.0], [42.492917999999996, 400027.0, 610089.0], [2.832861, 400027.0, 610092.0], [8.498584, 400027.0, 610111.0], [2.832861, 400027.0, 610147.0], [16.997167, 400027.0, 610179.0], [2.832861, 400027.0, 610194.0], [2.832861, 400027.0, 610212.0], [5.665722, 400027.0, 610220.0], [2.832861, 400027.0, 610268.0], [2.832861, 400027.0, 610396.0], [2.832861, 400027.0, 610559.0], [1000.0, 400027.0, 400027.0]], \"hoverlabel\": {\"namelength\": 0}, \"hovertemplate\": \"Campus=Irving Park<br>AchievementPercentile=%{x}<br>GrowthPercentile=%{y}<br>Weight=%{customdata[0]}<br>SchoolID=%{customdata[1]}<br>ZonedID=%{customdata[2]}\", \"legendgroup\": \"Campus=Irving Park\", \"marker\": {\"color\": \"#EF553B\", \"size\": [11.331445, 11.331445, 53.824363, 50.99150099999999, 2.832861, 5.665722, 2.832861, 2.832861, 110.481586, 5.665722, 5.665722, 31.161472999999997, 2.832861, 65.155807, 11.331445, 53.824363, 36.827195, 8.498584, 2.832861, 2.832861, 5.665722, 16.997167, 16.997167, 16.997167, 8.498584, 5.665722, 33.994334, 8.498584, 2.832861, 14.164306000000002, 2.832861, 5.665722, 2.832861, 31.161472999999997, 8.498584, 39.660057, 5.665722, 5.665722, 42.492917999999996, 8.498584, 5.665722, 2.832861, 25.495751000000002, 2.832861, 2.832861, 5.665722, 16.997167, 14.164306000000002, 5.665722, 5.665722, 14.164306000000002, 2.832861, 2.832861, 2.832861, 11.331445, 5.665722, 2.832861, 2.832861, 2.832861, 2.832861, 5.665722, 42.492917999999996, 2.832861, 8.498584, 2.832861, 16.997167, 2.832861, 2.832861, 5.665722, 2.832861, 2.832861, 2.832861, 1000.0], \"sizemode\": \"area\", \"sizeref\": 2.5, \"symbol\": \"circle\"}, \"mode\": \"markers\", \"name\": \"Campus=Irving Park\", \"showlegend\": true, \"type\": \"scatter\", \"x\": [12.0, 44.0, 65.0, 84.0, 69.0, 75.0, 56.0, 46.0, 56.0, 46.0, 71.0, 51.0, 43.0, 70.0, 24.0, 44.0, 67.0, 62.0, 88.0, 75.0, 26.0, 89.0, 50.0, 57.0, 39.0, 92.0, 46.0, 31.0, 52.0, 29.0, 47.0, 20.0, 49.0, 56.0, 77.0, 48.0, 64.0, 46.0, 83.0, 29.0, 43.0, 72.0, 56.0, 91.0, 14.0, 43.0, 48.0, 45.0, 65.0, 96.0, 89.0, 79.0, 65.0, 80.0, 81.0, 81.0, 44.0, 83.0, 76.0, 59.0, 54.0, 51.0, 3.0, 86.0, 90.0, 73.0, 47.0, 85.0, 93.0, 14.0, 74.0, 52.0, 74.0], \"xaxis\": \"x\", \"y\": [11.0, 43.0, 65.0, 81.0, 76.0, 55.0, 60.0, 32.0, 69.0, 76.0, 50.0, 76.0, 75.0, 52.0, 27.0, 57.0, 70.0, 78.0, 40.0, 55.0, 39.0, 18.0, 91.0, 58.0, 82.0, 86.0, 66.0, 43.0, 14.0, 48.0, 50.0, 28.0, 52.0, 68.0, 65.0, 66.0, 50.0, 72.0, 90.0, 8.0, 84.0, 91.0, 48.0, 45.0, 9.0, 24.0, 42.0, 39.0, 88.0, 61.0, 91.0, 63.0, 43.0, 70.0, 57.0, 43.0, 42.0, 89.0, 83.0, 72.0, 65.0, 63.0, 1.0, 73.0, 93.0, 58.0, 82.0, 78.0, 70.0, 77.0, 48.0, 55.0, 83.0], \"yaxis\": \"y\"}, {\"customdata\": [[11.299435, 400030.0, 609716.0], [5.649718000000001, 400030.0, 609789.0], [2.8248590000000005, 400030.0, 609809.0], [2.8248590000000005, 400030.0, 609810.0], [183.615819, 400030.0, 609818.0], [28.248587999999998, 400030.0, 609830.0], [8.474575999999999, 400030.0, 609835.0], [5.649718000000001, 400030.0, 609884.0], [2.8248590000000005, 400030.0, 609903.0], [5.649718000000001, 400030.0, 609904.0], [11.299435, 400030.0, 609910.0], [8.474575999999999, 400030.0, 609949.0], [2.8248590000000005, 400030.0, 609972.0], [11.299435, 400030.0, 610000.0], [2.8248590000000005, 400030.0, 610010.0], [45.19774, 400030.0, 610036.0], [25.423728999999998, 400030.0, 610040.0], [101.694915, 400030.0, 610041.0], [28.248587999999998, 400030.0, 610043.0], [5.649718000000001, 400030.0, 610044.0], [101.694915, 400030.0, 610046.0], [45.19774, 400030.0, 610051.0], [45.19774, 400030.0, 610068.0], [16.949153000000003, 400030.0, 610097.0], [2.8248590000000005, 400030.0, 610098.0], [2.8248590000000005, 400030.0, 610100.0], [22.59887, 400030.0, 610106.0], [2.8248590000000005, 400030.0, 610135.0], [11.299435, 400030.0, 610145.0], [11.299435, 400030.0, 610158.0], [2.8248590000000005, 400030.0, 610159.0], [70.621469, 400030.0, 610165.0], [5.649718000000001, 400030.0, 610192.0], [28.248587999999998, 400030.0, 610235.0], [2.8248590000000005, 400030.0, 610242.0], [8.474575999999999, 400030.0, 610282.0], [2.8248590000000005, 400030.0, 610313.0], [2.8248590000000005, 400030.0, 610367.0], [76.27118599999999, 400030.0, 610533.0], [11.299435, 400030.0, 610539.0], [2.8248590000000005, 400030.0, 609852.0], [14.124293999999999, 400030.0, 610179.0], [2.8248590000000005, 400030.0, 610183.0], [2.8248590000000005, 400030.0, 610206.0], [1000.0, 400030.0, 400030.0]], \"hoverlabel\": {\"namelength\": 0}, \"hovertemplate\": \"Campus=West Belden<br>AchievementPercentile=%{x}<br>GrowthPercentile=%{y}<br>Weight=%{customdata[0]}<br>SchoolID=%{customdata[1]}<br>ZonedID=%{customdata[2]}\", \"legendgroup\": \"Campus=West Belden\", \"marker\": {\"color\": \"#00cc96\", \"size\": [11.299435, 5.649718000000001, 2.8248590000000005, 2.8248590000000005, 183.615819, 28.248587999999998, 8.474575999999999, 5.649718000000001, 2.8248590000000005, 5.649718000000001, 11.299435, 8.474575999999999, 2.8248590000000005, 11.299435, 2.8248590000000005, 45.19774, 25.423728999999998, 101.694915, 28.248587999999998, 5.649718000000001, 101.694915, 45.19774, 45.19774, 16.949153000000003, 2.8248590000000005, 2.8248590000000005, 22.59887, 2.8248590000000005, 11.299435, 11.299435, 2.8248590000000005, 70.621469, 5.649718000000001, 28.248587999999998, 2.8248590000000005, 8.474575999999999, 2.8248590000000005, 2.8248590000000005, 76.27118599999999, 11.299435, 2.8248590000000005, 14.124293999999999, 2.8248590000000005, 2.8248590000000005, 1000.0], \"sizemode\": \"area\", \"sizeref\": 2.5, \"symbol\": \"circle\"}, \"mode\": \"markers\", \"name\": \"Campus=West Belden\", \"showlegend\": true, \"type\": \"scatter\", \"x\": [12.0, 44.0, 69.0, 75.0, 56.0, 11.0, 46.0, 71.0, 59.0, 33.0, 51.0, 70.0, 44.0, 11.0, 42.0, 26.0, 50.0, 57.0, 39.0, 39.0, 92.0, 46.0, 73.0, 27.0, 47.0, 20.0, 49.0, 56.0, 64.0, 46.0, 83.0, 29.0, 43.0, 14.0, 67.0, 43.0, 16.0, 11.0, 45.0, 52.0, 79.0, 73.0, 14.0, 81.0, 81.0], \"xaxis\": \"x\", \"y\": [11.0, 43.0, 76.0, 55.0, 60.0, 50.0, 32.0, 50.0, 68.0, 76.0, 76.0, 52.0, 57.0, 37.0, 68.0, 39.0, 91.0, 58.0, 24.0, 82.0, 86.0, 66.0, 55.0, 30.0, 50.0, 28.0, 52.0, 68.0, 50.0, 72.0, 90.0, 8.0, 84.0, 9.0, 63.0, 24.0, 5.0, 35.0, 39.0, 50.0, 63.0, 58.0, 11.0, 76.0, 50.0], \"yaxis\": \"y\"}, {\"customdata\": [[6.578947, 400028.0, 609971.0], [3.2894740000000002, 400028.0, 610053.0], [3.2894740000000002, 400028.0, 610068.0], [3.2894740000000002, 400028.0, 610130.0], [6.578947, 400028.0, 610152.0], [3.2894740000000002, 400028.0, 610269.0], [3.2894740000000002, 400028.0, 609879.0], [13.157895, 400028.0, 609800.0], [75.657895, 400028.0, 609808.0], [6.578947, 400028.0, 609813.0], [6.578947, 400028.0, 609821.0], [3.2894740000000002, 400028.0, 609844.0], [9.868421, 400028.0, 609845.0], [6.578947, 400028.0, 609848.0], [13.157895, 400028.0, 609856.0], [13.157895, 400028.0, 609862.0], [3.2894740000000002, 400028.0, 609864.0], [9.868421, 400028.0, 609883.0], [210.526316, 400028.0, 609900.0], [9.868421, 400028.0, 609902.0], [3.2894740000000002, 400028.0, 609908.0], [3.2894740000000002, 400028.0, 609917.0], [3.2894740000000002, 400028.0, 609938.0], [6.578947, 400028.0, 609939.0], [3.2894740000000002, 400028.0, 609941.0], [32.894737, 400028.0, 609943.0], [3.2894740000000002, 400028.0, 609944.0], [3.2894740000000002, 400028.0, 609964.0], [6.578947, 400028.0, 609978.0], [3.2894740000000002, 400028.0, 609997.0], [19.736842, 400028.0, 610004.0], [3.2894740000000002, 400028.0, 610027.0], [16.447368, 400028.0, 610054.0], [3.2894740000000002, 400028.0, 610086.0], [3.2894740000000002, 400028.0, 610091.0], [3.2894740000000002, 400028.0, 610120.0], [3.2894740000000002, 400028.0, 610128.0], [309.210526, 400028.0, 610139.0], [3.2894740000000002, 400028.0, 610171.0], [3.2894740000000002, 400028.0, 610172.0], [16.447368, 400028.0, 610176.0], [3.2894740000000002, 400028.0, 610178.0], [3.2894740000000002, 400028.0, 610185.0], [6.578947, 400028.0, 610188.0], [42.763158, 400028.0, 610208.0], [3.2894740000000002, 400028.0, 610213.0], [3.2894740000000002, 400028.0, 610219.0], [9.868421, 400028.0, 610225.0], [3.2894740000000002, 400028.0, 610237.0], [9.868421, 400028.0, 610279.0], [6.578947, 400028.0, 610295.0], [3.2894740000000002, 400028.0, 610315.0], [3.2894740000000002, 400028.0, 610339.0], [3.2894740000000002, 400028.0, 610345.0], [3.2894740000000002, 400028.0, 610353.0], [6.578947, 400028.0, 610364.0], [19.736842, 400028.0, 610368.0], [3.2894740000000002, 400028.0, 610369.0], [1000.0, 400028.0, 400028.0]], \"hoverlabel\": {\"namelength\": 0}, \"hovertemplate\": \"Campus=Prairie<br>AchievementPercentile=%{x}<br>GrowthPercentile=%{y}<br>Weight=%{customdata[0]}<br>SchoolID=%{customdata[1]}<br>ZonedID=%{customdata[2]}\", \"legendgroup\": \"Campus=Prairie\", \"marker\": {\"color\": \"#ab63fa\", \"size\": [6.578947, 3.2894740000000002, 3.2894740000000002, 3.2894740000000002, 6.578947, 3.2894740000000002, 3.2894740000000002, 13.157895, 75.657895, 6.578947, 6.578947, 3.2894740000000002, 9.868421, 6.578947, 13.157895, 13.157895, 3.2894740000000002, 9.868421, 210.526316, 9.868421, 3.2894740000000002, 3.2894740000000002, 3.2894740000000002, 6.578947, 3.2894740000000002, 32.894737, 3.2894740000000002, 3.2894740000000002, 6.578947, 3.2894740000000002, 19.736842, 3.2894740000000002, 16.447368, 3.2894740000000002, 3.2894740000000002, 3.2894740000000002, 3.2894740000000002, 309.210526, 3.2894740000000002, 3.2894740000000002, 16.447368, 3.2894740000000002, 3.2894740000000002, 6.578947, 42.763158, 3.2894740000000002, 3.2894740000000002, 9.868421, 3.2894740000000002, 9.868421, 6.578947, 3.2894740000000002, 3.2894740000000002, 3.2894740000000002, 3.2894740000000002, 6.578947, 19.736842, 3.2894740000000002, 1000.0], \"sizemode\": \"area\", \"sizeref\": 2.5, \"symbol\": \"circle\"}, \"mode\": \"markers\", \"name\": \"Campus=Prairie\", \"showlegend\": true, \"type\": \"scatter\", \"x\": [17.0, 55.0, 73.0, 24.0, 24.0, 61.0, 80.0, 28.0, 25.0, 24.0, 21.0, 41.0, 12.0, 26.0, 48.0, 57.0, 23.0, 31.0, 10.0, 15.0, 19.0, 70.0, 41.0, 17.0, 11.0, 11.0, 77.0, 23.0, 35.0, 10.0, 52.0, 34.0, 65.0, 35.0, 24.0, 65.0, 14.0, 27.0, 28.0, 24.0, 54.0, 49.0, 55.0, 54.0, 33.0, 19.0, 63.0, 57.0, 6.0, 24.0, 18.0, 18.0, 17.0, 28.0, 41.0, 18.0, 18.0, 5.0, 42.0], \"xaxis\": \"x\", \"y\": [22.0, 76.0, 55.0, 27.0, 11.0, 61.0, 70.0, 50.0, 48.0, 89.0, 30.0, 35.0, 45.0, 31.0, 55.0, 24.0, 57.0, 72.0, 12.0, 85.0, 7.0, 34.0, 65.0, 7.0, 31.0, 43.0, 55.0, 60.0, 18.0, 72.0, 77.0, 50.0, 73.0, 52.0, 31.0, 89.0, 10.0, 6.0, 68.0, 87.0, 83.0, 90.0, 40.0, 99.0, 69.0, 37.0, 55.0, 14.0, 27.0, 48.0, 27.0, 28.0, 55.0, 55.0, 66.0, 58.0, 73.0, 6.0, 25.0], \"yaxis\": \"y\"}],\n",
              "                        {\"legend\": {\"itemsizing\": \"constant\", \"tracegroupgap\": 0}, \"shapes\": [{\"line\": {\"color\": \"Black\", \"width\": 2}, \"type\": \"line\", \"x0\": 50, \"x1\": 50, \"y0\": 0, \"y1\": 100}, {\"line\": {\"color\": \"Black\", \"width\": 2}, \"type\": \"line\", \"x0\": 0, \"x1\": 100, \"y0\": 50, \"y1\": 50}], \"template\": {\"data\": {\"bar\": [{\"error_x\": {\"color\": \"#2a3f5f\"}, \"error_y\": {\"color\": \"#2a3f5f\"}, \"marker\": {\"line\": {\"color\": \"#E5ECF6\", \"width\": 0.5}}, \"type\": \"bar\"}], \"barpolar\": [{\"marker\": {\"line\": {\"color\": \"#E5ECF6\", \"width\": 0.5}}, \"type\": \"barpolar\"}], \"carpet\": [{\"aaxis\": {\"endlinecolor\": \"#2a3f5f\", \"gridcolor\": \"white\", \"linecolor\": \"white\", \"minorgridcolor\": \"white\", \"startlinecolor\": \"#2a3f5f\"}, \"baxis\": {\"endlinecolor\": \"#2a3f5f\", \"gridcolor\": \"white\", \"linecolor\": \"white\", \"minorgridcolor\": \"white\", \"startlinecolor\": \"#2a3f5f\"}, \"type\": \"carpet\"}], \"choropleth\": [{\"colorbar\": {\"outlinewidth\": 0, \"ticks\": \"\"}, \"type\": \"choropleth\"}], \"contour\": [{\"colorbar\": {\"outlinewidth\": 0, \"ticks\": \"\"}, \"colorscale\": [[0.0, \"#0d0887\"], [0.1111111111111111, \"#46039f\"], [0.2222222222222222, \"#7201a8\"], [0.3333333333333333, \"#9c179e\"], [0.4444444444444444, \"#bd3786\"], [0.5555555555555556, \"#d8576b\"], [0.6666666666666666, \"#ed7953\"], [0.7777777777777778, \"#fb9f3a\"], [0.8888888888888888, \"#fdca26\"], [1.0, \"#f0f921\"]], \"type\": \"contour\"}], \"contourcarpet\": [{\"colorbar\": {\"outlinewidth\": 0, \"ticks\": \"\"}, \"type\": \"contourcarpet\"}], \"heatmap\": [{\"colorbar\": {\"outlinewidth\": 0, \"ticks\": \"\"}, \"colorscale\": [[0.0, \"#0d0887\"], [0.1111111111111111, \"#46039f\"], [0.2222222222222222, \"#7201a8\"], [0.3333333333333333, \"#9c179e\"], [0.4444444444444444, \"#bd3786\"], [0.5555555555555556, \"#d8576b\"], [0.6666666666666666, \"#ed7953\"], [0.7777777777777778, \"#fb9f3a\"], [0.8888888888888888, \"#fdca26\"], [1.0, \"#f0f921\"]], \"type\": \"heatmap\"}], \"heatmapgl\": [{\"colorbar\": {\"outlinewidth\": 0, \"ticks\": \"\"}, \"colorscale\": [[0.0, \"#0d0887\"], [0.1111111111111111, \"#46039f\"], [0.2222222222222222, \"#7201a8\"], [0.3333333333333333, \"#9c179e\"], [0.4444444444444444, \"#bd3786\"], [0.5555555555555556, \"#d8576b\"], [0.6666666666666666, \"#ed7953\"], [0.7777777777777778, \"#fb9f3a\"], [0.8888888888888888, \"#fdca26\"], [1.0, \"#f0f921\"]], \"type\": \"heatmapgl\"}], \"histogram\": [{\"marker\": {\"colorbar\": {\"outlinewidth\": 0, \"ticks\": \"\"}}, \"type\": \"histogram\"}], \"histogram2d\": [{\"colorbar\": {\"outlinewidth\": 0, \"ticks\": \"\"}, \"colorscale\": [[0.0, \"#0d0887\"], [0.1111111111111111, \"#46039f\"], [0.2222222222222222, \"#7201a8\"], [0.3333333333333333, \"#9c179e\"], [0.4444444444444444, \"#bd3786\"], [0.5555555555555556, \"#d8576b\"], [0.6666666666666666, \"#ed7953\"], [0.7777777777777778, \"#fb9f3a\"], [0.8888888888888888, \"#fdca26\"], [1.0, \"#f0f921\"]], \"type\": \"histogram2d\"}], \"histogram2dcontour\": [{\"colorbar\": {\"outlinewidth\": 0, \"ticks\": \"\"}, \"colorscale\": [[0.0, \"#0d0887\"], [0.1111111111111111, \"#46039f\"], [0.2222222222222222, \"#7201a8\"], [0.3333333333333333, \"#9c179e\"], [0.4444444444444444, \"#bd3786\"], [0.5555555555555556, \"#d8576b\"], [0.6666666666666666, \"#ed7953\"], [0.7777777777777778, \"#fb9f3a\"], [0.8888888888888888, \"#fdca26\"], [1.0, \"#f0f921\"]], \"type\": \"histogram2dcontour\"}], \"mesh3d\": [{\"colorbar\": {\"outlinewidth\": 0, \"ticks\": \"\"}, \"type\": \"mesh3d\"}], \"parcoords\": [{\"line\": {\"colorbar\": {\"outlinewidth\": 0, \"ticks\": \"\"}}, \"type\": \"parcoords\"}], \"pie\": [{\"automargin\": true, \"type\": \"pie\"}], \"scatter\": [{\"marker\": {\"colorbar\": {\"outlinewidth\": 0, \"ticks\": \"\"}}, \"type\": \"scatter\"}], \"scatter3d\": [{\"line\": {\"colorbar\": {\"outlinewidth\": 0, \"ticks\": \"\"}}, \"marker\": {\"colorbar\": {\"outlinewidth\": 0, \"ticks\": \"\"}}, \"type\": \"scatter3d\"}], \"scattercarpet\": [{\"marker\": {\"colorbar\": {\"outlinewidth\": 0, \"ticks\": \"\"}}, \"type\": \"scattercarpet\"}], \"scattergeo\": [{\"marker\": {\"colorbar\": {\"outlinewidth\": 0, \"ticks\": \"\"}}, \"type\": \"scattergeo\"}], \"scattergl\": [{\"marker\": {\"colorbar\": {\"outlinewidth\": 0, \"ticks\": \"\"}}, \"type\": \"scattergl\"}], \"scattermapbox\": [{\"marker\": {\"colorbar\": {\"outlinewidth\": 0, \"ticks\": \"\"}}, \"type\": \"scattermapbox\"}], \"scatterpolar\": [{\"marker\": {\"colorbar\": {\"outlinewidth\": 0, \"ticks\": \"\"}}, \"type\": \"scatterpolar\"}], \"scatterpolargl\": [{\"marker\": {\"colorbar\": {\"outlinewidth\": 0, \"ticks\": \"\"}}, \"type\": \"scatterpolargl\"}], \"scatterternary\": [{\"marker\": {\"colorbar\": {\"outlinewidth\": 0, \"ticks\": \"\"}}, \"type\": \"scatterternary\"}], \"surface\": [{\"colorbar\": {\"outlinewidth\": 0, \"ticks\": \"\"}, \"colorscale\": [[0.0, \"#0d0887\"], [0.1111111111111111, \"#46039f\"], [0.2222222222222222, \"#7201a8\"], [0.3333333333333333, \"#9c179e\"], [0.4444444444444444, \"#bd3786\"], [0.5555555555555556, \"#d8576b\"], [0.6666666666666666, \"#ed7953\"], [0.7777777777777778, \"#fb9f3a\"], [0.8888888888888888, \"#fdca26\"], [1.0, \"#f0f921\"]], \"type\": \"surface\"}], \"table\": [{\"cells\": {\"fill\": {\"color\": \"#EBF0F8\"}, \"line\": {\"color\": \"white\"}}, \"header\": {\"fill\": {\"color\": \"#C8D4E3\"}, \"line\": {\"color\": \"white\"}}, \"type\": \"table\"}]}, \"layout\": {\"annotationdefaults\": {\"arrowcolor\": \"#2a3f5f\", \"arrowhead\": 0, \"arrowwidth\": 1}, \"coloraxis\": {\"colorbar\": {\"outlinewidth\": 0, \"ticks\": \"\"}}, \"colorscale\": {\"diverging\": [[0, \"#8e0152\"], [0.1, \"#c51b7d\"], [0.2, \"#de77ae\"], [0.3, \"#f1b6da\"], [0.4, \"#fde0ef\"], [0.5, \"#f7f7f7\"], [0.6, \"#e6f5d0\"], [0.7, \"#b8e186\"], [0.8, \"#7fbc41\"], [0.9, \"#4d9221\"], [1, \"#276419\"]], \"sequential\": [[0.0, \"#0d0887\"], [0.1111111111111111, \"#46039f\"], [0.2222222222222222, \"#7201a8\"], [0.3333333333333333, \"#9c179e\"], [0.4444444444444444, \"#bd3786\"], [0.5555555555555556, \"#d8576b\"], [0.6666666666666666, \"#ed7953\"], [0.7777777777777778, \"#fb9f3a\"], [0.8888888888888888, \"#fdca26\"], [1.0, \"#f0f921\"]], \"sequentialminus\": [[0.0, \"#0d0887\"], [0.1111111111111111, \"#46039f\"], [0.2222222222222222, \"#7201a8\"], [0.3333333333333333, \"#9c179e\"], [0.4444444444444444, \"#bd3786\"], [0.5555555555555556, \"#d8576b\"], [0.6666666666666666, \"#ed7953\"], [0.7777777777777778, \"#fb9f3a\"], [0.8888888888888888, \"#fdca26\"], [1.0, \"#f0f921\"]]}, \"colorway\": [\"#636efa\", \"#EF553B\", \"#00cc96\", \"#ab63fa\", \"#FFA15A\", \"#19d3f3\", \"#FF6692\", \"#B6E880\", \"#FF97FF\", \"#FECB52\"], \"font\": {\"color\": \"#2a3f5f\"}, \"geo\": {\"bgcolor\": \"white\", \"lakecolor\": \"white\", \"landcolor\": \"#E5ECF6\", \"showlakes\": true, \"showland\": true, \"subunitcolor\": \"white\"}, \"hoverlabel\": {\"align\": \"left\"}, \"hovermode\": \"closest\", \"mapbox\": {\"style\": \"light\"}, \"paper_bgcolor\": \"white\", \"plot_bgcolor\": \"#E5ECF6\", \"polar\": {\"angularaxis\": {\"gridcolor\": \"white\", \"linecolor\": \"white\", \"ticks\": \"\"}, \"bgcolor\": \"#E5ECF6\", \"radialaxis\": {\"gridcolor\": \"white\", \"linecolor\": \"white\", \"ticks\": \"\"}}, \"scene\": {\"xaxis\": {\"backgroundcolor\": \"#E5ECF6\", \"gridcolor\": \"white\", \"gridwidth\": 2, \"linecolor\": \"white\", \"showbackground\": true, \"ticks\": \"\", \"zerolinecolor\": \"white\"}, \"yaxis\": {\"backgroundcolor\": \"#E5ECF6\", \"gridcolor\": \"white\", \"gridwidth\": 2, \"linecolor\": \"white\", \"showbackground\": true, \"ticks\": \"\", \"zerolinecolor\": \"white\"}, \"zaxis\": {\"backgroundcolor\": \"#E5ECF6\", \"gridcolor\": \"white\", \"gridwidth\": 2, \"linecolor\": \"white\", \"showbackground\": true, \"ticks\": \"\", \"zerolinecolor\": \"white\"}}, \"shapedefaults\": {\"line\": {\"color\": \"#2a3f5f\"}}, \"ternary\": {\"aaxis\": {\"gridcolor\": \"white\", \"linecolor\": \"white\", \"ticks\": \"\"}, \"baxis\": {\"gridcolor\": \"white\", \"linecolor\": \"white\", \"ticks\": \"\"}, \"bgcolor\": \"#E5ECF6\", \"caxis\": {\"gridcolor\": \"white\", \"linecolor\": \"white\", \"ticks\": \"\"}}, \"title\": {\"x\": 0.05}, \"xaxis\": {\"automargin\": true, \"gridcolor\": \"white\", \"linecolor\": \"white\", \"ticks\": \"\", \"title\": {\"standoff\": 15}, \"zerolinecolor\": \"white\", \"zerolinewidth\": 2}, \"yaxis\": {\"automargin\": true, \"gridcolor\": \"white\", \"linecolor\": \"white\", \"ticks\": \"\", \"title\": {\"standoff\": 15}, \"zerolinecolor\": \"white\", \"zerolinewidth\": 2}}}, \"title\": {\"text\": \"A colored bubble plot for Maths\"}, \"xaxis\": {\"anchor\": \"y\", \"domain\": [0.0, 1.0], \"title\": {\"text\": \"AchievementPercentile\"}}, \"yaxis\": {\"anchor\": \"x\", \"domain\": [0.0, 1.0], \"title\": {\"text\": \"GrowthPercentile\"}}},\n",
              "                        {\"responsive\": true}\n",
              "                    ).then(function(){\n",
              "                            \n",
              "var gd = document.getElementById('ee91d7ac-a0d9-4359-9f98-772438871ead');\n",
              "var x = new MutationObserver(function (mutations, observer) {{\n",
              "        var display = window.getComputedStyle(gd).display;\n",
              "        if (!display || display === 'none') {{\n",
              "            console.log([gd, 'removed!']);\n",
              "            Plotly.purge(gd);\n",
              "            observer.disconnect();\n",
              "        }}\n",
              "}});\n",
              "\n",
              "// Listen for the removal of the full notebook cells\n",
              "var notebookContainer = gd.closest('#notebook-container');\n",
              "if (notebookContainer) {{\n",
              "    x.observe(notebookContainer, {childList: true});\n",
              "}}\n",
              "\n",
              "// Listen for the clearing of the current output cell\n",
              "var outputEl = gd.closest('.output');\n",
              "if (outputEl) {{\n",
              "    x.observe(outputEl, {childList: true});\n",
              "}}\n",
              "\n",
              "                        })\n",
              "                };\n",
              "                \n",
              "            </script>\n",
              "        </div>\n",
              "</body>\n",
              "</html>"
            ]
          },
          "metadata": {
            "tags": []
          }
        }
      ]
    },
    {
      "cell_type": "code",
      "metadata": {
        "id": "wYpi1EhW_sLX",
        "colab": {
          "base_uri": "https://localhost:8080/",
          "height": 542
        },
        "outputId": "8ed7b391-3b68-4771-9359-4535923c5d24"
      },
      "source": [
        "fig = px.scatter(read, y='GrowthPercentile', x='AchievementPercentile', color=\"Campus\",\n",
        "                 size='Weight', hover_data=['Weight','SchoolID','ZonedID'], title=\"A colored bubble plot for Reading\")\n",
        "fig.add_shape(\n",
        "        # Line Vertical\n",
        "        go.layout.Shape(\n",
        "            type=\"line\",\n",
        "            x0=50,\n",
        "            y0=0,\n",
        "            x1=50,\n",
        "            y1=100,\n",
        "            line=dict( color=\"Black\", width=2,),\n",
        "    ))\n",
        "fig.add_shape(\n",
        "        # Line Horizontal\n",
        "        go.layout.Shape(\n",
        "            type=\"line\",\n",
        "            x0=0,\n",
        "            y0=50,\n",
        "            x1=100,\n",
        "            y1=50,\n",
        "            line=dict(color=\"Black\", width=2 ,),\n",
        "    ))\n",
        "fig.show()"
      ],
      "execution_count": null,
      "outputs": [
        {
          "output_type": "display_data",
          "data": {
            "text/html": [
              "<html>\n",
              "<head><meta charset=\"utf-8\" /></head>\n",
              "<body>\n",
              "    <div>\n",
              "            <script src=\"https://cdnjs.cloudflare.com/ajax/libs/mathjax/2.7.5/MathJax.js?config=TeX-AMS-MML_SVG\"></script><script type=\"text/javascript\">if (window.MathJax) {MathJax.Hub.Config({SVG: {font: \"STIX-Web\"}});}</script>\n",
              "                <script type=\"text/javascript\">window.PlotlyConfig = {MathJaxConfig: 'local'};</script>\n",
              "        <script src=\"https://cdn.plot.ly/plotly-latest.min.js\"></script>    \n",
              "            <div id=\"9ff8f49e-1e10-4295-9e29-b3c30826cff6\" class=\"plotly-graph-div\" style=\"height:525px; width:100%;\"></div>\n",
              "            <script type=\"text/javascript\">\n",
              "                \n",
              "                    window.PLOTLYENV=window.PLOTLYENV || {};\n",
              "                    \n",
              "                if (document.getElementById(\"9ff8f49e-1e10-4295-9e29-b3c30826cff6\")) {\n",
              "                    Plotly.newPlot(\n",
              "                        '9ff8f49e-1e10-4295-9e29-b3c30826cff6',\n",
              "                        [{\"customdata\": [[17.130621, 400025.0, 609716.0], [27.837259, 400025.0, 609789.0], [10.706638000000002, 400025.0, 609792.0], [2.141328, 400025.0, 609798.0], [2.141328, 400025.0, 609799.0], [2.141328, 400025.0, 609803.0], [2.141328, 400025.0, 609804.0], [4.282655, 400025.0, 609806.0], [19.271949, 400025.0, 609809.0], [2.141328, 400025.0, 609810.0], [2.141328, 400025.0, 609812.0], [17.130621, 400025.0, 609818.0], [2.141328, 400025.0, 609820.0], [4.282655, 400025.0, 609830.0], [10.706638000000002, 400025.0, 609835.0], [2.141328, 400025.0, 609850.0], [2.141328, 400025.0, 609853.0], [32.119914, 400025.0, 609854.0], [8.56531, 400025.0, 609857.0], [2.141328, 400025.0, 609859.0], [2.141328, 400025.0, 609865.0], [4.282655, 400025.0, 609870.0], [2.141328, 400025.0, 609872.0], [19.271949, 400025.0, 609875.0], [4.282655, 400025.0, 609884.0], [2.141328, 400025.0, 609894.0], [2.141328, 400025.0, 609903.0], [2.141328, 400025.0, 609904.0], [2.141328, 400025.0, 609909.0], [19.271949, 400025.0, 609910.0], [2.141328, 400025.0, 609918.0], [19.271949, 400025.0, 609930.0], [12.847966000000001, 400025.0, 609942.0], [4.282655, 400025.0, 609949.0], [17.130621, 400025.0, 609968.0], [2.141328, 400025.0, 609971.0], [2.141328, 400025.0, 609972.0], [8.56531, 400025.0, 609975.0], [2.141328, 400025.0, 609979.0], [2.141328, 400025.0, 609985.0], [6.423983000000001, 400025.0, 609988.0], [4.282655, 400025.0, 609991.0], [4.282655, 400025.0, 609994.0], [2.141328, 400025.0, 610000.0], [17.130621, 400025.0, 610010.0], [4.282655, 400025.0, 610011.0], [14.989293, 400025.0, 610021.0], [4.282655, 400025.0, 610029.0], [14.989293, 400025.0, 610036.0], [6.423983000000001, 400025.0, 610039.0], [17.130621, 400025.0, 610040.0], [6.423983000000001, 400025.0, 610041.0], [14.989293, 400025.0, 610043.0], [21.413276000000003, 400025.0, 610044.0], [8.56531, 400025.0, 610046.0], [10.706638000000002, 400025.0, 610048.0], [17.130621, 400025.0, 610051.0], [4.282655, 400025.0, 610053.0], [4.282655, 400025.0, 610055.0], [4.282655, 400025.0, 610056.0], [2.141328, 400025.0, 610059.0], [2.141328, 400025.0, 610063.0], [2.141328, 400025.0, 610067.0], [21.413276000000003, 400025.0, 610068.0], [23.554604, 400025.0, 610074.0], [8.56531, 400025.0, 610076.0], [4.282655, 400025.0, 610077.0], [42.82655200000001, 400025.0, 610088.0], [51.391862999999994, 400025.0, 610097.0], [17.130621, 400025.0, 610098.0], [12.847966000000001, 400025.0, 610100.0], [21.413276000000003, 400025.0, 610106.0], [4.282655, 400025.0, 610107.0], [2.141328, 400025.0, 610129.0], [2.141328, 400025.0, 610130.0], [2.141328, 400025.0, 610133.0], [4.282655, 400025.0, 610135.0], [2.141328, 400025.0, 610137.0], [23.554604, 400025.0, 610138.0], [8.56531, 400025.0, 610144.0], [10.706638000000002, 400025.0, 610145.0], [2.141328, 400025.0, 610152.0], [8.56531, 400025.0, 610158.0], [17.130621, 400025.0, 610159.0], [19.271949, 400025.0, 610165.0], [4.282655, 400025.0, 610174.0], [23.554604, 400025.0, 610192.0], [4.282655, 400025.0, 610197.0], [2.141328, 400025.0, 610209.0], [2.141328, 400025.0, 610229.0], [14.989293, 400025.0, 610234.0], [10.706638000000002, 400025.0, 610235.0], [2.141328, 400025.0, 610242.0], [4.282655, 400025.0, 610251.0], [2.141328, 400025.0, 610252.0], [12.847966000000001, 400025.0, 610257.0], [4.282655, 400025.0, 610269.0], [2.141328, 400025.0, 610281.0], [8.56531, 400025.0, 610282.0], [12.847966000000001, 400025.0, 610313.0], [21.413276000000003, 400025.0, 610325.0], [2.141328, 400025.0, 610329.0], [6.423983000000001, 400025.0, 610367.0], [8.56531, 400025.0, 610533.0], [14.989293, 400025.0, 610539.0], [19.271949, 400025.0, 610541.0], [4.282655, 400025.0, 610542.0], [1000.0, 400025.0, 400025.0]], \"hoverlabel\": {\"namelength\": 0}, \"hovertemplate\": \"Campus=Bucktown<br>AchievementPercentile=%{x}<br>GrowthPercentile=%{y}<br>Weight=%{customdata[0]}<br>SchoolID=%{customdata[1]}<br>ZonedID=%{customdata[2]}\", \"legendgroup\": \"Campus=Bucktown\", \"marker\": {\"color\": \"#636efa\", \"size\": [17.130621, 27.837259, 10.706638000000002, 2.141328, 2.141328, 2.141328, 2.141328, 4.282655, 19.271949, 2.141328, 2.141328, 17.130621, 2.141328, 4.282655, 10.706638000000002, 2.141328, 2.141328, 32.119914, 8.56531, 2.141328, 2.141328, 4.282655, 2.141328, 19.271949, 4.282655, 2.141328, 2.141328, 2.141328, 2.141328, 19.271949, 2.141328, 19.271949, 12.847966000000001, 4.282655, 17.130621, 2.141328, 2.141328, 8.56531, 2.141328, 2.141328, 6.423983000000001, 4.282655, 4.282655, 2.141328, 17.130621, 4.282655, 14.989293, 4.282655, 14.989293, 6.423983000000001, 17.130621, 6.423983000000001, 14.989293, 21.413276000000003, 8.56531, 10.706638000000002, 17.130621, 4.282655, 4.282655, 4.282655, 2.141328, 2.141328, 2.141328, 21.413276000000003, 23.554604, 8.56531, 4.282655, 42.82655200000001, 51.391862999999994, 17.130621, 12.847966000000001, 21.413276000000003, 4.282655, 2.141328, 2.141328, 2.141328, 4.282655, 2.141328, 23.554604, 8.56531, 10.706638000000002, 2.141328, 8.56531, 17.130621, 19.271949, 4.282655, 23.554604, 4.282655, 2.141328, 2.141328, 14.989293, 10.706638000000002, 2.141328, 4.282655, 2.141328, 12.847966000000001, 4.282655, 2.141328, 8.56531, 12.847966000000001, 21.413276000000003, 2.141328, 6.423983000000001, 8.56531, 14.989293, 19.271949, 4.282655, 1000.0], \"sizemode\": \"area\", \"sizeref\": 2.5, \"symbol\": \"circle\"}, \"mode\": \"markers\", \"name\": \"Campus=Bucktown\", \"showlegend\": true, \"type\": \"scatter\", \"x\": [21.0, 42.0, 73.0, 86.0, 98.0, 97.0, 73.0, 7.0, 70.0, 83.0, 11.0, 70.0, 97.0, 11.0, 50.0, 83.0, 64.0, 43.0, 67.0, 83.0, 59.0, 51.0, 80.0, 53.0, 77.0, 21.0, 57.0, 46.0, 69.0, 39.0, 38.0, 49.0, 80.0, 67.0, 43.0, 16.0, 57.0, 23.0, 95.0, 94.0, 67.0, 11.0, 55.0, 8.0, 57.0, 90.0, 77.0, 63.0, 33.0, 86.0, 42.0, 68.0, 49.0, 48.0, 90.0, 6.0, 53.0, 51.0, 35.0, 47.0, 96.0, 19.0, 20.0, 63.0, 45.0, 55.0, 33.0, 39.0, 23.0, 48.0, 30.0, 33.0, 47.0, 69.0, 43.0, 20.0, 78.0, 81.0, 90.0, 55.0, 76.0, 38.0, 55.0, 71.0, 30.0, 38.0, 42.0, 69.0, 58.0, 95.0, 11.0, 23.0, 70.0, 33.0, 12.0, 42.0, 54.0, 35.0, 32.0, 34.0, 37.0, 75.0, 19.0, 53.0, 58.0, 61.0, 87.0, 86.0], \"xaxis\": \"x\", \"y\": [6.0, 48.0, 81.0, 76.0, 60.0, 73.0, 75.0, 70.0, 60.0, 86.0, 7.0, 91.0, 75.0, 25.0, 46.0, 66.0, 79.0, 88.0, 78.0, 85.0, 70.0, 73.0, 76.0, 66.0, 76.0, 38.0, 73.0, 86.0, 30.0, 76.0, 64.0, 85.0, 71.0, 70.0, 52.0, 21.0, 75.0, 54.0, 87.0, 95.0, 92.0, 54.0, 86.0, 44.0, 54.0, 76.0, 85.0, 86.0, 76.0, 42.0, 76.0, 76.0, 58.0, 75.0, 79.0, 14.0, 83.0, 86.0, 34.0, 30.0, 85.0, 48.0, 78.0, 78.0, 56.0, 36.0, 86.0, 54.0, 58.0, 78.0, 60.0, 50.0, 48.0, 56.0, 44.0, 71.0, 87.0, 73.0, 90.0, 71.0, 71.0, 27.0, 62.0, 88.0, 13.0, 99.0, 66.0, 70.0, 62.0, 66.0, 38.0, 11.0, 75.0, 40.0, 78.0, 38.0, 68.0, 70.0, 54.0, 36.0, 54.0, 66.0, 70.0, 64.0, 68.0, 79.0, 92.0, 78.0], \"yaxis\": \"y\"}, {\"customdata\": [[11.331445, 400027.0, 609716.0], [11.331445, 400027.0, 609789.0], [53.824363, 400027.0, 609792.0], [50.99150099999999, 400027.0, 609798.0], [2.832861, 400027.0, 609809.0], [5.665722, 400027.0, 609810.0], [2.832861, 400027.0, 609818.0], [2.832861, 400027.0, 609835.0], [110.481586, 400027.0, 609857.0], [5.665722, 400027.0, 609875.0], [5.665722, 400027.0, 609884.0], [31.161472999999997, 400027.0, 609910.0], [2.832861, 400027.0, 609930.0], [65.155807, 400027.0, 609949.0], [11.331445, 400027.0, 609968.0], [53.824363, 400027.0, 609972.0], [36.827195, 400027.0, 609988.0], [8.498584, 400027.0, 609994.0], [2.832861, 400027.0, 610011.0], [2.832861, 400027.0, 610021.0], [5.665722, 400027.0, 610036.0], [16.997167, 400027.0, 610039.0], [16.997167, 400027.0, 610040.0], [16.997167, 400027.0, 610041.0], [8.498584, 400027.0, 610044.0], [5.665722, 400027.0, 610046.0], [33.994334, 400027.0, 610051.0], [8.498584, 400027.0, 610074.0], [2.832861, 400027.0, 610076.0], [14.164306000000002, 400027.0, 610088.0], [2.832861, 400027.0, 610098.0], [5.665722, 400027.0, 610100.0], [2.832861, 400027.0, 610106.0], [31.161472999999997, 400027.0, 610135.0], [8.498584, 400027.0, 610137.0], [39.660057, 400027.0, 610144.0], [5.665722, 400027.0, 610145.0], [5.665722, 400027.0, 610158.0], [42.492917999999996, 400027.0, 610159.0], [8.498584, 400027.0, 610165.0], [5.665722, 400027.0, 610192.0], [2.832861, 400027.0, 610197.0], [25.495751000000002, 400027.0, 610209.0], [2.832861, 400027.0, 610229.0], [2.832861, 400027.0, 610235.0], [5.665722, 400027.0, 610282.0], [16.997167, 400027.0, 610325.0], [14.164306000000002, 400027.0, 610533.0], [5.665722, 400027.0, 610541.0], [5.665722, 400027.0, 609796.0], [14.164306000000002, 400027.0, 609817.0], [2.832861, 400027.0, 609852.0], [2.832861, 400027.0, 609863.0], [2.832861, 400027.0, 609879.0], [11.331445, 400027.0, 609912.0], [5.665722, 400027.0, 609945.0], [2.832861, 400027.0, 609952.0], [2.832861, 400027.0, 609973.0], [2.832861, 400027.0, 609976.0], [2.832861, 400027.0, 610006.0], [5.665722, 400027.0, 610022.0], [42.492917999999996, 400027.0, 610089.0], [2.832861, 400027.0, 610092.0], [8.498584, 400027.0, 610111.0], [2.832861, 400027.0, 610147.0], [16.997167, 400027.0, 610179.0], [2.832861, 400027.0, 610194.0], [2.832861, 400027.0, 610212.0], [5.665722, 400027.0, 610220.0], [2.832861, 400027.0, 610268.0], [2.832861, 400027.0, 610396.0], [2.832861, 400027.0, 610559.0], [1000.0, 400027.0, 400027.0]], \"hoverlabel\": {\"namelength\": 0}, \"hovertemplate\": \"Campus=Irving Park<br>AchievementPercentile=%{x}<br>GrowthPercentile=%{y}<br>Weight=%{customdata[0]}<br>SchoolID=%{customdata[1]}<br>ZonedID=%{customdata[2]}\", \"legendgroup\": \"Campus=Irving Park\", \"marker\": {\"color\": \"#EF553B\", \"size\": [11.331445, 11.331445, 53.824363, 50.99150099999999, 2.832861, 5.665722, 2.832861, 2.832861, 110.481586, 5.665722, 5.665722, 31.161472999999997, 2.832861, 65.155807, 11.331445, 53.824363, 36.827195, 8.498584, 2.832861, 2.832861, 5.665722, 16.997167, 16.997167, 16.997167, 8.498584, 5.665722, 33.994334, 8.498584, 2.832861, 14.164306000000002, 2.832861, 5.665722, 2.832861, 31.161472999999997, 8.498584, 39.660057, 5.665722, 5.665722, 42.492917999999996, 8.498584, 5.665722, 2.832861, 25.495751000000002, 2.832861, 2.832861, 5.665722, 16.997167, 14.164306000000002, 5.665722, 5.665722, 14.164306000000002, 2.832861, 2.832861, 2.832861, 11.331445, 5.665722, 2.832861, 2.832861, 2.832861, 2.832861, 5.665722, 42.492917999999996, 2.832861, 8.498584, 2.832861, 16.997167, 2.832861, 2.832861, 5.665722, 2.832861, 2.832861, 2.832861, 1000.0], \"sizemode\": \"area\", \"sizeref\": 2.5, \"symbol\": \"circle\"}, \"mode\": \"markers\", \"name\": \"Campus=Irving Park\", \"showlegend\": true, \"type\": \"scatter\", \"x\": [21.0, 42.0, 73.0, 86.0, 70.0, 83.0, 70.0, 50.0, 67.0, 53.0, 77.0, 39.0, 49.0, 67.0, 43.0, 57.0, 67.0, 55.0, 90.0, 77.0, 33.0, 86.0, 42.0, 68.0, 48.0, 90.0, 53.0, 45.0, 55.0, 39.0, 48.0, 30.0, 33.0, 78.0, 81.0, 55.0, 76.0, 55.0, 71.0, 30.0, 42.0, 69.0, 58.0, 95.0, 23.0, 32.0, 37.0, 53.0, 61.0, 96.0, 91.0, 88.0, 72.0, 70.0, 79.0, 81.0, 48.0, 66.0, 77.0, 61.0, 68.0, 63.0, 7.0, 86.0, 91.0, 80.0, 38.0, 83.0, 96.0, 11.0, 63.0, 65.0, 83.0], \"xaxis\": \"x\", \"y\": [6.0, 48.0, 81.0, 76.0, 60.0, 86.0, 91.0, 46.0, 78.0, 66.0, 76.0, 76.0, 85.0, 70.0, 52.0, 75.0, 92.0, 86.0, 76.0, 85.0, 76.0, 42.0, 76.0, 76.0, 75.0, 79.0, 83.0, 56.0, 36.0, 54.0, 78.0, 60.0, 50.0, 87.0, 73.0, 71.0, 71.0, 62.0, 88.0, 13.0, 66.0, 70.0, 62.0, 66.0, 11.0, 54.0, 54.0, 64.0, 79.0, 62.0, 85.0, 68.0, 73.0, 66.0, 75.0, 70.0, 82.0, 78.0, 78.0, 93.0, 82.0, 56.0, 1.0, 85.0, 76.0, 58.0, 58.0, 87.0, 81.0, 62.0, 52.0, 83.0, 93.0], \"yaxis\": \"y\"}, {\"customdata\": [[11.299435, 400030.0, 609716.0], [5.649718000000001, 400030.0, 609789.0], [2.8248590000000005, 400030.0, 609809.0], [2.8248590000000005, 400030.0, 609810.0], [183.615819, 400030.0, 609818.0], [28.248587999999998, 400030.0, 609830.0], [8.474575999999999, 400030.0, 609835.0], [5.649718000000001, 400030.0, 609884.0], [2.8248590000000005, 400030.0, 609903.0], [5.649718000000001, 400030.0, 609904.0], [11.299435, 400030.0, 609910.0], [8.474575999999999, 400030.0, 609949.0], [2.8248590000000005, 400030.0, 609972.0], [11.299435, 400030.0, 610000.0], [2.8248590000000005, 400030.0, 610010.0], [45.19774, 400030.0, 610036.0], [25.423728999999998, 400030.0, 610040.0], [101.694915, 400030.0, 610041.0], [28.248587999999998, 400030.0, 610043.0], [5.649718000000001, 400030.0, 610044.0], [101.694915, 400030.0, 610046.0], [45.19774, 400030.0, 610051.0], [45.19774, 400030.0, 610068.0], [16.949153000000003, 400030.0, 610097.0], [2.8248590000000005, 400030.0, 610098.0], [2.8248590000000005, 400030.0, 610100.0], [22.59887, 400030.0, 610106.0], [2.8248590000000005, 400030.0, 610135.0], [11.299435, 400030.0, 610145.0], [11.299435, 400030.0, 610158.0], [2.8248590000000005, 400030.0, 610159.0], [70.621469, 400030.0, 610165.0], [5.649718000000001, 400030.0, 610192.0], [28.248587999999998, 400030.0, 610235.0], [2.8248590000000005, 400030.0, 610242.0], [8.474575999999999, 400030.0, 610282.0], [2.8248590000000005, 400030.0, 610313.0], [2.8248590000000005, 400030.0, 610367.0], [76.27118599999999, 400030.0, 610533.0], [11.299435, 400030.0, 610539.0], [2.8248590000000005, 400030.0, 609852.0], [14.124293999999999, 400030.0, 610179.0], [2.8248590000000005, 400030.0, 610183.0], [2.8248590000000005, 400030.0, 610206.0], [1000.0, 400030.0, 400030.0]], \"hoverlabel\": {\"namelength\": 0}, \"hovertemplate\": \"Campus=West Belden<br>AchievementPercentile=%{x}<br>GrowthPercentile=%{y}<br>Weight=%{customdata[0]}<br>SchoolID=%{customdata[1]}<br>ZonedID=%{customdata[2]}\", \"legendgroup\": \"Campus=West Belden\", \"marker\": {\"color\": \"#00cc96\", \"size\": [11.299435, 5.649718000000001, 2.8248590000000005, 2.8248590000000005, 183.615819, 28.248587999999998, 8.474575999999999, 5.649718000000001, 2.8248590000000005, 5.649718000000001, 11.299435, 8.474575999999999, 2.8248590000000005, 11.299435, 2.8248590000000005, 45.19774, 25.423728999999998, 101.694915, 28.248587999999998, 5.649718000000001, 101.694915, 45.19774, 45.19774, 16.949153000000003, 2.8248590000000005, 2.8248590000000005, 22.59887, 2.8248590000000005, 11.299435, 11.299435, 2.8248590000000005, 70.621469, 5.649718000000001, 28.248587999999998, 2.8248590000000005, 8.474575999999999, 2.8248590000000005, 2.8248590000000005, 76.27118599999999, 11.299435, 2.8248590000000005, 14.124293999999999, 2.8248590000000005, 2.8248590000000005, 1000.0], \"sizemode\": \"area\", \"sizeref\": 2.5, \"symbol\": \"circle\"}, \"mode\": \"markers\", \"name\": \"Campus=West Belden\", \"showlegend\": true, \"type\": \"scatter\", \"x\": [21.0, 42.0, 70.0, 83.0, 70.0, 11.0, 50.0, 77.0, 57.0, 46.0, 39.0, 67.0, 57.0, 8.0, 57.0, 33.0, 42.0, 68.0, 49.0, 48.0, 90.0, 53.0, 63.0, 23.0, 48.0, 30.0, 33.0, 78.0, 76.0, 55.0, 71.0, 30.0, 42.0, 23.0, 70.0, 32.0, 34.0, 19.0, 53.0, 58.0, 88.0, 80.0, 12.0, 80.0, 88.0], \"xaxis\": \"x\", \"y\": [6.0, 48.0, 60.0, 86.0, 91.0, 25.0, 46.0, 76.0, 73.0, 86.0, 76.0, 70.0, 75.0, 44.0, 54.0, 76.0, 76.0, 76.0, 58.0, 75.0, 79.0, 83.0, 78.0, 58.0, 78.0, 60.0, 50.0, 87.0, 71.0, 62.0, 88.0, 13.0, 66.0, 11.0, 75.0, 54.0, 36.0, 70.0, 64.0, 68.0, 68.0, 58.0, 13.0, 81.0, 87.0], \"yaxis\": \"y\"}, {\"customdata\": [[6.578947, 400028.0, 609971.0], [3.2894740000000002, 400028.0, 610053.0], [3.2894740000000002, 400028.0, 610068.0], [3.2894740000000002, 400028.0, 610130.0], [6.578947, 400028.0, 610152.0], [3.2894740000000002, 400028.0, 610269.0], [3.2894740000000002, 400028.0, 609879.0], [13.157895, 400028.0, 609800.0], [75.657895, 400028.0, 609808.0], [6.578947, 400028.0, 609813.0], [6.578947, 400028.0, 609821.0], [3.2894740000000002, 400028.0, 609844.0], [9.868421, 400028.0, 609845.0], [6.578947, 400028.0, 609848.0], [13.157895, 400028.0, 609856.0], [13.157895, 400028.0, 609862.0], [3.2894740000000002, 400028.0, 609864.0], [9.868421, 400028.0, 609883.0], [210.526316, 400028.0, 609900.0], [9.868421, 400028.0, 609902.0], [3.2894740000000002, 400028.0, 609908.0], [3.2894740000000002, 400028.0, 609917.0], [3.2894740000000002, 400028.0, 609938.0], [6.578947, 400028.0, 609939.0], [3.2894740000000002, 400028.0, 609941.0], [32.894737, 400028.0, 609943.0], [3.2894740000000002, 400028.0, 609944.0], [3.2894740000000002, 400028.0, 609964.0], [6.578947, 400028.0, 609978.0], [3.2894740000000002, 400028.0, 609997.0], [19.736842, 400028.0, 610004.0], [3.2894740000000002, 400028.0, 610027.0], [16.447368, 400028.0, 610054.0], [3.2894740000000002, 400028.0, 610086.0], [3.2894740000000002, 400028.0, 610091.0], [3.2894740000000002, 400028.0, 610120.0], [3.2894740000000002, 400028.0, 610128.0], [309.210526, 400028.0, 610139.0], [3.2894740000000002, 400028.0, 610171.0], [3.2894740000000002, 400028.0, 610172.0], [16.447368, 400028.0, 610176.0], [3.2894740000000002, 400028.0, 610178.0], [3.2894740000000002, 400028.0, 610185.0], [6.578947, 400028.0, 610188.0], [42.763158, 400028.0, 610208.0], [3.2894740000000002, 400028.0, 610213.0], [3.2894740000000002, 400028.0, 610219.0], [9.868421, 400028.0, 610225.0], [3.2894740000000002, 400028.0, 610237.0], [9.868421, 400028.0, 610279.0], [6.578947, 400028.0, 610295.0], [3.2894740000000002, 400028.0, 610315.0], [3.2894740000000002, 400028.0, 610339.0], [3.2894740000000002, 400028.0, 610345.0], [3.2894740000000002, 400028.0, 610353.0], [6.578947, 400028.0, 610364.0], [19.736842, 400028.0, 610368.0], [3.2894740000000002, 400028.0, 610369.0], [1000.0, 400028.0, 400028.0]], \"hoverlabel\": {\"namelength\": 0}, \"hovertemplate\": \"Campus=Prairie<br>AchievementPercentile=%{x}<br>GrowthPercentile=%{y}<br>Weight=%{customdata[0]}<br>SchoolID=%{customdata[1]}<br>ZonedID=%{customdata[2]}\", \"legendgroup\": \"Campus=Prairie\", \"marker\": {\"color\": \"#ab63fa\", \"size\": [6.578947, 3.2894740000000002, 3.2894740000000002, 3.2894740000000002, 6.578947, 3.2894740000000002, 3.2894740000000002, 13.157895, 75.657895, 6.578947, 6.578947, 3.2894740000000002, 9.868421, 6.578947, 13.157895, 13.157895, 3.2894740000000002, 9.868421, 210.526316, 9.868421, 3.2894740000000002, 3.2894740000000002, 3.2894740000000002, 6.578947, 3.2894740000000002, 32.894737, 3.2894740000000002, 3.2894740000000002, 6.578947, 3.2894740000000002, 19.736842, 3.2894740000000002, 16.447368, 3.2894740000000002, 3.2894740000000002, 3.2894740000000002, 3.2894740000000002, 309.210526, 3.2894740000000002, 3.2894740000000002, 16.447368, 3.2894740000000002, 3.2894740000000002, 6.578947, 42.763158, 3.2894740000000002, 3.2894740000000002, 9.868421, 3.2894740000000002, 9.868421, 6.578947, 3.2894740000000002, 3.2894740000000002, 3.2894740000000002, 3.2894740000000002, 6.578947, 19.736842, 3.2894740000000002, 1000.0], \"sizemode\": \"area\", \"sizeref\": 2.5, \"symbol\": \"circle\"}, \"mode\": \"markers\", \"name\": \"Campus=Prairie\", \"showlegend\": true, \"type\": \"scatter\", \"x\": [16.0, 51.0, 63.0, 43.0, 38.0, 54.0, 70.0, 28.0, 25.0, 54.0, 33.0, 37.0, 21.0, 38.0, 46.0, 47.0, 33.0, 28.0, 9.0, 20.0, 41.0, 73.0, 54.0, 32.0, 17.0, 15.0, 79.0, 26.0, 51.0, 14.0, 62.0, 55.0, 64.0, 37.0, 32.0, 67.0, 41.0, 55.0, 27.0, 16.0, 38.0, 45.0, 66.0, 86.0, 38.0, 29.0, 69.0, 80.0, 16.0, 38.0, 32.0, 25.0, 32.0, 39.0, 53.0, 35.0, 18.0, 8.0, 34.0], \"xaxis\": \"x\", \"y\": [21.0, 86.0, 78.0, 44.0, 27.0, 68.0, 66.0, 24.0, 66.0, 99.0, 54.0, 50.0, 64.0, 73.0, 44.0, 34.0, 81.0, 70.0, 6.0, 82.0, 8.0, 66.0, 78.0, 21.0, 48.0, 52.0, 46.0, 86.0, 78.0, 60.0, 71.0, 81.0, 60.0, 82.0, 42.0, 68.0, 48.0, 52.0, 58.0, 86.0, 73.0, 79.0, 64.0, 99.0, 81.0, 78.0, 78.0, 44.0, 50.0, 56.0, 70.0, 19.0, 83.0, 50.0, 85.0, 60.0, 56.0, 54.0, 60.0], \"yaxis\": \"y\"}],\n",
              "                        {\"legend\": {\"itemsizing\": \"constant\", \"tracegroupgap\": 0}, \"shapes\": [{\"line\": {\"color\": \"Black\", \"width\": 2}, \"type\": \"line\", \"x0\": 50, \"x1\": 50, \"y0\": 0, \"y1\": 100}, {\"line\": {\"color\": \"Black\", \"width\": 2}, \"type\": \"line\", \"x0\": 0, \"x1\": 100, \"y0\": 50, \"y1\": 50}], \"template\": {\"data\": {\"bar\": [{\"error_x\": {\"color\": \"#2a3f5f\"}, \"error_y\": {\"color\": \"#2a3f5f\"}, \"marker\": {\"line\": {\"color\": \"#E5ECF6\", \"width\": 0.5}}, \"type\": \"bar\"}], \"barpolar\": [{\"marker\": {\"line\": {\"color\": \"#E5ECF6\", \"width\": 0.5}}, \"type\": \"barpolar\"}], \"carpet\": [{\"aaxis\": {\"endlinecolor\": \"#2a3f5f\", \"gridcolor\": \"white\", \"linecolor\": \"white\", \"minorgridcolor\": \"white\", \"startlinecolor\": \"#2a3f5f\"}, \"baxis\": {\"endlinecolor\": \"#2a3f5f\", \"gridcolor\": \"white\", \"linecolor\": \"white\", \"minorgridcolor\": \"white\", \"startlinecolor\": \"#2a3f5f\"}, \"type\": \"carpet\"}], \"choropleth\": [{\"colorbar\": {\"outlinewidth\": 0, \"ticks\": \"\"}, \"type\": \"choropleth\"}], \"contour\": [{\"colorbar\": {\"outlinewidth\": 0, \"ticks\": \"\"}, \"colorscale\": [[0.0, \"#0d0887\"], [0.1111111111111111, \"#46039f\"], [0.2222222222222222, \"#7201a8\"], [0.3333333333333333, \"#9c179e\"], [0.4444444444444444, \"#bd3786\"], [0.5555555555555556, \"#d8576b\"], [0.6666666666666666, \"#ed7953\"], [0.7777777777777778, \"#fb9f3a\"], [0.8888888888888888, \"#fdca26\"], [1.0, \"#f0f921\"]], \"type\": \"contour\"}], \"contourcarpet\": [{\"colorbar\": {\"outlinewidth\": 0, \"ticks\": \"\"}, \"type\": \"contourcarpet\"}], \"heatmap\": [{\"colorbar\": {\"outlinewidth\": 0, \"ticks\": \"\"}, \"colorscale\": [[0.0, \"#0d0887\"], [0.1111111111111111, \"#46039f\"], [0.2222222222222222, \"#7201a8\"], [0.3333333333333333, \"#9c179e\"], [0.4444444444444444, \"#bd3786\"], [0.5555555555555556, \"#d8576b\"], [0.6666666666666666, \"#ed7953\"], [0.7777777777777778, \"#fb9f3a\"], [0.8888888888888888, \"#fdca26\"], [1.0, \"#f0f921\"]], \"type\": \"heatmap\"}], \"heatmapgl\": [{\"colorbar\": {\"outlinewidth\": 0, \"ticks\": \"\"}, \"colorscale\": [[0.0, \"#0d0887\"], [0.1111111111111111, \"#46039f\"], [0.2222222222222222, \"#7201a8\"], [0.3333333333333333, \"#9c179e\"], [0.4444444444444444, \"#bd3786\"], [0.5555555555555556, \"#d8576b\"], [0.6666666666666666, \"#ed7953\"], [0.7777777777777778, \"#fb9f3a\"], [0.8888888888888888, \"#fdca26\"], [1.0, \"#f0f921\"]], \"type\": \"heatmapgl\"}], \"histogram\": [{\"marker\": {\"colorbar\": {\"outlinewidth\": 0, \"ticks\": \"\"}}, \"type\": \"histogram\"}], \"histogram2d\": [{\"colorbar\": {\"outlinewidth\": 0, \"ticks\": \"\"}, \"colorscale\": [[0.0, \"#0d0887\"], [0.1111111111111111, \"#46039f\"], [0.2222222222222222, \"#7201a8\"], [0.3333333333333333, \"#9c179e\"], [0.4444444444444444, \"#bd3786\"], [0.5555555555555556, \"#d8576b\"], [0.6666666666666666, \"#ed7953\"], [0.7777777777777778, \"#fb9f3a\"], [0.8888888888888888, \"#fdca26\"], [1.0, \"#f0f921\"]], \"type\": \"histogram2d\"}], \"histogram2dcontour\": [{\"colorbar\": {\"outlinewidth\": 0, \"ticks\": \"\"}, \"colorscale\": [[0.0, \"#0d0887\"], [0.1111111111111111, \"#46039f\"], [0.2222222222222222, \"#7201a8\"], [0.3333333333333333, \"#9c179e\"], [0.4444444444444444, \"#bd3786\"], [0.5555555555555556, \"#d8576b\"], [0.6666666666666666, \"#ed7953\"], [0.7777777777777778, \"#fb9f3a\"], [0.8888888888888888, \"#fdca26\"], [1.0, \"#f0f921\"]], \"type\": \"histogram2dcontour\"}], \"mesh3d\": [{\"colorbar\": {\"outlinewidth\": 0, \"ticks\": \"\"}, \"type\": \"mesh3d\"}], \"parcoords\": [{\"line\": {\"colorbar\": {\"outlinewidth\": 0, \"ticks\": \"\"}}, \"type\": \"parcoords\"}], \"pie\": [{\"automargin\": true, \"type\": \"pie\"}], \"scatter\": [{\"marker\": {\"colorbar\": {\"outlinewidth\": 0, \"ticks\": \"\"}}, \"type\": \"scatter\"}], \"scatter3d\": [{\"line\": {\"colorbar\": {\"outlinewidth\": 0, \"ticks\": \"\"}}, \"marker\": {\"colorbar\": {\"outlinewidth\": 0, \"ticks\": \"\"}}, \"type\": \"scatter3d\"}], \"scattercarpet\": [{\"marker\": {\"colorbar\": {\"outlinewidth\": 0, \"ticks\": \"\"}}, \"type\": \"scattercarpet\"}], \"scattergeo\": [{\"marker\": {\"colorbar\": {\"outlinewidth\": 0, \"ticks\": \"\"}}, \"type\": \"scattergeo\"}], \"scattergl\": [{\"marker\": {\"colorbar\": {\"outlinewidth\": 0, \"ticks\": \"\"}}, \"type\": \"scattergl\"}], \"scattermapbox\": [{\"marker\": {\"colorbar\": {\"outlinewidth\": 0, \"ticks\": \"\"}}, \"type\": \"scattermapbox\"}], \"scatterpolar\": [{\"marker\": {\"colorbar\": {\"outlinewidth\": 0, \"ticks\": \"\"}}, \"type\": \"scatterpolar\"}], \"scatterpolargl\": [{\"marker\": {\"colorbar\": {\"outlinewidth\": 0, \"ticks\": \"\"}}, \"type\": \"scatterpolargl\"}], \"scatterternary\": [{\"marker\": {\"colorbar\": {\"outlinewidth\": 0, \"ticks\": \"\"}}, \"type\": \"scatterternary\"}], \"surface\": [{\"colorbar\": {\"outlinewidth\": 0, \"ticks\": \"\"}, \"colorscale\": [[0.0, \"#0d0887\"], [0.1111111111111111, \"#46039f\"], [0.2222222222222222, \"#7201a8\"], [0.3333333333333333, \"#9c179e\"], [0.4444444444444444, \"#bd3786\"], [0.5555555555555556, \"#d8576b\"], [0.6666666666666666, \"#ed7953\"], [0.7777777777777778, \"#fb9f3a\"], [0.8888888888888888, \"#fdca26\"], [1.0, \"#f0f921\"]], \"type\": \"surface\"}], \"table\": [{\"cells\": {\"fill\": {\"color\": \"#EBF0F8\"}, \"line\": {\"color\": \"white\"}}, \"header\": {\"fill\": {\"color\": \"#C8D4E3\"}, \"line\": {\"color\": \"white\"}}, \"type\": \"table\"}]}, \"layout\": {\"annotationdefaults\": {\"arrowcolor\": \"#2a3f5f\", \"arrowhead\": 0, \"arrowwidth\": 1}, \"coloraxis\": {\"colorbar\": {\"outlinewidth\": 0, \"ticks\": \"\"}}, \"colorscale\": {\"diverging\": [[0, \"#8e0152\"], [0.1, \"#c51b7d\"], [0.2, \"#de77ae\"], [0.3, \"#f1b6da\"], [0.4, \"#fde0ef\"], [0.5, \"#f7f7f7\"], [0.6, \"#e6f5d0\"], [0.7, \"#b8e186\"], [0.8, \"#7fbc41\"], [0.9, \"#4d9221\"], [1, \"#276419\"]], \"sequential\": [[0.0, \"#0d0887\"], [0.1111111111111111, \"#46039f\"], [0.2222222222222222, \"#7201a8\"], [0.3333333333333333, \"#9c179e\"], [0.4444444444444444, \"#bd3786\"], [0.5555555555555556, \"#d8576b\"], [0.6666666666666666, \"#ed7953\"], [0.7777777777777778, \"#fb9f3a\"], [0.8888888888888888, \"#fdca26\"], [1.0, \"#f0f921\"]], \"sequentialminus\": [[0.0, \"#0d0887\"], [0.1111111111111111, \"#46039f\"], [0.2222222222222222, \"#7201a8\"], [0.3333333333333333, \"#9c179e\"], [0.4444444444444444, \"#bd3786\"], [0.5555555555555556, \"#d8576b\"], [0.6666666666666666, \"#ed7953\"], [0.7777777777777778, \"#fb9f3a\"], [0.8888888888888888, \"#fdca26\"], [1.0, \"#f0f921\"]]}, \"colorway\": [\"#636efa\", \"#EF553B\", \"#00cc96\", \"#ab63fa\", \"#FFA15A\", \"#19d3f3\", \"#FF6692\", \"#B6E880\", \"#FF97FF\", \"#FECB52\"], \"font\": {\"color\": \"#2a3f5f\"}, \"geo\": {\"bgcolor\": \"white\", \"lakecolor\": \"white\", \"landcolor\": \"#E5ECF6\", \"showlakes\": true, \"showland\": true, \"subunitcolor\": \"white\"}, \"hoverlabel\": {\"align\": \"left\"}, \"hovermode\": \"closest\", \"mapbox\": {\"style\": \"light\"}, \"paper_bgcolor\": \"white\", \"plot_bgcolor\": \"#E5ECF6\", \"polar\": {\"angularaxis\": {\"gridcolor\": \"white\", \"linecolor\": \"white\", \"ticks\": \"\"}, \"bgcolor\": \"#E5ECF6\", \"radialaxis\": {\"gridcolor\": \"white\", \"linecolor\": \"white\", \"ticks\": \"\"}}, \"scene\": {\"xaxis\": {\"backgroundcolor\": \"#E5ECF6\", \"gridcolor\": \"white\", \"gridwidth\": 2, \"linecolor\": \"white\", \"showbackground\": true, \"ticks\": \"\", \"zerolinecolor\": \"white\"}, \"yaxis\": {\"backgroundcolor\": \"#E5ECF6\", \"gridcolor\": \"white\", \"gridwidth\": 2, \"linecolor\": \"white\", \"showbackground\": true, \"ticks\": \"\", \"zerolinecolor\": \"white\"}, \"zaxis\": {\"backgroundcolor\": \"#E5ECF6\", \"gridcolor\": \"white\", \"gridwidth\": 2, \"linecolor\": \"white\", \"showbackground\": true, \"ticks\": \"\", \"zerolinecolor\": \"white\"}}, \"shapedefaults\": {\"line\": {\"color\": \"#2a3f5f\"}}, \"ternary\": {\"aaxis\": {\"gridcolor\": \"white\", \"linecolor\": \"white\", \"ticks\": \"\"}, \"baxis\": {\"gridcolor\": \"white\", \"linecolor\": \"white\", \"ticks\": \"\"}, \"bgcolor\": \"#E5ECF6\", \"caxis\": {\"gridcolor\": \"white\", \"linecolor\": \"white\", \"ticks\": \"\"}}, \"title\": {\"x\": 0.05}, \"xaxis\": {\"automargin\": true, \"gridcolor\": \"white\", \"linecolor\": \"white\", \"ticks\": \"\", \"title\": {\"standoff\": 15}, \"zerolinecolor\": \"white\", \"zerolinewidth\": 2}, \"yaxis\": {\"automargin\": true, \"gridcolor\": \"white\", \"linecolor\": \"white\", \"ticks\": \"\", \"title\": {\"standoff\": 15}, \"zerolinecolor\": \"white\", \"zerolinewidth\": 2}}}, \"title\": {\"text\": \"A colored bubble plot for Reading\"}, \"xaxis\": {\"anchor\": \"y\", \"domain\": [0.0, 1.0], \"title\": {\"text\": \"AchievementPercentile\"}}, \"yaxis\": {\"anchor\": \"x\", \"domain\": [0.0, 1.0], \"title\": {\"text\": \"GrowthPercentile\"}}},\n",
              "                        {\"responsive\": true}\n",
              "                    ).then(function(){\n",
              "                            \n",
              "var gd = document.getElementById('9ff8f49e-1e10-4295-9e29-b3c30826cff6');\n",
              "var x = new MutationObserver(function (mutations, observer) {{\n",
              "        var display = window.getComputedStyle(gd).display;\n",
              "        if (!display || display === 'none') {{\n",
              "            console.log([gd, 'removed!']);\n",
              "            Plotly.purge(gd);\n",
              "            observer.disconnect();\n",
              "        }}\n",
              "}});\n",
              "\n",
              "// Listen for the removal of the full notebook cells\n",
              "var notebookContainer = gd.closest('#notebook-container');\n",
              "if (notebookContainer) {{\n",
              "    x.observe(notebookContainer, {childList: true});\n",
              "}}\n",
              "\n",
              "// Listen for the clearing of the current output cell\n",
              "var outputEl = gd.closest('.output');\n",
              "if (outputEl) {{\n",
              "    x.observe(outputEl, {childList: true});\n",
              "}}\n",
              "\n",
              "                        })\n",
              "                };\n",
              "                \n",
              "            </script>\n",
              "        </div>\n",
              "</body>\n",
              "</html>"
            ]
          },
          "metadata": {
            "tags": []
          }
        }
      ]
    },
    {
      "cell_type": "code",
      "metadata": {
        "id": "wzdw4S-9sKJW"
      },
      "source": [
        "plt.style.use('seaborn-darkgrid')"
      ],
      "execution_count": null,
      "outputs": []
    },
    {
      "cell_type": "code",
      "metadata": {
        "id": "Y59h99bGSyMj"
      },
      "source": [
        "def plot_all(df):\n",
        "    for i in df.SchoolID.unique():\n",
        "        data = df[df.SchoolID==i]\n",
        "        plt.figure(figsize=(14, 7), dpi= 80, facecolor='w', edgecolor='k')    \n",
        "        #create data\n",
        "        y = data.GrowthPercentile\n",
        "        x = data.AchievementPercentile\n",
        "        z = data.Weight\n",
        "        t = data.SchoolID\n",
        "        l = data.Campus\n",
        "\n",
        "        if data.Subject.iloc[0]=='MATH':\n",
        "          #customize the color to distinctive schools theme\n",
        "          color = '#b24ec4'\n",
        "        else:\n",
        "          color = '#ef7521'\n",
        "        # Change color with c and alpha. I map the color to the X axis value.\n",
        "        plt.scatter(x, y, s=z,  alpha=0.5, edgecolors=\"grey\", c=color, linewidth=2, label=t)\n",
        "        # Add titles (main and on axis)\n",
        "        plt.ylabel(\"the GrowthPercentile\")\n",
        "        plt.xlabel(\"the AchievementPercentile\")\n",
        "        plt.title(\"A colored bubble plot for \"+ str(data.Subject.iloc[0])+'\\n ' +str(l.iloc[0]))\n",
        "        #adding axis\n",
        "        plt.axvline(x=50)\n",
        "        plt.axhline(y=50)\n",
        "        plt.xlim((0,100))\n",
        "        plt.ylim((0,100))\n",
        "\n",
        "        plt.show()"
      ],
      "execution_count": null,
      "outputs": []
    },
    {
      "cell_type": "code",
      "metadata": {
        "id": "Dhym35ZKKZM7",
        "colab": {
          "base_uri": "https://localhost:8080/",
          "height": 1000
        },
        "outputId": "91650781-ca80-42dd-9ce2-c2d781ad9650"
      },
      "source": [
        "plot_all(math)"
      ],
      "execution_count": null,
      "outputs": [
        {
          "output_type": "display_data",
          "data": {
            "image/png": "[encoded data removed]",
            "text/plain": [
              "<Figure size 1120x560 with 1 Axes>"
            ]
          },
          "metadata": {
            "tags": []
          }
        },
        {
          "output_type": "display_data",
          "data": {
            "image/png": "[encoded data removed]",
            "text/plain": [
              "<Figure size 1120x560 with 1 Axes>"
            ]
          },
          "metadata": {
            "tags": []
          }
        },
        {
          "output_type": "display_data",
          "data": {
            "image/png": "[encoded data removed]",
            "text/plain": [
              "<Figure size 1120x560 with 1 Axes>"
            ]
          },
          "metadata": {
            "tags": []
          }
        },
        {
          "output_type": "display_data",
          "data": {
            "image/png": "[encoded data removed]",
            "text/plain": [
              "<Figure size 1120x560 with 1 Axes>"
            ]
          },
          "metadata": {
            "tags": []
          }
        }
      ]
    },
    {
      "cell_type": "code",
      "metadata": {
        "id": "oJMUm-uALfxR",
        "colab": {
          "base_uri": "https://localhost:8080/",
          "height": 1000
        },
        "outputId": "62691b73-c479-42df-f330-e0fcf2198b6c"
      },
      "source": [
        "plot_all(read)"
      ],
      "execution_count": null,
      "outputs": [
        {
          "output_type": "display_data",
          "data": {
            "image/png": "[encoded data removed]",
            "text/plain": [
              "<Figure size 1120x560 with 1 Axes>"
            ]
          },
          "metadata": {
            "tags": []
          }
        },
        {
          "output_type": "display_data",
          "data": {
            "image/png": "[encoded data removed]",
            "text/plain": [
              "<Figure size 1120x560 with 1 Axes>"
            ]
          },
          "metadata": {
            "tags": []
          }
        },
        {
          "output_type": "display_data",
          "data": {
            "image/png": "[encoded data removed]",
            "text/plain": [
              "<Figure size 1120x560 with 1 Axes>"
            ]
          },
          "metadata": {
            "tags": []
          }
        },
        {
          "output_type": "display_data",
          "data": {
            "image/png": "[encoded data removed]",
            "text/plain": [
              "<Figure size 1120x560 with 1 Axes>"
            ]
          },
          "metadata": {
            "tags": []
          }
        }
      ]
    },
    {
      "cell_type": "code",
      "metadata": {
        "id": "q3r6u62n69zF",
        "colab": {
          "base_uri": "https://localhost:8080/",
          "height": 204
        },
        "outputId": "837511ab-1abf-429e-9bac-0f94335d5a33"
      },
      "source": [
        "read.head()"
      ],
      "execution_count": null,
      "outputs": [
        {
          "output_type": "execute_result",
          "data": {
            "text/html": [
              "<div>\n",
              "<style scoped>\n",
              "    .dataframe tbody tr th:only-of-type {\n",
              "        vertical-align: middle;\n",
              "    }\n",
              "\n",
              "    .dataframe tbody tr th {\n",
              "        vertical-align: top;\n",
              "    }\n",
              "\n",
              "    .dataframe thead th {\n",
              "        text-align: right;\n",
              "    }\n",
              "</style>\n",
              "<table border=\"1\" class=\"dataframe\">\n",
              "  <thead>\n",
              "    <tr style=\"text-align: right;\">\n",
              "      <th></th>\n",
              "      <th>SchoolID</th>\n",
              "      <th>Campus</th>\n",
              "      <th>ZonedID</th>\n",
              "      <th>Weight</th>\n",
              "      <th>Subject</th>\n",
              "      <th>GrowthPercentile</th>\n",
              "      <th>AchievementPercentile</th>\n",
              "    </tr>\n",
              "  </thead>\n",
              "  <tbody>\n",
              "    <tr>\n",
              "      <th>0</th>\n",
              "      <td>400025</td>\n",
              "      <td>Bucktown</td>\n",
              "      <td>609716</td>\n",
              "      <td>17.130621</td>\n",
              "      <td>READING</td>\n",
              "      <td>6.0</td>\n",
              "      <td>21.0</td>\n",
              "    </tr>\n",
              "    <tr>\n",
              "      <th>1</th>\n",
              "      <td>400027</td>\n",
              "      <td>Irving Park</td>\n",
              "      <td>609716</td>\n",
              "      <td>11.331445</td>\n",
              "      <td>READING</td>\n",
              "      <td>6.0</td>\n",
              "      <td>21.0</td>\n",
              "    </tr>\n",
              "    <tr>\n",
              "      <th>2</th>\n",
              "      <td>400030</td>\n",
              "      <td>West Belden</td>\n",
              "      <td>609716</td>\n",
              "      <td>11.299435</td>\n",
              "      <td>READING</td>\n",
              "      <td>6.0</td>\n",
              "      <td>21.0</td>\n",
              "    </tr>\n",
              "    <tr>\n",
              "      <th>6</th>\n",
              "      <td>400025</td>\n",
              "      <td>Bucktown</td>\n",
              "      <td>609789</td>\n",
              "      <td>27.837259</td>\n",
              "      <td>READING</td>\n",
              "      <td>48.0</td>\n",
              "      <td>42.0</td>\n",
              "    </tr>\n",
              "    <tr>\n",
              "      <th>7</th>\n",
              "      <td>400027</td>\n",
              "      <td>Irving Park</td>\n",
              "      <td>609789</td>\n",
              "      <td>11.331445</td>\n",
              "      <td>READING</td>\n",
              "      <td>48.0</td>\n",
              "      <td>42.0</td>\n",
              "    </tr>\n",
              "  </tbody>\n",
              "</table>\n",
              "</div>"
            ],
            "text/plain": [
              "   SchoolID       Campus  ...  GrowthPercentile  AchievementPercentile\n",
              "0    400025     Bucktown  ...               6.0                   21.0\n",
              "1    400027  Irving Park  ...               6.0                   21.0\n",
              "2    400030  West Belden  ...               6.0                   21.0\n",
              "6    400025     Bucktown  ...              48.0                   42.0\n",
              "7    400027  Irving Park  ...              48.0                   42.0\n",
              "\n",
              "[5 rows x 7 columns]"
            ]
          },
          "metadata": {
            "tags": []
          },
          "execution_count": 106
        }
      ]
    }
  ]
}