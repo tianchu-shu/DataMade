{
  "nbformat": 4,
  "nbformat_minor": 0,
  "metadata": {
    "colab": {
      "name": "Predicting_SpringCGP.ipynb",
      "provenance": [],
      "collapsed_sections": [
        "S0wSj0SEsrQF"
      ],
      "authorship_tag": "ABX9TyO85n5od5nLS5UgGn6GPsx3",
      "include_colab_link": true
    },
    "kernelspec": {
      "name": "python3",
      "display_name": "Python 3"
    }
  },
  "cells": [
    {
      "cell_type": "markdown",
      "metadata": {
        "id": "view-in-github",
        "colab_type": "text"
      },
      "source": [
        "<a href=\"https://colab.research.google.com/github/tianchu-shu/DistinctiveSchools/blob/master/Predicting_SpringCGP.ipynb\" target=\"_parent\"><img src=\"https://colab.research.google.com/assets/colab-badge.svg\" alt=\"Open In Colab\"/></a>"
      ]
    },
    {
      "cell_type": "code",
      "metadata": {
        "id": "7NY77XmjtB5W",
        "colab_type": "code",
        "colab": {}
      },
      "source": [
        "import numpy as np\n",
        "import pandas as pd\n",
        "import matplotlib.pyplot as plt\n",
        "import seaborn as sns; sns.set()\n",
        "import datetime as dt  \n",
        "\n",
        "\n",
        "from google.colab import drive"
      ],
      "execution_count": 0,
      "outputs": []
    },
    {
      "cell_type": "code",
      "metadata": {
        "id": "PGMqzSDPtKae",
        "colab_type": "code",
        "outputId": "8338b78e-8c34-4279-bb38-ea08588875c8",
        "colab": {
          "base_uri": "https://localhost:8080/",
          "height": 122
        }
      },
      "source": [
        "drive.mount('/content/gdrive')"
      ],
      "execution_count": 2,
      "outputs": [
        {
          "output_type": "stream",
          "text": [
            "Go to this URL in a browser: https://accounts.google.com/o/oauth2/auth?client_id=947318989803-6bn6qk8qdgf4n4g3pfee6491hc0brc4i.apps.googleusercontent.com&redirect_uri=urn%3aietf%3awg%3aoauth%3a2.0%3aoob&response_type=code&scope=email%20https%3a%2f%2fwww.googleapis.com%2fauth%2fdocs.test%20https%3a%2f%2fwww.googleapis.com%2fauth%2fdrive%20https%3a%2f%2fwww.googleapis.com%2fauth%2fdrive.photos.readonly%20https%3a%2f%2fwww.googleapis.com%2fauth%2fpeopleapi.readonly\n",
            "\n",
            "Enter your authorization code:\n",
            "··········\n",
            "Mounted at /content/gdrive\n"
          ],
          "name": "stdout"
        }
      ]
    },
    {
      "cell_type": "code",
      "metadata": {
        "id": "r_aS5UGItPnR",
        "colab_type": "code",
        "colab": {}
      },
      "source": [
        "import pandas as pd\n",
        "import glob, os\n",
        "\n",
        "data_dir= '/content/gdrive/My Drive/Prediction/'\n",
        "os.chdir(data_dir)"
      ],
      "execution_count": 0,
      "outputs": []
    },
    {
      "cell_type": "code",
      "metadata": {
        "id": "t5v--PGutYxm",
        "colab_type": "code",
        "outputId": "c050a9b4-447c-42fa-a000-d17ce7a65c7e",
        "colab": {
          "base_uri": "https://localhost:8080/",
          "height": 71
        }
      },
      "source": [
        "#Import my own code\n",
        "import pipeline as pp\n",
        "import final as final"
      ],
      "execution_count": 4,
      "outputs": [
        {
          "output_type": "stream",
          "text": [
            "/usr/local/lib/python3.6/dist-packages/sklearn/utils/deprecation.py:144: FutureWarning: The sklearn.neighbors.nearest_centroid module is  deprecated in version 0.22 and will be removed in version 0.24. The corresponding classes / functions should instead be imported from sklearn.neighbors. Anything that cannot be imported from sklearn.neighbors is now part of the private API.\n",
            "  warnings.warn(message, FutureWarning)\n"
          ],
          "name": "stderr"
        }
      ]
    },
    {
      "cell_type": "markdown",
      "metadata": {
        "id": "TBCWB_KFk6bK",
        "colab_type": "text"
      },
      "source": [
        "# Bigquery"
      ]
    },
    {
      "cell_type": "code",
      "metadata": {
        "id": "cAlR1rkJJFuR",
        "colab_type": "code",
        "outputId": "b44dea23-026d-4b8f-e5ed-66b94e203fc2",
        "colab": {
          "base_uri": "https://localhost:8080/",
          "height": 34
        }
      },
      "source": [
        "from google.colab import auth\n",
        "auth.authenticate_user()\n",
        "print('Authenticated')"
      ],
      "execution_count": 5,
      "outputs": [
        {
          "output_type": "stream",
          "text": [
            "Authenticated\n"
          ],
          "name": "stdout"
        }
      ]
    },
    {
      "cell_type": "code",
      "metadata": {
        "id": "oHiq4_AnJGZu",
        "colab_type": "code",
        "colab": {}
      },
      "source": [
        "#Getting the data for predicting spring CGP\n",
        "\n",
        "%%bigquery --project ds-student-data df\n",
        "\n",
        "SELECT *\n",
        "FROM `ds-student-data.NweaAnalysis.RegressionforStoSGrowth`"
      ],
      "execution_count": 0,
      "outputs": []
    },
    {
      "cell_type": "code",
      "metadata": {
        "id": "_fuhOqZGy4ml",
        "colab_type": "code",
        "outputId": "efa88eb4-c310-46d3-f58e-c6bf28e41c5f",
        "colab": {
          "base_uri": "https://localhost:8080/",
          "height": 34
        }
      },
      "source": [
        "df.shape"
      ],
      "execution_count": 7,
      "outputs": [
        {
          "output_type": "execute_result",
          "data": {
            "text/plain": [
              "(77541, 11)"
            ]
          },
          "metadata": {
            "tags": []
          },
          "execution_count": 7
        }
      ]
    },
    {
      "cell_type": "markdown",
      "metadata": {
        "id": "7yqTYKJ5MCKS",
        "colab_type": "text"
      },
      "source": [
        "# Clean the data"
      ]
    },
    {
      "cell_type": "code",
      "metadata": {
        "id": "jxjQquukJeny",
        "colab_type": "code",
        "outputId": "d2eea380-b767-4767-ae97-845e2289503d",
        "colab": {
          "base_uri": "https://localhost:8080/",
          "height": 34
        }
      },
      "source": [
        "df.shape"
      ],
      "execution_count": 8,
      "outputs": [
        {
          "output_type": "execute_result",
          "data": {
            "text/plain": [
              "(77541, 11)"
            ]
          },
          "metadata": {
            "tags": []
          },
          "execution_count": 8
        }
      ]
    },
    {
      "cell_type": "code",
      "metadata": {
        "id": "EmqvhN0GAdql",
        "colab_type": "code",
        "colab": {}
      },
      "source": [
        "winter = df[df['TermName'].str.contains(\"Winter\")]"
      ],
      "execution_count": 0,
      "outputs": []
    },
    {
      "cell_type": "code",
      "metadata": {
        "id": "1OUCQnyeAh_i",
        "colab_type": "code",
        "colab": {}
      },
      "source": [
        "spring = df[df['TermName'].str.contains(\"Spring\")]"
      ],
      "execution_count": 0,
      "outputs": []
    },
    {
      "cell_type": "code",
      "metadata": {
        "id": "8Gr3ITHqHsWg",
        "colab_type": "code",
        "outputId": "c7161f7f-2f30-494c-b097-44835e37c2bd",
        "colab": {
          "base_uri": "https://localhost:8080/",
          "height": 309
        }
      },
      "source": [
        "spring.head()"
      ],
      "execution_count": 11,
      "outputs": [
        {
          "output_type": "execute_result",
          "data": {
            "text/html": [
              "<div>\n",
              "<style scoped>\n",
              "    .dataframe tbody tr th:only-of-type {\n",
              "        vertical-align: middle;\n",
              "    }\n",
              "\n",
              "    .dataframe tbody tr th {\n",
              "        vertical-align: top;\n",
              "    }\n",
              "\n",
              "    .dataframe thead th {\n",
              "        text-align: right;\n",
              "    }\n",
              "</style>\n",
              "<table border=\"1\" class=\"dataframe\">\n",
              "  <thead>\n",
              "    <tr style=\"text-align: right;\">\n",
              "      <th></th>\n",
              "      <th>TermName</th>\n",
              "      <th>StudentID</th>\n",
              "      <th>SchoolName</th>\n",
              "      <th>Grade</th>\n",
              "      <th>Discipline</th>\n",
              "      <th>TestPercentile</th>\n",
              "      <th>FalltoWinterConditionalGrowthIndex</th>\n",
              "      <th>WintertoWinterConditionalGrowthIndex</th>\n",
              "      <th>PercentCorrect</th>\n",
              "      <th>SpringtoSpringConditionalGrowthPercentile</th>\n",
              "      <th>TestRITScore</th>\n",
              "    </tr>\n",
              "  </thead>\n",
              "  <tbody>\n",
              "    <tr>\n",
              "      <th>1521</th>\n",
              "      <td>Spring 2012-2013</td>\n",
              "      <td>43633376</td>\n",
              "      <td>Irving Park</td>\n",
              "      <td>6</td>\n",
              "      <td>Mathematics</td>\n",
              "      <td>81</td>\n",
              "      <td>NaN</td>\n",
              "      <td>NaN</td>\n",
              "      <td>54</td>\n",
              "      <td>NaN</td>\n",
              "      <td>240</td>\n",
              "    </tr>\n",
              "    <tr>\n",
              "      <th>1522</th>\n",
              "      <td>Spring 2012-2013</td>\n",
              "      <td>43853260</td>\n",
              "      <td>Irving Park</td>\n",
              "      <td>6</td>\n",
              "      <td>Mathematics</td>\n",
              "      <td>89</td>\n",
              "      <td>NaN</td>\n",
              "      <td>NaN</td>\n",
              "      <td>48</td>\n",
              "      <td>NaN</td>\n",
              "      <td>246</td>\n",
              "    </tr>\n",
              "    <tr>\n",
              "      <th>1523</th>\n",
              "      <td>Spring 2012-2013</td>\n",
              "      <td>50086544</td>\n",
              "      <td>West Belden</td>\n",
              "      <td>6</td>\n",
              "      <td>Mathematics</td>\n",
              "      <td>42</td>\n",
              "      <td>NaN</td>\n",
              "      <td>NaN</td>\n",
              "      <td>52</td>\n",
              "      <td>NaN</td>\n",
              "      <td>222</td>\n",
              "    </tr>\n",
              "    <tr>\n",
              "      <th>1524</th>\n",
              "      <td>Spring 2012-2013</td>\n",
              "      <td>43523635</td>\n",
              "      <td>Bucktown</td>\n",
              "      <td>6</td>\n",
              "      <td>Mathematics</td>\n",
              "      <td>61</td>\n",
              "      <td>NaN</td>\n",
              "      <td>NaN</td>\n",
              "      <td>58</td>\n",
              "      <td>NaN</td>\n",
              "      <td>230</td>\n",
              "    </tr>\n",
              "    <tr>\n",
              "      <th>1525</th>\n",
              "      <td>Spring 2012-2013</td>\n",
              "      <td>43781405</td>\n",
              "      <td>Bucktown</td>\n",
              "      <td>7</td>\n",
              "      <td>Mathematics</td>\n",
              "      <td>55</td>\n",
              "      <td>NaN</td>\n",
              "      <td>NaN</td>\n",
              "      <td>54</td>\n",
              "      <td>NaN</td>\n",
              "      <td>231</td>\n",
              "    </tr>\n",
              "  </tbody>\n",
              "</table>\n",
              "</div>"
            ],
            "text/plain": [
              "              TermName  ... TestRITScore\n",
              "1521  Spring 2012-2013  ...          240\n",
              "1522  Spring 2012-2013  ...          246\n",
              "1523  Spring 2012-2013  ...          222\n",
              "1524  Spring 2012-2013  ...          230\n",
              "1525  Spring 2012-2013  ...          231\n",
              "\n",
              "[5 rows x 11 columns]"
            ]
          },
          "metadata": {
            "tags": []
          },
          "execution_count": 11
        }
      ]
    },
    {
      "cell_type": "code",
      "metadata": {
        "id": "ewv0CO-_BOXp",
        "colab_type": "code",
        "colab": {}
      },
      "source": [
        "ks = ['StudentID', 'Grade', 'Discipline','SpringtoSpringConditionalGrowthPercentile']"
      ],
      "execution_count": 0,
      "outputs": []
    },
    {
      "cell_type": "code",
      "metadata": {
        "id": "Uk3apcgDB0Rv",
        "colab_type": "code",
        "colab": {}
      },
      "source": [
        "spring = spring[ks]"
      ],
      "execution_count": 0,
      "outputs": []
    },
    {
      "cell_type": "code",
      "metadata": {
        "id": "4mXkc85DBUWa",
        "colab_type": "code",
        "colab": {}
      },
      "source": [
        "winter =winter.dropna(axis=1, how='all')"
      ],
      "execution_count": 0,
      "outputs": []
    },
    {
      "cell_type": "code",
      "metadata": {
        "id": "cMQcwX0ABXBu",
        "colab_type": "code",
        "outputId": "c2d3b879-6859-4e55-cf2d-2d0d76ad8c31",
        "colab": {
          "base_uri": "https://localhost:8080/",
          "height": 309
        }
      },
      "source": [
        "winter.tail()"
      ],
      "execution_count": 15,
      "outputs": [
        {
          "output_type": "execute_result",
          "data": {
            "text/html": [
              "<div>\n",
              "<style scoped>\n",
              "    .dataframe tbody tr th:only-of-type {\n",
              "        vertical-align: middle;\n",
              "    }\n",
              "\n",
              "    .dataframe tbody tr th {\n",
              "        vertical-align: top;\n",
              "    }\n",
              "\n",
              "    .dataframe thead th {\n",
              "        text-align: right;\n",
              "    }\n",
              "</style>\n",
              "<table border=\"1\" class=\"dataframe\">\n",
              "  <thead>\n",
              "    <tr style=\"text-align: right;\">\n",
              "      <th></th>\n",
              "      <th>TermName</th>\n",
              "      <th>StudentID</th>\n",
              "      <th>SchoolName</th>\n",
              "      <th>Grade</th>\n",
              "      <th>Discipline</th>\n",
              "      <th>TestPercentile</th>\n",
              "      <th>FalltoWinterConditionalGrowthIndex</th>\n",
              "      <th>WintertoWinterConditionalGrowthIndex</th>\n",
              "      <th>PercentCorrect</th>\n",
              "      <th>TestRITScore</th>\n",
              "    </tr>\n",
              "  </thead>\n",
              "  <tbody>\n",
              "    <tr>\n",
              "      <th>77326</th>\n",
              "      <td>Winter 2011-2012</td>\n",
              "      <td>50190246</td>\n",
              "      <td>Bucktown</td>\n",
              "      <td>1</td>\n",
              "      <td>Reading</td>\n",
              "      <td>14</td>\n",
              "      <td>-1.44</td>\n",
              "      <td>-0.08</td>\n",
              "      <td>54</td>\n",
              "      <td>157</td>\n",
              "    </tr>\n",
              "    <tr>\n",
              "      <th>77327</th>\n",
              "      <td>Winter 2011-2012</td>\n",
              "      <td>50146370</td>\n",
              "      <td>West Belden</td>\n",
              "      <td>1</td>\n",
              "      <td>Reading</td>\n",
              "      <td>11</td>\n",
              "      <td>-0.82</td>\n",
              "      <td>0.33</td>\n",
              "      <td>52</td>\n",
              "      <td>155</td>\n",
              "    </tr>\n",
              "    <tr>\n",
              "      <th>77328</th>\n",
              "      <td>Winter 2011-2012</td>\n",
              "      <td>50134448</td>\n",
              "      <td>Bucktown</td>\n",
              "      <td>K</td>\n",
              "      <td>Reading</td>\n",
              "      <td>99</td>\n",
              "      <td>2.97</td>\n",
              "      <td>NaN</td>\n",
              "      <td>59</td>\n",
              "      <td>182</td>\n",
              "    </tr>\n",
              "    <tr>\n",
              "      <th>77329</th>\n",
              "      <td>Winter 2011-2012</td>\n",
              "      <td>50068383</td>\n",
              "      <td>Bucktown</td>\n",
              "      <td>1</td>\n",
              "      <td>Reading</td>\n",
              "      <td>14</td>\n",
              "      <td>-1.12</td>\n",
              "      <td>-0.43</td>\n",
              "      <td>52</td>\n",
              "      <td>157</td>\n",
              "    </tr>\n",
              "    <tr>\n",
              "      <th>77330</th>\n",
              "      <td>Winter 2011-2012</td>\n",
              "      <td>50094081</td>\n",
              "      <td>Irving Park</td>\n",
              "      <td>2</td>\n",
              "      <td>Reading</td>\n",
              "      <td>5</td>\n",
              "      <td>0.71</td>\n",
              "      <td>NaN</td>\n",
              "      <td>52</td>\n",
              "      <td>160</td>\n",
              "    </tr>\n",
              "  </tbody>\n",
              "</table>\n",
              "</div>"
            ],
            "text/plain": [
              "               TermName StudentID  ... PercentCorrect TestRITScore\n",
              "77326  Winter 2011-2012  50190246  ...             54          157\n",
              "77327  Winter 2011-2012  50146370  ...             52          155\n",
              "77328  Winter 2011-2012  50134448  ...             59          182\n",
              "77329  Winter 2011-2012  50068383  ...             52          157\n",
              "77330  Winter 2011-2012  50094081  ...             52          160\n",
              "\n",
              "[5 rows x 10 columns]"
            ]
          },
          "metadata": {
            "tags": []
          },
          "execution_count": 15
        }
      ]
    },
    {
      "cell_type": "code",
      "metadata": {
        "id": "IYHlbNDTJBht",
        "colab_type": "code",
        "colab": {}
      },
      "source": [
        "rv = pd.merge(spring, winter, on=[ 'StudentID','Grade','Discipline'])"
      ],
      "execution_count": 0,
      "outputs": []
    },
    {
      "cell_type": "code",
      "metadata": {
        "id": "LCvvTeL9Jieb",
        "colab_type": "code",
        "outputId": "14a957c3-bf3d-40a6-e0ef-4085ffed3a56",
        "colab": {
          "base_uri": "https://localhost:8080/",
          "height": 309
        }
      },
      "source": [
        "rv.head()"
      ],
      "execution_count": 17,
      "outputs": [
        {
          "output_type": "execute_result",
          "data": {
            "text/html": [
              "<div>\n",
              "<style scoped>\n",
              "    .dataframe tbody tr th:only-of-type {\n",
              "        vertical-align: middle;\n",
              "    }\n",
              "\n",
              "    .dataframe tbody tr th {\n",
              "        vertical-align: top;\n",
              "    }\n",
              "\n",
              "    .dataframe thead th {\n",
              "        text-align: right;\n",
              "    }\n",
              "</style>\n",
              "<table border=\"1\" class=\"dataframe\">\n",
              "  <thead>\n",
              "    <tr style=\"text-align: right;\">\n",
              "      <th></th>\n",
              "      <th>StudentID</th>\n",
              "      <th>Grade</th>\n",
              "      <th>Discipline</th>\n",
              "      <th>SpringtoSpringConditionalGrowthPercentile</th>\n",
              "      <th>TermName</th>\n",
              "      <th>SchoolName</th>\n",
              "      <th>TestPercentile</th>\n",
              "      <th>FalltoWinterConditionalGrowthIndex</th>\n",
              "      <th>WintertoWinterConditionalGrowthIndex</th>\n",
              "      <th>PercentCorrect</th>\n",
              "      <th>TestRITScore</th>\n",
              "    </tr>\n",
              "  </thead>\n",
              "  <tbody>\n",
              "    <tr>\n",
              "      <th>0</th>\n",
              "      <td>43633376</td>\n",
              "      <td>6</td>\n",
              "      <td>Mathematics</td>\n",
              "      <td>NaN</td>\n",
              "      <td>Winter 2012-2013</td>\n",
              "      <td>Irving Park</td>\n",
              "      <td>77</td>\n",
              "      <td>-0.40</td>\n",
              "      <td>NaN</td>\n",
              "      <td>54</td>\n",
              "      <td>234</td>\n",
              "    </tr>\n",
              "    <tr>\n",
              "      <th>1</th>\n",
              "      <td>43853260</td>\n",
              "      <td>6</td>\n",
              "      <td>Mathematics</td>\n",
              "      <td>NaN</td>\n",
              "      <td>Winter 2012-2013</td>\n",
              "      <td>Irving Park</td>\n",
              "      <td>88</td>\n",
              "      <td>1.72</td>\n",
              "      <td>NaN</td>\n",
              "      <td>54</td>\n",
              "      <td>241</td>\n",
              "    </tr>\n",
              "    <tr>\n",
              "      <th>2</th>\n",
              "      <td>50086544</td>\n",
              "      <td>6</td>\n",
              "      <td>Mathematics</td>\n",
              "      <td>NaN</td>\n",
              "      <td>Winter 2012-2013</td>\n",
              "      <td>West Belden</td>\n",
              "      <td>21</td>\n",
              "      <td>-1.11</td>\n",
              "      <td>NaN</td>\n",
              "      <td>48</td>\n",
              "      <td>209</td>\n",
              "    </tr>\n",
              "    <tr>\n",
              "      <th>3</th>\n",
              "      <td>43523635</td>\n",
              "      <td>6</td>\n",
              "      <td>Mathematics</td>\n",
              "      <td>NaN</td>\n",
              "      <td>Winter 2012-2013</td>\n",
              "      <td>Bucktown</td>\n",
              "      <td>45</td>\n",
              "      <td>0.10</td>\n",
              "      <td>NaN</td>\n",
              "      <td>52</td>\n",
              "      <td>220</td>\n",
              "    </tr>\n",
              "    <tr>\n",
              "      <th>4</th>\n",
              "      <td>43781405</td>\n",
              "      <td>7</td>\n",
              "      <td>Mathematics</td>\n",
              "      <td>NaN</td>\n",
              "      <td>Winter 2012-2013</td>\n",
              "      <td>Bucktown</td>\n",
              "      <td>47</td>\n",
              "      <td>-1.06</td>\n",
              "      <td>NaN</td>\n",
              "      <td>50</td>\n",
              "      <td>225</td>\n",
              "    </tr>\n",
              "  </tbody>\n",
              "</table>\n",
              "</div>"
            ],
            "text/plain": [
              "  StudentID Grade  ... PercentCorrect  TestRITScore\n",
              "0  43633376     6  ...             54           234\n",
              "1  43853260     6  ...             54           241\n",
              "2  50086544     6  ...             48           209\n",
              "3  43523635     6  ...             52           220\n",
              "4  43781405     7  ...             50           225\n",
              "\n",
              "[5 rows x 11 columns]"
            ]
          },
          "metadata": {
            "tags": []
          },
          "execution_count": 17
        }
      ]
    },
    {
      "cell_type": "code",
      "metadata": {
        "id": "QNCzmW6CJ-5g",
        "colab_type": "code",
        "outputId": "02dbe9af-03ef-41af-eae9-0825b625f04d",
        "colab": {
          "base_uri": "https://localhost:8080/",
          "height": 405
        }
      },
      "source": [
        "df[(df.StudentID=='50369153') &(df.Discipline==\"Reading\")]"
      ],
      "execution_count": 18,
      "outputs": [
        {
          "output_type": "execute_result",
          "data": {
            "text/html": [
              "<div>\n",
              "<style scoped>\n",
              "    .dataframe tbody tr th:only-of-type {\n",
              "        vertical-align: middle;\n",
              "    }\n",
              "\n",
              "    .dataframe tbody tr th {\n",
              "        vertical-align: top;\n",
              "    }\n",
              "\n",
              "    .dataframe thead th {\n",
              "        text-align: right;\n",
              "    }\n",
              "</style>\n",
              "<table border=\"1\" class=\"dataframe\">\n",
              "  <thead>\n",
              "    <tr style=\"text-align: right;\">\n",
              "      <th></th>\n",
              "      <th>TermName</th>\n",
              "      <th>StudentID</th>\n",
              "      <th>SchoolName</th>\n",
              "      <th>Grade</th>\n",
              "      <th>Discipline</th>\n",
              "      <th>TestPercentile</th>\n",
              "      <th>FalltoWinterConditionalGrowthIndex</th>\n",
              "      <th>WintertoWinterConditionalGrowthIndex</th>\n",
              "      <th>PercentCorrect</th>\n",
              "      <th>SpringtoSpringConditionalGrowthPercentile</th>\n",
              "      <th>TestRITScore</th>\n",
              "    </tr>\n",
              "  </thead>\n",
              "  <tbody>\n",
              "    <tr>\n",
              "      <th>20196</th>\n",
              "      <td>Winter 2017-2018</td>\n",
              "      <td>50369153</td>\n",
              "      <td>West Belden</td>\n",
              "      <td>1</td>\n",
              "      <td>Reading</td>\n",
              "      <td>35</td>\n",
              "      <td>0.10</td>\n",
              "      <td>0.97</td>\n",
              "      <td>63</td>\n",
              "      <td>NaN</td>\n",
              "      <td>164</td>\n",
              "    </tr>\n",
              "    <tr>\n",
              "      <th>22858</th>\n",
              "      <td>Winter 2018-2019</td>\n",
              "      <td>50369153</td>\n",
              "      <td>West Belden</td>\n",
              "      <td>2</td>\n",
              "      <td>Reading</td>\n",
              "      <td>25</td>\n",
              "      <td>-0.35</td>\n",
              "      <td>-0.84</td>\n",
              "      <td>49</td>\n",
              "      <td>NaN</td>\n",
              "      <td>172</td>\n",
              "    </tr>\n",
              "    <tr>\n",
              "      <th>22983</th>\n",
              "      <td>Spring 2017-2018</td>\n",
              "      <td>50369153</td>\n",
              "      <td>West Belden</td>\n",
              "      <td>1</td>\n",
              "      <td>Reading</td>\n",
              "      <td>37</td>\n",
              "      <td>NaN</td>\n",
              "      <td>NaN</td>\n",
              "      <td>48</td>\n",
              "      <td>19.0</td>\n",
              "      <td>174</td>\n",
              "    </tr>\n",
              "    <tr>\n",
              "      <th>30662</th>\n",
              "      <td>Spring 2018-2019</td>\n",
              "      <td>50369153</td>\n",
              "      <td>West Belden</td>\n",
              "      <td>2</td>\n",
              "      <td>Reading</td>\n",
              "      <td>13</td>\n",
              "      <td>NaN</td>\n",
              "      <td>NaN</td>\n",
              "      <td>58</td>\n",
              "      <td>4.0</td>\n",
              "      <td>172</td>\n",
              "    </tr>\n",
              "    <tr>\n",
              "      <th>67626</th>\n",
              "      <td>Winter 2019-2020</td>\n",
              "      <td>50369153</td>\n",
              "      <td>West Belden</td>\n",
              "      <td>3</td>\n",
              "      <td>Reading</td>\n",
              "      <td>1</td>\n",
              "      <td>-2.05</td>\n",
              "      <td>-4.85</td>\n",
              "      <td>35</td>\n",
              "      <td>NaN</td>\n",
              "      <td>155</td>\n",
              "    </tr>\n",
              "    <tr>\n",
              "      <th>72666</th>\n",
              "      <td>Winter 2016-2017</td>\n",
              "      <td>50369153</td>\n",
              "      <td>West Belden</td>\n",
              "      <td>K</td>\n",
              "      <td>Reading</td>\n",
              "      <td>13</td>\n",
              "      <td>-3.02</td>\n",
              "      <td>NaN</td>\n",
              "      <td>44</td>\n",
              "      <td>NaN</td>\n",
              "      <td>137</td>\n",
              "    </tr>\n",
              "    <tr>\n",
              "      <th>73743</th>\n",
              "      <td>Spring 2016-2017</td>\n",
              "      <td>50369153</td>\n",
              "      <td>West Belden</td>\n",
              "      <td>K</td>\n",
              "      <td>Reading</td>\n",
              "      <td>59</td>\n",
              "      <td>NaN</td>\n",
              "      <td>NaN</td>\n",
              "      <td>54</td>\n",
              "      <td>NaN</td>\n",
              "      <td>161</td>\n",
              "    </tr>\n",
              "  </tbody>\n",
              "</table>\n",
              "</div>"
            ],
            "text/plain": [
              "               TermName  ... TestRITScore\n",
              "20196  Winter 2017-2018  ...          164\n",
              "22858  Winter 2018-2019  ...          172\n",
              "22983  Spring 2017-2018  ...          174\n",
              "30662  Spring 2018-2019  ...          172\n",
              "67626  Winter 2019-2020  ...          155\n",
              "72666  Winter 2016-2017  ...          137\n",
              "73743  Spring 2016-2017  ...          161\n",
              "\n",
              "[7 rows x 11 columns]"
            ]
          },
          "metadata": {
            "tags": []
          },
          "execution_count": 18
        }
      ]
    },
    {
      "cell_type": "code",
      "metadata": {
        "id": "kVMAqAfJJ1-T",
        "colab_type": "code",
        "colab": {}
      },
      "source": [
        "rv.dropna(inplace=True)"
      ],
      "execution_count": 0,
      "outputs": []
    },
    {
      "cell_type": "code",
      "metadata": {
        "id": "USVHkQpFMoTp",
        "colab_type": "code",
        "outputId": "93847d6b-2008-40a2-f3b4-bbefecad9fdf",
        "colab": {
          "base_uri": "https://localhost:8080/",
          "height": 34
        }
      },
      "source": [
        "rv.shape"
      ],
      "execution_count": 20,
      "outputs": [
        {
          "output_type": "execute_result",
          "data": {
            "text/plain": [
              "(28869, 11)"
            ]
          },
          "metadata": {
            "tags": []
          },
          "execution_count": 20
        }
      ]
    },
    {
      "cell_type": "code",
      "metadata": {
        "id": "qNmlQ7Rqy1SR",
        "colab_type": "code",
        "outputId": "edb8f156-2e3f-4049-9e72-c8ce9656200b",
        "colab": {
          "base_uri": "https://localhost:8080/",
          "height": 309
        }
      },
      "source": [
        "rv.head()"
      ],
      "execution_count": 21,
      "outputs": [
        {
          "output_type": "execute_result",
          "data": {
            "text/html": [
              "<div>\n",
              "<style scoped>\n",
              "    .dataframe tbody tr th:only-of-type {\n",
              "        vertical-align: middle;\n",
              "    }\n",
              "\n",
              "    .dataframe tbody tr th {\n",
              "        vertical-align: top;\n",
              "    }\n",
              "\n",
              "    .dataframe thead th {\n",
              "        text-align: right;\n",
              "    }\n",
              "</style>\n",
              "<table border=\"1\" class=\"dataframe\">\n",
              "  <thead>\n",
              "    <tr style=\"text-align: right;\">\n",
              "      <th></th>\n",
              "      <th>StudentID</th>\n",
              "      <th>Grade</th>\n",
              "      <th>Discipline</th>\n",
              "      <th>SpringtoSpringConditionalGrowthPercentile</th>\n",
              "      <th>TermName</th>\n",
              "      <th>SchoolName</th>\n",
              "      <th>TestPercentile</th>\n",
              "      <th>FalltoWinterConditionalGrowthIndex</th>\n",
              "      <th>WintertoWinterConditionalGrowthIndex</th>\n",
              "      <th>PercentCorrect</th>\n",
              "      <th>TestRITScore</th>\n",
              "    </tr>\n",
              "  </thead>\n",
              "  <tbody>\n",
              "    <tr>\n",
              "      <th>31</th>\n",
              "      <td>43273221</td>\n",
              "      <td>8</td>\n",
              "      <td>Mathematics</td>\n",
              "      <td>22.0</td>\n",
              "      <td>Winter 2012-2013</td>\n",
              "      <td>West Belden</td>\n",
              "      <td>89</td>\n",
              "      <td>0.65</td>\n",
              "      <td>0.95</td>\n",
              "      <td>54</td>\n",
              "      <td>252</td>\n",
              "    </tr>\n",
              "    <tr>\n",
              "      <th>32</th>\n",
              "      <td>43050370</td>\n",
              "      <td>8</td>\n",
              "      <td>Mathematics</td>\n",
              "      <td>19.0</td>\n",
              "      <td>Winter 2012-2013</td>\n",
              "      <td>West Belden</td>\n",
              "      <td>87</td>\n",
              "      <td>1.86</td>\n",
              "      <td>2.41</td>\n",
              "      <td>48</td>\n",
              "      <td>250</td>\n",
              "    </tr>\n",
              "    <tr>\n",
              "      <th>33</th>\n",
              "      <td>44277530</td>\n",
              "      <td>6</td>\n",
              "      <td>Mathematics</td>\n",
              "      <td>17.0</td>\n",
              "      <td>Winter 2012-2013</td>\n",
              "      <td>Bucktown</td>\n",
              "      <td>88</td>\n",
              "      <td>-1.51</td>\n",
              "      <td>-0.30</td>\n",
              "      <td>52</td>\n",
              "      <td>241</td>\n",
              "    </tr>\n",
              "    <tr>\n",
              "      <th>34</th>\n",
              "      <td>43345087</td>\n",
              "      <td>8</td>\n",
              "      <td>Mathematics</td>\n",
              "      <td>20.0</td>\n",
              "      <td>Winter 2012-2013</td>\n",
              "      <td>West Belden</td>\n",
              "      <td>81</td>\n",
              "      <td>-0.62</td>\n",
              "      <td>-0.75</td>\n",
              "      <td>48</td>\n",
              "      <td>245</td>\n",
              "    </tr>\n",
              "    <tr>\n",
              "      <th>35</th>\n",
              "      <td>43371657</td>\n",
              "      <td>8</td>\n",
              "      <td>Mathematics</td>\n",
              "      <td>13.0</td>\n",
              "      <td>Winter 2012-2013</td>\n",
              "      <td>West Belden</td>\n",
              "      <td>84</td>\n",
              "      <td>1.14</td>\n",
              "      <td>0.62</td>\n",
              "      <td>52</td>\n",
              "      <td>247</td>\n",
              "    </tr>\n",
              "  </tbody>\n",
              "</table>\n",
              "</div>"
            ],
            "text/plain": [
              "   StudentID Grade  ... PercentCorrect  TestRITScore\n",
              "31  43273221     8  ...             54           252\n",
              "32  43050370     8  ...             48           250\n",
              "33  44277530     6  ...             52           241\n",
              "34  43345087     8  ...             48           245\n",
              "35  43371657     8  ...             52           247\n",
              "\n",
              "[5 rows x 11 columns]"
            ]
          },
          "metadata": {
            "tags": []
          },
          "execution_count": 21
        }
      ]
    },
    {
      "cell_type": "markdown",
      "metadata": {
        "id": "vpv2GS9vaSzn",
        "colab_type": "text"
      },
      "source": [
        "#SpringtoSpringConditionalGrowthPercentile is the Y\n",
        "#TestRITScore needs to put in bin"
      ]
    },
    {
      "cell_type": "code",
      "metadata": {
        "id": "rPKBjiymyfyy",
        "colab_type": "code",
        "colab": {}
      },
      "source": [
        "rv['RoundRIT']= rv['TestRITScore'].copy()"
      ],
      "execution_count": 0,
      "outputs": []
    },
    {
      "cell_type": "code",
      "metadata": {
        "id": "SWIIAK8Uoe5J",
        "colab_type": "code",
        "colab": {}
      },
      "source": [
        "#Round the RIT Score to the nearest 10\n",
        "rv['RoundRIT'] = rv['TestRITScore'].apply(lambda x: int(round(x/10.0)*10.0))"
      ],
      "execution_count": 0,
      "outputs": []
    },
    {
      "cell_type": "code",
      "metadata": {
        "id": "YMirWNvy6kc5",
        "colab_type": "code",
        "colab": {}
      },
      "source": [
        "#round the testPercentile/PercentCorrect to nearest 5\n",
        "rv['TestPercentile'] = rv['TestPercentile'].apply(lambda x: int(round(x/5.0)*5.0))"
      ],
      "execution_count": 0,
      "outputs": []
    },
    {
      "cell_type": "code",
      "metadata": {
        "id": "1i2WRuxA62QQ",
        "colab_type": "code",
        "colab": {}
      },
      "source": [
        "rv['PercentCorrect'] = rv['PercentCorrect'].apply(lambda x: int(round(x/5.0)*5.0))"
      ],
      "execution_count": 0,
      "outputs": []
    },
    {
      "cell_type": "code",
      "metadata": {
        "id": "0ZHTjluBQuy2",
        "colab_type": "code",
        "outputId": "671cbaa9-5501-4c5f-9ab1-977e998cfb09",
        "colab": {
          "base_uri": "https://localhost:8080/",
          "height": 309
        }
      },
      "source": [
        "rv.tail()"
      ],
      "execution_count": 26,
      "outputs": [
        {
          "output_type": "execute_result",
          "data": {
            "text/html": [
              "<div>\n",
              "<style scoped>\n",
              "    .dataframe tbody tr th:only-of-type {\n",
              "        vertical-align: middle;\n",
              "    }\n",
              "\n",
              "    .dataframe tbody tr th {\n",
              "        vertical-align: top;\n",
              "    }\n",
              "\n",
              "    .dataframe thead th {\n",
              "        text-align: right;\n",
              "    }\n",
              "</style>\n",
              "<table border=\"1\" class=\"dataframe\">\n",
              "  <thead>\n",
              "    <tr style=\"text-align: right;\">\n",
              "      <th></th>\n",
              "      <th>StudentID</th>\n",
              "      <th>Grade</th>\n",
              "      <th>Discipline</th>\n",
              "      <th>SpringtoSpringConditionalGrowthPercentile</th>\n",
              "      <th>TermName</th>\n",
              "      <th>SchoolName</th>\n",
              "      <th>TestPercentile</th>\n",
              "      <th>FalltoWinterConditionalGrowthIndex</th>\n",
              "      <th>WintertoWinterConditionalGrowthIndex</th>\n",
              "      <th>PercentCorrect</th>\n",
              "      <th>TestRITScore</th>\n",
              "      <th>RoundRIT</th>\n",
              "    </tr>\n",
              "  </thead>\n",
              "  <tbody>\n",
              "    <tr>\n",
              "      <th>35853</th>\n",
              "      <td>50067284</td>\n",
              "      <td>1</td>\n",
              "      <td>Reading</td>\n",
              "      <td>50.0</td>\n",
              "      <td>Winter 2011-2012</td>\n",
              "      <td>Irving Park</td>\n",
              "      <td>75</td>\n",
              "      <td>0.45</td>\n",
              "      <td>1.15</td>\n",
              "      <td>60</td>\n",
              "      <td>181</td>\n",
              "      <td>180</td>\n",
              "    </tr>\n",
              "    <tr>\n",
              "      <th>35854</th>\n",
              "      <td>50078972</td>\n",
              "      <td>1</td>\n",
              "      <td>Reading</td>\n",
              "      <td>56.0</td>\n",
              "      <td>Winter 2011-2012</td>\n",
              "      <td>West Belden</td>\n",
              "      <td>65</td>\n",
              "      <td>0.24</td>\n",
              "      <td>0.71</td>\n",
              "      <td>50</td>\n",
              "      <td>176</td>\n",
              "      <td>180</td>\n",
              "    </tr>\n",
              "    <tr>\n",
              "      <th>35855</th>\n",
              "      <td>50134906</td>\n",
              "      <td>1</td>\n",
              "      <td>Reading</td>\n",
              "      <td>61.0</td>\n",
              "      <td>Winter 2011-2012</td>\n",
              "      <td>Bucktown</td>\n",
              "      <td>60</td>\n",
              "      <td>1.20</td>\n",
              "      <td>0.00</td>\n",
              "      <td>55</td>\n",
              "      <td>175</td>\n",
              "      <td>180</td>\n",
              "    </tr>\n",
              "    <tr>\n",
              "      <th>35856</th>\n",
              "      <td>50136564</td>\n",
              "      <td>1</td>\n",
              "      <td>Reading</td>\n",
              "      <td>71.0</td>\n",
              "      <td>Winter 2011-2012</td>\n",
              "      <td>Irving Park</td>\n",
              "      <td>95</td>\n",
              "      <td>0.59</td>\n",
              "      <td>-0.19</td>\n",
              "      <td>65</td>\n",
              "      <td>191</td>\n",
              "      <td>190</td>\n",
              "    </tr>\n",
              "    <tr>\n",
              "      <th>35857</th>\n",
              "      <td>50167001</td>\n",
              "      <td>1</td>\n",
              "      <td>Reading</td>\n",
              "      <td>63.0</td>\n",
              "      <td>Winter 2011-2012</td>\n",
              "      <td>Irving Park</td>\n",
              "      <td>95</td>\n",
              "      <td>-1.26</td>\n",
              "      <td>0.64</td>\n",
              "      <td>65</td>\n",
              "      <td>193</td>\n",
              "      <td>190</td>\n",
              "    </tr>\n",
              "  </tbody>\n",
              "</table>\n",
              "</div>"
            ],
            "text/plain": [
              "      StudentID Grade Discipline  ...  PercentCorrect TestRITScore RoundRIT\n",
              "35853  50067284     1    Reading  ...              60          181      180\n",
              "35854  50078972     1    Reading  ...              50          176      180\n",
              "35855  50134906     1    Reading  ...              55          175      180\n",
              "35856  50136564     1    Reading  ...              65          191      190\n",
              "35857  50167001     1    Reading  ...              65          193      190\n",
              "\n",
              "[5 rows x 12 columns]"
            ]
          },
          "metadata": {
            "tags": []
          },
          "execution_count": 26
        }
      ]
    },
    {
      "cell_type": "code",
      "metadata": {
        "id": "bUJpTLbKa5X0",
        "colab_type": "code",
        "outputId": "fe957d11-cfe6-4c13-84a4-4626ceef9bcc",
        "colab": {
          "base_uri": "https://localhost:8080/",
          "height": 916
        }
      },
      "source": [
        "df.groupby('TermName').count()"
      ],
      "execution_count": 27,
      "outputs": [
        {
          "output_type": "execute_result",
          "data": {
            "text/html": [
              "<div>\n",
              "<style scoped>\n",
              "    .dataframe tbody tr th:only-of-type {\n",
              "        vertical-align: middle;\n",
              "    }\n",
              "\n",
              "    .dataframe tbody tr th {\n",
              "        vertical-align: top;\n",
              "    }\n",
              "\n",
              "    .dataframe thead th {\n",
              "        text-align: right;\n",
              "    }\n",
              "</style>\n",
              "<table border=\"1\" class=\"dataframe\">\n",
              "  <thead>\n",
              "    <tr style=\"text-align: right;\">\n",
              "      <th></th>\n",
              "      <th>StudentID</th>\n",
              "      <th>SchoolName</th>\n",
              "      <th>Grade</th>\n",
              "      <th>Discipline</th>\n",
              "      <th>TestPercentile</th>\n",
              "      <th>FalltoWinterConditionalGrowthIndex</th>\n",
              "      <th>WintertoWinterConditionalGrowthIndex</th>\n",
              "      <th>PercentCorrect</th>\n",
              "      <th>SpringtoSpringConditionalGrowthPercentile</th>\n",
              "      <th>TestRITScore</th>\n",
              "    </tr>\n",
              "    <tr>\n",
              "      <th>TermName</th>\n",
              "      <th></th>\n",
              "      <th></th>\n",
              "      <th></th>\n",
              "      <th></th>\n",
              "      <th></th>\n",
              "      <th></th>\n",
              "      <th></th>\n",
              "      <th></th>\n",
              "      <th></th>\n",
              "      <th></th>\n",
              "    </tr>\n",
              "  </thead>\n",
              "  <tbody>\n",
              "    <tr>\n",
              "      <th>Spring 2011-2012</th>\n",
              "      <td>4080</td>\n",
              "      <td>4080</td>\n",
              "      <td>4080</td>\n",
              "      <td>4080</td>\n",
              "      <td>4080</td>\n",
              "      <td>0</td>\n",
              "      <td>0</td>\n",
              "      <td>4080</td>\n",
              "      <td>3442</td>\n",
              "      <td>4080</td>\n",
              "    </tr>\n",
              "    <tr>\n",
              "      <th>Spring 2012-2013</th>\n",
              "      <td>4135</td>\n",
              "      <td>4135</td>\n",
              "      <td>4135</td>\n",
              "      <td>4135</td>\n",
              "      <td>4135</td>\n",
              "      <td>0</td>\n",
              "      <td>0</td>\n",
              "      <td>4135</td>\n",
              "      <td>3485</td>\n",
              "      <td>4135</td>\n",
              "    </tr>\n",
              "    <tr>\n",
              "      <th>Spring 2013-2014</th>\n",
              "      <td>4181</td>\n",
              "      <td>4181</td>\n",
              "      <td>4181</td>\n",
              "      <td>4181</td>\n",
              "      <td>4181</td>\n",
              "      <td>0</td>\n",
              "      <td>0</td>\n",
              "      <td>4181</td>\n",
              "      <td>3549</td>\n",
              "      <td>4181</td>\n",
              "    </tr>\n",
              "    <tr>\n",
              "      <th>Spring 2014-2015</th>\n",
              "      <td>4182</td>\n",
              "      <td>4182</td>\n",
              "      <td>4182</td>\n",
              "      <td>4182</td>\n",
              "      <td>4182</td>\n",
              "      <td>0</td>\n",
              "      <td>0</td>\n",
              "      <td>4182</td>\n",
              "      <td>3570</td>\n",
              "      <td>4182</td>\n",
              "    </tr>\n",
              "    <tr>\n",
              "      <th>Spring 2015-2016</th>\n",
              "      <td>4197</td>\n",
              "      <td>4197</td>\n",
              "      <td>4197</td>\n",
              "      <td>4197</td>\n",
              "      <td>4197</td>\n",
              "      <td>0</td>\n",
              "      <td>0</td>\n",
              "      <td>4197</td>\n",
              "      <td>3468</td>\n",
              "      <td>4197</td>\n",
              "    </tr>\n",
              "    <tr>\n",
              "      <th>Spring 2016-2017</th>\n",
              "      <td>4335</td>\n",
              "      <td>4335</td>\n",
              "      <td>4335</td>\n",
              "      <td>4335</td>\n",
              "      <td>4335</td>\n",
              "      <td>0</td>\n",
              "      <td>0</td>\n",
              "      <td>4335</td>\n",
              "      <td>3400</td>\n",
              "      <td>4335</td>\n",
              "    </tr>\n",
              "    <tr>\n",
              "      <th>Spring 2017-2018</th>\n",
              "      <td>4840</td>\n",
              "      <td>4840</td>\n",
              "      <td>4840</td>\n",
              "      <td>4840</td>\n",
              "      <td>4840</td>\n",
              "      <td>0</td>\n",
              "      <td>0</td>\n",
              "      <td>4840</td>\n",
              "      <td>3521</td>\n",
              "      <td>4840</td>\n",
              "    </tr>\n",
              "    <tr>\n",
              "      <th>Spring 2018-2019</th>\n",
              "      <td>6040</td>\n",
              "      <td>6040</td>\n",
              "      <td>6040</td>\n",
              "      <td>6040</td>\n",
              "      <td>6040</td>\n",
              "      <td>0</td>\n",
              "      <td>0</td>\n",
              "      <td>6040</td>\n",
              "      <td>4686</td>\n",
              "      <td>6040</td>\n",
              "    </tr>\n",
              "    <tr>\n",
              "      <th>Winter 2011-2012</th>\n",
              "      <td>4117</td>\n",
              "      <td>4117</td>\n",
              "      <td>4117</td>\n",
              "      <td>4117</td>\n",
              "      <td>4117</td>\n",
              "      <td>4039</td>\n",
              "      <td>3485</td>\n",
              "      <td>4117</td>\n",
              "      <td>0</td>\n",
              "      <td>4117</td>\n",
              "    </tr>\n",
              "    <tr>\n",
              "      <th>Winter 2012-2013</th>\n",
              "      <td>4169</td>\n",
              "      <td>4169</td>\n",
              "      <td>4169</td>\n",
              "      <td>4169</td>\n",
              "      <td>4169</td>\n",
              "      <td>4122</td>\n",
              "      <td>3510</td>\n",
              "      <td>4169</td>\n",
              "      <td>0</td>\n",
              "      <td>4169</td>\n",
              "    </tr>\n",
              "    <tr>\n",
              "      <th>Winter 2013-2014</th>\n",
              "      <td>4195</td>\n",
              "      <td>4195</td>\n",
              "      <td>4195</td>\n",
              "      <td>4195</td>\n",
              "      <td>4195</td>\n",
              "      <td>4174</td>\n",
              "      <td>3550</td>\n",
              "      <td>4195</td>\n",
              "      <td>0</td>\n",
              "      <td>4195</td>\n",
              "    </tr>\n",
              "    <tr>\n",
              "      <th>Winter 2014-2015</th>\n",
              "      <td>4187</td>\n",
              "      <td>4187</td>\n",
              "      <td>4187</td>\n",
              "      <td>4187</td>\n",
              "      <td>4187</td>\n",
              "      <td>4179</td>\n",
              "      <td>3569</td>\n",
              "      <td>4187</td>\n",
              "      <td>0</td>\n",
              "      <td>4187</td>\n",
              "    </tr>\n",
              "    <tr>\n",
              "      <th>Winter 2015-2016</th>\n",
              "      <td>4187</td>\n",
              "      <td>4187</td>\n",
              "      <td>4187</td>\n",
              "      <td>4187</td>\n",
              "      <td>4187</td>\n",
              "      <td>4164</td>\n",
              "      <td>3474</td>\n",
              "      <td>4187</td>\n",
              "      <td>0</td>\n",
              "      <td>4187</td>\n",
              "    </tr>\n",
              "    <tr>\n",
              "      <th>Winter 2016-2017</th>\n",
              "      <td>4369</td>\n",
              "      <td>4369</td>\n",
              "      <td>4369</td>\n",
              "      <td>4369</td>\n",
              "      <td>4369</td>\n",
              "      <td>4340</td>\n",
              "      <td>3402</td>\n",
              "      <td>4369</td>\n",
              "      <td>0</td>\n",
              "      <td>4369</td>\n",
              "    </tr>\n",
              "    <tr>\n",
              "      <th>Winter 2017-2018</th>\n",
              "      <td>4874</td>\n",
              "      <td>4874</td>\n",
              "      <td>4874</td>\n",
              "      <td>4874</td>\n",
              "      <td>4874</td>\n",
              "      <td>4810</td>\n",
              "      <td>3521</td>\n",
              "      <td>4874</td>\n",
              "      <td>0</td>\n",
              "      <td>4874</td>\n",
              "    </tr>\n",
              "    <tr>\n",
              "      <th>Winter 2018-2019</th>\n",
              "      <td>5219</td>\n",
              "      <td>5219</td>\n",
              "      <td>5219</td>\n",
              "      <td>5219</td>\n",
              "      <td>5219</td>\n",
              "      <td>5113</td>\n",
              "      <td>3961</td>\n",
              "      <td>5219</td>\n",
              "      <td>0</td>\n",
              "      <td>5219</td>\n",
              "    </tr>\n",
              "    <tr>\n",
              "      <th>Winter 2019-2020</th>\n",
              "      <td>6234</td>\n",
              "      <td>6234</td>\n",
              "      <td>6234</td>\n",
              "      <td>6234</td>\n",
              "      <td>6234</td>\n",
              "      <td>6133</td>\n",
              "      <td>4527</td>\n",
              "      <td>6234</td>\n",
              "      <td>0</td>\n",
              "      <td>6234</td>\n",
              "    </tr>\n",
              "  </tbody>\n",
              "</table>\n",
              "</div>"
            ],
            "text/plain": [
              "                  StudentID  ...  TestRITScore\n",
              "TermName                     ...              \n",
              "Spring 2011-2012       4080  ...          4080\n",
              "Spring 2012-2013       4135  ...          4135\n",
              "Spring 2013-2014       4181  ...          4181\n",
              "Spring 2014-2015       4182  ...          4182\n",
              "Spring 2015-2016       4197  ...          4197\n",
              "Spring 2016-2017       4335  ...          4335\n",
              "Spring 2017-2018       4840  ...          4840\n",
              "Spring 2018-2019       6040  ...          6040\n",
              "Winter 2011-2012       4117  ...          4117\n",
              "Winter 2012-2013       4169  ...          4169\n",
              "Winter 2013-2014       4195  ...          4195\n",
              "Winter 2014-2015       4187  ...          4187\n",
              "Winter 2015-2016       4187  ...          4187\n",
              "Winter 2016-2017       4369  ...          4369\n",
              "Winter 2017-2018       4874  ...          4874\n",
              "Winter 2018-2019       5219  ...          5219\n",
              "Winter 2019-2020       6234  ...          6234\n",
              "\n",
              "[17 rows x 10 columns]"
            ]
          },
          "metadata": {
            "tags": []
          },
          "execution_count": 27
        }
      ]
    },
    {
      "cell_type": "code",
      "metadata": {
        "id": "4FITW9iMBfJ2",
        "colab_type": "code",
        "colab": {}
      },
      "source": [
        "rv.to_csv('cleaned_data.csv', index=False)"
      ],
      "execution_count": 0,
      "outputs": []
    },
    {
      "cell_type": "code",
      "metadata": {
        "id": "RZrn1PUxZukP",
        "colab_type": "code",
        "colab": {
          "base_uri": "https://localhost:8080/",
          "height": 119
        },
        "outputId": "cf20af42-ac4e-4804-dd60-ad3db6f5f926"
      },
      "source": [
        "rv['SpringtoSpringConditionalGrowthPercentile'].head()"
      ],
      "execution_count": 60,
      "outputs": [
        {
          "output_type": "execute_result",
          "data": {
            "text/plain": [
              "31    22.0\n",
              "32    19.0\n",
              "33    17.0\n",
              "34    20.0\n",
              "35    13.0\n",
              "Name: SpringtoSpringConditionalGrowthPercentile, dtype: float64"
            ]
          },
          "metadata": {
            "tags": []
          },
          "execution_count": 60
        }
      ]
    },
    {
      "cell_type": "code",
      "metadata": {
        "id": "I3in88M6jwvS",
        "colab_type": "code",
        "colab": {}
      },
      "source": [
        "#bins the waittime by 20% of the data\n",
        "BINS = [0, 20, 40, 60, 80, 100]\n",
        "LABLES = [0,1,2,3,4]\n",
        "\n",
        "#bin the waittime by 4 categories\n",
        "#rv[\"StSCGP\"]=pd.cut(rv['SpringtoSpringConditionalGrowthPercentile'], bins=BINS, labels=LABLES)"
      ],
      "execution_count": 0,
      "outputs": []
    },
    {
      "cell_type": "code",
      "metadata": {
        "id": "aO7yB3oF2NIE",
        "colab_type": "code",
        "outputId": "16a32770-3701-455e-fe0c-c20d7cbd1327",
        "colab": {
          "base_uri": "https://localhost:8080/",
          "height": 136
        }
      },
      "source": [
        "#rv.groupby('StSCGP')['StudentID'].count()"
      ],
      "execution_count": 30,
      "outputs": [
        {
          "output_type": "execute_result",
          "data": {
            "text/plain": [
              "StSCGP\n",
              "0    7005\n",
              "1    5010\n",
              "2    5191\n",
              "3    5016\n",
              "4    6647\n",
              "Name: StudentID, dtype: int64"
            ]
          },
          "metadata": {
            "tags": []
          },
          "execution_count": 30
        }
      ]
    },
    {
      "cell_type": "code",
      "metadata": {
        "id": "TQLaZ6ZJZdgv",
        "colab_type": "code",
        "colab": {}
      },
      "source": [
        "rv['Y'] = np.where(rv['SpringtoSpringConditionalGrowthPercentile']<= 40, 1, 0)"
      ],
      "execution_count": 0,
      "outputs": []
    },
    {
      "cell_type": "code",
      "metadata": {
        "id": "H2-Fmjz7Z04Z",
        "colab_type": "code",
        "colab": {
          "base_uri": "https://localhost:8080/",
          "height": 68
        },
        "outputId": "f225a7fd-5771-4653-a030-936b72ec0f75"
      },
      "source": [
        "rv['Y'].value_counts()"
      ],
      "execution_count": 63,
      "outputs": [
        {
          "output_type": "execute_result",
          "data": {
            "text/plain": [
              "0    16854\n",
              "1    12015\n",
              "Name: Y, dtype: int64"
            ]
          },
          "metadata": {
            "tags": []
          },
          "execution_count": 63
        }
      ]
    },
    {
      "cell_type": "code",
      "metadata": {
        "id": "xroNWLuyo68t",
        "colab_type": "code",
        "colab": {
          "base_uri": "https://localhost:8080/",
          "height": 51
        },
        "outputId": "6200cd8a-cbae-46b9-c6b6-ab507563bea6"
      },
      "source": [
        "# Finding Base Probability of Default\n",
        "print ('Prob of Default')\n",
        "print ( rv['Y'].sum()/rv.shape[0])"
      ],
      "execution_count": 90,
      "outputs": [
        {
          "output_type": "stream",
          "text": [
            "Prob of Default\n",
            "0.4161903772212408\n"
          ],
          "name": "stdout"
        }
      ]
    },
    {
      "cell_type": "code",
      "metadata": {
        "id": "PubLuUful7h_",
        "colab_type": "code",
        "colab": {}
      },
      "source": [
        "rv['FtWCGI']=pd.qcut(rv['FalltoWinterConditionalGrowthIndex'], q=5)"
      ],
      "execution_count": 0,
      "outputs": []
    },
    {
      "cell_type": "code",
      "metadata": {
        "id": "usfV2LgMMU9P",
        "colab_type": "code",
        "colab": {}
      },
      "source": [
        "rv['WtWCGI']=pd.qcut(rv['WintertoWinterConditionalGrowthIndex'], q=5)"
      ],
      "execution_count": 0,
      "outputs": []
    },
    {
      "cell_type": "code",
      "metadata": {
        "id": "K35mXGFXoPwE",
        "colab_type": "code",
        "outputId": "23427c47-e81d-4f33-cbd8-c87e5025438a",
        "colab": {
          "base_uri": "https://localhost:8080/",
          "height": 309
        }
      },
      "source": [
        "rv.head()"
      ],
      "execution_count": 34,
      "outputs": [
        {
          "output_type": "execute_result",
          "data": {
            "text/html": [
              "<div>\n",
              "<style scoped>\n",
              "    .dataframe tbody tr th:only-of-type {\n",
              "        vertical-align: middle;\n",
              "    }\n",
              "\n",
              "    .dataframe tbody tr th {\n",
              "        vertical-align: top;\n",
              "    }\n",
              "\n",
              "    .dataframe thead th {\n",
              "        text-align: right;\n",
              "    }\n",
              "</style>\n",
              "<table border=\"1\" class=\"dataframe\">\n",
              "  <thead>\n",
              "    <tr style=\"text-align: right;\">\n",
              "      <th></th>\n",
              "      <th>StudentID</th>\n",
              "      <th>Grade</th>\n",
              "      <th>Discipline</th>\n",
              "      <th>SpringtoSpringConditionalGrowthPercentile</th>\n",
              "      <th>TermName</th>\n",
              "      <th>SchoolName</th>\n",
              "      <th>TestPercentile</th>\n",
              "      <th>FalltoWinterConditionalGrowthIndex</th>\n",
              "      <th>WintertoWinterConditionalGrowthIndex</th>\n",
              "      <th>PercentCorrect</th>\n",
              "      <th>TestRITScore</th>\n",
              "      <th>RoundRIT</th>\n",
              "      <th>StSCGP</th>\n",
              "      <th>FtWCGI</th>\n",
              "      <th>WtWCGI</th>\n",
              "    </tr>\n",
              "  </thead>\n",
              "  <tbody>\n",
              "    <tr>\n",
              "      <th>31</th>\n",
              "      <td>43273221</td>\n",
              "      <td>8</td>\n",
              "      <td>Mathematics</td>\n",
              "      <td>22.0</td>\n",
              "      <td>Winter 2012-2013</td>\n",
              "      <td>West Belden</td>\n",
              "      <td>90</td>\n",
              "      <td>0.65</td>\n",
              "      <td>0.95</td>\n",
              "      <td>55</td>\n",
              "      <td>252</td>\n",
              "      <td>250</td>\n",
              "      <td>1</td>\n",
              "      <td>(0.23, 1.0]</td>\n",
              "      <td>(0.32, 1.04]</td>\n",
              "    </tr>\n",
              "    <tr>\n",
              "      <th>32</th>\n",
              "      <td>43050370</td>\n",
              "      <td>8</td>\n",
              "      <td>Mathematics</td>\n",
              "      <td>19.0</td>\n",
              "      <td>Winter 2012-2013</td>\n",
              "      <td>West Belden</td>\n",
              "      <td>85</td>\n",
              "      <td>1.86</td>\n",
              "      <td>2.41</td>\n",
              "      <td>50</td>\n",
              "      <td>250</td>\n",
              "      <td>250</td>\n",
              "      <td>0</td>\n",
              "      <td>(1.0, 11.41]</td>\n",
              "      <td>(1.04, 13.54]</td>\n",
              "    </tr>\n",
              "    <tr>\n",
              "      <th>33</th>\n",
              "      <td>44277530</td>\n",
              "      <td>6</td>\n",
              "      <td>Mathematics</td>\n",
              "      <td>17.0</td>\n",
              "      <td>Winter 2012-2013</td>\n",
              "      <td>Bucktown</td>\n",
              "      <td>90</td>\n",
              "      <td>-1.51</td>\n",
              "      <td>-0.30</td>\n",
              "      <td>50</td>\n",
              "      <td>241</td>\n",
              "      <td>240</td>\n",
              "      <td>0</td>\n",
              "      <td>(-8.901, -1.15]</td>\n",
              "      <td>(-1.03, -0.3]</td>\n",
              "    </tr>\n",
              "    <tr>\n",
              "      <th>34</th>\n",
              "      <td>43345087</td>\n",
              "      <td>8</td>\n",
              "      <td>Mathematics</td>\n",
              "      <td>20.0</td>\n",
              "      <td>Winter 2012-2013</td>\n",
              "      <td>West Belden</td>\n",
              "      <td>80</td>\n",
              "      <td>-0.62</td>\n",
              "      <td>-0.75</td>\n",
              "      <td>50</td>\n",
              "      <td>245</td>\n",
              "      <td>240</td>\n",
              "      <td>0</td>\n",
              "      <td>(-1.15, -0.42]</td>\n",
              "      <td>(-1.03, -0.3]</td>\n",
              "    </tr>\n",
              "    <tr>\n",
              "      <th>35</th>\n",
              "      <td>43371657</td>\n",
              "      <td>8</td>\n",
              "      <td>Mathematics</td>\n",
              "      <td>13.0</td>\n",
              "      <td>Winter 2012-2013</td>\n",
              "      <td>West Belden</td>\n",
              "      <td>85</td>\n",
              "      <td>1.14</td>\n",
              "      <td>0.62</td>\n",
              "      <td>50</td>\n",
              "      <td>247</td>\n",
              "      <td>250</td>\n",
              "      <td>0</td>\n",
              "      <td>(1.0, 11.41]</td>\n",
              "      <td>(0.32, 1.04]</td>\n",
              "    </tr>\n",
              "  </tbody>\n",
              "</table>\n",
              "</div>"
            ],
            "text/plain": [
              "   StudentID Grade   Discipline  ...  StSCGP           FtWCGI         WtWCGI\n",
              "31  43273221     8  Mathematics  ...       1      (0.23, 1.0]   (0.32, 1.04]\n",
              "32  43050370     8  Mathematics  ...       0     (1.0, 11.41]  (1.04, 13.54]\n",
              "33  44277530     6  Mathematics  ...       0  (-8.901, -1.15]  (-1.03, -0.3]\n",
              "34  43345087     8  Mathematics  ...       0   (-1.15, -0.42]  (-1.03, -0.3]\n",
              "35  43371657     8  Mathematics  ...       0     (1.0, 11.41]   (0.32, 1.04]\n",
              "\n",
              "[5 rows x 15 columns]"
            ]
          },
          "metadata": {
            "tags": []
          },
          "execution_count": 34
        }
      ]
    },
    {
      "cell_type": "code",
      "metadata": {
        "id": "4of0MJ1V9Rwz",
        "colab_type": "code",
        "colab": {}
      },
      "source": [
        "#Save a clean copy for later viz purpose\n",
        "viz_df = rv.copy()"
      ],
      "execution_count": 0,
      "outputs": []
    },
    {
      "cell_type": "code",
      "metadata": {
        "id": "n7bo1R0JjkrK",
        "colab_type": "code",
        "colab": {}
      },
      "source": [
        "read =rv[rv.Discipline=='Reading']\n",
        "math =rv[rv.Discipline=='Mathematics']\n",
        "rd =rv[rv.Discipline=='Reading']\n",
        "md =rv[rv.Discipline=='Mathematics']"
      ],
      "execution_count": 0,
      "outputs": []
    },
    {
      "cell_type": "code",
      "metadata": {
        "id": "g0DCUZy_1urQ",
        "colab_type": "code",
        "outputId": "b0aa411f-99e9-4dc1-cdb2-cc83237fcfa4",
        "colab": {
          "base_uri": "https://localhost:8080/",
          "height": 577
        }
      },
      "source": [
        "%matplotlib inline\n",
        "import matplotlib.pyplot as plt\n",
        "import seaborn as sns\n",
        "sns.set(style=\"whitegrid\")\n",
        "fig, ax = plt.subplots(figsize=(10,8))\n",
        "plt.suptitle('Reading')\n",
        "sns.boxplot( x=read['Grade'], y=read[\"RoundRIT\"], color=\"orange\")\n",
        "#sns.plt.show()\n"
      ],
      "execution_count": 66,
      "outputs": [
        {
          "output_type": "execute_result",
          "data": {
            "text/plain": [
              "<matplotlib.axes._subplots.AxesSubplot at 0x7f67247fd320>"
            ]
          },
          "metadata": {
            "tags": []
          },
          "execution_count": 66
        },
        {
          "output_type": "display_data",
          "data": {
            "image/png": "[encoded data removed]",
            "text/plain": [
              "<Figure size 720x576 with 1 Axes>"
            ]
          },
          "metadata": {
            "tags": []
          }
        }
      ]
    },
    {
      "cell_type": "code",
      "metadata": {
        "id": "Nuyth5ucRBFX",
        "colab_type": "code",
        "outputId": "ac25db75-a873-40e4-fdbe-9462501461e5",
        "colab": {
          "base_uri": "https://localhost:8080/",
          "height": 34
        }
      },
      "source": [
        "read.shape"
      ],
      "execution_count": 67,
      "outputs": [
        {
          "output_type": "execute_result",
          "data": {
            "text/plain": [
              "(14437, 16)"
            ]
          },
          "metadata": {
            "tags": []
          },
          "execution_count": 67
        }
      ]
    },
    {
      "cell_type": "code",
      "metadata": {
        "id": "FOLV02ELOTfF",
        "colab_type": "code",
        "outputId": "60419b1b-e252-416d-f1f9-ff523abea966",
        "colab": {
          "base_uri": "https://localhost:8080/",
          "height": 34
        }
      },
      "source": [
        "math.shape"
      ],
      "execution_count": 68,
      "outputs": [
        {
          "output_type": "execute_result",
          "data": {
            "text/plain": [
              "(14432, 16)"
            ]
          },
          "metadata": {
            "tags": []
          },
          "execution_count": 68
        }
      ]
    },
    {
      "cell_type": "markdown",
      "metadata": {
        "id": "BMEQchNmh33E",
        "colab_type": "text"
      },
      "source": [
        "# Pre-processing"
      ]
    },
    {
      "cell_type": "code",
      "metadata": {
        "id": "gCtcB9tck1Cg",
        "colab_type": "code",
        "colab": {}
      },
      "source": [
        "keep =['Y','Grade', 'SchoolName', 'TestPercentile', 'WtWCGI', 'FtWCGI','PercentCorrect',\n",
        "       'RoundRIT']"
      ],
      "execution_count": 0,
      "outputs": []
    },
    {
      "cell_type": "code",
      "metadata": {
        "id": "o1V0ExY_6JeG",
        "colab_type": "code",
        "colab": {}
      },
      "source": [
        "read= read[keep]\n",
        "math=math[keep]"
      ],
      "execution_count": 0,
      "outputs": []
    },
    {
      "cell_type": "code",
      "metadata": {
        "id": "nDq1bqmCmb7v",
        "colab_type": "code",
        "outputId": "a4168a77-d10c-4d91-f257-823b66a46151",
        "colab": {
          "base_uri": "https://localhost:8080/",
          "height": 51
        }
      },
      "source": [
        "# CREATING DUMMIES\n",
        "#df = pd.concat([df, dummy_df], axis=1)\n",
        "keep.remove('Y')\n",
        "print ('The following columns have been broken into dummies:' , keep)\n",
        "for dummy in keep:\n",
        "    read = pp.dummy_variable(dummy, read)\n",
        "    math = pp.dummy_variable(dummy, math)\n",
        "print (' ')"
      ],
      "execution_count": 71,
      "outputs": [
        {
          "output_type": "stream",
          "text": [
            "The following columns have been broken into dummies: ['Grade', 'SchoolName', 'TestPercentile', 'WtWCGI', 'FtWCGI', 'PercentCorrect', 'RoundRIT']\n",
            " \n"
          ],
          "name": "stdout"
        }
      ]
    },
    {
      "cell_type": "code",
      "metadata": {
        "id": "aFDfLI_HrFwD",
        "colab_type": "code",
        "outputId": "928c9470-78d4-4215-aa19-02d26a32eec1",
        "colab": {
          "base_uri": "https://localhost:8080/",
          "height": 241
        }
      },
      "source": [
        "read.head()"
      ],
      "execution_count": 72,
      "outputs": [
        {
          "output_type": "execute_result",
          "data": {
            "text/html": [
              "<div>\n",
              "<style scoped>\n",
              "    .dataframe tbody tr th:only-of-type {\n",
              "        vertical-align: middle;\n",
              "    }\n",
              "\n",
              "    .dataframe tbody tr th {\n",
              "        vertical-align: top;\n",
              "    }\n",
              "\n",
              "    .dataframe thead th {\n",
              "        text-align: right;\n",
              "    }\n",
              "</style>\n",
              "<table border=\"1\" class=\"dataframe\">\n",
              "  <thead>\n",
              "    <tr style=\"text-align: right;\">\n",
              "      <th></th>\n",
              "      <th>Y</th>\n",
              "      <th>Grade1</th>\n",
              "      <th>Grade2</th>\n",
              "      <th>Grade3</th>\n",
              "      <th>Grade4</th>\n",
              "      <th>Grade5</th>\n",
              "      <th>Grade6</th>\n",
              "      <th>Grade7</th>\n",
              "      <th>Grade8</th>\n",
              "      <th>SchoolNameBucktown</th>\n",
              "      <th>SchoolNameDCP Harper Woods</th>\n",
              "      <th>SchoolNameIrving Park</th>\n",
              "      <th>SchoolNamePrairie</th>\n",
              "      <th>SchoolNameWest Belden</th>\n",
              "      <th>TestPercentile0</th>\n",
              "      <th>TestPercentile5</th>\n",
              "      <th>TestPercentile10</th>\n",
              "      <th>TestPercentile15</th>\n",
              "      <th>TestPercentile20</th>\n",
              "      <th>TestPercentile25</th>\n",
              "      <th>TestPercentile30</th>\n",
              "      <th>TestPercentile35</th>\n",
              "      <th>TestPercentile40</th>\n",
              "      <th>TestPercentile45</th>\n",
              "      <th>TestPercentile50</th>\n",
              "      <th>TestPercentile55</th>\n",
              "      <th>TestPercentile60</th>\n",
              "      <th>TestPercentile65</th>\n",
              "      <th>TestPercentile70</th>\n",
              "      <th>TestPercentile75</th>\n",
              "      <th>TestPercentile80</th>\n",
              "      <th>TestPercentile85</th>\n",
              "      <th>TestPercentile90</th>\n",
              "      <th>TestPercentile95</th>\n",
              "      <th>TestPercentile100</th>\n",
              "      <th>WtWCGI(-10.770999999999999, -1.03]</th>\n",
              "      <th>WtWCGI(-1.03, -0.3]</th>\n",
              "      <th>WtWCGI(-0.3, 0.32]</th>\n",
              "      <th>WtWCGI(0.32, 1.04]</th>\n",
              "      <th>WtWCGI(1.04, 13.54]</th>\n",
              "      <th>FtWCGI(-8.901, -1.15]</th>\n",
              "      <th>FtWCGI(-1.15, -0.42]</th>\n",
              "      <th>FtWCGI(-0.42, 0.23]</th>\n",
              "      <th>FtWCGI(0.23, 1.0]</th>\n",
              "      <th>FtWCGI(1.0, 11.41]</th>\n",
              "      <th>PercentCorrect20</th>\n",
              "      <th>PercentCorrect25</th>\n",
              "      <th>PercentCorrect30</th>\n",
              "      <th>PercentCorrect35</th>\n",
              "      <th>PercentCorrect40</th>\n",
              "      <th>PercentCorrect45</th>\n",
              "      <th>PercentCorrect50</th>\n",
              "      <th>PercentCorrect55</th>\n",
              "      <th>PercentCorrect60</th>\n",
              "      <th>PercentCorrect65</th>\n",
              "      <th>PercentCorrect70</th>\n",
              "      <th>PercentCorrect75</th>\n",
              "      <th>PercentCorrect80</th>\n",
              "      <th>PercentCorrect85</th>\n",
              "      <th>PercentCorrect90</th>\n",
              "      <th>RoundRIT120</th>\n",
              "      <th>RoundRIT130</th>\n",
              "      <th>RoundRIT140</th>\n",
              "      <th>RoundRIT150</th>\n",
              "      <th>RoundRIT160</th>\n",
              "      <th>RoundRIT170</th>\n",
              "      <th>RoundRIT180</th>\n",
              "      <th>RoundRIT190</th>\n",
              "      <th>RoundRIT200</th>\n",
              "      <th>RoundRIT210</th>\n",
              "      <th>RoundRIT220</th>\n",
              "      <th>RoundRIT230</th>\n",
              "      <th>RoundRIT240</th>\n",
              "      <th>RoundRIT250</th>\n",
              "      <th>RoundRIT260</th>\n",
              "    </tr>\n",
              "  </thead>\n",
              "  <tbody>\n",
              "    <tr>\n",
              "      <th>1690</th>\n",
              "      <td>1</td>\n",
              "      <td>0</td>\n",
              "      <td>0</td>\n",
              "      <td>0</td>\n",
              "      <td>0</td>\n",
              "      <td>0</td>\n",
              "      <td>0</td>\n",
              "      <td>1</td>\n",
              "      <td>0</td>\n",
              "      <td>0</td>\n",
              "      <td>0</td>\n",
              "      <td>0</td>\n",
              "      <td>1</td>\n",
              "      <td>0</td>\n",
              "      <td>0</td>\n",
              "      <td>0</td>\n",
              "      <td>0</td>\n",
              "      <td>0</td>\n",
              "      <td>0</td>\n",
              "      <td>0</td>\n",
              "      <td>0</td>\n",
              "      <td>0</td>\n",
              "      <td>0</td>\n",
              "      <td>0</td>\n",
              "      <td>0</td>\n",
              "      <td>0</td>\n",
              "      <td>0</td>\n",
              "      <td>0</td>\n",
              "      <td>0</td>\n",
              "      <td>0</td>\n",
              "      <td>0</td>\n",
              "      <td>1</td>\n",
              "      <td>0</td>\n",
              "      <td>0</td>\n",
              "      <td>0</td>\n",
              "      <td>0</td>\n",
              "      <td>0</td>\n",
              "      <td>0</td>\n",
              "      <td>1</td>\n",
              "      <td>0</td>\n",
              "      <td>0</td>\n",
              "      <td>0</td>\n",
              "      <td>1</td>\n",
              "      <td>0</td>\n",
              "      <td>0</td>\n",
              "      <td>0</td>\n",
              "      <td>0</td>\n",
              "      <td>0</td>\n",
              "      <td>0</td>\n",
              "      <td>0</td>\n",
              "      <td>0</td>\n",
              "      <td>1</td>\n",
              "      <td>0</td>\n",
              "      <td>0</td>\n",
              "      <td>0</td>\n",
              "      <td>0</td>\n",
              "      <td>0</td>\n",
              "      <td>0</td>\n",
              "      <td>0</td>\n",
              "      <td>0</td>\n",
              "      <td>0</td>\n",
              "      <td>0</td>\n",
              "      <td>0</td>\n",
              "      <td>0</td>\n",
              "      <td>0</td>\n",
              "      <td>0</td>\n",
              "      <td>0</td>\n",
              "      <td>0</td>\n",
              "      <td>0</td>\n",
              "      <td>0</td>\n",
              "      <td>0</td>\n",
              "      <td>1</td>\n",
              "      <td>0</td>\n",
              "      <td>0</td>\n",
              "      <td>0</td>\n",
              "    </tr>\n",
              "    <tr>\n",
              "      <th>1691</th>\n",
              "      <td>1</td>\n",
              "      <td>0</td>\n",
              "      <td>0</td>\n",
              "      <td>0</td>\n",
              "      <td>0</td>\n",
              "      <td>0</td>\n",
              "      <td>0</td>\n",
              "      <td>1</td>\n",
              "      <td>0</td>\n",
              "      <td>0</td>\n",
              "      <td>0</td>\n",
              "      <td>0</td>\n",
              "      <td>0</td>\n",
              "      <td>1</td>\n",
              "      <td>0</td>\n",
              "      <td>0</td>\n",
              "      <td>0</td>\n",
              "      <td>0</td>\n",
              "      <td>0</td>\n",
              "      <td>0</td>\n",
              "      <td>0</td>\n",
              "      <td>0</td>\n",
              "      <td>0</td>\n",
              "      <td>0</td>\n",
              "      <td>0</td>\n",
              "      <td>0</td>\n",
              "      <td>0</td>\n",
              "      <td>0</td>\n",
              "      <td>0</td>\n",
              "      <td>0</td>\n",
              "      <td>0</td>\n",
              "      <td>1</td>\n",
              "      <td>0</td>\n",
              "      <td>0</td>\n",
              "      <td>0</td>\n",
              "      <td>0</td>\n",
              "      <td>0</td>\n",
              "      <td>0</td>\n",
              "      <td>0</td>\n",
              "      <td>1</td>\n",
              "      <td>0</td>\n",
              "      <td>0</td>\n",
              "      <td>0</td>\n",
              "      <td>1</td>\n",
              "      <td>0</td>\n",
              "      <td>0</td>\n",
              "      <td>0</td>\n",
              "      <td>0</td>\n",
              "      <td>0</td>\n",
              "      <td>0</td>\n",
              "      <td>0</td>\n",
              "      <td>0</td>\n",
              "      <td>1</td>\n",
              "      <td>0</td>\n",
              "      <td>0</td>\n",
              "      <td>0</td>\n",
              "      <td>0</td>\n",
              "      <td>0</td>\n",
              "      <td>0</td>\n",
              "      <td>0</td>\n",
              "      <td>0</td>\n",
              "      <td>0</td>\n",
              "      <td>0</td>\n",
              "      <td>0</td>\n",
              "      <td>0</td>\n",
              "      <td>0</td>\n",
              "      <td>0</td>\n",
              "      <td>0</td>\n",
              "      <td>0</td>\n",
              "      <td>0</td>\n",
              "      <td>0</td>\n",
              "      <td>1</td>\n",
              "      <td>0</td>\n",
              "      <td>0</td>\n",
              "      <td>0</td>\n",
              "    </tr>\n",
              "    <tr>\n",
              "      <th>1692</th>\n",
              "      <td>1</td>\n",
              "      <td>0</td>\n",
              "      <td>0</td>\n",
              "      <td>0</td>\n",
              "      <td>0</td>\n",
              "      <td>0</td>\n",
              "      <td>1</td>\n",
              "      <td>0</td>\n",
              "      <td>0</td>\n",
              "      <td>1</td>\n",
              "      <td>0</td>\n",
              "      <td>0</td>\n",
              "      <td>0</td>\n",
              "      <td>0</td>\n",
              "      <td>0</td>\n",
              "      <td>0</td>\n",
              "      <td>0</td>\n",
              "      <td>0</td>\n",
              "      <td>0</td>\n",
              "      <td>0</td>\n",
              "      <td>0</td>\n",
              "      <td>0</td>\n",
              "      <td>0</td>\n",
              "      <td>0</td>\n",
              "      <td>0</td>\n",
              "      <td>0</td>\n",
              "      <td>0</td>\n",
              "      <td>0</td>\n",
              "      <td>0</td>\n",
              "      <td>0</td>\n",
              "      <td>0</td>\n",
              "      <td>0</td>\n",
              "      <td>1</td>\n",
              "      <td>0</td>\n",
              "      <td>0</td>\n",
              "      <td>1</td>\n",
              "      <td>0</td>\n",
              "      <td>0</td>\n",
              "      <td>0</td>\n",
              "      <td>0</td>\n",
              "      <td>0</td>\n",
              "      <td>1</td>\n",
              "      <td>0</td>\n",
              "      <td>0</td>\n",
              "      <td>0</td>\n",
              "      <td>0</td>\n",
              "      <td>0</td>\n",
              "      <td>0</td>\n",
              "      <td>0</td>\n",
              "      <td>0</td>\n",
              "      <td>0</td>\n",
              "      <td>0</td>\n",
              "      <td>1</td>\n",
              "      <td>0</td>\n",
              "      <td>0</td>\n",
              "      <td>0</td>\n",
              "      <td>0</td>\n",
              "      <td>0</td>\n",
              "      <td>0</td>\n",
              "      <td>0</td>\n",
              "      <td>0</td>\n",
              "      <td>0</td>\n",
              "      <td>0</td>\n",
              "      <td>0</td>\n",
              "      <td>0</td>\n",
              "      <td>0</td>\n",
              "      <td>0</td>\n",
              "      <td>0</td>\n",
              "      <td>0</td>\n",
              "      <td>0</td>\n",
              "      <td>0</td>\n",
              "      <td>1</td>\n",
              "      <td>0</td>\n",
              "      <td>0</td>\n",
              "      <td>0</td>\n",
              "    </tr>\n",
              "    <tr>\n",
              "      <th>1693</th>\n",
              "      <td>1</td>\n",
              "      <td>0</td>\n",
              "      <td>0</td>\n",
              "      <td>0</td>\n",
              "      <td>0</td>\n",
              "      <td>0</td>\n",
              "      <td>1</td>\n",
              "      <td>0</td>\n",
              "      <td>0</td>\n",
              "      <td>1</td>\n",
              "      <td>0</td>\n",
              "      <td>0</td>\n",
              "      <td>0</td>\n",
              "      <td>0</td>\n",
              "      <td>1</td>\n",
              "      <td>0</td>\n",
              "      <td>0</td>\n",
              "      <td>0</td>\n",
              "      <td>0</td>\n",
              "      <td>0</td>\n",
              "      <td>0</td>\n",
              "      <td>0</td>\n",
              "      <td>0</td>\n",
              "      <td>0</td>\n",
              "      <td>0</td>\n",
              "      <td>0</td>\n",
              "      <td>0</td>\n",
              "      <td>0</td>\n",
              "      <td>0</td>\n",
              "      <td>0</td>\n",
              "      <td>0</td>\n",
              "      <td>0</td>\n",
              "      <td>0</td>\n",
              "      <td>0</td>\n",
              "      <td>0</td>\n",
              "      <td>1</td>\n",
              "      <td>0</td>\n",
              "      <td>0</td>\n",
              "      <td>0</td>\n",
              "      <td>0</td>\n",
              "      <td>1</td>\n",
              "      <td>0</td>\n",
              "      <td>0</td>\n",
              "      <td>0</td>\n",
              "      <td>0</td>\n",
              "      <td>0</td>\n",
              "      <td>1</td>\n",
              "      <td>0</td>\n",
              "      <td>0</td>\n",
              "      <td>0</td>\n",
              "      <td>0</td>\n",
              "      <td>0</td>\n",
              "      <td>0</td>\n",
              "      <td>0</td>\n",
              "      <td>0</td>\n",
              "      <td>0</td>\n",
              "      <td>0</td>\n",
              "      <td>0</td>\n",
              "      <td>0</td>\n",
              "      <td>0</td>\n",
              "      <td>0</td>\n",
              "      <td>0</td>\n",
              "      <td>0</td>\n",
              "      <td>0</td>\n",
              "      <td>0</td>\n",
              "      <td>1</td>\n",
              "      <td>0</td>\n",
              "      <td>0</td>\n",
              "      <td>0</td>\n",
              "      <td>0</td>\n",
              "      <td>0</td>\n",
              "      <td>0</td>\n",
              "      <td>0</td>\n",
              "      <td>0</td>\n",
              "      <td>0</td>\n",
              "    </tr>\n",
              "    <tr>\n",
              "      <th>1694</th>\n",
              "      <td>1</td>\n",
              "      <td>0</td>\n",
              "      <td>0</td>\n",
              "      <td>0</td>\n",
              "      <td>0</td>\n",
              "      <td>0</td>\n",
              "      <td>0</td>\n",
              "      <td>1</td>\n",
              "      <td>0</td>\n",
              "      <td>0</td>\n",
              "      <td>0</td>\n",
              "      <td>0</td>\n",
              "      <td>0</td>\n",
              "      <td>1</td>\n",
              "      <td>0</td>\n",
              "      <td>0</td>\n",
              "      <td>0</td>\n",
              "      <td>0</td>\n",
              "      <td>0</td>\n",
              "      <td>0</td>\n",
              "      <td>0</td>\n",
              "      <td>0</td>\n",
              "      <td>0</td>\n",
              "      <td>0</td>\n",
              "      <td>0</td>\n",
              "      <td>0</td>\n",
              "      <td>0</td>\n",
              "      <td>0</td>\n",
              "      <td>0</td>\n",
              "      <td>1</td>\n",
              "      <td>0</td>\n",
              "      <td>0</td>\n",
              "      <td>0</td>\n",
              "      <td>0</td>\n",
              "      <td>0</td>\n",
              "      <td>0</td>\n",
              "      <td>0</td>\n",
              "      <td>1</td>\n",
              "      <td>0</td>\n",
              "      <td>0</td>\n",
              "      <td>0</td>\n",
              "      <td>0</td>\n",
              "      <td>1</td>\n",
              "      <td>0</td>\n",
              "      <td>0</td>\n",
              "      <td>0</td>\n",
              "      <td>0</td>\n",
              "      <td>0</td>\n",
              "      <td>0</td>\n",
              "      <td>0</td>\n",
              "      <td>0</td>\n",
              "      <td>0</td>\n",
              "      <td>1</td>\n",
              "      <td>0</td>\n",
              "      <td>0</td>\n",
              "      <td>0</td>\n",
              "      <td>0</td>\n",
              "      <td>0</td>\n",
              "      <td>0</td>\n",
              "      <td>0</td>\n",
              "      <td>0</td>\n",
              "      <td>0</td>\n",
              "      <td>0</td>\n",
              "      <td>0</td>\n",
              "      <td>0</td>\n",
              "      <td>0</td>\n",
              "      <td>0</td>\n",
              "      <td>0</td>\n",
              "      <td>0</td>\n",
              "      <td>0</td>\n",
              "      <td>0</td>\n",
              "      <td>1</td>\n",
              "      <td>0</td>\n",
              "      <td>0</td>\n",
              "      <td>0</td>\n",
              "    </tr>\n",
              "  </tbody>\n",
              "</table>\n",
              "</div>"
            ],
            "text/plain": [
              "      Y  Grade1  Grade2  ...  RoundRIT240  RoundRIT250  RoundRIT260\n",
              "1690  1       0       0  ...            0            0            0\n",
              "1691  1       0       0  ...            0            0            0\n",
              "1692  1       0       0  ...            0            0            0\n",
              "1693  1       0       0  ...            0            0            0\n",
              "1694  1       0       0  ...            0            0            0\n",
              "\n",
              "[5 rows x 75 columns]"
            ]
          },
          "metadata": {
            "tags": []
          },
          "execution_count": 72
        }
      ]
    },
    {
      "cell_type": "code",
      "metadata": {
        "id": "5w4r-vTKLyEs",
        "colab_type": "code",
        "outputId": "d6fcbf46-5484-45fb-a5d1-3345149b68cc",
        "colab": {
          "base_uri": "https://localhost:8080/",
          "height": 695
        }
      },
      "source": [
        "import numpy as np\n",
        "pp.corr_matrix(read)"
      ],
      "execution_count": 43,
      "outputs": [
        {
          "output_type": "display_data",
          "data": {
            "image/png": "[encoded data removed]",
            "text/plain": [
              "<Figure size 720x576 with 2 Axes>"
            ]
          },
          "metadata": {
            "tags": []
          }
        }
      ]
    },
    {
      "cell_type": "markdown",
      "metadata": {
        "id": "3KG_IXaxBMlx",
        "colab_type": "text"
      },
      "source": [
        "# Machine Learning"
      ]
    },
    {
      "cell_type": "code",
      "metadata": {
        "id": "5pAPdlYnqybo",
        "colab_type": "code",
        "colab": {
          "base_uri": "https://localhost:8080/",
          "height": 51
        },
        "outputId": "228beee6-c1a1-4b2b-c2bc-00edd9a4ad06"
      },
      "source": [
        "# Finding Base Probability of Default in math\n",
        "print ('Prob of Default')\n",
        "print ( math['Y'].sum()/math.shape[0])"
      ],
      "execution_count": 99,
      "outputs": [
        {
          "output_type": "stream",
          "text": [
            "Prob of Default\n",
            "0.436529933481153\n"
          ],
          "name": "stdout"
        }
      ]
    },
    {
      "cell_type": "markdown",
      "metadata": {
        "id": "wQJKz__XUPOc",
        "colab_type": "text"
      },
      "source": [
        "For math"
      ]
    },
    {
      "cell_type": "code",
      "metadata": {
        "id": "lcqQsoBqPS2-",
        "colab_type": "code",
        "colab": {}
      },
      "source": [
        "indepv = list(math.columns)\n",
        "indepv.remove('Y')"
      ],
      "execution_count": 0,
      "outputs": []
    },
    {
      "cell_type": "code",
      "metadata": {
        "id": "8lL1pmdDbgo_",
        "colab_type": "code",
        "outputId": "c6ead72c-0f36-4de4-b55d-75adf1077ec6",
        "colab": {
          "base_uri": "https://localhost:8080/",
          "height": 68
        }
      },
      "source": [
        "md.TermName.unique()"
      ],
      "execution_count": 74,
      "outputs": [
        {
          "output_type": "execute_result",
          "data": {
            "text/plain": [
              "array(['Winter 2012-2013', 'Winter 2011-2012', 'Winter 2018-2019',\n",
              "       'Winter 2017-2018', 'Winter 2013-2014', 'Winter 2014-2015',\n",
              "       'Winter 2015-2016', 'Winter 2016-2017'], dtype=object)"
            ]
          },
          "metadata": {
            "tags": []
          },
          "execution_count": 74
        }
      ]
    },
    {
      "cell_type": "code",
      "metadata": {
        "id": "EIRuhaX4xpK3",
        "colab_type": "code",
        "colab": {}
      },
      "source": [
        "from sklearn.model_selection import train_test_split\n",
        "x = math[indepv]\n",
        "y = math['Y']  "
      ],
      "execution_count": 0,
      "outputs": []
    },
    {
      "cell_type": "code",
      "metadata": {
        "id": "hW7DcGcMbUWQ",
        "colab_type": "code",
        "colab": {}
      },
      "source": [
        "x_train = x[(md.TermName=='Winter 2017-2018')|(md.TermName=='Winter 2016-2017')|(md.TermName=='Winter 2015-2016')]\n",
        "y_train = y[(md.TermName=='Winter 2017-2018')|(md.TermName=='Winter 2016-2017')|(md.TermName=='Winter 2015-2016')]\n",
        "x_test = x[md.TermName=='Winter 2018-2019']\n",
        "y_test = y[md.TermName=='Winter 2018-2019']"
      ],
      "execution_count": 0,
      "outputs": []
    },
    {
      "cell_type": "code",
      "metadata": {
        "id": "r4NQ3dwvbpnm",
        "colab_type": "code",
        "outputId": "e0912e43-177a-455a-d833-0d4f20bbccb3",
        "colab": {
          "base_uri": "https://localhost:8080/",
          "height": 34
        }
      },
      "source": [
        "x_test.shape"
      ],
      "execution_count": 79,
      "outputs": [
        {
          "output_type": "execute_result",
          "data": {
            "text/plain": [
              "(2284, 74)"
            ]
          },
          "metadata": {
            "tags": []
          },
          "execution_count": 79
        }
      ]
    },
    {
      "cell_type": "code",
      "metadata": {
        "id": "dM0kpBrXblhr",
        "colab_type": "code",
        "outputId": "065613cd-8c74-4167-9145-da7053eed758",
        "colab": {
          "base_uri": "https://localhost:8080/",
          "height": 34
        }
      },
      "source": [
        "x_train.shape"
      ],
      "execution_count": 80,
      "outputs": [
        {
          "output_type": "execute_result",
          "data": {
            "text/plain": [
              "(5144, 74)"
            ]
          },
          "metadata": {
            "tags": []
          },
          "execution_count": 80
        }
      ]
    },
    {
      "cell_type": "code",
      "metadata": {
        "id": "7LRlA9Osk3bS",
        "colab_type": "code",
        "colab": {}
      },
      "source": [
        "results = final.clf_loop([\"RF\",'Bag','Boost', 'ET', 'KNN','SVM'], x_train, x_test, y_train, y_test)"
      ],
      "execution_count": 0,
      "outputs": []
    },
    {
      "cell_type": "code",
      "metadata": {
        "id": "SI5OYn2rlD15",
        "colab_type": "code",
        "colab": {
          "base_uri": "https://localhost:8080/",
          "height": 235
        },
        "outputId": "d73f01a0-adb2-4dd1-f091-2bdbbf402144"
      },
      "source": [
        "best = final.best_grid(results)"
      ],
      "execution_count": 89,
      "outputs": [
        {
          "output_type": "display_data",
          "data": {
            "text/html": [
              "<div>\n",
              "<style scoped>\n",
              "    .dataframe tbody tr th:only-of-type {\n",
              "        vertical-align: middle;\n",
              "    }\n",
              "\n",
              "    .dataframe tbody tr th {\n",
              "        vertical-align: top;\n",
              "    }\n",
              "\n",
              "    .dataframe thead th {\n",
              "        text-align: right;\n",
              "    }\n",
              "</style>\n",
              "<table border=\"1\" class=\"dataframe\">\n",
              "  <thead>\n",
              "    <tr style=\"text-align: right;\">\n",
              "      <th></th>\n",
              "      <th>model_type</th>\n",
              "      <th>parameters</th>\n",
              "      <th>accuracy</th>\n",
              "      <th>auc-roc</th>\n",
              "      <th>precision</th>\n",
              "      <th>time</th>\n",
              "    </tr>\n",
              "  </thead>\n",
              "  <tbody>\n",
              "    <tr>\n",
              "      <th>30</th>\n",
              "      <td>Bag</td>\n",
              "      <td>{'max_features': 10, 'max_samples': 10, 'n_est...</td>\n",
              "      <td>0.591944</td>\n",
              "      <td>0.600230</td>\n",
              "      <td>0.516086</td>\n",
              "      <td>0.048553</td>\n",
              "    </tr>\n",
              "    <tr>\n",
              "      <th>35</th>\n",
              "      <td>Boost</td>\n",
              "      <td>{'algorithm': 'SAMME', 'n_estimators': 1000}</td>\n",
              "      <td>0.629597</td>\n",
              "      <td>0.660435</td>\n",
              "      <td>0.550960</td>\n",
              "      <td>6.514663</td>\n",
              "    </tr>\n",
              "    <tr>\n",
              "      <th>42</th>\n",
              "      <td>ET</td>\n",
              "      <td>{'criterion': 'gini', 'max_depth': 5, 'max_fea...</td>\n",
              "      <td>0.642732</td>\n",
              "      <td>0.670589</td>\n",
              "      <td>0.562836</td>\n",
              "      <td>0.317187</td>\n",
              "    </tr>\n",
              "    <tr>\n",
              "      <th>76</th>\n",
              "      <td>KNN</td>\n",
              "      <td>{'algorithm': 'auto', 'n_neighbors': 50, 'weig...</td>\n",
              "      <td>0.587128</td>\n",
              "      <td>0.641854</td>\n",
              "      <td>0.530179</td>\n",
              "      <td>3.929637</td>\n",
              "    </tr>\n",
              "    <tr>\n",
              "      <th>6</th>\n",
              "      <td>RF</td>\n",
              "      <td>{'max_depth': 5, 'max_features': 'log2', 'min_...</td>\n",
              "      <td>0.639229</td>\n",
              "      <td>0.668881</td>\n",
              "      <td>0.567275</td>\n",
              "      <td>0.039073</td>\n",
              "    </tr>\n",
              "    <tr>\n",
              "      <th>78</th>\n",
              "      <td>SVM</td>\n",
              "      <td>{'C': 0.01, 'kernel': 'linear'}</td>\n",
              "      <td>0.616462</td>\n",
              "      <td>0.653157</td>\n",
              "      <td>0.530792</td>\n",
              "      <td>15.973677</td>\n",
              "    </tr>\n",
              "  </tbody>\n",
              "</table>\n",
              "</div>"
            ],
            "text/plain": [
              "   model_type  ...       time\n",
              "30        Bag  ...   0.048553\n",
              "35      Boost  ...   6.514663\n",
              "42         ET  ...   0.317187\n",
              "76        KNN  ...   3.929637\n",
              "6          RF  ...   0.039073\n",
              "78        SVM  ...  15.973677\n",
              "\n",
              "[6 rows x 6 columns]"
            ]
          },
          "metadata": {
            "tags": []
          }
        }
      ]
    },
    {
      "cell_type": "code",
      "metadata": {
        "id": "K5ZkJicES1ht",
        "colab_type": "code",
        "colab": {
          "base_uri": "https://localhost:8080/",
          "height": 80
        },
        "outputId": "b19cef08-35c4-431f-96d7-fd6819e490bb"
      },
      "source": [
        "results = final.clf_loop(['ET'], x_train, x_test, y_train, y_test)\n",
        "best = final.best_grid(results)"
      ],
      "execution_count": 438,
      "outputs": [
        {
          "output_type": "display_data",
          "data": {
            "text/html": [
              "<div>\n",
              "<style scoped>\n",
              "    .dataframe tbody tr th:only-of-type {\n",
              "        vertical-align: middle;\n",
              "    }\n",
              "\n",
              "    .dataframe tbody tr th {\n",
              "        vertical-align: top;\n",
              "    }\n",
              "\n",
              "    .dataframe thead th {\n",
              "        text-align: right;\n",
              "    }\n",
              "</style>\n",
              "<table border=\"1\" class=\"dataframe\">\n",
              "  <thead>\n",
              "    <tr style=\"text-align: right;\">\n",
              "      <th></th>\n",
              "      <th>model_type</th>\n",
              "      <th>parameters</th>\n",
              "      <th>accuracy</th>\n",
              "      <th>auc-roc</th>\n",
              "      <th>precision</th>\n",
              "      <th>time</th>\n",
              "    </tr>\n",
              "  </thead>\n",
              "  <tbody>\n",
              "    <tr>\n",
              "      <th>2</th>\n",
              "      <td>ET</td>\n",
              "      <td>{'criterion': 'gini', 'max_depth': 5, 'max_fea...</td>\n",
              "      <td>0.651051</td>\n",
              "      <td>0.668564</td>\n",
              "      <td>0.560251</td>\n",
              "      <td>0.319423</td>\n",
              "    </tr>\n",
              "  </tbody>\n",
              "</table>\n",
              "</div>"
            ],
            "text/plain": [
              "  model_type  ...      time\n",
              "2         ET  ...  0.319423\n",
              "\n",
              "[1 rows x 6 columns]"
            ]
          },
          "metadata": {
            "tags": []
          }
        }
      ]
    },
    {
      "cell_type": "code",
      "metadata": {
        "id": "cEd4dQaElJR9",
        "colab_type": "code",
        "colab": {
          "base_uri": "https://localhost:8080/",
          "height": 847
        },
        "outputId": "4f022e85-967d-41f0-815c-3563122a83a3"
      },
      "source": [
        "final.feature_importance(x_train, y_train, best, \"ET\", 20)"
      ],
      "execution_count": 91,
      "outputs": [
        {
          "output_type": "stream",
          "text": [
            "Feature ranking for Y\n",
            "1. Grade7 (0.156028)\n",
            "2. RoundRIT230 (0.108841)\n",
            "3. WtWCGI(-10.770999999999999, -1.03] (0.068942)\n",
            "4. WtWCGI(1.04, 13.54] (0.067544)\n",
            "5. Grade3 (0.062311)\n",
            "6. TestPercentile95 (0.046335)\n",
            "7. RoundRIT240 (0.039389)\n",
            "8. TestPercentile5 (0.033828)\n",
            "9. FtWCGI(-8.901, -1.15] (0.030962)\n",
            "10. RoundRIT260 (0.029800)\n",
            "11. RoundRIT190 (0.027911)\n",
            "12. Grade2 (0.024874)\n",
            "13. RoundRIT200 (0.021174)\n",
            "14. Grade1 (0.020452)\n",
            "15. TestPercentile10 (0.019322)\n",
            "16. WtWCGI(-1.03, -0.3] (0.018162)\n",
            "17. SchoolNameWest Belden (0.015749)\n",
            "18. WtWCGI(0.32, 1.04] (0.014996)\n",
            "19. WtWCGI(-0.3, 0.32] (0.013724)\n",
            "20. Grade8 (0.012367)\n"
          ],
          "name": "stdout"
        },
        {
          "output_type": "display_data",
          "data": {
            "image/png": "[encoded data removed]",
            "text/plain": [
              "<Figure size 432x288 with 1 Axes>"
            ]
          },
          "metadata": {
            "tags": []
          }
        }
      ]
    },
    {
      "cell_type": "markdown",
      "metadata": {
        "id": "Qhtj0kc9UcLp",
        "colab_type": "text"
      },
      "source": [
        "For reading\n"
      ]
    },
    {
      "cell_type": "code",
      "metadata": {
        "id": "IfO5NF4QqwFr",
        "colab_type": "code",
        "colab": {
          "base_uri": "https://localhost:8080/",
          "height": 51
        },
        "outputId": "1b803753-0dda-40db-b9de-1ba9432c28af"
      },
      "source": [
        "# Finding Base Probability of Default in Reading\n",
        "print ('Prob of Default')\n",
        "print ( read['Y'].sum()/read.shape[0])"
      ],
      "execution_count": 98,
      "outputs": [
        {
          "output_type": "stream",
          "text": [
            "Prob of Default\n",
            "0.3958578652074531\n"
          ],
          "name": "stdout"
        }
      ]
    },
    {
      "cell_type": "code",
      "metadata": {
        "id": "vJSHpV6SUdVA",
        "colab_type": "code",
        "colab": {}
      },
      "source": [
        "indepv = list(read.columns)\n",
        "indepv.remove('Y')"
      ],
      "execution_count": 0,
      "outputs": []
    },
    {
      "cell_type": "code",
      "metadata": {
        "id": "Aoy2CzJ3Uezx",
        "colab_type": "code",
        "colab": {}
      },
      "source": [
        "xr = read[indepv]\n",
        "yr = read['Y']  "
      ],
      "execution_count": 0,
      "outputs": []
    },
    {
      "cell_type": "code",
      "metadata": {
        "id": "ReI6gzwzUnXY",
        "colab_type": "code",
        "colab": {}
      },
      "source": [
        "x_trainr = xr[(rd.TermName=='Winter 2017-2018')|(rd.TermName=='Winter 2016-2017')|(rd.TermName=='Winter 2015-2016')]\n",
        "y_trainr = yr[(rd.TermName=='Winter 2017-2018')|(rd.TermName=='Winter 2016-2017')|(rd.TermName=='Winter 2015-2016')]\n",
        "x_testr = xr[rd.TermName=='Winter 2018-2019']\n",
        "y_testr = yr[rd.TermName=='Winter 2018-2019']"
      ],
      "execution_count": 0,
      "outputs": []
    },
    {
      "cell_type": "code",
      "metadata": {
        "id": "ipwD-a7spkIF",
        "colab_type": "code",
        "colab": {}
      },
      "source": [
        "resultr = final.clf_loop([\"RF\",'Bag','Boost', 'ET', 'KNN','SVM'], x_trainr, x_testr, y_trainr, y_testr)"
      ],
      "execution_count": 0,
      "outputs": []
    },
    {
      "cell_type": "code",
      "metadata": {
        "id": "m2qxgKMrqJvX",
        "colab_type": "code",
        "colab": {
          "base_uri": "https://localhost:8080/",
          "height": 235
        },
        "outputId": "cd866cba-c37d-45ee-a77c-ef4e65f444a6"
      },
      "source": [
        "bestr = final.best_grid(resultr)"
      ],
      "execution_count": 97,
      "outputs": [
        {
          "output_type": "display_data",
          "data": {
            "text/html": [
              "<div>\n",
              "<style scoped>\n",
              "    .dataframe tbody tr th:only-of-type {\n",
              "        vertical-align: middle;\n",
              "    }\n",
              "\n",
              "    .dataframe tbody tr th {\n",
              "        vertical-align: top;\n",
              "    }\n",
              "\n",
              "    .dataframe thead th {\n",
              "        text-align: right;\n",
              "    }\n",
              "</style>\n",
              "<table border=\"1\" class=\"dataframe\">\n",
              "  <thead>\n",
              "    <tr style=\"text-align: right;\">\n",
              "      <th></th>\n",
              "      <th>model_type</th>\n",
              "      <th>parameters</th>\n",
              "      <th>accuracy</th>\n",
              "      <th>auc-roc</th>\n",
              "      <th>precision</th>\n",
              "      <th>time</th>\n",
              "    </tr>\n",
              "  </thead>\n",
              "  <tbody>\n",
              "    <tr>\n",
              "      <th>31</th>\n",
              "      <td>Bag</td>\n",
              "      <td>{'max_features': 10, 'max_samples': 10, 'n_est...</td>\n",
              "      <td>0.626632</td>\n",
              "      <td>0.614182</td>\n",
              "      <td>0.449488</td>\n",
              "      <td>0.117871</td>\n",
              "    </tr>\n",
              "    <tr>\n",
              "      <th>35</th>\n",
              "      <td>Boost</td>\n",
              "      <td>{'algorithm': 'SAMME', 'n_estimators': 1000}</td>\n",
              "      <td>0.664926</td>\n",
              "      <td>0.678873</td>\n",
              "      <td>0.566876</td>\n",
              "      <td>6.559833</td>\n",
              "    </tr>\n",
              "    <tr>\n",
              "      <th>61</th>\n",
              "      <td>ET</td>\n",
              "      <td>{'criterion': 'entropy', 'max_depth': 5, 'max_...</td>\n",
              "      <td>0.667972</td>\n",
              "      <td>0.686431</td>\n",
              "      <td>0.575062</td>\n",
              "      <td>0.456237</td>\n",
              "    </tr>\n",
              "    <tr>\n",
              "      <th>76</th>\n",
              "      <td>KNN</td>\n",
              "      <td>{'algorithm': 'auto', 'n_neighbors': 50, 'weig...</td>\n",
              "      <td>0.642733</td>\n",
              "      <td>0.669569</td>\n",
              "      <td>0.551595</td>\n",
              "      <td>3.934413</td>\n",
              "    </tr>\n",
              "    <tr>\n",
              "      <th>5</th>\n",
              "      <td>RF</td>\n",
              "      <td>{'max_depth': 5, 'max_features': 'log2', 'min_...</td>\n",
              "      <td>0.670583</td>\n",
              "      <td>0.685743</td>\n",
              "      <td>0.570459</td>\n",
              "      <td>0.323587</td>\n",
              "    </tr>\n",
              "    <tr>\n",
              "      <th>78</th>\n",
              "      <td>SVM</td>\n",
              "      <td>{'C': 0.01, 'kernel': 'linear'}</td>\n",
              "      <td>0.659704</td>\n",
              "      <td>0.663127</td>\n",
              "      <td>0.532401</td>\n",
              "      <td>15.103263</td>\n",
              "    </tr>\n",
              "  </tbody>\n",
              "</table>\n",
              "</div>"
            ],
            "text/plain": [
              "   model_type  ...       time\n",
              "31        Bag  ...   0.117871\n",
              "35      Boost  ...   6.559833\n",
              "61         ET  ...   0.456237\n",
              "76        KNN  ...   3.934413\n",
              "5          RF  ...   0.323587\n",
              "78        SVM  ...  15.103263\n",
              "\n",
              "[6 rows x 6 columns]"
            ]
          },
          "metadata": {
            "tags": []
          }
        }
      ]
    },
    {
      "cell_type": "code",
      "metadata": {
        "id": "ra-A7pkQQAa-",
        "colab_type": "code",
        "colab": {}
      },
      "source": [
        "resultr = final.clf_loop([ 'ET'], x_trainr, x_testr, y_trainr, y_testr)"
      ],
      "execution_count": 0,
      "outputs": []
    },
    {
      "cell_type": "code",
      "metadata": {
        "id": "WL8X2VyQP3TR",
        "colab_type": "code",
        "colab": {
          "base_uri": "https://localhost:8080/",
          "height": 80
        },
        "outputId": "419dea74-5c4f-451f-a7ad-f29dc59df24e"
      },
      "source": [
        "bestr = final.best_grid(resultr)"
      ],
      "execution_count": 392,
      "outputs": [
        {
          "output_type": "display_data",
          "data": {
            "text/html": [
              "<div>\n",
              "<style scoped>\n",
              "    .dataframe tbody tr th:only-of-type {\n",
              "        vertical-align: middle;\n",
              "    }\n",
              "\n",
              "    .dataframe tbody tr th {\n",
              "        vertical-align: top;\n",
              "    }\n",
              "\n",
              "    .dataframe thead th {\n",
              "        text-align: right;\n",
              "    }\n",
              "</style>\n",
              "<table border=\"1\" class=\"dataframe\">\n",
              "  <thead>\n",
              "    <tr style=\"text-align: right;\">\n",
              "      <th></th>\n",
              "      <th>model_type</th>\n",
              "      <th>parameters</th>\n",
              "      <th>accuracy</th>\n",
              "      <th>auc-roc</th>\n",
              "      <th>precision</th>\n",
              "      <th>time</th>\n",
              "    </tr>\n",
              "  </thead>\n",
              "  <tbody>\n",
              "    <tr>\n",
              "      <th>22</th>\n",
              "      <td>ET</td>\n",
              "      <td>{'criterion': 'entropy', 'max_depth': 5, 'max_...</td>\n",
              "      <td>0.678851</td>\n",
              "      <td>0.693725</td>\n",
              "      <td>0.572654</td>\n",
              "      <td>0.317445</td>\n",
              "    </tr>\n",
              "  </tbody>\n",
              "</table>\n",
              "</div>"
            ],
            "text/plain": [
              "   model_type  ...      time\n",
              "22         ET  ...  0.317445\n",
              "\n",
              "[1 rows x 6 columns]"
            ]
          },
          "metadata": {
            "tags": []
          }
        }
      ]
    },
    {
      "cell_type": "code",
      "metadata": {
        "id": "B4dRr_eWs4ry",
        "colab_type": "code",
        "colab": {
          "base_uri": "https://localhost:8080/",
          "height": 847
        },
        "outputId": "90f66fe6-a7ee-4eb2-8792-ff7ca822baac"
      },
      "source": [
        "final.feature_importance(x_trainr, y_trainr, bestr, \"ET\", 20)"
      ],
      "execution_count": 100,
      "outputs": [
        {
          "output_type": "stream",
          "text": [
            "Feature ranking for Y\n",
            "1. WtWCGI(-10.770999999999999, -1.03] (0.102576)\n",
            "2. Grade3 (0.082155)\n",
            "3. Grade7 (0.071205)\n",
            "4. RoundRIT230 (0.071123)\n",
            "5. RoundRIT160 (0.054071)\n",
            "6. WtWCGI(1.04, 13.54] (0.048393)\n",
            "7. TestPercentile0 (0.047510)\n",
            "8. RoundRIT240 (0.043629)\n",
            "9. SchoolNamePrairie (0.040982)\n",
            "10. TestPercentile85 (0.034108)\n",
            "11. TestPercentile5 (0.033771)\n",
            "12. FtWCGI(-8.901, -1.15] (0.022899)\n",
            "13. RoundRIT220 (0.020482)\n",
            "14. RoundRIT250 (0.018031)\n",
            "15. TestPercentile90 (0.017795)\n",
            "16. Grade4 (0.017338)\n",
            "17. TestPercentile80 (0.016066)\n",
            "18. TestPercentile95 (0.013597)\n",
            "19. WtWCGI(0.32, 1.04] (0.011321)\n",
            "20. TestPercentile20 (0.011212)\n"
          ],
          "name": "stdout"
        },
        {
          "output_type": "display_data",
          "data": {
            "image/png": "[encoded data removed]",
            "text/plain": [
              "<Figure size 432x288 with 1 Axes>"
            ]
          },
          "metadata": {
            "tags": []
          }
        }
      ]
    },
    {
      "cell_type": "code",
      "metadata": {
        "id": "GvBphNjBuHIz",
        "colab_type": "code",
        "colab": {
          "base_uri": "https://localhost:8080/",
          "height": 255
        },
        "outputId": "cb7e4614-fbc6-48de-b530-ecdfc9f76dd7"
      },
      "source": [
        "bestr"
      ],
      "execution_count": 104,
      "outputs": [
        {
          "output_type": "execute_result",
          "data": {
            "text/plain": [
              "{'Bag': {'max_features': [10], 'max_samples': [10], 'n_estimators': [50]},\n",
              " 'Boost': {'algorithm': ['SAMME'], 'n_estimators': [1000]},\n",
              " 'ET': {'criterion': ['entropy'],\n",
              "  'max_depth': [5],\n",
              "  'max_features': ['log2'],\n",
              "  'min_samples_split': [2],\n",
              "  'n_estimators': [100],\n",
              "  'n_jobs': [-1]},\n",
              " 'KNN': {'algorithm': ['auto'], 'n_neighbors': [50], 'weights': ['uniform']},\n",
              " 'RF': {'max_depth': [5],\n",
              "  'max_features': ['log2'],\n",
              "  'min_samples_split': [2],\n",
              "  'n_estimators': [100]},\n",
              " 'SVM': {'C': [0.01], 'kernel': ['linear']}}"
            ]
          },
          "metadata": {
            "tags": []
          },
          "execution_count": 104
        }
      ]
    },
    {
      "cell_type": "code",
      "metadata": {
        "id": "DEbTNfm7thHi",
        "colab_type": "code",
        "colab": {}
      },
      "source": [
        "def Predicting(x_train,  y_train, test, grid):\n",
        "    models = []\n",
        "    for row in grid:\n",
        "        models.append(row)\n",
        "        \n",
        "    for index, clf in enumerate([clfs[x] for x in models]):\n",
        "        model_params = grid[models[index]]\n",
        "        for p in ParameterGrid(model_params):\n",
        "                clf.set_params(**p)\n",
        "    rv = clf.fit(x_train, y_train).predict_proba(test)[:,1]\n",
        "                  \n",
        "    return rv"
      ],
      "execution_count": 0,
      "outputs": []
    },
    {
      "cell_type": "markdown",
      "metadata": {
        "id": "P_T8GKDy879W",
        "colab_type": "text"
      },
      "source": [
        "# Testing different threshold"
      ]
    },
    {
      "cell_type": "code",
      "metadata": {
        "id": "5frQ5yF5vB51",
        "colab_type": "code",
        "colab": {}
      },
      "source": [
        "from final import *"
      ],
      "execution_count": 0,
      "outputs": []
    },
    {
      "cell_type": "code",
      "metadata": {
        "id": "cmzTbyXiTZ92",
        "colab_type": "code",
        "colab": {}
      },
      "source": [
        "predy =Predicting(x_train, y_train, x_test, best)"
      ],
      "execution_count": 0,
      "outputs": []
    },
    {
      "cell_type": "code",
      "metadata": {
        "id": "ooDnA2ezTd3p",
        "colab_type": "code",
        "colab": {
          "base_uri": "https://localhost:8080/",
          "height": 34
        },
        "outputId": "7f225f12-ff8f-4622-9a7f-425b6325d785"
      },
      "source": [
        "predy.min()"
      ],
      "execution_count": 469,
      "outputs": [
        {
          "output_type": "execute_result",
          "data": {
            "text/plain": [
              "0.1991283056118709"
            ]
          },
          "metadata": {
            "tags": []
          },
          "execution_count": 469
        }
      ]
    },
    {
      "cell_type": "code",
      "metadata": {
        "id": "wOpNjpCRTgjo",
        "colab_type": "code",
        "colab": {}
      },
      "source": [
        "My =pd.DataFrame(predy, columns=['pred'])"
      ],
      "execution_count": 0,
      "outputs": []
    },
    {
      "cell_type": "code",
      "metadata": {
        "id": "xLA_N1aNTmD-",
        "colab_type": "code",
        "colab": {}
      },
      "source": [
        "#bin the waittime by 10 categories\n",
        "My['bin']=pd.cut(My['pred'], bins=BINS, labels = LABELS)"
      ],
      "execution_count": 0,
      "outputs": []
    },
    {
      "cell_type": "code",
      "metadata": {
        "id": "XmUxpTPfTsKb",
        "colab_type": "code",
        "colab": {}
      },
      "source": [
        "true_y = md[md.TermName=='Winter 2018-2019']"
      ],
      "execution_count": 0,
      "outputs": []
    },
    {
      "cell_type": "code",
      "metadata": {
        "id": "c4DHbXqzUHxl",
        "colab_type": "code",
        "colab": {
          "base_uri": "https://localhost:8080/",
          "height": 204
        },
        "outputId": "0176852b-55b7-4cbd-c4e0-6e0921d22723"
      },
      "source": [
        "true_y.head()"
      ],
      "execution_count": 452,
      "outputs": [
        {
          "output_type": "execute_result",
          "data": {
            "text/html": [
              "<div>\n",
              "<style scoped>\n",
              "    .dataframe tbody tr th:only-of-type {\n",
              "        vertical-align: middle;\n",
              "    }\n",
              "\n",
              "    .dataframe tbody tr th {\n",
              "        vertical-align: top;\n",
              "    }\n",
              "\n",
              "    .dataframe thead th {\n",
              "        text-align: right;\n",
              "    }\n",
              "</style>\n",
              "<table border=\"1\" class=\"dataframe\">\n",
              "  <thead>\n",
              "    <tr style=\"text-align: right;\">\n",
              "      <th></th>\n",
              "      <th>SpringtoSpringConditionalGrowthPercentile</th>\n",
              "      <th>Y</th>\n",
              "    </tr>\n",
              "  </thead>\n",
              "  <tbody>\n",
              "    <tr>\n",
              "      <th>2362</th>\n",
              "      <td>9.0</td>\n",
              "      <td>1</td>\n",
              "    </tr>\n",
              "    <tr>\n",
              "      <th>2363</th>\n",
              "      <td>21.0</td>\n",
              "      <td>1</td>\n",
              "    </tr>\n",
              "    <tr>\n",
              "      <th>2364</th>\n",
              "      <td>1.0</td>\n",
              "      <td>1</td>\n",
              "    </tr>\n",
              "    <tr>\n",
              "      <th>2365</th>\n",
              "      <td>3.0</td>\n",
              "      <td>1</td>\n",
              "    </tr>\n",
              "    <tr>\n",
              "      <th>2366</th>\n",
              "      <td>7.0</td>\n",
              "      <td>1</td>\n",
              "    </tr>\n",
              "  </tbody>\n",
              "</table>\n",
              "</div>"
            ],
            "text/plain": [
              "      SpringtoSpringConditionalGrowthPercentile  Y\n",
              "2362                                        9.0  1\n",
              "2363                                       21.0  1\n",
              "2364                                        1.0  1\n",
              "2365                                        3.0  1\n",
              "2366                                        7.0  1"
            ]
          },
          "metadata": {
            "tags": []
          },
          "execution_count": 452
        }
      ]
    },
    {
      "cell_type": "code",
      "metadata": {
        "id": "oPqaNrHtT5jK",
        "colab_type": "code",
        "colab": {}
      },
      "source": [
        "true_y =true_y[['SpringtoSpringConditionalGrowthPercentile', 'Y']]"
      ],
      "execution_count": 0,
      "outputs": []
    },
    {
      "cell_type": "code",
      "metadata": {
        "id": "VumlCZVATyQg",
        "colab_type": "code",
        "colab": {}
      },
      "source": [
        "#bins pred_y by 10% of the data\n",
        "PBINS = [0,10,20,30,40,50,60,70,80,90,100]\n",
        "LABELS = range(10)\n",
        "#bin the waittime by 10 categories\n",
        "true_y['Sbin']=pd.cut(true_y['SpringtoSpringConditionalGrowthPercentile'], bins=PBINS, labels = LABELS)"
      ],
      "execution_count": 0,
      "outputs": []
    },
    {
      "cell_type": "code",
      "metadata": {
        "id": "qcCs4rzTUAXn",
        "colab_type": "code",
        "colab": {}
      },
      "source": [
        "true_y=true_y.reset_index(drop=True)"
      ],
      "execution_count": 0,
      "outputs": []
    },
    {
      "cell_type": "code",
      "metadata": {
        "id": "-GWt_5MzUCK-",
        "colab_type": "code",
        "colab": {
          "base_uri": "https://localhost:8080/",
          "height": 204
        },
        "outputId": "a5814900-897a-4248-a9f8-1fa181a1af31"
      },
      "source": [
        "true_y.head()"
      ],
      "execution_count": 466,
      "outputs": [
        {
          "output_type": "execute_result",
          "data": {
            "text/html": [
              "<div>\n",
              "<style scoped>\n",
              "    .dataframe tbody tr th:only-of-type {\n",
              "        vertical-align: middle;\n",
              "    }\n",
              "\n",
              "    .dataframe tbody tr th {\n",
              "        vertical-align: top;\n",
              "    }\n",
              "\n",
              "    .dataframe thead th {\n",
              "        text-align: right;\n",
              "    }\n",
              "</style>\n",
              "<table border=\"1\" class=\"dataframe\">\n",
              "  <thead>\n",
              "    <tr style=\"text-align: right;\">\n",
              "      <th></th>\n",
              "      <th>SpringtoSpringConditionalGrowthPercentile</th>\n",
              "      <th>Y</th>\n",
              "      <th>Sbin</th>\n",
              "    </tr>\n",
              "  </thead>\n",
              "  <tbody>\n",
              "    <tr>\n",
              "      <th>0</th>\n",
              "      <td>9.0</td>\n",
              "      <td>1</td>\n",
              "      <td>0</td>\n",
              "    </tr>\n",
              "    <tr>\n",
              "      <th>1</th>\n",
              "      <td>21.0</td>\n",
              "      <td>1</td>\n",
              "      <td>2</td>\n",
              "    </tr>\n",
              "    <tr>\n",
              "      <th>2</th>\n",
              "      <td>1.0</td>\n",
              "      <td>1</td>\n",
              "      <td>0</td>\n",
              "    </tr>\n",
              "    <tr>\n",
              "      <th>3</th>\n",
              "      <td>3.0</td>\n",
              "      <td>1</td>\n",
              "      <td>0</td>\n",
              "    </tr>\n",
              "    <tr>\n",
              "      <th>4</th>\n",
              "      <td>7.0</td>\n",
              "      <td>1</td>\n",
              "      <td>0</td>\n",
              "    </tr>\n",
              "  </tbody>\n",
              "</table>\n",
              "</div>"
            ],
            "text/plain": [
              "   SpringtoSpringConditionalGrowthPercentile  Y Sbin\n",
              "0                                        9.0  1    0\n",
              "1                                       21.0  1    2\n",
              "2                                        1.0  1    0\n",
              "3                                        3.0  1    0\n",
              "4                                        7.0  1    0"
            ]
          },
          "metadata": {
            "tags": []
          },
          "execution_count": 466
        }
      ]
    },
    {
      "cell_type": "code",
      "metadata": {
        "id": "qvVhk-LGVdTf",
        "colab_type": "code",
        "colab": {}
      },
      "source": [
        "My = pd.concat([My, true_y], axis=1)"
      ],
      "execution_count": 0,
      "outputs": []
    },
    {
      "cell_type": "code",
      "metadata": {
        "id": "GyBzJxhFVohK",
        "colab_type": "code",
        "colab": {
          "base_uri": "https://localhost:8080/",
          "height": 204
        },
        "outputId": "b5964a04-8f62-4d03-930d-185830a357bb"
      },
      "source": [
        "My.head()"
      ],
      "execution_count": 468,
      "outputs": [
        {
          "output_type": "execute_result",
          "data": {
            "text/html": [
              "<div>\n",
              "<style scoped>\n",
              "    .dataframe tbody tr th:only-of-type {\n",
              "        vertical-align: middle;\n",
              "    }\n",
              "\n",
              "    .dataframe tbody tr th {\n",
              "        vertical-align: top;\n",
              "    }\n",
              "\n",
              "    .dataframe thead th {\n",
              "        text-align: right;\n",
              "    }\n",
              "</style>\n",
              "<table border=\"1\" class=\"dataframe\">\n",
              "  <thead>\n",
              "    <tr style=\"text-align: right;\">\n",
              "      <th></th>\n",
              "      <th>pred</th>\n",
              "      <th>bin</th>\n",
              "      <th>SpringtoSpringConditionalGrowthPercentile</th>\n",
              "      <th>Y</th>\n",
              "      <th>Sbin</th>\n",
              "    </tr>\n",
              "  </thead>\n",
              "  <tbody>\n",
              "    <tr>\n",
              "      <th>0</th>\n",
              "      <td>0.573303</td>\n",
              "      <td>5</td>\n",
              "      <td>9.0</td>\n",
              "      <td>1</td>\n",
              "      <td>0</td>\n",
              "    </tr>\n",
              "    <tr>\n",
              "      <th>1</th>\n",
              "      <td>0.497057</td>\n",
              "      <td>4</td>\n",
              "      <td>21.0</td>\n",
              "      <td>1</td>\n",
              "      <td>2</td>\n",
              "    </tr>\n",
              "    <tr>\n",
              "      <th>2</th>\n",
              "      <td>0.543478</td>\n",
              "      <td>5</td>\n",
              "      <td>1.0</td>\n",
              "      <td>1</td>\n",
              "      <td>0</td>\n",
              "    </tr>\n",
              "    <tr>\n",
              "      <th>3</th>\n",
              "      <td>0.530652</td>\n",
              "      <td>5</td>\n",
              "      <td>3.0</td>\n",
              "      <td>1</td>\n",
              "      <td>0</td>\n",
              "    </tr>\n",
              "    <tr>\n",
              "      <th>4</th>\n",
              "      <td>0.516866</td>\n",
              "      <td>5</td>\n",
              "      <td>7.0</td>\n",
              "      <td>1</td>\n",
              "      <td>0</td>\n",
              "    </tr>\n",
              "  </tbody>\n",
              "</table>\n",
              "</div>"
            ],
            "text/plain": [
              "       pred bin  SpringtoSpringConditionalGrowthPercentile  Y Sbin\n",
              "0  0.573303   5                                        9.0  1    0\n",
              "1  0.497057   4                                       21.0  1    2\n",
              "2  0.543478   5                                        1.0  1    0\n",
              "3  0.530652   5                                        3.0  1    0\n",
              "4  0.516866   5                                        7.0  1    0"
            ]
          },
          "metadata": {
            "tags": []
          },
          "execution_count": 468
        }
      ]
    },
    {
      "cell_type": "code",
      "metadata": {
        "id": "Vx-61w2AVq9C",
        "colab_type": "code",
        "colab": {
          "base_uri": "https://localhost:8080/",
          "height": 255
        },
        "outputId": "ad4db116-73dc-4498-f7fd-0863647dc438"
      },
      "source": [
        "My['pred']= np.where(predy>= .4, 1, 0)\n",
        "print(confusion_matrix(My['Y'], My['pred'])) \n",
        "print('Accuracy Score :')\n",
        "print(accuracy_score(My['Y'], My['pred']) )\n",
        "print('Report :' )\n",
        "print(classification_report(My['Y'], My['pred']))"
      ],
      "execution_count": 470,
      "outputs": [
        {
          "output_type": "stream",
          "text": [
            "[[ 305 1062]\n",
            " [  80  837]]\n",
            "Accuracy Score :\n",
            "0.5\n",
            "Report :\n",
            "              precision    recall  f1-score   support\n",
            "\n",
            "           0       0.79      0.22      0.35      1367\n",
            "           1       0.44      0.91      0.59       917\n",
            "\n",
            "    accuracy                           0.50      2284\n",
            "   macro avg       0.62      0.57      0.47      2284\n",
            "weighted avg       0.65      0.50      0.45      2284\n",
            "\n"
          ],
          "name": "stdout"
        }
      ]
    },
    {
      "cell_type": "code",
      "metadata": {
        "id": "oATapgFDWMWp",
        "colab_type": "code",
        "colab": {
          "base_uri": "https://localhost:8080/",
          "height": 255
        },
        "outputId": "3327b8b9-5d14-48dc-8c04-b24406126e9f"
      },
      "source": [
        "My['pred']= np.where(predy>= .42, 1, 0)\n",
        "print(confusion_matrix(My['Y'], My['pred'])) \n",
        "print('Accuracy Score :')\n",
        "print(accuracy_score(My['Y'], My['pred']) )\n",
        "print('Report :' )\n",
        "print(classification_report(My['Y'], My['pred']))"
      ],
      "execution_count": 474,
      "outputs": [
        {
          "output_type": "stream",
          "text": [
            "[[470 897]\n",
            " [142 775]]\n",
            "Accuracy Score :\n",
            "0.5450963222416813\n",
            "Report :\n",
            "              precision    recall  f1-score   support\n",
            "\n",
            "           0       0.77      0.34      0.47      1367\n",
            "           1       0.46      0.85      0.60       917\n",
            "\n",
            "    accuracy                           0.55      2284\n",
            "   macro avg       0.62      0.59      0.54      2284\n",
            "weighted avg       0.65      0.55      0.52      2284\n",
            "\n"
          ],
          "name": "stdout"
        }
      ]
    },
    {
      "cell_type": "code",
      "metadata": {
        "id": "PVamDrqDVrM3",
        "colab_type": "code",
        "colab": {
          "base_uri": "https://localhost:8080/",
          "height": 255
        },
        "outputId": "02abcbf6-672d-4d9d-b59c-541ed075e80d"
      },
      "source": [
        "My['pred']= np.where(predy>= .35, 1, 0)\n",
        "print(confusion_matrix(My['Y'], My['pred'])) \n",
        "print('Accuracy Score :')\n",
        "print(accuracy_score(My['Y'], My['pred']) )\n",
        "print('Report :' )\n",
        "print(classification_report(My['Y'], My['pred']))"
      ],
      "execution_count": 472,
      "outputs": [
        {
          "output_type": "stream",
          "text": [
            "[[ 114 1253]\n",
            " [  14  903]]\n",
            "Accuracy Score :\n",
            "0.44527145359019266\n",
            "Report :\n",
            "              precision    recall  f1-score   support\n",
            "\n",
            "           0       0.89      0.08      0.15      1367\n",
            "           1       0.42      0.98      0.59       917\n",
            "\n",
            "    accuracy                           0.45      2284\n",
            "   macro avg       0.65      0.53      0.37      2284\n",
            "weighted avg       0.70      0.45      0.33      2284\n",
            "\n"
          ],
          "name": "stdout"
        }
      ]
    },
    {
      "cell_type": "markdown",
      "metadata": {
        "id": "w1np3nQIWIIj",
        "colab_type": "text"
      },
      "source": [
        "Reading"
      ]
    },
    {
      "cell_type": "code",
      "metadata": {
        "id": "rasNQ5mLtW3F",
        "colab_type": "code",
        "colab": {}
      },
      "source": [
        "pred_y =Predicting(x_trainr, y_trainr, x_testr, bestr)"
      ],
      "execution_count": 0,
      "outputs": []
    },
    {
      "cell_type": "code",
      "metadata": {
        "id": "mEi3SAIiwNem",
        "colab_type": "code",
        "colab": {
          "base_uri": "https://localhost:8080/",
          "height": 51
        },
        "outputId": "73e5da89-3fa9-46f0-ffe5-8650bd2200da"
      },
      "source": [
        "pred_y"
      ],
      "execution_count": 425,
      "outputs": [
        {
          "output_type": "execute_result",
          "data": {
            "text/plain": [
              "array([0.52257251, 0.46288064, 0.3932089 , ..., 0.49792087, 0.35623408,\n",
              "       0.39965456])"
            ]
          },
          "metadata": {
            "tags": []
          },
          "execution_count": 425
        }
      ]
    },
    {
      "cell_type": "code",
      "metadata": {
        "id": "tYFT-0atvIjd",
        "colab_type": "code",
        "colab": {}
      },
      "source": [
        "py =pd.DataFrame(pred_y, columns=['pred'])"
      ],
      "execution_count": 0,
      "outputs": []
    },
    {
      "cell_type": "code",
      "metadata": {
        "id": "aQaW_GFSwa5g",
        "colab_type": "code",
        "colab": {
          "base_uri": "https://localhost:8080/",
          "height": 204
        },
        "outputId": "c16edc75-d9af-475f-9e46-7adf180def62"
      },
      "source": [
        "py.head()"
      ],
      "execution_count": 427,
      "outputs": [
        {
          "output_type": "execute_result",
          "data": {
            "text/html": [
              "<div>\n",
              "<style scoped>\n",
              "    .dataframe tbody tr th:only-of-type {\n",
              "        vertical-align: middle;\n",
              "    }\n",
              "\n",
              "    .dataframe tbody tr th {\n",
              "        vertical-align: top;\n",
              "    }\n",
              "\n",
              "    .dataframe thead th {\n",
              "        text-align: right;\n",
              "    }\n",
              "</style>\n",
              "<table border=\"1\" class=\"dataframe\">\n",
              "  <thead>\n",
              "    <tr style=\"text-align: right;\">\n",
              "      <th></th>\n",
              "      <th>pred</th>\n",
              "    </tr>\n",
              "  </thead>\n",
              "  <tbody>\n",
              "    <tr>\n",
              "      <th>0</th>\n",
              "      <td>0.522573</td>\n",
              "    </tr>\n",
              "    <tr>\n",
              "      <th>1</th>\n",
              "      <td>0.462881</td>\n",
              "    </tr>\n",
              "    <tr>\n",
              "      <th>2</th>\n",
              "      <td>0.393209</td>\n",
              "    </tr>\n",
              "    <tr>\n",
              "      <th>3</th>\n",
              "      <td>0.529018</td>\n",
              "    </tr>\n",
              "    <tr>\n",
              "      <th>4</th>\n",
              "      <td>0.476215</td>\n",
              "    </tr>\n",
              "  </tbody>\n",
              "</table>\n",
              "</div>"
            ],
            "text/plain": [
              "       pred\n",
              "0  0.522573\n",
              "1  0.462881\n",
              "2  0.393209\n",
              "3  0.529018\n",
              "4  0.476215"
            ]
          },
          "metadata": {
            "tags": []
          },
          "execution_count": 427
        }
      ]
    },
    {
      "cell_type": "code",
      "metadata": {
        "colab_type": "code",
        "id": "J0gMecprU1Yy",
        "colab": {}
      },
      "source": [
        "true_yr = rd[rd.TermName=='Winter 2018-2019']"
      ],
      "execution_count": 0,
      "outputs": []
    },
    {
      "cell_type": "code",
      "metadata": {
        "id": "trUf6DEsIZKZ",
        "colab_type": "code",
        "colab": {}
      },
      "source": [
        "#bins pred_y by 10% of the data\n",
        "\n",
        "BINS = [0,.1,.2,.3,.4,.5,.6,.7,.8,.9,1]\n",
        "#bin the waittime by 10 categories\n",
        "true_yr['Sbin']=pd.cut(true_yr['SpringtoSpringConditionalGrowthPercentile'], bins=BINS, labels = LABELS)"
      ],
      "execution_count": 0,
      "outputs": []
    },
    {
      "cell_type": "code",
      "metadata": {
        "id": "QpZdzlylJ5LT",
        "colab_type": "code",
        "colab": {}
      },
      "source": [
        "true_yr =true_yr[['SpringtoSpringConditionalGrowthPercentile', 'Y','Sbin']]"
      ],
      "execution_count": 0,
      "outputs": []
    },
    {
      "cell_type": "code",
      "metadata": {
        "id": "5PlnobxP3mBp",
        "colab_type": "code",
        "colab": {}
      },
      "source": [
        "true_yr=true_yr.reset_index(drop=True)"
      ],
      "execution_count": 0,
      "outputs": []
    },
    {
      "cell_type": "code",
      "metadata": {
        "id": "9NiFSV7u30Wt",
        "colab_type": "code",
        "colab": {
          "base_uri": "https://localhost:8080/",
          "height": 204
        },
        "outputId": "2cc7da9e-b311-4f33-ea7e-5e3dbe47a935"
      },
      "source": [
        "true_yr.head()"
      ],
      "execution_count": 460,
      "outputs": [
        {
          "output_type": "execute_result",
          "data": {
            "text/html": [
              "<div>\n",
              "<style scoped>\n",
              "    .dataframe tbody tr th:only-of-type {\n",
              "        vertical-align: middle;\n",
              "    }\n",
              "\n",
              "    .dataframe tbody tr th {\n",
              "        vertical-align: top;\n",
              "    }\n",
              "\n",
              "    .dataframe thead th {\n",
              "        text-align: right;\n",
              "    }\n",
              "</style>\n",
              "<table border=\"1\" class=\"dataframe\">\n",
              "  <thead>\n",
              "    <tr style=\"text-align: right;\">\n",
              "      <th></th>\n",
              "      <th>SpringtoSpringConditionalGrowthPercentile</th>\n",
              "      <th>Y</th>\n",
              "      <th>Sbin</th>\n",
              "    </tr>\n",
              "  </thead>\n",
              "  <tbody>\n",
              "    <tr>\n",
              "      <th>0</th>\n",
              "      <td>15.0</td>\n",
              "      <td>1</td>\n",
              "      <td>1</td>\n",
              "    </tr>\n",
              "    <tr>\n",
              "      <th>1</th>\n",
              "      <td>2.0</td>\n",
              "      <td>1</td>\n",
              "      <td>0</td>\n",
              "    </tr>\n",
              "    <tr>\n",
              "      <th>2</th>\n",
              "      <td>15.0</td>\n",
              "      <td>1</td>\n",
              "      <td>1</td>\n",
              "    </tr>\n",
              "    <tr>\n",
              "      <th>3</th>\n",
              "      <td>1.0</td>\n",
              "      <td>1</td>\n",
              "      <td>0</td>\n",
              "    </tr>\n",
              "    <tr>\n",
              "      <th>4</th>\n",
              "      <td>4.0</td>\n",
              "      <td>1</td>\n",
              "      <td>0</td>\n",
              "    </tr>\n",
              "  </tbody>\n",
              "</table>\n",
              "</div>"
            ],
            "text/plain": [
              "   SpringtoSpringConditionalGrowthPercentile  Y Sbin\n",
              "0                                       15.0  1    1\n",
              "1                                        2.0  1    0\n",
              "2                                       15.0  1    1\n",
              "3                                        1.0  1    0\n",
              "4                                        4.0  1    0"
            ]
          },
          "metadata": {
            "tags": []
          },
          "execution_count": 460
        }
      ]
    },
    {
      "cell_type": "code",
      "metadata": {
        "id": "oSC4WbcRz9Zl",
        "colab_type": "code",
        "colab": {}
      },
      "source": [
        "py = pd.concat([py, true_yr], axis=1)"
      ],
      "execution_count": 0,
      "outputs": []
    },
    {
      "cell_type": "code",
      "metadata": {
        "id": "w3LKG3s6Q4W-",
        "colab_type": "code",
        "colab": {
          "base_uri": "https://localhost:8080/",
          "height": 51
        },
        "outputId": "3ad7d6cc-560f-41e7-ff55-d34249f017ba"
      },
      "source": [
        "pred_y"
      ],
      "execution_count": 415,
      "outputs": [
        {
          "output_type": "execute_result",
          "data": {
            "text/plain": [
              "array([0.52257251, 0.46288064, 0.3932089 , ..., 0.49792087, 0.35623408,\n",
              "       0.39965456])"
            ]
          },
          "metadata": {
            "tags": []
          },
          "execution_count": 415
        }
      ]
    },
    {
      "cell_type": "code",
      "metadata": {
        "id": "PFF49vdaKlcR",
        "colab_type": "code",
        "colab": {
          "base_uri": "https://localhost:8080/",
          "height": 204
        },
        "outputId": "d4eae811-ad6b-4978-a88d-033a61ab31c3"
      },
      "source": [
        "py.head()"
      ],
      "execution_count": 430,
      "outputs": [
        {
          "output_type": "execute_result",
          "data": {
            "text/html": [
              "<div>\n",
              "<style scoped>\n",
              "    .dataframe tbody tr th:only-of-type {\n",
              "        vertical-align: middle;\n",
              "    }\n",
              "\n",
              "    .dataframe tbody tr th {\n",
              "        vertical-align: top;\n",
              "    }\n",
              "\n",
              "    .dataframe thead th {\n",
              "        text-align: right;\n",
              "    }\n",
              "</style>\n",
              "<table border=\"1\" class=\"dataframe\">\n",
              "  <thead>\n",
              "    <tr style=\"text-align: right;\">\n",
              "      <th></th>\n",
              "      <th>pred</th>\n",
              "      <th>bin</th>\n",
              "      <th>SpringtoSpringConditionalGrowthPercentile</th>\n",
              "      <th>Y</th>\n",
              "      <th>Sbin</th>\n",
              "    </tr>\n",
              "  </thead>\n",
              "  <tbody>\n",
              "    <tr>\n",
              "      <th>0</th>\n",
              "      <td>0.522573</td>\n",
              "      <td>5</td>\n",
              "      <td>15.0</td>\n",
              "      <td>1</td>\n",
              "      <td>1</td>\n",
              "    </tr>\n",
              "    <tr>\n",
              "      <th>1</th>\n",
              "      <td>0.462881</td>\n",
              "      <td>4</td>\n",
              "      <td>2.0</td>\n",
              "      <td>1</td>\n",
              "      <td>0</td>\n",
              "    </tr>\n",
              "    <tr>\n",
              "      <th>2</th>\n",
              "      <td>0.393209</td>\n",
              "      <td>3</td>\n",
              "      <td>15.0</td>\n",
              "      <td>1</td>\n",
              "      <td>1</td>\n",
              "    </tr>\n",
              "    <tr>\n",
              "      <th>3</th>\n",
              "      <td>0.529018</td>\n",
              "      <td>5</td>\n",
              "      <td>1.0</td>\n",
              "      <td>1</td>\n",
              "      <td>0</td>\n",
              "    </tr>\n",
              "    <tr>\n",
              "      <th>4</th>\n",
              "      <td>0.476215</td>\n",
              "      <td>4</td>\n",
              "      <td>4.0</td>\n",
              "      <td>1</td>\n",
              "      <td>0</td>\n",
              "    </tr>\n",
              "  </tbody>\n",
              "</table>\n",
              "</div>"
            ],
            "text/plain": [
              "       pred bin  SpringtoSpringConditionalGrowthPercentile  Y Sbin\n",
              "0  0.522573   5                                       15.0  1    1\n",
              "1  0.462881   4                                        2.0  1    0\n",
              "2  0.393209   3                                       15.0  1    1\n",
              "3  0.529018   5                                        1.0  1    0\n",
              "4  0.476215   4                                        4.0  1    0"
            ]
          },
          "metadata": {
            "tags": []
          },
          "execution_count": 430
        }
      ]
    },
    {
      "cell_type": "code",
      "metadata": {
        "id": "OpH4gMNRRN5W",
        "colab_type": "code",
        "colab": {
          "base_uri": "https://localhost:8080/",
          "height": 34
        },
        "outputId": "751db5d1-09c3-4ecb-c3f4-2c4137ea79c0"
      },
      "source": [
        "pred_y.min()"
      ],
      "execution_count": 419,
      "outputs": [
        {
          "output_type": "execute_result",
          "data": {
            "text/plain": [
              "0.20287747524544733"
            ]
          },
          "metadata": {
            "tags": []
          },
          "execution_count": 419
        }
      ]
    },
    {
      "cell_type": "code",
      "metadata": {
        "id": "iTjQqeZ-FF7h",
        "colab_type": "code",
        "colab": {}
      },
      "source": [
        "#       Predict 0 1\n",
        "# Actual\n",
        "#   0\n",
        "#   1"
      ],
      "execution_count": 0,
      "outputs": []
    },
    {
      "cell_type": "code",
      "metadata": {
        "id": "m9el8E5E6hqq",
        "colab_type": "code",
        "colab": {}
      },
      "source": [
        "from sklearn.metrics import confusion_matrix\n",
        "from sklearn.metrics import accuracy_score \n",
        "from sklearn.metrics import classification_report "
      ],
      "execution_count": 0,
      "outputs": []
    },
    {
      "cell_type": "code",
      "metadata": {
        "id": "WmN8ZamtAJGP",
        "colab_type": "code",
        "colab": {
          "base_uri": "https://localhost:8080/",
          "height": 51
        },
        "outputId": "d6d4474c-fef2-484f-e0bd-e022a4a2c5a8"
      },
      "source": [
        "#Optimize for recall\n",
        "tn, fp, fn, tp = confusion_matrix(py['Y'], py['pred']).ravel()\n",
        "print('Recall :', tp/(fn+tp))\n",
        "print('Precision :', tp/(fp+tp))"
      ],
      "execution_count": 421,
      "outputs": [
        {
          "output_type": "stream",
          "text": [
            "Recall : 0.5495915985997666\n",
            "Precision : 0.521594684385382\n"
          ],
          "name": "stdout"
        }
      ]
    },
    {
      "cell_type": "code",
      "metadata": {
        "id": "oZuWDtWP8P4u",
        "colab_type": "code",
        "colab": {
          "base_uri": "https://localhost:8080/",
          "height": 255
        },
        "outputId": "81ebe562-3765-4741-ce15-0c4955913f5f"
      },
      "source": [
        "py['pred']= np.where(pred_y>= .4, 1, 0)\n",
        "print(confusion_matrix(py['Y'], py['pred'])) \n",
        "print('Accuracy Score :')\n",
        "print(accuracy_score(py['Y'], py['pred']) )\n",
        "print('Report :' )\n",
        "print(classification_report(py['Y'], py['pred']))"
      ],
      "execution_count": 431,
      "outputs": [
        {
          "output_type": "stream",
          "text": [
            "[[1009  432]\n",
            " [ 386  471]]\n",
            "Accuracy Score :\n",
            "0.6440382941688425\n",
            "Report :\n",
            "              precision    recall  f1-score   support\n",
            "\n",
            "           0       0.72      0.70      0.71      1441\n",
            "           1       0.52      0.55      0.54       857\n",
            "\n",
            "    accuracy                           0.64      2298\n",
            "   macro avg       0.62      0.62      0.62      2298\n",
            "weighted avg       0.65      0.64      0.65      2298\n",
            "\n"
          ],
          "name": "stdout"
        }
      ]
    },
    {
      "cell_type": "code",
      "metadata": {
        "id": "lHZrJHmO7BK2",
        "colab_type": "code",
        "colab": {
          "base_uri": "https://localhost:8080/",
          "height": 255
        },
        "outputId": "8b117b32-46fa-4997-f0d6-015fcb229ed9"
      },
      "source": [
        "py['pred']= np.where(pred_y>= .3, 1, 0)\n",
        "print(confusion_matrix(py['Y'], py['pred'])) \n",
        "print('Accuracy Score :')\n",
        "print(accuracy_score(py['Y'], py['pred']) )\n",
        "print('Report :' )\n",
        "print(classification_report(py['Y'], py['pred']))"
      ],
      "execution_count": 432,
      "outputs": [
        {
          "output_type": "stream",
          "text": [
            "[[ 162 1279]\n",
            " [  32  825]]\n",
            "Accuracy Score :\n",
            "0.42950391644908614\n",
            "Report :\n",
            "              precision    recall  f1-score   support\n",
            "\n",
            "           0       0.84      0.11      0.20      1441\n",
            "           1       0.39      0.96      0.56       857\n",
            "\n",
            "    accuracy                           0.43      2298\n",
            "   macro avg       0.61      0.54      0.38      2298\n",
            "weighted avg       0.67      0.43      0.33      2298\n",
            "\n"
          ],
          "name": "stdout"
        }
      ]
    },
    {
      "cell_type": "code",
      "metadata": {
        "id": "RvBcVddUSCWQ",
        "colab_type": "code",
        "colab": {
          "base_uri": "https://localhost:8080/",
          "height": 255
        },
        "outputId": "929376fe-26e2-4968-e844-0b2ae36af489"
      },
      "source": [
        "py['pred']= np.where(pred_y>= .28, 1, 0)\n",
        "print(confusion_matrix(py['Y'], py['pred'])) \n",
        "print('Accuracy Score :')\n",
        "print(accuracy_score(py['Y'], py['pred']) )\n",
        "print('Report :' )\n",
        "print(classification_report(py['Y'], py['pred']))"
      ],
      "execution_count": 435,
      "outputs": [
        {
          "output_type": "stream",
          "text": [
            "[[  93 1348]\n",
            " [  21  836]]\n",
            "Accuracy Score :\n",
            "0.4042645778938207\n",
            "Report :\n",
            "              precision    recall  f1-score   support\n",
            "\n",
            "           0       0.82      0.06      0.12      1441\n",
            "           1       0.38      0.98      0.55       857\n",
            "\n",
            "    accuracy                           0.40      2298\n",
            "   macro avg       0.60      0.52      0.33      2298\n",
            "weighted avg       0.65      0.40      0.28      2298\n",
            "\n"
          ],
          "name": "stdout"
        }
      ]
    },
    {
      "cell_type": "code",
      "metadata": {
        "id": "AJa8KPbnK6cN",
        "colab_type": "code",
        "colab": {
          "base_uri": "https://localhost:8080/",
          "height": 282
        },
        "outputId": "8b2f1abc-e895-4c3c-d34c-6ec9d309d1d1"
      },
      "source": [
        "py['Y'].value_counts().plot.bar()"
      ],
      "execution_count": 412,
      "outputs": [
        {
          "output_type": "execute_result",
          "data": {
            "text/plain": [
              "<matplotlib.axes._subplots.AxesSubplot at 0x7f6716f63f60>"
            ]
          },
          "metadata": {
            "tags": []
          },
          "execution_count": 412
        },
        {
          "output_type": "display_data",
          "data": {
            "image/png": "[encoded data removed]",
            "text/plain": [
              "<Figure size 432x288 with 1 Axes>"
            ]
          },
          "metadata": {
            "tags": []
          }
        }
      ]
    },
    {
      "cell_type": "code",
      "metadata": {
        "id": "O7QR-T8RxA7K",
        "colab_type": "code",
        "colab": {
          "base_uri": "https://localhost:8080/",
          "height": 282
        },
        "outputId": "10ad6791-fb6f-4ffa-ff29-e1a89cf61292"
      },
      "source": [
        "py['bin'].value_counts().plot.bar()"
      ],
      "execution_count": 411,
      "outputs": [
        {
          "output_type": "execute_result",
          "data": {
            "text/plain": [
              "<matplotlib.axes._subplots.AxesSubplot at 0x7f6716f27128>"
            ]
          },
          "metadata": {
            "tags": []
          },
          "execution_count": 411
        },
        {
          "output_type": "display_data",
          "data": {
            "image/png": "[encoded data removed]",
            "text/plain": [
              "<Figure size 432x288 with 1 Axes>"
            ]
          },
          "metadata": {
            "tags": []
          }
        }
      ]
    },
    {
      "cell_type": "markdown",
      "metadata": {
        "id": "S0wSj0SEsrQF",
        "colab_type": "text"
      },
      "source": [
        "#Previous code"
      ]
    },
    {
      "cell_type": "code",
      "metadata": {
        "id": "QpMFueXo0WZd",
        "colab_type": "code",
        "colab": {}
      },
      "source": [
        "def logit(x_train, x_test, y_train, y_test):\n",
        "    '''\n",
        "    Run logit regression and print out the scores for comparison\n",
        "    '''\n",
        "\n",
        "    # get train/test data\n",
        "     \n",
        "    log = linear_model.LogisticRegression()\n",
        "    log_model = log.fit(x_train, y_train)\n",
        "    predictions = log_model.predict(x_test)\n",
        "\n",
        "    # plot\n",
        "    plt.scatter(y_test, predictions)\n",
        "    plt.xlabel(\"True Values\")\n",
        "    plt.ylabel(\"Predictions\")\n",
        "    plt.axis()\n",
        "    plt.show()\n",
        "\n",
        "    print('Logit Score test + train:', log_model.score(x_test, y_test), log_model.score(x_train, y_train))"
      ],
      "execution_count": 0,
      "outputs": []
    },
    {
      "cell_type": "code",
      "metadata": {
        "colab_type": "code",
        "id": "yUkenq-cqSec",
        "colab": {}
      },
      "source": [
        "def feature_importance(x_train, y_train, clf, k=10):\n",
        "    '''\n",
        "    Based on the best grid for each classifer, print out the \n",
        "    top k important features\n",
        "    '''\n",
        "\n",
        "    indepv = list(x_train.columns)\n",
        "    importances = clf.feature_importances_\n",
        "    current_palette = sns.color_palette(sns.color_palette(\"cubehelix\", k))\n",
        "    \n",
        "    indices = np.argsort(importances)[::-1]\n",
        "    indices = indices[:k]\n",
        "\n",
        "    # Print the feature ranking\n",
        "    print(\"Feature ranking for %s\" % (y_train.name))\n",
        "\n",
        "    labels_arr = []\n",
        "    for f in range(len(indices)):\n",
        "        label = indepv[indices[f]]\n",
        "        labels_arr.append(label)\n",
        "        print(\"%d. %s (%f)\" % (f+1, label, importances[indices[f]]))\n",
        "\n",
        "    # Plot the feature importances of the forest\n",
        "    plt.figure()\n",
        "    plt.title(\"Feature importances for %s\" % (y_train.name))\n",
        "    plt.bar(range(len(indices)), importances[indices], align=\"center\", tick_label = labels_arr, color= current_palette)\n",
        "    plt.xlim([-1, len(indices)])\n",
        "    plt.xticks(range(len(indices)),labels_arr, rotation = 'vertical')\n",
        "    plt.show()\n",
        "    return"
      ],
      "execution_count": 0,
      "outputs": []
    },
    {
      "cell_type": "code",
      "metadata": {
        "id": "hys4F8FDz02e",
        "colab_type": "code",
        "colab": {}
      },
      "source": [
        "def rf(x_train, x_test, y_train, y_test):\n",
        "    '''\n",
        "    Generate the random forest model using existing dataset\n",
        "    Returns: (None)\n",
        "       Save the random forest model using pickle\n",
        "    \n",
        "    '''\n",
        "    rf_model = RandomForestClassifier(max_depth=5, max_features='log2', min_samples_split=10, n_estimators=10)\n",
        "    rf_model.fit(x_train, y_train)\n",
        "    predictions =  rf_model.predict(x_test)\n",
        "    # plot\n",
        "    plt.scatter(y_test, predictions)\n",
        "    plt.xlabel(\"True Values\")\n",
        "    plt.ylabel(\"Predictions\")\n",
        "    plt.axis()\n",
        "    plt.show()\n",
        "    print(rf_model)\n",
        "    print('RandomForest Score:',  rf_model.score(x_test, y_test),  rf_model.score(x_train, y_train))\n",
        "    return rf_model\n"
      ],
      "execution_count": 0,
      "outputs": []
    },
    {
      "cell_type": "code",
      "metadata": {
        "id": "T-dHkyXi1OTK",
        "colab_type": "code",
        "outputId": "bffcbca3-a12d-4338-9a7f-1243f9724b63",
        "colab": {
          "base_uri": "https://localhost:8080/",
          "height": 0
        }
      },
      "source": [
        "from sklearn import linear_model\n",
        "from sklearn.model_selection import train_test_split\n",
        "from sklearn.neighbors.kde import KernelDensity\n",
        "from sklearn.ensemble import RandomForestClassifier"
      ],
      "execution_count": 51,
      "outputs": [
        {
          "output_type": "stream",
          "text": [
            "/usr/local/lib/python3.6/dist-packages/sklearn/utils/deprecation.py:144: FutureWarning: The sklearn.neighbors.kde module is  deprecated in version 0.22 and will be removed in version 0.24. The corresponding classes / functions should instead be imported from sklearn.neighbors. Anything that cannot be imported from sklearn.neighbors is now part of the private API.\n",
            "  warnings.warn(message, FutureWarning)\n"
          ],
          "name": "stderr"
        }
      ]
    },
    {
      "cell_type": "code",
      "metadata": {
        "id": "5OF5LYmq1DAL",
        "colab_type": "code",
        "colab": {}
      },
      "source": [
        "def ols(x_train, x_test, y_train, y_test):\n",
        "    '''\n",
        "    Run ols regression and print out the scores for comparison\n",
        "    '''\n",
        "    # fit a OLS model\n",
        "    ols = linear_model.LinearRegression()\n",
        "    ols_model = ols.fit(x_train, y_train)\n",
        "    predictions = ols.predict(x_test)\n",
        "\n",
        "    # plot\n",
        "    plt.scatter(y_test, predictions)\n",
        "    plt.xlabel(\"True Values\")\n",
        "    plt.ylabel(\"Predictions\")\n",
        "    plt.axis()\n",
        "    plt.show()\n",
        "\n",
        "    print('OLS Score:', ols_model.score(x_test, y_test), ols_model.score(x_train, y_train))\n",
        "    #return predictions, x_test, y_test"
      ],
      "execution_count": 0,
      "outputs": []
    }
  ]
}