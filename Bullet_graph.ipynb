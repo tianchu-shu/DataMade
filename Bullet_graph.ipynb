{
  "nbformat": 4,
  "nbformat_minor": 0,
  "metadata": {
    "colab": {
      "name": "Bullet_graph.ipynb",
      "provenance": [],
      "collapsed_sections": []
    },
    "kernelspec": {
      "name": "python3",
      "display_name": "Python 3"
    }
  },
  "cells": [
    {
      "cell_type": "markdown",
      "metadata": {
        "id": "ksIZ5LjcZ5MV"
      },
      "source": [
        "https://pbpython.com/bullet-graph.html"
      ]
    },
    {
      "cell_type": "markdown",
      "metadata": {
        "id": "p_6M4WDFFYvX"
      },
      "source": [
        "# Load the data"
      ]
    },
    {
      "cell_type": "code",
      "metadata": {
        "id": "_NZGosC4bh4Q",
        "colab": {
          "base_uri": "https://localhost:8080/",
          "height": 34
        },
        "outputId": "e9e54934-bf50-42d3-e031-01d479f8a7c7"
      },
      "source": [
        "from google.colab import drive\n",
        "drive.mount('/content/gdrive')"
      ],
      "execution_count": null,
      "outputs": [
        {
          "output_type": "stream",
          "text": [
            "Drive already mounted at /content/gdrive; to attempt to forcibly remount, call drive.mount(\"/content/gdrive\", force_remount=True).\n"
          ],
          "name": "stdout"
        }
      ]
    },
    {
      "cell_type": "code",
      "metadata": {
        "id": "yCRc0uqChtFy",
        "colab": {
          "base_uri": "https://localhost:8080/",
          "height": 204
        },
        "outputId": "03f03eea-1eff-403f-f079-30dd3d1826c5"
      },
      "source": [
        "import pandas as pd\n",
        "import glob, os\n",
        "\n",
        "data_dir= '/content/gdrive/My Drive/'\n",
        "os.chdir(data_dir)\n",
        "filename = 'BulletChartMI.csv'\n",
        "\n",
        "df=pd.read_csv(filename)\n",
        "print(\"Column headings:\")\n",
        "print(df.columns)"
      ],
      "execution_count": null,
      "outputs": [
        {
          "output_type": "stream",
          "text": [
            "Column headings:\n",
            "Index(['StudentNumber', 'MatchID', 'StudentName', 'Campus', 'GradeLevel',\n",
            "       'Homeroom', 'Discipline', 'CoreTeacher', 'Gender', 'DLStatus',\n",
            "       'ELStatus', 'CurrentEL', 'Race', 'EcDis', 'W20GrowthGoal',\n",
            "       'W20TargetRIT', 'S20CRGrowthGoal', 'S20CRTargetRIT',\n",
            "       'S20TypicalGrowthGoal', 'S20TypicalTargetRIT', 'S19RIT', 'S19%ile',\n",
            "       'F19RIT', 'F19%ile', 'BaselineRIT', 'Baseline Percentile', 'W20RIT',\n",
            "       'W20%ile', 'W20CGP', 'BtoWChange', 'MetWinterGoal', 'NumberOfAbsences',\n",
            "       'AbsenceCategory', 'NumberOfDiscipline', 'Disciplinez-Score',\n",
            "       'DisciplineCategory'],\n",
            "      dtype='object')\n"
          ],
          "name": "stdout"
        }
      ]
    },
    {
      "cell_type": "code",
      "metadata": {
        "id": "PmSmI4ZBajMk"
      },
      "source": [
        "#Dropping the Michigan schools\n",
        "df.drop(df[df.Campus == '3146'].index, inplace=True)"
      ],
      "execution_count": null,
      "outputs": []
    },
    {
      "cell_type": "code",
      "metadata": {
        "id": "eX54A54Paq-o"
      },
      "source": [
        "df.drop(df[df.Campus == '3147'].index, inplace=True)"
      ],
      "execution_count": null,
      "outputs": []
    },
    {
      "cell_type": "code",
      "metadata": {
        "id": "1FqqCjeKFPsT",
        "colab": {
          "base_uri": "https://localhost:8080/",
          "height": 68
        },
        "outputId": "11d13584-a0be-42a3-d9a5-4bf4c95f3702"
      },
      "source": [
        "df.Campus.unique()"
      ],
      "execution_count": null,
      "outputs": [
        {
          "output_type": "execute_result",
          "data": {
            "text/plain": [
              "array(['Prairie', 'Bucktown', 'Irving Park', 'West Belden', 'Redford',\n",
              "       'Harper Woods', 'Art in Motion', 'Plymouth Educational Center'],\n",
              "      dtype=object)"
            ]
          },
          "metadata": {
            "tags": []
          },
          "execution_count": 5
        }
      ]
    },
    {
      "cell_type": "code",
      "metadata": {
        "id": "3lLAQwpyFL34"
      },
      "source": [
        "#Only keeping MI schools\n",
        "df=df[(df.Campus == 'Plymouth Educational Center')|(df.Campus == 'Redford')|(df.Campus == 'Harper Woods')]"
      ],
      "execution_count": null,
      "outputs": []
    },
    {
      "cell_type": "code",
      "metadata": {
        "id": "zqMqRaZsiZfk",
        "colab": {
          "base_uri": "https://localhost:8080/",
          "height": 411
        },
        "outputId": "caf02556-afff-482d-81d1-26b5df34297c"
      },
      "source": [
        "df.tail()"
      ],
      "execution_count": null,
      "outputs": [
        {
          "output_type": "execute_result",
          "data": {
            "text/html": [
              "<div>\n",
              "<style scoped>\n",
              "    .dataframe tbody tr th:only-of-type {\n",
              "        vertical-align: middle;\n",
              "    }\n",
              "\n",
              "    .dataframe tbody tr th {\n",
              "        vertical-align: top;\n",
              "    }\n",
              "\n",
              "    .dataframe thead th {\n",
              "        text-align: right;\n",
              "    }\n",
              "</style>\n",
              "<table border=\"1\" class=\"dataframe\">\n",
              "  <thead>\n",
              "    <tr style=\"text-align: right;\">\n",
              "      <th></th>\n",
              "      <th>StudentNumber</th>\n",
              "      <th>MatchID</th>\n",
              "      <th>StudentName</th>\n",
              "      <th>Campus</th>\n",
              "      <th>GradeLevel</th>\n",
              "      <th>Homeroom</th>\n",
              "      <th>Discipline</th>\n",
              "      <th>CoreTeacher</th>\n",
              "      <th>Gender</th>\n",
              "      <th>DLStatus</th>\n",
              "      <th>ELStatus</th>\n",
              "      <th>CurrentEL</th>\n",
              "      <th>Race</th>\n",
              "      <th>EcDis</th>\n",
              "      <th>W20GrowthGoal</th>\n",
              "      <th>W20TargetRIT</th>\n",
              "      <th>S20CRGrowthGoal</th>\n",
              "      <th>S20CRTargetRIT</th>\n",
              "      <th>S20TypicalGrowthGoal</th>\n",
              "      <th>S20TypicalTargetRIT</th>\n",
              "      <th>S19RIT</th>\n",
              "      <th>S19%ile</th>\n",
              "      <th>F19RIT</th>\n",
              "      <th>F19%ile</th>\n",
              "      <th>BaselineRIT</th>\n",
              "      <th>Baseline Percentile</th>\n",
              "      <th>W20RIT</th>\n",
              "      <th>W20%ile</th>\n",
              "      <th>W20CGP</th>\n",
              "      <th>BtoWChange</th>\n",
              "      <th>MetWinterGoal</th>\n",
              "      <th>NumberOfAbsences</th>\n",
              "      <th>AbsenceCategory</th>\n",
              "      <th>NumberOfDiscipline</th>\n",
              "      <th>Disciplinez-Score</th>\n",
              "      <th>DisciplineCategory</th>\n",
              "    </tr>\n",
              "  </thead>\n",
              "  <tbody>\n",
              "    <tr>\n",
              "      <th>6849</th>\n",
              "      <td>20007139</td>\n",
              "      <td>1041694567</td>\n",
              "      <td>Wright, Jamir</td>\n",
              "      <td>Plymouth Educational Center</td>\n",
              "      <td>K</td>\n",
              "      <td>Webster Q</td>\n",
              "      <td>Reading</td>\n",
              "      <td>Webster Q</td>\n",
              "      <td>M</td>\n",
              "      <td>No</td>\n",
              "      <td>Not EL</td>\n",
              "      <td>No</td>\n",
              "      <td>BLK</td>\n",
              "      <td>Yes</td>\n",
              "      <td>15.0</td>\n",
              "      <td>140.0</td>\n",
              "      <td>29.0</td>\n",
              "      <td>154.0</td>\n",
              "      <td>21.0</td>\n",
              "      <td>146.0</td>\n",
              "      <td>NaN</td>\n",
              "      <td>NaN</td>\n",
              "      <td>125.0</td>\n",
              "      <td>12.0</td>\n",
              "      <td>125.0</td>\n",
              "      <td>12.0</td>\n",
              "      <td>135.0</td>\n",
              "      <td>10.0</td>\n",
              "      <td>31.0</td>\n",
              "      <td>10.0</td>\n",
              "      <td>0.0</td>\n",
              "      <td>13.0</td>\n",
              "      <td>Chronic Absence</td>\n",
              "      <td>0</td>\n",
              "      <td>-0.384157</td>\n",
              "      <td>Fewer Incidents than Peers</td>\n",
              "    </tr>\n",
              "    <tr>\n",
              "      <th>6850</th>\n",
              "      <td>20006982</td>\n",
              "      <td>4357652840</td>\n",
              "      <td>Wright, Ja'Niya</td>\n",
              "      <td>Plymouth Educational Center</td>\n",
              "      <td>5th</td>\n",
              "      <td>Wright J</td>\n",
              "      <td>Reading</td>\n",
              "      <td>Wright J</td>\n",
              "      <td>F</td>\n",
              "      <td>No</td>\n",
              "      <td>Not EL</td>\n",
              "      <td>No</td>\n",
              "      <td>BLK</td>\n",
              "      <td>Yes</td>\n",
              "      <td>7.0</td>\n",
              "      <td>192.0</td>\n",
              "      <td>14.0</td>\n",
              "      <td>199.0</td>\n",
              "      <td>10.0</td>\n",
              "      <td>195.0</td>\n",
              "      <td>185.0</td>\n",
              "      <td>8.0</td>\n",
              "      <td>200.0</td>\n",
              "      <td>35.0</td>\n",
              "      <td>185.0</td>\n",
              "      <td>8.0</td>\n",
              "      <td>202.0</td>\n",
              "      <td>30.0</td>\n",
              "      <td>31.0</td>\n",
              "      <td>17.0</td>\n",
              "      <td>1.0</td>\n",
              "      <td>11.0</td>\n",
              "      <td>Chronic Absence</td>\n",
              "      <td>0</td>\n",
              "      <td>-0.384157</td>\n",
              "      <td>Fewer Incidents than Peers</td>\n",
              "    </tr>\n",
              "    <tr>\n",
              "      <th>6851</th>\n",
              "      <td>20007095</td>\n",
              "      <td>4115709587</td>\n",
              "      <td>Wright, Londyn</td>\n",
              "      <td>Plymouth Educational Center</td>\n",
              "      <td>K</td>\n",
              "      <td>Billingslea R</td>\n",
              "      <td>Reading</td>\n",
              "      <td>Billingslea R</td>\n",
              "      <td>F</td>\n",
              "      <td>No</td>\n",
              "      <td>Not EL</td>\n",
              "      <td>No</td>\n",
              "      <td>BLK</td>\n",
              "      <td>Yes</td>\n",
              "      <td>9.0</td>\n",
              "      <td>155.0</td>\n",
              "      <td>17.0</td>\n",
              "      <td>163.0</td>\n",
              "      <td>16.0</td>\n",
              "      <td>162.0</td>\n",
              "      <td>NaN</td>\n",
              "      <td>2.0</td>\n",
              "      <td>146.0</td>\n",
              "      <td>64.0</td>\n",
              "      <td>146.0</td>\n",
              "      <td>2.0</td>\n",
              "      <td>146.0</td>\n",
              "      <td>34.0</td>\n",
              "      <td>4.0</td>\n",
              "      <td>0.0</td>\n",
              "      <td>0.0</td>\n",
              "      <td>18.0</td>\n",
              "      <td>Severe Chronic Absence</td>\n",
              "      <td>0</td>\n",
              "      <td>-0.384157</td>\n",
              "      <td>Fewer Incidents than Peers</td>\n",
              "    </tr>\n",
              "    <tr>\n",
              "      <th>6852</th>\n",
              "      <td>20006963</td>\n",
              "      <td>5194906886</td>\n",
              "      <td>Wright, Madison</td>\n",
              "      <td>Plymouth Educational Center</td>\n",
              "      <td>1st</td>\n",
              "      <td>Strawder N</td>\n",
              "      <td>Reading</td>\n",
              "      <td>Strawder N</td>\n",
              "      <td>F</td>\n",
              "      <td>No</td>\n",
              "      <td>Not EL</td>\n",
              "      <td>No</td>\n",
              "      <td>BLK</td>\n",
              "      <td>Yes</td>\n",
              "      <td>9.0</td>\n",
              "      <td>176.0</td>\n",
              "      <td>18.0</td>\n",
              "      <td>185.0</td>\n",
              "      <td>18.0</td>\n",
              "      <td>185.0</td>\n",
              "      <td>167.0</td>\n",
              "      <td>78.0</td>\n",
              "      <td>165.0</td>\n",
              "      <td>63.0</td>\n",
              "      <td>167.0</td>\n",
              "      <td>78.0</td>\n",
              "      <td>157.0</td>\n",
              "      <td>14.0</td>\n",
              "      <td>1.0</td>\n",
              "      <td>-10.0</td>\n",
              "      <td>0.0</td>\n",
              "      <td>11.0</td>\n",
              "      <td>Chronic Absence</td>\n",
              "      <td>0</td>\n",
              "      <td>-0.384157</td>\n",
              "      <td>Fewer Incidents than Peers</td>\n",
              "    </tr>\n",
              "    <tr>\n",
              "      <th>6853</th>\n",
              "      <td>20007025</td>\n",
              "      <td>2462928580</td>\n",
              "      <td>Young, Erik</td>\n",
              "      <td>Plymouth Educational Center</td>\n",
              "      <td>8th</td>\n",
              "      <td>Hill S</td>\n",
              "      <td>Reading</td>\n",
              "      <td>Dean E</td>\n",
              "      <td>M</td>\n",
              "      <td>No</td>\n",
              "      <td>Not EL</td>\n",
              "      <td>No</td>\n",
              "      <td>BLK</td>\n",
              "      <td>Yes</td>\n",
              "      <td>2.0</td>\n",
              "      <td>226.0</td>\n",
              "      <td>3.0</td>\n",
              "      <td>227.0</td>\n",
              "      <td>2.0</td>\n",
              "      <td>226.0</td>\n",
              "      <td>NaN</td>\n",
              "      <td>NaN</td>\n",
              "      <td>224.0</td>\n",
              "      <td>67.0</td>\n",
              "      <td>224.0</td>\n",
              "      <td>67.0</td>\n",
              "      <td>221.0</td>\n",
              "      <td>55.0</td>\n",
              "      <td>24.0</td>\n",
              "      <td>-3.0</td>\n",
              "      <td>0.0</td>\n",
              "      <td>2.0</td>\n",
              "      <td>Strong Attendance</td>\n",
              "      <td>1</td>\n",
              "      <td>1.536626</td>\n",
              "      <td>More Incidents than Peers</td>\n",
              "    </tr>\n",
              "  </tbody>\n",
              "</table>\n",
              "</div>"
            ],
            "text/plain": [
              "      StudentNumber     MatchID  ... Disciplinez-Score          DisciplineCategory\n",
              "6849       20007139  1041694567  ...         -0.384157  Fewer Incidents than Peers\n",
              "6850       20006982  4357652840  ...         -0.384157  Fewer Incidents than Peers\n",
              "6851       20007095  4115709587  ...         -0.384157  Fewer Incidents than Peers\n",
              "6852       20006963  5194906886  ...         -0.384157  Fewer Incidents than Peers\n",
              "6853       20007025  2462928580  ...          1.536626   More Incidents than Peers\n",
              "\n",
              "[5 rows x 36 columns]"
            ]
          },
          "metadata": {
            "tags": []
          },
          "execution_count": 7
        }
      ]
    },
    {
      "cell_type": "code",
      "metadata": {
        "id": "m_abwyyJhf1V"
      },
      "source": [
        "keep = ['W20RIT','S20CRTargetRIT','F19RIT','W20TargetRIT','S20TypicalTargetRIT']"
      ],
      "execution_count": null,
      "outputs": []
    },
    {
      "cell_type": "code",
      "metadata": {
        "id": "KqRG8mU65eQk",
        "colab": {
          "base_uri": "https://localhost:8080/",
          "height": 235
        },
        "outputId": "b64ece8b-8d10-4641-b032-ab93cb273ef5"
      },
      "source": [
        "df.groupby(['Campus',\"Discipline\"], as_index=False)[keep].mean().round(1)"
      ],
      "execution_count": null,
      "outputs": [
        {
          "output_type": "execute_result",
          "data": {
            "text/html": [
              "<div>\n",
              "<style scoped>\n",
              "    .dataframe tbody tr th:only-of-type {\n",
              "        vertical-align: middle;\n",
              "    }\n",
              "\n",
              "    .dataframe tbody tr th {\n",
              "        vertical-align: top;\n",
              "    }\n",
              "\n",
              "    .dataframe thead th {\n",
              "        text-align: right;\n",
              "    }\n",
              "</style>\n",
              "<table border=\"1\" class=\"dataframe\">\n",
              "  <thead>\n",
              "    <tr style=\"text-align: right;\">\n",
              "      <th></th>\n",
              "      <th>Campus</th>\n",
              "      <th>Discipline</th>\n",
              "      <th>W20RIT</th>\n",
              "      <th>S20CRTargetRIT</th>\n",
              "      <th>F19RIT</th>\n",
              "      <th>W20TargetRIT</th>\n",
              "      <th>S20TypicalTargetRIT</th>\n",
              "    </tr>\n",
              "  </thead>\n",
              "  <tbody>\n",
              "    <tr>\n",
              "      <th>0</th>\n",
              "      <td>Harper Woods</td>\n",
              "      <td>Mathematics</td>\n",
              "      <td>178.9</td>\n",
              "      <td>191.4</td>\n",
              "      <td>170.2</td>\n",
              "      <td>182.6</td>\n",
              "      <td>188.3</td>\n",
              "    </tr>\n",
              "    <tr>\n",
              "      <th>1</th>\n",
              "      <td>Harper Woods</td>\n",
              "      <td>Reading</td>\n",
              "      <td>176.4</td>\n",
              "      <td>185.3</td>\n",
              "      <td>167.1</td>\n",
              "      <td>177.5</td>\n",
              "      <td>182.7</td>\n",
              "    </tr>\n",
              "    <tr>\n",
              "      <th>2</th>\n",
              "      <td>Plymouth Educational Center</td>\n",
              "      <td>Mathematics</td>\n",
              "      <td>185.8</td>\n",
              "      <td>198.9</td>\n",
              "      <td>181.8</td>\n",
              "      <td>190.9</td>\n",
              "      <td>194.8</td>\n",
              "    </tr>\n",
              "    <tr>\n",
              "      <th>3</th>\n",
              "      <td>Plymouth Educational Center</td>\n",
              "      <td>Reading</td>\n",
              "      <td>183.8</td>\n",
              "      <td>193.9</td>\n",
              "      <td>180.2</td>\n",
              "      <td>187.2</td>\n",
              "      <td>191.0</td>\n",
              "    </tr>\n",
              "    <tr>\n",
              "      <th>4</th>\n",
              "      <td>Redford</td>\n",
              "      <td>Mathematics</td>\n",
              "      <td>170.1</td>\n",
              "      <td>184.1</td>\n",
              "      <td>163.0</td>\n",
              "      <td>174.4</td>\n",
              "      <td>181.2</td>\n",
              "    </tr>\n",
              "    <tr>\n",
              "      <th>5</th>\n",
              "      <td>Redford</td>\n",
              "      <td>Reading</td>\n",
              "      <td>167.9</td>\n",
              "      <td>179.7</td>\n",
              "      <td>161.1</td>\n",
              "      <td>171.1</td>\n",
              "      <td>177.3</td>\n",
              "    </tr>\n",
              "  </tbody>\n",
              "</table>\n",
              "</div>"
            ],
            "text/plain": [
              "                        Campus   Discipline  ...  W20TargetRIT  S20TypicalTargetRIT\n",
              "0                 Harper Woods  Mathematics  ...         182.6                188.3\n",
              "1                 Harper Woods      Reading  ...         177.5                182.7\n",
              "2  Plymouth Educational Center  Mathematics  ...         190.9                194.8\n",
              "3  Plymouth Educational Center      Reading  ...         187.2                191.0\n",
              "4                      Redford  Mathematics  ...         174.4                181.2\n",
              "5                      Redford      Reading  ...         171.1                177.3\n",
              "\n",
              "[6 rows x 7 columns]"
            ]
          },
          "metadata": {
            "tags": []
          },
          "execution_count": 9
        }
      ]
    },
    {
      "cell_type": "code",
      "metadata": {
        "id": "9NhlfjykZibF"
      },
      "source": [
        "import matplotlib.pyplot as plt\n",
        "import seaborn as sns\n",
        "from matplotlib.ticker import FuncFormatter\n",
        "import numpy as np\n",
        "\n",
        "%matplotlib inline"
      ],
      "execution_count": null,
      "outputs": []
    },
    {
      "cell_type": "code",
      "metadata": {
        "id": "u7jK5o61Z3oV",
        "colab": {
          "base_uri": "https://localhost:8080/",
          "height": 89
        },
        "outputId": "821cede9-534f-4608-b962-efee02b5d8ee"
      },
      "source": [
        "#reading\n",
        "sns.palplot(sns.light_palette('#ef7521', 5))\n"
      ],
      "execution_count": null,
      "outputs": [
        {
          "output_type": "display_data",
          "data": {
            "image/png": "[encoded data removed]",
            "text/plain": [
              "<Figure size 360x72 with 1 Axes>"
            ]
          },
          "metadata": {
            "tags": []
          }
        }
      ]
    },
    {
      "cell_type": "code",
      "metadata": {
        "id": "dvZF8nn517a1",
        "colab": {
          "base_uri": "https://localhost:8080/",
          "height": 89
        },
        "outputId": "0e798be5-ae2d-4083-b220-b76f9a1a8874"
      },
      "source": [
        "#math\n",
        "sns.palplot(sns.light_palette('#b24ec4', 5))"
      ],
      "execution_count": null,
      "outputs": [
        {
          "output_type": "display_data",
          "data": {
            "image/png": "[encoded data removed]",
            "text/plain": [
              "<Figure size 360x72 with 1 Axes>"
            ]
          },
          "metadata": {
            "tags": []
          }
        }
      ]
    },
    {
      "cell_type": "markdown",
      "metadata": {
        "id": "c6bL9Hj07iCa"
      },
      "source": [
        "# Total Average for Distinctive Schools"
      ]
    },
    {
      "cell_type": "code",
      "metadata": {
        "id": "8lAgij0oDLHG",
        "colab": {
          "base_uri": "https://localhost:8080/",
          "height": 111
        },
        "outputId": "0ebf8f70-4ba2-475c-801e-fe53fa74c4bc"
      },
      "source": [
        "#Total math and reading mean for Distinctive Schools\n",
        "total = df.groupby([\"Discipline\"], as_index=False)[keep].mean().round(1)\n",
        "total"
      ],
      "execution_count": null,
      "outputs": [
        {
          "output_type": "execute_result",
          "data": {
            "text/html": [
              "<div>\n",
              "<style scoped>\n",
              "    .dataframe tbody tr th:only-of-type {\n",
              "        vertical-align: middle;\n",
              "    }\n",
              "\n",
              "    .dataframe tbody tr th {\n",
              "        vertical-align: top;\n",
              "    }\n",
              "\n",
              "    .dataframe thead th {\n",
              "        text-align: right;\n",
              "    }\n",
              "</style>\n",
              "<table border=\"1\" class=\"dataframe\">\n",
              "  <thead>\n",
              "    <tr style=\"text-align: right;\">\n",
              "      <th></th>\n",
              "      <th>Discipline</th>\n",
              "      <th>W20RIT</th>\n",
              "      <th>S20CRTargetRIT</th>\n",
              "      <th>F19RIT</th>\n",
              "      <th>W20TargetRIT</th>\n",
              "      <th>S20TypicalTargetRIT</th>\n",
              "    </tr>\n",
              "  </thead>\n",
              "  <tbody>\n",
              "    <tr>\n",
              "      <th>0</th>\n",
              "      <td>Mathematics</td>\n",
              "      <td>180.7</td>\n",
              "      <td>193.6</td>\n",
              "      <td>174.3</td>\n",
              "      <td>185.0</td>\n",
              "      <td>189.9</td>\n",
              "    </tr>\n",
              "    <tr>\n",
              "      <th>1</th>\n",
              "      <td>Reading</td>\n",
              "      <td>178.5</td>\n",
              "      <td>188.3</td>\n",
              "      <td>172.1</td>\n",
              "      <td>180.8</td>\n",
              "      <td>185.4</td>\n",
              "    </tr>\n",
              "  </tbody>\n",
              "</table>\n",
              "</div>"
            ],
            "text/plain": [
              "    Discipline  W20RIT  ...  W20TargetRIT  S20TypicalTargetRIT\n",
              "0  Mathematics   180.7  ...         185.0                189.9\n",
              "1      Reading   178.5  ...         180.8                185.4\n",
              "\n",
              "[2 rows x 6 columns]"
            ]
          },
          "metadata": {
            "tags": []
          },
          "execution_count": 13
        }
      ]
    },
    {
      "cell_type": "code",
      "metadata": {
        "id": "cO--dQyQDi7K",
        "colab": {
          "base_uri": "https://localhost:8080/",
          "height": 126
        },
        "outputId": "096c2e5c-9308-4b17-9c9f-3a53ba748aa7"
      },
      "source": [
        "limits = [ 174.3,185, 189.9]\n",
        "data_to_plot = (\"Mathematics\", 180.7, 193.6)\n",
        "palette = sns.light_palette('#b24ec4', 5, reverse=True)\n",
        "\n",
        "fig, ax = plt.subplots()\n",
        "ax.set_aspect('equal')\n",
        "ax.set_yticks([1])\n",
        "ax.set_xlim(170, 200)\n",
        "ax.set_yticklabels([data_to_plot[0]])\n",
        "\n",
        "prev_limit = 0\n",
        "for idx, lim in enumerate(limits):\n",
        "    ax.barh([1], lim-prev_limit, left=prev_limit, height=5, color=palette[idx])\n",
        "    prev_limit = lim\n",
        "\n",
        "# Draw the value we're measuring\n",
        "ax.barh([1], data_to_plot[1], color='black', height=2)\n",
        "ax.axvline(data_to_plot[2], color=\"gray\", ymin=0.10, ymax=0.9)"
      ],
      "execution_count": null,
      "outputs": [
        {
          "output_type": "execute_result",
          "data": {
            "text/plain": [
              "<matplotlib.lines.Line2D at 0x7f43cab8aa58>"
            ]
          },
          "metadata": {
            "tags": []
          },
          "execution_count": 38
        },
        {
          "output_type": "display_data",
          "data": {
            "image/png": "[encoded data removed]",
            "text/plain": [
              "<Figure size 432x288 with 1 Axes>"
            ]
          },
          "metadata": {
            "tags": []
          }
        }
      ]
    },
    {
      "cell_type": "code",
      "metadata": {
        "id": "IZbVJkIrEfSP",
        "colab": {
          "base_uri": "https://localhost:8080/",
          "height": 114
        },
        "outputId": "2802b8f4-061b-4bd5-f718-3e057d2befcd"
      },
      "source": [
        "limits = [172.1,180.8, 185.4]\n",
        "data_to_plot = (\"Reading\",178.5,188.3 )\n",
        "palette = sns.light_palette('#ef7521', 5, reverse=True)\n",
        "\n",
        "fig, ax = plt.subplots()\n",
        "ax.set_aspect('equal')\n",
        "ax.set_yticks([1])\n",
        "ax.set_xlim(170, 200)\n",
        "ax.set_yticklabels([data_to_plot[0]])\n",
        "\n",
        "prev_limit = 0\n",
        "for idx, lim in enumerate(limits):\n",
        "    ax.barh([1], lim-prev_limit, left=prev_limit, height=4, color=palette[idx])\n",
        "    prev_limit = lim\n",
        "\n",
        "# Draw the value we're measuring\n",
        "ax.barh([1], data_to_plot[1], color='black', height=2)\n",
        "ax.axvline(data_to_plot[2], color=\"gray\", ymin=0.10, ymax=0.9)"
      ],
      "execution_count": null,
      "outputs": [
        {
          "output_type": "execute_result",
          "data": {
            "text/plain": [
              "<matplotlib.lines.Line2D at 0x7f43ca610f28>"
            ]
          },
          "metadata": {
            "tags": []
          },
          "execution_count": 39
        },
        {
          "output_type": "display_data",
          "data": {
            "image/png": "[encoded data removed]",
            "text/plain": [
              "<Figure size 432x288 with 1 Axes>"
            ]
          },
          "metadata": {
            "tags": []
          }
        }
      ]
    },
    {
      "cell_type": "code",
      "metadata": {
        "id": "X4zeQmnAh7Du"
      },
      "source": [
        "#adding as_index=False to make the groupby output into a dataframe\n",
        "schools = df.groupby(['Campus',\"Discipline\"], as_index=False)[keep].mean().round(1)"
      ],
      "execution_count": null,
      "outputs": []
    },
    {
      "cell_type": "code",
      "metadata": {
        "id": "H0f_i_v6jGhN"
      },
      "source": [
        "schools= schools.dropna()"
      ],
      "execution_count": null,
      "outputs": []
    },
    {
      "cell_type": "code",
      "metadata": {
        "id": "M7ZjuUeAik25",
        "colab": {
          "base_uri": "https://localhost:8080/",
          "height": 204
        },
        "outputId": "c249ca5c-ff1e-4414-8f05-21838fbe2e41"
      },
      "source": [
        "schools.tail()"
      ],
      "execution_count": null,
      "outputs": [
        {
          "output_type": "execute_result",
          "data": {
            "text/html": [
              "<div>\n",
              "<style scoped>\n",
              "    .dataframe tbody tr th:only-of-type {\n",
              "        vertical-align: middle;\n",
              "    }\n",
              "\n",
              "    .dataframe tbody tr th {\n",
              "        vertical-align: top;\n",
              "    }\n",
              "\n",
              "    .dataframe thead th {\n",
              "        text-align: right;\n",
              "    }\n",
              "</style>\n",
              "<table border=\"1\" class=\"dataframe\">\n",
              "  <thead>\n",
              "    <tr style=\"text-align: right;\">\n",
              "      <th></th>\n",
              "      <th>Campus</th>\n",
              "      <th>Discipline</th>\n",
              "      <th>W20RIT</th>\n",
              "      <th>S20CRTargetRIT</th>\n",
              "      <th>F19RIT</th>\n",
              "      <th>W20TargetRIT</th>\n",
              "      <th>S20TypicalTargetRIT</th>\n",
              "    </tr>\n",
              "  </thead>\n",
              "  <tbody>\n",
              "    <tr>\n",
              "      <th>1</th>\n",
              "      <td>Harper Woods</td>\n",
              "      <td>Reading</td>\n",
              "      <td>176.4</td>\n",
              "      <td>185.3</td>\n",
              "      <td>167.1</td>\n",
              "      <td>177.5</td>\n",
              "      <td>182.7</td>\n",
              "    </tr>\n",
              "    <tr>\n",
              "      <th>2</th>\n",
              "      <td>Plymouth Educational Center</td>\n",
              "      <td>Mathematics</td>\n",
              "      <td>185.8</td>\n",
              "      <td>198.9</td>\n",
              "      <td>181.8</td>\n",
              "      <td>190.9</td>\n",
              "      <td>194.8</td>\n",
              "    </tr>\n",
              "    <tr>\n",
              "      <th>3</th>\n",
              "      <td>Plymouth Educational Center</td>\n",
              "      <td>Reading</td>\n",
              "      <td>183.8</td>\n",
              "      <td>193.9</td>\n",
              "      <td>180.2</td>\n",
              "      <td>187.2</td>\n",
              "      <td>191.0</td>\n",
              "    </tr>\n",
              "    <tr>\n",
              "      <th>4</th>\n",
              "      <td>Redford</td>\n",
              "      <td>Mathematics</td>\n",
              "      <td>170.1</td>\n",
              "      <td>184.1</td>\n",
              "      <td>163.0</td>\n",
              "      <td>174.4</td>\n",
              "      <td>181.2</td>\n",
              "    </tr>\n",
              "    <tr>\n",
              "      <th>5</th>\n",
              "      <td>Redford</td>\n",
              "      <td>Reading</td>\n",
              "      <td>167.9</td>\n",
              "      <td>179.7</td>\n",
              "      <td>161.1</td>\n",
              "      <td>171.1</td>\n",
              "      <td>177.3</td>\n",
              "    </tr>\n",
              "  </tbody>\n",
              "</table>\n",
              "</div>"
            ],
            "text/plain": [
              "                        Campus   Discipline  ...  W20TargetRIT  S20TypicalTargetRIT\n",
              "1                 Harper Woods      Reading  ...         177.5                182.7\n",
              "2  Plymouth Educational Center  Mathematics  ...         190.9                194.8\n",
              "3  Plymouth Educational Center      Reading  ...         187.2                191.0\n",
              "4                      Redford  Mathematics  ...         174.4                181.2\n",
              "5                      Redford      Reading  ...         171.1                177.3\n",
              "\n",
              "[5 rows x 7 columns]"
            ]
          },
          "metadata": {
            "tags": []
          },
          "execution_count": 18
        }
      ]
    },
    {
      "cell_type": "markdown",
      "metadata": {
        "id": "mamuWk647oqn"
      },
      "source": [
        "# School Average"
      ]
    },
    {
      "cell_type": "code",
      "metadata": {
        "id": "zc2V3DQ9Mww7"
      },
      "source": [
        "math = schools[schools['Discipline']=='Mathematics']\n",
        "math = math.drop(columns=['Discipline'])"
      ],
      "execution_count": null,
      "outputs": []
    },
    {
      "cell_type": "code",
      "metadata": {
        "id": "yxIEEsnYDvlw",
        "colab": {
          "base_uri": "https://localhost:8080/",
          "height": 142
        },
        "outputId": "158c6674-7780-47fa-fe0b-32f69744b15d"
      },
      "source": [
        "math"
      ],
      "execution_count": null,
      "outputs": [
        {
          "output_type": "execute_result",
          "data": {
            "text/html": [
              "<div>\n",
              "<style scoped>\n",
              "    .dataframe tbody tr th:only-of-type {\n",
              "        vertical-align: middle;\n",
              "    }\n",
              "\n",
              "    .dataframe tbody tr th {\n",
              "        vertical-align: top;\n",
              "    }\n",
              "\n",
              "    .dataframe thead th {\n",
              "        text-align: right;\n",
              "    }\n",
              "</style>\n",
              "<table border=\"1\" class=\"dataframe\">\n",
              "  <thead>\n",
              "    <tr style=\"text-align: right;\">\n",
              "      <th></th>\n",
              "      <th>Campus</th>\n",
              "      <th>W20RIT</th>\n",
              "      <th>S20CRTargetRIT</th>\n",
              "      <th>F19RIT</th>\n",
              "      <th>W20TargetRIT</th>\n",
              "      <th>S20TypicalTargetRIT</th>\n",
              "    </tr>\n",
              "  </thead>\n",
              "  <tbody>\n",
              "    <tr>\n",
              "      <th>0</th>\n",
              "      <td>Harper Woods</td>\n",
              "      <td>178.9</td>\n",
              "      <td>191.4</td>\n",
              "      <td>170.2</td>\n",
              "      <td>182.6</td>\n",
              "      <td>188.3</td>\n",
              "    </tr>\n",
              "    <tr>\n",
              "      <th>2</th>\n",
              "      <td>Plymouth Educational Center</td>\n",
              "      <td>185.8</td>\n",
              "      <td>198.9</td>\n",
              "      <td>181.8</td>\n",
              "      <td>190.9</td>\n",
              "      <td>194.8</td>\n",
              "    </tr>\n",
              "    <tr>\n",
              "      <th>4</th>\n",
              "      <td>Redford</td>\n",
              "      <td>170.1</td>\n",
              "      <td>184.1</td>\n",
              "      <td>163.0</td>\n",
              "      <td>174.4</td>\n",
              "      <td>181.2</td>\n",
              "    </tr>\n",
              "  </tbody>\n",
              "</table>\n",
              "</div>"
            ],
            "text/plain": [
              "                        Campus  W20RIT  ...  W20TargetRIT  S20TypicalTargetRIT\n",
              "0                 Harper Woods   178.9  ...         182.6                188.3\n",
              "2  Plymouth Educational Center   185.8  ...         190.9                194.8\n",
              "4                      Redford   170.1  ...         174.4                181.2\n",
              "\n",
              "[3 rows x 6 columns]"
            ]
          },
          "metadata": {
            "tags": []
          },
          "execution_count": 20
        }
      ]
    },
    {
      "cell_type": "code",
      "metadata": {
        "id": "m1v_IU5lb9Wd"
      },
      "source": [
        "reading = schools[schools['Discipline']=='Reading']\n",
        "reading = reading.drop(columns=['Discipline'])"
      ],
      "execution_count": null,
      "outputs": []
    },
    {
      "cell_type": "code",
      "metadata": {
        "id": "mjUQmuur85Rl"
      },
      "source": [
        "def get_data(df, n=3):\n",
        "    \"\"\" \n",
        "    get the data and limits ready for the bullet plot\n",
        "        Args:\n",
        "            df = groupbyed dataframe\n",
        "        Returns:\n",
        "            a list for text/bar/line\n",
        "            a list for background color\n",
        "            floor: a number for the plot min\n",
        "            ceiling: a number for the plot max\n",
        "\n",
        "    \"\"\"\n",
        "    #Create the text, bar and line\n",
        "    tbl = df.iloc[:, :n].values.tolist()\n",
        "    #Create the limits for background color\n",
        "    bc = df.iloc[:, np.r_[n:n+3]].values.tolist()\n",
        "\n",
        "    floor = round(df['F19RIT'].min()/5-1)*5\n",
        "    ceiling = 5 + round(df['S20CRTargetRIT'].max()/5)*5 \n",
        "\n",
        "    return tbl, bc, floor, ceiling"
      ],
      "execution_count": null,
      "outputs": []
    },
    {
      "cell_type": "code",
      "metadata": {
        "id": "YjwX2YkcR4PY"
      },
      "source": [
        "import matplotlib.font_manager\n",
        "csfont = {'fontname':'Calibri'}\n",
        "def bulletgraph(data=None, limits=None, labels=None, ranges=None, axis_label=None, title=None,\n",
        "                size=(5, 3), subject= 'Reading', formatter=None, target_color=\"black\", bar_color=\"black\", label_color=\"gray\"):\n",
        "    \"\"\" Build out a bullet graph image\n",
        "        Args:\n",
        "            data = List of labels, measures and targets\n",
        "            limits = list of range valules\n",
        "            labels = list of descriptions of the limit ranges\n",
        "            lim = list of xlims \n",
        "            axis_label = string describing x axis\n",
        "            title = string title of plot\n",
        "            size = tuple for plot size\n",
        "            subject = maths or reading\n",
        "            formatter = matplotlib formatter object for x axis\n",
        "            target_color = color string for the target line\n",
        "            bar_color = color string for the small bar\n",
        "            label_color = color string for the limit label text\n",
        "        Returns:\n",
        "            a matplotlib figure\n",
        "    \"\"\"\n",
        "    # Determine the max value for adjusting the bar height\n",
        "    # Dividing by 10 seems to work pretty well\n",
        "    h = limits[0][-1] / 40\n",
        "\n",
        "    # Use the green palette as a sensible default\n",
        "    \n",
        "    if subject =='Reading':\n",
        "      palette = sns.light_palette('#ef7521', 3, reverse=True)\n",
        "    else:\n",
        "      palette = sns.light_palette('#b24ec4', 3, reverse=True)\n",
        "\n",
        "    # Must be able to handle one or many data sets via multiple subplots\n",
        "    if len(data) == 1:\n",
        "        fig, ax = plt.subplots(figsize=size, sharex=True)\n",
        "    else:\n",
        "        fig, axarr = plt.subplots(len(data), figsize=size, sharex=True)\n",
        "\n",
        "    # Add each bullet graph bar to a subplot\n",
        "    for idx, item in enumerate(data):\n",
        "\n",
        "        # Get the axis from the array of axes returned when the plot is created\n",
        "        if len(data) > 1:\n",
        "            ax = axarr[idx]\n",
        "\n",
        "        # Formatting to get rid of extra marking clutter\n",
        "        ax.set_aspect('equal')\n",
        "        #Text for that bar\n",
        "        ax.set_yticklabels([item[0]])\n",
        "        ax.set_yticks([1])\n",
        "        ax.set_xlim(ranges)\n",
        "        ax.spines['bottom'].set_visible(True)\n",
        "        ax.spines['top'].set_visible(True)\n",
        "        ax.spines['right'].set_visible(True)\n",
        "        ax.spines['left'].set_visible(True)\n",
        "\n",
        "        prev_limit = 0\n",
        "        for idx2, lim in enumerate(limits[idx]):\n",
        "            # Draw the bar\n",
        "            ax.barh([1], lim - prev_limit, left=prev_limit, height=h,\n",
        "                    color=palette[idx2])\n",
        "            prev_limit = lim\n",
        "            rects = ax.patches\n",
        "        # The last item in the list is the value we're measuring\n",
        "        # Draw the value we're measuring\n",
        "        ax.barh([1], item[1], height=(h / 3), color=bar_color)\n",
        "\n",
        "        # Need the ymin and max in order to make sure the target marker\n",
        "        # fits\n",
        "        ymin, ymax = ax.get_ylim()\n",
        "        ax.vlines(item[2], ymin * .9, ymax * .9, linewidth=1.5, color=target_color)\n",
        "\n",
        "    # Now make some labels\n",
        "    if labels is not None:\n",
        "        for rect, label in zip(rects, labels):\n",
        "            height = rect.get_height()\n",
        "            ax.text(\n",
        "                rect.get_x() + rect.get_width() / 2,\n",
        "                -height * .4,\n",
        "                label,\n",
        "                ha='center',\n",
        "                va='bottom',\n",
        "                color=label_color)\n",
        "    if formatter:\n",
        "        ax.xaxis.set_major_formatter(formatter)\n",
        "    if axis_label:\n",
        "        ax.set_xlabel(axis_label)\n",
        "    if title:\n",
        "        fig.suptitle(title, fontsize=20, **csfont)\n",
        "    fig.subplots_adjust(hspace=0)"
      ],
      "execution_count": null,
      "outputs": []
    },
    {
      "cell_type": "code",
      "metadata": {
        "id": "AgeMae-W6kJD"
      },
      "source": [
        "t1, l1, f1, c1 = get_data(math)"
      ],
      "execution_count": null,
      "outputs": []
    },
    {
      "cell_type": "code",
      "metadata": {
        "id": "CuCAObrjDFlu",
        "colab": {
          "base_uri": "https://localhost:8080/",
          "height": 68
        },
        "outputId": "b33a1943-e9fb-4755-b088-0b1d8af75808"
      },
      "source": [
        "t1"
      ],
      "execution_count": null,
      "outputs": [
        {
          "output_type": "execute_result",
          "data": {
            "text/plain": [
              "[['Harper Woods', 178.9, 191.4],\n",
              " ['Plymouth Educational Center', 185.8, 198.9],\n",
              " ['Redford', 170.1, 184.1]]"
            ]
          },
          "metadata": {
            "tags": []
          },
          "execution_count": 25
        }
      ]
    },
    {
      "cell_type": "code",
      "metadata": {
        "id": "CGSH6oXSBsRp",
        "colab": {
          "base_uri": "https://localhost:8080/",
          "height": 34
        },
        "outputId": "bf9d7c80-054a-4422-feff-5485e70b94fe"
      },
      "source": [
        "l1"
      ],
      "execution_count": null,
      "outputs": [
        {
          "output_type": "execute_result",
          "data": {
            "text/plain": [
              "[[170.2, 182.6, 188.3], [181.8, 190.9, 194.8], [163.0, 174.4, 181.2]]"
            ]
          },
          "metadata": {
            "tags": []
          },
          "execution_count": 26
        }
      ]
    },
    {
      "cell_type": "code",
      "metadata": {
        "id": "3tS0LFwP3zO6"
      },
      "source": [
        "tlr, llr, fr, cl = get_data(reading)"
      ],
      "execution_count": null,
      "outputs": []
    },
    {
      "cell_type": "code",
      "metadata": {
        "id": "BcUt32p6ZE9r",
        "colab": {
          "base_uri": "https://localhost:8080/",
          "height": 529
        },
        "outputId": "570c2a12-965f-4769-c8ce-cee5f44f5f3a"
      },
      "source": [
        "bulletgraph(tlr, llr, ranges =(fr,cl), size=(14,8), subject='Reading', label_color=\"black\", target_color='black',title=\"Reading Performance\")"
      ],
      "execution_count": null,
      "outputs": [
        {
          "output_type": "stream",
          "text": [
            "findfont: Font family ['Calibri'] not found. Falling back to DejaVu Sans.\n"
          ],
          "name": "stderr"
        },
        {
          "output_type": "display_data",
          "data": {
            "image/png": "[encoded data removed]",
            "text/plain": [
              "<Figure size 1008x576 with 3 Axes>"
            ]
          },
          "metadata": {
            "tags": []
          }
        }
      ]
    },
    {
      "cell_type": "code",
      "metadata": {
        "id": "ES09y5QlbgBE",
        "colab": {
          "base_uri": "https://localhost:8080/",
          "height": 514
        },
        "outputId": "19f12f9b-8e70-4c26-e995-2fd1cb986261"
      },
      "source": [
        "bulletgraph(t1, l1, ranges =(f1,c1), size=(14,8), subject='Math',\n",
        "            title=\"Maths Performance\")"
      ],
      "execution_count": null,
      "outputs": [
        {
          "output_type": "display_data",
          "data": {
            "image/png": "[encoded data removed]",
            "text/plain": [
              "<Figure size 1008x576 with 3 Axes>"
            ]
          },
          "metadata": {
            "tags": []
          }
        }
      ]
    },
    {
      "cell_type": "markdown",
      "metadata": {
        "id": "cZy34Cjy8Ihb"
      },
      "source": [
        "# By grade level"
      ]
    },
    {
      "cell_type": "code",
      "metadata": {
        "id": "YmAhempd8Kaw"
      },
      "source": [
        "#adding as_index=False to make the groupby output into a dataframe\n",
        "grade = df.groupby(['GradeLevel','Campus',\"Discipline\"], as_index=False)[keep].mean().round(1)\n",
        "grade= grade.dropna()"
      ],
      "execution_count": null,
      "outputs": []
    },
    {
      "cell_type": "code",
      "metadata": {
        "id": "e3AjAocN8dds",
        "colab": {
          "base_uri": "https://localhost:8080/",
          "height": 204
        },
        "outputId": "9d2284ae-f178-4170-9561-21e4408f1cb5"
      },
      "source": [
        "gmath = grade[grade['Discipline']=='Mathematics']\n",
        "gmath = gmath.drop(columns=['Discipline'])\n",
        "gmath.head()"
      ],
      "execution_count": null,
      "outputs": [
        {
          "output_type": "execute_result",
          "data": {
            "text/html": [
              "<div>\n",
              "<style scoped>\n",
              "    .dataframe tbody tr th:only-of-type {\n",
              "        vertical-align: middle;\n",
              "    }\n",
              "\n",
              "    .dataframe tbody tr th {\n",
              "        vertical-align: top;\n",
              "    }\n",
              "\n",
              "    .dataframe thead th {\n",
              "        text-align: right;\n",
              "    }\n",
              "</style>\n",
              "<table border=\"1\" class=\"dataframe\">\n",
              "  <thead>\n",
              "    <tr style=\"text-align: right;\">\n",
              "      <th></th>\n",
              "      <th>GradeLevel</th>\n",
              "      <th>Campus</th>\n",
              "      <th>W20RIT</th>\n",
              "      <th>S20CRTargetRIT</th>\n",
              "      <th>F19RIT</th>\n",
              "      <th>W20TargetRIT</th>\n",
              "      <th>S20TypicalTargetRIT</th>\n",
              "    </tr>\n",
              "  </thead>\n",
              "  <tbody>\n",
              "    <tr>\n",
              "      <th>0</th>\n",
              "      <td>1st</td>\n",
              "      <td>Harper Woods</td>\n",
              "      <td>171.5</td>\n",
              "      <td>188.6</td>\n",
              "      <td>163.6</td>\n",
              "      <td>178.8</td>\n",
              "      <td>186.7</td>\n",
              "    </tr>\n",
              "    <tr>\n",
              "      <th>2</th>\n",
              "      <td>1st</td>\n",
              "      <td>Plymouth Educational Center</td>\n",
              "      <td>157.9</td>\n",
              "      <td>173.5</td>\n",
              "      <td>148.9</td>\n",
              "      <td>160.5</td>\n",
              "      <td>169.7</td>\n",
              "    </tr>\n",
              "    <tr>\n",
              "      <th>4</th>\n",
              "      <td>1st</td>\n",
              "      <td>Redford</td>\n",
              "      <td>166.9</td>\n",
              "      <td>178.3</td>\n",
              "      <td>155.9</td>\n",
              "      <td>166.9</td>\n",
              "      <td>175.7</td>\n",
              "    </tr>\n",
              "    <tr>\n",
              "      <th>6</th>\n",
              "      <td>2nd</td>\n",
              "      <td>Harper Woods</td>\n",
              "      <td>179.0</td>\n",
              "      <td>190.8</td>\n",
              "      <td>169.7</td>\n",
              "      <td>182.2</td>\n",
              "      <td>187.2</td>\n",
              "    </tr>\n",
              "    <tr>\n",
              "      <th>8</th>\n",
              "      <td>2nd</td>\n",
              "      <td>Plymouth Educational Center</td>\n",
              "      <td>177.1</td>\n",
              "      <td>190.2</td>\n",
              "      <td>170.9</td>\n",
              "      <td>181.4</td>\n",
              "      <td>187.0</td>\n",
              "    </tr>\n",
              "  </tbody>\n",
              "</table>\n",
              "</div>"
            ],
            "text/plain": [
              "  GradeLevel                       Campus  ...  W20TargetRIT  S20TypicalTargetRIT\n",
              "0        1st                 Harper Woods  ...         178.8                186.7\n",
              "2        1st  Plymouth Educational Center  ...         160.5                169.7\n",
              "4        1st                      Redford  ...         166.9                175.7\n",
              "6        2nd                 Harper Woods  ...         182.2                187.2\n",
              "8        2nd  Plymouth Educational Center  ...         181.4                187.0\n",
              "\n",
              "[5 rows x 7 columns]"
            ]
          },
          "metadata": {
            "tags": []
          },
          "execution_count": 31
        }
      ]
    },
    {
      "cell_type": "code",
      "metadata": {
        "id": "73fuGPG98p1D",
        "colab": {
          "base_uri": "https://localhost:8080/",
          "height": 204
        },
        "outputId": "e93b963e-bcca-481a-e537-5a5c4a05ecb7"
      },
      "source": [
        "gread = grade[grade['Discipline']=='Reading']\n",
        "gread = gread.drop(columns=['Discipline'])\n",
        "gread.head()"
      ],
      "execution_count": null,
      "outputs": [
        {
          "output_type": "execute_result",
          "data": {
            "text/html": [
              "<div>\n",
              "<style scoped>\n",
              "    .dataframe tbody tr th:only-of-type {\n",
              "        vertical-align: middle;\n",
              "    }\n",
              "\n",
              "    .dataframe tbody tr th {\n",
              "        vertical-align: top;\n",
              "    }\n",
              "\n",
              "    .dataframe thead th {\n",
              "        text-align: right;\n",
              "    }\n",
              "</style>\n",
              "<table border=\"1\" class=\"dataframe\">\n",
              "  <thead>\n",
              "    <tr style=\"text-align: right;\">\n",
              "      <th></th>\n",
              "      <th>GradeLevel</th>\n",
              "      <th>Campus</th>\n",
              "      <th>W20RIT</th>\n",
              "      <th>S20CRTargetRIT</th>\n",
              "      <th>F19RIT</th>\n",
              "      <th>W20TargetRIT</th>\n",
              "      <th>S20TypicalTargetRIT</th>\n",
              "    </tr>\n",
              "  </thead>\n",
              "  <tbody>\n",
              "    <tr>\n",
              "      <th>1</th>\n",
              "      <td>1st</td>\n",
              "      <td>Harper Woods</td>\n",
              "      <td>167.6</td>\n",
              "      <td>182.8</td>\n",
              "      <td>160.5</td>\n",
              "      <td>173.8</td>\n",
              "      <td>181.1</td>\n",
              "    </tr>\n",
              "    <tr>\n",
              "      <th>3</th>\n",
              "      <td>1st</td>\n",
              "      <td>Plymouth Educational Center</td>\n",
              "      <td>155.5</td>\n",
              "      <td>171.2</td>\n",
              "      <td>151.3</td>\n",
              "      <td>160.3</td>\n",
              "      <td>168.3</td>\n",
              "    </tr>\n",
              "    <tr>\n",
              "      <th>5</th>\n",
              "      <td>1st</td>\n",
              "      <td>Redford</td>\n",
              "      <td>160.4</td>\n",
              "      <td>173.0</td>\n",
              "      <td>151.8</td>\n",
              "      <td>162.6</td>\n",
              "      <td>170.8</td>\n",
              "    </tr>\n",
              "    <tr>\n",
              "      <th>7</th>\n",
              "      <td>2nd</td>\n",
              "      <td>Harper Woods</td>\n",
              "      <td>173.6</td>\n",
              "      <td>183.2</td>\n",
              "      <td>166.7</td>\n",
              "      <td>175.2</td>\n",
              "      <td>180.2</td>\n",
              "    </tr>\n",
              "    <tr>\n",
              "      <th>9</th>\n",
              "      <td>2nd</td>\n",
              "      <td>Plymouth Educational Center</td>\n",
              "      <td>173.1</td>\n",
              "      <td>182.5</td>\n",
              "      <td>167.6</td>\n",
              "      <td>174.2</td>\n",
              "      <td>179.5</td>\n",
              "    </tr>\n",
              "  </tbody>\n",
              "</table>\n",
              "</div>"
            ],
            "text/plain": [
              "  GradeLevel                       Campus  ...  W20TargetRIT  S20TypicalTargetRIT\n",
              "1        1st                 Harper Woods  ...         173.8                181.1\n",
              "3        1st  Plymouth Educational Center  ...         160.3                168.3\n",
              "5        1st                      Redford  ...         162.6                170.8\n",
              "7        2nd                 Harper Woods  ...         175.2                180.2\n",
              "9        2nd  Plymouth Educational Center  ...         174.2                179.5\n",
              "\n",
              "[5 rows x 7 columns]"
            ]
          },
          "metadata": {
            "tags": []
          },
          "execution_count": 32
        }
      ]
    },
    {
      "cell_type": "code",
      "metadata": {
        "id": "mQA8FSjX9ZwU"
      },
      "source": [
        " def slice_data(df, sub='Reading'):\n",
        "    '''\n",
        "    get the data and limits ready for the bullet plot\n",
        "        Args:\n",
        "            df = groupbyed dataframe\n",
        "        Returns:\n",
        "            a list for text/bar/line\n",
        "            a list for background color\n",
        "            floor: a number for the plot min\n",
        "            ceiling: a number for the plot max\n",
        "\n",
        "    '''\n",
        "    #Create the text, bar and line\n",
        "    for grade in list(df.GradeLevel.unique()):\n",
        "        mni = df.loc[df['GradeLevel'] == grade]\n",
        "        mni = mni.drop(columns=['GradeLevel'])\n",
        "        tl, ll, fr, cl = get_data(mni, n=3)\n",
        "        bulletgraph(tl, ll, ranges =(fr,cl), size=(14,8), subject=sub,title=grade+\" Grade \"+ sub+\" Performance\")\n",
        "\n",
        "    return "
      ],
      "execution_count": null,
      "outputs": []
    },
    {
      "cell_type": "code",
      "metadata": {
        "id": "eLdxeJaODqM4",
        "colab": {
          "base_uri": "https://localhost:8080/",
          "height": 1000
        },
        "outputId": "44634859-4477-4b62-a1a4-f091b5bc87a9"
      },
      "source": [
        "slice_data(gmath, sub='Mathematics')"
      ],
      "execution_count": null,
      "outputs": [
        {
          "output_type": "display_data",
          "data": {
            "image/png": "[encoded data removed]",
            "text/plain": [
              "<Figure size 1008x576 with 3 Axes>"
            ]
          },
          "metadata": {
            "tags": []
          }
        },
        {
          "output_type": "display_data",
          "data": {
            "image/png": "[encoded data removed]",
            "text/plain": [
              "<Figure size 1008x576 with 3 Axes>"
            ]
          },
          "metadata": {
            "tags": []
          }
        },
        {
          "output_type": "display_data",
          "data": {
            "image/png": "[encoded data removed]",
            "text/plain": [
              "<Figure size 1008x576 with 3 Axes>"
            ]
          },
          "metadata": {
            "tags": []
          }
        },
        {
          "output_type": "display_data",
          "data": {
            "image/png": "[encoded data removed]",
            "text/plain": [
              "<Figure size 1008x576 with 3 Axes>"
            ]
          },
          "metadata": {
            "tags": []
          }
        },
        {
          "output_type": "display_data",
          "data": {
            "image/png": "[encoded data removed]",
            "text/plain": [
              "<Figure size 1008x576 with 2 Axes>"
            ]
          },
          "metadata": {
            "tags": []
          }
        },
        {
          "output_type": "display_data",
          "data": {
            "image/png": "[encoded data removed]",
            "text/plain": [
              "<Figure size 1008x576 with 1 Axes>"
            ]
          },
          "metadata": {
            "tags": []
          }
        },
        {
          "output_type": "display_data",
          "data": {
            "image/png": "[encoded data removed]",
            "text/plain": [
              "<Figure size 1008x576 with 1 Axes>"
            ]
          },
          "metadata": {
            "tags": []
          }
        },
        {
          "output_type": "display_data",
          "data": {
            "image/png": "[encoded data removed]",
            "text/plain": [
              "<Figure size 1008x576 with 1 Axes>"
            ]
          },
          "metadata": {
            "tags": []
          }
        },
        {
          "output_type": "display_data",
          "data": {
            "image/png": "[encoded data removed]",
            "text/plain": [
              "<Figure size 1008x576 with 3 Axes>"
            ]
          },
          "metadata": {
            "tags": []
          }
        }
      ]
    },
    {
      "cell_type": "code",
      "metadata": {
        "id": "4kSwaoj49aHj",
        "colab": {
          "base_uri": "https://localhost:8080/",
          "height": 1000
        },
        "outputId": "d47fb025-ef3e-47c6-db17-89f1f6e6161b"
      },
      "source": [
        "slice_data(gread)"
      ],
      "execution_count": null,
      "outputs": [
        {
          "output_type": "display_data",
          "data": {
            "image/png": "[encoded data removed]",
            "text/plain": [
              "<Figure size 1008x576 with 3 Axes>"
            ]
          },
          "metadata": {
            "tags": []
          }
        },
        {
          "output_type": "display_data",
          "data": {
            "image/png": "[encoded data removed]",
            "text/plain": [
              "<Figure size 1008x576 with 3 Axes>"
            ]
          },
          "metadata": {
            "tags": []
          }
        },
        {
          "output_type": "display_data",
          "data": {
            "image/png": "[encoded data removed]",
            "text/plain": [
              "<Figure size 1008x576 with 3 Axes>"
            ]
          },
          "metadata": {
            "tags": []
          }
        },
        {
          "output_type": "display_data",
          "data": {
            "image/png": "[encoded data removed]",
            "text/plain": [
              "<Figure size 1008x576 with 3 Axes>"
            ]
          },
          "metadata": {
            "tags": []
          }
        },
        {
          "output_type": "display_data",
          "data": {
            "image/png": "[encoded data removed]",
            "text/plain": [
              "<Figure size 1008x576 with 2 Axes>"
            ]
          },
          "metadata": {
            "tags": []
          }
        },
        {
          "output_type": "display_data",
          "data": {
            "image/png": "[encoded data removed]",
            "text/plain": [
              "<Figure size 1008x576 with 1 Axes>"
            ]
          },
          "metadata": {
            "tags": []
          }
        },
        {
          "output_type": "display_data",
          "data": {
            "image/png": "[encoded data removed]",
            "text/plain": [
              "<Figure size 1008x576 with 1 Axes>"
            ]
          },
          "metadata": {
            "tags": []
          }
        },
        {
          "output_type": "display_data",
          "data": {
            "image/png": "[encoded data removed]",
            "text/plain": [
              "<Figure size 1008x576 with 1 Axes>"
            ]
          },
          "metadata": {
            "tags": []
          }
        },
        {
          "output_type": "display_data",
          "data": {
            "image/png": "[encoded data removed]",
            "text/plain": [
              "<Figure size 1008x576 with 3 Axes>"
            ]
          },
          "metadata": {
            "tags": []
          }
        }
      ]
    }
  ]
}