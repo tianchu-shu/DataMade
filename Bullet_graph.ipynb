{
  "nbformat": 4,
  "nbformat_minor": 0,
  "metadata": {
    "colab": {
      "name": "Bullet_graph.ipynb",
      "provenance": [],
      "collapsed_sections": [],
      "authorship_tag": "ABX9TyNcuHXPug3B9w2cnEWUs+EA",
      "include_colab_link": true
    },
    "kernelspec": {
      "name": "python3",
      "display_name": "Python 3"
    }
  },
  "cells": [
    {
      "cell_type": "markdown",
      "metadata": {
        "id": "view-in-github",
        "colab_type": "text"
      },
      "source": [
        "<a href=\"https://colab.research.google.com/github/tianchu-shu/DistinctiveSchools/blob/master/Bullet_graph.ipynb\" target=\"_parent\"><img src=\"https://colab.research.google.com/assets/colab-badge.svg\" alt=\"Open In Colab\"/></a>"
      ]
    },
    {
      "cell_type": "markdown",
      "metadata": {
        "id": "ksIZ5LjcZ5MV",
        "colab_type": "text"
      },
      "source": [
        "https://pbpython.com/bullet-graph.html"
      ]
    },
    {
      "cell_type": "code",
      "metadata": {
        "id": "_NZGosC4bh4Q",
        "colab_type": "code",
        "outputId": "2b676552-2b09-421e-f780-777f217fe6ee",
        "colab": {
          "base_uri": "https://localhost:8080/",
          "height": 54
        }
      },
      "source": [
        "from google.colab import drive\n",
        "drive.mount('/content/gdrive')"
      ],
      "execution_count": 120,
      "outputs": [
        {
          "output_type": "stream",
          "text": [
            "Drive already mounted at /content/gdrive; to attempt to forcibly remount, call drive.mount(\"/content/gdrive\", force_remount=True).\n"
          ],
          "name": "stdout"
        }
      ]
    },
    {
      "cell_type": "code",
      "metadata": {
        "id": "yCRc0uqChtFy",
        "colab_type": "code",
        "outputId": "c11730a1-40c6-4045-e786-cb6e431e2ac7",
        "colab": {
          "base_uri": "https://localhost:8080/",
          "height": 204
        }
      },
      "source": [
        "import pandas as pd\n",
        "import glob, os\n",
        "\n",
        "data_dir= '/content/gdrive/My Drive/'\n",
        "os.chdir(data_dir)\n",
        "filename = 'BulletChartData.csv'\n",
        "\n",
        "df=pd.read_csv(filename)\n",
        "print(\"Column headings:\")\n",
        "print(df.columns)"
      ],
      "execution_count": 121,
      "outputs": [
        {
          "output_type": "stream",
          "text": [
            "Column headings:\n",
            "Index(['StudentNumber', 'MatchID', 'StudentName', 'Campus', 'GradeLevel',\n",
            "       'Homeroom', 'Discipline', 'CoreTeacher', 'Gender', 'DLStatus',\n",
            "       'ELStatus', 'CurrentEL', 'Race', 'EcDis', 'W20GrowthGoal',\n",
            "       'W20TargetRIT', 'S20CRGrowthGoal', 'S20CRTargetRIT',\n",
            "       'S20TypicalGrowthGoal', 'S20TypicalTargetRIT', 'S19RIT', 'S19%ile',\n",
            "       'F19RIT', 'F19%ile', 'BaselineRIT', 'Baseline Percentile', 'W20RIT',\n",
            "       'W20%ile', 'W20CGP', 'BtoWChange', 'MetWinterGoal', 'NumberOfAbsences',\n",
            "       'AbsenceCategory', 'NumberOfDiscipline', 'Disciplinez-Score',\n",
            "       'DisciplineCategory'],\n",
            "      dtype='object')\n"
          ],
          "name": "stdout"
        }
      ]
    },
    {
      "cell_type": "code",
      "metadata": {
        "id": "zqMqRaZsiZfk",
        "colab_type": "code",
        "outputId": "e6335d91-f5c5-4fc1-9f5e-439d027a352e",
        "colab": {
          "base_uri": "https://localhost:8080/",
          "height": 643
        }
      },
      "source": [
        "df"
      ],
      "execution_count": 122,
      "outputs": [
        {
          "output_type": "execute_result",
          "data": {
            "text/html": [
              "<div>\n",
              "<style scoped>\n",
              "    .dataframe tbody tr th:only-of-type {\n",
              "        vertical-align: middle;\n",
              "    }\n",
              "\n",
              "    .dataframe tbody tr th {\n",
              "        vertical-align: top;\n",
              "    }\n",
              "\n",
              "    .dataframe thead th {\n",
              "        text-align: right;\n",
              "    }\n",
              "</style>\n",
              "<table border=\"1\" class=\"dataframe\">\n",
              "  <thead>\n",
              "    <tr style=\"text-align: right;\">\n",
              "      <th></th>\n",
              "      <th>StudentNumber</th>\n",
              "      <th>MatchID</th>\n",
              "      <th>StudentName</th>\n",
              "      <th>Campus</th>\n",
              "      <th>GradeLevel</th>\n",
              "      <th>Homeroom</th>\n",
              "      <th>Discipline</th>\n",
              "      <th>CoreTeacher</th>\n",
              "      <th>Gender</th>\n",
              "      <th>DLStatus</th>\n",
              "      <th>ELStatus</th>\n",
              "      <th>CurrentEL</th>\n",
              "      <th>Race</th>\n",
              "      <th>EcDis</th>\n",
              "      <th>W20GrowthGoal</th>\n",
              "      <th>W20TargetRIT</th>\n",
              "      <th>S20CRGrowthGoal</th>\n",
              "      <th>S20CRTargetRIT</th>\n",
              "      <th>S20TypicalGrowthGoal</th>\n",
              "      <th>S20TypicalTargetRIT</th>\n",
              "      <th>S19RIT</th>\n",
              "      <th>S19%ile</th>\n",
              "      <th>F19RIT</th>\n",
              "      <th>F19%ile</th>\n",
              "      <th>BaselineRIT</th>\n",
              "      <th>Baseline Percentile</th>\n",
              "      <th>W20RIT</th>\n",
              "      <th>W20%ile</th>\n",
              "      <th>W20CGP</th>\n",
              "      <th>BtoWChange</th>\n",
              "      <th>MetWinterGoal</th>\n",
              "      <th>NumberOfAbsences</th>\n",
              "      <th>AbsenceCategory</th>\n",
              "      <th>NumberOfDiscipline</th>\n",
              "      <th>Disciplinez-Score</th>\n",
              "      <th>DisciplineCategory</th>\n",
              "    </tr>\n",
              "  </thead>\n",
              "  <tbody>\n",
              "    <tr>\n",
              "      <th>0</th>\n",
              "      <td>50443373</td>\n",
              "      <td>50443373.0</td>\n",
              "      <td>Aguirre, Angel</td>\n",
              "      <td>Prairie</td>\n",
              "      <td>1st</td>\n",
              "      <td>Stoffey A</td>\n",
              "      <td>Mathematics</td>\n",
              "      <td>Stoffey A</td>\n",
              "      <td>M</td>\n",
              "      <td>Yes</td>\n",
              "      <td>Not EL</td>\n",
              "      <td>No</td>\n",
              "      <td>Other</td>\n",
              "      <td>Yes</td>\n",
              "      <td>13.0</td>\n",
              "      <td>164.0</td>\n",
              "      <td>25.0</td>\n",
              "      <td>176.0</td>\n",
              "      <td>22.0</td>\n",
              "      <td>173.0</td>\n",
              "      <td>151.0</td>\n",
              "      <td>22.0</td>\n",
              "      <td>153.0</td>\n",
              "      <td>27.0</td>\n",
              "      <td>151.0</td>\n",
              "      <td>22.0</td>\n",
              "      <td>167.0</td>\n",
              "      <td>37.0</td>\n",
              "      <td>91.0</td>\n",
              "      <td>16.0</td>\n",
              "      <td>1.0</td>\n",
              "      <td>2.0</td>\n",
              "      <td>Strong Attendance</td>\n",
              "      <td>9</td>\n",
              "      <td>2.377906</td>\n",
              "      <td>Significantly More Incidents than Peers</td>\n",
              "    </tr>\n",
              "    <tr>\n",
              "      <th>1</th>\n",
              "      <td>50535602</td>\n",
              "      <td>50535602.0</td>\n",
              "      <td>Allen, Tyrianna</td>\n",
              "      <td>Prairie</td>\n",
              "      <td>1st</td>\n",
              "      <td>Stoffey A</td>\n",
              "      <td>Mathematics</td>\n",
              "      <td>Stoffey A</td>\n",
              "      <td>F</td>\n",
              "      <td>No</td>\n",
              "      <td>Not EL</td>\n",
              "      <td>No</td>\n",
              "      <td>Black - African American</td>\n",
              "      <td>Yes</td>\n",
              "      <td>10.0</td>\n",
              "      <td>175.0</td>\n",
              "      <td>20.0</td>\n",
              "      <td>185.0</td>\n",
              "      <td>21.0</td>\n",
              "      <td>186.0</td>\n",
              "      <td>NaN</td>\n",
              "      <td>NaN</td>\n",
              "      <td>165.0</td>\n",
              "      <td>63.0</td>\n",
              "      <td>165.0</td>\n",
              "      <td>63.0</td>\n",
              "      <td>170.0</td>\n",
              "      <td>46.0</td>\n",
              "      <td>NaN</td>\n",
              "      <td>5.0</td>\n",
              "      <td>0.0</td>\n",
              "      <td>7.0</td>\n",
              "      <td>Attednance Risk</td>\n",
              "      <td>0</td>\n",
              "      <td>-0.438035</td>\n",
              "      <td>Fewer Incidents than Peers</td>\n",
              "    </tr>\n",
              "    <tr>\n",
              "      <th>2</th>\n",
              "      <td>50641088</td>\n",
              "      <td>50641088.0</td>\n",
              "      <td>Contreras, Itzhell</td>\n",
              "      <td>Prairie</td>\n",
              "      <td>1st</td>\n",
              "      <td>Stoffey A</td>\n",
              "      <td>Mathematics</td>\n",
              "      <td>Stoffey A</td>\n",
              "      <td>F</td>\n",
              "      <td>No</td>\n",
              "      <td>PY1</td>\n",
              "      <td>Yes</td>\n",
              "      <td>Other</td>\n",
              "      <td>Yes</td>\n",
              "      <td>10.0</td>\n",
              "      <td>181.0</td>\n",
              "      <td>20.0</td>\n",
              "      <td>191.0</td>\n",
              "      <td>16.0</td>\n",
              "      <td>187.0</td>\n",
              "      <td>171.0</td>\n",
              "      <td>75.0</td>\n",
              "      <td>167.0</td>\n",
              "      <td>68.0</td>\n",
              "      <td>171.0</td>\n",
              "      <td>75.0</td>\n",
              "      <td>173.0</td>\n",
              "      <td>56.0</td>\n",
              "      <td>67.0</td>\n",
              "      <td>2.0</td>\n",
              "      <td>0.0</td>\n",
              "      <td>15.0</td>\n",
              "      <td>Severe Chronic Absence</td>\n",
              "      <td>0</td>\n",
              "      <td>-0.438035</td>\n",
              "      <td>Fewer Incidents than Peers</td>\n",
              "    </tr>\n",
              "    <tr>\n",
              "      <th>3</th>\n",
              "      <td>50556635</td>\n",
              "      <td>50556635.0</td>\n",
              "      <td>Corona, Ilani</td>\n",
              "      <td>Prairie</td>\n",
              "      <td>1st</td>\n",
              "      <td>Stoffey A</td>\n",
              "      <td>Mathematics</td>\n",
              "      <td>Stoffey A</td>\n",
              "      <td>F</td>\n",
              "      <td>No</td>\n",
              "      <td>Not EL</td>\n",
              "      <td>Yes</td>\n",
              "      <td>Hispanic or Latino</td>\n",
              "      <td>Yes</td>\n",
              "      <td>7.0</td>\n",
              "      <td>201.0</td>\n",
              "      <td>14.0</td>\n",
              "      <td>208.0</td>\n",
              "      <td>9.0</td>\n",
              "      <td>203.0</td>\n",
              "      <td>194.0</td>\n",
              "      <td>99.0</td>\n",
              "      <td>181.0</td>\n",
              "      <td>94.0</td>\n",
              "      <td>194.0</td>\n",
              "      <td>99.0</td>\n",
              "      <td>190.0</td>\n",
              "      <td>93.0</td>\n",
              "      <td>70.0</td>\n",
              "      <td>-4.0</td>\n",
              "      <td>0.0</td>\n",
              "      <td>0.0</td>\n",
              "      <td>Perfect Attendance</td>\n",
              "      <td>0</td>\n",
              "      <td>-0.438035</td>\n",
              "      <td>Fewer Incidents than Peers</td>\n",
              "    </tr>\n",
              "    <tr>\n",
              "      <th>4</th>\n",
              "      <td>50641079</td>\n",
              "      <td>50641079.0</td>\n",
              "      <td>de La O, Kamyla</td>\n",
              "      <td>Prairie</td>\n",
              "      <td>1st</td>\n",
              "      <td>Stoffey A</td>\n",
              "      <td>Mathematics</td>\n",
              "      <td>Stoffey A</td>\n",
              "      <td>F</td>\n",
              "      <td>No</td>\n",
              "      <td>Not EL</td>\n",
              "      <td>Yes</td>\n",
              "      <td>Other</td>\n",
              "      <td>Yes</td>\n",
              "      <td>9.0</td>\n",
              "      <td>190.0</td>\n",
              "      <td>17.0</td>\n",
              "      <td>198.0</td>\n",
              "      <td>13.0</td>\n",
              "      <td>194.0</td>\n",
              "      <td>181.0</td>\n",
              "      <td>92.0</td>\n",
              "      <td>165.0</td>\n",
              "      <td>63.0</td>\n",
              "      <td>181.0</td>\n",
              "      <td>92.0</td>\n",
              "      <td>189.0</td>\n",
              "      <td>92.0</td>\n",
              "      <td>99.0</td>\n",
              "      <td>8.0</td>\n",
              "      <td>0.0</td>\n",
              "      <td>10.0</td>\n",
              "      <td>Chronic Absence</td>\n",
              "      <td>0</td>\n",
              "      <td>-0.438035</td>\n",
              "      <td>Fewer Incidents than Peers</td>\n",
              "    </tr>\n",
              "    <tr>\n",
              "      <th>...</th>\n",
              "      <td>...</td>\n",
              "      <td>...</td>\n",
              "      <td>...</td>\n",
              "      <td>...</td>\n",
              "      <td>...</td>\n",
              "      <td>...</td>\n",
              "      <td>...</td>\n",
              "      <td>...</td>\n",
              "      <td>...</td>\n",
              "      <td>...</td>\n",
              "      <td>...</td>\n",
              "      <td>...</td>\n",
              "      <td>...</td>\n",
              "      <td>...</td>\n",
              "      <td>...</td>\n",
              "      <td>...</td>\n",
              "      <td>...</td>\n",
              "      <td>...</td>\n",
              "      <td>...</td>\n",
              "      <td>...</td>\n",
              "      <td>...</td>\n",
              "      <td>...</td>\n",
              "      <td>...</td>\n",
              "      <td>...</td>\n",
              "      <td>...</td>\n",
              "      <td>...</td>\n",
              "      <td>...</td>\n",
              "      <td>...</td>\n",
              "      <td>...</td>\n",
              "      <td>...</td>\n",
              "      <td>...</td>\n",
              "      <td>...</td>\n",
              "      <td>...</td>\n",
              "      <td>...</td>\n",
              "      <td>...</td>\n",
              "      <td>...</td>\n",
              "    </tr>\n",
              "    <tr>\n",
              "      <th>5917</th>\n",
              "      <td>60040610</td>\n",
              "      <td>60040610.0</td>\n",
              "      <td>Wilson, Asia</td>\n",
              "      <td>Art in Motion</td>\n",
              "      <td>7th</td>\n",
              "      <td>Hicks M</td>\n",
              "      <td>Reading</td>\n",
              "      <td>Drumgoole L</td>\n",
              "      <td>F</td>\n",
              "      <td>No</td>\n",
              "      <td>Not EL</td>\n",
              "      <td>No</td>\n",
              "      <td>BLK</td>\n",
              "      <td>Yes</td>\n",
              "      <td>2.0</td>\n",
              "      <td>227.0</td>\n",
              "      <td>4.0</td>\n",
              "      <td>229.0</td>\n",
              "      <td>3.0</td>\n",
              "      <td>228.0</td>\n",
              "      <td>NaN</td>\n",
              "      <td>NaN</td>\n",
              "      <td>225.0</td>\n",
              "      <td>76.0</td>\n",
              "      <td>225.0</td>\n",
              "      <td>76.0</td>\n",
              "      <td>215.0</td>\n",
              "      <td>46.0</td>\n",
              "      <td>2.0</td>\n",
              "      <td>-10.0</td>\n",
              "      <td>0.0</td>\n",
              "      <td>4.0</td>\n",
              "      <td>Strong Attendance</td>\n",
              "      <td>3</td>\n",
              "      <td>-0.336406</td>\n",
              "      <td>Fewer Incidents than Peers</td>\n",
              "    </tr>\n",
              "    <tr>\n",
              "      <th>5918</th>\n",
              "      <td>50263275</td>\n",
              "      <td>50263275.0</td>\n",
              "      <td>Woods, Collin</td>\n",
              "      <td>Art in Motion</td>\n",
              "      <td>8th</td>\n",
              "      <td>Hudson A</td>\n",
              "      <td>Reading</td>\n",
              "      <td>Brinkman K</td>\n",
              "      <td>M</td>\n",
              "      <td>No</td>\n",
              "      <td>Not EL</td>\n",
              "      <td>No</td>\n",
              "      <td>BLK</td>\n",
              "      <td>Yes</td>\n",
              "      <td>1.0</td>\n",
              "      <td>234.0</td>\n",
              "      <td>2.0</td>\n",
              "      <td>235.0</td>\n",
              "      <td>2.0</td>\n",
              "      <td>235.0</td>\n",
              "      <td>233.0</td>\n",
              "      <td>NaN</td>\n",
              "      <td>231.0</td>\n",
              "      <td>27.0</td>\n",
              "      <td>233.0</td>\n",
              "      <td>27.0</td>\n",
              "      <td>237.0</td>\n",
              "      <td>88.0</td>\n",
              "      <td>84.0</td>\n",
              "      <td>4.0</td>\n",
              "      <td>1.0</td>\n",
              "      <td>8.0</td>\n",
              "      <td>Attednance Risk</td>\n",
              "      <td>3</td>\n",
              "      <td>-0.336406</td>\n",
              "      <td>Fewer Incidents than Peers</td>\n",
              "    </tr>\n",
              "    <tr>\n",
              "      <th>5919</th>\n",
              "      <td>50283392</td>\n",
              "      <td>50283392.0</td>\n",
              "      <td>Woods, Zaria</td>\n",
              "      <td>Art in Motion</td>\n",
              "      <td>7th</td>\n",
              "      <td>Keys V</td>\n",
              "      <td>Reading</td>\n",
              "      <td>Drumgoole L</td>\n",
              "      <td>F</td>\n",
              "      <td>No</td>\n",
              "      <td>Not EL</td>\n",
              "      <td>No</td>\n",
              "      <td>BLK</td>\n",
              "      <td>Yes</td>\n",
              "      <td>3.0</td>\n",
              "      <td>219.0</td>\n",
              "      <td>5.0</td>\n",
              "      <td>221.0</td>\n",
              "      <td>4.0</td>\n",
              "      <td>220.0</td>\n",
              "      <td>216.0</td>\n",
              "      <td>NaN</td>\n",
              "      <td>204.0</td>\n",
              "      <td>26.0</td>\n",
              "      <td>216.0</td>\n",
              "      <td>26.0</td>\n",
              "      <td>197.0</td>\n",
              "      <td>10.0</td>\n",
              "      <td>3.0</td>\n",
              "      <td>-19.0</td>\n",
              "      <td>0.0</td>\n",
              "      <td>0.0</td>\n",
              "      <td>Perfect Attendance</td>\n",
              "      <td>0</td>\n",
              "      <td>-0.696840</td>\n",
              "      <td>Fewer Incidents than Peers</td>\n",
              "    </tr>\n",
              "    <tr>\n",
              "      <th>5920</th>\n",
              "      <td>60043855</td>\n",
              "      <td>60043855.0</td>\n",
              "      <td>Wright, Dariyon</td>\n",
              "      <td>Art in Motion</td>\n",
              "      <td>7th</td>\n",
              "      <td>Drumgoole L</td>\n",
              "      <td>Reading</td>\n",
              "      <td>Drumgoole L</td>\n",
              "      <td>M</td>\n",
              "      <td>No</td>\n",
              "      <td>Not EL</td>\n",
              "      <td>No</td>\n",
              "      <td>BLK</td>\n",
              "      <td>Yes</td>\n",
              "      <td>3.0</td>\n",
              "      <td>220.0</td>\n",
              "      <td>5.0</td>\n",
              "      <td>222.0</td>\n",
              "      <td>4.0</td>\n",
              "      <td>221.0</td>\n",
              "      <td>NaN</td>\n",
              "      <td>NaN</td>\n",
              "      <td>217.0</td>\n",
              "      <td>58.0</td>\n",
              "      <td>217.0</td>\n",
              "      <td>58.0</td>\n",
              "      <td>230.0</td>\n",
              "      <td>82.0</td>\n",
              "      <td>98.0</td>\n",
              "      <td>13.0</td>\n",
              "      <td>1.0</td>\n",
              "      <td>2.0</td>\n",
              "      <td>Strong Attendance</td>\n",
              "      <td>0</td>\n",
              "      <td>-0.696840</td>\n",
              "      <td>Fewer Incidents than Peers</td>\n",
              "    </tr>\n",
              "    <tr>\n",
              "      <th>5921</th>\n",
              "      <td>50067381</td>\n",
              "      <td>50067381.0</td>\n",
              "      <td>Young, Ahmadiya</td>\n",
              "      <td>Art in Motion</td>\n",
              "      <td>7th</td>\n",
              "      <td>Keys V</td>\n",
              "      <td>Reading</td>\n",
              "      <td>Drumgoole L</td>\n",
              "      <td>F</td>\n",
              "      <td>No</td>\n",
              "      <td>Not EL</td>\n",
              "      <td>No</td>\n",
              "      <td>BLK</td>\n",
              "      <td>Yes</td>\n",
              "      <td>2.0</td>\n",
              "      <td>228.0</td>\n",
              "      <td>3.0</td>\n",
              "      <td>229.0</td>\n",
              "      <td>2.0</td>\n",
              "      <td>228.0</td>\n",
              "      <td>226.0</td>\n",
              "      <td>76.0</td>\n",
              "      <td>NaN</td>\n",
              "      <td>NaN</td>\n",
              "      <td>226.0</td>\n",
              "      <td>76.0</td>\n",
              "      <td>224.0</td>\n",
              "      <td>69.0</td>\n",
              "      <td>NaN</td>\n",
              "      <td>-2.0</td>\n",
              "      <td>0.0</td>\n",
              "      <td>1.0</td>\n",
              "      <td>Strong Attendance</td>\n",
              "      <td>0</td>\n",
              "      <td>-0.696840</td>\n",
              "      <td>Fewer Incidents than Peers</td>\n",
              "    </tr>\n",
              "  </tbody>\n",
              "</table>\n",
              "<p>5922 rows × 36 columns</p>\n",
              "</div>"
            ],
            "text/plain": [
              "      StudentNumber  ...                       DisciplineCategory\n",
              "0          50443373  ...  Significantly More Incidents than Peers\n",
              "1          50535602  ...               Fewer Incidents than Peers\n",
              "2          50641088  ...               Fewer Incidents than Peers\n",
              "3          50556635  ...               Fewer Incidents than Peers\n",
              "4          50641079  ...               Fewer Incidents than Peers\n",
              "...             ...  ...                                      ...\n",
              "5917       60040610  ...               Fewer Incidents than Peers\n",
              "5918       50263275  ...               Fewer Incidents than Peers\n",
              "5919       50283392  ...               Fewer Incidents than Peers\n",
              "5920       60043855  ...               Fewer Incidents than Peers\n",
              "5921       50067381  ...               Fewer Incidents than Peers\n",
              "\n",
              "[5922 rows x 36 columns]"
            ]
          },
          "metadata": {
            "tags": []
          },
          "execution_count": 122
        }
      ]
    },
    {
      "cell_type": "code",
      "metadata": {
        "id": "m_abwyyJhf1V",
        "colab_type": "code",
        "colab": {}
      },
      "source": [
        "keep = ['W20RIT','S20CRTargetRIT','F19RIT','W20TargetRIT','S20TypicalTargetRIT']"
      ],
      "execution_count": 0,
      "outputs": []
    },
    {
      "cell_type": "code",
      "metadata": {
        "id": "KqRG8mU65eQk",
        "colab_type": "code",
        "colab": {
          "base_uri": "https://localhost:8080/",
          "height": 483
        },
        "outputId": "c0554799-a56d-4766-a57b-f64979241177"
      },
      "source": [
        "df.groupby(['Campus',\"Discipline\"], as_index=False)[keep].mean().round(1)"
      ],
      "execution_count": 124,
      "outputs": [
        {
          "output_type": "execute_result",
          "data": {
            "text/html": [
              "<div>\n",
              "<style scoped>\n",
              "    .dataframe tbody tr th:only-of-type {\n",
              "        vertical-align: middle;\n",
              "    }\n",
              "\n",
              "    .dataframe tbody tr th {\n",
              "        vertical-align: top;\n",
              "    }\n",
              "\n",
              "    .dataframe thead th {\n",
              "        text-align: right;\n",
              "    }\n",
              "</style>\n",
              "<table border=\"1\" class=\"dataframe\">\n",
              "  <thead>\n",
              "    <tr style=\"text-align: right;\">\n",
              "      <th></th>\n",
              "      <th>Campus</th>\n",
              "      <th>Discipline</th>\n",
              "      <th>W20RIT</th>\n",
              "      <th>S20CRTargetRIT</th>\n",
              "      <th>F19RIT</th>\n",
              "      <th>W20TargetRIT</th>\n",
              "      <th>S20TypicalTargetRIT</th>\n",
              "    </tr>\n",
              "  </thead>\n",
              "  <tbody>\n",
              "    <tr>\n",
              "      <th>0</th>\n",
              "      <td>3146</td>\n",
              "      <td>Mathematics</td>\n",
              "      <td>NaN</td>\n",
              "      <td>191.8</td>\n",
              "      <td>170.5</td>\n",
              "      <td>182.9</td>\n",
              "      <td>188.6</td>\n",
              "    </tr>\n",
              "    <tr>\n",
              "      <th>1</th>\n",
              "      <td>3146</td>\n",
              "      <td>Reading</td>\n",
              "      <td>NaN</td>\n",
              "      <td>185.5</td>\n",
              "      <td>167.3</td>\n",
              "      <td>177.7</td>\n",
              "      <td>182.8</td>\n",
              "    </tr>\n",
              "    <tr>\n",
              "      <th>2</th>\n",
              "      <td>3147</td>\n",
              "      <td>Mathematics</td>\n",
              "      <td>NaN</td>\n",
              "      <td>183.8</td>\n",
              "      <td>162.7</td>\n",
              "      <td>174.0</td>\n",
              "      <td>180.9</td>\n",
              "    </tr>\n",
              "    <tr>\n",
              "      <th>3</th>\n",
              "      <td>3147</td>\n",
              "      <td>Reading</td>\n",
              "      <td>NaN</td>\n",
              "      <td>179.5</td>\n",
              "      <td>160.9</td>\n",
              "      <td>170.9</td>\n",
              "      <td>177.1</td>\n",
              "    </tr>\n",
              "    <tr>\n",
              "      <th>4</th>\n",
              "      <td>Art in Motion</td>\n",
              "      <td>Mathematics</td>\n",
              "      <td>218.6</td>\n",
              "      <td>230.0</td>\n",
              "      <td>216.5</td>\n",
              "      <td>225.6</td>\n",
              "      <td>225.9</td>\n",
              "    </tr>\n",
              "    <tr>\n",
              "      <th>5</th>\n",
              "      <td>Art in Motion</td>\n",
              "      <td>Reading</td>\n",
              "      <td>215.6</td>\n",
              "      <td>222.6</td>\n",
              "      <td>215.7</td>\n",
              "      <td>220.0</td>\n",
              "      <td>220.6</td>\n",
              "    </tr>\n",
              "    <tr>\n",
              "      <th>6</th>\n",
              "      <td>Bucktown</td>\n",
              "      <td>Mathematics</td>\n",
              "      <td>202.4</td>\n",
              "      <td>215.6</td>\n",
              "      <td>192.7</td>\n",
              "      <td>209.5</td>\n",
              "      <td>211.9</td>\n",
              "    </tr>\n",
              "    <tr>\n",
              "      <th>7</th>\n",
              "      <td>Bucktown</td>\n",
              "      <td>Reading</td>\n",
              "      <td>195.8</td>\n",
              "      <td>206.9</td>\n",
              "      <td>187.8</td>\n",
              "      <td>202.2</td>\n",
              "      <td>204.8</td>\n",
              "    </tr>\n",
              "    <tr>\n",
              "      <th>8</th>\n",
              "      <td>Irving Park</td>\n",
              "      <td>Mathematics</td>\n",
              "      <td>200.3</td>\n",
              "      <td>211.1</td>\n",
              "      <td>194.9</td>\n",
              "      <td>204.6</td>\n",
              "      <td>207.5</td>\n",
              "    </tr>\n",
              "    <tr>\n",
              "      <th>9</th>\n",
              "      <td>Irving Park</td>\n",
              "      <td>Reading</td>\n",
              "      <td>195.9</td>\n",
              "      <td>203.2</td>\n",
              "      <td>190.9</td>\n",
              "      <td>197.9</td>\n",
              "      <td>201.1</td>\n",
              "    </tr>\n",
              "    <tr>\n",
              "      <th>10</th>\n",
              "      <td>Prairie</td>\n",
              "      <td>Mathematics</td>\n",
              "      <td>201.7</td>\n",
              "      <td>211.8</td>\n",
              "      <td>194.3</td>\n",
              "      <td>205.4</td>\n",
              "      <td>207.6</td>\n",
              "    </tr>\n",
              "    <tr>\n",
              "      <th>11</th>\n",
              "      <td>Prairie</td>\n",
              "      <td>Reading</td>\n",
              "      <td>195.2</td>\n",
              "      <td>201.6</td>\n",
              "      <td>188.5</td>\n",
              "      <td>196.1</td>\n",
              "      <td>198.9</td>\n",
              "    </tr>\n",
              "    <tr>\n",
              "      <th>12</th>\n",
              "      <td>West Belden</td>\n",
              "      <td>Mathematics</td>\n",
              "      <td>201.9</td>\n",
              "      <td>215.8</td>\n",
              "      <td>193.8</td>\n",
              "      <td>209.9</td>\n",
              "      <td>212.2</td>\n",
              "    </tr>\n",
              "    <tr>\n",
              "      <th>13</th>\n",
              "      <td>West Belden</td>\n",
              "      <td>Reading</td>\n",
              "      <td>196.3</td>\n",
              "      <td>206.5</td>\n",
              "      <td>189.6</td>\n",
              "      <td>201.8</td>\n",
              "      <td>204.4</td>\n",
              "    </tr>\n",
              "  </tbody>\n",
              "</table>\n",
              "</div>"
            ],
            "text/plain": [
              "           Campus   Discipline  ...  W20TargetRIT  S20TypicalTargetRIT\n",
              "0            3146  Mathematics  ...         182.9                188.6\n",
              "1            3146      Reading  ...         177.7                182.8\n",
              "2            3147  Mathematics  ...         174.0                180.9\n",
              "3            3147      Reading  ...         170.9                177.1\n",
              "4   Art in Motion  Mathematics  ...         225.6                225.9\n",
              "5   Art in Motion      Reading  ...         220.0                220.6\n",
              "6        Bucktown  Mathematics  ...         209.5                211.9\n",
              "7        Bucktown      Reading  ...         202.2                204.8\n",
              "8     Irving Park  Mathematics  ...         204.6                207.5\n",
              "9     Irving Park      Reading  ...         197.9                201.1\n",
              "10        Prairie  Mathematics  ...         205.4                207.6\n",
              "11        Prairie      Reading  ...         196.1                198.9\n",
              "12    West Belden  Mathematics  ...         209.9                212.2\n",
              "13    West Belden      Reading  ...         201.8                204.4\n",
              "\n",
              "[14 rows x 7 columns]"
            ]
          },
          "metadata": {
            "tags": []
          },
          "execution_count": 124
        }
      ]
    },
    {
      "cell_type": "markdown",
      "metadata": {
        "id": "dHeB2y6ziQNe",
        "colab_type": "text"
      },
      "source": [
        "One per campus per grade and a campus summary so: campus, grade level  with 5 numerical values (background Fall RIT, Winter Target, Spring Typical Target; bar WInter RIT and Line Spring College Ready)."
      ]
    },
    {
      "cell_type": "code",
      "metadata": {
        "id": "8lAgij0oDLHG",
        "colab_type": "code",
        "colab": {
          "base_uri": "https://localhost:8080/",
          "height": 111
        },
        "outputId": "16231722-50cd-4d9c-d691-691f2f1ecd65"
      },
      "source": [
        "#Total math and reading mean for Distinctive Schools\n",
        "total = df.groupby([\"Discipline\"], as_index=False)[keep].mean().round(1)\n",
        "total"
      ],
      "execution_count": 129,
      "outputs": [
        {
          "output_type": "execute_result",
          "data": {
            "text/html": [
              "<div>\n",
              "<style scoped>\n",
              "    .dataframe tbody tr th:only-of-type {\n",
              "        vertical-align: middle;\n",
              "    }\n",
              "\n",
              "    .dataframe tbody tr th {\n",
              "        vertical-align: top;\n",
              "    }\n",
              "\n",
              "    .dataframe thead th {\n",
              "        text-align: right;\n",
              "    }\n",
              "</style>\n",
              "<table border=\"1\" class=\"dataframe\">\n",
              "  <thead>\n",
              "    <tr style=\"text-align: right;\">\n",
              "      <th></th>\n",
              "      <th>Discipline</th>\n",
              "      <th>W20RIT</th>\n",
              "      <th>S20CRTargetRIT</th>\n",
              "      <th>F19RIT</th>\n",
              "      <th>W20TargetRIT</th>\n",
              "      <th>S20TypicalTargetRIT</th>\n",
              "    </tr>\n",
              "  </thead>\n",
              "  <tbody>\n",
              "    <tr>\n",
              "      <th>0</th>\n",
              "      <td>Mathematics</td>\n",
              "      <td>203.0</td>\n",
              "      <td>210.1</td>\n",
              "      <td>190.2</td>\n",
              "      <td>203.4</td>\n",
              "      <td>206.4</td>\n",
              "    </tr>\n",
              "    <tr>\n",
              "      <th>1</th>\n",
              "      <td>Reading</td>\n",
              "      <td>197.5</td>\n",
              "      <td>201.9</td>\n",
              "      <td>186.3</td>\n",
              "      <td>196.5</td>\n",
              "      <td>199.6</td>\n",
              "    </tr>\n",
              "  </tbody>\n",
              "</table>\n",
              "</div>"
            ],
            "text/plain": [
              "    Discipline  W20RIT  ...  W20TargetRIT  S20TypicalTargetRIT\n",
              "0  Mathematics   203.0  ...         203.4                206.4\n",
              "1      Reading   197.5  ...         196.5                199.6\n",
              "\n",
              "[2 rows x 6 columns]"
            ]
          },
          "metadata": {
            "tags": []
          },
          "execution_count": 129
        }
      ]
    },
    {
      "cell_type": "code",
      "metadata": {
        "id": "IZbVJkIrEfSP",
        "colab_type": "code",
        "colab": {
          "base_uri": "https://localhost:8080/",
          "height": 139
        },
        "outputId": "bea5df56-a67c-482d-9a7c-ef5ff119ee40"
      },
      "source": [
        "limits = [186.3, 196.5, 199.6]\n",
        "data_to_plot = (\"Mathematics\", 197.5, 201.9)\n",
        "palette = sns.light_palette('#ef7521', 5)\n",
        "\n",
        "fig, ax = plt.subplots()\n",
        "ax.set_aspect('equal')\n",
        "ax.set_yticks([1])\n",
        "ax.set_xlim(185, 205)\n",
        "ax.set_yticklabels([data_to_plot[0]])\n",
        "\n",
        "prev_limit = 0\n",
        "for idx, lim in enumerate(limits):\n",
        "    ax.barh([1], lim-prev_limit, left=prev_limit, height=4, color=palette[idx])\n",
        "    prev_limit = lim\n",
        "\n",
        "# Draw the value we're measuring\n",
        "ax.barh([1], data_to_plot[1], color='black', height=2)"
      ],
      "execution_count": 140,
      "outputs": [
        {
          "output_type": "execute_result",
          "data": {
            "text/plain": [
              "<BarContainer object of 1 artists>"
            ]
          },
          "metadata": {
            "tags": []
          },
          "execution_count": 140
        },
        {
          "output_type": "display_data",
          "data": {
            "image/png": "[encoded data removed]",
            "text/plain": [
              "<Figure size 432x288 with 1 Axes>"
            ]
          },
          "metadata": {
            "tags": []
          }
        }
      ]
    },
    {
      "cell_type": "code",
      "metadata": {
        "id": "cO--dQyQDi7K",
        "colab_type": "code",
        "colab": {
          "base_uri": "https://localhost:8080/",
          "height": 126
        },
        "outputId": "76e06abe-d8aa-4a31-c138-ed384edc5786"
      },
      "source": [
        "limits = [190.1, 203.4, 206.4]\n",
        "data_to_plot = (\"Mathematics\", 203, 210.1)\n",
        "palette = sns.light_palette('#b24ec4', 5)\n",
        "\n",
        "fig, ax = plt.subplots()\n",
        "ax.set_aspect('equal')\n",
        "ax.set_yticks([1])\n",
        "ax.set_xlim(185, 215)\n",
        "ax.set_yticklabels([data_to_plot[0]])\n",
        "\n",
        "prev_limit = 0\n",
        "for idx, lim in enumerate(limits):\n",
        "    ax.barh([1], lim-prev_limit, left=prev_limit, height=5, color=palette[idx])\n",
        "    prev_limit = lim\n",
        "\n",
        "# Draw the value we're measuring\n",
        "ax.barh([1], data_to_plot[1], color='black', height=2)"
      ],
      "execution_count": 137,
      "outputs": [
        {
          "output_type": "execute_result",
          "data": {
            "text/plain": [
              "<BarContainer object of 1 artists>"
            ]
          },
          "metadata": {
            "tags": []
          },
          "execution_count": 137
        },
        {
          "output_type": "display_data",
          "data": {
            "image/png": "[encoded data removed]",
            "text/plain": [
              "<Figure size 432x288 with 1 Axes>"
            ]
          },
          "metadata": {
            "tags": []
          }
        }
      ]
    },
    {
      "cell_type": "code",
      "metadata": {
        "id": "X4zeQmnAh7Du",
        "colab_type": "code",
        "colab": {}
      },
      "source": [
        "#adding as_index=False to make the groupby output into a dataframe\n",
        "schools = df.groupby(['Campus',\"Discipline\"], as_index=False)[keep].mean().round(1)"
      ],
      "execution_count": 0,
      "outputs": []
    },
    {
      "cell_type": "code",
      "metadata": {
        "id": "H0f_i_v6jGhN",
        "colab_type": "code",
        "colab": {}
      },
      "source": [
        "schools= schools.loc[4:,:]"
      ],
      "execution_count": 0,
      "outputs": []
    },
    {
      "cell_type": "code",
      "metadata": {
        "id": "M7ZjuUeAik25",
        "colab_type": "code",
        "colab": {
          "base_uri": "https://localhost:8080/",
          "height": 359
        },
        "outputId": "d897bbaf-116b-462c-d6eb-d4c906ad4908"
      },
      "source": [
        "schools"
      ],
      "execution_count": 127,
      "outputs": [
        {
          "output_type": "execute_result",
          "data": {
            "text/html": [
              "<div>\n",
              "<style scoped>\n",
              "    .dataframe tbody tr th:only-of-type {\n",
              "        vertical-align: middle;\n",
              "    }\n",
              "\n",
              "    .dataframe tbody tr th {\n",
              "        vertical-align: top;\n",
              "    }\n",
              "\n",
              "    .dataframe thead th {\n",
              "        text-align: right;\n",
              "    }\n",
              "</style>\n",
              "<table border=\"1\" class=\"dataframe\">\n",
              "  <thead>\n",
              "    <tr style=\"text-align: right;\">\n",
              "      <th></th>\n",
              "      <th>Campus</th>\n",
              "      <th>Discipline</th>\n",
              "      <th>W20RIT</th>\n",
              "      <th>S20CRTargetRIT</th>\n",
              "      <th>F19RIT</th>\n",
              "      <th>W20TargetRIT</th>\n",
              "      <th>S20TypicalTargetRIT</th>\n",
              "    </tr>\n",
              "  </thead>\n",
              "  <tbody>\n",
              "    <tr>\n",
              "      <th>4</th>\n",
              "      <td>Art in Motion</td>\n",
              "      <td>Mathematics</td>\n",
              "      <td>218.6</td>\n",
              "      <td>230.0</td>\n",
              "      <td>216.5</td>\n",
              "      <td>225.6</td>\n",
              "      <td>225.9</td>\n",
              "    </tr>\n",
              "    <tr>\n",
              "      <th>5</th>\n",
              "      <td>Art in Motion</td>\n",
              "      <td>Reading</td>\n",
              "      <td>215.6</td>\n",
              "      <td>222.6</td>\n",
              "      <td>215.7</td>\n",
              "      <td>220.0</td>\n",
              "      <td>220.6</td>\n",
              "    </tr>\n",
              "    <tr>\n",
              "      <th>6</th>\n",
              "      <td>Bucktown</td>\n",
              "      <td>Mathematics</td>\n",
              "      <td>202.4</td>\n",
              "      <td>215.6</td>\n",
              "      <td>192.7</td>\n",
              "      <td>209.5</td>\n",
              "      <td>211.9</td>\n",
              "    </tr>\n",
              "    <tr>\n",
              "      <th>7</th>\n",
              "      <td>Bucktown</td>\n",
              "      <td>Reading</td>\n",
              "      <td>195.8</td>\n",
              "      <td>206.9</td>\n",
              "      <td>187.8</td>\n",
              "      <td>202.2</td>\n",
              "      <td>204.8</td>\n",
              "    </tr>\n",
              "    <tr>\n",
              "      <th>8</th>\n",
              "      <td>Irving Park</td>\n",
              "      <td>Mathematics</td>\n",
              "      <td>200.3</td>\n",
              "      <td>211.1</td>\n",
              "      <td>194.9</td>\n",
              "      <td>204.6</td>\n",
              "      <td>207.5</td>\n",
              "    </tr>\n",
              "    <tr>\n",
              "      <th>9</th>\n",
              "      <td>Irving Park</td>\n",
              "      <td>Reading</td>\n",
              "      <td>195.9</td>\n",
              "      <td>203.2</td>\n",
              "      <td>190.9</td>\n",
              "      <td>197.9</td>\n",
              "      <td>201.1</td>\n",
              "    </tr>\n",
              "    <tr>\n",
              "      <th>10</th>\n",
              "      <td>Prairie</td>\n",
              "      <td>Mathematics</td>\n",
              "      <td>201.7</td>\n",
              "      <td>211.8</td>\n",
              "      <td>194.3</td>\n",
              "      <td>205.4</td>\n",
              "      <td>207.6</td>\n",
              "    </tr>\n",
              "    <tr>\n",
              "      <th>11</th>\n",
              "      <td>Prairie</td>\n",
              "      <td>Reading</td>\n",
              "      <td>195.2</td>\n",
              "      <td>201.6</td>\n",
              "      <td>188.5</td>\n",
              "      <td>196.1</td>\n",
              "      <td>198.9</td>\n",
              "    </tr>\n",
              "    <tr>\n",
              "      <th>12</th>\n",
              "      <td>West Belden</td>\n",
              "      <td>Mathematics</td>\n",
              "      <td>201.9</td>\n",
              "      <td>215.8</td>\n",
              "      <td>193.8</td>\n",
              "      <td>209.9</td>\n",
              "      <td>212.2</td>\n",
              "    </tr>\n",
              "    <tr>\n",
              "      <th>13</th>\n",
              "      <td>West Belden</td>\n",
              "      <td>Reading</td>\n",
              "      <td>196.3</td>\n",
              "      <td>206.5</td>\n",
              "      <td>189.6</td>\n",
              "      <td>201.8</td>\n",
              "      <td>204.4</td>\n",
              "    </tr>\n",
              "  </tbody>\n",
              "</table>\n",
              "</div>"
            ],
            "text/plain": [
              "           Campus   Discipline  ...  W20TargetRIT  S20TypicalTargetRIT\n",
              "4   Art in Motion  Mathematics  ...         225.6                225.9\n",
              "5   Art in Motion      Reading  ...         220.0                220.6\n",
              "6        Bucktown  Mathematics  ...         209.5                211.9\n",
              "7        Bucktown      Reading  ...         202.2                204.8\n",
              "8     Irving Park  Mathematics  ...         204.6                207.5\n",
              "9     Irving Park      Reading  ...         197.9                201.1\n",
              "10        Prairie  Mathematics  ...         205.4                207.6\n",
              "11        Prairie      Reading  ...         196.1                198.9\n",
              "12    West Belden  Mathematics  ...         209.9                212.2\n",
              "13    West Belden      Reading  ...         201.8                204.4\n",
              "\n",
              "[10 rows x 7 columns]"
            ]
          },
          "metadata": {
            "tags": []
          },
          "execution_count": 127
        }
      ]
    },
    {
      "cell_type": "code",
      "metadata": {
        "id": "N28-VD8gNaFx",
        "colab_type": "code",
        "colab": {}
      },
      "source": [
        "#Create a floor to round down the W20RIT to the nearest 5\n",
        "schools['Floor'] = schools['W20RIT'].apply(lambda x : int((round(x/5)-1)*5))"
      ],
      "execution_count": 0,
      "outputs": []
    },
    {
      "cell_type": "code",
      "metadata": {
        "id": "G6C68ITCMibD",
        "colab_type": "code",
        "colab": {}
      },
      "source": [
        "#Create a ceiling to round up the S20CRTargetRIT to the nearest 5\n",
        "schools['Ceiling'] = schools['S20CRTargetRIT'].apply(lambda x : int(round(x/5)*5))"
      ],
      "execution_count": 0,
      "outputs": []
    },
    {
      "cell_type": "code",
      "metadata": {
        "id": "zc2V3DQ9Mww7",
        "colab_type": "code",
        "colab": {}
      },
      "source": [
        "math = schools[schools['Discipline']=='Mathematics']"
      ],
      "execution_count": 0,
      "outputs": []
    },
    {
      "cell_type": "code",
      "metadata": {
        "id": "m1v_IU5lb9Wd",
        "colab_type": "code",
        "colab": {}
      },
      "source": [
        "reading = schools[schools['Discipline']=='Reading']"
      ],
      "execution_count": 0,
      "outputs": []
    },
    {
      "cell_type": "code",
      "metadata": {
        "id": "9NhlfjykZibF",
        "colab_type": "code",
        "colab": {}
      },
      "source": [
        "import matplotlib.pyplot as plt\n",
        "import seaborn as sns\n",
        "from matplotlib.ticker import FuncFormatter\n",
        "\n",
        "%matplotlib inline"
      ],
      "execution_count": 0,
      "outputs": []
    },
    {
      "cell_type": "code",
      "metadata": {
        "id": "u7jK5o61Z3oV",
        "colab_type": "code",
        "outputId": "3369508a-57f3-4228-9c78-a973b6e9a526",
        "colab": {
          "base_uri": "https://localhost:8080/",
          "height": 89
        }
      },
      "source": [
        "#reading\n",
        "sns.palplot(sns.light_palette('#ef7521', 5))\n"
      ],
      "execution_count": 132,
      "outputs": [
        {
          "output_type": "display_data",
          "data": {
            "image/png": "[encoded data removed]",
            "text/plain": [
              "<Figure size 360x72 with 1 Axes>"
            ]
          },
          "metadata": {
            "tags": []
          }
        }
      ]
    },
    {
      "cell_type": "code",
      "metadata": {
        "id": "dvZF8nn517a1",
        "colab_type": "code",
        "colab": {
          "base_uri": "https://localhost:8080/",
          "height": 89
        },
        "outputId": "a2978528-030b-4470-b694-d425d4f2c6d5"
      },
      "source": [
        "#MATH'\n",
        "sns.palplot(sns.light_palette('#b24ec4', 5))"
      ],
      "execution_count": 61,
      "outputs": [
        {
          "output_type": "display_data",
          "data": {
            "image/png": "[encoded data removed]",
            "text/plain": [
              "<Figure size 360x72 with 1 Axes>"
            ]
          },
          "metadata": {
            "tags": []
          }
        }
      ]
    },
    {
      "cell_type": "code",
      "metadata": {
        "id": "Fw8KAIBNosSS",
        "colab_type": "code",
        "colab": {
          "base_uri": "https://localhost:8080/",
          "height": 204
        },
        "outputId": "3e82acc6-8f21-415f-e49d-c50b4339abb1"
      },
      "source": [
        "reading.iloc[:5,:4]"
      ],
      "execution_count": 89,
      "outputs": [
        {
          "output_type": "execute_result",
          "data": {
            "text/html": [
              "<div>\n",
              "<style scoped>\n",
              "    .dataframe tbody tr th:only-of-type {\n",
              "        vertical-align: middle;\n",
              "    }\n",
              "\n",
              "    .dataframe tbody tr th {\n",
              "        vertical-align: top;\n",
              "    }\n",
              "\n",
              "    .dataframe thead th {\n",
              "        text-align: right;\n",
              "    }\n",
              "</style>\n",
              "<table border=\"1\" class=\"dataframe\">\n",
              "  <thead>\n",
              "    <tr style=\"text-align: right;\">\n",
              "      <th></th>\n",
              "      <th>Campus</th>\n",
              "      <th>Discipline</th>\n",
              "      <th>W20RIT</th>\n",
              "      <th>S20CRTargetRIT</th>\n",
              "    </tr>\n",
              "  </thead>\n",
              "  <tbody>\n",
              "    <tr>\n",
              "      <th>5</th>\n",
              "      <td>Art in Motion</td>\n",
              "      <td>Reading</td>\n",
              "      <td>215.6</td>\n",
              "      <td>222.6</td>\n",
              "    </tr>\n",
              "    <tr>\n",
              "      <th>7</th>\n",
              "      <td>Bucktown</td>\n",
              "      <td>Reading</td>\n",
              "      <td>195.8</td>\n",
              "      <td>206.9</td>\n",
              "    </tr>\n",
              "    <tr>\n",
              "      <th>9</th>\n",
              "      <td>Irving Park</td>\n",
              "      <td>Reading</td>\n",
              "      <td>195.9</td>\n",
              "      <td>203.2</td>\n",
              "    </tr>\n",
              "    <tr>\n",
              "      <th>11</th>\n",
              "      <td>Prairie</td>\n",
              "      <td>Reading</td>\n",
              "      <td>195.2</td>\n",
              "      <td>201.6</td>\n",
              "    </tr>\n",
              "    <tr>\n",
              "      <th>13</th>\n",
              "      <td>West Belden</td>\n",
              "      <td>Reading</td>\n",
              "      <td>196.3</td>\n",
              "      <td>206.5</td>\n",
              "    </tr>\n",
              "  </tbody>\n",
              "</table>\n",
              "</div>"
            ],
            "text/plain": [
              "           Campus Discipline  W20RIT  S20CRTargetRIT\n",
              "5   Art in Motion    Reading   215.6           222.6\n",
              "7        Bucktown    Reading   195.8           206.9\n",
              "9     Irving Park    Reading   195.9           203.2\n",
              "11        Prairie    Reading   195.2           201.6\n",
              "13    West Belden    Reading   196.3           206.5"
            ]
          },
          "metadata": {
            "tags": []
          },
          "execution_count": 89
        }
      ]
    },
    {
      "cell_type": "code",
      "metadata": {
        "id": "XiacOWaEcJDo",
        "colab_type": "code",
        "colab": {
          "base_uri": "https://localhost:8080/",
          "height": 102
        },
        "outputId": "59346279-1463-47ec-883e-d0aee4fd732f"
      },
      "source": [
        "#Create the text, bar and line\n",
        "tlr= reading.iloc[:5,:4].values.tolist()\n",
        "tlr\n"
      ],
      "execution_count": 90,
      "outputs": [
        {
          "output_type": "execute_result",
          "data": {
            "text/plain": [
              "[['Art in Motion', 'Reading', 215.6, 222.6],\n",
              " ['Bucktown', 'Reading', 195.8, 206.9],\n",
              " ['Irving Park', 'Reading', 195.9, 203.2],\n",
              " ['Prairie', 'Reading', 195.2, 201.6],\n",
              " ['West Belden', 'Reading', 196.3, 206.5]]"
            ]
          },
          "metadata": {
            "tags": []
          },
          "execution_count": 90
        }
      ]
    },
    {
      "cell_type": "code",
      "metadata": {
        "id": "3QevIiFPcPUx",
        "colab_type": "code",
        "colab": {
          "base_uri": "https://localhost:8080/",
          "height": 102
        },
        "outputId": "e2999ea8-8df4-4233-9aa1-48065d2f51ae"
      },
      "source": [
        "#Create the limits\n",
        "llr = reading.iloc[:, np.r_[4:7]].values.tolist()\n",
        "llr"
      ],
      "execution_count": 91,
      "outputs": [
        {
          "output_type": "execute_result",
          "data": {
            "text/plain": [
              "[[215.7, 220.0, 220.6],\n",
              " [187.8, 202.2, 204.8],\n",
              " [190.9, 197.9, 201.1],\n",
              " [188.5, 196.1, 198.9],\n",
              " [189.6, 201.8, 204.4]]"
            ]
          },
          "metadata": {
            "tags": []
          },
          "execution_count": 91
        }
      ]
    },
    {
      "cell_type": "code",
      "metadata": {
        "id": "q5Tfx_R_EFod",
        "colab_type": "code",
        "colab": {
          "base_uri": "https://localhost:8080/",
          "height": 102
        },
        "outputId": "3563fd7a-586f-4002-8150-cb21c8f2fc7e"
      },
      "source": [
        "#Create the text, bar and line\n",
        "tl= math.iloc[:5,:4].values.tolist()\n",
        "tl"
      ],
      "execution_count": 92,
      "outputs": [
        {
          "output_type": "execute_result",
          "data": {
            "text/plain": [
              "[['Art in Motion', 'Mathematics', 218.6, 230.0],\n",
              " ['Bucktown', 'Mathematics', 202.4, 215.6],\n",
              " ['Irving Park', 'Mathematics', 200.3, 211.1],\n",
              " ['Prairie', 'Mathematics', 201.7, 211.8],\n",
              " ['West Belden', 'Mathematics', 201.9, 215.8]]"
            ]
          },
          "metadata": {
            "tags": []
          },
          "execution_count": 92
        }
      ]
    },
    {
      "cell_type": "code",
      "metadata": {
        "id": "9R6uP4G4MAr0",
        "colab_type": "code",
        "colab": {
          "base_uri": "https://localhost:8080/",
          "height": 102
        },
        "outputId": "8d3c1849-6807-43b9-be7c-74195980b398"
      },
      "source": [
        "import numpy as np\n",
        "#Create the limits\n",
        "ll = math.iloc[:, np.r_[4:7]].values.tolist()\n",
        "ll"
      ],
      "execution_count": 93,
      "outputs": [
        {
          "output_type": "execute_result",
          "data": {
            "text/plain": [
              "[[216.5, 225.6, 225.9],\n",
              " [192.7, 209.5, 211.9],\n",
              " [194.9, 204.6, 207.5],\n",
              " [194.3, 205.4, 207.6],\n",
              " [193.8, 209.9, 212.2]]"
            ]
          },
          "metadata": {
            "tags": []
          },
          "execution_count": 93
        }
      ]
    },
    {
      "cell_type": "code",
      "metadata": {
        "id": "YjwX2YkcR4PY",
        "colab_type": "code",
        "colab": {}
      },
      "source": [
        "csfont = {'fontname':'Calibri'}\n",
        "def bulletgraph(data=None, limits=None, labels=None, ranges=None, axis_label=None, title=None,\n",
        "                size=(5, 3), subject= 'Reading', formatter=None, target_color=\"black\", bar_color=\"black\", label_color=\"gray\"):\n",
        "    \"\"\" Build out a bullet graph image\n",
        "        Args:\n",
        "            data = List of labels, measures and targets\n",
        "            limits = list of range valules\n",
        "            labels = list of descriptions of the limit ranges\n",
        "            lim = list of xlims \n",
        "            axis_label = string describing x axis\n",
        "            title = string title of plot\n",
        "            size = tuple for plot size\n",
        "            subject = maths or reading\n",
        "            formatter = matplotlib formatter object for x axis\n",
        "            target_color = color string for the target line\n",
        "            bar_color = color string for the small bar\n",
        "            label_color = color string for the limit label text\n",
        "        Returns:\n",
        "            a matplotlib figure\n",
        "    \"\"\"\n",
        "    # Determine the max value for adjusting the bar height\n",
        "    # Dividing by 10 seems to work pretty well\n",
        "    h = limits[0][-1] / 40\n",
        "\n",
        "    # Use the green palette as a sensible default\n",
        "    \n",
        "    if subject =='Reading':\n",
        "      palette = sns.light_palette('#ef7521', 3, reverse=True)\n",
        "    else:\n",
        "      palette = sns.light_palette('#b24ec4', 3, reverse=True)\n",
        "\n",
        "    # Must be able to handle one or many data sets via multiple subplots\n",
        "    if len(data) == 1:\n",
        "        fig, ax = plt.subplots(figsize=size, sharex=True)\n",
        "    else:\n",
        "        fig, axarr = plt.subplots(len(data), figsize=size, sharex=True)\n",
        "\n",
        "    # Add each bullet graph bar to a subplot\n",
        "    for idx, item in enumerate(data):\n",
        "\n",
        "        # Get the axis from the array of axes returned when the plot is created\n",
        "        if len(data) > 1:\n",
        "            ax = axarr[idx]\n",
        "\n",
        "        # Formatting to get rid of extra marking clutter\n",
        "        ax.set_aspect('equal')\n",
        "        #Text for that bar\n",
        "        ax.set_yticklabels([item[0]])\n",
        "        ax.set_yticks([1])\n",
        "        ax.set_xlim(ranges)\n",
        "        ax.spines['bottom'].set_visible(False)\n",
        "        ax.spines['top'].set_visible(False)\n",
        "        ax.spines['right'].set_visible(False)\n",
        "        ax.spines['left'].set_visible(False)\n",
        "\n",
        "        prev_limit = 0\n",
        "        for idx2, lim in enumerate(limits[idx]):\n",
        "            # Draw the bar\n",
        "            ax.barh([1], lim - prev_limit, left=prev_limit, height=h,\n",
        "                    color=palette[idx2])\n",
        "            prev_limit = lim\n",
        "            rects = ax.patches\n",
        "        # The last item in the list is the value we're measuring\n",
        "        # Draw the value we're measuring\n",
        "        ax.barh([1], item[2], height=(h / 3), color=bar_color)\n",
        "\n",
        "        # Need the ymin and max in order to make sure the target marker\n",
        "        # fits\n",
        "        ymin, ymax = ax.get_ylim()\n",
        "        ax.vlines(item[3], ymin * .9, ymax * .9, linewidth=1.5, color=target_color)\n",
        "\n",
        "    # Now make some labels\n",
        "    if labels is not None:\n",
        "        for rect, label in zip(rects, labels):\n",
        "            height = rect.get_height()\n",
        "            ax.text(\n",
        "                rect.get_x() + rect.get_width() / 2,\n",
        "                -height * .4,\n",
        "                label,\n",
        "                ha='center',\n",
        "                va='bottom',\n",
        "                color=label_color)\n",
        "    if formatter:\n",
        "        ax.xaxis.set_major_formatter(formatter)\n",
        "    if axis_label:\n",
        "        ax.set_xlabel(axis_label)\n",
        "    if title:\n",
        "        fig.suptitle(title, fontsize=20, **csfont)\n",
        "    fig.subplots_adjust(hspace=0)"
      ],
      "execution_count": 0,
      "outputs": []
    },
    {
      "cell_type": "code",
      "metadata": {
        "id": "CQNsI4avqzVS",
        "colab_type": "code",
        "colab": {}
      },
      "source": [
        "import matplotlib.font_manager"
      ],
      "execution_count": 0,
      "outputs": []
    },
    {
      "cell_type": "code",
      "metadata": {
        "id": "ES09y5QlbgBE",
        "colab_type": "code",
        "outputId": "4f67315e-e9de-4a4d-f48c-a40250c32997",
        "colab": {
          "base_uri": "https://localhost:8080/",
          "height": 554
        }
      },
      "source": [
        "bulletgraph(tl, ll, ranges =(190,230), size=(14,8), subject='Math',\n",
        "            axis_label=\"Performance Measure\",title=\"Maths Performance\")"
      ],
      "execution_count": 118,
      "outputs": [
        {
          "output_type": "display_data",
          "data": {
            "image/png": "[encoded data removed]",
            "text/plain": [
              "<Figure size 1008x576 with 5 Axes>"
            ]
          },
          "metadata": {
            "tags": []
          }
        }
      ]
    },
    {
      "cell_type": "code",
      "metadata": {
        "id": "h98nL52DjuYi",
        "colab_type": "code",
        "colab": {
          "base_uri": "https://localhost:8080/",
          "height": 102
        },
        "outputId": "52557411-ad0a-47f0-87ee-d867aabbf5bb"
      },
      "source": [
        "tlr"
      ],
      "execution_count": 86,
      "outputs": [
        {
          "output_type": "execute_result",
          "data": {
            "text/plain": [
              "[['Art in Motion', 'Reading', 215.6, 222.6],\n",
              " ['Bucktown', 'Reading', 195.8, 206.9],\n",
              " ['Irving Park', 'Reading', 195.9, 203.2],\n",
              " ['Prairie', 'Reading', 195.2, 201.6],\n",
              " ['West Belden', 'Reading', 196.3, 206.5]]"
            ]
          },
          "metadata": {
            "tags": []
          },
          "execution_count": 86
        }
      ]
    },
    {
      "cell_type": "code",
      "metadata": {
        "id": "YujFRQh0n66N",
        "colab_type": "code",
        "colab": {
          "base_uri": "https://localhost:8080/",
          "height": 102
        },
        "outputId": "12ea0c52-25e1-456a-ff5a-6e37f3e9b80b"
      },
      "source": [
        "llr"
      ],
      "execution_count": 98,
      "outputs": [
        {
          "output_type": "execute_result",
          "data": {
            "text/plain": [
              "[[215.7, 220.0, 220.6],\n",
              " [187.8, 202.2, 204.8],\n",
              " [190.9, 197.9, 201.1],\n",
              " [188.5, 196.1, 198.9],\n",
              " [189.6, 201.8, 204.4]]"
            ]
          },
          "metadata": {
            "tags": []
          },
          "execution_count": 98
        }
      ]
    },
    {
      "cell_type": "code",
      "metadata": {
        "id": "BcUt32p6ZE9r",
        "colab_type": "code",
        "colab": {
          "base_uri": "https://localhost:8080/",
          "height": 540
        },
        "outputId": "88cee8f5-33d4-4659-a121-d2485678a303"
      },
      "source": [
        "bulletgraph(tlr, llr, ranges =(180,225), size=(14,8), subject='Reading', label_color=\"black\", target_color='black',title=\"Reading Performance\")"
      ],
      "execution_count": 119,
      "outputs": [
        {
          "output_type": "display_data",
          "data": {
            "image/png": "[encoded data removed]",
            "text/plain": [
              "<Figure size 1008x576 with 5 Axes>"
            ]
          },
          "metadata": {
            "tags": []
          }
        }
      ]
    },
    {
      "cell_type": "code",
      "metadata": {
        "id": "KZ5ArwgPjwRw",
        "colab_type": "code",
        "colab": {}
      },
      "source": [
        ""
      ],
      "execution_count": 0,
      "outputs": []
    }
  ]
}