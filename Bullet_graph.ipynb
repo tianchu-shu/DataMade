{
  "nbformat": 4,
  "nbformat_minor": 0,
  "metadata": {
    "colab": {
      "name": "Bullet_graph.ipynb",
      "provenance": [],
      "collapsed_sections": [],
      "include_colab_link": true
    },
    "kernelspec": {
      "name": "python3",
      "display_name": "Python 3"
    }
  },
  "cells": [
    {
      "cell_type": "markdown",
      "metadata": {
        "id": "view-in-github",
        "colab_type": "text"
      },
      "source": [
        "<a href=\"https://colab.research.google.com/github/tianchu-shu/DistinctiveSchools/blob/master/Bullet_graph.ipynb\" target=\"_parent\"><img src=\"https://colab.research.google.com/assets/colab-badge.svg\" alt=\"Open In Colab\"/></a>"
      ]
    },
    {
      "cell_type": "markdown",
      "metadata": {
        "id": "ksIZ5LjcZ5MV",
        "colab_type": "text"
      },
      "source": [
        "https://pbpython.com/bullet-graph.html"
      ]
    },
    {
      "cell_type": "markdown",
      "metadata": {
        "id": "p_6M4WDFFYvX",
        "colab_type": "text"
      },
      "source": [
        "# Load the data"
      ]
    },
    {
      "cell_type": "code",
      "metadata": {
        "id": "_NZGosC4bh4Q",
        "colab_type": "code",
        "outputId": "c127c4cb-70f0-48d7-90d1-19f95e9c625d",
        "colab": {
          "base_uri": "https://localhost:8080/",
          "height": 122
        }
      },
      "source": [
        "from google.colab import drive\n",
        "drive.mount('/content/gdrive')"
      ],
      "execution_count": 1,
      "outputs": [
        {
          "output_type": "stream",
          "text": [
            "Go to this URL in a browser: https://accounts.google.com/o/oauth2/auth?client_id=947318989803-6bn6qk8qdgf4n4g3pfee6491hc0brc4i.apps.googleusercontent.com&redirect_uri=urn%3aietf%3awg%3aoauth%3a2.0%3aoob&response_type=code&scope=email%20https%3a%2f%2fwww.googleapis.com%2fauth%2fdocs.test%20https%3a%2f%2fwww.googleapis.com%2fauth%2fdrive%20https%3a%2f%2fwww.googleapis.com%2fauth%2fdrive.photos.readonly%20https%3a%2f%2fwww.googleapis.com%2fauth%2fpeopleapi.readonly\n",
            "\n",
            "Enter your authorization code:\n",
            "··········\n",
            "Mounted at /content/gdrive\n"
          ],
          "name": "stdout"
        }
      ]
    },
    {
      "cell_type": "code",
      "metadata": {
        "id": "yCRc0uqChtFy",
        "colab_type": "code",
        "outputId": "09a0897d-cd8e-4c5b-9d78-c0d5bfa6dd81",
        "colab": {
          "base_uri": "https://localhost:8080/",
          "height": 204
        }
      },
      "source": [
        "import pandas as pd\n",
        "import glob, os\n",
        "\n",
        "data_dir= '/content/gdrive/My Drive/'\n",
        "os.chdir(data_dir)\n",
        "filename = 'BulletChartData.csv'\n",
        "\n",
        "df=pd.read_csv(filename)\n",
        "print(\"Column headings:\")\n",
        "print(df.columns)"
      ],
      "execution_count": 2,
      "outputs": [
        {
          "output_type": "stream",
          "text": [
            "Column headings:\n",
            "Index(['StudentNumber', 'MatchID', 'StudentName', 'Campus', 'GradeLevel',\n",
            "       'Homeroom', 'Discipline', 'CoreTeacher', 'Gender', 'DLStatus',\n",
            "       'ELStatus', 'CurrentEL', 'Race', 'EcDis', 'W20GrowthGoal',\n",
            "       'W20TargetRIT', 'S20CRGrowthGoal', 'S20CRTargetRIT',\n",
            "       'S20TypicalGrowthGoal', 'S20TypicalTargetRIT', 'S19RIT', 'S19%ile',\n",
            "       'F19RIT', 'F19%ile', 'BaselineRIT', 'Baseline Percentile', 'W20RIT',\n",
            "       'W20%ile', 'W20CGP', 'BtoWChange', 'MetWinterGoal', 'NumberOfAbsences',\n",
            "       'AbsenceCategory', 'NumberOfDiscipline', 'Disciplinez-Score',\n",
            "       'DisciplineCategory'],\n",
            "      dtype='object')\n"
          ],
          "name": "stdout"
        }
      ]
    },
    {
      "cell_type": "code",
      "metadata": {
        "id": "PmSmI4ZBajMk",
        "colab_type": "code",
        "colab": {}
      },
      "source": [
        "df.drop(df[df.Campus == '3146'].index, inplace=True)"
      ],
      "execution_count": 0,
      "outputs": []
    },
    {
      "cell_type": "code",
      "metadata": {
        "id": "eX54A54Paq-o",
        "colab_type": "code",
        "colab": {}
      },
      "source": [
        "df.drop(df[df.Campus == '3147'].index, inplace=True)"
      ],
      "execution_count": 0,
      "outputs": []
    },
    {
      "cell_type": "code",
      "metadata": {
        "id": "zqMqRaZsiZfk",
        "colab_type": "code",
        "colab": {
          "base_uri": "https://localhost:8080/",
          "height": 326
        },
        "outputId": "22df3a2e-8016-4fc3-d940-56a7c08e5424"
      },
      "source": [
        "df.tail()"
      ],
      "execution_count": 15,
      "outputs": [
        {
          "output_type": "execute_result",
          "data": {
            "text/html": [
              "<div>\n",
              "<style scoped>\n",
              "    .dataframe tbody tr th:only-of-type {\n",
              "        vertical-align: middle;\n",
              "    }\n",
              "\n",
              "    .dataframe tbody tr th {\n",
              "        vertical-align: top;\n",
              "    }\n",
              "\n",
              "    .dataframe thead th {\n",
              "        text-align: right;\n",
              "    }\n",
              "</style>\n",
              "<table border=\"1\" class=\"dataframe\">\n",
              "  <thead>\n",
              "    <tr style=\"text-align: right;\">\n",
              "      <th></th>\n",
              "      <th>StudentNumber</th>\n",
              "      <th>MatchID</th>\n",
              "      <th>StudentName</th>\n",
              "      <th>Campus</th>\n",
              "      <th>GradeLevel</th>\n",
              "      <th>Homeroom</th>\n",
              "      <th>Discipline</th>\n",
              "      <th>CoreTeacher</th>\n",
              "      <th>Gender</th>\n",
              "      <th>DLStatus</th>\n",
              "      <th>ELStatus</th>\n",
              "      <th>CurrentEL</th>\n",
              "      <th>Race</th>\n",
              "      <th>EcDis</th>\n",
              "      <th>W20GrowthGoal</th>\n",
              "      <th>W20TargetRIT</th>\n",
              "      <th>S20CRGrowthGoal</th>\n",
              "      <th>S20CRTargetRIT</th>\n",
              "      <th>S20TypicalGrowthGoal</th>\n",
              "      <th>S20TypicalTargetRIT</th>\n",
              "      <th>S19RIT</th>\n",
              "      <th>S19%ile</th>\n",
              "      <th>F19RIT</th>\n",
              "      <th>F19%ile</th>\n",
              "      <th>BaselineRIT</th>\n",
              "      <th>Baseline Percentile</th>\n",
              "      <th>W20RIT</th>\n",
              "      <th>W20%ile</th>\n",
              "      <th>W20CGP</th>\n",
              "      <th>BtoWChange</th>\n",
              "      <th>MetWinterGoal</th>\n",
              "      <th>NumberOfAbsences</th>\n",
              "      <th>AbsenceCategory</th>\n",
              "      <th>NumberOfDiscipline</th>\n",
              "      <th>Disciplinez-Score</th>\n",
              "      <th>DisciplineCategory</th>\n",
              "    </tr>\n",
              "  </thead>\n",
              "  <tbody>\n",
              "    <tr>\n",
              "      <th>5917</th>\n",
              "      <td>60040610</td>\n",
              "      <td>60040610.0</td>\n",
              "      <td>Wilson, Asia</td>\n",
              "      <td>Art in Motion</td>\n",
              "      <td>7th</td>\n",
              "      <td>Hicks M</td>\n",
              "      <td>Reading</td>\n",
              "      <td>Drumgoole L</td>\n",
              "      <td>F</td>\n",
              "      <td>No</td>\n",
              "      <td>Not EL</td>\n",
              "      <td>No</td>\n",
              "      <td>BLK</td>\n",
              "      <td>Yes</td>\n",
              "      <td>2.0</td>\n",
              "      <td>227.0</td>\n",
              "      <td>4.0</td>\n",
              "      <td>229.0</td>\n",
              "      <td>3.0</td>\n",
              "      <td>228.0</td>\n",
              "      <td>NaN</td>\n",
              "      <td>NaN</td>\n",
              "      <td>225.0</td>\n",
              "      <td>76.0</td>\n",
              "      <td>225.0</td>\n",
              "      <td>76.0</td>\n",
              "      <td>215.0</td>\n",
              "      <td>46.0</td>\n",
              "      <td>2.0</td>\n",
              "      <td>-10.0</td>\n",
              "      <td>0.0</td>\n",
              "      <td>4.0</td>\n",
              "      <td>Strong Attendance</td>\n",
              "      <td>3</td>\n",
              "      <td>-0.336406</td>\n",
              "      <td>Fewer Incidents than Peers</td>\n",
              "    </tr>\n",
              "    <tr>\n",
              "      <th>5918</th>\n",
              "      <td>50263275</td>\n",
              "      <td>50263275.0</td>\n",
              "      <td>Woods, Collin</td>\n",
              "      <td>Art in Motion</td>\n",
              "      <td>8th</td>\n",
              "      <td>Hudson A</td>\n",
              "      <td>Reading</td>\n",
              "      <td>Brinkman K</td>\n",
              "      <td>M</td>\n",
              "      <td>No</td>\n",
              "      <td>Not EL</td>\n",
              "      <td>No</td>\n",
              "      <td>BLK</td>\n",
              "      <td>Yes</td>\n",
              "      <td>1.0</td>\n",
              "      <td>234.0</td>\n",
              "      <td>2.0</td>\n",
              "      <td>235.0</td>\n",
              "      <td>2.0</td>\n",
              "      <td>235.0</td>\n",
              "      <td>233.0</td>\n",
              "      <td>NaN</td>\n",
              "      <td>231.0</td>\n",
              "      <td>27.0</td>\n",
              "      <td>233.0</td>\n",
              "      <td>27.0</td>\n",
              "      <td>237.0</td>\n",
              "      <td>88.0</td>\n",
              "      <td>84.0</td>\n",
              "      <td>4.0</td>\n",
              "      <td>1.0</td>\n",
              "      <td>8.0</td>\n",
              "      <td>Attednance Risk</td>\n",
              "      <td>3</td>\n",
              "      <td>-0.336406</td>\n",
              "      <td>Fewer Incidents than Peers</td>\n",
              "    </tr>\n",
              "    <tr>\n",
              "      <th>5919</th>\n",
              "      <td>50283392</td>\n",
              "      <td>50283392.0</td>\n",
              "      <td>Woods, Zaria</td>\n",
              "      <td>Art in Motion</td>\n",
              "      <td>7th</td>\n",
              "      <td>Keys V</td>\n",
              "      <td>Reading</td>\n",
              "      <td>Drumgoole L</td>\n",
              "      <td>F</td>\n",
              "      <td>No</td>\n",
              "      <td>Not EL</td>\n",
              "      <td>No</td>\n",
              "      <td>BLK</td>\n",
              "      <td>Yes</td>\n",
              "      <td>3.0</td>\n",
              "      <td>219.0</td>\n",
              "      <td>5.0</td>\n",
              "      <td>221.0</td>\n",
              "      <td>4.0</td>\n",
              "      <td>220.0</td>\n",
              "      <td>216.0</td>\n",
              "      <td>NaN</td>\n",
              "      <td>204.0</td>\n",
              "      <td>26.0</td>\n",
              "      <td>216.0</td>\n",
              "      <td>26.0</td>\n",
              "      <td>197.0</td>\n",
              "      <td>10.0</td>\n",
              "      <td>3.0</td>\n",
              "      <td>-19.0</td>\n",
              "      <td>0.0</td>\n",
              "      <td>0.0</td>\n",
              "      <td>Perfect Attendance</td>\n",
              "      <td>0</td>\n",
              "      <td>-0.696840</td>\n",
              "      <td>Fewer Incidents than Peers</td>\n",
              "    </tr>\n",
              "    <tr>\n",
              "      <th>5920</th>\n",
              "      <td>60043855</td>\n",
              "      <td>60043855.0</td>\n",
              "      <td>Wright, Dariyon</td>\n",
              "      <td>Art in Motion</td>\n",
              "      <td>7th</td>\n",
              "      <td>Drumgoole L</td>\n",
              "      <td>Reading</td>\n",
              "      <td>Drumgoole L</td>\n",
              "      <td>M</td>\n",
              "      <td>No</td>\n",
              "      <td>Not EL</td>\n",
              "      <td>No</td>\n",
              "      <td>BLK</td>\n",
              "      <td>Yes</td>\n",
              "      <td>3.0</td>\n",
              "      <td>220.0</td>\n",
              "      <td>5.0</td>\n",
              "      <td>222.0</td>\n",
              "      <td>4.0</td>\n",
              "      <td>221.0</td>\n",
              "      <td>NaN</td>\n",
              "      <td>NaN</td>\n",
              "      <td>217.0</td>\n",
              "      <td>58.0</td>\n",
              "      <td>217.0</td>\n",
              "      <td>58.0</td>\n",
              "      <td>230.0</td>\n",
              "      <td>82.0</td>\n",
              "      <td>98.0</td>\n",
              "      <td>13.0</td>\n",
              "      <td>1.0</td>\n",
              "      <td>2.0</td>\n",
              "      <td>Strong Attendance</td>\n",
              "      <td>0</td>\n",
              "      <td>-0.696840</td>\n",
              "      <td>Fewer Incidents than Peers</td>\n",
              "    </tr>\n",
              "    <tr>\n",
              "      <th>5921</th>\n",
              "      <td>50067381</td>\n",
              "      <td>50067381.0</td>\n",
              "      <td>Young, Ahmadiya</td>\n",
              "      <td>Art in Motion</td>\n",
              "      <td>7th</td>\n",
              "      <td>Keys V</td>\n",
              "      <td>Reading</td>\n",
              "      <td>Drumgoole L</td>\n",
              "      <td>F</td>\n",
              "      <td>No</td>\n",
              "      <td>Not EL</td>\n",
              "      <td>No</td>\n",
              "      <td>BLK</td>\n",
              "      <td>Yes</td>\n",
              "      <td>2.0</td>\n",
              "      <td>228.0</td>\n",
              "      <td>3.0</td>\n",
              "      <td>229.0</td>\n",
              "      <td>2.0</td>\n",
              "      <td>228.0</td>\n",
              "      <td>226.0</td>\n",
              "      <td>76.0</td>\n",
              "      <td>NaN</td>\n",
              "      <td>NaN</td>\n",
              "      <td>226.0</td>\n",
              "      <td>76.0</td>\n",
              "      <td>224.0</td>\n",
              "      <td>69.0</td>\n",
              "      <td>NaN</td>\n",
              "      <td>-2.0</td>\n",
              "      <td>0.0</td>\n",
              "      <td>1.0</td>\n",
              "      <td>Strong Attendance</td>\n",
              "      <td>0</td>\n",
              "      <td>-0.696840</td>\n",
              "      <td>Fewer Incidents than Peers</td>\n",
              "    </tr>\n",
              "  </tbody>\n",
              "</table>\n",
              "</div>"
            ],
            "text/plain": [
              "      StudentNumber     MatchID  ... Disciplinez-Score          DisciplineCategory\n",
              "5917       60040610  60040610.0  ...         -0.336406  Fewer Incidents than Peers\n",
              "5918       50263275  50263275.0  ...         -0.336406  Fewer Incidents than Peers\n",
              "5919       50283392  50283392.0  ...         -0.696840  Fewer Incidents than Peers\n",
              "5920       60043855  60043855.0  ...         -0.696840  Fewer Incidents than Peers\n",
              "5921       50067381  50067381.0  ...         -0.696840  Fewer Incidents than Peers\n",
              "\n",
              "[5 rows x 36 columns]"
            ]
          },
          "metadata": {
            "tags": []
          },
          "execution_count": 15
        }
      ]
    },
    {
      "cell_type": "code",
      "metadata": {
        "id": "m_abwyyJhf1V",
        "colab_type": "code",
        "colab": {}
      },
      "source": [
        "keep = ['W20RIT','S20CRTargetRIT','F19RIT','W20TargetRIT','S20TypicalTargetRIT']"
      ],
      "execution_count": 0,
      "outputs": []
    },
    {
      "cell_type": "code",
      "metadata": {
        "id": "KqRG8mU65eQk",
        "colab_type": "code",
        "colab": {
          "base_uri": "https://localhost:8080/",
          "height": 359
        },
        "outputId": "96456810-d6ff-4434-8f7a-1796d8648ced"
      },
      "source": [
        "df.groupby(['Campus',\"Discipline\"], as_index=False)[keep].mean().round(1)"
      ],
      "execution_count": 17,
      "outputs": [
        {
          "output_type": "execute_result",
          "data": {
            "text/html": [
              "<div>\n",
              "<style scoped>\n",
              "    .dataframe tbody tr th:only-of-type {\n",
              "        vertical-align: middle;\n",
              "    }\n",
              "\n",
              "    .dataframe tbody tr th {\n",
              "        vertical-align: top;\n",
              "    }\n",
              "\n",
              "    .dataframe thead th {\n",
              "        text-align: right;\n",
              "    }\n",
              "</style>\n",
              "<table border=\"1\" class=\"dataframe\">\n",
              "  <thead>\n",
              "    <tr style=\"text-align: right;\">\n",
              "      <th></th>\n",
              "      <th>Campus</th>\n",
              "      <th>Discipline</th>\n",
              "      <th>W20RIT</th>\n",
              "      <th>S20CRTargetRIT</th>\n",
              "      <th>F19RIT</th>\n",
              "      <th>W20TargetRIT</th>\n",
              "      <th>S20TypicalTargetRIT</th>\n",
              "    </tr>\n",
              "  </thead>\n",
              "  <tbody>\n",
              "    <tr>\n",
              "      <th>0</th>\n",
              "      <td>Art in Motion</td>\n",
              "      <td>Mathematics</td>\n",
              "      <td>218.6</td>\n",
              "      <td>230.0</td>\n",
              "      <td>216.5</td>\n",
              "      <td>225.6</td>\n",
              "      <td>225.9</td>\n",
              "    </tr>\n",
              "    <tr>\n",
              "      <th>1</th>\n",
              "      <td>Art in Motion</td>\n",
              "      <td>Reading</td>\n",
              "      <td>215.6</td>\n",
              "      <td>222.6</td>\n",
              "      <td>215.7</td>\n",
              "      <td>220.0</td>\n",
              "      <td>220.6</td>\n",
              "    </tr>\n",
              "    <tr>\n",
              "      <th>2</th>\n",
              "      <td>Bucktown</td>\n",
              "      <td>Mathematics</td>\n",
              "      <td>202.4</td>\n",
              "      <td>215.6</td>\n",
              "      <td>192.7</td>\n",
              "      <td>209.5</td>\n",
              "      <td>211.9</td>\n",
              "    </tr>\n",
              "    <tr>\n",
              "      <th>3</th>\n",
              "      <td>Bucktown</td>\n",
              "      <td>Reading</td>\n",
              "      <td>195.8</td>\n",
              "      <td>206.9</td>\n",
              "      <td>187.8</td>\n",
              "      <td>202.2</td>\n",
              "      <td>204.8</td>\n",
              "    </tr>\n",
              "    <tr>\n",
              "      <th>4</th>\n",
              "      <td>Irving Park</td>\n",
              "      <td>Mathematics</td>\n",
              "      <td>200.3</td>\n",
              "      <td>211.1</td>\n",
              "      <td>194.9</td>\n",
              "      <td>204.6</td>\n",
              "      <td>207.5</td>\n",
              "    </tr>\n",
              "    <tr>\n",
              "      <th>5</th>\n",
              "      <td>Irving Park</td>\n",
              "      <td>Reading</td>\n",
              "      <td>195.9</td>\n",
              "      <td>203.2</td>\n",
              "      <td>190.9</td>\n",
              "      <td>197.9</td>\n",
              "      <td>201.1</td>\n",
              "    </tr>\n",
              "    <tr>\n",
              "      <th>6</th>\n",
              "      <td>Prairie</td>\n",
              "      <td>Mathematics</td>\n",
              "      <td>201.7</td>\n",
              "      <td>211.8</td>\n",
              "      <td>194.3</td>\n",
              "      <td>205.4</td>\n",
              "      <td>207.6</td>\n",
              "    </tr>\n",
              "    <tr>\n",
              "      <th>7</th>\n",
              "      <td>Prairie</td>\n",
              "      <td>Reading</td>\n",
              "      <td>195.2</td>\n",
              "      <td>201.6</td>\n",
              "      <td>188.5</td>\n",
              "      <td>196.1</td>\n",
              "      <td>198.9</td>\n",
              "    </tr>\n",
              "    <tr>\n",
              "      <th>8</th>\n",
              "      <td>West Belden</td>\n",
              "      <td>Mathematics</td>\n",
              "      <td>201.9</td>\n",
              "      <td>215.8</td>\n",
              "      <td>193.8</td>\n",
              "      <td>209.9</td>\n",
              "      <td>212.2</td>\n",
              "    </tr>\n",
              "    <tr>\n",
              "      <th>9</th>\n",
              "      <td>West Belden</td>\n",
              "      <td>Reading</td>\n",
              "      <td>196.3</td>\n",
              "      <td>206.5</td>\n",
              "      <td>189.6</td>\n",
              "      <td>201.8</td>\n",
              "      <td>204.4</td>\n",
              "    </tr>\n",
              "  </tbody>\n",
              "</table>\n",
              "</div>"
            ],
            "text/plain": [
              "          Campus   Discipline  ...  W20TargetRIT  S20TypicalTargetRIT\n",
              "0  Art in Motion  Mathematics  ...         225.6                225.9\n",
              "1  Art in Motion      Reading  ...         220.0                220.6\n",
              "2       Bucktown  Mathematics  ...         209.5                211.9\n",
              "3       Bucktown      Reading  ...         202.2                204.8\n",
              "4    Irving Park  Mathematics  ...         204.6                207.5\n",
              "5    Irving Park      Reading  ...         197.9                201.1\n",
              "6        Prairie  Mathematics  ...         205.4                207.6\n",
              "7        Prairie      Reading  ...         196.1                198.9\n",
              "8    West Belden  Mathematics  ...         209.9                212.2\n",
              "9    West Belden      Reading  ...         201.8                204.4\n",
              "\n",
              "[10 rows x 7 columns]"
            ]
          },
          "metadata": {
            "tags": []
          },
          "execution_count": 17
        }
      ]
    },
    {
      "cell_type": "code",
      "metadata": {
        "id": "ojLZBZARZ1nG",
        "colab_type": "code",
        "colab": {}
      },
      "source": [
        ""
      ],
      "execution_count": 0,
      "outputs": []
    },
    {
      "cell_type": "code",
      "metadata": {
        "id": "9NhlfjykZibF",
        "colab_type": "code",
        "colab": {}
      },
      "source": [
        "import matplotlib.pyplot as plt\n",
        "import seaborn as sns\n",
        "from matplotlib.ticker import FuncFormatter\n",
        "import numpy as np\n",
        "\n",
        "%matplotlib inline"
      ],
      "execution_count": 0,
      "outputs": []
    },
    {
      "cell_type": "code",
      "metadata": {
        "id": "u7jK5o61Z3oV",
        "colab_type": "code",
        "colab": {
          "base_uri": "https://localhost:8080/",
          "height": 89
        },
        "outputId": "bb71b757-989b-42aa-a7ac-5a01df890062"
      },
      "source": [
        "#reading\n",
        "sns.palplot(sns.light_palette('#ef7521', 5))\n"
      ],
      "execution_count": 18,
      "outputs": [
        {
          "output_type": "display_data",
          "data": {
            "image/png": "[encoded data removed]",
            "text/plain": [
              "<Figure size 360x72 with 1 Axes>"
            ]
          },
          "metadata": {
            "tags": []
          }
        }
      ]
    },
    {
      "cell_type": "code",
      "metadata": {
        "id": "dvZF8nn517a1",
        "colab_type": "code",
        "colab": {
          "base_uri": "https://localhost:8080/",
          "height": 89
        },
        "outputId": "9302224a-22bb-45a0-d70a-76f9cb92497d"
      },
      "source": [
        "#math\n",
        "sns.palplot(sns.light_palette('#b24ec4', 5))"
      ],
      "execution_count": 19,
      "outputs": [
        {
          "output_type": "display_data",
          "data": {
            "image/png": "[encoded data removed]",
            "text/plain": [
              "<Figure size 360x72 with 1 Axes>"
            ]
          },
          "metadata": {
            "tags": []
          }
        }
      ]
    },
    {
      "cell_type": "markdown",
      "metadata": {
        "id": "c6bL9Hj07iCa",
        "colab_type": "text"
      },
      "source": [
        "# Total Average for Distinctive Schools"
      ]
    },
    {
      "cell_type": "code",
      "metadata": {
        "id": "8lAgij0oDLHG",
        "colab_type": "code",
        "colab": {
          "base_uri": "https://localhost:8080/",
          "height": 111
        },
        "outputId": "3d6e4966-b2c0-49f4-ada1-ba8142b57fee"
      },
      "source": [
        "#Total math and reading mean for Distinctive Schools\n",
        "total = df.groupby([\"Discipline\"], as_index=False)[keep].mean().round(1)\n",
        "total"
      ],
      "execution_count": 20,
      "outputs": [
        {
          "output_type": "execute_result",
          "data": {
            "text/html": [
              "<div>\n",
              "<style scoped>\n",
              "    .dataframe tbody tr th:only-of-type {\n",
              "        vertical-align: middle;\n",
              "    }\n",
              "\n",
              "    .dataframe tbody tr th {\n",
              "        vertical-align: top;\n",
              "    }\n",
              "\n",
              "    .dataframe thead th {\n",
              "        text-align: right;\n",
              "    }\n",
              "</style>\n",
              "<table border=\"1\" class=\"dataframe\">\n",
              "  <thead>\n",
              "    <tr style=\"text-align: right;\">\n",
              "      <th></th>\n",
              "      <th>Discipline</th>\n",
              "      <th>W20RIT</th>\n",
              "      <th>S20CRTargetRIT</th>\n",
              "      <th>F19RIT</th>\n",
              "      <th>W20TargetRIT</th>\n",
              "      <th>S20TypicalTargetRIT</th>\n",
              "    </tr>\n",
              "  </thead>\n",
              "  <tbody>\n",
              "    <tr>\n",
              "      <th>0</th>\n",
              "      <td>Mathematics</td>\n",
              "      <td>203.0</td>\n",
              "      <td>215.2</td>\n",
              "      <td>195.7</td>\n",
              "      <td>209.1</td>\n",
              "      <td>211.4</td>\n",
              "    </tr>\n",
              "    <tr>\n",
              "      <th>1</th>\n",
              "      <td>Reading</td>\n",
              "      <td>197.5</td>\n",
              "      <td>206.4</td>\n",
              "      <td>191.4</td>\n",
              "      <td>201.6</td>\n",
              "      <td>204.2</td>\n",
              "    </tr>\n",
              "  </tbody>\n",
              "</table>\n",
              "</div>"
            ],
            "text/plain": [
              "    Discipline  W20RIT  ...  W20TargetRIT  S20TypicalTargetRIT\n",
              "0  Mathematics   203.0  ...         209.1                211.4\n",
              "1      Reading   197.5  ...         201.6                204.2\n",
              "\n",
              "[2 rows x 6 columns]"
            ]
          },
          "metadata": {
            "tags": []
          },
          "execution_count": 20
        }
      ]
    },
    {
      "cell_type": "code",
      "metadata": {
        "id": "cO--dQyQDi7K",
        "colab_type": "code",
        "outputId": "13a870a0-1f51-4670-d591-87f64bf6f3b0",
        "colab": {
          "base_uri": "https://localhost:8080/",
          "height": 126
        }
      },
      "source": [
        "limits = [195.7, 209.1, 211.4]\n",
        "data_to_plot = (\"Mathematics\", 203, 215.2)\n",
        "palette = sns.light_palette('#b24ec4', 5, reverse=True)\n",
        "\n",
        "fig, ax = plt.subplots()\n",
        "ax.set_aspect('equal')\n",
        "ax.set_yticks([1])\n",
        "ax.set_xlim(190, 220)\n",
        "ax.set_yticklabels([data_to_plot[0]])\n",
        "\n",
        "prev_limit = 0\n",
        "for idx, lim in enumerate(limits):\n",
        "    ax.barh([1], lim-prev_limit, left=prev_limit, height=5, color=palette[idx])\n",
        "    prev_limit = lim\n",
        "\n",
        "# Draw the value we're measuring\n",
        "ax.barh([1], data_to_plot[1], color='black', height=2)\n",
        "ax.axvline(data_to_plot[2], color=\"gray\", ymin=0.10, ymax=0.9)"
      ],
      "execution_count": 25,
      "outputs": [
        {
          "output_type": "execute_result",
          "data": {
            "text/plain": [
              "<matplotlib.lines.Line2D at 0x7fa1c75d06d8>"
            ]
          },
          "metadata": {
            "tags": []
          },
          "execution_count": 25
        },
        {
          "output_type": "display_data",
          "data": {
            "image/png": "[encoded data removed]",
            "text/plain": [
              "<Figure size 432x288 with 1 Axes>"
            ]
          },
          "metadata": {
            "tags": []
          }
        }
      ]
    },
    {
      "cell_type": "code",
      "metadata": {
        "id": "IZbVJkIrEfSP",
        "colab_type": "code",
        "outputId": "ba2ce42b-e60b-459a-87aa-69829344ebc8",
        "colab": {
          "base_uri": "https://localhost:8080/",
          "height": 124
        }
      },
      "source": [
        "limits = [191.4, 201.6, 204.2]\n",
        "data_to_plot = (\"Reading\", 197.5, 206.4)\n",
        "palette = sns.light_palette('#ef7521', 5, reverse=True)\n",
        "\n",
        "fig, ax = plt.subplots()\n",
        "ax.set_aspect('equal')\n",
        "ax.set_yticks([1])\n",
        "ax.set_xlim(185, 210)\n",
        "ax.set_yticklabels([data_to_plot[0]])\n",
        "\n",
        "prev_limit = 0\n",
        "for idx, lim in enumerate(limits):\n",
        "    ax.barh([1], lim-prev_limit, left=prev_limit, height=4, color=palette[idx])\n",
        "    prev_limit = lim\n",
        "\n",
        "# Draw the value we're measuring\n",
        "ax.barh([1], data_to_plot[1], color='black', height=2)\n",
        "ax.axvline(data_to_plot[2], color=\"gray\", ymin=0.10, ymax=0.9)"
      ],
      "execution_count": 26,
      "outputs": [
        {
          "output_type": "execute_result",
          "data": {
            "text/plain": [
              "<matplotlib.lines.Line2D at 0x7fa1c752f4a8>"
            ]
          },
          "metadata": {
            "tags": []
          },
          "execution_count": 26
        },
        {
          "output_type": "display_data",
          "data": {
            "image/png": "[encoded data removed]",
            "text/plain": [
              "<Figure size 432x288 with 1 Axes>"
            ]
          },
          "metadata": {
            "tags": []
          }
        }
      ]
    },
    {
      "cell_type": "code",
      "metadata": {
        "id": "X4zeQmnAh7Du",
        "colab_type": "code",
        "colab": {}
      },
      "source": [
        "#adding as_index=False to make the groupby output into a dataframe\n",
        "schools = df.groupby(['Campus',\"Discipline\"], as_index=False)[keep].mean().round(1)"
      ],
      "execution_count": 0,
      "outputs": []
    },
    {
      "cell_type": "code",
      "metadata": {
        "id": "H0f_i_v6jGhN",
        "colab_type": "code",
        "colab": {}
      },
      "source": [
        "schools= schools.dropna()"
      ],
      "execution_count": 0,
      "outputs": []
    },
    {
      "cell_type": "code",
      "metadata": {
        "id": "M7ZjuUeAik25",
        "colab_type": "code",
        "outputId": "a4d85090-d6f6-4e8b-b9f6-16edfee12435",
        "colab": {
          "base_uri": "https://localhost:8080/",
          "height": 204
        }
      },
      "source": [
        "schools.tail()"
      ],
      "execution_count": 29,
      "outputs": [
        {
          "output_type": "execute_result",
          "data": {
            "text/html": [
              "<div>\n",
              "<style scoped>\n",
              "    .dataframe tbody tr th:only-of-type {\n",
              "        vertical-align: middle;\n",
              "    }\n",
              "\n",
              "    .dataframe tbody tr th {\n",
              "        vertical-align: top;\n",
              "    }\n",
              "\n",
              "    .dataframe thead th {\n",
              "        text-align: right;\n",
              "    }\n",
              "</style>\n",
              "<table border=\"1\" class=\"dataframe\">\n",
              "  <thead>\n",
              "    <tr style=\"text-align: right;\">\n",
              "      <th></th>\n",
              "      <th>Campus</th>\n",
              "      <th>Discipline</th>\n",
              "      <th>W20RIT</th>\n",
              "      <th>S20CRTargetRIT</th>\n",
              "      <th>F19RIT</th>\n",
              "      <th>W20TargetRIT</th>\n",
              "      <th>S20TypicalTargetRIT</th>\n",
              "    </tr>\n",
              "  </thead>\n",
              "  <tbody>\n",
              "    <tr>\n",
              "      <th>5</th>\n",
              "      <td>Irving Park</td>\n",
              "      <td>Reading</td>\n",
              "      <td>195.9</td>\n",
              "      <td>203.2</td>\n",
              "      <td>190.9</td>\n",
              "      <td>197.9</td>\n",
              "      <td>201.1</td>\n",
              "    </tr>\n",
              "    <tr>\n",
              "      <th>6</th>\n",
              "      <td>Prairie</td>\n",
              "      <td>Mathematics</td>\n",
              "      <td>201.7</td>\n",
              "      <td>211.8</td>\n",
              "      <td>194.3</td>\n",
              "      <td>205.4</td>\n",
              "      <td>207.6</td>\n",
              "    </tr>\n",
              "    <tr>\n",
              "      <th>7</th>\n",
              "      <td>Prairie</td>\n",
              "      <td>Reading</td>\n",
              "      <td>195.2</td>\n",
              "      <td>201.6</td>\n",
              "      <td>188.5</td>\n",
              "      <td>196.1</td>\n",
              "      <td>198.9</td>\n",
              "    </tr>\n",
              "    <tr>\n",
              "      <th>8</th>\n",
              "      <td>West Belden</td>\n",
              "      <td>Mathematics</td>\n",
              "      <td>201.9</td>\n",
              "      <td>215.8</td>\n",
              "      <td>193.8</td>\n",
              "      <td>209.9</td>\n",
              "      <td>212.2</td>\n",
              "    </tr>\n",
              "    <tr>\n",
              "      <th>9</th>\n",
              "      <td>West Belden</td>\n",
              "      <td>Reading</td>\n",
              "      <td>196.3</td>\n",
              "      <td>206.5</td>\n",
              "      <td>189.6</td>\n",
              "      <td>201.8</td>\n",
              "      <td>204.4</td>\n",
              "    </tr>\n",
              "  </tbody>\n",
              "</table>\n",
              "</div>"
            ],
            "text/plain": [
              "        Campus   Discipline  W20RIT  ...  F19RIT  W20TargetRIT  S20TypicalTargetRIT\n",
              "5  Irving Park      Reading   195.9  ...   190.9         197.9                201.1\n",
              "6      Prairie  Mathematics   201.7  ...   194.3         205.4                207.6\n",
              "7      Prairie      Reading   195.2  ...   188.5         196.1                198.9\n",
              "8  West Belden  Mathematics   201.9  ...   193.8         209.9                212.2\n",
              "9  West Belden      Reading   196.3  ...   189.6         201.8                204.4\n",
              "\n",
              "[5 rows x 7 columns]"
            ]
          },
          "metadata": {
            "tags": []
          },
          "execution_count": 29
        }
      ]
    },
    {
      "cell_type": "markdown",
      "metadata": {
        "id": "mamuWk647oqn",
        "colab_type": "text"
      },
      "source": [
        "# School Average"
      ]
    },
    {
      "cell_type": "code",
      "metadata": {
        "id": "zc2V3DQ9Mww7",
        "colab_type": "code",
        "colab": {}
      },
      "source": [
        "math = schools[schools['Discipline']=='Mathematics']\n",
        "math = math.drop(columns=['Discipline'])"
      ],
      "execution_count": 0,
      "outputs": []
    },
    {
      "cell_type": "code",
      "metadata": {
        "id": "yxIEEsnYDvlw",
        "colab_type": "code",
        "outputId": "e2a8a7ff-4282-4f5c-d349-9b16c25f4837",
        "colab": {
          "base_uri": "https://localhost:8080/",
          "height": 204
        }
      },
      "source": [
        "math"
      ],
      "execution_count": 31,
      "outputs": [
        {
          "output_type": "execute_result",
          "data": {
            "text/html": [
              "<div>\n",
              "<style scoped>\n",
              "    .dataframe tbody tr th:only-of-type {\n",
              "        vertical-align: middle;\n",
              "    }\n",
              "\n",
              "    .dataframe tbody tr th {\n",
              "        vertical-align: top;\n",
              "    }\n",
              "\n",
              "    .dataframe thead th {\n",
              "        text-align: right;\n",
              "    }\n",
              "</style>\n",
              "<table border=\"1\" class=\"dataframe\">\n",
              "  <thead>\n",
              "    <tr style=\"text-align: right;\">\n",
              "      <th></th>\n",
              "      <th>Campus</th>\n",
              "      <th>W20RIT</th>\n",
              "      <th>S20CRTargetRIT</th>\n",
              "      <th>F19RIT</th>\n",
              "      <th>W20TargetRIT</th>\n",
              "      <th>S20TypicalTargetRIT</th>\n",
              "    </tr>\n",
              "  </thead>\n",
              "  <tbody>\n",
              "    <tr>\n",
              "      <th>0</th>\n",
              "      <td>Art in Motion</td>\n",
              "      <td>218.6</td>\n",
              "      <td>230.0</td>\n",
              "      <td>216.5</td>\n",
              "      <td>225.6</td>\n",
              "      <td>225.9</td>\n",
              "    </tr>\n",
              "    <tr>\n",
              "      <th>2</th>\n",
              "      <td>Bucktown</td>\n",
              "      <td>202.4</td>\n",
              "      <td>215.6</td>\n",
              "      <td>192.7</td>\n",
              "      <td>209.5</td>\n",
              "      <td>211.9</td>\n",
              "    </tr>\n",
              "    <tr>\n",
              "      <th>4</th>\n",
              "      <td>Irving Park</td>\n",
              "      <td>200.3</td>\n",
              "      <td>211.1</td>\n",
              "      <td>194.9</td>\n",
              "      <td>204.6</td>\n",
              "      <td>207.5</td>\n",
              "    </tr>\n",
              "    <tr>\n",
              "      <th>6</th>\n",
              "      <td>Prairie</td>\n",
              "      <td>201.7</td>\n",
              "      <td>211.8</td>\n",
              "      <td>194.3</td>\n",
              "      <td>205.4</td>\n",
              "      <td>207.6</td>\n",
              "    </tr>\n",
              "    <tr>\n",
              "      <th>8</th>\n",
              "      <td>West Belden</td>\n",
              "      <td>201.9</td>\n",
              "      <td>215.8</td>\n",
              "      <td>193.8</td>\n",
              "      <td>209.9</td>\n",
              "      <td>212.2</td>\n",
              "    </tr>\n",
              "  </tbody>\n",
              "</table>\n",
              "</div>"
            ],
            "text/plain": [
              "          Campus  W20RIT  ...  W20TargetRIT  S20TypicalTargetRIT\n",
              "0  Art in Motion   218.6  ...         225.6                225.9\n",
              "2       Bucktown   202.4  ...         209.5                211.9\n",
              "4    Irving Park   200.3  ...         204.6                207.5\n",
              "6        Prairie   201.7  ...         205.4                207.6\n",
              "8    West Belden   201.9  ...         209.9                212.2\n",
              "\n",
              "[5 rows x 6 columns]"
            ]
          },
          "metadata": {
            "tags": []
          },
          "execution_count": 31
        }
      ]
    },
    {
      "cell_type": "code",
      "metadata": {
        "id": "m1v_IU5lb9Wd",
        "colab_type": "code",
        "colab": {}
      },
      "source": [
        "reading = schools[schools['Discipline']=='Reading']\n",
        "reading = reading.drop(columns=['Discipline'])"
      ],
      "execution_count": 0,
      "outputs": []
    },
    {
      "cell_type": "code",
      "metadata": {
        "id": "mjUQmuur85Rl",
        "colab_type": "code",
        "colab": {}
      },
      "source": [
        "def get_data(df, n=3):\n",
        "    \"\"\" \n",
        "    get the data and limits ready for the bullet plot\n",
        "        Args:\n",
        "            df = groupbyed dataframe\n",
        "        Returns:\n",
        "            a list for text/bar/line\n",
        "            a list for background color\n",
        "            floor: a number for the plot min\n",
        "            ceiling: a number for the plot max\n",
        "\n",
        "    \"\"\"\n",
        "    #Create the text, bar and line\n",
        "    tbl = df.iloc[:, :n].values.tolist()\n",
        "    #Create the limits for background color\n",
        "    bc = df.iloc[:, np.r_[n:n+3]].values.tolist()\n",
        "\n",
        "    floor = round(df['F19RIT'].min()/5-1)*5\n",
        "    ceiling = round(df['S20CRTargetRIT'].max()/5)*5\n",
        "\n",
        "    return tbl, bc, floor, ceiling"
      ],
      "execution_count": 0,
      "outputs": []
    },
    {
      "cell_type": "code",
      "metadata": {
        "id": "YjwX2YkcR4PY",
        "colab_type": "code",
        "colab": {}
      },
      "source": [
        "import matplotlib.font_manager\n",
        "csfont = {'fontname':'Calibri'}\n",
        "def bulletgraph(data=None, limits=None, labels=None, ranges=None, axis_label=None, title=None,\n",
        "                size=(5, 3), subject= 'Reading', formatter=None, target_color=\"black\", bar_color=\"black\", label_color=\"gray\"):\n",
        "    \"\"\" Build out a bullet graph image\n",
        "        Args:\n",
        "            data = List of labels, measures and targets\n",
        "            limits = list of range valules\n",
        "            labels = list of descriptions of the limit ranges\n",
        "            lim = list of xlims \n",
        "            axis_label = string describing x axis\n",
        "            title = string title of plot\n",
        "            size = tuple for plot size\n",
        "            subject = maths or reading\n",
        "            formatter = matplotlib formatter object for x axis\n",
        "            target_color = color string for the target line\n",
        "            bar_color = color string for the small bar\n",
        "            label_color = color string for the limit label text\n",
        "        Returns:\n",
        "            a matplotlib figure\n",
        "    \"\"\"\n",
        "    # Determine the max value for adjusting the bar height\n",
        "    # Dividing by 10 seems to work pretty well\n",
        "    h = limits[0][-1] / 40\n",
        "\n",
        "    # Use the green palette as a sensible default\n",
        "    \n",
        "    if subject =='Reading':\n",
        "      palette = sns.light_palette('#ef7521', 3, reverse=True)\n",
        "    else:\n",
        "      palette = sns.light_palette('#b24ec4', 3, reverse=True)\n",
        "\n",
        "    # Must be able to handle one or many data sets via multiple subplots\n",
        "    if len(data) == 1:\n",
        "        fig, ax = plt.subplots(figsize=size, sharex=True)\n",
        "    else:\n",
        "        fig, axarr = plt.subplots(len(data), figsize=size, sharex=True)\n",
        "\n",
        "    # Add each bullet graph bar to a subplot\n",
        "    for idx, item in enumerate(data):\n",
        "\n",
        "        # Get the axis from the array of axes returned when the plot is created\n",
        "        if len(data) > 1:\n",
        "            ax = axarr[idx]\n",
        "\n",
        "        # Formatting to get rid of extra marking clutter\n",
        "        ax.set_aspect('equal')\n",
        "        #Text for that bar\n",
        "        ax.set_yticklabels([item[0]])\n",
        "        ax.set_yticks([1])\n",
        "        ax.set_xlim(ranges)\n",
        "        ax.spines['bottom'].set_visible(False)\n",
        "        ax.spines['top'].set_visible(False)\n",
        "        ax.spines['right'].set_visible(False)\n",
        "        ax.spines['left'].set_visible(False)\n",
        "\n",
        "        prev_limit = 0\n",
        "        for idx2, lim in enumerate(limits[idx]):\n",
        "            # Draw the bar\n",
        "            ax.barh([1], lim - prev_limit, left=prev_limit, height=h,\n",
        "                    color=palette[idx2])\n",
        "            prev_limit = lim\n",
        "            rects = ax.patches\n",
        "        # The last item in the list is the value we're measuring\n",
        "        # Draw the value we're measuring\n",
        "        ax.barh([1], item[1], height=(h / 3), color=bar_color)\n",
        "\n",
        "        # Need the ymin and max in order to make sure the target marker\n",
        "        # fits\n",
        "        ymin, ymax = ax.get_ylim()\n",
        "        ax.vlines(item[2], ymin * .9, ymax * .9, linewidth=1.5, color=target_color)\n",
        "\n",
        "    # Now make some labels\n",
        "    if labels is not None:\n",
        "        for rect, label in zip(rects, labels):\n",
        "            height = rect.get_height()\n",
        "            ax.text(\n",
        "                rect.get_x() + rect.get_width() / 2,\n",
        "                -height * .4,\n",
        "                label,\n",
        "                ha='center',\n",
        "                va='bottom',\n",
        "                color=label_color)\n",
        "    if formatter:\n",
        "        ax.xaxis.set_major_formatter(formatter)\n",
        "    if axis_label:\n",
        "        ax.set_xlabel(axis_label)\n",
        "    if title:\n",
        "        fig.suptitle(title, fontsize=20, **csfont)\n",
        "    fig.subplots_adjust(hspace=0)"
      ],
      "execution_count": 0,
      "outputs": []
    },
    {
      "cell_type": "code",
      "metadata": {
        "id": "AgeMae-W6kJD",
        "colab_type": "code",
        "colab": {}
      },
      "source": [
        "t1, l1, f1, c1 = get_data(math)"
      ],
      "execution_count": 0,
      "outputs": []
    },
    {
      "cell_type": "code",
      "metadata": {
        "id": "CuCAObrjDFlu",
        "colab_type": "code",
        "outputId": "8bd7e232-24e1-46ed-f335-3e1618c2b9d5",
        "colab": {
          "base_uri": "https://localhost:8080/",
          "height": 102
        }
      },
      "source": [
        "t1"
      ],
      "execution_count": 0,
      "outputs": [
        {
          "output_type": "execute_result",
          "data": {
            "text/plain": [
              "[['Art in Motion', 218.6, 230.0],\n",
              " ['Bucktown', 202.4, 215.6],\n",
              " ['Irving Park', 200.3, 211.1],\n",
              " ['Prairie', 201.7, 211.8],\n",
              " ['West Belden', 201.9, 215.8]]"
            ]
          },
          "metadata": {
            "tags": []
          },
          "execution_count": 132
        }
      ]
    },
    {
      "cell_type": "code",
      "metadata": {
        "id": "CGSH6oXSBsRp",
        "colab_type": "code",
        "outputId": "a7b3ba0a-a0ad-48f8-d509-54e01c03d1fd",
        "colab": {
          "base_uri": "https://localhost:8080/",
          "height": 102
        }
      },
      "source": [
        "l1"
      ],
      "execution_count": 0,
      "outputs": [
        {
          "output_type": "execute_result",
          "data": {
            "text/plain": [
              "[[216.5, 225.6, 225.9],\n",
              " [192.7, 209.5, 211.9],\n",
              " [194.9, 204.6, 207.5],\n",
              " [194.3, 205.4, 207.6],\n",
              " [193.8, 209.9, 212.2]]"
            ]
          },
          "metadata": {
            "tags": []
          },
          "execution_count": 133
        }
      ]
    },
    {
      "cell_type": "code",
      "metadata": {
        "id": "3tS0LFwP3zO6",
        "colab_type": "code",
        "colab": {}
      },
      "source": [
        "tlr, llr, fr, cl = get_data(reading)"
      ],
      "execution_count": 0,
      "outputs": []
    },
    {
      "cell_type": "code",
      "metadata": {
        "id": "BcUt32p6ZE9r",
        "colab_type": "code",
        "outputId": "ab9b9aff-9c8f-4b81-a392-48752587c67a",
        "colab": {
          "base_uri": "https://localhost:8080/",
          "height": 557
        }
      },
      "source": [
        "bulletgraph(tlr, llr, ranges =(fr,cl), size=(14,8), subject='Reading', label_color=\"black\", target_color='black',title=\"Reading Performance\")"
      ],
      "execution_count": 37,
      "outputs": [
        {
          "output_type": "stream",
          "text": [
            "findfont: Font family ['Calibri'] not found. Falling back to DejaVu Sans.\n"
          ],
          "name": "stderr"
        },
        {
          "output_type": "display_data",
          "data": {
            "image/png": "[encoded data removed]",
            "text/plain": [
              "<Figure size 1008x576 with 5 Axes>"
            ]
          },
          "metadata": {
            "tags": []
          }
        }
      ]
    },
    {
      "cell_type": "code",
      "metadata": {
        "id": "ES09y5QlbgBE",
        "colab_type": "code",
        "outputId": "cf532389-bd97-4da1-eb7f-dd7e57f69a48",
        "colab": {
          "base_uri": "https://localhost:8080/",
          "height": 540
        }
      },
      "source": [
        "bulletgraph(t1, l1, ranges =(f1,c1), size=(14,8), subject='Math',\n",
        "            title=\"Maths Performance\")"
      ],
      "execution_count": 38,
      "outputs": [
        {
          "output_type": "display_data",
          "data": {
            "image/png": "[encoded data removed]",
            "text/plain": [
              "<Figure size 1008x576 with 5 Axes>"
            ]
          },
          "metadata": {
            "tags": []
          }
        }
      ]
    },
    {
      "cell_type": "markdown",
      "metadata": {
        "id": "cZy34Cjy8Ihb",
        "colab_type": "text"
      },
      "source": [
        "# By grade level"
      ]
    },
    {
      "cell_type": "code",
      "metadata": {
        "id": "YmAhempd8Kaw",
        "colab_type": "code",
        "colab": {}
      },
      "source": [
        "#adding as_index=False to make the groupby output into a dataframe\n",
        "grade = df.groupby(['GradeLevel','Campus',\"Discipline\"], as_index=False)[keep].mean().round(1)\n",
        "grade= grade.dropna()"
      ],
      "execution_count": 0,
      "outputs": []
    },
    {
      "cell_type": "code",
      "metadata": {
        "id": "e3AjAocN8dds",
        "colab_type": "code",
        "outputId": "b5efcfd9-b170-4de2-ec37-f34dde8d7645",
        "colab": {
          "base_uri": "https://localhost:8080/",
          "height": 204
        }
      },
      "source": [
        "gmath = grade[grade['Discipline']=='Mathematics']\n",
        "gmath = gmath.drop(columns=['Discipline'])\n",
        "gmath.head()"
      ],
      "execution_count": 40,
      "outputs": [
        {
          "output_type": "execute_result",
          "data": {
            "text/html": [
              "<div>\n",
              "<style scoped>\n",
              "    .dataframe tbody tr th:only-of-type {\n",
              "        vertical-align: middle;\n",
              "    }\n",
              "\n",
              "    .dataframe tbody tr th {\n",
              "        vertical-align: top;\n",
              "    }\n",
              "\n",
              "    .dataframe thead th {\n",
              "        text-align: right;\n",
              "    }\n",
              "</style>\n",
              "<table border=\"1\" class=\"dataframe\">\n",
              "  <thead>\n",
              "    <tr style=\"text-align: right;\">\n",
              "      <th></th>\n",
              "      <th>GradeLevel</th>\n",
              "      <th>Campus</th>\n",
              "      <th>W20RIT</th>\n",
              "      <th>S20CRTargetRIT</th>\n",
              "      <th>F19RIT</th>\n",
              "      <th>W20TargetRIT</th>\n",
              "      <th>S20TypicalTargetRIT</th>\n",
              "    </tr>\n",
              "  </thead>\n",
              "  <tbody>\n",
              "    <tr>\n",
              "      <th>0</th>\n",
              "      <td>1st</td>\n",
              "      <td>Bucktown</td>\n",
              "      <td>176.2</td>\n",
              "      <td>190.7</td>\n",
              "      <td>163.6</td>\n",
              "      <td>181.1</td>\n",
              "      <td>187.7</td>\n",
              "    </tr>\n",
              "    <tr>\n",
              "      <th>2</th>\n",
              "      <td>1st</td>\n",
              "      <td>Irving Park</td>\n",
              "      <td>172.4</td>\n",
              "      <td>185.2</td>\n",
              "      <td>163.9</td>\n",
              "      <td>174.6</td>\n",
              "      <td>182.1</td>\n",
              "    </tr>\n",
              "    <tr>\n",
              "      <th>4</th>\n",
              "      <td>1st</td>\n",
              "      <td>Prairie</td>\n",
              "      <td>180.0</td>\n",
              "      <td>192.4</td>\n",
              "      <td>169.0</td>\n",
              "      <td>183.1</td>\n",
              "      <td>189.1</td>\n",
              "    </tr>\n",
              "    <tr>\n",
              "      <th>6</th>\n",
              "      <td>1st</td>\n",
              "      <td>West Belden</td>\n",
              "      <td>175.6</td>\n",
              "      <td>188.4</td>\n",
              "      <td>161.4</td>\n",
              "      <td>178.4</td>\n",
              "      <td>185.0</td>\n",
              "    </tr>\n",
              "    <tr>\n",
              "      <th>8</th>\n",
              "      <td>2nd</td>\n",
              "      <td>Bucktown</td>\n",
              "      <td>191.0</td>\n",
              "      <td>207.1</td>\n",
              "      <td>180.1</td>\n",
              "      <td>201.5</td>\n",
              "      <td>202.9</td>\n",
              "    </tr>\n",
              "  </tbody>\n",
              "</table>\n",
              "</div>"
            ],
            "text/plain": [
              "  GradeLevel       Campus  W20RIT  ...  F19RIT  W20TargetRIT  S20TypicalTargetRIT\n",
              "0        1st     Bucktown   176.2  ...   163.6         181.1                187.7\n",
              "2        1st  Irving Park   172.4  ...   163.9         174.6                182.1\n",
              "4        1st      Prairie   180.0  ...   169.0         183.1                189.1\n",
              "6        1st  West Belden   175.6  ...   161.4         178.4                185.0\n",
              "8        2nd     Bucktown   191.0  ...   180.1         201.5                202.9\n",
              "\n",
              "[5 rows x 7 columns]"
            ]
          },
          "metadata": {
            "tags": []
          },
          "execution_count": 40
        }
      ]
    },
    {
      "cell_type": "code",
      "metadata": {
        "id": "73fuGPG98p1D",
        "colab_type": "code",
        "outputId": "60b29e2c-d8c9-491e-dcf1-a55881db4998",
        "colab": {
          "base_uri": "https://localhost:8080/",
          "height": 204
        }
      },
      "source": [
        "gread = grade[grade['Discipline']=='Reading']\n",
        "gread = gread.drop(columns=['Discipline'])\n",
        "gread.head()"
      ],
      "execution_count": 41,
      "outputs": [
        {
          "output_type": "execute_result",
          "data": {
            "text/html": [
              "<div>\n",
              "<style scoped>\n",
              "    .dataframe tbody tr th:only-of-type {\n",
              "        vertical-align: middle;\n",
              "    }\n",
              "\n",
              "    .dataframe tbody tr th {\n",
              "        vertical-align: top;\n",
              "    }\n",
              "\n",
              "    .dataframe thead th {\n",
              "        text-align: right;\n",
              "    }\n",
              "</style>\n",
              "<table border=\"1\" class=\"dataframe\">\n",
              "  <thead>\n",
              "    <tr style=\"text-align: right;\">\n",
              "      <th></th>\n",
              "      <th>GradeLevel</th>\n",
              "      <th>Campus</th>\n",
              "      <th>W20RIT</th>\n",
              "      <th>S20CRTargetRIT</th>\n",
              "      <th>F19RIT</th>\n",
              "      <th>W20TargetRIT</th>\n",
              "      <th>S20TypicalTargetRIT</th>\n",
              "    </tr>\n",
              "  </thead>\n",
              "  <tbody>\n",
              "    <tr>\n",
              "      <th>1</th>\n",
              "      <td>1st</td>\n",
              "      <td>Bucktown</td>\n",
              "      <td>171.1</td>\n",
              "      <td>184.6</td>\n",
              "      <td>161.0</td>\n",
              "      <td>175.7</td>\n",
              "      <td>182.3</td>\n",
              "    </tr>\n",
              "    <tr>\n",
              "      <th>3</th>\n",
              "      <td>1st</td>\n",
              "      <td>Irving Park</td>\n",
              "      <td>169.9</td>\n",
              "      <td>178.3</td>\n",
              "      <td>160.7</td>\n",
              "      <td>168.4</td>\n",
              "      <td>175.8</td>\n",
              "    </tr>\n",
              "    <tr>\n",
              "      <th>5</th>\n",
              "      <td>1st</td>\n",
              "      <td>Prairie</td>\n",
              "      <td>172.3</td>\n",
              "      <td>184.4</td>\n",
              "      <td>160.6</td>\n",
              "      <td>175.5</td>\n",
              "      <td>181.5</td>\n",
              "    </tr>\n",
              "    <tr>\n",
              "      <th>7</th>\n",
              "      <td>1st</td>\n",
              "      <td>West Belden</td>\n",
              "      <td>170.6</td>\n",
              "      <td>183.0</td>\n",
              "      <td>157.8</td>\n",
              "      <td>173.9</td>\n",
              "      <td>180.1</td>\n",
              "    </tr>\n",
              "    <tr>\n",
              "      <th>9</th>\n",
              "      <td>2nd</td>\n",
              "      <td>Bucktown</td>\n",
              "      <td>184.0</td>\n",
              "      <td>199.5</td>\n",
              "      <td>173.6</td>\n",
              "      <td>194.5</td>\n",
              "      <td>196.6</td>\n",
              "    </tr>\n",
              "  </tbody>\n",
              "</table>\n",
              "</div>"
            ],
            "text/plain": [
              "  GradeLevel       Campus  W20RIT  ...  F19RIT  W20TargetRIT  S20TypicalTargetRIT\n",
              "1        1st     Bucktown   171.1  ...   161.0         175.7                182.3\n",
              "3        1st  Irving Park   169.9  ...   160.7         168.4                175.8\n",
              "5        1st      Prairie   172.3  ...   160.6         175.5                181.5\n",
              "7        1st  West Belden   170.6  ...   157.8         173.9                180.1\n",
              "9        2nd     Bucktown   184.0  ...   173.6         194.5                196.6\n",
              "\n",
              "[5 rows x 7 columns]"
            ]
          },
          "metadata": {
            "tags": []
          },
          "execution_count": 41
        }
      ]
    },
    {
      "cell_type": "code",
      "metadata": {
        "id": "mQA8FSjX9ZwU",
        "colab_type": "code",
        "colab": {}
      },
      "source": [
        " def slice_data(df, sub='Reading'):\n",
        "    '''\n",
        "    get the data and limits ready for the bullet plot\n",
        "        Args:\n",
        "            df = groupbyed dataframe\n",
        "        Returns:\n",
        "            a list for text/bar/line\n",
        "            a list for background color\n",
        "            floor: a number for the plot min\n",
        "            ceiling: a number for the plot max\n",
        "\n",
        "    '''\n",
        "    #Create the text, bar and line\n",
        "    for grade in list(df.GradeLevel.unique()):\n",
        "        mni = df.loc[df['GradeLevel'] == grade]\n",
        "        mni = mni.drop(columns=['GradeLevel'])\n",
        "        tl, ll, fr, cl = get_data(mni, n=3)\n",
        "        bulletgraph(tl, ll, ranges =(fr,cl), size=(14,8), subject=sub,title=grade+\" Grade \"+ sub+\" Performance\")\n",
        "\n",
        "    return "
      ],
      "execution_count": 0,
      "outputs": []
    },
    {
      "cell_type": "code",
      "metadata": {
        "id": "eLdxeJaODqM4",
        "colab_type": "code",
        "outputId": "501c7eaf-8556-4498-83db-3ce2aeee628c",
        "colab": {
          "base_uri": "https://localhost:8080/",
          "height": 1000
        }
      },
      "source": [
        "slice_data(gmath, sub='Mathematics')"
      ],
      "execution_count": 43,
      "outputs": [
        {
          "output_type": "display_data",
          "data": {
            "image/png": "[encoded data removed]",
            "text/plain": [
              "<Figure size 1008x576 with 4 Axes>"
            ]
          },
          "metadata": {
            "tags": []
          }
        },
        {
          "output_type": "display_data",
          "data": {
            "image/png": "[encoded data removed]",
            "text/plain": [
              "<Figure size 1008x576 with 4 Axes>"
            ]
          },
          "metadata": {
            "tags": []
          }
        },
        {
          "output_type": "display_data",
          "data": {
            "image/png": "[encoded data removed]",
            "text/plain": [
              "<Figure size 1008x576 with 4 Axes>"
            ]
          },
          "metadata": {
            "tags": []
          }
        },
        {
          "output_type": "display_data",
          "data": {
            "image/png": "[encoded data removed]",
            "text/plain": [
              "<Figure size 1008x576 with 4 Axes>"
            ]
          },
          "metadata": {
            "tags": []
          }
        },
        {
          "output_type": "display_data",
          "data": {
            "image/png": "[encoded data removed]",
            "text/plain": [
              "<Figure size 1008x576 with 4 Axes>"
            ]
          },
          "metadata": {
            "tags": []
          }
        },
        {
          "output_type": "display_data",
          "data": {
            "image/png": "[encoded data removed]",
            "text/plain": [
              "<Figure size 1008x576 with 4 Axes>"
            ]
          },
          "metadata": {
            "tags": []
          }
        },
        {
          "output_type": "display_data",
          "data": {
            "image/png": "[encoded data removed]",
            "text/plain": [
              "<Figure size 1008x576 with 5 Axes>"
            ]
          },
          "metadata": {
            "tags": []
          }
        },
        {
          "output_type": "display_data",
          "data": {
            "image/png": "[encoded data removed]",
            "text/plain": [
              "<Figure size 1008x576 with 5 Axes>"
            ]
          },
          "metadata": {
            "tags": []
          }
        },
        {
          "output_type": "display_data",
          "data": {
            "image/png": "[encoded data removed]",
            "text/plain": [
              "<Figure size 1008x576 with 4 Axes>"
            ]
          },
          "metadata": {
            "tags": []
          }
        }
      ]
    },
    {
      "cell_type": "code",
      "metadata": {
        "id": "4kSwaoj49aHj",
        "colab_type": "code",
        "outputId": "c3ffcc52-05b8-4ad6-ddae-a9d90939e4fc",
        "colab": {
          "base_uri": "https://localhost:8080/",
          "height": 1000
        }
      },
      "source": [
        "slice_data(gread)"
      ],
      "execution_count": 44,
      "outputs": [
        {
          "output_type": "display_data",
          "data": {
            "image/png": "[encoded data removed]",
            "text/plain": [
              "<Figure size 1008x576 with 4 Axes>"
            ]
          },
          "metadata": {
            "tags": []
          }
        },
        {
          "output_type": "display_data",
          "data": {
            "image/png": "[encoded data removed]",
            "text/plain": [
              "<Figure size 1008x576 with 4 Axes>"
            ]
          },
          "metadata": {
            "tags": []
          }
        },
        {
          "output_type": "display_data",
          "data": {
            "image/png": "[encoded data removed]",
            "text/plain": [
              "<Figure size 1008x576 with 4 Axes>"
            ]
          },
          "metadata": {
            "tags": []
          }
        },
        {
          "output_type": "display_data",
          "data": {
            "image/png": "[encoded data removed]",
            "text/plain": [
              "<Figure size 1008x576 with 4 Axes>"
            ]
          },
          "metadata": {
            "tags": []
          }
        },
        {
          "output_type": "display_data",
          "data": {
            "image/png": "[encoded data removed]",
            "text/plain": [
              "<Figure size 1008x576 with 4 Axes>"
            ]
          },
          "metadata": {
            "tags": []
          }
        },
        {
          "output_type": "display_data",
          "data": {
            "image/png": "[encoded data removed]",
            "text/plain": [
              "<Figure size 1008x576 with 4 Axes>"
            ]
          },
          "metadata": {
            "tags": []
          }
        },
        {
          "output_type": "display_data",
          "data": {
            "image/png": "[encoded data removed]",
            "text/plain": [
              "<Figure size 1008x576 with 5 Axes>"
            ]
          },
          "metadata": {
            "tags": []
          }
        },
        {
          "output_type": "display_data",
          "data": {
            "image/png": "[encoded data removed]",
            "text/plain": [
              "<Figure size 1008x576 with 5 Axes>"
            ]
          },
          "metadata": {
            "tags": []
          }
        },
        {
          "output_type": "display_data",
          "data": {
            "image/png": "[encoded data removed]",
            "text/plain": [
              "<Figure size 1008x576 with 4 Axes>"
            ]
          },
          "metadata": {
            "tags": []
          }
        }
      ]
    },
    {
      "cell_type": "code",
      "metadata": {
        "id": "D5v4t9Sg-z66",
        "colab_type": "code",
        "colab": {}
      },
      "source": [
        ""
      ],
      "execution_count": 0,
      "outputs": []
    }
  ]
}